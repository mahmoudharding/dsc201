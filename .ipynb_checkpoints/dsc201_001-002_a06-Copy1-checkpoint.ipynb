{
 "cells": [
  {
   "cell_type": "markdown",
   "id": "44e81398-8ba7-453f-a0a8-d2b8a94eafff",
   "metadata": {},
   "source": [
    "# Assignment 06\n",
    "\n",
    "## Due: See Date in Moodle\n",
    "\n",
    "## This Week's Assignment\n",
    "\n",
    "In this week's assignment you'll be introdcued to data moves using Pandas, you'll learn how to:\n",
    "\n",
    "- group to compare summaries across categroical labels\n",
    "\n",
    "## Guidelines\n",
    "\n",
    "- Follow good programming practices by using descriptive variable names, maintaining appropriate spacing for readability, and adding comments to clarify your code.\n",
    "\n",
    "- Ensure written responses use correct spelling, complete sentences, and proper grammar.\n",
    "\n",
    "**Name:**\n",
    "\n",
    "**Section:**\n",
    "\n",
    "**Date:**\n",
    "\n",
    "Let's get started!"
   ]
  },
  {
   "cell_type": "markdown",
   "id": "f9dbb390-6aa0-454e-beda-6cdf4034437e",
   "metadata": {},
   "source": [
    "## Data Moves & Wrangling with Pandas\n",
    "\n",
    "The main goal of this assignment is to use Pandas and data moves to compare the number floors of skyscrapers across different countries. To achieve this, you will perform some data wrangling and apply grouping."
   ]
  },
  {
   "cell_type": "markdown",
   "id": "7d042af2-13e7-48b4-9b26-36648af0cb73",
   "metadata": {},
   "source": [
    "Import Pandas using the alias `pd`."
   ]
  },
  {
   "cell_type": "code",
   "execution_count": null,
   "id": "fbd1fc91-6f77-4dc1-b7a3-9c7edcc18162",
   "metadata": {
    "tags": []
   },
   "outputs": [],
   "source": [
    "... "
   ]
  },
  {
   "cell_type": "markdown",
   "id": "9f9bc559-de03-4888-97b6-290231f89a20",
   "metadata": {},
   "source": [
    "Read the `skyscrapers_world.csv` file from the `data` subfolder and save it as a `pandas` `DataFrame` named `ss`. Verify that the file was read correctly by:\n",
    "\n",
    "- Displaying the dataframe’s information (metadata)\n",
    "- Previewing the first 5 rows of the dataframe\n",
    "\n",
    "**Note:** You can accomplish all of this within a single code cell, using `print()` statements."
   ]
  },
  {
   "cell_type": "code",
   "execution_count": null,
   "id": "1d5f44a6-152e-4df2-b9a6-89dccabcaa9f",
   "metadata": {
    "tags": []
   },
   "outputs": [],
   "source": [
    "ss = ...\n",
    "\n",
    "print(f'Dataframe information\\n{\"=\" * 21}')\n",
    "print(ss.info())\n",
    "print(f'\\nFirst 5 rows of the dataframe\\n{\"=\" * 63}')\n",
    "print(ss.head())"
   ]
  },
  {
   "cell_type": "markdown",
   "id": "233c8280-cb66-4569-89d9-830d58ad992c",
   "metadata": {},
   "source": [
    "## Last Week's Class\n",
    "\n",
    "In last week’s class, we did some data wrangling by dropping a column, renaming columns, and converting the floors column from type `object` (string) to type `int` (integer). Use the code from the `week-7-lecture-notebook.ipynb` notebook to fill in the missing sections, then run the cell(s) needed to complete each of the steps listed below."
   ]
  },
  {
   "cell_type": "markdown",
   "id": "fc97153d-0f92-4d7b-9633-316e76e5e5d6",
   "metadata": {},
   "source": [
    "**Step 1.** Drop the `Unnamed: 0` column."
   ]
  },
  {
   "cell_type": "code",
   "execution_count": null,
   "id": "06dbbc03-1619-4a41-be6f-92875c9ae43a",
   "metadata": {
    "tags": []
   },
   "outputs": [],
   "source": [
    "# The .drop() method removes specified rows or columns from a dataframe\n",
    "ss = ..."
   ]
  },
  {
   "cell_type": "markdown",
   "id": "f8fae451-2130-44e0-b142-49db5fe1b762",
   "metadata": {},
   "source": [
    "**Step 2.** Covert the `status.started`,`status.completed`, and `height in meters` column names to `snake_case`."
   ]
  },
  {
   "cell_type": "code",
   "execution_count": null,
   "id": "d0907e11-71ef-4db3-8749-b73b69f7964d",
   "metadata": {
    "tags": []
   },
   "outputs": [],
   "source": [
    "# The .rename() method changes the labels of rows or columns in a dataframe\n",
    "ss = ...(\n",
    "    ... = {\n",
    "        ... : 'status_started',\n",
    "        ... : 'status_completed',\n",
    "        ... : 'height_meters'\n",
    "    }\n",
    ")"
   ]
  },
  {
   "cell_type": "markdown",
   "id": "e0406670-85bd-451a-8678-a6ec85a43e65",
   "metadata": {},
   "source": [
    "**Step 3.** Display the column names of the `ss` dataframe to confirm that **Steps 1** and **2** were completed correctly."
   ]
  },
  {
   "cell_type": "code",
   "execution_count": null,
   "id": "5b2b0eb7-9fc7-46c6-b912-0707ae5ec42a",
   "metadata": {
    "tags": []
   },
   "outputs": [],
   "source": [
    "# Verify that the column names have changed\n",
    "ss.columns"
   ]
  },
  {
   "cell_type": "markdown",
   "id": "d8cd647a-9d4e-4949-9f09-74293cb218aa",
   "metadata": {},
   "source": [
    "**Step 4.** Run the code below to find the rows where the `floors` values contain non-digit characters."
   ]
  },
  {
   "cell_type": "code",
   "execution_count": null,
   "id": "d99ad870-64f8-4922-9ca8-699ed2a8bb7a",
   "metadata": {
    "tags": []
   },
   "outputs": [],
   "source": [
    "ss.loc[[48, 61], ]"
   ]
  },
  {
   "cell_type": "markdown",
   "id": "07382560-1de6-4e27-b2ae-5c9c15e0fb83",
   "metadata": {},
   "source": [
    "**Step 5.** Update the floors values so they contain only the numeric count (e.g., change `103 floors` to `103`, and `73 (68 Above Ground and 5 Below Ground)` to `73`)."
   ]
  },
  {
   "cell_type": "code",
   "execution_count": null,
   "id": "8b124106-760a-4628-8142-75a5514af63e",
   "metadata": {
    "tags": []
   },
   "outputs": [],
   "source": [
    "# .loc[] accesses rows and columns in a dataframe by their labels.\n",
    "... = 103\n",
    "... = 73\n",
    "\n",
    "# Verify that the values have been updated\n",
    "ss.loc[[48, 61], 'floors']"
   ]
  },
  {
   "cell_type": "markdown",
   "id": "42bc8b20-9a8c-4bd2-8d2a-74fdbcb5648b",
   "metadata": {},
   "source": [
    "**Step 6.** Convert the `floors` column of the `ss` dataframe into integers."
   ]
  },
  {
   "cell_type": "code",
   "execution_count": null,
   "id": "43e7ab2a-11e5-4e41-a14b-95712bde35d6",
   "metadata": {
    "tags": []
   },
   "outputs": [],
   "source": [
    "ss['floors'] = ss['floors'].astype(int)\n",
    "\n",
    "# Verify the data type of the column has been updated\n",
    "ss.info()"
   ]
  },
  {
   "cell_type": "markdown",
   "id": "4f791937-73b7-4adc-b5c0-9a07b81400cd",
   "metadata": {},
   "source": [
    "Run the code cells below to verify that the column `floors` has been properly converted.\n",
    "\n",
    "**Note:** You should see the five-number summary and a histogram."
   ]
  },
  {
   "cell_type": "code",
   "execution_count": null,
   "id": "1400b43f-3a06-48d3-a6b7-a5843b21d314",
   "metadata": {
    "tags": []
   },
   "outputs": [],
   "source": [
    "# Display the five-number summary and the mean of the floors variable\n",
    "ss['floors'].describe()"
   ]
  },
  {
   "cell_type": "code",
   "execution_count": null,
   "id": "64cfe64d-2258-4053-88cf-07937442bff4",
   "metadata": {
    "tags": []
   },
   "outputs": [],
   "source": [
    "# Plot a histogram to visualize the distribution of the floors variable\n",
    "ss['floors'].hist(edgecolor = 'white', grid = False);"
   ]
  },
  {
   "cell_type": "markdown",
   "id": "b6475208-f147-432e-b66e-c2be03b444b3",
   "metadata": {
    "tags": []
   },
   "source": [
    "## Country Comparisons\n",
    "\n",
    "Next, we need to review the country names. Our focus will be on comparing skyscrapers in China, the United Arab Emirates (UAE), and the United States of America (USA).\n",
    "\n",
    "**Question 1.** Create a frequency table showing the number of skyscrapers in each country."
   ]
  },
  {
   "cell_type": "code",
   "execution_count": null,
   "id": "433d1404-a76a-4e94-bad3-4fc217522df3",
   "metadata": {
    "tags": []
   },
   "outputs": [],
   "source": [
    "..."
   ]
  },
  {
   "cell_type": "markdown",
   "id": "b27f7df6-2d64-423d-ab45-5085bcc3bb11",
   "metadata": {},
   "source": [
    "## Data Wrangling for Categorical Labels\n",
    "\n",
    "First, we need to correct the entry that lists New York as a country. Then, we want to standardize all labels referring to the United States of America so they use the same format—specifically, the ISO 3166-1 alpha-3 country code.\n",
    "\n",
    "**Note:** The ISO 3166-1 alpha-3 country code for the United the States of America is USA.\n",
    "\n",
    "Execute the code in the following cells to complete the steps outlined below.\n",
    "\n",
    "**Step 1.** Complete the conditional statement to find the row where `New York` is listed as a country."
   ]
  },
  {
   "cell_type": "code",
   "execution_count": null,
   "id": "bb533be5-be9d-4d5f-8578-3f6de51d432e",
   "metadata": {
    "tags": []
   },
   "outputs": [],
   "source": [
    "mask = ss['country'] == ...\n",
    "ss[mask]"
   ]
  },
  {
   "cell_type": "markdown",
   "id": "5d8a8172-95e0-421c-97e0-5b6723b77afc",
   "metadata": {},
   "source": [
    "**Step 2.** Complete the code to update the value from `New York` to `USA`."
   ]
  },
  {
   "cell_type": "code",
   "execution_count": null,
   "id": "97080737-2bd0-442c-b9e9-d99fda536dd3",
   "metadata": {},
   "outputs": [],
   "source": [
    "... = 'USA'\n",
    "\n",
    "# Verify that the value has been updated\n",
    "..."
   ]
  },
  {
   "cell_type": "markdown",
   "id": "2d9efb1b-6b91-44a9-8866-5eea63ddc8eb",
   "metadata": {},
   "source": [
    "Next, we'll update any remaining values that refer to the USA but appear under different labels. We can use the same procedure as in the previous steps. \n",
    "\n",
    "Execute the code in the following cells to complete the steps outlined below.\n",
    "\n",
    "**Step 3.** List all the unique values in the `country` column."
   ]
  },
  {
   "cell_type": "code",
   "execution_count": null,
   "id": "f5fdd73c-1330-4ef4-9c87-7014e89ebab5",
   "metadata": {
    "tags": []
   },
   "outputs": [],
   "source": [
    "ss['country'].unique()"
   ]
  },
  {
   "cell_type": "markdown",
   "id": "74fc2af3-b36a-4fa4-8d97-1198b4f1c07f",
   "metadata": {},
   "source": [
    "**Step 4.** Create a list of all the different label variations that refer to the USA.\n",
    "\n",
    "**Note:** There should be three items in your list."
   ]
  },
  {
   "cell_type": "code",
   "execution_count": null,
   "id": "34010f03-0911-4d0b-91f7-9c378e2d90e0",
   "metadata": {
    "tags": []
   },
   "outputs": [],
   "source": [
    "usa = [..., ..., ...]"
   ]
  },
  {
   "cell_type": "markdown",
   "id": "86fb1d01-052d-4381-b611-e5e31d01db7c",
   "metadata": {},
   "source": [
    "**Step 5.** Use the `.isin()` method to check whether each column value matches any of the items in the `usa` list.\n",
    "\n",
    "**Note:** The `.isin()` method in Pandas checks whether each value in a `Series` is contained in a given list (or other sequence). It returns a `Series` of `True` `False` values."
   ]
  },
  {
   "cell_type": "code",
   "execution_count": null,
   "id": "61d70ecb-9cd1-4ace-91be-3ddcb1583d27",
   "metadata": {
    "tags": []
   },
   "outputs": [],
   "source": [
    "ss['country'].isin(usa)"
   ]
  },
  {
   "cell_type": "markdown",
   "id": "cffdb067-b35d-4961-833b-bed1b80d7acf",
   "metadata": {},
   "source": [
    "**Step 6.** Run the cell below to display all rows where the country label matches any value in the `usa` list."
   ]
  },
  {
   "cell_type": "code",
   "execution_count": null,
   "id": "fd546c08-c46f-4848-a3b0-391ac81c8191",
   "metadata": {
    "tags": []
   },
   "outputs": [],
   "source": [
    "mask = ss['country'].isin(usa)\n",
    "ss[mask]"
   ]
  },
  {
   "cell_type": "markdown",
   "id": "07740495-92c2-46b7-91e8-b1e72037cd3d",
   "metadata": {},
   "source": [
    "**Step 7.** Next, we need the index values. We can retrieve them using the `.index` attribute, and then convert the returned Index object into a list with `.to_list()`. \n",
    "\n",
    "**Note:** Converting to a list is not required, but we’ll do it here since we’re already familiar with lists and have used them before."
   ]
  },
  {
   "cell_type": "code",
   "execution_count": null,
   "id": "1b30be94-69b3-43d8-83d7-70d836adc9e4",
   "metadata": {
    "tags": []
   },
   "outputs": [],
   "source": [
    "ss[mask].index.to_list()"
   ]
  },
  {
   "cell_type": "markdown",
   "id": "a12a547d-3f87-4a77-a06e-3f2462b48d22",
   "metadata": {},
   "source": [
    "**Step 8.** Finally, we can use either a `for` loop or the `.loc` attribute with the index positions to update all values that refer to the United States of America so they consistently use USA.\n",
    "\n",
    "### `for` loop\n",
    "\n",
    "```python\n",
    "# Create the Boolean mask using the .isin() method\n",
    "mask = ss['country'].isin(usa)\n",
    "\n",
    "# Create the list using the .index accessor and the .to_list() method\n",
    "usa_index = ss[mask].index.to_list()\n",
    "\n",
    "print(f\"{'Index':<5} {'Previous Value':<25} {'Updated Value':<15}\")\n",
    "print(f\"{'=' * 5} {'=' * 25} {'=' * 15}\")\n",
    "\n",
    "for i in usa_index:\n",
    "    previous_label = ss.loc[i, 'country']\n",
    "    updated_label = ss.loc[i, 'country'] = 'USA'\n",
    "    print(f\"{i:<5} {previous_label:<25} {updated_label:<15}\")\n",
    "```\n",
    "\n",
    "### `.loc` \n",
    "```python\n",
    "# Create the Boolean using the .isin() method\n",
    "mask = ss['country'].isin(usa)\n",
    "\n",
    "# Create the list using the .index accessor and the .to_list() method\n",
    "usa_index = ss[mask].index.to_list()\n",
    "\n",
    "print(f\"The country name before standardization.\")\n",
    "print(ss.loc[usa_index, 'country'])\n",
    "\n",
    "ss.loc[usa_index, 'country'] = 'USA'\n",
    "\n",
    "print(f\"\\nThe country name after standardization\")\n",
    "print(ss.loc[usa_index, 'country'])\n",
    "```\n",
    "\n",
    "**Note:** Although using `.loc` is the preferred method, we’ll use a `for` loop here to revisit and apply the concept of iteration."
   ]
  },
  {
   "cell_type": "code",
   "execution_count": null,
   "id": "d8ca11aa-4774-44db-a019-035df6db710a",
   "metadata": {
    "tags": []
   },
   "outputs": [],
   "source": [
    "usa_index = ss[mask].index.to_list()\n",
    "\n",
    "print(f\"The country name before standardization.\")\n",
    "print(ss.loc[usa_index, 'country'])\n",
    "\n",
    "ss.loc[usa_index, 'country'] = 'USA'\n",
    "\n",
    "print(f\"\\nThe country name after standardization\")\n",
    "print(ss.loc[usa_index, 'country'])"
   ]
  },
  {
   "cell_type": "markdown",
   "id": "5fd81430-2b33-4fd2-86b9-f3097f06b257",
   "metadata": {},
   "source": [
    "**Question 2.** Run the cell below to view all the unique labels. Then, in the next cell, create a list of all label variations that refer to the UAE.\n",
    "\n",
    "**Note:** There should be four items in your list."
   ]
  },
  {
   "cell_type": "code",
   "execution_count": null,
   "id": "0362f63d-73b9-4c00-ae1e-2d33736278ea",
   "metadata": {
    "tags": []
   },
   "outputs": [],
   "source": [
    "ss['country'].unique()"
   ]
  },
  {
   "cell_type": "code",
   "execution_count": null,
   "id": "a9f33598-a5f9-4354-aba7-7ca7983f9746",
   "metadata": {
    "tags": []
   },
   "outputs": [],
   "source": [
    "# Create the uae list\n",
    "uae = [..., ..., ..., ...]"
   ]
  },
  {
   "cell_type": "markdown",
   "id": "b4f00f17-388e-4eae-88bb-1d4f177caead",
   "metadata": {},
   "source": [
    "**Question 3.** Fill in the missing sections of the code below to update all values referring to the United Arab Emirates (this includes Dubai) so they consistently use the label `UAE`."
   ]
  },
  {
   "cell_type": "code",
   "execution_count": null,
   "id": "653c6236-0345-4fa8-a51c-f168115f40e9",
   "metadata": {
    "tags": []
   },
   "outputs": [],
   "source": [
    "mask = ss['country'].isin(...)\n",
    "uae_index = ...\n",
    "\n",
    "print(f\"{'Index':<5} {'Previous Value':<25} {'Updated Value':<15}\")\n",
    "print(f\"{'=' * 5} {'=' * 25} {'=' * 15}\")\n",
    "\n",
    "for ... in ...:\n",
    "    previous_label = ss.loc[..., 'country']\n",
    "    updated_label = ss.loc[..., 'country'] = 'UAE'\n",
    "    print(f\"{...:<5} {previous_label:<25} {updated_label:<15}\")"
   ]
  },
  {
   "cell_type": "markdown",
   "id": "1809400b-2954-4908-b839-3b50d8580251",
   "metadata": {},
   "source": [
    "**Question 4.** Update all values referring to the China (this includes Shenzhen) using the `.loc` accessor so they consistently use the label `CHN`."
   ]
  },
  {
   "cell_type": "code",
   "execution_count": null,
   "id": "8a507452-c741-426e-88fe-70568132fe32",
   "metadata": {
    "tags": []
   },
   "outputs": [],
   "source": [
    "#  Create the chn list\n",
    "chn = [..., ...]\n",
    "\n",
    "# Create the Boolean mask using the .isin() method\n",
    "mask = ss['country'].isin(chn)\n",
    "\n",
    "# Create the list using the .index accessor and the .to_list() method\n",
    "chn_index = ss[mask].index.to_list()\n",
    "\n",
    "print(f\"The country name before standardization.\")\n",
    "print(ss.loc[chn_index, 'country'])\n",
    "\n",
    "# Assign 'CHN' to 'country' variable in the chn_index list\n",
    "ss.loc[chn_index, 'country'] = 'CHN'\n",
    "\n",
    "print(f\"\\nThe country name after standardization\")\n",
    "print(ss.loc[chn_index, 'country'])"
   ]
  },
  {
   "cell_type": "markdown",
   "id": "0560d811-f1fe-4435-bbcd-2a0aeb4e88ca",
   "metadata": {},
   "source": [
    "**Question 5.** Run the code below to filter the `ss` dataframe so that it only includes rows for `USA`. Store the output in a new `DataFrame` object named `usa`."
   ]
  },
  {
   "cell_type": "code",
   "execution_count": null,
   "id": "b3fc2735-0f3e-4a94-b1a2-32edc0bfe85a",
   "metadata": {
    "tags": []
   },
   "outputs": [],
   "source": [
    "mask = ss['country'] == 'USA'\n",
    "usa = ss[mask]\n",
    "\n",
    "# Verify that the filter worked correctly\n",
    "print(usa['country'].unique())"
   ]
  },
  {
   "cell_type": "markdown",
   "id": "c04e91d6-d077-4cd7-b39a-189e07d45f49",
   "metadata": {},
   "source": [
    "**Question 6.** Use the code from the previous question to filter the `ss` dataframe so that it only includes rows for `UAE`. Store the output in a new `DataFrame` object named `uae`."
   ]
  },
  {
   "cell_type": "code",
   "execution_count": null,
   "id": "7f998689-c4d1-41d1-b281-79560b01422b",
   "metadata": {
    "tags": []
   },
   "outputs": [],
   "source": [
    "...\n",
    "\n",
    "# Verify that the filter worked correctly\n",
    "print(uae['country'].unique())"
   ]
  },
  {
   "cell_type": "markdown",
   "id": "2be39837-e5d0-4f60-a338-0bafb4c18e0e",
   "metadata": {},
   "source": [
    "**Question 7.** Use the code from the previous question to filter the `ss` dataframe so that it only includes rows for `CHN`. Store the output in a new `DataFrame` object named `uae`."
   ]
  },
  {
   "cell_type": "code",
   "execution_count": null,
   "id": "12f359e1-98f3-4ef5-9b9c-853e49a9c014",
   "metadata": {
    "tags": []
   },
   "outputs": [],
   "source": [
    "...\n",
    "\n",
    "# Verify that the filter worked correctly\n",
    "print(chn['country'].unique())"
   ]
  },
  {
   "cell_type": "markdown",
   "id": "4e9e383f-5530-42ad-9b36-624fd87cb9e7",
   "metadata": {},
   "source": [
    "**Question 8.** Fill in the missing sections to display the five-number summary of the `floors` variable for skyscrapers located in the USA, UAE, and CHN.\n",
    "\n",
    "**Note:** You can accomplish all of this within a single code cell, using `print()` statements."
   ]
  },
  {
   "cell_type": "code",
   "execution_count": null,
   "id": "30329825-e215-4095-8095-2ae8bdc3f409",
   "metadata": {
    "tags": []
   },
   "outputs": [],
   "source": [
    "print(f'The five-number summary for the USA\\n{\"=\" * 35}')\n",
    "\n",
    "# Print the five-number summary for the USA\n",
    "print(...)\n",
    "\n",
    "# Print the five-number summary for the UAE\n",
    "print(f'\\nThe five-number summary for the UAE\\n{\"=\" * 35}')\n",
    "print(...)\n",
    "\n",
    "# Print the five-number summary for CHN\n",
    "print(f'\\nThe five-number summary for China\\n{\"=\" * 33}')\n",
    "print(...)"
   ]
  },
  {
   "cell_type": "markdown",
   "id": "cc2c88b9-fb40-468b-acf4-e4325bb0c52e",
   "metadata": {},
   "source": [
    "## Grouping\n",
    "\n",
    "With consistent country labels, we can now analyze each country separately or use `.groupby()` to compare them directly. The `.groupby()` method groups observations by label, allowing us to aggregate the data and calculate measures like the five-number summary or other statistics.\""
   ]
  },
  {
   "cell_type": "markdown",
   "id": "f8a2e2e2-2d28-45de-826b-57a85bd4acca",
   "metadata": {},
   "source": [
    "**Question 9.** Create a list named `usa_uae_chn` that stores the country labels for `USA`, `UAE`, and `CHN` as strings."
   ]
  },
  {
   "cell_type": "code",
   "execution_count": null,
   "id": "2123e8f2-8fda-4261-8f42-338f0eac893c",
   "metadata": {
    "tags": []
   },
   "outputs": [],
   "source": [
    "usa_uae_chn = [..., ..., ...]"
   ]
  },
  {
   "cell_type": "markdown",
   "id": "f6678fc4-8ce1-421b-891e-e2a6d7a7d8f9",
   "metadata": {},
   "source": [
    "**Question 10.** Complete the code cell below, then run it to see how we can combine methods like `.isin()` and `.groupby()` to group the data for USA, UAE, and CHN, and display their five-number summary of the `floors` variable in a single output.\n",
    "\n",
    "**Note:** The `.reset_index()` method resets the DataFrame’s index back to the default (0, 1, 2, …). To see what the output looks like **without using** `.reset_index()`, insert a new code cell, copy and paste the command below, then run it.\n",
    "\n",
    "```python\n",
    "mask = ss['country'].isin(usa_uae_chn)\n",
    "ss[mask].groupby('country')['floors'].describe()\n",
    "``` \n",
    "\n",
    "The output will look like this:\n",
    "\n",
    "|           | count | mean      | std       | min  | 25%  | 50%  | 75%   | max   |\n",
    "|-----------|-------|-----------|-----------|------|------|------|-------|-------|\n",
    "|**country**|       |           |           |      |      |      |       |       |\n",
    "|**CHN**    | 51.0  | 81.313725 | 15.556979 | 60.0 | 70.5 | 77.0 | 88.00 | 128.0 |\n",
    "|**UAE**    | 16.0  | 86.687500 | 23.742279 | 54.0 | 74.5 | 84.0 | 88.75 | 163.0 |\n",
    "|**USA**    | 15.0  | 86.066667 | 16.786332 | 59.0 | 72.5 | 88.0 | 100.0 | 110.0 |"
   ]
  },
  {
   "cell_type": "code",
   "execution_count": null,
   "id": "6f2f2484-343e-4bb0-bcf7-415191fb5d92",
   "metadata": {
    "tags": []
   },
   "outputs": [],
   "source": [
    "# Create a Boolean mask for usa_uae_chn\n",
    "mask = ...\n",
    "\n",
    "# Filter the ss dataframe using a Boolean mask, groupby country, select the floors column, \n",
    "# use the describe method to generate the five-number summary, and reset the index\n",
    "..."
   ]
  },
  {
   "cell_type": "markdown",
   "id": "d6341fe8-d48a-4fe0-acd9-0280b682ec57",
   "metadata": {},
   "source": [
    "Verify that the output from the previous code cell looks like this:\n",
    "    \n",
    "|     | **country**|**count**|**mean**|**std**|**min**|**25%**|**50%**|**75%**|**max**|\n",
    "|:----|:-----------|--------:|-------:|------:|------:|------:|------:|------:|------:|\n",
    "|**0**| CHN| 51.0  | 81.313725 | 15.556979 | 60.0 | 70.5 | 77.0 | 88.00  | 128.0 |\n",
    "|**1**| UA | 16.0  | 86.687500 | 23.742279 | 54.0 | 74.5 | 84.0 | 88.75  | 163.0 |\n",
    "|**2**| USA| 15.0  | 86.066667 | 16.786332 | 59.0 | 72.5 | 88.0 | 100.00 | 110.0 |"
   ]
  },
  {
   "cell_type": "markdown",
   "id": "ff94f0b7-168a-4f54-ae22-171e130ac384",
   "metadata": {},
   "source": [
    "## Communicating the Results\n",
    "\n",
    "Before submitting, review the output from the previous cell and imagine how you would present it at a conference if this table were on a slide. Consider how you would guide the audience’s attention to the most important points. What insights do you want them to notice, and how would you highlight them? Think about the story the data is telling and how to frame it clearly and concisely. Finally, picture yourself giving this presentation in under five minutes, focusing on clarity, key takeaways, and impact."
   ]
  },
  {
   "cell_type": "markdown",
   "id": "f7f2fb35-e43c-4d11-9320-804fe1cb76d9",
   "metadata": {},
   "source": [
    "## Submission\n",
    "\n",
    "Make sure that all cells in your assignment have been executed to display all output, images, and graphs in the final document.\n",
    "\n",
    "**Note:** Save the assignment before proceeding to download the file.\n",
    "\n",
    "After downloading, locate the `.ipynb` file and upload **only** this file to Moodle. The assignment will be automatically submitted to Gradescope for grading."
   ]
  }
 ],
 "metadata": {
  "kernelspec": {
   "display_name": "Python 3 (ipykernel)",
   "language": "python",
   "name": "python3"
  },
  "language_info": {
   "codemirror_mode": {
    "name": "ipython",
    "version": 3
   },
   "file_extension": ".py",
   "mimetype": "text/x-python",
   "name": "python",
   "nbconvert_exporter": "python",
   "pygments_lexer": "ipython3",
   "version": "3.10.11"
  }
 },
 "nbformat": 4,
 "nbformat_minor": 5
}
