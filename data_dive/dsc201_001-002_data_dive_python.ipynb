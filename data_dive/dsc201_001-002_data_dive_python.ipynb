{
 "cells": [
  {
   "cell_type": "markdown",
   "id": "0e1756d6-d012-4788-a9a0-4848b5184843",
   "metadata": {},
   "source": [
    "# Data Dive Using Python\n",
    "\n",
    "## Due: See Date in Moodle\n",
    "\n",
    "## Guidelines\n",
    "\n",
    "- Follow good programming practices by using descriptive variable names, maintaining appropriate spacing for readability, and adding comments to clarify your code.\n",
    "\n",
    "- Ensure written responses use correct spelling, complete sentences, and proper grammar.\n",
    "\n",
    "**Name:**\n",
    "\n",
    "**Section:**\n",
    "\n",
    "**Date:**"
   ]
  },
  {
   "cell_type": "markdown",
   "id": "f89c5ff0-cbfd-429d-90b0-ca735b28e611",
   "metadata": {},
   "source": [
    "## Step 2: Load Necessary Packages"
   ]
  },
  {
   "cell_type": "code",
   "execution_count": null,
   "id": "b263393a-1377-4993-bcb6-a4bcc8c877fa",
   "metadata": {},
   "outputs": [],
   "source": [
    "## YOUR CODE GOES HERE"
   ]
  },
  {
   "cell_type": "markdown",
   "id": "89acbdae-3096-4e34-a2ce-d83a75e4249f",
   "metadata": {},
   "source": [
    "## Step 3: Load the Dataset"
   ]
  },
  {
   "cell_type": "code",
   "execution_count": 1,
   "id": "779976b5-c116-4ecd-bee0-a8f2b10d4c6d",
   "metadata": {
    "tags": []
   },
   "outputs": [],
   "source": [
    "## YOUR CODE GOES HERE"
   ]
  },
  {
   "cell_type": "markdown",
   "id": "cb041185-211f-48f2-b555-d30ef7fa524c",
   "metadata": {},
   "source": [
    "## Step 4: Inspect the Data\n",
    "\n",
    "**Question 3.** What are the dimensions of the dataset?"
   ]
  },
  {
   "cell_type": "code",
   "execution_count": 1,
   "id": "28d3b780-3c0f-4449-942f-20597a440add",
   "metadata": {
    "tags": []
   },
   "outputs": [],
   "source": [
    "## YOUR CODE GOES HERE"
   ]
  },
  {
   "cell_type": "markdown",
   "id": "7e2f0cc8-7710-4dc9-bf8c-7eedfc3cd2f5",
   "metadata": {},
   "source": [
    "**Question 4.** Are there values stored as strings that should be numeric?"
   ]
  },
  {
   "cell_type": "code",
   "execution_count": 1,
   "id": "b82cc981-946a-40e5-b8e5-1b272042eee9",
   "metadata": {
    "tags": []
   },
   "outputs": [],
   "source": [
    "## YOUR CODE GOES HERE"
   ]
  },
  {
   "cell_type": "markdown",
   "id": "190fb7c8-70b0-498e-827e-656bc1dea626",
   "metadata": {},
   "source": [
    "**Question 5.** Are all the column names labeled in `snake_case`?"
   ]
  },
  {
   "cell_type": "code",
   "execution_count": 1,
   "id": "eda8f875-2440-483d-8efa-9b2ed098ab63",
   "metadata": {
    "tags": []
   },
   "outputs": [],
   "source": [
    "## YOUR CODE GOES HERE"
   ]
  },
  {
   "cell_type": "markdown",
   "id": "cd5da336-4fd0-4b94-82fa-d80c351eabe2",
   "metadata": {},
   "source": [
    "**Question 6.** Finally, write a brief paragraph summarizing your findings from Questions 3 to 5."
   ]
  },
  {
   "cell_type": "markdown",
   "id": "c5c12f94-e3e3-4e05-967a-906298c807d2",
   "metadata": {},
   "source": [
    "_TYPE YOUR ANSWER HERE REPLACING THIS TEXT_"
   ]
  },
  {
   "cell_type": "markdown",
   "id": "1538e5fb-6ad3-4be5-80e3-0d7aa6bf4465",
   "metadata": {},
   "source": [
    "## Step 5: Select Key Variables for Analysis\n",
    "\n",
    "**Question 7.** Write a brief paragraph responding to the following:\n",
    "\n",
    "- What is the unit of observation of your dataset?\n",
    "\n",
    "- Which variables did you select? Provide the name, description, and data type for each.\n",
    "\n",
    "- Why did you select these variables? \n",
    "\n",
    "- What patterns, trends, or relationships do you expect to discover from analyzing these variables? Consider how they might interact and what meaningful information they could reveal."
   ]
  },
  {
   "cell_type": "markdown",
   "id": "901685e8-eb5f-4416-9521-e45c19857633",
   "metadata": {},
   "source": [
    "_TYPE YOUR ANSWER HERE REPLACING THIS TEXT_"
   ]
  },
  {
   "cell_type": "markdown",
   "id": "8509ac5f-8a07-457e-a6ec-bc78d2e1ab41",
   "metadata": {},
   "source": [
    "## Step 6: Select the Columns for Analysis\n",
    "\n",
    "**Question 8.** Use bracket notation or the `.loc[]` method to extract the identified columns and store the result in a new `DataFrame` named `df`."
   ]
  },
  {
   "cell_type": "code",
   "execution_count": 2,
   "id": "efd5ac59-d550-4ab2-a855-76c805a013d9",
   "metadata": {
    "tags": []
   },
   "outputs": [],
   "source": [
    "## YOUR CODE GOES HERE"
   ]
  },
  {
   "cell_type": "markdown",
   "id": "3ae7e3a8-d0c7-4e5d-8f2d-a9ff9868ad06",
   "metadata": {},
   "source": [
    "## Step 7: Rename Columns\n",
    "\n",
    "**Question 9.** For the selected columns, rename any that do not follow the `snake_case` naming convention."
   ]
  },
  {
   "cell_type": "code",
   "execution_count": 3,
   "id": "09794a94-7ffe-428b-a182-f90777b40414",
   "metadata": {
    "tags": []
   },
   "outputs": [],
   "source": [
    "## YOUR CODE GOES HERE"
   ]
  },
  {
   "cell_type": "markdown",
   "id": "aa5c79d6-7d56-4e77-9106-ac9222c45be4",
   "metadata": {},
   "source": [
    "## Step 8: Analyze Key Variables\n",
    "\n",
    "### Numerical Data\n",
    "\n",
    "**Question 10.** Use the `.describe()` method to examine the distribution of values in the selected numerical columns."
   ]
  },
  {
   "cell_type": "code",
   "execution_count": 3,
   "id": "aaea4588-666b-4373-aba5-ffeb57e59dd0",
   "metadata": {
    "tags": []
   },
   "outputs": [],
   "source": [
    "## YOUR CODE GOES HERE"
   ]
  },
  {
   "cell_type": "markdown",
   "id": "8e8a9eb0-75ed-4b75-b1cf-666c99d3308d",
   "metadata": {},
   "source": [
    "**Question 11.**  After summarizing the selected numerical variables, write a brief paragraph interpreting the results. Include:\n",
    "\n",
    "- Whether the minimum and maximum values seem reasonable or appear to be outliers.\n",
    "\n",
    "- How does the range and spread of your data values influence your analysis?  Consider whether most values are close together or far apart, if there are any extreme values (outliers), and if the data is evenly distributed or skewed to one side."
   ]
  },
  {
   "cell_type": "markdown",
   "id": "9cd9a45c-3559-43c9-81a7-7599e6454a81",
   "metadata": {},
   "source": [
    "_TYPE YOUR ANSWER HERE REPLACING THIS TEXT_"
   ]
  },
  {
   "cell_type": "markdown",
   "id": "3e9b26f6-83f5-4062-b921-6e90305ba204",
   "metadata": {},
   "source": [
    "### Categorical Data\n",
    "\n",
    "**Question 12.** Use the `value_counts` function with the `dropna=False` argument to examine the distribution of values in the selected categorical column, ensuring that missing values (`NaN`) are included. Then, analyze the proportions of each category, including `NaN`, by using the `normalize = True` and `dropna = False` arguments within `value_counts`."
   ]
  },
  {
   "cell_type": "code",
   "execution_count": 1,
   "id": "7879c07e-e97b-4edc-9646-131345095cc1",
   "metadata": {
    "tags": []
   },
   "outputs": [],
   "source": [
    "## YOUR CODE GOES HERE"
   ]
  },
  {
   "cell_type": "markdown",
   "id": "f182d248-f9a9-48df-ae42-4264ed0d22a9",
   "metadata": {},
   "source": [
    "**Question 13.** After summarizing the categorical variable, write a brief paragraph interpreting the results. Include:\n",
    "\n",
    "- The frequency of each category and their relative proportions.\n",
    "\n",
    "- Whether certain categories dominate the dataset.\n",
    "\n",
    "- How the number of times each category appears in your data might affect your analysis. If some categories are much more common than others, they could have a bigger influence on your results.\n",
    "\n",
    "- The number of missing values (if any)."
   ]
  },
  {
   "cell_type": "markdown",
   "id": "5ce24961-aff0-4520-b760-9cee2d60dea1",
   "metadata": {},
   "source": [
    "_TYPE YOUR ANSWER HERE REPLACING THIS TEXT_"
   ]
  },
  {
   "cell_type": "markdown",
   "id": "e6ce7da4-cb38-4d23-a36d-ee42e20262da",
   "metadata": {},
   "source": [
    "**Question 14.** Check for missing values in the variables you selected for this data dive from **Question 7**. Use `pandas` methods or other programming techniques to identify and count the number of missing values in each selected variable. In the [Data Dive in Python: A Step-by-Step Guide](https://docs.google.com/document/d/1Y-lVEA9FgsPzmYBQZNnxOin443s3KdC9R1JgKiox2ug/edit?tab=t.0#heading=h.vg8ket3l3ug5) there is a table outlining some methods for checking missing values in specific columns using the `.isna()` method. The `.isna()` method identifies missing values `(NaN)` in a `DataFrame` or `Series`, returning a boolean mask where True indicates a missing value. When combined with `.sum()`, it provides a count of missing values per column.\n",
    "\n",
    "Then, write a brief paragraph reflecting on your plans for further analysis based on the missing values in the variables you selected. Include:\n",
    "\n",
    "- Whether you will retain or exclude the selected variables with missing data in your final project.\n",
    "\n",
    "- Any concerns about how missing data might affect your results."
   ]
  },
  {
   "cell_type": "markdown",
   "id": "b8cb93be-900f-4844-acc5-9f27e8dddd5a",
   "metadata": {},
   "source": [
    "_TYPE YOUR ANSWER HERE REPLACING THIS TEXT_"
   ]
  },
  {
   "cell_type": "markdown",
   "id": "b64975cb-105e-4bb3-b6f9-5d7a143b7a14",
   "metadata": {},
   "source": [
    "## Step 9: Perform Data Moves\n",
    "\n",
    "### Sort\n",
    "\n",
    "**Question 15.** Sort the data in ascending and descending order based on the selected numerical variable."
   ]
  },
  {
   "cell_type": "code",
   "execution_count": 2,
   "id": "70f56fb3-82ab-4d45-9ce2-b0b3c462bf99",
   "metadata": {
    "tags": []
   },
   "outputs": [],
   "source": [
    "## YOUR CODE GOES HERE"
   ]
  },
  {
   "cell_type": "markdown",
   "id": "d214b2d6-a126-4e4d-a9b5-08337baf7caa",
   "metadata": {},
   "source": [
    "**Question 16.** Filter the dataset based on a numerical condition and a categorical condition separately. For example, select rows where a numerical variable is less than or equal to a given value, or select rows where a categorical variable matches a specific category."
   ]
  },
  {
   "cell_type": "code",
   "execution_count": null,
   "id": "741f65fd-79ca-47d7-a4e2-865115327230",
   "metadata": {},
   "outputs": [],
   "source": [
    "## YOUR CODE GOES HERE"
   ]
  },
  {
   "cell_type": "markdown",
   "id": "59325284-0054-470d-aacf-a11a97d70bbd",
   "metadata": {},
   "source": [
    "**Question 17.** Filter the dataset using `AND` to include only rows that meet both a numerical and categorical condition. For example, select rows where a numerical variable is not equal to a specific value and the categorical variable belongs to a particular category."
   ]
  },
  {
   "cell_type": "code",
   "execution_count": null,
   "id": "44815e20-632c-430a-b99c-7e928915a6aa",
   "metadata": {},
   "outputs": [],
   "source": [
    "## YOUR CODE GOES HERE"
   ]
  },
  {
   "cell_type": "markdown",
   "id": "fad44c0b-c0b6-46f2-99c8-ca704e39cb76",
   "metadata": {},
   "source": [
    "**Question 18.** Filter the dataset using `OR` to include rows that meet at least one of two conditions.For example, select rows where a numerical variable is less than a specific value or the categorical variable does not belong to a particular category.\n",
    "\n",
    "After completing the data filtering process, consider the following programming techniques for further exploration:\n",
    "\n",
    "- Use `.describe()` for numerical summaries to check if numerical values remain consistent when filtering by category.\n",
    "\n",
    "- Use `.value_counts()` for categorical summaries to examine whether categorical distributions change when filtering by numerical conditions.\n",
    "\n",
    "- Assess the number of remaining observations by checking attributes like `.shape` or using methods like `.info()` to determine how much data remains after filtering."
   ]
  },
  {
   "cell_type": "code",
   "execution_count": null,
   "id": "ba81691f-ad37-42d6-8899-41c8e03322a5",
   "metadata": {},
   "outputs": [],
   "source": [
    "## YOUR CODE GOES HERE"
   ]
  },
  {
   "cell_type": "markdown",
   "id": "e0854ae1-56bd-455a-9482-a9787cc589e0",
   "metadata": {},
   "source": [
    "When interpreting your results and writing your summary for this section, consider the following:\n",
    "\n",
    "- Compare the numerical and categorical distributions of the filtered subset to the original dataset, noting any significant differences.\n",
    "\n",
    "- Assess whether filtering has meaningfully altered the dataset and if the subset still contains enough observations for valid analysis.\n",
    "\n",
    "- Clearly justify the need for filtering, specifying the criteria used and documenting any assumptions made."
   ]
  },
  {
   "cell_type": "markdown",
   "id": "4c123021-7481-44f1-a1dd-a7f3ec8da323",
   "metadata": {},
   "source": [
    "_TYPE YOUR ANSWER HERE REPLACING THIS TEXT_"
   ]
  },
  {
   "cell_type": "markdown",
   "id": "139a6d27-8291-4fbd-8f4c-18bf3352e2da",
   "metadata": {},
   "source": [
    "### Group and Caluculate\n",
    "\n",
    "**Question 19.** Use `.groupby()` with `.agg()` to compute summary statistics based on the selected categorical and numerical columns. \n",
    "\n",
    "The `.agg()` method in pandas is used to apply a single function or multiple aggregation functions to one or more columns in a `DataFrame`. In the [Data Dive in Python: A Step-by-Step Guide](https://docs.google.com/document/d/1Y-lVEA9FgsPzmYBQZNnxOin443s3KdC9R1JgKiox2ug/edit?tab=t.0#heading=h.vg8ket3l3ug5) there are some examples of how you can use the `.agg()` method with `.groupby()` in `pandas`."
   ]
  },
  {
   "cell_type": "code",
   "execution_count": null,
   "id": "b6970ac5-ce5e-419b-a6d9-6724ab53ec77",
   "metadata": {},
   "outputs": [],
   "source": [
    "## YOUR CODE GOES HERE"
   ]
  },
  {
   "cell_type": "markdown",
   "id": "770af02c-31dc-41e1-9b2e-758011bc5c8a",
   "metadata": {},
   "source": [
    "### Create a New Variable\n",
    "\n",
    "**Question 20.** Create a new categorical variable based on a numerical column using `numpy.where()`, then use `.value_counts()` to summarize its distribution. In the [Data Dive in Python: A Step-by-Step Guide](https://docs.google.com/document/d/1Y-lVEA9FgsPzmYBQZNnxOin443s3KdC9R1JgKiox2ug/edit?tab=t.0#heading=h.vg8ket3l3ug5) there are some examples of how you can use the `numpy.where()` function in pandas to create categorical variables based on numerical columns.\n",
    "\n",
    "**Note:** Calling `numpy.where` is the longer syntax. The preferred approach is to use the alias `np.where` for a more concise and readable implementation.\n",
    "\n",
    "While each example in the [Data Dive in Python: A Step-by-Step Guide](https://docs.google.com/document/d/1Y-lVEA9FgsPzmYBQZNnxOin443s3KdC9R1JgKiox2ug/edit?tab=t.0#heading=h.vg8ket3l3ug5) does an import of `NumPy`, it should be imported at the beginning of the notebook in a single code cell to ensure consistency, improve readability, and prevent redundant imports throughout the notebook.\n"
   ]
  },
  {
   "cell_type": "code",
   "execution_count": 3,
   "id": "e34c2117-8c93-4693-bee9-63692cc06e9f",
   "metadata": {
    "tags": []
   },
   "outputs": [],
   "source": [
    "## YOUR CODE GOES HERE"
   ]
  },
  {
   "cell_type": "markdown",
   "id": "90a88870-d515-481c-b059-b213dacba35b",
   "metadata": {},
   "source": [
    "_TYPE YOUR ANSWER HERE REPLACING THIS TEXT_"
   ]
  }
 ],
 "metadata": {
  "kernelspec": {
   "display_name": "Python 3 (ipykernel)",
   "language": "python",
   "name": "python3"
  },
  "language_info": {
   "codemirror_mode": {
    "name": "ipython",
    "version": 3
   },
   "file_extension": ".py",
   "mimetype": "text/x-python",
   "name": "python",
   "nbconvert_exporter": "python",
   "pygments_lexer": "ipython3",
   "version": "3.10.11"
  }
 },
 "nbformat": 4,
 "nbformat_minor": 5
}
