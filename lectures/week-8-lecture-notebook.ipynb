{
 "cells": [
  {
   "cell_type": "markdown",
   "id": "aa33cde2-5a52-4ab5-a2ea-04576bc567c9",
   "metadata": {},
   "source": [
    "## Week 8 Lecture `.ipynb` File\n",
    "\n",
    "#### Author: Mahmoud Harding\n",
    "\n",
    "## Python Basics\n",
    "\n",
    "### Built-in Functions\n",
    "\n",
    "- A function that is already available in a programming language/application that can be accessed by end users.\n",
    "\n",
    "- Returns some value based on its arguments.\n",
    "\n",
    "- `print`, `abs`, `max`, `min`, `pow`, `round`, etc."
   ]
  },
  {
   "cell_type": "code",
   "execution_count": null,
   "id": "b7f39131-d4e4-45e5-bc74-a349a820725f",
   "metadata": {},
   "outputs": [],
   "source": [
    "abs(-3)"
   ]
  },
  {
   "cell_type": "code",
   "execution_count": null,
   "id": "636464c5-484c-4b43-b317-f9d5426a85ee",
   "metadata": {},
   "outputs": [],
   "source": [
    "abs(2-5)"
   ]
  },
  {
   "cell_type": "code",
   "execution_count": null,
   "id": "9b182dc0-21ef-4b3e-a576-422aebc044bc",
   "metadata": {},
   "outputs": [],
   "source": [
    "print(3, 10 ** 2, 100.1)"
   ]
  },
  {
   "cell_type": "code",
   "execution_count": null,
   "id": "75d9f9b4-e43f-46e2-9006-047f35419c48",
   "metadata": {},
   "outputs": [],
   "source": [
    "max(3, 10 ** 2, 100.1)"
   ]
  },
  {
   "cell_type": "markdown",
   "id": "87a330eb-4532-4c1f-b46a-96f7874e1b33",
   "metadata": {},
   "source": [
    "## Nesting Functions"
   ]
  },
  {
   "cell_type": "code",
   "execution_count": null,
   "id": "5081e477-b96e-4ceb-8cdc-deb793f78609",
   "metadata": {
    "tags": []
   },
   "outputs": [],
   "source": [
    "round(abs(1.6002-1.688), 4)"
   ]
  },
  {
   "cell_type": "code",
   "execution_count": null,
   "id": "0a6ad24b-3a2a-46e6-9250-fdeea531d095",
   "metadata": {
    "tags": []
   },
   "outputs": [],
   "source": [
    "1.6002-1.688"
   ]
  },
  {
   "cell_type": "code",
   "execution_count": null,
   "id": "f3ed52bb-50b0-4503-afb8-a03bdce53fe5",
   "metadata": {
    "tags": []
   },
   "outputs": [],
   "source": [
    "abs(1.6002-1.688)"
   ]
  },
  {
   "cell_type": "code",
   "execution_count": null,
   "id": "c873160a-0274-467d-927c-403d859e36cd",
   "metadata": {
    "tags": []
   },
   "outputs": [],
   "source": [
    "round(abs(1.6002-1.688), 4)"
   ]
  },
  {
   "cell_type": "markdown",
   "id": "091b108a-b357-4663-9581-baedfdb2134c",
   "metadata": {
    "tags": []
   },
   "source": [
    "## Pandas\n",
    "\n",
    "Pandas is an open source Python package that is most widely used for data science/data analysis and machine learning tasks. It is built on top of another library named `Numpy`, which provides support for arrays. Since we know how to perform operations on `NumPy` arrays we can operate on columns in a `pandas` dataframe. \n",
    "\n",
    "Pandas is a fast, powerful, flexible and (sometimes) easy to use open source data analysis and manipulation tool. Click the `Cheat Sheet` below to access the Data Wrangling with `pandas` [Cheat Sheet](https://pandas.pydata.org/Pandas_Cheat_Sheet.pdf)."
   ]
  },
  {
   "cell_type": "code",
   "execution_count": null,
   "id": "68ae37f1-29a0-4c9e-8147-4cc06871ba34",
   "metadata": {
    "tags": []
   },
   "outputs": [],
   "source": [
    "## Import the pandas library with the alias pd\n",
    "..."
   ]
  },
  {
   "cell_type": "code",
   "execution_count": null,
   "id": "0d5aafe4-d0cc-490e-a0a3-8b1deca7094c",
   "metadata": {
    "tags": []
   },
   "outputs": [],
   "source": [
    "## Read the CSV file skyscrapers.csv from the data directory \n",
    "## and store the data in a DataFrame named ss (i.e., skyscrapers)\n",
    "ss = ..."
   ]
  },
  {
   "cell_type": "markdown",
   "id": "f353c472-c1fa-4067-9abf-7eb707be552d",
   "metadata": {},
   "source": [
    "**Example 1.** Display the first 5 rows of the `ss` dataframe."
   ]
  },
  {
   "cell_type": "code",
   "execution_count": null,
   "id": "d525c7d8-ed49-4131-aea1-0a2559707615",
   "metadata": {
    "tags": []
   },
   "outputs": [],
   "source": [
    "ss.head()"
   ]
  },
  {
   "cell_type": "markdown",
   "id": "023393d2-7ec9-4bf9-91c4-f4b9de8aa1a0",
   "metadata": {},
   "source": [
    "### Common `pandas` `DataFrame` Methods\n",
    "\n",
    "- `.head()`\n",
    "- `.info()`\n",
    "- `.describe()`\n",
    "- `.sample()`"
   ]
  },
  {
   "cell_type": "markdown",
   "id": "b0281890-6493-4a7a-9baa-d0eac2cbd773",
   "metadata": {},
   "source": [
    "Apply the following methods to the `skyscrapers` `DataFrame` in the examples below.\n",
    "\n",
    "**Example 2.** `.info()`"
   ]
  },
  {
   "cell_type": "code",
   "execution_count": null,
   "id": "c08590a1-44ed-4204-82f4-ca68cdef6e5d",
   "metadata": {
    "tags": []
   },
   "outputs": [],
   "source": [
    "## Display a concise summary of the ss DataFrame, \n",
    "## including the index, column names, non-null counts, \n",
    "## and data types for each column\n",
    "ss.info()"
   ]
  },
  {
   "cell_type": "markdown",
   "id": "4a46c3ae-24ab-4ac2-a918-fca26099e449",
   "metadata": {},
   "source": [
    "**Example 3.** `.describe()`"
   ]
  },
  {
   "cell_type": "code",
   "execution_count": null,
   "id": "a0aa712b-ea86-411c-aa6c-4c763c99af74",
   "metadata": {
    "tags": []
   },
   "outputs": [],
   "source": [
    "## Generate descriptive statistics for the numerical columns in \n",
    "## the ss DataFrame, including count, mean, standard deviation, \n",
    "## minimum, quartiles, and maximum values\n",
    "ss.describe()"
   ]
  },
  {
   "cell_type": "markdown",
   "id": "02ee167b-a562-4b0b-99bc-ad6fdfbc341c",
   "metadata": {},
   "source": [
    "**Example 4.** `.sample()`"
   ]
  },
  {
   "cell_type": "code",
   "execution_count": null,
   "id": "b5226b6f-34f4-4096-9215-01908ec99445",
   "metadata": {},
   "outputs": [],
   "source": [
    "## Return a random sample of rows from the ss DataFrame.\n",
    "## By default, it returns one row, but the number of rows can \n",
    "## be specified as an argument.\n",
    "ss.sample()"
   ]
  },
  {
   "cell_type": "code",
   "execution_count": null,
   "id": "b14ea5b2-02d4-4cca-a97d-fcda8933ab06",
   "metadata": {},
   "outputs": [],
   "source": [
    "## Return a random sample of rows from the ss DataFrame.\n",
    "## By default, it returns one row, but the number of rows can \n",
    "## be specified as an argument.\n",
    "ss.sample(5)"
   ]
  },
  {
   "cell_type": "markdown",
   "id": "0b5c2eea-50c1-452d-bbb2-a589a0fbebfc",
   "metadata": {},
   "source": [
    "### Accessing `pandas` `DataFrame` Attriubtes\n",
    "\n",
    "- `.shape`\n",
    "- `.columns`"
   ]
  },
  {
   "cell_type": "markdown",
   "id": "e7eed532-97d9-4294-86cb-e60ca81bafac",
   "metadata": {},
   "source": [
    "**Example 5.** `.shape`"
   ]
  },
  {
   "cell_type": "code",
   "execution_count": null,
   "id": "b592f6ca-c0d9-40c4-8d2d-e6c7f9fb39ad",
   "metadata": {
    "tags": []
   },
   "outputs": [],
   "source": [
    "## Return the dimensions of the ss DataFrame as \n",
    "## a tuple (number of rows, number of columns)\n",
    "ss.shape"
   ]
  },
  {
   "cell_type": "markdown",
   "id": "1d9f02f4-a87a-4711-8bc2-bf31013efbe2",
   "metadata": {},
   "source": [
    "**Example 6.** `.columns\n",
    "`"
   ]
  },
  {
   "cell_type": "code",
   "execution_count": null,
   "id": "a0526e59-6c4e-4433-8208-ae7347c99fb0",
   "metadata": {
    "tags": []
   },
   "outputs": [],
   "source": [
    "## Return the list of column names in the ss DataFrame\n",
    "ss.columns"
   ]
  },
  {
   "cell_type": "markdown",
   "id": "8cfa2900-7e61-414e-975d-609d15b7821e",
   "metadata": {},
   "source": [
    "### Rename columns in a `pandas DataFrame`"
   ]
  },
  {
   "cell_type": "markdown",
   "id": "d171af5c-7f57-4cb7-a654-bf498ead38f8",
   "metadata": {},
   "source": [
    "To rename specific columns in the `ss` `DataFrame`, use the `.rename` method with the `columns` parameter to change `status.started` to `year_started`, `status.completed` to `year_completed`, and `height in meters` to `height_meters`.\n",
    "\n",
    "\n",
    "```python\n",
    "columns = {'height in meters': 'height_meters',\n",
    "           'status.completed': 'year_completed',\n",
    "           'status.started': 'year_started'}\n",
    "```\n",
    "\n",
    "Additionally, set `inplace = True` to apply the changes directly to the original `DataFrame`.\n",
    "\n",
    "```python\n",
    "inplace = True\n",
    "```"
   ]
  },
  {
   "cell_type": "code",
   "execution_count": null,
   "id": "61de0fba-e22c-40a8-8b9e-d675c215a2f4",
   "metadata": {
    "tags": []
   },
   "outputs": [],
   "source": [
    "ss.rename(columns = {'height in meters': 'height_meters',\n",
    "                     'status.completed': 'year_completed',\n",
    "                     'status.started': 'year_started'},\n",
    "          inplace = True)"
   ]
  },
  {
   "cell_type": "code",
   "execution_count": null,
   "id": "091532ce-3487-4719-99fc-db518f6304db",
   "metadata": {
    "tags": []
   },
   "outputs": [],
   "source": [
    "ss.info()"
   ]
  },
  {
   "cell_type": "markdown",
   "id": "4e71626e-66e5-4740-b44c-4c9d2417b631",
   "metadata": {},
   "source": [
    "### Drop columns in a `pandas DataFrame`\n",
    "\n",
    "To drop (i.e., remove) the `Unnamed: 0` column from the `ss` `DataFrame`, use the `.drop` method with the `columns` parameter. \n",
    "\n",
    "```python\n",
    "columns = ['Unnamed: 0']\n",
    "```\n",
    "\n",
    "Setting `inplace = True` ensures that the column is removed directly from the original `DataFrame` without creating a new one.\n",
    "\n",
    "```python\n",
    "inplace = True\n",
    "```"
   ]
  },
  {
   "cell_type": "code",
   "execution_count": null,
   "id": "f5901c4b-ff66-4f08-b0ca-f0b940f510e7",
   "metadata": {
    "tags": []
   },
   "outputs": [],
   "source": [
    "ss.drop(columns = ['Unnamed: 0'], inplace = True)"
   ]
  },
  {
   "cell_type": "markdown",
   "id": "b564739d-4da3-404c-97c8-b3e62a7bbddd",
   "metadata": {},
   "source": [
    "### Accessing columns and values from a `pandas` `DataFrame` and `Series`\n",
    "\n",
    "**Example 7.** Access the a `name` column from the `ss` dataframe and return a `Series` type object."
   ]
  },
  {
   "cell_type": "code",
   "execution_count": null,
   "id": "9c69b607-d9b0-4e87-a75e-a68710bb94c0",
   "metadata": {},
   "outputs": [],
   "source": [
    "## Returns the values from the name column in the \n",
    "## ss DataFrame as a Series\n",
    "ss['name']"
   ]
  },
  {
   "cell_type": "code",
   "execution_count": null,
   "id": "b53f8072-b514-434f-9582-b14de1b633dd",
   "metadata": {},
   "outputs": [],
   "source": [
    "## Returns the values from the name column in the \n",
    "## ss DataFrame as a Series\n",
    "ss.name"
   ]
  },
  {
   "cell_type": "markdown",
   "id": "b81e92ac-81fa-4a8f-a918-6632a695019b",
   "metadata": {},
   "source": [
    "### Series\n",
    "\n",
    "A `pandas` `Series` is a one-dimensional labeled array capable of holding data of any type (integer, string, float, python objects, etc.). \n",
    "\n",
    "**Source:** [Geeks for Geeks](https://www.geeksforgeeks.org/python-pandas-series/)"
   ]
  },
  {
   "cell_type": "markdown",
   "id": "bbe99992-02d5-4dc0-af75-f5085c73a98f",
   "metadata": {
    "tags": []
   },
   "source": [
    "**Example 8.** Access the `country` column from the `ss` `DataFrame` and return a `Series` type object."
   ]
  },
  {
   "cell_type": "code",
   "execution_count": null,
   "id": "2a54dc56-4611-4b45-93cb-abef0cd5c9c4",
   "metadata": {
    "tags": []
   },
   "outputs": [],
   "source": [
    "ss['country']"
   ]
  },
  {
   "cell_type": "markdown",
   "id": "e0124f35-33e4-4dba-8364-f64c82b33627",
   "metadata": {},
   "source": [
    "### `Series` Attributes and Methods\n",
    "\n",
    "**Attribute**\n",
    "\n",
    "Attributes provide metadata or properties about a Series without modifying its data.\n",
    "They are accessed without parentheses. For example,\n",
    "\n",
    "- `.index`: Returns the index labels.\n",
    "- `.shape`: Returns a tuple representing dimensions.\n",
    "- `.size`: Total number of elements.\n",
    "\n",
    "**Methods**\n",
    "\n",
    "Methods are functions that perform operations or transformations on the data.\n",
    "They are accessed with parentheses and may take arguments. For example, \n",
    "\n",
    "- `.sum()`: Computes the sum of values.\n",
    "- `.mean()`: Computes the average.\n",
    "- `.unique()`: Returns unique values.\n",
    "- `.apply()`: Applies a custom function to each element."
   ]
  },
  {
   "cell_type": "markdown",
   "id": "da0ed34c-88a3-4c88-b8d9-0ab2f766c8b9",
   "metadata": {},
   "source": [
    "### Summarize\n",
    "\n",
    "**Example 9.** Summarize the frequency of countries in the dataset using the `.value_counts()` method, which counts the occurrences of each unique country and returns a sorted list, with the most frequent values appearing first."
   ]
  },
  {
   "cell_type": "code",
   "execution_count": null,
   "id": "6f280b17-2acc-4582-b834-55e2f0df997d",
   "metadata": {
    "tags": []
   },
   "outputs": [],
   "source": [
    "## Returns the values from the country column in the \n",
    "## ss DataFrame as a Series sorted in descending order\n",
    "ss['country'].value_counts()"
   ]
  },
  {
   "cell_type": "markdown",
   "id": "2bbc8b01-e012-4443-bbb2-9127fb4f20d6",
   "metadata": {},
   "source": [
    "This code\n",
    "\n",
    "```python\n",
    "ss.country.value_counts()\n",
    "```\n",
    "\n",
    "executed without any errors, but the output is incorrect because the same country has been entered in different ways, leading to inconsistent results. For instance:\n",
    "\n",
    "- USA, US, and United States of America are listed separately, though they refer to the same country.\n",
    "\n",
    "- United Arab Emirates appears multiple times as United Arab Emirates (UAE) and UAE.\n",
    "\n",
    "- Malaysia is misspelled as Malasya.\n",
    "\n",
    "- Saudi Arabia is listed as saudi Arabia (with a lowercase \"s\")."
   ]
  },
  {
   "cell_type": "markdown",
   "id": "3c2c20d9-0224-4c64-a141-5295286aa1f3",
   "metadata": {},
   "source": [
    "**Example 10.** Access the `height_meters` column from the `ss` `DataFrame` and return a `Series` type object."
   ]
  },
  {
   "cell_type": "code",
   "execution_count": null,
   "id": "470ccedf-2183-4087-a1be-9507d30f6d15",
   "metadata": {},
   "outputs": [],
   "source": [
    "## Returns the values from the height_meters column in the \n",
    "## ss DataFrame as a Series\n",
    "ss.height_meters"
   ]
  },
  {
   "cell_type": "markdown",
   "id": "a1507595-afd3-4ad7-a841-817cd2c6043a",
   "metadata": {
    "tags": []
   },
   "source": [
    "We want to obtain summary statistics for the heights of the buildings. However, before doing so, we need to clean the data. We expected the column `height_meters` (the column that was renamed from `height in meters`) to be numeric, but the `.info()` output indicates that it is stored as an object."
   ]
  },
  {
   "cell_type": "code",
   "execution_count": null,
   "id": "d4d226fc-0782-4fca-8ac7-d8523fa01aa0",
   "metadata": {
    "tags": []
   },
   "outputs": [],
   "source": [
    "ss.info()"
   ]
  },
  {
   "cell_type": "markdown",
   "id": "754e986b-8e59-4e41-951c-f5bfd35a50a9",
   "metadata": {},
   "source": [
    "#### String Methods\n",
    "\n",
    "In Python, string methods such as `.lower()`, `.upper()`, `.strip()`, and `.replace()` allow for text manipulation, including case conversion, whitespace removal, and substring replacement. \n",
    "\n",
    "In `pandas`, the `.str` accessor provides vectorized string operations for entire columns in a `DataFrame`. Methods like `.str.lower()`, `.str.contains()`, and `.str.replace()` handle text transformations, filtering, and cleaning."
   ]
  },
  {
   "cell_type": "code",
   "execution_count": null,
   "id": "b9ea2fe6",
   "metadata": {
    "tags": []
   },
   "outputs": [],
   "source": [
    "..."
   ]
  },
  {
   "cell_type": "markdown",
   "id": "d4ca433e-c121-4d7d-806a-acee61bddc53",
   "metadata": {},
   "source": [
    "##### Step-by-Step Breakdown:\n",
    "\n",
    "- Select the column `height_meters` from the `DataFrame` `ss`.\n",
    "\n",
    "```python\n",
    "ss['height_meters'] \n",
    "``` \n",
    "\n",
    "- Use `pandas` `.str.replace()` method to remove commas from all values in the column.\n",
    "  \n",
    "  - `\",\"` Matches the comma\n",
    "  \n",
    "  - `\"\"` Replaces commas with an empty string (removes them).\n",
    "\n",
    "  - `regex = True` Ensures it uses regular expressions (important in newer pandas versions to avoid warnings).\n",
    "\n",
    "```python\n",
    ".str.replace(\",\", \"\", regex = True)`\n",
    "```\n",
    "\n",
    "- Converts the cleaned column (now free of commas) from a string type (object) to float for numerical operations.\n",
    "\n",
    "```python\n",
    ".astype(float)\n",
    "```"
   ]
  },
  {
   "cell_type": "markdown",
   "id": "721a6fd8-dde6-448e-aa3c-0af5265a6bfe",
   "metadata": {},
   "source": [
    "**Example 11.** Add the cleaned and converted heights to the `ss` `DataFrame` as a new column named `clean_height_meters`."
   ]
  },
  {
   "cell_type": "code",
   "execution_count": null,
   "id": "90650e2f-6d52-47b2-a85c-da21398996da",
   "metadata": {
    "tags": []
   },
   "outputs": [],
   "source": [
    "ss['clean_height_meters'] = ss['height_meters'].str.replace(\",\", \"\", regex = True).astype(float)"
   ]
  },
  {
   "cell_type": "code",
   "execution_count": null,
   "id": "350aafd9-ca90-495d-936c-d1a5a3b1f2be",
   "metadata": {
    "tags": []
   },
   "outputs": [],
   "source": [
    "ss.info()"
   ]
  },
  {
   "cell_type": "code",
   "execution_count": null,
   "id": "91da4e61-074b-4131-be22-f9019560e73d",
   "metadata": {
    "tags": []
   },
   "outputs": [],
   "source": [
    "ss['clean_height_meters'].describe()"
   ]
  },
  {
   "cell_type": "markdown",
   "id": "77174d2e-9206-472d-b3d2-fd6ad3fbf976",
   "metadata": {},
   "source": [
    "**Example 12.** What is the average and median height (meters) for all skyscrapers in the dataset?"
   ]
  },
  {
   "cell_type": "code",
   "execution_count": null,
   "id": "fab2000c-c4b6-4d16-b74d-e8ccf489ebce",
   "metadata": {
    "tags": []
   },
   "outputs": [],
   "source": [
    "## The mean (average) height (meters) of the buildings\n",
    "mean_height_meters = ss['clean_height_meters'].mean()\n",
    "\n",
    "## The median height (meters) of the buildings\n",
    "med_height_meters = ss['clean_height_meters'].median()\n",
    "\n",
    "# Print the rounded mean and median\n",
    "print(\"The average height in meters:\", round(mean_height_meters, 1))\n",
    "print(\"The median height in meters:\", round(med_height_meters, 1))"
   ]
  },
  {
   "cell_type": "markdown",
   "id": "75685d4d-d82a-4a2f-9bc9-c83aec7d42e5",
   "metadata": {},
   "source": [
    "Since a `Series` is essentially a 1-dimensional array similar to a `NumPy` `ndarray` with labels, we can can pass a `pandas` `Series` as an argument to many `NumPy` functions.\n",
    "\n",
    "Let's import `Numpy` and see!"
   ]
  },
  {
   "cell_type": "code",
   "execution_count": null,
   "id": "4754c963-bf2d-4d75-921f-45aa35c4aa1b",
   "metadata": {
    "tags": []
   },
   "outputs": [],
   "source": [
    "..."
   ]
  },
  {
   "cell_type": "markdown",
   "id": "2efe05c5-0c08-405d-8182-e26d4f84f334",
   "metadata": {},
   "source": [
    "**Example 13.** What is the average and median number of floors for all skyscrapers in the dataset?"
   ]
  },
  {
   "cell_type": "code",
   "execution_count": null,
   "id": "1ddcb10f",
   "metadata": {
    "tags": []
   },
   "outputs": [],
   "source": [
    "## The mean (average) height (meters) of the buildings\n",
    "mean_height_meters = np.mean(ss['clean_height_meters'])\n",
    "\n",
    "## The median height (meters) of the buildings\n",
    "med_height_meters = np.median(ss['clean_height_meters'])\n",
    "\n",
    "# Print the rounded mean and median\n",
    "print(\"The average height in meters:\", round(mean_height_meters, 1))\n",
    "print(\"The median height in meters:\", round(med_height_meters, 1))"
   ]
  },
  {
   "cell_type": "markdown",
   "id": "bbdff6d4-ae25-4202-a574-3a7a2db673a2",
   "metadata": {},
   "source": [
    "#### Sort\n",
    "\n",
    "The code \n",
    "```python\n",
    "ss.sort_values(by='clean_height_meters', ascending=False)\n",
    "```\n",
    "sorts the `DataFrame` `ss` in descending order by `clean_height_meters` placing the tallest buildings first."
   ]
  },
  {
   "cell_type": "code",
   "execution_count": null,
   "id": "de498e78",
   "metadata": {
    "tags": []
   },
   "outputs": [],
   "source": [
    "ss.sort_values(by = 'clean_height_meters', ascending = False)"
   ]
  }
 ],
 "metadata": {
  "kernelspec": {
   "display_name": "Python 3 (ipykernel)",
   "language": "python",
   "name": "python3"
  },
  "language_info": {
   "codemirror_mode": {
    "name": "ipython",
    "version": 3
   },
   "file_extension": ".py",
   "mimetype": "text/x-python",
   "name": "python",
   "nbconvert_exporter": "python",
   "pygments_lexer": "ipython3",
   "version": "3.10.11"
  }
 },
 "nbformat": 4,
 "nbformat_minor": 5
}
