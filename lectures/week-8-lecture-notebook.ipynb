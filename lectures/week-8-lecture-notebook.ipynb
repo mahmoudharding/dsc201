{
 "cells": [
  {
   "cell_type": "markdown",
   "id": "fee5b319-3be6-48c8-93f7-c438ca4d44e3",
   "metadata": {},
   "source": [
    "# Week 8 Lecture Notebook"
   ]
  },
  {
   "cell_type": "markdown",
   "id": "c278616d-77cf-4bea-ab67-7e2281b71857",
   "metadata": {},
   "source": [
    "## Data Moves\n",
    "\n",
    "Before we get started let's summarize the core data moves that we've being using this semester.\n",
    "\n",
    "- _Filtering_ is used for scoping and exploration. It is conceptually a prerequisite for grouping and sampling.\n",
    "\n",
    "- _Grouping_ is fundamental for comparing. \n",
    " \n",
    "- _Summarizing_ creates aggregate measures that describe a group.\n",
    "\n",
    "- A _hierarchical organization_ can be equivalent to grouping, and provides an alternative way of thinking about summarizing. \n",
    "\n",
    "- _Calculating_ a new attribute involves describing a new idea in terms of other attributes. \n",
    "\n",
    "- _Merging or joining_ datasets through a relation is a way to add cases or computed attributes from outside the original dataset. \n",
    "\n",
    "Other data moves may join this core set of six. For example:\n",
    "\n",
    "- Data moves facilitate creating new ways of displaying data (_visualization_).\n",
    "\n",
    "- _Sorting_ a dataset can give important insights into patterns in the data, and is an essential element in helping some visualizations communicate more effectively.\n",
    "\n",
    "- There are a number of ways to go about _cleaning_ a dataset so that it can be imported for analysis. This can include merging, calculating (especially _recoding_), and _stacking_.\n",
    "\n",
    "- _Sampling_ and related processes are important to simulation-based inference. _Sampling_ is related to filtering. A sampling distribution collects summary values from these samples, and can be facilitated by hierarchy.\n",
    "\n",
    "Erickson, T., Wilkerson, M., Finzer, W., & Reichsman, F. (2019). Data Moves. Technology Innovations in Statistics Education, 12(1). [http://dx.doi.org/10.5070/T5121038001](http://dx.doi.org/10.5070/T5121038001). Retrieved from [https://escholarship.org/uc/item/0mg8m7g6](https://escholarship.org/uc/item/0mg8m7g6)"
   ]
  },
  {
   "cell_type": "markdown",
   "id": "c4a9ae37-050d-49cb-9c70-7c1896fc5ee0",
   "metadata": {},
   "source": [
    "Now, we will explore six specific data moves in further detail, namely, **filtering**, **grouping**, **summarizing**, **calculating**, **merging/joining**, and **making hierarchy**. While not an exhaustive list, these seem useful to examine as a core set of data moves as we have consistently observed some of these six moves in our own work throughout the semester."
   ]
  },
  {
   "cell_type": "markdown",
   "id": "23fb22b6-5cf3-4162-afad-aa1bf49e2b4a",
   "metadata": {},
   "source": [
    "## United States Broadband Usage Percentages Dataset\n",
    "\n",
    "We are publishing [datasets we developed as part of our efforts with Microsoft’s Airband Initiative to help close the rural broadband gap](https://github.com/microsoft/USBroadbandUsagePercentages?tab=readme-ov-file). The data can be used for the purpose of analyzing, understanding, improving, or addressing problems related to broadband access.\n",
    "\n",
    "The datasets consist of data derived from anonymized data Microsoft collects as part of our ongoing work to improve the performance and security of our software and services. The data does not include any PII information including IP Address. We also suppress any location with less than 20 devices. Other than the aggregated data shared in this data table, no other data is stored during this process. We estimate broadband usage by combining data from multiple Microsoft services. The data from these services are combined with the number of households per county and zip code. Every time a device receives an update or connects to a Microsoft service, we can estimate the throughput speed of a machine. We know the size of the package sent to the computer, and we know the total time of the download. We also determine zip code level location data via reverse IP. Therefore, we can count the number of devices that have connected to the internet at broadband speed per each zip code based on the FCC’s definition of broadband that is 25mbps per download. Using this method, we estimate that ~120.4 million people in the United States are not using the internet at broadband speeds.\n",
    "\n",
    "**By:** John Kahan - Vice President, Chief Data Analytics Officer | Juan Lavista Ferres - Chief Scientist, Microsoft AI for Good Research Lab\n",
    "\n",
    "**For more information about this repository go to:** \n",
    "\n",
    "- https://github.com/microsoft/USBroadbandUsagePercentages?tab=readme-ov-file\n",
    "\n",
    "**Additional Information:**\n",
    "\n",
    "- [Understanding the Relationship Between ZIPs and Cities/Counties](https://www.unitedstateszipcodes.org/zip-code-database/matching-to-cities-and-counties/#:~:text=The%20boundaries%20of%20a%20ZIP,are%20used%20in%20common%20conversation.)"
   ]
  },
  {
   "cell_type": "code",
   "execution_count": 318,
   "id": "0bfcc924-90a3-474e-b093-6d229f479b6a",
   "metadata": {
    "tags": []
   },
   "outputs": [],
   "source": [
    "import pandas as pd\n",
    "import numpy as np\n",
    "\n",
    "import matplotlib.pyplot as plt\n",
    "plt.rcParams['figure.figsize'] = [8, 6] \n",
    "plt.rcParams['figure.dpi'] = 100"
   ]
  },
  {
   "cell_type": "code",
   "execution_count": 319,
   "id": "e754b8de-d25b-4772-a4c0-36bd7c260992",
   "metadata": {
    "tags": []
   },
   "outputs": [
    {
     "data": {
      "text/html": [
       "<div>\n",
       "<style scoped>\n",
       "    .dataframe tbody tr th:only-of-type {\n",
       "        vertical-align: middle;\n",
       "    }\n",
       "\n",
       "    .dataframe tbody tr th {\n",
       "        vertical-align: top;\n",
       "    }\n",
       "\n",
       "    .dataframe thead th {\n",
       "        text-align: right;\n",
       "    }\n",
       "</style>\n",
       "<table border=\"1\" class=\"dataframe\">\n",
       "  <thead>\n",
       "    <tr style=\"text-align: right;\">\n",
       "      <th></th>\n",
       "      <th>ST</th>\n",
       "      <th>COUNTY NAME</th>\n",
       "      <th>COUNTY ID</th>\n",
       "      <th>POSTAL CODE</th>\n",
       "      <th>BROADBAND USAGE</th>\n",
       "      <th>ERROR RANGE (MAE)(+/-)</th>\n",
       "      <th>ERROR RANGE (95%)(+/-)</th>\n",
       "      <th>MSD</th>\n",
       "    </tr>\n",
       "  </thead>\n",
       "  <tbody>\n",
       "    <tr>\n",
       "      <th>0</th>\n",
       "      <td>SC</td>\n",
       "      <td>Abbeville</td>\n",
       "      <td>45001</td>\n",
       "      <td>29639</td>\n",
       "      <td>0.948</td>\n",
       "      <td>0.034</td>\n",
       "      <td>0.110</td>\n",
       "      <td>0.002</td>\n",
       "    </tr>\n",
       "    <tr>\n",
       "      <th>1</th>\n",
       "      <td>SC</td>\n",
       "      <td>Abbeville</td>\n",
       "      <td>45001</td>\n",
       "      <td>29620</td>\n",
       "      <td>0.398</td>\n",
       "      <td>0.002</td>\n",
       "      <td>0.007</td>\n",
       "      <td>0.000</td>\n",
       "    </tr>\n",
       "    <tr>\n",
       "      <th>2</th>\n",
       "      <td>SC</td>\n",
       "      <td>Abbeville</td>\n",
       "      <td>45001</td>\n",
       "      <td>29659</td>\n",
       "      <td>0.206</td>\n",
       "      <td>0.152</td>\n",
       "      <td>0.608</td>\n",
       "      <td>0.043</td>\n",
       "    </tr>\n",
       "    <tr>\n",
       "      <th>3</th>\n",
       "      <td>SC</td>\n",
       "      <td>Abbeville</td>\n",
       "      <td>45001</td>\n",
       "      <td>29638</td>\n",
       "      <td>0.369</td>\n",
       "      <td>0.010</td>\n",
       "      <td>0.031</td>\n",
       "      <td>-0.001</td>\n",
       "    </tr>\n",
       "    <tr>\n",
       "      <th>4</th>\n",
       "      <td>SC</td>\n",
       "      <td>Abbeville</td>\n",
       "      <td>45001</td>\n",
       "      <td>29628</td>\n",
       "      <td>0.221</td>\n",
       "      <td>0.014</td>\n",
       "      <td>0.043</td>\n",
       "      <td>0.000</td>\n",
       "    </tr>\n",
       "  </tbody>\n",
       "</table>\n",
       "</div>"
      ],
      "text/plain": [
       "   ST COUNTY NAME  COUNTY ID  POSTAL CODE  BROADBAND USAGE  \\\n",
       "0  SC   Abbeville      45001        29639            0.948   \n",
       "1  SC   Abbeville      45001        29620            0.398   \n",
       "2  SC   Abbeville      45001        29659            0.206   \n",
       "3  SC   Abbeville      45001        29638            0.369   \n",
       "4  SC   Abbeville      45001        29628            0.221   \n",
       "\n",
       "   ERROR RANGE (MAE)(+/-)  ERROR RANGE (95%)(+/-)    MSD  \n",
       "0                   0.034                   0.110  0.002  \n",
       "1                   0.002                   0.007  0.000  \n",
       "2                   0.152                   0.608  0.043  \n",
       "3                   0.010                   0.031 -0.001  \n",
       "4                   0.014                   0.043  0.000  "
      ]
     },
     "execution_count": 319,
     "metadata": {},
     "output_type": "execute_result"
    }
   ],
   "source": [
    "# The + is being used for concatenation, and the \\ is being used for line continuation, \n",
    "# especially in the middle of a statement spread across multiple lines.\n",
    "\n",
    "# In Python code, a backslash at the end of a line is used to indicate that the \n",
    "# line of code continues on the next line. This can make your code more readable \n",
    "# by breaking long lines into smaller, more manageable pieces. \n",
    "\n",
    "url = 'https://raw.githubusercontent.com/microsoft/USBroadbandUsagePercentages' + \\\n",
    "      '/master/dataset/broadband_data_zipcode.csv'\n",
    "\n",
    "broadband = pd.read_csv(url)\n",
    "broadband.head(5)"
   ]
  },
  {
   "cell_type": "markdown",
   "id": "45294a22-113b-4d18-885d-edded93a9656",
   "metadata": {},
   "source": [
    "### Initial Exploratory Data Analysis"
   ]
  },
  {
   "cell_type": "markdown",
   "id": "a85c293a-63c9-4954-b320-1ede7d930970",
   "metadata": {},
   "source": [
    "**Question 1.** To initiate the initial analysis of the `broadband` dataframe, execute three distinct `pandas` `DataFrame` nethods, excluding `.describe()`."
   ]
  },
  {
   "cell_type": "code",
   "execution_count": null,
   "id": "7b6030d4-3426-4a43-a81e-7840b1e57903",
   "metadata": {},
   "outputs": [],
   "source": []
  },
  {
   "cell_type": "code",
   "execution_count": null,
   "id": "5d230d6b-fc8c-471a-8ce8-dd8945d9bbc9",
   "metadata": {},
   "outputs": [],
   "source": []
  },
  {
   "cell_type": "code",
   "execution_count": null,
   "id": "07013337-2387-481d-bb4c-63df4b1605ae",
   "metadata": {},
   "outputs": [],
   "source": []
  },
  {
   "cell_type": "markdown",
   "id": "62878989-b980-4f6d-a4f8-00fd002ca0e8",
   "metadata": {},
   "source": [
    "#### `.loc` and `.iloc`\n",
    "\n",
    "In `pandas`, the `.loc` indexer is used to access a group of rows and columns by labels or a boolean array. It allows you to select data from a dataframe based on labels or a boolean condition. The `.loc` indexer operates primarily with row and column labels, but it can also accept boolean arrays, which makes it a versatile tool for data selection."
   ]
  },
  {
   "cell_type": "code",
   "execution_count": 320,
   "id": "63450b8b-dc13-42eb-a345-ae6f5eb3aa91",
   "metadata": {
    "tags": []
   },
   "outputs": [
    {
     "data": {
      "text/html": [
       "<div>\n",
       "<style scoped>\n",
       "    .dataframe tbody tr th:only-of-type {\n",
       "        vertical-align: middle;\n",
       "    }\n",
       "\n",
       "    .dataframe tbody tr th {\n",
       "        vertical-align: top;\n",
       "    }\n",
       "\n",
       "    .dataframe thead th {\n",
       "        text-align: right;\n",
       "    }\n",
       "</style>\n",
       "<table border=\"1\" class=\"dataframe\">\n",
       "  <thead>\n",
       "    <tr style=\"text-align: right;\">\n",
       "      <th></th>\n",
       "      <th>COUNTY ID</th>\n",
       "      <th>POSTAL CODE</th>\n",
       "      <th>BROADBAND USAGE</th>\n",
       "      <th>ERROR RANGE (MAE)(+/-)</th>\n",
       "      <th>ERROR RANGE (95%)(+/-)</th>\n",
       "      <th>MSD</th>\n",
       "    </tr>\n",
       "  </thead>\n",
       "  <tbody>\n",
       "    <tr>\n",
       "      <th>count</th>\n",
       "      <td>32735.000000</td>\n",
       "      <td>32735.000000</td>\n",
       "      <td>32735.000000</td>\n",
       "      <td>32735.000000</td>\n",
       "      <td>32735.000000</td>\n",
       "      <td>32735.000000</td>\n",
       "    </tr>\n",
       "    <tr>\n",
       "      <th>mean</th>\n",
       "      <td>29810.534688</td>\n",
       "      <td>49904.980510</td>\n",
       "      <td>0.368662</td>\n",
       "      <td>0.032232</td>\n",
       "      <td>0.119015</td>\n",
       "      <td>0.004821</td>\n",
       "    </tr>\n",
       "    <tr>\n",
       "      <th>std</th>\n",
       "      <td>15253.754821</td>\n",
       "      <td>27394.093618</td>\n",
       "      <td>0.324448</td>\n",
       "      <td>0.046365</td>\n",
       "      <td>0.193111</td>\n",
       "      <td>0.010472</td>\n",
       "    </tr>\n",
       "    <tr>\n",
       "      <th>min</th>\n",
       "      <td>1001.000000</td>\n",
       "      <td>1001.000000</td>\n",
       "      <td>0.000000</td>\n",
       "      <td>0.000000</td>\n",
       "      <td>0.002000</td>\n",
       "      <td>-0.001000</td>\n",
       "    </tr>\n",
       "    <tr>\n",
       "      <th>25%</th>\n",
       "      <td>18061.000000</td>\n",
       "      <td>27316.500000</td>\n",
       "      <td>0.097000</td>\n",
       "      <td>0.003000</td>\n",
       "      <td>0.010000</td>\n",
       "      <td>0.000000</td>\n",
       "    </tr>\n",
       "    <tr>\n",
       "      <th>50%</th>\n",
       "      <td>29229.000000</td>\n",
       "      <td>49935.000000</td>\n",
       "      <td>0.268000</td>\n",
       "      <td>0.010000</td>\n",
       "      <td>0.031000</td>\n",
       "      <td>0.000000</td>\n",
       "    </tr>\n",
       "    <tr>\n",
       "      <th>75%</th>\n",
       "      <td>42049.000000</td>\n",
       "      <td>72122.500000</td>\n",
       "      <td>0.593000</td>\n",
       "      <td>0.041000</td>\n",
       "      <td>0.136000</td>\n",
       "      <td>0.004000</td>\n",
       "    </tr>\n",
       "    <tr>\n",
       "      <th>max</th>\n",
       "      <td>56045.000000</td>\n",
       "      <td>99929.000000</td>\n",
       "      <td>1.000000</td>\n",
       "      <td>0.197000</td>\n",
       "      <td>0.869000</td>\n",
       "      <td>0.043000</td>\n",
       "    </tr>\n",
       "  </tbody>\n",
       "</table>\n",
       "</div>"
      ],
      "text/plain": [
       "          COUNTY ID   POSTAL CODE  BROADBAND USAGE  ERROR RANGE (MAE)(+/-)  \\\n",
       "count  32735.000000  32735.000000     32735.000000            32735.000000   \n",
       "mean   29810.534688  49904.980510         0.368662                0.032232   \n",
       "std    15253.754821  27394.093618         0.324448                0.046365   \n",
       "min     1001.000000   1001.000000         0.000000                0.000000   \n",
       "25%    18061.000000  27316.500000         0.097000                0.003000   \n",
       "50%    29229.000000  49935.000000         0.268000                0.010000   \n",
       "75%    42049.000000  72122.500000         0.593000                0.041000   \n",
       "max    56045.000000  99929.000000         1.000000                0.197000   \n",
       "\n",
       "       ERROR RANGE (95%)(+/-)           MSD  \n",
       "count            32735.000000  32735.000000  \n",
       "mean                 0.119015      0.004821  \n",
       "std                  0.193111      0.010472  \n",
       "min                  0.002000     -0.001000  \n",
       "25%                  0.010000      0.000000  \n",
       "50%                  0.031000      0.000000  \n",
       "75%                  0.136000      0.004000  \n",
       "max                  0.869000      0.043000  "
      ]
     },
     "execution_count": 320,
     "metadata": {},
     "output_type": "execute_result"
    }
   ],
   "source": [
    "..."
   ]
  },
  {
   "cell_type": "code",
   "execution_count": 321,
   "id": "0e9ce7bd-dcf3-4fb5-bd2e-a9ca874b5f7c",
   "metadata": {
    "tags": []
   },
   "outputs": [],
   "source": [
    "df = ..."
   ]
  },
  {
   "cell_type": "code",
   "execution_count": 322,
   "id": "f3902751-5626-4de4-87dc-acc09bcd48a2",
   "metadata": {
    "tags": []
   },
   "outputs": [
    {
     "data": {
      "text/html": [
       "<div>\n",
       "<style scoped>\n",
       "    .dataframe tbody tr th:only-of-type {\n",
       "        vertical-align: middle;\n",
       "    }\n",
       "\n",
       "    .dataframe tbody tr th {\n",
       "        vertical-align: top;\n",
       "    }\n",
       "\n",
       "    .dataframe thead th {\n",
       "        text-align: right;\n",
       "    }\n",
       "</style>\n",
       "<table border=\"1\" class=\"dataframe\">\n",
       "  <thead>\n",
       "    <tr style=\"text-align: right;\">\n",
       "      <th></th>\n",
       "      <th>COUNTY ID</th>\n",
       "      <th>POSTAL CODE</th>\n",
       "      <th>BROADBAND USAGE</th>\n",
       "      <th>ERROR RANGE (MAE)(+/-)</th>\n",
       "      <th>ERROR RANGE (95%)(+/-)</th>\n",
       "      <th>MSD</th>\n",
       "    </tr>\n",
       "  </thead>\n",
       "  <tbody>\n",
       "    <tr>\n",
       "      <th>min</th>\n",
       "      <td>1001.0</td>\n",
       "      <td>1001.0</td>\n",
       "      <td>0.000</td>\n",
       "      <td>0.000</td>\n",
       "      <td>0.002</td>\n",
       "      <td>-0.001</td>\n",
       "    </tr>\n",
       "    <tr>\n",
       "      <th>25%</th>\n",
       "      <td>18061.0</td>\n",
       "      <td>27316.5</td>\n",
       "      <td>0.097</td>\n",
       "      <td>0.003</td>\n",
       "      <td>0.010</td>\n",
       "      <td>0.000</td>\n",
       "    </tr>\n",
       "    <tr>\n",
       "      <th>50%</th>\n",
       "      <td>29229.0</td>\n",
       "      <td>49935.0</td>\n",
       "      <td>0.268</td>\n",
       "      <td>0.010</td>\n",
       "      <td>0.031</td>\n",
       "      <td>0.000</td>\n",
       "    </tr>\n",
       "    <tr>\n",
       "      <th>75%</th>\n",
       "      <td>42049.0</td>\n",
       "      <td>72122.5</td>\n",
       "      <td>0.593</td>\n",
       "      <td>0.041</td>\n",
       "      <td>0.136</td>\n",
       "      <td>0.004</td>\n",
       "    </tr>\n",
       "    <tr>\n",
       "      <th>max</th>\n",
       "      <td>56045.0</td>\n",
       "      <td>99929.0</td>\n",
       "      <td>1.000</td>\n",
       "      <td>0.197</td>\n",
       "      <td>0.869</td>\n",
       "      <td>0.043</td>\n",
       "    </tr>\n",
       "  </tbody>\n",
       "</table>\n",
       "</div>"
      ],
      "text/plain": [
       "     COUNTY ID  POSTAL CODE  BROADBAND USAGE  ERROR RANGE (MAE)(+/-)  \\\n",
       "min     1001.0       1001.0            0.000                   0.000   \n",
       "25%    18061.0      27316.5            0.097                   0.003   \n",
       "50%    29229.0      49935.0            0.268                   0.010   \n",
       "75%    42049.0      72122.5            0.593                   0.041   \n",
       "max    56045.0      99929.0            1.000                   0.197   \n",
       "\n",
       "     ERROR RANGE (95%)(+/-)    MSD  \n",
       "min                   0.002 -0.001  \n",
       "25%                   0.010  0.000  \n",
       "50%                   0.031  0.000  \n",
       "75%                   0.136  0.004  \n",
       "max                   0.869  0.043  "
      ]
     },
     "execution_count": 322,
     "metadata": {},
     "output_type": "execute_result"
    }
   ],
   "source": [
    "rows = ['min', '25%', '50%', '75%', 'max']\n",
    "..."
   ]
  },
  {
   "cell_type": "code",
   "execution_count": 323,
   "id": "1b3eab94-5b18-4f01-bafc-8c76ab2b2e34",
   "metadata": {
    "tags": []
   },
   "outputs": [
    {
     "data": {
      "text/html": [
       "<div>\n",
       "<style scoped>\n",
       "    .dataframe tbody tr th:only-of-type {\n",
       "        vertical-align: middle;\n",
       "    }\n",
       "\n",
       "    .dataframe tbody tr th {\n",
       "        vertical-align: top;\n",
       "    }\n",
       "\n",
       "    .dataframe thead th {\n",
       "        text-align: right;\n",
       "    }\n",
       "</style>\n",
       "<table border=\"1\" class=\"dataframe\">\n",
       "  <thead>\n",
       "    <tr style=\"text-align: right;\">\n",
       "      <th></th>\n",
       "      <th>BROADBAND USAGE</th>\n",
       "      <th>ERROR RANGE (MAE)(+/-)</th>\n",
       "      <th>ERROR RANGE (95%)(+/-)</th>\n",
       "    </tr>\n",
       "  </thead>\n",
       "  <tbody>\n",
       "    <tr>\n",
       "      <th>min</th>\n",
       "      <td>0.000</td>\n",
       "      <td>0.000</td>\n",
       "      <td>0.002</td>\n",
       "    </tr>\n",
       "    <tr>\n",
       "      <th>25%</th>\n",
       "      <td>0.097</td>\n",
       "      <td>0.003</td>\n",
       "      <td>0.010</td>\n",
       "    </tr>\n",
       "    <tr>\n",
       "      <th>50%</th>\n",
       "      <td>0.268</td>\n",
       "      <td>0.010</td>\n",
       "      <td>0.031</td>\n",
       "    </tr>\n",
       "    <tr>\n",
       "      <th>75%</th>\n",
       "      <td>0.593</td>\n",
       "      <td>0.041</td>\n",
       "      <td>0.136</td>\n",
       "    </tr>\n",
       "    <tr>\n",
       "      <th>max</th>\n",
       "      <td>1.000</td>\n",
       "      <td>0.197</td>\n",
       "      <td>0.869</td>\n",
       "    </tr>\n",
       "  </tbody>\n",
       "</table>\n",
       "</div>"
      ],
      "text/plain": [
       "     BROADBAND USAGE  ERROR RANGE (MAE)(+/-)  ERROR RANGE (95%)(+/-)\n",
       "min            0.000                   0.000                   0.002\n",
       "25%            0.097                   0.003                   0.010\n",
       "50%            0.268                   0.010                   0.031\n",
       "75%            0.593                   0.041                   0.136\n",
       "max            1.000                   0.197                   0.869"
      ]
     },
     "execution_count": 323,
     "metadata": {},
     "output_type": "execute_result"
    }
   ],
   "source": [
    "columns = ['BROADBAND USAGE', 'ERROR RANGE (MAE)(+/-)', 'ERROR RANGE (95%)(+/-)']\n",
    "..."
   ]
  },
  {
   "cell_type": "markdown",
   "id": "eb1c49c5-d898-4613-a645-b8583c06c831",
   "metadata": {},
   "source": [
    "In `pandas`, the `.iloc` indexer is used to access a group of rows and columns by integer position. It allows you to select data from a dataframe based on integer positions of the rows and columns, rather than labels."
   ]
  },
  {
   "cell_type": "code",
   "execution_count": 325,
   "id": "a9a21739-77c1-43cc-8db8-6ff6c5fe7a3f",
   "metadata": {
    "tags": []
   },
   "outputs": [
    {
     "data": {
      "text/html": [
       "<div>\n",
       "<style scoped>\n",
       "    .dataframe tbody tr th:only-of-type {\n",
       "        vertical-align: middle;\n",
       "    }\n",
       "\n",
       "    .dataframe tbody tr th {\n",
       "        vertical-align: top;\n",
       "    }\n",
       "\n",
       "    .dataframe thead th {\n",
       "        text-align: right;\n",
       "    }\n",
       "</style>\n",
       "<table border=\"1\" class=\"dataframe\">\n",
       "  <thead>\n",
       "    <tr style=\"text-align: right;\">\n",
       "      <th></th>\n",
       "      <th>COUNTY ID</th>\n",
       "      <th>POSTAL CODE</th>\n",
       "      <th>BROADBAND USAGE</th>\n",
       "      <th>ERROR RANGE (MAE)(+/-)</th>\n",
       "      <th>ERROR RANGE (95%)(+/-)</th>\n",
       "      <th>MSD</th>\n",
       "    </tr>\n",
       "  </thead>\n",
       "  <tbody>\n",
       "    <tr>\n",
       "      <th>min</th>\n",
       "      <td>1001.0</td>\n",
       "      <td>1001.0</td>\n",
       "      <td>0.000</td>\n",
       "      <td>0.000</td>\n",
       "      <td>0.002</td>\n",
       "      <td>-0.001</td>\n",
       "    </tr>\n",
       "    <tr>\n",
       "      <th>25%</th>\n",
       "      <td>18061.0</td>\n",
       "      <td>27316.5</td>\n",
       "      <td>0.097</td>\n",
       "      <td>0.003</td>\n",
       "      <td>0.010</td>\n",
       "      <td>0.000</td>\n",
       "    </tr>\n",
       "    <tr>\n",
       "      <th>50%</th>\n",
       "      <td>29229.0</td>\n",
       "      <td>49935.0</td>\n",
       "      <td>0.268</td>\n",
       "      <td>0.010</td>\n",
       "      <td>0.031</td>\n",
       "      <td>0.000</td>\n",
       "    </tr>\n",
       "    <tr>\n",
       "      <th>75%</th>\n",
       "      <td>42049.0</td>\n",
       "      <td>72122.5</td>\n",
       "      <td>0.593</td>\n",
       "      <td>0.041</td>\n",
       "      <td>0.136</td>\n",
       "      <td>0.004</td>\n",
       "    </tr>\n",
       "    <tr>\n",
       "      <th>max</th>\n",
       "      <td>56045.0</td>\n",
       "      <td>99929.0</td>\n",
       "      <td>1.000</td>\n",
       "      <td>0.197</td>\n",
       "      <td>0.869</td>\n",
       "      <td>0.043</td>\n",
       "    </tr>\n",
       "  </tbody>\n",
       "</table>\n",
       "</div>"
      ],
      "text/plain": [
       "     COUNTY ID  POSTAL CODE  BROADBAND USAGE  ERROR RANGE (MAE)(+/-)  \\\n",
       "min     1001.0       1001.0            0.000                   0.000   \n",
       "25%    18061.0      27316.5            0.097                   0.003   \n",
       "50%    29229.0      49935.0            0.268                   0.010   \n",
       "75%    42049.0      72122.5            0.593                   0.041   \n",
       "max    56045.0      99929.0            1.000                   0.197   \n",
       "\n",
       "     ERROR RANGE (95%)(+/-)    MSD  \n",
       "min                   0.002 -0.001  \n",
       "25%                   0.010  0.000  \n",
       "50%                   0.031  0.000  \n",
       "75%                   0.136  0.004  \n",
       "max                   0.869  0.043  "
      ]
     },
     "execution_count": 325,
     "metadata": {},
     "output_type": "execute_result"
    }
   ],
   "source": [
    "df.iloc[3:8, ]"
   ]
  },
  {
   "cell_type": "code",
   "execution_count": 324,
   "id": "26d6870d-9f91-40de-8ee3-39831c906488",
   "metadata": {
    "tags": []
   },
   "outputs": [
    {
     "data": {
      "text/html": [
       "<div>\n",
       "<style scoped>\n",
       "    .dataframe tbody tr th:only-of-type {\n",
       "        vertical-align: middle;\n",
       "    }\n",
       "\n",
       "    .dataframe tbody tr th {\n",
       "        vertical-align: top;\n",
       "    }\n",
       "\n",
       "    .dataframe thead th {\n",
       "        text-align: right;\n",
       "    }\n",
       "</style>\n",
       "<table border=\"1\" class=\"dataframe\">\n",
       "  <thead>\n",
       "    <tr style=\"text-align: right;\">\n",
       "      <th></th>\n",
       "      <th>BROADBAND USAGE</th>\n",
       "      <th>ERROR RANGE (MAE)(+/-)</th>\n",
       "      <th>ERROR RANGE (95%)(+/-)</th>\n",
       "    </tr>\n",
       "  </thead>\n",
       "  <tbody>\n",
       "    <tr>\n",
       "      <th>min</th>\n",
       "      <td>0.000</td>\n",
       "      <td>0.000</td>\n",
       "      <td>0.002</td>\n",
       "    </tr>\n",
       "    <tr>\n",
       "      <th>25%</th>\n",
       "      <td>0.097</td>\n",
       "      <td>0.003</td>\n",
       "      <td>0.010</td>\n",
       "    </tr>\n",
       "    <tr>\n",
       "      <th>50%</th>\n",
       "      <td>0.268</td>\n",
       "      <td>0.010</td>\n",
       "      <td>0.031</td>\n",
       "    </tr>\n",
       "    <tr>\n",
       "      <th>75%</th>\n",
       "      <td>0.593</td>\n",
       "      <td>0.041</td>\n",
       "      <td>0.136</td>\n",
       "    </tr>\n",
       "    <tr>\n",
       "      <th>max</th>\n",
       "      <td>1.000</td>\n",
       "      <td>0.197</td>\n",
       "      <td>0.869</td>\n",
       "    </tr>\n",
       "  </tbody>\n",
       "</table>\n",
       "</div>"
      ],
      "text/plain": [
       "     BROADBAND USAGE  ERROR RANGE (MAE)(+/-)  ERROR RANGE (95%)(+/-)\n",
       "min            0.000                   0.000                   0.002\n",
       "25%            0.097                   0.003                   0.010\n",
       "50%            0.268                   0.010                   0.031\n",
       "75%            0.593                   0.041                   0.136\n",
       "max            1.000                   0.197                   0.869"
      ]
     },
     "execution_count": 324,
     "metadata": {},
     "output_type": "execute_result"
    }
   ],
   "source": [
    "df.iloc[3:8, 2:5]"
   ]
  },
  {
   "cell_type": "markdown",
   "id": "8c63f070-fdcc-45fc-b103-d5b12b6ab7e2",
   "metadata": {},
   "source": [
    "### Filtering\n",
    "\n",
    "- **Filtering** is used for scoping and exploration. It is conceptually a prerequisite for grouping and sampling."
   ]
  },
  {
   "cell_type": "markdown",
   "id": "5e0134bc-8669-4834-a558-da000f183d5d",
   "metadata": {
    "tags": []
   },
   "source": [
    "**Question 2.** Filter the dataset to include only records pertaining to the state of North Carolina (NC). Save the filtered data to a new dataframe called `nc`."
   ]
  },
  {
   "cell_type": "markdown",
   "id": "a22079b4-f575-4a3e-9d18-207510855054",
   "metadata": {},
   "source": [
    "**a.** Use boolean indexing."
   ]
  },
  {
   "cell_type": "code",
   "execution_count": 326,
   "id": "0fcff859-99b2-476c-a7d8-605195cd58e6",
   "metadata": {
    "tags": []
   },
   "outputs": [
    {
     "data": {
      "text/plain": [
       "0        False\n",
       "1        False\n",
       "2        False\n",
       "3        False\n",
       "4        False\n",
       "         ...  \n",
       "32730    False\n",
       "32731    False\n",
       "32732    False\n",
       "32733    False\n",
       "32734    False\n",
       "Name: ST, Length: 32735, dtype: bool"
      ]
     },
     "execution_count": 326,
     "metadata": {},
     "output_type": "execute_result"
    }
   ],
   "source": [
    "..."
   ]
  },
  {
   "cell_type": "code",
   "execution_count": 327,
   "id": "67313365-73f3-4118-b1b4-0331f2df5801",
   "metadata": {
    "tags": []
   },
   "outputs": [
    {
     "data": {
      "text/html": [
       "<div>\n",
       "<style scoped>\n",
       "    .dataframe tbody tr th:only-of-type {\n",
       "        vertical-align: middle;\n",
       "    }\n",
       "\n",
       "    .dataframe tbody tr th {\n",
       "        vertical-align: top;\n",
       "    }\n",
       "\n",
       "    .dataframe thead th {\n",
       "        text-align: right;\n",
       "    }\n",
       "</style>\n",
       "<table border=\"1\" class=\"dataframe\">\n",
       "  <thead>\n",
       "    <tr style=\"text-align: right;\">\n",
       "      <th></th>\n",
       "      <th>ST</th>\n",
       "      <th>COUNTY NAME</th>\n",
       "      <th>COUNTY ID</th>\n",
       "      <th>POSTAL CODE</th>\n",
       "      <th>BROADBAND USAGE</th>\n",
       "      <th>ERROR RANGE (MAE)(+/-)</th>\n",
       "      <th>ERROR RANGE (95%)(+/-)</th>\n",
       "      <th>MSD</th>\n",
       "    </tr>\n",
       "  </thead>\n",
       "  <tbody>\n",
       "    <tr>\n",
       "      <th>227</th>\n",
       "      <td>NC</td>\n",
       "      <td>Alamance</td>\n",
       "      <td>37001</td>\n",
       "      <td>27253</td>\n",
       "      <td>0.417</td>\n",
       "      <td>0.001</td>\n",
       "      <td>0.004</td>\n",
       "      <td>0.000</td>\n",
       "    </tr>\n",
       "    <tr>\n",
       "      <th>228</th>\n",
       "      <td>NC</td>\n",
       "      <td>Alamance</td>\n",
       "      <td>37001</td>\n",
       "      <td>27215</td>\n",
       "      <td>0.892</td>\n",
       "      <td>0.001</td>\n",
       "      <td>0.003</td>\n",
       "      <td>0.000</td>\n",
       "    </tr>\n",
       "    <tr>\n",
       "      <th>229</th>\n",
       "      <td>NC</td>\n",
       "      <td>Alamance</td>\n",
       "      <td>37001</td>\n",
       "      <td>27217</td>\n",
       "      <td>0.391</td>\n",
       "      <td>0.001</td>\n",
       "      <td>0.003</td>\n",
       "      <td>0.000</td>\n",
       "    </tr>\n",
       "    <tr>\n",
       "      <th>230</th>\n",
       "      <td>NC</td>\n",
       "      <td>Alamance</td>\n",
       "      <td>37001</td>\n",
       "      <td>27349</td>\n",
       "      <td>0.132</td>\n",
       "      <td>0.006</td>\n",
       "      <td>0.018</td>\n",
       "      <td>-0.001</td>\n",
       "    </tr>\n",
       "    <tr>\n",
       "      <th>231</th>\n",
       "      <td>NC</td>\n",
       "      <td>Alamance</td>\n",
       "      <td>37001</td>\n",
       "      <td>27258</td>\n",
       "      <td>0.385</td>\n",
       "      <td>0.006</td>\n",
       "      <td>0.018</td>\n",
       "      <td>-0.001</td>\n",
       "    </tr>\n",
       "    <tr>\n",
       "      <th>...</th>\n",
       "      <td>...</td>\n",
       "      <td>...</td>\n",
       "      <td>...</td>\n",
       "      <td>...</td>\n",
       "      <td>...</td>\n",
       "      <td>...</td>\n",
       "      <td>...</td>\n",
       "      <td>...</td>\n",
       "    </tr>\n",
       "    <tr>\n",
       "      <th>32420</th>\n",
       "      <td>NC</td>\n",
       "      <td>Yadkin</td>\n",
       "      <td>37197</td>\n",
       "      <td>28642</td>\n",
       "      <td>0.296</td>\n",
       "      <td>0.006</td>\n",
       "      <td>0.018</td>\n",
       "      <td>-0.001</td>\n",
       "    </tr>\n",
       "    <tr>\n",
       "      <th>32421</th>\n",
       "      <td>NC</td>\n",
       "      <td>Yadkin</td>\n",
       "      <td>37197</td>\n",
       "      <td>27055</td>\n",
       "      <td>0.981</td>\n",
       "      <td>0.002</td>\n",
       "      <td>0.007</td>\n",
       "      <td>0.000</td>\n",
       "    </tr>\n",
       "    <tr>\n",
       "      <th>32422</th>\n",
       "      <td>NC</td>\n",
       "      <td>Yadkin</td>\n",
       "      <td>37197</td>\n",
       "      <td>27011</td>\n",
       "      <td>0.130</td>\n",
       "      <td>0.006</td>\n",
       "      <td>0.018</td>\n",
       "      <td>-0.001</td>\n",
       "    </tr>\n",
       "    <tr>\n",
       "      <th>32459</th>\n",
       "      <td>NC</td>\n",
       "      <td>Yancey</td>\n",
       "      <td>37199</td>\n",
       "      <td>28714</td>\n",
       "      <td>0.596</td>\n",
       "      <td>0.002</td>\n",
       "      <td>0.007</td>\n",
       "      <td>0.000</td>\n",
       "    </tr>\n",
       "    <tr>\n",
       "      <th>32460</th>\n",
       "      <td>NC</td>\n",
       "      <td>Yancey</td>\n",
       "      <td>37199</td>\n",
       "      <td>28740</td>\n",
       "      <td>0.158</td>\n",
       "      <td>0.023</td>\n",
       "      <td>0.072</td>\n",
       "      <td>0.000</td>\n",
       "    </tr>\n",
       "  </tbody>\n",
       "</table>\n",
       "<p>805 rows × 8 columns</p>\n",
       "</div>"
      ],
      "text/plain": [
       "       ST COUNTY NAME  COUNTY ID  POSTAL CODE  BROADBAND USAGE  \\\n",
       "227    NC    Alamance      37001        27253            0.417   \n",
       "228    NC    Alamance      37001        27215            0.892   \n",
       "229    NC    Alamance      37001        27217            0.391   \n",
       "230    NC    Alamance      37001        27349            0.132   \n",
       "231    NC    Alamance      37001        27258            0.385   \n",
       "...    ..         ...        ...          ...              ...   \n",
       "32420  NC      Yadkin      37197        28642            0.296   \n",
       "32421  NC      Yadkin      37197        27055            0.981   \n",
       "32422  NC      Yadkin      37197        27011            0.130   \n",
       "32459  NC      Yancey      37199        28714            0.596   \n",
       "32460  NC      Yancey      37199        28740            0.158   \n",
       "\n",
       "       ERROR RANGE (MAE)(+/-)  ERROR RANGE (95%)(+/-)    MSD  \n",
       "227                     0.001                   0.004  0.000  \n",
       "228                     0.001                   0.003  0.000  \n",
       "229                     0.001                   0.003  0.000  \n",
       "230                     0.006                   0.018 -0.001  \n",
       "231                     0.006                   0.018 -0.001  \n",
       "...                       ...                     ...    ...  \n",
       "32420                   0.006                   0.018 -0.001  \n",
       "32421                   0.002                   0.007  0.000  \n",
       "32422                   0.006                   0.018 -0.001  \n",
       "32459                   0.002                   0.007  0.000  \n",
       "32460                   0.023                   0.072  0.000  \n",
       "\n",
       "[805 rows x 8 columns]"
      ]
     },
     "execution_count": 327,
     "metadata": {},
     "output_type": "execute_result"
    }
   ],
   "source": [
    "mask = ...\n",
    "broadband[mask]"
   ]
  },
  {
   "cell_type": "markdown",
   "id": "fe70f4d3-5fef-458e-8f68-133c80a7b7e6",
   "metadata": {},
   "source": [
    "**b.** Use the `.query` dataframe method."
   ]
  },
  {
   "cell_type": "code",
   "execution_count": 328,
   "id": "b7067277-7140-4257-b8fa-dfb4a5dffd6b",
   "metadata": {
    "tags": []
   },
   "outputs": [
    {
     "data": {
      "text/html": [
       "<div>\n",
       "<style scoped>\n",
       "    .dataframe tbody tr th:only-of-type {\n",
       "        vertical-align: middle;\n",
       "    }\n",
       "\n",
       "    .dataframe tbody tr th {\n",
       "        vertical-align: top;\n",
       "    }\n",
       "\n",
       "    .dataframe thead th {\n",
       "        text-align: right;\n",
       "    }\n",
       "</style>\n",
       "<table border=\"1\" class=\"dataframe\">\n",
       "  <thead>\n",
       "    <tr style=\"text-align: right;\">\n",
       "      <th></th>\n",
       "      <th>ST</th>\n",
       "      <th>COUNTY NAME</th>\n",
       "      <th>COUNTY ID</th>\n",
       "      <th>POSTAL CODE</th>\n",
       "      <th>BROADBAND USAGE</th>\n",
       "      <th>ERROR RANGE (MAE)(+/-)</th>\n",
       "      <th>ERROR RANGE (95%)(+/-)</th>\n",
       "      <th>MSD</th>\n",
       "    </tr>\n",
       "  </thead>\n",
       "  <tbody>\n",
       "    <tr>\n",
       "      <th>227</th>\n",
       "      <td>NC</td>\n",
       "      <td>Alamance</td>\n",
       "      <td>37001</td>\n",
       "      <td>27253</td>\n",
       "      <td>0.417</td>\n",
       "      <td>0.001</td>\n",
       "      <td>0.004</td>\n",
       "      <td>0.000</td>\n",
       "    </tr>\n",
       "    <tr>\n",
       "      <th>228</th>\n",
       "      <td>NC</td>\n",
       "      <td>Alamance</td>\n",
       "      <td>37001</td>\n",
       "      <td>27215</td>\n",
       "      <td>0.892</td>\n",
       "      <td>0.001</td>\n",
       "      <td>0.003</td>\n",
       "      <td>0.000</td>\n",
       "    </tr>\n",
       "    <tr>\n",
       "      <th>229</th>\n",
       "      <td>NC</td>\n",
       "      <td>Alamance</td>\n",
       "      <td>37001</td>\n",
       "      <td>27217</td>\n",
       "      <td>0.391</td>\n",
       "      <td>0.001</td>\n",
       "      <td>0.003</td>\n",
       "      <td>0.000</td>\n",
       "    </tr>\n",
       "    <tr>\n",
       "      <th>230</th>\n",
       "      <td>NC</td>\n",
       "      <td>Alamance</td>\n",
       "      <td>37001</td>\n",
       "      <td>27349</td>\n",
       "      <td>0.132</td>\n",
       "      <td>0.006</td>\n",
       "      <td>0.018</td>\n",
       "      <td>-0.001</td>\n",
       "    </tr>\n",
       "    <tr>\n",
       "      <th>231</th>\n",
       "      <td>NC</td>\n",
       "      <td>Alamance</td>\n",
       "      <td>37001</td>\n",
       "      <td>27258</td>\n",
       "      <td>0.385</td>\n",
       "      <td>0.006</td>\n",
       "      <td>0.018</td>\n",
       "      <td>-0.001</td>\n",
       "    </tr>\n",
       "    <tr>\n",
       "      <th>...</th>\n",
       "      <td>...</td>\n",
       "      <td>...</td>\n",
       "      <td>...</td>\n",
       "      <td>...</td>\n",
       "      <td>...</td>\n",
       "      <td>...</td>\n",
       "      <td>...</td>\n",
       "      <td>...</td>\n",
       "    </tr>\n",
       "    <tr>\n",
       "      <th>32420</th>\n",
       "      <td>NC</td>\n",
       "      <td>Yadkin</td>\n",
       "      <td>37197</td>\n",
       "      <td>28642</td>\n",
       "      <td>0.296</td>\n",
       "      <td>0.006</td>\n",
       "      <td>0.018</td>\n",
       "      <td>-0.001</td>\n",
       "    </tr>\n",
       "    <tr>\n",
       "      <th>32421</th>\n",
       "      <td>NC</td>\n",
       "      <td>Yadkin</td>\n",
       "      <td>37197</td>\n",
       "      <td>27055</td>\n",
       "      <td>0.981</td>\n",
       "      <td>0.002</td>\n",
       "      <td>0.007</td>\n",
       "      <td>0.000</td>\n",
       "    </tr>\n",
       "    <tr>\n",
       "      <th>32422</th>\n",
       "      <td>NC</td>\n",
       "      <td>Yadkin</td>\n",
       "      <td>37197</td>\n",
       "      <td>27011</td>\n",
       "      <td>0.130</td>\n",
       "      <td>0.006</td>\n",
       "      <td>0.018</td>\n",
       "      <td>-0.001</td>\n",
       "    </tr>\n",
       "    <tr>\n",
       "      <th>32459</th>\n",
       "      <td>NC</td>\n",
       "      <td>Yancey</td>\n",
       "      <td>37199</td>\n",
       "      <td>28714</td>\n",
       "      <td>0.596</td>\n",
       "      <td>0.002</td>\n",
       "      <td>0.007</td>\n",
       "      <td>0.000</td>\n",
       "    </tr>\n",
       "    <tr>\n",
       "      <th>32460</th>\n",
       "      <td>NC</td>\n",
       "      <td>Yancey</td>\n",
       "      <td>37199</td>\n",
       "      <td>28740</td>\n",
       "      <td>0.158</td>\n",
       "      <td>0.023</td>\n",
       "      <td>0.072</td>\n",
       "      <td>0.000</td>\n",
       "    </tr>\n",
       "  </tbody>\n",
       "</table>\n",
       "<p>805 rows × 8 columns</p>\n",
       "</div>"
      ],
      "text/plain": [
       "       ST COUNTY NAME  COUNTY ID  POSTAL CODE  BROADBAND USAGE  \\\n",
       "227    NC    Alamance      37001        27253            0.417   \n",
       "228    NC    Alamance      37001        27215            0.892   \n",
       "229    NC    Alamance      37001        27217            0.391   \n",
       "230    NC    Alamance      37001        27349            0.132   \n",
       "231    NC    Alamance      37001        27258            0.385   \n",
       "...    ..         ...        ...          ...              ...   \n",
       "32420  NC      Yadkin      37197        28642            0.296   \n",
       "32421  NC      Yadkin      37197        27055            0.981   \n",
       "32422  NC      Yadkin      37197        27011            0.130   \n",
       "32459  NC      Yancey      37199        28714            0.596   \n",
       "32460  NC      Yancey      37199        28740            0.158   \n",
       "\n",
       "       ERROR RANGE (MAE)(+/-)  ERROR RANGE (95%)(+/-)    MSD  \n",
       "227                     0.001                   0.004  0.000  \n",
       "228                     0.001                   0.003  0.000  \n",
       "229                     0.001                   0.003  0.000  \n",
       "230                     0.006                   0.018 -0.001  \n",
       "231                     0.006                   0.018 -0.001  \n",
       "...                       ...                     ...    ...  \n",
       "32420                   0.006                   0.018 -0.001  \n",
       "32421                   0.002                   0.007  0.000  \n",
       "32422                   0.006                   0.018 -0.001  \n",
       "32459                   0.002                   0.007  0.000  \n",
       "32460                   0.023                   0.072  0.000  \n",
       "\n",
       "[805 rows x 8 columns]"
      ]
     },
     "execution_count": 328,
     "metadata": {},
     "output_type": "execute_result"
    }
   ],
   "source": [
    "..."
   ]
  },
  {
   "cell_type": "code",
   "execution_count": 329,
   "id": "2bb9d645-cc64-43ec-b510-47ae575fc961",
   "metadata": {
    "tags": []
   },
   "outputs": [
    {
     "data": {
      "text/html": [
       "<div>\n",
       "<style scoped>\n",
       "    .dataframe tbody tr th:only-of-type {\n",
       "        vertical-align: middle;\n",
       "    }\n",
       "\n",
       "    .dataframe tbody tr th {\n",
       "        vertical-align: top;\n",
       "    }\n",
       "\n",
       "    .dataframe thead th {\n",
       "        text-align: right;\n",
       "    }\n",
       "</style>\n",
       "<table border=\"1\" class=\"dataframe\">\n",
       "  <thead>\n",
       "    <tr style=\"text-align: right;\">\n",
       "      <th></th>\n",
       "      <th>ST</th>\n",
       "      <th>COUNTY NAME</th>\n",
       "      <th>COUNTY ID</th>\n",
       "      <th>POSTAL CODE</th>\n",
       "      <th>BROADBAND USAGE</th>\n",
       "      <th>ERROR RANGE (MAE)(+/-)</th>\n",
       "      <th>ERROR RANGE (95%)(+/-)</th>\n",
       "      <th>MSD</th>\n",
       "    </tr>\n",
       "  </thead>\n",
       "  <tbody>\n",
       "    <tr>\n",
       "      <th>227</th>\n",
       "      <td>NC</td>\n",
       "      <td>Alamance</td>\n",
       "      <td>37001</td>\n",
       "      <td>27253</td>\n",
       "      <td>0.417</td>\n",
       "      <td>0.001</td>\n",
       "      <td>0.004</td>\n",
       "      <td>0.000</td>\n",
       "    </tr>\n",
       "    <tr>\n",
       "      <th>228</th>\n",
       "      <td>NC</td>\n",
       "      <td>Alamance</td>\n",
       "      <td>37001</td>\n",
       "      <td>27215</td>\n",
       "      <td>0.892</td>\n",
       "      <td>0.001</td>\n",
       "      <td>0.003</td>\n",
       "      <td>0.000</td>\n",
       "    </tr>\n",
       "    <tr>\n",
       "      <th>229</th>\n",
       "      <td>NC</td>\n",
       "      <td>Alamance</td>\n",
       "      <td>37001</td>\n",
       "      <td>27217</td>\n",
       "      <td>0.391</td>\n",
       "      <td>0.001</td>\n",
       "      <td>0.003</td>\n",
       "      <td>0.000</td>\n",
       "    </tr>\n",
       "    <tr>\n",
       "      <th>230</th>\n",
       "      <td>NC</td>\n",
       "      <td>Alamance</td>\n",
       "      <td>37001</td>\n",
       "      <td>27349</td>\n",
       "      <td>0.132</td>\n",
       "      <td>0.006</td>\n",
       "      <td>0.018</td>\n",
       "      <td>-0.001</td>\n",
       "    </tr>\n",
       "    <tr>\n",
       "      <th>231</th>\n",
       "      <td>NC</td>\n",
       "      <td>Alamance</td>\n",
       "      <td>37001</td>\n",
       "      <td>27258</td>\n",
       "      <td>0.385</td>\n",
       "      <td>0.006</td>\n",
       "      <td>0.018</td>\n",
       "      <td>-0.001</td>\n",
       "    </tr>\n",
       "  </tbody>\n",
       "</table>\n",
       "</div>"
      ],
      "text/plain": [
       "     ST COUNTY NAME  COUNTY ID  POSTAL CODE  BROADBAND USAGE  \\\n",
       "227  NC    Alamance      37001        27253            0.417   \n",
       "228  NC    Alamance      37001        27215            0.892   \n",
       "229  NC    Alamance      37001        27217            0.391   \n",
       "230  NC    Alamance      37001        27349            0.132   \n",
       "231  NC    Alamance      37001        27258            0.385   \n",
       "\n",
       "     ERROR RANGE (MAE)(+/-)  ERROR RANGE (95%)(+/-)    MSD  \n",
       "227                   0.001                   0.004  0.000  \n",
       "228                   0.001                   0.003  0.000  \n",
       "229                   0.001                   0.003  0.000  \n",
       "230                   0.006                   0.018 -0.001  \n",
       "231                   0.006                   0.018 -0.001  "
      ]
     },
     "execution_count": 329,
     "metadata": {},
     "output_type": "execute_result"
    }
   ],
   "source": [
    "nc = ...\n",
    "nc.head(5)"
   ]
  },
  {
   "cell_type": "markdown",
   "id": "a1ed2cef-8f39-444b-aa96-ab6360f722b7",
   "metadata": {},
   "source": [
    "### Summarizing\n",
    "\n",
    "- **Summarizing** creates aggregate measures that describe a group."
   ]
  },
  {
   "cell_type": "markdown",
   "id": "a2138d3e-b8d8-44b4-8c85-6e81ef1fb9b3",
   "metadata": {},
   "source": [
    "**Question 3.** What is the average broadband usage in North Carolina?"
   ]
  },
  {
   "cell_type": "code",
   "execution_count": 330,
   "id": "77256386-6e49-4617-8b14-581b333572ec",
   "metadata": {
    "tags": []
   },
   "outputs": [
    {
     "data": {
      "text/plain": [
       "0.3747937888198758"
      ]
     },
     "execution_count": 330,
     "metadata": {},
     "output_type": "execute_result"
    }
   ],
   "source": [
    "..."
   ]
  },
  {
   "cell_type": "markdown",
   "id": "7c8e424b-4c06-4136-8429-a4472ec51ab0",
   "metadata": {},
   "source": [
    "**Question 4.** Produce a visualization illustrating the distribution of broadband usage across North Carolina."
   ]
  },
  {
   "cell_type": "markdown",
   "id": "c47a3d99-e7b6-4e8b-8e14-393e4feb55a3",
   "metadata": {},
   "source": [
    "**a.** Using `matplotlib.pyplot`.\n",
    "\n",
    "**Note:** `matplotlib.pyplot` is a collection of command style functions. Each `pyplot` function makes some changes to a figure, such as creating a figure, creating a plotting area in a figure, plotting some lines in a plotting area, adding labels to the plot, etc.\n",
    "\n",
    "`matplotlib.pyplot` is commonly imported under the alias `plt` for convenience:\n",
    "\n",
    "```\n",
    "import matplotlib.pyplot as plt\n",
    "```\n",
    "Here are some common functions provided by matplotlib.pyplot:\n",
    "\n",
    "- `plt.scatter()`: Make a scatter plot.\n",
    "- `plt.bar()`: Make a bar plot.\n",
    "- `plt.hist()`: Plot a histogram.\n",
    "- `plt.xlabel()`: Set the label for the $x-$axis.\n",
    "- `plt.ylabel()`: Set the label for the $y-$axis.\n",
    "- `plt.title()`: Set a title for the Axes.\n",
    "- `plt.legend()`: Place a legend on the `Axes`.\n",
    "\n",
    "**Note:** An `Axes` in Matplotlib is the primary element used for plotting data.\n",
    "\n",
    "<img src=\"https://matplotlib.org/stable/_images/sphx_glr_anatomy_001.png\" width=\"500\" height=\"400\" />"
   ]
  },
  {
   "cell_type": "code",
   "execution_count": 331,
   "id": "274b11e9-d3f4-4ed3-b669-24ebb076cd10",
   "metadata": {
    "tags": []
   },
   "outputs": [
    {
     "data": {
      "text/plain": [
       "227      0.417\n",
       "228      0.892\n",
       "229      0.391\n",
       "230      0.132\n",
       "231      0.385\n",
       "         ...  \n",
       "32420    0.296\n",
       "32421    0.981\n",
       "32422    0.130\n",
       "32459    0.596\n",
       "32460    0.158\n",
       "Name: BROADBAND USAGE, Length: 805, dtype: float64"
      ]
     },
     "execution_count": 331,
     "metadata": {},
     "output_type": "execute_result"
    }
   ],
   "source": [
    "nc['BROADBAND USAGE']"
   ]
  },
  {
   "cell_type": "code",
   "execution_count": 332,
   "id": "2bcefe06-ee6c-439a-afc5-4a650bdef77d",
   "metadata": {
    "tags": []
   },
   "outputs": [
    {
     "data": {
      "image/png": "[encoded data removed]",
      "text/plain": [
       "<Figure size 800x600 with 1 Axes>"
      ]
     },
     "metadata": {},
     "output_type": "display_data"
    }
   ],
   "source": [
    "plt.hist(x=nc['BROADBAND USAGE'], bins=10, color='skyblue', edgecolor='black')\n",
    "\n",
    "plt.xlabel('Proportion of Broadband Usage')\n",
    "plt.ylabel('Frequency')\n",
    "plt.title('Histogram of Broadband Usage in NC');"
   ]
  },
  {
   "cell_type": "markdown",
   "id": "0f24fe65-5af6-4c77-96a6-d4aa6635f8c3",
   "metadata": {},
   "source": [
    "**b.** Using the `.plot` `pandas` `DataFrame` method.\n",
    "\n",
    "**Note:** In `pandas`, you can use the `.plot()` method to create basic plots directly from `DataFrame` objects. This method is a wrapper around `matplotlib.pyplot.plot()`. Pandas provides a variety of visualization tools through its integration with `matplotlib`. \n",
    "\n",
    "Here are some common visualizations you can create using `pandas`:\n",
    "\n",
    "- `df.plot(kind='line')`: Make a line plot\n",
    "- `df.plot(kind='scatter', x='column1', y='column2')`: Make a scatter plot \n",
    "- `df.plot(kind='bar')` or `df.plot(kind='barh')` for horizontal bars: Make a bar plot \n",
    "- `df.plot(kind='hist')` or `df.plot.hist()`: Make a histogram \n",
    "- `df.boxplot()` or `df.plot.hist()`: Make a histogram "
   ]
  },
  {
   "cell_type": "code",
   "execution_count": 333,
   "id": "70a2ff10-6e50-4df9-af2d-6f11835163dc",
   "metadata": {
    "tags": []
   },
   "outputs": [
    {
     "data": {
      "image/png": "[encoded data removed]",
      "text/plain": [
       "<Figure size 800x600 with 1 Axes>"
      ]
     },
     "metadata": {},
     "output_type": "display_data"
    }
   ],
   "source": [
    "nc['BROADBAND USAGE'].hist(bins=10, color='skyblue', edgecolor='black', grid=False)\n",
    "\n",
    "plt.xlabel('Proportion of Broadband Usage')\n",
    "plt.ylabel('Frequency')\n",
    "plt.title('Histogram of Broadband Usage in NC');"
   ]
  },
  {
   "cell_type": "markdown",
   "id": "3b3f5e0c-15bc-4b9f-b864-243360412288",
   "metadata": {},
   "source": [
    "### Merging/Joining\n",
    "\n",
    "- **Merging** or **joining** datasets through a relation is a way to add cases or computed attributes from outside the original dataset. "
   ]
  },
  {
   "cell_type": "code",
   "execution_count": 334,
   "id": "1d76ab25-56ac-4a24-90f8-b34d319f693e",
   "metadata": {
    "tags": []
   },
   "outputs": [
    {
     "data": {
      "text/html": [
       "<div>\n",
       "<style scoped>\n",
       "    .dataframe tbody tr th:only-of-type {\n",
       "        vertical-align: middle;\n",
       "    }\n",
       "\n",
       "    .dataframe tbody tr th {\n",
       "        vertical-align: top;\n",
       "    }\n",
       "\n",
       "    .dataframe thead th {\n",
       "        text-align: right;\n",
       "    }\n",
       "</style>\n",
       "<table border=\"1\" class=\"dataframe\">\n",
       "  <thead>\n",
       "    <tr style=\"text-align: right;\">\n",
       "      <th></th>\n",
       "      <th>POSTAL CODE</th>\n",
       "      <th>POP2022</th>\n",
       "    </tr>\n",
       "  </thead>\n",
       "  <tbody>\n",
       "    <tr>\n",
       "      <th>0</th>\n",
       "      <td>27006</td>\n",
       "      <td>15825</td>\n",
       "    </tr>\n",
       "    <tr>\n",
       "      <th>1</th>\n",
       "      <td>27007</td>\n",
       "      <td>2187</td>\n",
       "    </tr>\n",
       "    <tr>\n",
       "      <th>2</th>\n",
       "      <td>27009</td>\n",
       "      <td>3486</td>\n",
       "    </tr>\n",
       "    <tr>\n",
       "      <th>3</th>\n",
       "      <td>27011</td>\n",
       "      <td>4853</td>\n",
       "    </tr>\n",
       "    <tr>\n",
       "      <th>4</th>\n",
       "      <td>27012</td>\n",
       "      <td>28173</td>\n",
       "    </tr>\n",
       "  </tbody>\n",
       "</table>\n",
       "</div>"
      ],
      "text/plain": [
       "   POSTAL CODE  POP2022\n",
       "0        27006    15825\n",
       "1        27007     2187\n",
       "2        27009     3486\n",
       "3        27011     4853\n",
       "4        27012    28173"
      ]
     },
     "execution_count": 334,
     "metadata": {},
     "output_type": "execute_result"
    }
   ],
   "source": [
    "zip_pop = pd.read_csv('data/zip_pop.csv')\n",
    "zip_pop.head(5)"
   ]
  },
  {
   "cell_type": "markdown",
   "id": "bb2c6ec5-804c-4b63-803b-e2713607e410",
   "metadata": {},
   "source": [
    "**Question 5.** Use the `pd.merge` function to combine the `nc` and `zip_pop` dataframes to form a unified dataframe named `ncm`.\n",
    "\n",
    "**Note:** The `pd.merge` function in `pandas` is a tool for merging two `DataFrame` or `Series` objects based on one or more keys in a similar way to [**SQL**](https://www.geeksforgeeks.org/what-is-sql/)  joins. The function allows for different types of joins (inner, outer, left, and right). To learn more about the `pd.merge` function from ChatGPT click [**here**](https://docs.google.com/document/d/1BaGl73t2hlePwO622sxSZ_o74AvtiGL7SXOIxZs1miU/edit?usp=sharing)."
   ]
  },
  {
   "cell_type": "code",
   "execution_count": 335,
   "id": "d101f58e-5155-41a3-8c31-1550afe20a22",
   "metadata": {
    "tags": []
   },
   "outputs": [
    {
     "name": "stdout",
     "output_type": "stream",
     "text": [
      "<class 'pandas.core.frame.DataFrame'>\n",
      "Int64Index: 805 entries, 227 to 32460\n",
      "Data columns (total 8 columns):\n",
      " #   Column                  Non-Null Count  Dtype  \n",
      "---  ------                  --------------  -----  \n",
      " 0   ST                      805 non-null    object \n",
      " 1   COUNTY NAME             805 non-null    object \n",
      " 2   COUNTY ID               805 non-null    int64  \n",
      " 3   POSTAL CODE             805 non-null    int64  \n",
      " 4   BROADBAND USAGE         805 non-null    float64\n",
      " 5   ERROR RANGE (MAE)(+/-)  805 non-null    float64\n",
      " 6   ERROR RANGE (95%)(+/-)  805 non-null    float64\n",
      " 7   MSD                     805 non-null    float64\n",
      "dtypes: float64(4), int64(2), object(2)\n",
      "memory usage: 56.6+ KB\n",
      "None\n",
      "\n",
      "\n",
      "<class 'pandas.core.frame.DataFrame'>\n",
      "RangeIndex: 853 entries, 0 to 852\n",
      "Data columns (total 2 columns):\n",
      " #   Column       Non-Null Count  Dtype\n",
      "---  ------       --------------  -----\n",
      " 0   POSTAL CODE  853 non-null    int64\n",
      " 1   POP2022      853 non-null    int64\n",
      "dtypes: int64(2)\n",
      "memory usage: 13.5 KB\n",
      "None\n"
     ]
    }
   ],
   "source": [
    "print(nc.info())\n",
    "print(\"\\n\")\n",
    "print(zip_pop.info())"
   ]
  },
  {
   "cell_type": "code",
   "execution_count": 336,
   "id": "2e7ecbf0-6c62-4fdd-ba3d-e1d732d5f478",
   "metadata": {
    "tags": []
   },
   "outputs": [
    {
     "data": {
      "text/html": [
       "<div>\n",
       "<style scoped>\n",
       "    .dataframe tbody tr th:only-of-type {\n",
       "        vertical-align: middle;\n",
       "    }\n",
       "\n",
       "    .dataframe tbody tr th {\n",
       "        vertical-align: top;\n",
       "    }\n",
       "\n",
       "    .dataframe thead th {\n",
       "        text-align: right;\n",
       "    }\n",
       "</style>\n",
       "<table border=\"1\" class=\"dataframe\">\n",
       "  <thead>\n",
       "    <tr style=\"text-align: right;\">\n",
       "      <th></th>\n",
       "      <th>ST</th>\n",
       "      <th>COUNTY NAME</th>\n",
       "      <th>COUNTY ID</th>\n",
       "      <th>POSTAL CODE</th>\n",
       "      <th>BROADBAND USAGE</th>\n",
       "      <th>ERROR RANGE (MAE)(+/-)</th>\n",
       "      <th>ERROR RANGE (95%)(+/-)</th>\n",
       "      <th>MSD</th>\n",
       "      <th>POP2022</th>\n",
       "    </tr>\n",
       "  </thead>\n",
       "  <tbody>\n",
       "    <tr>\n",
       "      <th>0</th>\n",
       "      <td>NC</td>\n",
       "      <td>Alamance</td>\n",
       "      <td>37001</td>\n",
       "      <td>27253</td>\n",
       "      <td>0.417</td>\n",
       "      <td>0.001</td>\n",
       "      <td>0.004</td>\n",
       "      <td>0.000</td>\n",
       "      <td>31282</td>\n",
       "    </tr>\n",
       "    <tr>\n",
       "      <th>1</th>\n",
       "      <td>NC</td>\n",
       "      <td>Alamance</td>\n",
       "      <td>37001</td>\n",
       "      <td>27215</td>\n",
       "      <td>0.892</td>\n",
       "      <td>0.001</td>\n",
       "      <td>0.003</td>\n",
       "      <td>0.000</td>\n",
       "      <td>45982</td>\n",
       "    </tr>\n",
       "    <tr>\n",
       "      <th>2</th>\n",
       "      <td>NC</td>\n",
       "      <td>Alamance</td>\n",
       "      <td>37001</td>\n",
       "      <td>27217</td>\n",
       "      <td>0.391</td>\n",
       "      <td>0.001</td>\n",
       "      <td>0.003</td>\n",
       "      <td>0.000</td>\n",
       "      <td>40036</td>\n",
       "    </tr>\n",
       "    <tr>\n",
       "      <th>3</th>\n",
       "      <td>NC</td>\n",
       "      <td>Alamance</td>\n",
       "      <td>37001</td>\n",
       "      <td>27349</td>\n",
       "      <td>0.132</td>\n",
       "      <td>0.006</td>\n",
       "      <td>0.018</td>\n",
       "      <td>-0.001</td>\n",
       "      <td>6347</td>\n",
       "    </tr>\n",
       "    <tr>\n",
       "      <th>4</th>\n",
       "      <td>NC</td>\n",
       "      <td>Alamance</td>\n",
       "      <td>37001</td>\n",
       "      <td>27258</td>\n",
       "      <td>0.385</td>\n",
       "      <td>0.006</td>\n",
       "      <td>0.018</td>\n",
       "      <td>-0.001</td>\n",
       "      <td>7319</td>\n",
       "    </tr>\n",
       "    <tr>\n",
       "      <th>...</th>\n",
       "      <td>...</td>\n",
       "      <td>...</td>\n",
       "      <td>...</td>\n",
       "      <td>...</td>\n",
       "      <td>...</td>\n",
       "      <td>...</td>\n",
       "      <td>...</td>\n",
       "      <td>...</td>\n",
       "      <td>...</td>\n",
       "    </tr>\n",
       "    <tr>\n",
       "      <th>798</th>\n",
       "      <td>NC</td>\n",
       "      <td>Yadkin</td>\n",
       "      <td>37197</td>\n",
       "      <td>28642</td>\n",
       "      <td>0.296</td>\n",
       "      <td>0.006</td>\n",
       "      <td>0.018</td>\n",
       "      <td>-0.001</td>\n",
       "      <td>5380</td>\n",
       "    </tr>\n",
       "    <tr>\n",
       "      <th>799</th>\n",
       "      <td>NC</td>\n",
       "      <td>Yadkin</td>\n",
       "      <td>37197</td>\n",
       "      <td>27055</td>\n",
       "      <td>0.981</td>\n",
       "      <td>0.002</td>\n",
       "      <td>0.007</td>\n",
       "      <td>0.000</td>\n",
       "      <td>14997</td>\n",
       "    </tr>\n",
       "    <tr>\n",
       "      <th>800</th>\n",
       "      <td>NC</td>\n",
       "      <td>Yadkin</td>\n",
       "      <td>37197</td>\n",
       "      <td>27011</td>\n",
       "      <td>0.130</td>\n",
       "      <td>0.006</td>\n",
       "      <td>0.018</td>\n",
       "      <td>-0.001</td>\n",
       "      <td>4853</td>\n",
       "    </tr>\n",
       "    <tr>\n",
       "      <th>801</th>\n",
       "      <td>NC</td>\n",
       "      <td>Yancey</td>\n",
       "      <td>37199</td>\n",
       "      <td>28714</td>\n",
       "      <td>0.596</td>\n",
       "      <td>0.002</td>\n",
       "      <td>0.007</td>\n",
       "      <td>0.000</td>\n",
       "      <td>16529</td>\n",
       "    </tr>\n",
       "    <tr>\n",
       "      <th>802</th>\n",
       "      <td>NC</td>\n",
       "      <td>Yancey</td>\n",
       "      <td>37199</td>\n",
       "      <td>28740</td>\n",
       "      <td>0.158</td>\n",
       "      <td>0.023</td>\n",
       "      <td>0.072</td>\n",
       "      <td>0.000</td>\n",
       "      <td>1727</td>\n",
       "    </tr>\n",
       "  </tbody>\n",
       "</table>\n",
       "<p>803 rows × 9 columns</p>\n",
       "</div>"
      ],
      "text/plain": [
       "     ST COUNTY NAME  COUNTY ID  POSTAL CODE  BROADBAND USAGE  \\\n",
       "0    NC    Alamance      37001        27253            0.417   \n",
       "1    NC    Alamance      37001        27215            0.892   \n",
       "2    NC    Alamance      37001        27217            0.391   \n",
       "3    NC    Alamance      37001        27349            0.132   \n",
       "4    NC    Alamance      37001        27258            0.385   \n",
       "..   ..         ...        ...          ...              ...   \n",
       "798  NC      Yadkin      37197        28642            0.296   \n",
       "799  NC      Yadkin      37197        27055            0.981   \n",
       "800  NC      Yadkin      37197        27011            0.130   \n",
       "801  NC      Yancey      37199        28714            0.596   \n",
       "802  NC      Yancey      37199        28740            0.158   \n",
       "\n",
       "     ERROR RANGE (MAE)(+/-)  ERROR RANGE (95%)(+/-)    MSD  POP2022  \n",
       "0                     0.001                   0.004  0.000    31282  \n",
       "1                     0.001                   0.003  0.000    45982  \n",
       "2                     0.001                   0.003  0.000    40036  \n",
       "3                     0.006                   0.018 -0.001     6347  \n",
       "4                     0.006                   0.018 -0.001     7319  \n",
       "..                      ...                     ...    ...      ...  \n",
       "798                   0.006                   0.018 -0.001     5380  \n",
       "799                   0.002                   0.007  0.000    14997  \n",
       "800                   0.006                   0.018 -0.001     4853  \n",
       "801                   0.002                   0.007  0.000    16529  \n",
       "802                   0.023                   0.072  0.000     1727  \n",
       "\n",
       "[803 rows x 9 columns]"
      ]
     },
     "execution_count": 336,
     "metadata": {},
     "output_type": "execute_result"
    }
   ],
   "source": [
    "pd.merge(nc, zip_pop, on='POSTAL CODE', how='inner')"
   ]
  },
  {
   "cell_type": "code",
   "execution_count": 337,
   "id": "d2aaccdd-177b-40b1-a660-78123b02279b",
   "metadata": {
    "tags": []
   },
   "outputs": [
    {
     "data": {
      "text/html": [
       "<div>\n",
       "<style scoped>\n",
       "    .dataframe tbody tr th:only-of-type {\n",
       "        vertical-align: middle;\n",
       "    }\n",
       "\n",
       "    .dataframe tbody tr th {\n",
       "        vertical-align: top;\n",
       "    }\n",
       "\n",
       "    .dataframe thead th {\n",
       "        text-align: right;\n",
       "    }\n",
       "</style>\n",
       "<table border=\"1\" class=\"dataframe\">\n",
       "  <thead>\n",
       "    <tr style=\"text-align: right;\">\n",
       "      <th></th>\n",
       "      <th>ST</th>\n",
       "      <th>COUNTY NAME</th>\n",
       "      <th>COUNTY ID</th>\n",
       "      <th>POSTAL CODE</th>\n",
       "      <th>BROADBAND USAGE</th>\n",
       "      <th>ERROR RANGE (MAE)(+/-)</th>\n",
       "      <th>ERROR RANGE (95%)(+/-)</th>\n",
       "      <th>MSD</th>\n",
       "      <th>POP2022</th>\n",
       "    </tr>\n",
       "  </thead>\n",
       "  <tbody>\n",
       "    <tr>\n",
       "      <th>0</th>\n",
       "      <td>NC</td>\n",
       "      <td>Alamance</td>\n",
       "      <td>37001</td>\n",
       "      <td>27253</td>\n",
       "      <td>0.417</td>\n",
       "      <td>0.001</td>\n",
       "      <td>0.004</td>\n",
       "      <td>0.000</td>\n",
       "      <td>31282</td>\n",
       "    </tr>\n",
       "    <tr>\n",
       "      <th>1</th>\n",
       "      <td>NC</td>\n",
       "      <td>Alamance</td>\n",
       "      <td>37001</td>\n",
       "      <td>27215</td>\n",
       "      <td>0.892</td>\n",
       "      <td>0.001</td>\n",
       "      <td>0.003</td>\n",
       "      <td>0.000</td>\n",
       "      <td>45982</td>\n",
       "    </tr>\n",
       "    <tr>\n",
       "      <th>2</th>\n",
       "      <td>NC</td>\n",
       "      <td>Alamance</td>\n",
       "      <td>37001</td>\n",
       "      <td>27217</td>\n",
       "      <td>0.391</td>\n",
       "      <td>0.001</td>\n",
       "      <td>0.003</td>\n",
       "      <td>0.000</td>\n",
       "      <td>40036</td>\n",
       "    </tr>\n",
       "    <tr>\n",
       "      <th>3</th>\n",
       "      <td>NC</td>\n",
       "      <td>Alamance</td>\n",
       "      <td>37001</td>\n",
       "      <td>27349</td>\n",
       "      <td>0.132</td>\n",
       "      <td>0.006</td>\n",
       "      <td>0.018</td>\n",
       "      <td>-0.001</td>\n",
       "      <td>6347</td>\n",
       "    </tr>\n",
       "    <tr>\n",
       "      <th>4</th>\n",
       "      <td>NC</td>\n",
       "      <td>Alamance</td>\n",
       "      <td>37001</td>\n",
       "      <td>27258</td>\n",
       "      <td>0.385</td>\n",
       "      <td>0.006</td>\n",
       "      <td>0.018</td>\n",
       "      <td>-0.001</td>\n",
       "      <td>7319</td>\n",
       "    </tr>\n",
       "  </tbody>\n",
       "</table>\n",
       "</div>"
      ],
      "text/plain": [
       "   ST COUNTY NAME  COUNTY ID  POSTAL CODE  BROADBAND USAGE  \\\n",
       "0  NC    Alamance      37001        27253            0.417   \n",
       "1  NC    Alamance      37001        27215            0.892   \n",
       "2  NC    Alamance      37001        27217            0.391   \n",
       "3  NC    Alamance      37001        27349            0.132   \n",
       "4  NC    Alamance      37001        27258            0.385   \n",
       "\n",
       "   ERROR RANGE (MAE)(+/-)  ERROR RANGE (95%)(+/-)    MSD  POP2022  \n",
       "0                   0.001                   0.004  0.000    31282  \n",
       "1                   0.001                   0.003  0.000    45982  \n",
       "2                   0.001                   0.003  0.000    40036  \n",
       "3                   0.006                   0.018 -0.001     6347  \n",
       "4                   0.006                   0.018 -0.001     7319  "
      ]
     },
     "execution_count": 337,
     "metadata": {},
     "output_type": "execute_result"
    }
   ],
   "source": [
    "ncm = pd.merge(nc, zip_pop, on='POSTAL CODE', how='inner')\n",
    "ncm.head(5)"
   ]
  },
  {
   "cell_type": "markdown",
   "id": "1d396818-f25e-4415-a552-4c6d0ff2e549",
   "metadata": {},
   "source": [
    "### Calculating\n",
    "\n",
    "- **Calculating** a new attribute involves describing a new idea in terms of other attributes."
   ]
  },
  {
   "cell_type": "code",
   "execution_count": 338,
   "id": "03db2910-ff4f-4d4c-9645-ecefd0076e4e",
   "metadata": {
    "tags": []
   },
   "outputs": [
    {
     "name": "stdout",
     "output_type": "stream",
     "text": [
      "The mean population in NC is 13009\n",
      "The median population in NC is 6308\n"
     ]
    }
   ],
   "source": [
    "mean_pop = round(ncm['POP2022'].mean())\n",
    "median_pop = round(ncm['POP2022'].median())\n",
    "\n",
    "print(\"The mean population in NC is\", mean_pop)\n",
    "print(\"The median population in NC is\", median_pop)"
   ]
  },
  {
   "cell_type": "markdown",
   "id": "b8f85b79-05f4-4508-8790-3ffc5febfb3f",
   "metadata": {},
   "source": [
    "**Question 6.** Use the `np.where` function to create a new column named `SIZE`, which designates a county as `RURAL` if its population is equal to or below the median, and as `URBAN` when the population surpasses the median.\n",
    "\n",
    "**Note:** The `np.where` function is from the `NumPy` package. It allows for conditional selection and can be used to create new array elements (which can be added to `pandas` `DataFrame` objects based on a condition. To learn more about the `np.where` function from ChatGPT click [**here**](https://docs.google.com/document/d/1ijGDB0yk4VPMUNv7mFIqq8kQtqm-Iy-ZwzpdnR_ehTw/edit?usp=sharing)."
   ]
  },
  {
   "cell_type": "code",
   "execution_count": 339,
   "id": "6dfafc79-6f06-44d7-88e1-9b5f877ae9dc",
   "metadata": {
    "tags": []
   },
   "outputs": [
    {
     "data": {
      "text/html": [
       "<div>\n",
       "<style scoped>\n",
       "    .dataframe tbody tr th:only-of-type {\n",
       "        vertical-align: middle;\n",
       "    }\n",
       "\n",
       "    .dataframe tbody tr th {\n",
       "        vertical-align: top;\n",
       "    }\n",
       "\n",
       "    .dataframe thead th {\n",
       "        text-align: right;\n",
       "    }\n",
       "</style>\n",
       "<table border=\"1\" class=\"dataframe\">\n",
       "  <thead>\n",
       "    <tr style=\"text-align: right;\">\n",
       "      <th></th>\n",
       "      <th>ST</th>\n",
       "      <th>COUNTY NAME</th>\n",
       "      <th>COUNTY ID</th>\n",
       "      <th>POSTAL CODE</th>\n",
       "      <th>BROADBAND USAGE</th>\n",
       "      <th>ERROR RANGE (MAE)(+/-)</th>\n",
       "      <th>ERROR RANGE (95%)(+/-)</th>\n",
       "      <th>MSD</th>\n",
       "      <th>POP2022</th>\n",
       "      <th>SIZE</th>\n",
       "    </tr>\n",
       "  </thead>\n",
       "  <tbody>\n",
       "    <tr>\n",
       "      <th>0</th>\n",
       "      <td>NC</td>\n",
       "      <td>Alamance</td>\n",
       "      <td>37001</td>\n",
       "      <td>27253</td>\n",
       "      <td>0.417</td>\n",
       "      <td>0.001</td>\n",
       "      <td>0.004</td>\n",
       "      <td>0.000</td>\n",
       "      <td>31282</td>\n",
       "      <td>URBAN</td>\n",
       "    </tr>\n",
       "    <tr>\n",
       "      <th>1</th>\n",
       "      <td>NC</td>\n",
       "      <td>Alamance</td>\n",
       "      <td>37001</td>\n",
       "      <td>27215</td>\n",
       "      <td>0.892</td>\n",
       "      <td>0.001</td>\n",
       "      <td>0.003</td>\n",
       "      <td>0.000</td>\n",
       "      <td>45982</td>\n",
       "      <td>URBAN</td>\n",
       "    </tr>\n",
       "    <tr>\n",
       "      <th>2</th>\n",
       "      <td>NC</td>\n",
       "      <td>Alamance</td>\n",
       "      <td>37001</td>\n",
       "      <td>27217</td>\n",
       "      <td>0.391</td>\n",
       "      <td>0.001</td>\n",
       "      <td>0.003</td>\n",
       "      <td>0.000</td>\n",
       "      <td>40036</td>\n",
       "      <td>URBAN</td>\n",
       "    </tr>\n",
       "    <tr>\n",
       "      <th>3</th>\n",
       "      <td>NC</td>\n",
       "      <td>Alamance</td>\n",
       "      <td>37001</td>\n",
       "      <td>27349</td>\n",
       "      <td>0.132</td>\n",
       "      <td>0.006</td>\n",
       "      <td>0.018</td>\n",
       "      <td>-0.001</td>\n",
       "      <td>6347</td>\n",
       "      <td>URBAN</td>\n",
       "    </tr>\n",
       "    <tr>\n",
       "      <th>4</th>\n",
       "      <td>NC</td>\n",
       "      <td>Alamance</td>\n",
       "      <td>37001</td>\n",
       "      <td>27258</td>\n",
       "      <td>0.385</td>\n",
       "      <td>0.006</td>\n",
       "      <td>0.018</td>\n",
       "      <td>-0.001</td>\n",
       "      <td>7319</td>\n",
       "      <td>URBAN</td>\n",
       "    </tr>\n",
       "  </tbody>\n",
       "</table>\n",
       "</div>"
      ],
      "text/plain": [
       "   ST COUNTY NAME  COUNTY ID  POSTAL CODE  BROADBAND USAGE  \\\n",
       "0  NC    Alamance      37001        27253            0.417   \n",
       "1  NC    Alamance      37001        27215            0.892   \n",
       "2  NC    Alamance      37001        27217            0.391   \n",
       "3  NC    Alamance      37001        27349            0.132   \n",
       "4  NC    Alamance      37001        27258            0.385   \n",
       "\n",
       "   ERROR RANGE (MAE)(+/-)  ERROR RANGE (95%)(+/-)    MSD  POP2022   SIZE  \n",
       "0                   0.001                   0.004  0.000    31282  URBAN  \n",
       "1                   0.001                   0.003  0.000    45982  URBAN  \n",
       "2                   0.001                   0.003  0.000    40036  URBAN  \n",
       "3                   0.006                   0.018 -0.001     6347  URBAN  \n",
       "4                   0.006                   0.018 -0.001     7319  URBAN  "
      ]
     },
     "execution_count": 339,
     "metadata": {},
     "output_type": "execute_result"
    }
   ],
   "source": [
    "ncm['SIZE'] = np.where(...)\n",
    "ncm.head(5)"
   ]
  },
  {
   "cell_type": "markdown",
   "id": "86844ab4-281b-4051-b78e-7f160603a3d1",
   "metadata": {},
   "source": [
    "**Question 7.** Produce a visualization illustrating the frequency of rural and urban counties across North Carolina.\n",
    "\n",
    "First let's construct a frequency table to tally the counts for each size category. What values do you anticipate for these counts?"
   ]
  },
  {
   "cell_type": "code",
   "execution_count": 340,
   "id": "1e73e06e-7af9-4373-936a-87061065174e",
   "metadata": {
    "tags": []
   },
   "outputs": [
    {
     "data": {
      "text/plain": [
       "RURAL    402\n",
       "URBAN    401\n",
       "Name: SIZE, dtype: int64"
      ]
     },
     "execution_count": 340,
     "metadata": {},
     "output_type": "execute_result"
    }
   ],
   "source": [
    "# Count the occurrences of each category in the SIZE column\n",
    "size = ncm['SIZE'].value_counts()\n",
    "size"
   ]
  },
  {
   "cell_type": "markdown",
   "id": "5aebdc7a-4965-41b5-b0e7-4484885cf589",
   "metadata": {},
   "source": [
    "**a.** Using `matplotlib.pyplot`."
   ]
  },
  {
   "cell_type": "code",
   "execution_count": 341,
   "id": "34ca9004-c93c-4644-8d53-0086cf81343d",
   "metadata": {
    "tags": []
   },
   "outputs": [
    {
     "data": {
      "image/png": "[encoded data removed]",
      "text/plain": [
       "<Figure size 800x600 with 1 Axes>"
      ]
     },
     "metadata": {},
     "output_type": "display_data"
    }
   ],
   "source": [
    "# Category labels\n",
    "categories = size.index\n",
    "\n",
    "# Category values\n",
    "counts = size.values\n",
    "\n",
    "plt.bar(x=categories, height=counts, color=['blue', 'orange'])\n",
    "plt.ylabel('Frequency')\n",
    "plt.title('Rural vs Urban');"
   ]
  },
  {
   "cell_type": "markdown",
   "id": "f21d0cf6-06fa-4104-9feb-8c8a8db1166c",
   "metadata": {},
   "source": [
    "**b.** Using `.plot`."
   ]
  },
  {
   "cell_type": "code",
   "execution_count": 342,
   "id": "0539df90-df12-400f-8291-b5a1a6d6cec9",
   "metadata": {
    "tags": []
   },
   "outputs": [
    {
     "data": {
      "image/png": "[encoded data removed]",
      "text/plain": [
       "<Figure size 800x600 with 1 Axes>"
      ]
     },
     "metadata": {},
     "output_type": "display_data"
    }
   ],
   "source": [
    "size.plot(kind='bar', color=['blue', 'orange'])\n",
    "\n",
    "plt.ylabel('Frequency')\n",
    "plt.title('Rural vs Urban');"
   ]
  },
  {
   "cell_type": "markdown",
   "id": "2c5e200a-a46c-49b9-9458-effeb730cb07",
   "metadata": {},
   "source": [
    "### Grouping\n",
    "\n",
    "- **Grouping** is fundamental for comparing. \n",
    "\n",
    "**Note:** The `.groupby` method in `pandas` is a tool for data aggregation, allowing you to split data into groups based on some criteria, apply a function to each group independently, and combine the results into a data structure. To learn more about the `.groupby` method from ChatGPT click [**here**](https://docs.google.com/document/d/1j5vDYqkDiIug7YJyDUF47ghToEWDK-Nu_W38580Uyb4/edit?usp=sharing)."
   ]
  },
  {
   "cell_type": "code",
   "execution_count": 343,
   "id": "02a863f7-0454-42c2-917e-bc70a643ba9e",
   "metadata": {
    "tags": []
   },
   "outputs": [
    {
     "data": {
      "text/plain": [
       "<pandas.core.groupby.generic.DataFrameGroupBy object at 0x13719d420>"
      ]
     },
     "execution_count": 343,
     "metadata": {},
     "output_type": "execute_result"
    }
   ],
   "source": [
    "ncm.groupby('COUNTY NAME')"
   ]
  },
  {
   "cell_type": "code",
   "execution_count": 344,
   "id": "26509f00-d781-4442-b5c1-a09017d8834e",
   "metadata": {
    "tags": []
   },
   "outputs": [],
   "source": [
    "grps = ncm.groupby('COUNTY NAME')"
   ]
  },
  {
   "cell_type": "code",
   "execution_count": 345,
   "id": "99e0ac3d-1288-45b2-8638-688f24d310f1",
   "metadata": {
    "tags": []
   },
   "outputs": [
    {
     "data": {
      "text/plain": [
       "dict_keys(['Alamance', 'Alexander', 'Alleghany', 'Anson', 'Ashe', 'Avery', 'Beaufort', 'Bertie', 'Bladen', 'Brunswick', 'Buncombe', 'Burke', 'Cabarrus', 'Caldwell', 'Camden', 'Carteret', 'Caswell', 'Catawba', 'Chatham', 'Cherokee', 'Chowan', 'Clay', 'Cleveland', 'Columbus', 'Craven', 'Cumberland', 'Currituck', 'Dare', 'Davidson', 'Davie', 'Duplin', 'Durham', 'Edgecombe', 'Forsyth', 'Franklin', 'Gaston', 'Gates', 'Graham', 'Granville', 'Greene', 'Guilford', 'Halifax', 'Harnett', 'Haywood', 'Henderson', 'Hertford', 'Hoke', 'Hyde', 'Iredell', 'Jackson', 'Johnston', 'Jones', 'Lee', 'Lenoir', 'Lincoln', 'Macon', 'Madison', 'Martin', 'McDowell', 'Mecklenburg', 'Mitchell', 'Montgomery', 'Moore', 'Nash', 'New Hanover', 'Northampton', 'Onslow', 'Orange', 'Pamlico', 'Pasquotank', 'Pender', 'Perquimans', 'Person', 'Pitt', 'Polk', 'Randolph', 'Richmond', 'Robeson', 'Rockingham', 'Rowan', 'Rutherford', 'Sampson', 'Scotland', 'Stanly', 'Stokes', 'Surry', 'Swain', 'Transylvania', 'Tyrrell', 'Union', 'Vance', 'Wake', 'Warren', 'Washington', 'Watauga', 'Wayne', 'Wilkes', 'Wilson', 'Yadkin', 'Yancey'])"
      ]
     },
     "execution_count": 345,
     "metadata": {},
     "output_type": "execute_result"
    }
   ],
   "source": [
    "grps.groups.keys()"
   ]
  },
  {
   "cell_type": "code",
   "execution_count": 346,
   "id": "16bde8ba-76a9-4324-b42c-a52c24e7850b",
   "metadata": {
    "tags": []
   },
   "outputs": [
    {
     "data": {
      "text/html": [
       "<div>\n",
       "<style scoped>\n",
       "    .dataframe tbody tr th:only-of-type {\n",
       "        vertical-align: middle;\n",
       "    }\n",
       "\n",
       "    .dataframe tbody tr th {\n",
       "        vertical-align: top;\n",
       "    }\n",
       "\n",
       "    .dataframe thead th {\n",
       "        text-align: right;\n",
       "    }\n",
       "</style>\n",
       "<table border=\"1\" class=\"dataframe\">\n",
       "  <thead>\n",
       "    <tr style=\"text-align: right;\">\n",
       "      <th></th>\n",
       "      <th>ST</th>\n",
       "      <th>COUNTY NAME</th>\n",
       "      <th>COUNTY ID</th>\n",
       "      <th>POSTAL CODE</th>\n",
       "      <th>BROADBAND USAGE</th>\n",
       "      <th>ERROR RANGE (MAE)(+/-)</th>\n",
       "      <th>ERROR RANGE (95%)(+/-)</th>\n",
       "      <th>MSD</th>\n",
       "      <th>POP2022</th>\n",
       "      <th>SIZE</th>\n",
       "    </tr>\n",
       "  </thead>\n",
       "  <tbody>\n",
       "    <tr>\n",
       "      <th>261</th>\n",
       "      <td>NC</td>\n",
       "      <td>Durham</td>\n",
       "      <td>37063</td>\n",
       "      <td>27709</td>\n",
       "      <td>0.927</td>\n",
       "      <td>0.034</td>\n",
       "      <td>0.110</td>\n",
       "      <td>0.002</td>\n",
       "      <td>0</td>\n",
       "      <td>RURAL</td>\n",
       "    </tr>\n",
       "    <tr>\n",
       "      <th>262</th>\n",
       "      <td>NC</td>\n",
       "      <td>Durham</td>\n",
       "      <td>37063</td>\n",
       "      <td>27707</td>\n",
       "      <td>0.661</td>\n",
       "      <td>0.001</td>\n",
       "      <td>0.002</td>\n",
       "      <td>0.000</td>\n",
       "      <td>50696</td>\n",
       "      <td>URBAN</td>\n",
       "    </tr>\n",
       "    <tr>\n",
       "      <th>263</th>\n",
       "      <td>NC</td>\n",
       "      <td>Durham</td>\n",
       "      <td>37063</td>\n",
       "      <td>27704</td>\n",
       "      <td>0.363</td>\n",
       "      <td>0.001</td>\n",
       "      <td>0.003</td>\n",
       "      <td>0.000</td>\n",
       "      <td>41966</td>\n",
       "      <td>URBAN</td>\n",
       "    </tr>\n",
       "    <tr>\n",
       "      <th>264</th>\n",
       "      <td>NC</td>\n",
       "      <td>Durham</td>\n",
       "      <td>37063</td>\n",
       "      <td>27503</td>\n",
       "      <td>0.153</td>\n",
       "      <td>0.010</td>\n",
       "      <td>0.031</td>\n",
       "      <td>-0.001</td>\n",
       "      <td>6030</td>\n",
       "      <td>RURAL</td>\n",
       "    </tr>\n",
       "    <tr>\n",
       "      <th>265</th>\n",
       "      <td>NC</td>\n",
       "      <td>Durham</td>\n",
       "      <td>37063</td>\n",
       "      <td>27703</td>\n",
       "      <td>0.894</td>\n",
       "      <td>0.001</td>\n",
       "      <td>0.002</td>\n",
       "      <td>0.000</td>\n",
       "      <td>60483</td>\n",
       "      <td>URBAN</td>\n",
       "    </tr>\n",
       "    <tr>\n",
       "      <th>266</th>\n",
       "      <td>NC</td>\n",
       "      <td>Durham</td>\n",
       "      <td>37063</td>\n",
       "      <td>27713</td>\n",
       "      <td>0.716</td>\n",
       "      <td>0.001</td>\n",
       "      <td>0.002</td>\n",
       "      <td>0.000</td>\n",
       "      <td>57157</td>\n",
       "      <td>URBAN</td>\n",
       "    </tr>\n",
       "    <tr>\n",
       "      <th>267</th>\n",
       "      <td>NC</td>\n",
       "      <td>Durham</td>\n",
       "      <td>37063</td>\n",
       "      <td>27712</td>\n",
       "      <td>0.383</td>\n",
       "      <td>0.002</td>\n",
       "      <td>0.005</td>\n",
       "      <td>0.000</td>\n",
       "      <td>23150</td>\n",
       "      <td>URBAN</td>\n",
       "    </tr>\n",
       "    <tr>\n",
       "      <th>268</th>\n",
       "      <td>NC</td>\n",
       "      <td>Durham</td>\n",
       "      <td>37063</td>\n",
       "      <td>27705</td>\n",
       "      <td>0.896</td>\n",
       "      <td>0.001</td>\n",
       "      <td>0.002</td>\n",
       "      <td>0.000</td>\n",
       "      <td>46880</td>\n",
       "      <td>URBAN</td>\n",
       "    </tr>\n",
       "    <tr>\n",
       "      <th>269</th>\n",
       "      <td>NC</td>\n",
       "      <td>Durham</td>\n",
       "      <td>37063</td>\n",
       "      <td>27701</td>\n",
       "      <td>0.234</td>\n",
       "      <td>0.002</td>\n",
       "      <td>0.005</td>\n",
       "      <td>0.000</td>\n",
       "      <td>24380</td>\n",
       "      <td>URBAN</td>\n",
       "    </tr>\n",
       "  </tbody>\n",
       "</table>\n",
       "</div>"
      ],
      "text/plain": [
       "     ST COUNTY NAME  COUNTY ID  POSTAL CODE  BROADBAND USAGE  \\\n",
       "261  NC      Durham      37063        27709            0.927   \n",
       "262  NC      Durham      37063        27707            0.661   \n",
       "263  NC      Durham      37063        27704            0.363   \n",
       "264  NC      Durham      37063        27503            0.153   \n",
       "265  NC      Durham      37063        27703            0.894   \n",
       "266  NC      Durham      37063        27713            0.716   \n",
       "267  NC      Durham      37063        27712            0.383   \n",
       "268  NC      Durham      37063        27705            0.896   \n",
       "269  NC      Durham      37063        27701            0.234   \n",
       "\n",
       "     ERROR RANGE (MAE)(+/-)  ERROR RANGE (95%)(+/-)    MSD  POP2022   SIZE  \n",
       "261                   0.034                   0.110  0.002        0  RURAL  \n",
       "262                   0.001                   0.002  0.000    50696  URBAN  \n",
       "263                   0.001                   0.003  0.000    41966  URBAN  \n",
       "264                   0.010                   0.031 -0.001     6030  RURAL  \n",
       "265                   0.001                   0.002  0.000    60483  URBAN  \n",
       "266                   0.001                   0.002  0.000    57157  URBAN  \n",
       "267                   0.002                   0.005  0.000    23150  URBAN  \n",
       "268                   0.001                   0.002  0.000    46880  URBAN  \n",
       "269                   0.002                   0.005  0.000    24380  URBAN  "
      ]
     },
     "execution_count": 346,
     "metadata": {},
     "output_type": "execute_result"
    }
   ],
   "source": [
    "grps.get_group(...)"
   ]
  },
  {
   "cell_type": "code",
   "execution_count": 348,
   "id": "50f1e63e-2be1-4453-8a77-906a566ee8de",
   "metadata": {
    "tags": []
   },
   "outputs": [
    {
     "data": {
      "text/plain": [
       "261    RURAL\n",
       "262    URBAN\n",
       "263    URBAN\n",
       "264    RURAL\n",
       "265    URBAN\n",
       "266    URBAN\n",
       "267    URBAN\n",
       "268    URBAN\n",
       "269    URBAN\n",
       "Name: SIZE, dtype: object"
      ]
     },
     "execution_count": 348,
     "metadata": {},
     "output_type": "execute_result"
    }
   ],
   "source": [
    "grps.get_group(...E"
   ]
  },
  {
   "cell_type": "code",
   "execution_count": 348,
   "id": "c6f82b0b",
   "metadata": {
    "tags": []
   },
   "outputs": [
    {
     "data": {
      "text/plain": [
       "261    RURAL\n",
       "262    URBAN\n",
       "263    URBAN\n",
       "264    RURAL\n",
       "265    URBAN\n",
       "266    URBAN\n",
       "267    URBAN\n",
       "268    URBAN\n",
       "269    URBAN\n",
       "Name: SIZE, dtype: object"
      ]
     },
     "execution_count": 348,
     "metadata": {},
     "output_type": "execute_result"
    }
   ],
   "source": [
    "grps.get_group(...E"
   ]
  },
  {
   "cell_type": "markdown",
   "id": "25a88bc1-7551-42f9-ac16-ddf443a5c7d7",
   "metadata": {},
   "source": [
    "**Question 7.** Produce a boxplot illustrating the distribution of broadband usage across rural and urban counties in Durham.\n",
    "\n",
    "First let's make a dataframe for the Durham group."
   ]
  },
  {
   "cell_type": "code",
   "execution_count": 349,
   "id": "da01bdac-5517-4cc8-994c-648adff53d24",
   "metadata": {
    "tags": []
   },
   "outputs": [
    {
     "data": {
      "text/html": [
       "<div>\n",
       "<style scoped>\n",
       "    .dataframe tbody tr th:only-of-type {\n",
       "        vertical-align: middle;\n",
       "    }\n",
       "\n",
       "    .dataframe tbody tr th {\n",
       "        vertical-align: top;\n",
       "    }\n",
       "\n",
       "    .dataframe thead th {\n",
       "        text-align: right;\n",
       "    }\n",
       "</style>\n",
       "<table border=\"1\" class=\"dataframe\">\n",
       "  <thead>\n",
       "    <tr style=\"text-align: right;\">\n",
       "      <th></th>\n",
       "      <th>ST</th>\n",
       "      <th>COUNTY NAME</th>\n",
       "      <th>COUNTY ID</th>\n",
       "      <th>POSTAL CODE</th>\n",
       "      <th>BROADBAND USAGE</th>\n",
       "      <th>ERROR RANGE (MAE)(+/-)</th>\n",
       "      <th>ERROR RANGE (95%)(+/-)</th>\n",
       "      <th>MSD</th>\n",
       "      <th>POP2022</th>\n",
       "      <th>SIZE</th>\n",
       "    </tr>\n",
       "  </thead>\n",
       "  <tbody>\n",
       "    <tr>\n",
       "      <th>261</th>\n",
       "      <td>NC</td>\n",
       "      <td>Durham</td>\n",
       "      <td>37063</td>\n",
       "      <td>27709</td>\n",
       "      <td>0.927</td>\n",
       "      <td>0.034</td>\n",
       "      <td>0.110</td>\n",
       "      <td>0.002</td>\n",
       "      <td>0</td>\n",
       "      <td>RURAL</td>\n",
       "    </tr>\n",
       "    <tr>\n",
       "      <th>262</th>\n",
       "      <td>NC</td>\n",
       "      <td>Durham</td>\n",
       "      <td>37063</td>\n",
       "      <td>27707</td>\n",
       "      <td>0.661</td>\n",
       "      <td>0.001</td>\n",
       "      <td>0.002</td>\n",
       "      <td>0.000</td>\n",
       "      <td>50696</td>\n",
       "      <td>URBAN</td>\n",
       "    </tr>\n",
       "    <tr>\n",
       "      <th>263</th>\n",
       "      <td>NC</td>\n",
       "      <td>Durham</td>\n",
       "      <td>37063</td>\n",
       "      <td>27704</td>\n",
       "      <td>0.363</td>\n",
       "      <td>0.001</td>\n",
       "      <td>0.003</td>\n",
       "      <td>0.000</td>\n",
       "      <td>41966</td>\n",
       "      <td>URBAN</td>\n",
       "    </tr>\n",
       "    <tr>\n",
       "      <th>264</th>\n",
       "      <td>NC</td>\n",
       "      <td>Durham</td>\n",
       "      <td>37063</td>\n",
       "      <td>27503</td>\n",
       "      <td>0.153</td>\n",
       "      <td>0.010</td>\n",
       "      <td>0.031</td>\n",
       "      <td>-0.001</td>\n",
       "      <td>6030</td>\n",
       "      <td>RURAL</td>\n",
       "    </tr>\n",
       "    <tr>\n",
       "      <th>265</th>\n",
       "      <td>NC</td>\n",
       "      <td>Durham</td>\n",
       "      <td>37063</td>\n",
       "      <td>27703</td>\n",
       "      <td>0.894</td>\n",
       "      <td>0.001</td>\n",
       "      <td>0.002</td>\n",
       "      <td>0.000</td>\n",
       "      <td>60483</td>\n",
       "      <td>URBAN</td>\n",
       "    </tr>\n",
       "    <tr>\n",
       "      <th>266</th>\n",
       "      <td>NC</td>\n",
       "      <td>Durham</td>\n",
       "      <td>37063</td>\n",
       "      <td>27713</td>\n",
       "      <td>0.716</td>\n",
       "      <td>0.001</td>\n",
       "      <td>0.002</td>\n",
       "      <td>0.000</td>\n",
       "      <td>57157</td>\n",
       "      <td>URBAN</td>\n",
       "    </tr>\n",
       "    <tr>\n",
       "      <th>267</th>\n",
       "      <td>NC</td>\n",
       "      <td>Durham</td>\n",
       "      <td>37063</td>\n",
       "      <td>27712</td>\n",
       "      <td>0.383</td>\n",
       "      <td>0.002</td>\n",
       "      <td>0.005</td>\n",
       "      <td>0.000</td>\n",
       "      <td>23150</td>\n",
       "      <td>URBAN</td>\n",
       "    </tr>\n",
       "    <tr>\n",
       "      <th>268</th>\n",
       "      <td>NC</td>\n",
       "      <td>Durham</td>\n",
       "      <td>37063</td>\n",
       "      <td>27705</td>\n",
       "      <td>0.896</td>\n",
       "      <td>0.001</td>\n",
       "      <td>0.002</td>\n",
       "      <td>0.000</td>\n",
       "      <td>46880</td>\n",
       "      <td>URBAN</td>\n",
       "    </tr>\n",
       "    <tr>\n",
       "      <th>269</th>\n",
       "      <td>NC</td>\n",
       "      <td>Durham</td>\n",
       "      <td>37063</td>\n",
       "      <td>27701</td>\n",
       "      <td>0.234</td>\n",
       "      <td>0.002</td>\n",
       "      <td>0.005</td>\n",
       "      <td>0.000</td>\n",
       "      <td>24380</td>\n",
       "      <td>URBAN</td>\n",
       "    </tr>\n",
       "  </tbody>\n",
       "</table>\n",
       "</div>"
      ],
      "text/plain": [
       "     ST COUNTY NAME  COUNTY ID  POSTAL CODE  BROADBAND USAGE  \\\n",
       "261  NC      Durham      37063        27709            0.927   \n",
       "262  NC      Durham      37063        27707            0.661   \n",
       "263  NC      Durham      37063        27704            0.363   \n",
       "264  NC      Durham      37063        27503            0.153   \n",
       "265  NC      Durham      37063        27703            0.894   \n",
       "266  NC      Durham      37063        27713            0.716   \n",
       "267  NC      Durham      37063        27712            0.383   \n",
       "268  NC      Durham      37063        27705            0.896   \n",
       "269  NC      Durham      37063        27701            0.234   \n",
       "\n",
       "     ERROR RANGE (MAE)(+/-)  ERROR RANGE (95%)(+/-)    MSD  POP2022   SIZE  \n",
       "261                   0.034                   0.110  0.002        0  RURAL  \n",
       "262                   0.001                   0.002  0.000    50696  URBAN  \n",
       "263                   0.001                   0.003  0.000    41966  URBAN  \n",
       "264                   0.010                   0.031 -0.001     6030  RURAL  \n",
       "265                   0.001                   0.002  0.000    60483  URBAN  \n",
       "266                   0.001                   0.002  0.000    57157  URBAN  \n",
       "267                   0.002                   0.005  0.000    23150  URBAN  \n",
       "268                   0.001                   0.002  0.000    46880  URBAN  \n",
       "269                   0.002                   0.005  0.000    24380  URBAN  "
      ]
     },
     "execution_count": 349,
     "metadata": {},
     "output_type": "execute_result"
    }
   ],
   "source": [
    "dur = grps.get_group('Durham')\n",
    "dur"
   ]
  },
  {
   "cell_type": "markdown",
   "id": "122f7b9c-3cdb-41c6-b339-977a08bc25c1",
   "metadata": {},
   "source": [
    "**a.** Using `matplotlib.pyplot`."
   ]
  },
  {
   "cell_type": "code",
   "execution_count": 350,
   "id": "c1971992-f2d6-40b6-9b59-3d0f8e1a9fb3",
   "metadata": {
    "tags": []
   },
   "outputs": [
    {
     "name": "stdout",
     "output_type": "stream",
     "text": [
      "[0.927, 0.153]\n",
      "[0.661, 0.363, 0.894, 0.716, 0.383, 0.896, 0.234]\n",
      "['RURAL', 'URBAN']\n"
     ]
    }
   ],
   "source": [
    "rural = list(dur.groupby('SIZE')['BROADBAND USAGE'].get_group('RURAL'))\n",
    "urban = list(dur.groupby('SIZE')['BROADBAND USAGE'].get_group('URBAN'))\n",
    "box_labels = list(dur['SIZE'].unique())\n",
    "\n",
    "print(rural)\n",
    "print(urban)\n",
    "print(labels)"
   ]
  },
  {
   "cell_type": "code",
   "execution_count": 351,
   "id": "267175d3-9141-42fd-a2ab-5ac75d145a2f",
   "metadata": {
    "tags": []
   },
   "outputs": [
    {
     "data": {
      "image/png": "[encoded data removed]",
      "text/plain": [
       "<Figure size 800x600 with 1 Axes>"
      ]
     },
     "metadata": {},
     "output_type": "display_data"
    }
   ],
   "source": [
    "plt.boxplot([rural, urban], labels=box_labels)\n",
    "\n",
    "plt.ylabel('% Broadband Usage')\n",
    "plt.title('Rural vs Urban Broadband Usage');"
   ]
  },
  {
   "cell_type": "markdown",
   "id": "4a887d20-cc96-4775-a5e9-b04630dc6d7d",
   "metadata": {},
   "source": [
    "**b.** Using `.boxplot`."
   ]
  },
  {
   "cell_type": "code",
   "execution_count": 352,
   "id": "c4eb8d86-5616-4353-bb99-526e207a57b7",
   "metadata": {
    "tags": []
   },
   "outputs": [
    {
     "data": {
      "image/png": "[encoded data removed]",
      "text/plain": [
       "<Figure size 800x600 with 1 Axes>"
      ]
     },
     "metadata": {},
     "output_type": "display_data"
    }
   ],
   "source": [
    "dur.boxplot(by='SIZE', column=['BROADBAND USAGE'], grid=False)\n",
    "\n",
    "plt.suptitle('')\n",
    "plt.ylabel('% Broadband Usage')\n",
    "plt.title('Rural vs Urban Broadband Usage');"
   ]
  }
 ],
 "metadata": {
  "kernelspec": {
   "display_name": "Python 3 (ipykernel)",
   "language": "python",
   "name": "python3"
  },
  "language_info": {
   "codemirror_mode": {
    "name": "ipython",
    "version": 3
   },
   "file_extension": ".py",
   "mimetype": "text/x-python",
   "name": "python",
   "nbconvert_exporter": "python",
   "pygments_lexer": "ipython3",
   "version": "3.10.11"
  }
 },
 "nbformat": 4,
 "nbformat_minor": 5
}
