{
 "cells": [
  {
   "cell_type": "markdown",
   "id": "aa33cde2-5a52-4ab5-a2ea-04576bc567c9",
   "metadata": {},
   "source": [
    "## Week 8 Lecture `.ipynb` File\n",
    "\n",
    "#### Author: Mahmoud Harding\n",
    "\n",
    "## Python Basics\n",
    "\n",
    "### Built-in Functions\n",
    "\n",
    "- A function that is already available in a programming language/application that can be accessed by end users.\n",
    "\n",
    "- Returns some value based on its arguments.\n",
    "\n",
    "- `print`, `abs`, `max`, `min`, `pow`, `round`, etc."
   ]
  },
  {
   "cell_type": "code",
   "execution_count": null,
   "id": "b7f39131-d4e4-45e5-bc74-a349a820725f",
   "metadata": {},
   "outputs": [],
   "source": [
    "abs(-3)"
   ]
  },
  {
   "cell_type": "code",
   "execution_count": null,
   "id": "636464c5-484c-4b43-b317-f9d5426a85ee",
   "metadata": {},
   "outputs": [],
   "source": [
    "abs(2-5)"
   ]
  },
  {
   "cell_type": "code",
   "execution_count": null,
   "id": "9b182dc0-21ef-4b3e-a576-422aebc044bc",
   "metadata": {},
   "outputs": [],
   "source": [
    "print(3, 10 ** 2, 100.1)"
   ]
  },
  {
   "cell_type": "code",
   "execution_count": null,
   "id": "75d9f9b4-e43f-46e2-9006-047f35419c48",
   "metadata": {},
   "outputs": [],
   "source": [
    "max(3, 10 ** 2, 100.1)"
   ]
  },
  {
   "cell_type": "markdown",
   "id": "87a330eb-4532-4c1f-b46a-96f7874e1b33",
   "metadata": {},
   "source": [
    "## Nesting Functions"
   ]
  },
  {
   "cell_type": "code",
   "execution_count": null,
   "id": "5081e477-b96e-4ceb-8cdc-deb793f78609",
   "metadata": {
    "tags": []
   },
   "outputs": [],
   "source": [
    "round(abs(1.6002-1.688), 4)"
   ]
  },
  {
   "cell_type": "code",
   "execution_count": null,
   "id": "0a6ad24b-3a2a-46e6-9250-fdeea531d095",
   "metadata": {
    "tags": []
   },
   "outputs": [],
   "source": [
    "1.6002-1.688"
   ]
  },
  {
   "cell_type": "code",
   "execution_count": null,
   "id": "f3ed52bb-50b0-4503-afb8-a03bdce53fe5",
   "metadata": {
    "tags": []
   },
   "outputs": [],
   "source": [
    "abs(1.6002-1.688)"
   ]
  },
  {
   "cell_type": "code",
   "execution_count": null,
   "id": "c873160a-0274-467d-927c-403d859e36cd",
   "metadata": {
    "tags": []
   },
   "outputs": [],
   "source": [
    "round(abs(1.6002-1.688), 4)"
   ]
  },
  {
   "cell_type": "markdown",
   "id": "091b108a-b357-4663-9581-baedfdb2134c",
   "metadata": {},
   "source": [
    "## Pandas\n",
    "\n",
    "Pandas is an open source Python package that is most widely used for data science/data analysis and machine learning tasks. It is built on top of another library named `Numpy`, which provides support for arrays. Since we know how to perform operations on `NumPy` arrays we can operate on columns in a `pandas` dataframe. \n",
    "\n",
    "Pandas is a fast, powerful, flexible and (sometimes) easy to use open source data analysis and manipulation tool. Click the `Cheat Sheet` below to access the Data Wrangling with `pandas` [Cheat Sheet](https://pandas.pydata.org/Pandas_Cheat_Sheet.pdf)."
   ]
  },
  {
   "cell_type": "code",
   "execution_count": null,
   "id": "68ae37f1-29a0-4c9e-8147-4cc06871ba34",
   "metadata": {
    "tags": []
   },
   "outputs": [],
   "source": [
    "## Import the pandas library and give it an \n",
    "## alias pd\n",
    "import pandas as pd\n",
    "\n",
    "## Read the CSV file skyscrapers.csv from the data directory \n",
    "## and store the data in a DataFrame named skyscrapers\n",
    "skyscrapers = pd.read_csv('data/skyscrapers.csv')"
   ]
  },
  {
   "cell_type": "markdown",
   "id": "f353c472-c1fa-4067-9abf-7eb707be552d",
   "metadata": {},
   "source": [
    "**Example 1.** Display the first 5 rows of the `skyscrapers` dataframe."
   ]
  },
  {
   "cell_type": "code",
   "execution_count": null,
   "id": "d525c7d8-ed49-4131-aea1-0a2559707615",
   "metadata": {
    "tags": []
   },
   "outputs": [],
   "source": [
    "skyscrapers.head()"
   ]
  },
  {
   "cell_type": "markdown",
   "id": "023393d2-7ec9-4bf9-91c4-f4b9de8aa1a0",
   "metadata": {},
   "source": [
    "### Common `pandas` `DataFrame` Methods\n",
    "\n",
    "- `.head()`\n",
    "- `.info()`\n",
    "- `.describe()`\n",
    "- `.sample()`"
   ]
  },
  {
   "cell_type": "markdown",
   "id": "b0281890-6493-4a7a-9baa-d0eac2cbd773",
   "metadata": {},
   "source": [
    "Apply the following methods to the `skyscrapers` `DataFrame` in the examples below.\n",
    "\n",
    "**Example 2.** `.info()`"
   ]
  },
  {
   "cell_type": "code",
   "execution_count": null,
   "id": "c08590a1-44ed-4204-82f4-ca68cdef6e5d",
   "metadata": {
    "tags": []
   },
   "outputs": [],
   "source": [
    "## Display a concise summary of the skyscrapers DataFrame, \n",
    "## including the index, column names, non-null counts, \n",
    "## and data types for each column\n",
    "skyscrapers.info()"
   ]
  },
  {
   "cell_type": "markdown",
   "id": "4a46c3ae-24ab-4ac2-a918-fca26099e449",
   "metadata": {},
   "source": [
    "**Example 3.** `.describe()`"
   ]
  },
  {
   "cell_type": "code",
   "execution_count": null,
   "id": "a0aa712b-ea86-411c-aa6c-4c763c99af74",
   "metadata": {
    "tags": []
   },
   "outputs": [],
   "source": [
    "## Generate descriptive statistics for the numerical columns in \n",
    "## the skyscrapers DataFrame, including count, mean, standard deviation, \n",
    "## minimum, quartiles, and maximum values\n",
    "skyscrapers.describe()"
   ]
  },
  {
   "cell_type": "markdown",
   "id": "02ee167b-a562-4b0b-99bc-ad6fdfbc341c",
   "metadata": {},
   "source": [
    "**Example 4.** `.sample()`"
   ]
  },
  {
   "cell_type": "code",
   "execution_count": null,
   "id": "b5226b6f-34f4-4096-9215-01908ec99445",
   "metadata": {},
   "outputs": [],
   "source": [
    "## Return a random sample of rows from the skyscrapers DataFrame.\n",
    "## By default, it returns one row, but the number of rows can \n",
    "## be specified as an argument.\n",
    "skyscrapers.sample()"
   ]
  },
  {
   "cell_type": "code",
   "execution_count": null,
   "id": "b14ea5b2-02d4-4cca-a97d-fcda8933ab06",
   "metadata": {},
   "outputs": [],
   "source": [
    "## Return a random sample of rows from the skyscrapers DataFrame.\n",
    "## By default, it returns one row, but the number of rows can \n",
    "## be specified as an argument.\n",
    "skyscrapers.sample(5)"
   ]
  },
  {
   "cell_type": "markdown",
   "id": "0b5c2eea-50c1-452d-bbb2-a589a0fbebfc",
   "metadata": {},
   "source": [
    "### Accessing `pandas` `DataFrame` Attriubtes\n",
    "\n",
    "- `.shape`\n",
    "- `.columns`"
   ]
  },
  {
   "cell_type": "markdown",
   "id": "e7eed532-97d9-4294-86cb-e60ca81bafac",
   "metadata": {},
   "source": [
    "**Example 5.** `.shape`"
   ]
  },
  {
   "cell_type": "code",
   "execution_count": null,
   "id": "b592f6ca-c0d9-40c4-8d2d-e6c7f9fb39ad",
   "metadata": {
    "tags": []
   },
   "outputs": [],
   "source": [
    "## Return the dimensions of the skyscrapers DataFrame as \n",
    "## a tuple (number of rows, number of columns)\n",
    "skyscrapers.shape"
   ]
  },
  {
   "cell_type": "markdown",
   "id": "1d9f02f4-a87a-4711-8bc2-bf31013efbe2",
   "metadata": {},
   "source": [
    "**Example 6.** `.columns\n",
    "`"
   ]
  },
  {
   "cell_type": "code",
   "execution_count": null,
   "id": "a0526e59-6c4e-4433-8208-ae7347c99fb0",
   "metadata": {
    "tags": []
   },
   "outputs": [],
   "source": [
    "## Return the list of column names in the skyscrapers DataFrame\n",
    "skyscrapers.columns"
   ]
  },
  {
   "cell_type": "markdown",
   "id": "8cfa2900-7e61-414e-975d-609d15b7821e",
   "metadata": {},
   "source": [
    "### Rename columns in a `pandas DataFrame`"
   ]
  },
  {
   "cell_type": "code",
   "execution_count": null,
   "id": "9d09b0a4-2a6c-40f5-86a4-3d9b5e565db3",
   "metadata": {
    "tags": []
   },
   "outputs": [],
   "source": [
    "## Rename specific columns in the skyscrapers DataFrame:\n",
    "## location.city is renamed to city,\n",
    "## statistics.height is renamed to height,\n",
    "## statistics.floors above is renamed to floors,\n",
    "## status.completed.year is renamed to year_completed,\n",
    "## status.started.year is renamed to year_started.\n",
    "skyscrapers.rename(columns={'location.city': 'city',\n",
    "                            'statistics.height': 'height',\n",
    "                            'statistics.floors above': 'floors',\n",
    "                            'status.completed.year': 'year_completed', \n",
    "                            'status.started.year': 'year_started'},\n",
    "                   \n",
    "                   ## The inplace=True argument ensures the changes are applied directly \n",
    "                   ## to the original DataFrame.\n",
    "                   inplace=True)"
   ]
  },
  {
   "cell_type": "code",
   "execution_count": null,
   "id": "091532ce-3487-4719-99fc-db518f6304db",
   "metadata": {
    "tags": []
   },
   "outputs": [],
   "source": [
    "skyscrapers.info()"
   ]
  },
  {
   "cell_type": "markdown",
   "id": "b564739d-4da3-404c-97c8-b3e62a7bbddd",
   "metadata": {},
   "source": [
    "### Accessing columns and values from a `pandas` `DataFrame` and `Series`\n",
    "\n",
    "**Example 7.** Access the a `name` column from the `skyscrapers` dataframe and return a `Series` type object."
   ]
  },
  {
   "cell_type": "code",
   "execution_count": null,
   "id": "9c69b607-d9b0-4e87-a75e-a68710bb94c0",
   "metadata": {},
   "outputs": [],
   "source": [
    "## Returns the values from the name column in the \n",
    "## skyscrapers DataFrame as a Series\n",
    "skyscrapers['name']"
   ]
  },
  {
   "cell_type": "markdown",
   "id": "b81e92ac-81fa-4a8f-a918-6632a695019b",
   "metadata": {},
   "source": [
    "### Series\n",
    "\n",
    "A `pandas` `Series` is a one-dimensional labeled array capable of holding data of any type (integer, string, float, python objects, etc.). \n",
    "\n",
    "**Source:** [Geeks for Geeks](https://www.geeksforgeeks.org/python-pandas-series/)\n",
    "\n",
    "**Example 8.** Access a numerical column from the `skyscrapers` dataframe and return a `Series` type object."
   ]
  },
  {
   "cell_type": "code",
   "execution_count": null,
   "id": "470ccedf-2183-4087-a1be-9507d30f6d15",
   "metadata": {},
   "outputs": [],
   "source": [
    "## Returns the values from the floors column in the \n",
    "## skyscrapers DataFrame as a Series\n",
    "skyscrapers.floors"
   ]
  },
  {
   "cell_type": "markdown",
   "id": "75685d4d-d82a-4a2f-9bc9-c83aec7d42e5",
   "metadata": {},
   "source": [
    "Since a `Series` is essentially a 1-dimensional array similar to a `NumPy` `ndarray` with labels, we can can pass a `pandas` `Series` as an argument to many `NumPy` functions.\n",
    "\n",
    "Let's import `Numpy` and see!"
   ]
  },
  {
   "cell_type": "code",
   "execution_count": null,
   "id": "4754c963-bf2d-4d75-921f-45aa35c4aa1b",
   "metadata": {
    "tags": []
   },
   "outputs": [],
   "source": [
    "import numpy as np"
   ]
  },
  {
   "cell_type": "code",
   "execution_count": null,
   "id": "5d2511f7-f74f-432d-afda-92c1f60bbd0b",
   "metadata": {
    "tags": []
   },
   "outputs": [],
   "source": [
    "skyscrapers[\"floors\"]"
   ]
  },
  {
   "cell_type": "markdown",
   "id": "2efe05c5-0c08-405d-8182-e26d4f84f334",
   "metadata": {},
   "source": [
    "**Example 9.** What are the average and median number of floors for all skyscrapers in the dataset?"
   ]
  },
  {
   "cell_type": "code",
   "execution_count": null,
   "id": "1ddcb10f",
   "metadata": {
    "tags": []
   },
   "outputs": [],
   "source": [
    "## Calculate the mean (average) number of floors in the \n",
    "## skyscrapers dataset\n",
    "mean_floors = np.mean(skyscrapers['floors'])\n",
    "\n",
    "# Calculate the median number of floors in the skyscrapers dataset\n",
    "med_floors = np.median(skyscrapers['floors'])\n",
    "\n",
    "# Print the rounded mean and median number of floors\n",
    "print(\"The average number of floors is\", round(mean_floors))\n",
    "print(\"The median number of floors is\", round(med_floors))"
   ]
  },
  {
   "cell_type": "code",
   "execution_count": null,
   "id": "de498e78",
   "metadata": {
    "tags": []
   },
   "outputs": [],
   "source": [
    "skyscrapers.sort_values(by='floors').iloc[50, ]"
   ]
  },
  {
   "cell_type": "markdown",
   "id": "27d34867-70c5-40f7-87c4-f6c4c3639fdb",
   "metadata": {},
   "source": [
    "### `Series` Attributes and Methods\n",
    "\n",
    "**Attribute**\n",
    " - An attribute of a Series is a property or characteristic that provides information about the `Series` itself.\n",
    "\n",
    "- Attributes are accessed without parentheses, simply by referencing the attribute name.\n",
    "\n",
    "- They provide metadata, statistics, or information about the Series but do not perform operations or transformations on the data within the `Series`.\n",
    "\n",
    "- Examples of Series attributes include `dtype` (data type of the `Series`), `name` (name of the Series), `index` (index labels), and `shape` (shape of the Series).\n",
    "\n",
    "- Accessing an attribute doesn't require invoking it as a function/method; you access it directly.\n",
    "\n",
    "**Method**\n",
    "- A method of a `Series` is a **function** that performs an operation or computation on the data within the `Series`.\n",
    "\n",
    "- Methods are accessed with parentheses and often accept arguments or parameters to control their behavior.\n",
    "\n",
    "- Methods manipulate or transform the data and return a result based on the operation performed.\n",
    "\n",
    "- Examples of `Series` methods include `.sum()` (calculates the sum of elements), `.mean()` (calculates the mean), `.unique()` (returns unique values), and `.apply()` (applies a custom function to each element).\n",
    "\n",
    "- Accessing a method requires invoking it as a function with parentheses."
   ]
  },
  {
   "cell_type": "markdown",
   "id": "31dfe620-9019-41d0-8a23-667158b78482",
   "metadata": {},
   "source": [
    "**Example 10.** What is the index of the series?"
   ]
  },
  {
   "cell_type": "code",
   "execution_count": null,
   "id": "440f516e-7f5a-4f40-ad4d-0ab3332ebcbd",
   "metadata": {
    "tags": []
   },
   "outputs": [],
   "source": [
    "## Access the index (row labels) of the floors column in the \n",
    "## skyscrapers DataFrame.\n",
    "## This returns the row labels, not the values in the floors column.\n",
    "skyscrapers['floors'].index\n"
   ]
  },
  {
   "cell_type": "markdown",
   "id": "61960c44-0c76-4c30-a15d-d524e61ebe3c",
   "metadata": {},
   "source": [
    "**Example 11.** What is the index of the series. average height for all skyscrapers in the dataset."
   ]
  },
  {
   "cell_type": "code",
   "execution_count": null,
   "id": "71e6a6b9-c43f-4331-92c1-06513dd185ee",
   "metadata": {
    "tags": []
   },
   "outputs": [],
   "source": [
    "## Calculate the mean (average) of the values in the floors \n",
    "## column of the skyscrapers DataFrame.\n",
    "skyscrapers.floors.mean()"
   ]
  },
  {
   "cell_type": "markdown",
   "id": "a145c766-285a-48c8-b539-dbc66dc0f2dc",
   "metadata": {},
   "source": [
    "## Data Moves\n",
    "\n",
    "### Summarize\n",
    "\n",
    "We've already explored how to find numerical summaries using the `.describe` method, as well as functions from the `NumPy` library and `pandas` `Series` methods. "
   ]
  },
  {
   "cell_type": "code",
   "execution_count": null,
   "id": "36845f38-94d7-4d57-ac82-f95682595bba",
   "metadata": {
    "tags": []
   },
   "outputs": [],
   "source": [
    "## Generate descriptive statistics for the floors column in the skyscrapers DataFrame.\n",
    "## This will include the count, mean, standard deviation, minimum, quartiles, and maximum\n",
    "## for the floors column.\n",
    "skyscrapers['floors'].describe()"
   ]
  },
  {
   "cell_type": "markdown",
   "id": "d2d78229-29bc-4b26-bc81-b98b5c2d0f39",
   "metadata": {},
   "source": [
    "**Example 12.** What are the unique countries where the skyscrapers in the dataset are located."
   ]
  },
  {
   "cell_type": "code",
   "execution_count": null,
   "id": "acff17c7-0fcc-469f-b141-64dddc43bda7",
   "metadata": {
    "tags": []
   },
   "outputs": [],
   "source": [
    "## Return the unique values from the country column of the skyscrapers DataFrame.\n",
    "## This will return an array of unique country names, showing each country only once.\n",
    "skyscrapers.country.unique()"
   ]
  },
  {
   "cell_type": "markdown",
   "id": "15c4b864-946d-49a6-bb79-d8eb720d89bb",
   "metadata": {},
   "source": [
    "The `value_counts` method in pandas is particularly useful for counting the unique values in a `Series` or `DataFrame` column. It returns a `Series` where the unique values serve as the index, and the corresponding counts represent the frequency of each value, making it ideal for identifying the distribution of categorical data."
   ]
  },
  {
   "cell_type": "markdown",
   "id": "d4974c31-de7f-48c1-ad24-fc429f2cd0fe",
   "metadata": {},
   "source": [
    "**Example 13.** How many skyscrapers are there in each country?"
   ]
  },
  {
   "cell_type": "code",
   "execution_count": null,
   "id": "87174f4c-2a73-48ca-9f8f-7071fa286461",
   "metadata": {
    "tags": []
   },
   "outputs": [],
   "source": [
    "## Count the occurrences of each unique value in the country column of the \n",
    "## skyscrapers DataFrame.\n",
    "## This will return a Series where the index is the unique country names, \n",
    "## and the values are the counts of how many times each country appears \n",
    "## in the country column, sorted in descending order by default.\n",
    "skyscrapers.country.value_counts()"
   ]
  },
  {
   "cell_type": "markdown",
   "id": "a8b03e28-7019-4f83-9748-915437d6dc08",
   "metadata": {},
   "source": [
    "This code\n",
    "\n",
    "```\n",
    "skyscrapers.country.value_counts()\n",
    "```\n",
    "\n",
    "executed without any errors, but the output is incorrect because the same country has been entered in different ways, leading to inconsistent results. For instance:\n",
    "\n",
    "- USA, US, and United States of America are listed separately, though they refer to the same country.\n",
    "\n",
    "- United Arab Emirates appears multiple times as United Arab Emirates (UAE) and UAE.\n",
    "\n",
    "- Malaysia is misspelled as Malasya.\n",
    "\n",
    "- Saudi Arabia is listed as saudi Arabia (with a lowercase \"s\").\n",
    "\n",
    "### Filter\n",
    "\n",
    "Previoously in the course we used a Boolean mask to filter an R dataframe. We can do the same thing to a pandas dataframe. Read the comments then run each code cell."
   ]
  },
  {
   "cell_type": "code",
   "execution_count": null,
   "id": "43012c5a-1af4-4c55-bc20-306ba122ef82",
   "metadata": {
    "tags": []
   },
   "outputs": [],
   "source": [
    "## Create a boolean mask that checks if the value in the country column \n",
    "## is equal to \"United States of America\". This returns a Series of True/False\n",
    "## values, where True indicates a match with the specified country.\n",
    "skyscrapers['country'] == \"United States of America\""
   ]
  },
  {
   "cell_type": "code",
   "execution_count": null,
   "id": "24e55b95-1cbc-44e3-81b5-d914bef68f1c",
   "metadata": {
    "tags": []
   },
   "outputs": [],
   "source": [
    "## Create a boolean mask that checks if the values in the 'country' column \n",
    "## are equal to \"United States of America\". This mask will be a Series of \n",
    "## True/False values, where True indicates rows that match the specified country.\n",
    "mask = skyscrapers['country'] == \"United States of America\""
   ]
  },
  {
   "cell_type": "code",
   "execution_count": null,
   "id": "45da3eff-ccb1-4c6c-a862-2864c6329a59",
   "metadata": {
    "tags": []
   },
   "outputs": [],
   "source": [
    "## Filter the skyscrapers DataFrame using the boolean mask.\n",
    "## This will return a new DataFrame containing only the rows where the mask is True,\n",
    "## filtering the DataFrame based on the condition defined in the mask.\n",
    "skyscrapers[mask]"
   ]
  },
  {
   "cell_type": "markdown",
   "id": "8d4692e9-5757-46ed-a5c1-659afc10ab17",
   "metadata": {},
   "source": [
    "Keep in mind that our dataset contains some data entry inconsistencies, where USA, US, and United States of America are listed separately, even though they all refer to the same country. To ensure we capture all skyscrapers in the USA, we need to use the logical **`OR`** operator (`|`) to filter for all variations of the country name.\n",
    "\n",
    "**Note:** If we need to meet multiple conditions, we use the logical **`AND`** operator (`&`). For example, to filter and select skyscrapers located in Chicago, United States of America, we would use the following syntax:\n",
    "\n",
    "```python\n",
    "(skyscrapers['country'] == \"United States of America\") & (skyscrapers['city'] == \"Chicago\")\n",
    "```"
   ]
  },
  {
   "cell_type": "code",
   "execution_count": null,
   "id": "abe07967-7d27-4cd0-8f11-c42c0453bb53",
   "metadata": {
    "tags": []
   },
   "outputs": [],
   "source": [
    "## Create a boolean mask that checks if the value in the 'country' column is \n",
    "## either \"United States of America\" or \"USA\". The '|' operator is used to \n",
    "## apply the logical OR, meaning the mask will return True if either condition is met.\n",
    "(skyscrapers['country'] == \"United States of America\") | (skyscrapers['country'] == \"USA\")"
   ]
  },
  {
   "cell_type": "code",
   "execution_count": null,
   "id": "f27058fb-482a-49fa-a028-69c0fffa7849",
   "metadata": {
    "tags": []
   },
   "outputs": [],
   "source": [
    "## Create a boolean mask to filter skyscrapers for all variations of the country name.\n",
    "## The mask checks if the country column is equal to \"United States of America\", \n",
    "## \"USA\", or \"United Sates of America\". \n",
    "\n",
    "## The logical OR operator (|) ensures that any of these conditions will return True, \n",
    "## capturing all relevant rows.\n",
    "mask = (\n",
    "    (skyscrapers['country'] == \"United States of America\") | \n",
    "    (skyscrapers['country'] == \"USA\") |\n",
    "    (skyscrapers['country'] == \"United Sates of America\")\n",
    ")"
   ]
  },
  {
   "cell_type": "markdown",
   "id": "a20f870e-06d0-4998-b46a-c873132dcf7f",
   "metadata": {},
   "source": [
    "When using logical operations or expressions over multiple lines, parentheses are often used to group expressions into a block, like this:\n",
    "\n",
    "```python\n",
    "       ## Outer parenthesis to start the block\n",
    "mask = ( \n",
    "    (skyscrapers['country'] == \"United States of America\") | \n",
    "    (skyscrapers['country'] == \"USA\") |\n",
    "    (skyscrapers['country'] == \"United Sates of America\")\n",
    "\n",
    "## Outer parenthesis to end the block\n",
    ")\n",
    "```\n",
    "\n",
    "The parentheses define the boundaries of the block. This allows Python to interpret the entire multi-line expression as a single logical unit, even though it’s split across multiple lines. Without the parentheses, Python would not understand how to group the expressions and might raise a syntax error."
   ]
  },
  {
   "cell_type": "code",
   "execution_count": null,
   "id": "4a4f3786-2b17-421c-a58e-dfb73604d89c",
   "metadata": {
    "tags": []
   },
   "outputs": [],
   "source": [
    "## Filter the skyscrapers DataFrame using the boolean mask.\n",
    "## This will return a new DataFrame containing only the rows where the mask is True,\n",
    "## filtering the DataFrame based on the condition defined in the mask.\n",
    "skyscrapers[mask]"
   ]
  },
  {
   "cell_type": "markdown",
   "id": "809bee44-53c5-4fa0-b3a9-9e3b9d4c273a",
   "metadata": {},
   "source": [
    "You can also filter a `DataFrame` using the `.query` method. The `.query` method allows you to specify conditions as a string, making the syntax simpler and avoiding the need for complex boolean operators like `&` (and) and `|` (or). This method is especially useful when filtering based on multiple conditions."
   ]
  },
  {
   "cell_type": "code",
   "execution_count": null,
   "id": "955243fa-68f2-4f1b-8bc1-0094407bf455",
   "metadata": {
    "tags": []
   },
   "outputs": [],
   "source": [
    "## Define a query string to filter the skyscrapers DataFrame for rows where the 'country' \n",
    "## column is either \"United States of America\" or \"USA\".\n",
    "q = 'country == \"United States of America\" or country == \"USA\" or country == \"United Sates of America\"'\n",
    "\n",
    "## Use the .query() method to apply the query string 'q' to the skyscrapers DataFrame.\n",
    "## This will return a DataFrame with only the rows that match the condition specified in \n",
    "## the query string.\n",
    "skyscrapers.query(q)"
   ]
  },
  {
   "cell_type": "code",
   "execution_count": null,
   "id": "e0c2dd53-55f1-4c9f-8a30-aeb44885ebda",
   "metadata": {
    "tags": []
   },
   "outputs": [],
   "source": [
    "## Define a query string that checks if the country column is equal to \n",
    "## \"United States of America\", \"USA\", or \"United Sates of America\".\n",
    "## The string is split into multiple lines for readability and is \n",
    "## treated as one complete query.\n",
    "q = 'country == \"United States of America\" or ' + \\\n",
    "    'country == \"USA\" or ' + \\\n",
    "    'country == \"United Sates of America\"'\n",
    "\n",
    "q"
   ]
  },
  {
   "cell_type": "code",
   "execution_count": null,
   "id": "bea33b20-0987-47a9-9246-9395a800c550",
   "metadata": {
    "tags": []
   },
   "outputs": [],
   "source": [
    "skyscrapers.query(q)"
   ]
  }
 ],
 "metadata": {
  "kernelspec": {
   "display_name": "Python 3 (ipykernel)",
   "language": "python",
   "name": "python3"
  },
  "language_info": {
   "codemirror_mode": {
    "name": "ipython",
    "version": 3
   },
   "file_extension": ".py",
   "mimetype": "text/x-python",
   "name": "python",
   "nbconvert_exporter": "python",
   "pygments_lexer": "ipython3",
   "version": "3.10.11"
  }
 },
 "nbformat": 4,
 "nbformat_minor": 5
}
