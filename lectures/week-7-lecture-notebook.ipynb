{
 "cells": [
  {
   "cell_type": "markdown",
   "id": "7ce3cc48-6f2c-479d-b949-b0c66cfd719c",
   "metadata": {
    "tags": []
   },
   "source": [
    "## Week 7 Lecture `.ipynb` File\n",
    "\n",
    "#### Author: Mahmoud Harding"
   ]
  },
  {
   "cell_type": "markdown",
   "id": "da56a0a7-6063-4cdb-99e0-721eb1450c9e",
   "metadata": {},
   "source": [
    "## Jupyter Notebook\n",
    "\n",
    "A Jupyter Notebook is an open-source interactive computing environment that allows users to create and share documents that contain live code, equations, visualizations, and narrative text. It supports multiple programming languages, with Python being the most commonly used. Jupyter Notebooks are widely used for data analysis, scientific research, machine learning, and education because they provide a convenient way to run code, visualize results, and document findings in a single, easily shareable format.\n",
    "\n",
    "### Code Cells\n",
    "\n",
    "A code cell in a Jupyter Notebook is a section where users can write and execute programming code. When run, the code within the cell is processed, and the output (if any) is displayed directly below the cell. Code cells allow for iterative development, as users can modify and re-run cells independently without restarting the entire notebook, making them ideal for tasks like data analysis, testing algorithms, and exploring code interactively."
   ]
  },
  {
   "cell_type": "code",
   "execution_count": null,
   "id": "be4d44d0-f3a9-4ddb-8602-72eec9d76407",
   "metadata": {
    "tags": []
   },
   "outputs": [],
   "source": [
    "## Arithmetic\n",
    "3 + 2"
   ]
  },
  {
   "cell_type": "code",
   "execution_count": null,
   "id": "52ce79d0-7535-49da-8c05-ae47ddd031fc",
   "metadata": {
    "tags": []
   },
   "outputs": [],
   "source": [
    "## Arithmetic\n",
    "4 ** 2"
   ]
  },
  {
   "cell_type": "code",
   "execution_count": null,
   "id": "bcc23300-e02c-484c-965e-1ebffe4ca814",
   "metadata": {
    "tags": []
   },
   "outputs": [],
   "source": [
    "## 1e6 means 1 * 10^6, or 1,000,000\n",
    "1e6"
   ]
  },
  {
   "cell_type": "code",
   "execution_count": null,
   "id": "eb22c283-74f9-46d7-acbc-6fe32ddfbe5a",
   "metadata": {
    "tags": []
   },
   "outputs": [],
   "source": [
    "4 ** 2\n",
    "1e6"
   ]
  },
  {
   "cell_type": "markdown",
   "id": "9916d094-e397-495c-b3f8-78316a62f903",
   "metadata": {},
   "source": [
    "The first line (`4 ** 2`) calculates $4^2 = 16$, but it is not displayed because it is not the last line of the cell. The second line (`1e6`), which represents 1,000,000, is the last line, so only this result is shown in the output: 1000000.0.\n",
    "\n",
    "If you want to display both values, you would need to use `print()` statements for each calculation:"
   ]
  },
  {
   "cell_type": "code",
   "execution_count": null,
   "id": "f64a3be2-2ba8-4302-b945-0b9ee6b31145",
   "metadata": {
    "tags": []
   },
   "outputs": [],
   "source": [
    "print(4 ** 2)\n",
    "print(1e6)"
   ]
  },
  {
   "cell_type": "markdown",
   "id": "163cb1e9-a5a1-42ff-b2bb-66951a5aecd5",
   "metadata": {},
   "source": [
    "### Markdown (Text) Cells\n",
    "\n",
    "Markdown cells in a Jupyter Notebook allow users to add formatted text, explanations, images, equations, and more, making the notebook easier to read and understand. These cells support Markdown syntax, enabling the use of headings, lists, links, bold and italic text, and even LaTeX for mathematical expressions. Markdown cells are useful for adding context to code, documenting workflows, and creating a narrative alongside the code and its outputs, helping make notebooks more informative and presentable.\n",
    "\n",
    "Click **[here](https://www.markdownguide.org/basic-syntax/)** to view a Basic Syntac | Markdown Guide."
   ]
  },
  {
   "cell_type": "markdown",
   "id": "0b2439d1-4a3e-4863-ba73-0f7b39415769",
   "metadata": {},
   "source": [
    "## Assignment Statements\n",
    "\n",
    "In Python, an assignment statement is used to assign a value to a variable using the equal sign (`=`). For example, `x = 5` assigns the value `5` to the variable `x`. Python assignment statements always use `=` for assignment, regardless of data types (integers, strings, etc.).\n",
    "\n",
    "In contrast, R uses a different syntax for assignment. While you can use `=` in R, the preferred operator is the left arrow (`<-`). For example, `x <- 5` is the standard way to assign the value `5` to `x` in R.\n",
    "\n",
    "Thus, the key difference is that Python uses `=` exclusively for assignment, while R commonly uses `<-` for the same purpose."
   ]
  },
  {
   "cell_type": "code",
   "execution_count": null,
   "id": "ca932f8a-846b-4f8b-bd5a-02e08eecc96e",
   "metadata": {
    "tags": []
   },
   "outputs": [],
   "source": [
    "## Assignment statement\n",
    "x = 5"
   ]
  },
  {
   "cell_type": "code",
   "execution_count": null,
   "id": "c0e08596-e07c-4f0e-9f07-b89423f98c8d",
   "metadata": {
    "tags": []
   },
   "outputs": [],
   "source": [
    "## DIsplay the value of x\n",
    "x"
   ]
  },
  {
   "cell_type": "code",
   "execution_count": null,
   "id": "b07a626d-fab5-4da7-8de1-95cf6e0ed80a",
   "metadata": {
    "tags": []
   },
   "outputs": [],
   "source": [
    "## Print the value of x\n",
    "print(x)"
   ]
  },
  {
   "cell_type": "markdown",
   "id": "9ad1fc69-5ffc-4586-8854-97d13d8e5b94",
   "metadata": {
    "tags": []
   },
   "source": [
    "## Data Types\n",
    "\n",
    "In Python, the basic data types `int`, `float`, and `boolean` are used to represent numbers and logical values:\n",
    "\n",
    "- **int**: Represents whole numbers, such as `5` or `-3`.\n",
    "\n",
    "- **float**: Represents decimal numbers, such as `3.14` or `0.001`.\n",
    "\n",
    "- **boolean**: Represents logical values, either `True` or `False`.\n",
    "\n",
    "These data types work similarly in R:\n",
    "\n",
    "- **int**: R also uses `int` for whole numbers, though R automatically assigns `numeric` (float) for numbers unless specified otherwise.\n",
    "\n",
    "- **float**: In R, `numeric` represents both integers and floating-point numbers, so R doesn’t have a distinct `float` type like Python.\n",
    "\n",
    "- **boolean**: Logical values in R are represented by `TRUE` or `FALSE`, which are equivalent to Python’s `True` and `False`."
   ]
  },
  {
   "cell_type": "code",
   "execution_count": null,
   "id": "56e5c834-fce9-4f02-9d65-11ff9966c3d2",
   "metadata": {
    "tags": []
   },
   "outputs": [],
   "source": [
    "## Assigning an integer value to the variable 'my_int'\n",
    "my_int = 5\n",
    "\n",
    "## Assigning a float value to the variable 'my_float'\n",
    "my_float = 50\n",
    "\n",
    "## Assigning a boolean value to the variable 'my_bool'\n",
    "my_bool = True\n",
    "\n",
    "## The type() function returns the data type of the variable\n",
    "print(\"The data type for the variable my_int is\", type(my_int), \".\")\n",
    "print(\"The data type for the variable my_float is\", type(my_float), \".\")\n",
    "print(\"The data type for the variable my_bool is\", type(my_bool), \".\")"
   ]
  },
  {
   "cell_type": "markdown",
   "id": "9d8f3b9a-0fb4-44fd-bcce-88f53943892a",
   "metadata": {},
   "source": [
    "## Data Strutures\n",
    "\n",
    "In Python, lists, tuples, and dictionaries are common data structures used to store and organize data:\n",
    "\n",
    "- **List**: A list is an ordered, mutable collection of items. Lists are created using square brackets `[]`, and you can add, remove, or modify elements. Lists can contain different data types.\n",
    "\n",
    "  ```python\n",
    "  my_list = [1, 2, 3, \"apple\"]\n",
    "  ```\n",
    "<br>\n",
    "\n",
    "my_tuple = (1, 2, 3, \"apple\")my_tuple = (1, 2, 3, \"apple\")- **Tuple**: A tuple is similar to a list but is immutable, meaning its elements cannot be changed after creation. Tuples are created using parentheses `()`. They are useful when you want to ensure the data remains unchanged.\n",
    "\n",
    "  ```python\n",
    "  my_tuple = (1, 2, 3, \"apple\")\n",
    "  ```\n",
    "<br>\n",
    "\n",
    "- **Dictionary**: A dictionary is a collection of key-value pairs. It is unordered, and keys must be unique. Dictionaries are created using curly braces `{}`. They allow quick lookups of values based on their keys.\n",
    "\n",
    "  ```python\n",
    "  my_dict = {\"name\": \"Alice\", \"age\": 25}\n",
    "  ```\n",
    "<br>\n",
    "Each of these data structures serves different purposes depending on the need for mutability, order, or the relationship between keys and values."
   ]
  },
  {
   "cell_type": "code",
   "execution_count": null,
   "id": "626f41c6-aef2-4f44-afec-60e3594959ef",
   "metadata": {
    "tags": []
   },
   "outputs": [],
   "source": [
    "my_list = [1, 2, 3, \"apple\"]\n",
    "my_tuple = (10, 20, 30, \"pear\")\n",
    "my_dict = {\"name\": \"Alice\", \"age\": 25}"
   ]
  },
  {
   "cell_type": "markdown",
   "id": "6d031938-bb9f-46d3-9fc9-961f76520061",
   "metadata": {},
   "source": [
    "### Accessing Elements\n",
    "\n",
    "#### Lists and Tuples\n",
    "\n",
    "You can access elements in both a list and a tuple by their index, starting from 0 for the first element. Additionally, you can use negative indexing to access elements from the end of the list or tuple, where `-1` refers to the last element."
   ]
  },
  {
   "cell_type": "code",
   "execution_count": null,
   "id": "d0a5ae02-b453-40d3-afb6-fefedff797ca",
   "metadata": {
    "tags": []
   },
   "outputs": [],
   "source": [
    "## Access the first element (index 0)\n",
    "## Output: 1\n",
    "print(\"This is the first element in the list:\", my_list[0])\n",
    "\n",
    "## Access the last element (index -1)\n",
    "## # Output: apple\n",
    "print(\"This is the last element in the list:\", my_list[-1])\n",
    "\n",
    "## Access the first element (index 0)\n",
    "## Output: 10\n",
    "print(\"This is the first element in the tuple:\", my_tuple[0])\n",
    "\n",
    "## Access the last element (index -1)\n",
    "## # Output: pear\n",
    "print(\"This is the last element in the tuple:\", my_tuple[-1])"
   ]
  },
  {
   "cell_type": "markdown",
   "id": "b3cbeab9-a417-41fe-89e1-7bb45e04e66d",
   "metadata": {
    "tags": []
   },
   "source": [
    "#### Dictionaries\n",
    "\n",
    "Dictionaries store data as key-value pairs, and you access values by their keys, not by index."
   ]
  },
  {
   "cell_type": "code",
   "execution_count": null,
   "id": "9c392789-816f-402e-ad05-377e5182709a",
   "metadata": {
    "tags": []
   },
   "outputs": [],
   "source": [
    "my_dict"
   ]
  },
  {
   "cell_type": "code",
   "execution_count": null,
   "id": "1dc6da65-c2bc-4f9b-a414-fe95ea17d615",
   "metadata": {
    "tags": []
   },
   "outputs": [],
   "source": [
    "## Access the value associated with the key name\n",
    "## Output: Alice\n",
    "print(\"The value associated with the key 'name' is\", my_dict[\"name\"])  \n",
    "\n",
    "## Access the value associated with the key age\n",
    "## # Output: 25\n",
    "print(\"The value associated with the key 'age' is\", my_dict[\"age\"])"
   ]
  },
  {
   "cell_type": "markdown",
   "id": "258f143b-e28b-4c81-b809-0d6696dea588",
   "metadata": {},
   "source": [
    "The `.keys()` method allows you to loop through only the keys in the dictionary `my_dict`. This method returns all the keys in the dictionary, and you can use it to print or manipulate each key individually without accessing the values. This is useful when you're only interested in the keys."
   ]
  },
  {
   "cell_type": "code",
   "execution_count": null,
   "id": "b72efa5c-c48f-4a7c-816a-97a516a9bf7e",
   "metadata": {
    "tags": []
   },
   "outputs": [],
   "source": [
    "## Looping through each key in the dictionary my_dict\n",
    "for key in my_dict.keys():\n",
    "    \n",
    "    ## Print the current key\n",
    "    print(key)"
   ]
  },
  {
   "cell_type": "markdown",
   "id": "c6007157-1bf5-4034-8178-6627f829673c",
   "metadata": {},
   "source": [
    "The `.values()` method allows you to loop through only the values in the dictionary `my_dict`. This method returns all the values in the dictionary, and you can use it to print or manipulate each value individually without accessing the keys. This is helpful when you're only interested in the values."
   ]
  },
  {
   "cell_type": "code",
   "execution_count": null,
   "id": "468b0a4c-6852-4362-815a-18e26f5cfb07",
   "metadata": {
    "tags": []
   },
   "outputs": [],
   "source": [
    "## Looping through each value in the dictionary my_dict\n",
    "for value in my_dict.values():\n",
    "    \n",
    "    ## Print the current key\n",
    "    print(value)"
   ]
  },
  {
   "cell_type": "markdown",
   "id": "d77e5980-15af-4ed0-8f7d-cc718de1273f",
   "metadata": {},
   "source": [
    "The `items()` method gives us both the key and its corresponding value at the same time. Inside the `for` loop, we use the `print()` function to display the key and the value together in the format \n",
    "\n",
    "```python\n",
    "\"key: value\"\n",
    "```\n",
    "\n",
    "This is a useful way to see both the key and its value from a dictionary, instead of just one or the other."
   ]
  },
  {
   "cell_type": "code",
   "execution_count": null,
   "id": "8629ffc3-3c7e-4ea6-92d5-3985a7696fd0",
   "metadata": {
    "tags": []
   },
   "outputs": [],
   "source": [
    "## Looping through each key-value pair\n",
    "## in the dictionary 'my_dict'\n",
    "for key, value in my_dict.items():\n",
    "    \n",
    "    ## Print the current key-value pair\n",
    "    print(key, \":\", value)"
   ]
  }
 ],
 "metadata": {
  "kernelspec": {
   "display_name": "Python 3 (ipykernel)",
   "language": "python",
   "name": "python3"
  },
  "language_info": {
   "codemirror_mode": {
    "name": "ipython",
    "version": 3
   },
   "file_extension": ".py",
   "mimetype": "text/x-python",
   "name": "python",
   "nbconvert_exporter": "python",
   "pygments_lexer": "ipython3",
   "version": "3.10.11"
  }
 },
 "nbformat": 4,
 "nbformat_minor": 5
}
