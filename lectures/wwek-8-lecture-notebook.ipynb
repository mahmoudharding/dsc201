{
 "cells": [
  {
   "cell_type": "markdown",
   "id": "a827eb9c-dcf9-486f-a215-668c2e837cfb",
   "metadata": {
    "tags": []
   },
   "source": [
    "## Week 8 Lecture `.ipynb` File\n",
    "\n",
    "#### Author: Mahmoud Harding\n",
    "\n",
    "## Data Cleaning and Data Moves\n",
    "\n",
    "### `pandas`\n",
    "\n",
    "Pandas is an open source Python package that is most widely used for data science/data analysis and machine learning tasks. It is built on top of another library named `Numpy`, which provides support for arrays. Since we know how to perform operations on `NumPy` arrays we can operate on columns in a `pandas` dataframe. \n",
    "\n",
    "Pandas is a fast, powerful, flexible and (sometimes) easy to use open source data analysis and manipulation tool. Click the `Cheat Sheet` below to access the Data Wrangling with `pandas` [Cheat Sheet](https://pandas.pydata.org/Pandas_Cheat_Sheet.pdf)."
   ]
  },
  {
   "cell_type": "code",
   "execution_count": null,
   "id": "6f122049-bef0-4ca9-9e99-cc61fc189201",
   "metadata": {
    "tags": []
   },
   "outputs": [],
   "source": [
    "import pandas as pd"
   ]
  },
  {
   "cell_type": "code",
   "execution_count": null,
   "id": "9215b741-e320-4071-b7b0-930b8ad3b67a",
   "metadata": {
    "tags": []
   },
   "outputs": [],
   "source": [
    "ss = ..."
   ]
  },
  {
   "cell_type": "code",
   "execution_count": null,
   "id": "6cf20eaa-810c-4d73-82df-0bcac57a184a",
   "metadata": {
    "tags": []
   },
   "outputs": [],
   "source": [
    "ss.info()"
   ]
  },
  {
   "cell_type": "code",
   "execution_count": null,
   "id": "271200ef-cb27-467c-bcda-22f2c0cce18e",
   "metadata": {
    "tags": []
   },
   "outputs": [],
   "source": [
    "ss.head()"
   ]
  },
  {
   "cell_type": "markdown",
   "id": "39040332-b87c-4beb-b4cd-37b3fccffe48",
   "metadata": {},
   "source": [
    "## Data Cleaning & Data Wrangling\n",
    "\n",
    "Data cleaning and data wrangling are related but distinct processes in data preparation. Data cleaning focuses on correcting errors, handling missing values, removing duplicates, and ensuring data consistency. It ensures that the dataset is accurate and reliable. Data wrangling, on the other hand, is a broader process that includes data cleaning, but also involves restructuring, transforming, merging, and filtering data to make it suitable for analysis. While cleaning improves data quality, wrangling prepares data for specific tasks by reshaping it into a usable format.\n",
    "\n",
    "**Example 1.** Drop `Unnamed: 0` column."
   ]
  },
  {
   "cell_type": "code",
   "execution_count": null,
   "id": "202681f1-a19c-4f4a-b665-2596764e7698",
   "metadata": {
    "tags": []
   },
   "outputs": [],
   "source": [
    "ss = ss.drop(columns = ['Unnamed: 0'])"
   ]
  },
  {
   "cell_type": "markdown",
   "id": "114a37ad-2070-455f-bb52-d37b760fc1ef",
   "metadata": {},
   "source": [
    "**Example 2.** Rename columns by replacing periods with underscores and converting to `snake_case`."
   ]
  },
  {
   "cell_type": "code",
   "execution_count": null,
   "id": "38d0a4a8-1e47-4c6a-81fb-b5ec039bb328",
   "metadata": {
    "tags": []
   },
   "outputs": [],
   "source": [
    "ss = ss.rename(columns = {'status.completed' : 'year_completed',\n",
    "                          'status.started' : 'year_started',\n",
    "                          'height in meters' : 'height_meters'\n",
    "                         }\n",
    "              )"
   ]
  },
  {
   "cell_type": "markdown",
   "id": "5d0af9d8-c4bb-41bb-bbf4-9631179cd21e",
   "metadata": {},
   "source": [
    "**Example 3.** Convert values in the `height_meters` column to numeric data type and create a new column named `clean_height_meters`."
   ]
  },
  {
   "cell_type": "code",
   "execution_count": null,
   "id": "753dc093-7eb0-4487-85dc-516a91f9e1d5",
   "metadata": {
    "tags": []
   },
   "outputs": [],
   "source": [
    "ss['clean_height_meters'] = ss['height_meters'].str.replace(\",\", \"\").astype(float)"
   ]
  },
  {
   "cell_type": "code",
   "execution_count": null,
   "id": "15e6a616-35d7-4b8d-8ac7-d2a19f13c7a5",
   "metadata": {
    "tags": []
   },
   "outputs": [],
   "source": [
    "ss.info()"
   ]
  },
  {
   "cell_type": "markdown",
   "id": "197a041a-f1f4-4415-831e-a683f5948ad2",
   "metadata": {
    "tags": []
   },
   "source": [
    "### Data Cleaning\n",
    "We can identify observations in the floors column that are not strictly integers by using the string method `.isdigit()` or the Series methods `.str.isdigit()` or `.str.contains()`.  \n",
    "\n",
    "- String Method\n",
    "  \n",
    "  - `.isdigit()`: Checks if a string has only digits (`0-9`). Returns `True` for whole numbers but `False` for decimals, negatives, or mixed characters. Works only on single strings.  \n",
    "\n",
    "- Series Methods \n",
    "\n",
    "  - `.str.isdigit()`: Applies `.isdigit()` to each value in a Series. Detects whole numbers but **not** decimals or negatives. Returns `NaN` for missing values.  \n",
    "\n",
    "  - `.str.contains()`: Checks if values in a Series contain a substring or match a regex pattern. Supports advanced searches like finding non-numeric values (`r'\\D'`).  "
   ]
  },
  {
   "cell_type": "code",
   "execution_count": null,
   "id": "29d58e26-c898-430a-9bba-7de31f58ed9b",
   "metadata": {
    "tags": []
   },
   "outputs": [],
   "source": [
    "ss.loc[48, ]"
   ]
  },
  {
   "cell_type": "code",
   "execution_count": null,
   "id": "1fb872ac-3f15-41af-a176-6ea4c25fe8da",
   "metadata": {
    "tags": []
   },
   "outputs": [],
   "source": [
    "ss.loc[61, ]"
   ]
  },
  {
   "cell_type": "markdown",
   "id": "35327956-44fa-46b8-aaec-3b88357d7a9f",
   "metadata": {},
   "source": [
    "#### `.isdigit()`"
   ]
  },
  {
   "cell_type": "code",
   "execution_count": null,
   "id": "8673b3f5-74b8-4a4e-8da5-5ddf3c6b492b",
   "metadata": {
    "tags": []
   },
   "outputs": [],
   "source": [
    "ss['floors'][48].isdigit()"
   ]
  },
  {
   "cell_type": "code",
   "execution_count": null,
   "id": "eb9ea14c-6745-4b7e-8c3c-ec34f8dc0c75",
   "metadata": {
    "tags": []
   },
   "outputs": [],
   "source": [
    "ss['floors'][61].isdigit()"
   ]
  },
  {
   "cell_type": "code",
   "execution_count": null,
   "id": "eb9f024d-c2c9-4601-8bde-4b41c784c36e",
   "metadata": {
    "tags": []
   },
   "outputs": [],
   "source": [
    "ss['floors'].str.isdigit()"
   ]
  },
  {
   "cell_type": "markdown",
   "id": "24c062d3-3e30-4167-bb58-413dd30a67b4",
   "metadata": {},
   "source": [
    "**Example 4.** Apply a Boolean mask to filter the `ss` DataFrame and identify observations where the `floors` column contains non-digit values."
   ]
  },
  {
   "cell_type": "code",
   "execution_count": null,
   "id": "cd6c128e-8c4e-41bb-8076-ff31cff8841c",
   "metadata": {
    "tags": []
   },
   "outputs": [],
   "source": [
    "mask = ss['floors'].str.isdigit()\n",
    "ss[mask]"
   ]
  },
  {
   "cell_type": "markdown",
   "id": "74ae2bc4-f0a2-4393-933e-855cb2076c37",
   "metadata": {},
   "source": [
    "**Example 5.** Use `~` to reverse the Boolean mask."
   ]
  },
  {
   "cell_type": "code",
   "execution_count": null,
   "id": "151ae81b-978a-4ff5-a26f-c5f40922fc04",
   "metadata": {
    "tags": []
   },
   "outputs": [],
   "source": [
    "ss[~mask]"
   ]
  },
  {
   "cell_type": "markdown",
   "id": "30509c01-dae0-49f1-883d-4fd8c1169c83",
   "metadata": {
    "tags": []
   },
   "source": [
    "#### `.str.contains()`\n",
    "\n",
    "The code below filters the `ss` `DataFrame` to find rows where the `floors` column contains at least one non-digit character.\n",
    "\n",
    "```python\n",
    "ss[ss['floors'].str.contains(r'\\D', na=False)]\n",
    "```\n",
    "\n",
    "**Step-by-Step Explanation:**\n",
    "\n",
    "- `ss['floors']`: Selects the `floors` column from the `ss` `DataFrame`.\n",
    "\n",
    "- `.str.contains(r'\\D', na = False)`\n",
    "\n",
    "    - `.str.contains()`: Checks if each value in the column contains a certain pattern.\n",
    "\n",
    "    - `r'\\D'\n",
    "\n",
    "        - `\\D` is a regex pattern that matches any non-digit character (letters, symbols, spaces, etc.). Regular expressions (regex) are used for searching, matching, and manipulating text based on patterns. They help identify specific text structures, such as email addresses, phone numbers, and numerical values. Regex is commonly used for data cleaning, validation, and extraction, making it a valuable tool for working with text data. Click **[here](https://media.datacamp.com/legacy/image/upload/v1665049611/Marketing/Blog/Regular_Expressions_Cheat_Sheet.pdf)** to view a cheatsheet of basic regular expressions.\n",
    "     \n",
    "         - The `r''` (raw string) ensures that Python correctly interprets `\\D`.\n",
    "   \n",
    "         - `na = False`: Ensures that `NaN` (missing values) are treated as `False`, so they are **not** included in the filtered results.\n",
    "\n",
    "- `ss[...]`: Filter the `DataFrame` to return only the rows where the condition is `True`, meaning `floors` contains non-numeric characters."
   ]
  },
  {
   "cell_type": "code",
   "execution_count": null,
   "id": "a06d0265-2c00-444a-ab03-d47cb23634b7",
   "metadata": {
    "tags": []
   },
   "outputs": [],
   "source": [
    "ss[ss['floors'].str.contains(r'\\D', na = False)]"
   ]
  },
  {
   "cell_type": "code",
   "execution_count": null,
   "id": "3e050a94-b391-4ba6-893d-33c69b8263f4",
   "metadata": {
    "tags": []
   },
   "outputs": [],
   "source": [
    "ss.loc[48, 'floors'] = 103\n",
    "ss.loc[61, 'floors'] = 73"
   ]
  },
  {
   "cell_type": "code",
   "execution_count": null,
   "id": "8824728d-e659-45b7-ad01-e7577ebc26b6",
   "metadata": {
    "tags": []
   },
   "outputs": [],
   "source": [
    "print(ss.loc[48, 'floors'])\n",
    "print(ss.loc[61, 'floors'])"
   ]
  },
  {
   "cell_type": "code",
   "execution_count": null,
   "id": "b8504c50-6e69-4dcc-9015-5602b41b2067",
   "metadata": {
    "tags": []
   },
   "outputs": [],
   "source": [
    "ss['floors'] = pd.to_numeric(ss['floors'])"
   ]
  },
  {
   "cell_type": "code",
   "execution_count": null,
   "id": "f92793f1-c300-4277-b85a-892381486608",
   "metadata": {
    "tags": []
   },
   "outputs": [],
   "source": [
    "ss.info()"
   ]
  },
  {
   "cell_type": "code",
   "execution_count": null,
   "id": "5b68baf1-81ef-4e99-a538-e729efbac9ba",
   "metadata": {
    "tags": []
   },
   "outputs": [],
   "source": [
    "ss['floors'].describe()"
   ]
  },
  {
   "cell_type": "code",
   "execution_count": null,
   "id": "81f60b99-d2d1-40be-85eb-28d7173a60c3",
   "metadata": {
    "tags": []
   },
   "outputs": [],
   "source": [
    "ss['country'].value_counts()"
   ]
  },
  {
   "cell_type": "markdown",
   "id": "e89839d1-3053-42d0-9164-388152f37e94",
   "metadata": {},
   "source": [
    "This code\n",
    "\n",
    "```python\n",
    "ss['country'].value_counts()\n",
    "```\n",
    "\n",
    "executed without any errors, but the output is incorrect because the same country has been entered in different ways, leading to inconsistent results. For instance:\n",
    "\n",
    "- USA, US, and United States of America are listed separately, though they refer to the same country.\n",
    "\n",
    "- United Arab Emirates appears multiple times as United Arab Emirates (UAE) and UAE.\n",
    "\n",
    "- Malaysia is misspelled as Malasya.\n",
    "\n",
    "- Saudi Arabia is listed as saudi Arabia (with a lowercase \"s\").\n",
    "\n",
    "### Filter\n",
    "\n",
    "Previoously in the course we used a Boolean mask to filter an R dataframe. We can do the same thing to a `pandas` `DataFrame`."
   ]
  },
  {
   "cell_type": "markdown",
   "id": "5fd82950-5677-4843-ae2b-68f3aedd6bb4",
   "metadata": {},
   "source": [
    "**Example 6.** Create a boolean mask that checks if the value in the `country` column is equal to \"United States of America\". This returns a `Series` of `True`/`False` values, where `True` indicates a match with the specified country."
   ]
  },
  {
   "cell_type": "code",
   "execution_count": null,
   "id": "e3731787-9a28-4be7-a7a7-f5ee1446559a",
   "metadata": {
    "tags": []
   },
   "outputs": [],
   "source": [
    "ss['country'] == \"United States of America\""
   ]
  },
  {
   "cell_type": "markdown",
   "id": "c63a0263-9241-42ba-ab8c-7a08a0012f6a",
   "metadata": {},
   "source": [
    "**Example 7.** Assign a boolean mask that checks if the values in the `country` column are equal to \"United States of America\". This mask will be a `Series` of `True`/`Fals`e values, where `True` indicates rows that match the specified country."
   ]
  },
  {
   "cell_type": "code",
   "execution_count": null,
   "id": "60aae358-2f50-42dc-9435-5c9d6bc59654",
   "metadata": {
    "tags": []
   },
   "outputs": [],
   "source": [
    "mask = ..."
   ]
  },
  {
   "cell_type": "markdown",
   "id": "6289dabf-b8ee-4b0d-9b80-f33237e30b32",
   "metadata": {},
   "source": [
    "**Example 8.** Filter the `ss` `DataFrame` using the boolean mask. This will return a new `DataFrame` containing only the rows where the mask is `True`, filtering the `DataFrame` based on the condition defined in the `mask`."
   ]
  },
  {
   "cell_type": "code",
   "execution_count": null,
   "id": "6433acaa-a71a-4ba8-b92c-59d5162a39a8",
   "metadata": {
    "tags": []
   },
   "outputs": [],
   "source": [
    "..."
   ]
  },
  {
   "cell_type": "markdown",
   "id": "cadfb519-8461-43bb-b7b0-a7e35544fe43",
   "metadata": {},
   "source": [
    "Keep in mind that our dataset contains some data entry inconsistencies, where USA, US, and United States of America are listed separately, even though they all refer to the same country. To ensure we capture all skyscrapers in the USA, we need to use the logical **`OR`** operator (`|`) to filter for all variations of the country name.\n",
    "\n",
    "**Note:** If we need to meet multiple conditions, we use the logical **`AND`** operator (`&`). For example, to filter and select skyscrapers located in Chicago, United States of America, we would use the following syntax:\n",
    "\n",
    "```python\n",
    "(ss['country'] == \"United States of America\") & (ss['city'] == \"Chicago\")\n",
    "```\n",
    "\n",
    "**Example 9.** Create a boolean mask that checks if the value in the `country` column is either \"United States of America\" or \"USA\". The `|` operator is used to apply the logical `OR`, meaning the mask will return `True` if either condition is met."
   ]
  },
  {
   "cell_type": "code",
   "execution_count": null,
   "id": "01dc9f96-53e8-4df6-9189-4440b4f31345",
   "metadata": {
    "tags": []
   },
   "outputs": [],
   "source": [
    "(ss['country'] == \"United States of America\") | (ss['country'] == \"USA\")"
   ]
  },
  {
   "cell_type": "code",
   "execution_count": null,
   "id": "081949b7-ba28-44ac-a2d6-22fb7504761c",
   "metadata": {},
   "outputs": [],
   "source": [
    "mask = (\n",
    "    (ss['country'] == \"United States of America\") | \n",
    "    (ss['country'] == \"USA\") |\n",
    "    (ss['country'] == \"United Sates of America\")\n",
    ")\n",
    "\n",
    "ss[mask]"
   ]
  },
  {
   "cell_type": "markdown",
   "id": "33d3b7d6-9bdc-473b-85bc-10a78b576edc",
   "metadata": {},
   "source": [
    "When using logical operations or expressions over multiple lines, parentheses are often used to group expressions into a block, like this:\n",
    "\n",
    "```python\n",
    "       ## Outer parenthesis to start the block\n",
    "mask = ( \n",
    "    (ss['country'] == \"United States of America\") | \n",
    "    (ss['country'] == \"USA\") |\n",
    "    (ss['country'] == \"United Sates of America\")\n",
    "\n",
    "## Outer parenthesis to end the block\n",
    ")\n",
    "```\n",
    "\n",
    "The parentheses define the boundaries of the block. This allows Python to interpret the entire multi-line expression as a single logical unit, even though it’s split across multiple lines. Without the parentheses, Python would not understand how to group the expressions and might raise a syntax error."
   ]
  },
  {
   "cell_type": "markdown",
   "id": "238be608-214a-4b98-9a05-9823b9a2a2e4",
   "metadata": {},
   "source": [
    "**Example 10.** Use this `.isin()` method to filter `ss` for all variations of the country name, checking if the country column is equal to \"United States of America\", \"USA\", or \"United Sates of America\". "
   ]
  },
  {
   "cell_type": "code",
   "execution_count": null,
   "id": "7021a793-c8de-403f-b0d4-b0f76aa5efa8",
   "metadata": {
    "tags": []
   },
   "outputs": [],
   "source": [
    "usa = [\"United States of America\", \"USA\", \"United Sates of America\"]\n",
    "\n",
    "mask = ...\n",
    "\n",
    "ss[mask]"
   ]
  },
  {
   "cell_type": "markdown",
   "id": "6a8c7f12-3a83-4286-bc73-52a85ad23c4e",
   "metadata": {},
   "source": [
    "You can also filter a `DataFrame` using the `.query` method. The `.query` method allows you to specify conditions as a string, making the syntax simpler and avoiding the need for complex boolean operators like `&` (and) and `|` (or). This method is especially useful when filtering based on multiple conditions.\n",
    "\n",
    "**Example 11.** Write a query string to filter the `ss` `DataFrame` for rows where the `country` column matches \"United States of America\", \"USA\", or the misspelled \"United Sates of America\". Use the `.query()` method to apply this filter and return only the matching rows."
   ]
  },
  {
   "cell_type": "code",
   "execution_count": null,
   "id": "a152ab09-164a-4d29-92d5-c6afa0dbdb32",
   "metadata": {
    "tags": []
   },
   "outputs": [],
   "source": [
    "q = 'country == \"United States of America\" ...'\n",
    "\n",
    "ss.query(q)"
   ]
  },
  {
   "cell_type": "markdown",
   "id": "310b9351-84f5-423f-8b57-bcfa39affce1",
   "metadata": {},
   "source": [
    "**Example 12.** Use string concatenation to build the query across multiple lines for readability. Then, apply the `.query()` method to return the filtered `DataFrame`."
   ]
  },
  {
   "cell_type": "code",
   "execution_count": null,
   "id": "b1cf03f8-e615-4264-8f80-5bc58577b77e",
   "metadata": {
    "tags": []
   },
   "outputs": [],
   "source": [
    "q = 'country == \"United States of America\" or ' + \\\n",
    "    'country == \"USA\" or ' + \\\n",
    "    'country == \"United Sates of America\"'\n",
    "\n",
    "q"
   ]
  },
  {
   "cell_type": "code",
   "execution_count": null,
   "id": "88724463-1ded-407a-b00d-ea9e8cd502a1",
   "metadata": {
    "tags": []
   },
   "outputs": [],
   "source": [
    "ss.query(q)"
   ]
  }
 ],
 "metadata": {
  "kernelspec": {
   "display_name": "Python 3 (ipykernel)",
   "language": "python",
   "name": "python3"
  },
  "language_info": {
   "codemirror_mode": {
    "name": "ipython",
    "version": 3
   },
   "file_extension": ".py",
   "mimetype": "text/x-python",
   "name": "python",
   "nbconvert_exporter": "python",
   "pygments_lexer": "ipython3",
   "version": "3.10.11"
  }
 },
 "nbformat": 4,
 "nbformat_minor": 5
}
