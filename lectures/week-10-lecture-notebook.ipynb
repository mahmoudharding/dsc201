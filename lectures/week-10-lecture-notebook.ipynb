{
 "cells": [
  {
   "cell_type": "markdown",
   "id": "aa33cde2-5a52-4ab5-a2ea-04576bc567c9",
   "metadata": {},
   "source": [
    "## Week 10 Lecture `.ipynb` File\n",
    "\n",
    "#### Author: Mahmoud Harding"
   ]
  },
  {
   "cell_type": "code",
   "execution_count": null,
   "id": "68ae37f1-29a0-4c9e-8147-4cc06871ba34",
   "metadata": {
    "tags": []
   },
   "outputs": [],
   "source": [
    "## Import the pandas library and give it an \n",
    "## alias pd\n",
    "import pandas as pd\n",
    "\n",
    "## Read the CSV file skyscrapers.csv from the data directory \n",
    "## and store the data in a DataFrame named skyscrapers\n",
    "skyscrapers = pd.read_csv('data/skyscrapers.csv')"
   ]
  },
  {
   "cell_type": "markdown",
   "id": "f353c472-c1fa-4067-9abf-7eb707be552d",
   "metadata": {},
   "source": [
    "**Example 1.** Display the information for the `skyscrapers` dataframe."
   ]
  },
  {
   "cell_type": "code",
   "execution_count": null,
   "id": "06c3847f-a560-4c3a-bbea-94c199c6fa3a",
   "metadata": {
    "tags": []
   },
   "outputs": [],
   "source": [
    "## Display a concise summary of the skyscrapers DataFrame, \n",
    "## including the index, column names, non-null counts, \n",
    "## and data types for each column\n",
    "skyscrapers.info()"
   ]
  },
  {
   "cell_type": "markdown",
   "id": "6b8f6ae3-ade7-46fa-a69a-f32db458b6c0",
   "metadata": {},
   "source": [
    "**Example 2.** Display the first 5 rows of the `skyscrapers` dataframe."
   ]
  },
  {
   "cell_type": "code",
   "execution_count": null,
   "id": "d525c7d8-ed49-4131-aea1-0a2559707615",
   "metadata": {
    "tags": []
   },
   "outputs": [],
   "source": [
    "skyscrapers.head()"
   ]
  },
  {
   "cell_type": "markdown",
   "id": "1d9f02f4-a87a-4711-8bc2-bf31013efbe2",
   "metadata": {},
   "source": [
    "**Example 3.** Examine the column names."
   ]
  },
  {
   "cell_type": "code",
   "execution_count": null,
   "id": "a0526e59-6c4e-4433-8208-ae7347c99fb0",
   "metadata": {
    "tags": []
   },
   "outputs": [],
   "source": [
    "## Return the list of column names in the skyscrapers DataFrame\n",
    "skyscrapers.columns"
   ]
  },
  {
   "cell_type": "markdown",
   "id": "8cfa2900-7e61-414e-975d-609d15b7821e",
   "metadata": {},
   "source": [
    "**Example 4.** Rename columns in the `skyscrapers` `DatFrame`."
   ]
  },
  {
   "cell_type": "code",
   "execution_count": null,
   "id": "9d09b0a4-2a6c-40f5-86a4-3d9b5e565db3",
   "metadata": {
    "tags": []
   },
   "outputs": [],
   "source": [
    "## Rename specific columns in the skyscrapers DataFrame:\n",
    "## location.city is renamed to city,\n",
    "## statistics.height is renamed to height,\n",
    "## statistics.floors above is renamed to floors,\n",
    "## status.completed.year is renamed to year_completed,\n",
    "## status.started.year is renamed to year_started.\n",
    "skyscrapers.rename(columns={'location.city': 'city',\n",
    "                            'statistics.height': 'height',\n",
    "                            'statistics.floors above': 'floors',\n",
    "                            'status.completed.year': 'year_completed', \n",
    "                            'status.started.year': 'year_started'},\n",
    "                   \n",
    "                   ## The inplace=True argument ensures the changes are applied directly \n",
    "                   ## to the original DataFrame.\n",
    "                   inplace=True)"
   ]
  },
  {
   "cell_type": "code",
   "execution_count": null,
   "id": "92def7a3-821e-4a36-ba7d-e7bd6519ec6f",
   "metadata": {
    "tags": []
   },
   "outputs": [],
   "source": [
    "skyscrapers.info()"
   ]
  },
  {
   "cell_type": "markdown",
   "id": "d2d78229-29bc-4b26-bc81-b98b5c2d0f39",
   "metadata": {},
   "source": [
    "**Example 5.** How many skyscrapers are there in each country?"
   ]
  },
  {
   "cell_type": "code",
   "execution_count": null,
   "id": "21957eca-8931-43cf-bbe7-b17aff5dc061",
   "metadata": {
    "tags": []
   },
   "outputs": [],
   "source": [
    "skyscrapers.country.value_counts()"
   ]
  },
  {
   "cell_type": "markdown",
   "id": "f6e0bbcb-a396-48be-a581-5f72541c3bf9",
   "metadata": {},
   "source": [
    "## Renaming Specific Values \n",
    "\n",
    "This code\n",
    "\n",
    "```\n",
    "skyscrapers.country.value_counts()\n",
    "```\n",
    "\n",
    "executed without any errors, but the output is incorrect because the same country has been entered in different ways, leading to inconsistent results. For instance:\n",
    "\n",
    "- USA, US, and United States of America are listed separately, though they refer to the same country.\n",
    "\n",
    "- United Arab Emirates appears multiple times as United Arab Emirates (UAE) and UAE.\n",
    "\n",
    "- Malaysia is misspelled as Malasya.\n",
    "\n",
    "- Saudi Arabia is listed as saudi Arabia (with a lowercase \"s\")."
   ]
  },
  {
   "cell_type": "code",
   "execution_count": null,
   "id": "50822914-6263-4a28-b77a-8abbce7cd26d",
   "metadata": {
    "tags": []
   },
   "outputs": [],
   "source": [
    "mask = (\n",
    "    (skyscrapers['country'] == \"US\") |\n",
    "    (skyscrapers['country'] == \"USA\") |\n",
    "    (skyscrapers['country'] == \"United Sates of America\")\n",
    ")\n",
    "\n",
    "skyscrapers[mask]"
   ]
  },
  {
   "cell_type": "markdown",
   "id": "69f0597a-1b01-4d1e-b8aa-6b9f3172f7a0",
   "metadata": {},
   "source": [
    "**Example 6.** Reassign the values `US`, `USA`, and `United Sates of America` to `United Sates of America`.\n",
    "\n",
    "**Step 1.** Fnd the row index labels."
   ]
  },
  {
   "cell_type": "code",
   "execution_count": null,
   "id": "2d4d581e-b7c4-45e5-b3a8-46053a5f530f",
   "metadata": {
    "tags": []
   },
   "outputs": [],
   "source": [
    "## .loc[12, ] selects the row with the index label 12 from the 'skyscrapers' \n",
    "## DataFrame. The empty space after the comma means all columns are selected \n",
    "## for that row.\n",
    "skyscrapers.loc[12, ]"
   ]
  },
  {
   "cell_type": "markdown",
   "id": "2684c7a2-daef-4620-b394-927411c9c3bc",
   "metadata": {},
   "source": [
    "**Step 2.** Access the value in index position 12 to `Unied States of America`."
   ]
  },
  {
   "cell_type": "code",
   "execution_count": null,
   "id": "b29b0eca-e771-46a0-956a-53cfe7b07c55",
   "metadata": {
    "tags": []
   },
   "outputs": [],
   "source": [
    "## After selecting the row by index, ['country'] extracts the value \n",
    "## from the 'country' column in that row.\n",
    "skyscrapers.loc[12, 'country']"
   ]
  },
  {
   "cell_type": "markdown",
   "id": "48c08c1d-040c-4359-9010-0102ba0ccdc2",
   "metadata": {},
   "source": [
    "**Step 3.** Reassign the value in index position 12 to `United States of America`."
   ]
  },
  {
   "cell_type": "code",
   "execution_count": null,
   "id": "6132c11e",
   "metadata": {
    "tags": []
   },
   "outputs": [],
   "source": [
    "## This assigns the value 'United States of America' to the 'country' \n",
    "## column for the row with index label 12.\n",
    "## It updates the 'country' value specifically for that row.\n",
    "skyscrapers[12, 'country'] = 'United States of America'\n",
    "\n",
    "## This retrieves all the columns for the row with index label 12 \n",
    "## from the 'skyscrapers' DataFrame. It returns the entire row after\n",
    "## the update.\n",
    "skyscrapers.loc[12, ]"
   ]
  },
  {
   "cell_type": "markdown",
   "id": "d826aca4-ee39-4577-88a0-bfa04e750f3c",
   "metadata": {},
   "source": [
    "**Step 4.** Use the `.index` attribute and a `for` loop to print the incorrect values."
   ]
  },
  {
   "cell_type": "code",
   "execution_count": null,
   "id": "c2142bb6-0d84-4304-80e4-bb700e2d50d8",
   "metadata": {
    "tags": []
   },
   "outputs": [],
   "source": [
    "## This loop iterates over the index values of the rows in the \n",
    "## 'skyscrapers' DataFrame that satisfy the condition defined by 'mask'. \n",
    "## 'skyscrapers[mask]' filters the rows, and '.index' gets the index \n",
    "## labels of those rows.\n",
    "\n",
    "## For each index 'i' in the filtered DataFrame, this prints the value \n",
    "## from the 'country' column for that specific row using the .loc[] method \n",
    "## to access the row by its index.\n",
    "for i in skyscrapers[mask].index:\n",
    "    print(skyscrapers.loc[i, 'country'])"
   ]
  },
  {
   "cell_type": "markdown",
   "id": "a631d5c8-3ab8-416e-babf-82edda408c6a",
   "metadata": {},
   "source": [
    "**Step 5.** Use the `.index` attribute and a `for` loop to correct the incorrect values."
   ]
  },
  {
   "cell_type": "code",
   "execution_count": null,
   "id": "ae423523-5abb-4603-b4ec-7fc2236b66ff",
   "metadata": {
    "tags": []
   },
   "outputs": [],
   "source": [
    "for i in skyscrapers[mask].index:\n",
    "    skyscrapers.loc[i, 'country'] = 'United States of America'"
   ]
  },
  {
   "cell_type": "markdown",
   "id": "94eb319f-087c-4660-8268-b5af00a83763",
   "metadata": {},
   "source": [
    "**Step 6.** Check the reassigned values."
   ]
  },
  {
   "cell_type": "code",
   "execution_count": null,
   "id": "d4aceee3-7308-4c58-bea3-3a4d9398e995",
   "metadata": {
    "tags": []
   },
   "outputs": [],
   "source": [
    "for i in skyscrapers[mask].index:\n",
    "    print(skyscrapers.loc[i, 'country'])"
   ]
  },
  {
   "cell_type": "markdown",
   "id": "7d0320c7-3ea0-462d-8345-c9285a2ecc94",
   "metadata": {},
   "source": [
    "Now that we have the correct counts for the United States of America."
   ]
  },
  {
   "cell_type": "code",
   "execution_count": null,
   "id": "8b158f06-76c3-486e-9cf8-c0b6129003aa",
   "metadata": {
    "tags": []
   },
   "outputs": [],
   "source": [
    "skyscrapers.country.value_counts()"
   ]
  },
  {
   "cell_type": "markdown",
   "id": "b786b65d-2ad9-4d14-aec0-f5a605f700c2",
   "metadata": {},
   "source": [
    "The country names for the remaining errors can be corrected using the same technique."
   ]
  },
  {
   "cell_type": "markdown",
   "id": "39d784d0-6555-4a5c-a6ad-c28480863b86",
   "metadata": {},
   "source": [
    "## Visualization\n",
    "\n",
    "Another exploration technique is visualization, where we can apply the same data moves concepts. We'll explore common visualization methods using the `skyscrapers` dataframe, leveraging plotting features from both `pandas` and `matplotlib`. \n",
    "\n",
    "Run the cell below to import the necessary libraries for creating our visualizations.\n",
    "\n",
    "**Note:** To learn more about visualizations in `matplotlib` click [here](https://matplotlib.org/) and for documentation on creating visualizations using `pandas` click [here](https://pandas.pydata.org/pandas-docs/stable/user_guide/visualization.html).\n",
    "\n",
    "### Bar Chart\n",
    "\n",
    "A bar chart is a graphical representation of categorical data where each category is represented by a bar, with the height or length of the bar corresponding to its value. It is used to compare the frequency, count, or other metrics across different categories. Bar charts are ideal when you need to visually compare discrete categories or show trends over time. \n",
    "\n",
    "This can be done using `pandas`.\n",
    "\n",
    "```python\n",
    "df.plot.bar()\n",
    "```\n",
    "\n",
    "or using `matplotlib`\n",
    "\n",
    "```python\n",
    "plt.bar()\n",
    "```\n",
    "\n",
    "Let's import the the `matplotlib.pyplot` library."
   ]
  },
  {
   "cell_type": "code",
   "execution_count": null,
   "id": "3cf6ed0d-76ab-4dd1-b8e7-d77cb616c903",
   "metadata": {
    "tags": []
   },
   "outputs": [],
   "source": [
    "import matplotlib.pyplot as plt"
   ]
  },
  {
   "cell_type": "markdown",
   "id": "f1bbbc73-bd63-411d-8edc-15e75a50d764",
   "metadata": {
    "tags": []
   },
   "source": [
    "Now we can make a bar chart for the counts of the countries."
   ]
  },
  {
   "cell_type": "code",
   "execution_count": null,
   "id": "3be28396-5c7c-47da-be86-b680cfd61910",
   "metadata": {
    "tags": []
   },
   "outputs": [],
   "source": [
    "## The 'value_counts()' function counts the occurrences of each unique value\n",
    "## in the 'country' column. It returns a Series where the index is the unique values\n",
    "## (in this case, countries), and the values are the frequency counts.\n",
    "## The result is stored in the variable 'tbl', representing the number of skyscrapers \n",
    "## per country.\n",
    "tbl = skyscrapers['country'].value_counts()\n",
    "\n",
    "## A slice of the first 3 rows of the frequency table 'tbl',\n",
    "## showing the top 3 countries with the highest number of skyscrapers.\n",
    "tbl[:3]"
   ]
  },
  {
   "cell_type": "code",
   "execution_count": null,
   "id": "f2b097b3-85b1-4f88-87ac-6245a8ec499b",
   "metadata": {
    "tags": []
   },
   "outputs": [],
   "source": [
    "## A bar chart for the top 3 most frequent countries from the 'tbl' Series.\n",
    "## 'plot.bar()' creates a bar plot with the country names on the x-axis and \n",
    "## the frequency (number of skyscrapers) on the y-axis.\n",
    "tbl[:3].plot.bar()\n",
    "\n",
    "## Add a title to the bar plot with the text \"Skyscraper Frequency\".\n",
    "plt.title(\"Skyscraper Frequency\");"
   ]
  },
  {
   "cell_type": "code",
   "execution_count": null,
   "id": "eb006981-48f0-48f3-92ca-3cbf42df0888",
   "metadata": {
    "tags": []
   },
   "outputs": [],
   "source": [
    "## Creates a bar chart for the top 3 countries in 'tbl', with horizontal\n",
    "## x-axis labels. The result is assigned to 'ax', whichs allows\n",
    "## the plot to be further customized.\n",
    "ax = tbl[:3].plot.bar(rot = 1)\n",
    "\n",
    "## Change the bin labels\n",
    "ax.set_xticklabels(['China', 'USA', 'UAE']):\n",
    "\n",
    "## This manually sets the x-axis labels to 'China', 'USA', and 'UAE' instead of \n",
    "## the default labels from the data.\n",
    "ax.set_xticklabels(['China', 'USA', 'UAE'])\n",
    "\n",
    "## Adds a title \"Skyscraper Frequency\" to the bar plot.\n",
    "plt.title(\"Skyscraper Frequency\");"
   ]
  },
  {
   "cell_type": "markdown",
   "id": "b647f19b-2adf-4d1e-a978-ad22c243aa36",
   "metadata": {},
   "source": [
    "### Histogram\n",
    "\n",
    "A histogram is a graphical representation of the distribution of numerical data. Unlike a bar chart, which displays categorical data, a histogram groups continuous data into bins (ranges) and shows the frequency or count of data points within each bin. The height of each bar represents the number of data points that fall within each bin.\n",
    "\n",
    "Let's visualize the number of floors."
   ]
  },
  {
   "cell_type": "code",
   "execution_count": null,
   "id": "ec49c816-c0cc-4043-a4a3-188bbe201386",
   "metadata": {
    "tags": []
   },
   "outputs": [],
   "source": [
    "## Create a histogram for the 'floors' column in the 'skyscrapers' DataFrame.\n",
    "## The histogram displays the distribution of the number of floors across \n",
    "## all skyscrapers, showing how frequently different ranges of floor counts appear.\n",
    "skyscrapers['floors'].hist()"
   ]
  },
  {
   "cell_type": "code",
   "execution_count": null,
   "id": "68591d9a-7ec2-41a0-8499-84d4793c7200",
   "metadata": {
    "tags": []
   },
   "outputs": [],
   "source": [
    "## The 'edgecolor=\"white\"' argument adds white borders around each bar in \n",
    "## the histogram.\n",
    "skyscrapers['floors'].hist(edgecolor=\"white\");"
   ]
  },
  {
   "cell_type": "code",
   "execution_count": null,
   "id": "828ce68e-872f-4349-b132-9dbb268b5c91",
   "metadata": {
    "tags": []
   },
   "outputs": [],
   "source": [
    "ax = skyscrapers['floors'].hist(edgecolor=\"white\")\n",
    "\n",
    "## Disables the grid lines on the histogram, removing the default grid.\n",
    "ax.grid(False)\n",
    "\n",
    "## ax.set_title(\"Distribution of the of Floors\"):\n",
    "## ax.set_xlabel(\"Number of floors\"):\n",
    "## Label the x-axis as \"Number of floors\"\n",
    "## Label the y-axis as \"Count\"\n",
    "ax.set_title(\"Distribution of the of Floors\")\n",
    "ax.set_xlabel(\"Number of floors\")\n",
    "ax.set_ylabel(\"Count\");"
   ]
  },
  {
   "cell_type": "markdown",
   "id": "5e625c6c-02ca-4ec4-9074-dca89a26365c",
   "metadata": {},
   "source": [
    "### Box Plot\n",
    "\n",
    "A boxplot is a way of displaying the distribution of data based on a five-number summary. \n",
    "\n",
    "- Median (Q2): The line inside the box represents the median (the middle value of the data set).\n",
    "\n",
    "- First quartile (Q1): The lower edge of the box, representing the 25th percentile (where 25% of the data lies below this value).\n",
    "\n",
    "- Third quartile (Q3): The upper edge of the box, representing the 75th percentile (where 75% of the data lies below this value).\n",
    "\n",
    "- Interquartile Range (IQR): The range between the first quartile (Q1) and third quartile (Q3), which contains the middle 50% of the data.\n",
    "\n",
    "- Whiskers: These extend from the edges of the box to the smallest and largest values within 1.5 times the IQR from Q1 and Q3, respectively. They represent the range of most of the data.\n",
    "\n",
    "- Outliers: Data points outside the whiskers are considered outliers and are usually plotted as individual dots.\n",
    "\n",
    "\n",
    "It helps to visually show the range, spread, and skewness of the data, as well as any potential outliers."
   ]
  },
  {
   "cell_type": "code",
   "execution_count": null,
   "id": "a30da852-c002-42fb-8942-ea2080113d11",
   "metadata": {
    "tags": []
   },
   "outputs": [],
   "source": [
    "## This creates a boxplot for the 'floors' column, separated by the 'country' column.\n",
    "\n",
    "## 'column='floors'' specifies that the boxplot is for the 'floors' \n",
    "## column (numerical data).\n",
    "\n",
    "## 'by='country'' groups the data by the 'country' column (categorical data) \n",
    "## and creates separate boxplots for each unique value in the 'country' column.\n",
    "skyscrapers.boxplot(column='floors', by='country');"
   ]
  },
  {
   "cell_type": "markdown",
   "id": "086ecbb4-2548-4270-aa28-7ecbd54b0d0b",
   "metadata": {},
   "source": [
    "**Example 7.** Is there anything wrong with this visualization? Turn to your neighbor and discuss your thoughts.\n",
    "\n",
    "Let’s focus on visualizing only the top three countries."
   ]
  },
  {
   "cell_type": "code",
   "execution_count": null,
   "id": "9ae7e7b8-f837-47e4-bf00-0776fdfeb0f6",
   "metadata": {
    "tags": []
   },
   "outputs": [],
   "source": [
    "## A query to filter rows where the country is either\n",
    "## 'United States of America', 'China', or 'United Arab Emirates'\n",
    "q = 'country == \"United States of America\" or ' + \\\n",
    "    'country == \"China\" or ' + \\\n",
    "    'country == \"United Arab Emirates\"'\n",
    "\n",
    "## Apply the query to the 'skyscrapers' DataFrame to get the filtered data\n",
    "df = skyscrapers.query(q)\n",
    "\n",
    "## Creating a boxplot for the 'floors' column, grouped by the 'country' column\n",
    "df.boxplot(column='floors', by='country');"
   ]
  },
  {
   "cell_type": "code",
   "execution_count": null,
   "id": "34669f0e-ebd7-4bcc-9395-dc512be44c32",
   "metadata": {
    "tags": []
   },
   "outputs": [],
   "source": [
    "ax = df.boxplot(column='floors', by='country', grid=False)\n",
    "\n",
    "# Add a title and customize axis labels\n",
    "ax.set_title(\"Floors Distribution by Country\")\n",
    "ax.set_xlabel(\"\")\n",
    "ax.set_ylabel(\"Number of Floors\")\n",
    "\n",
    "# Remove the default title generated by pandas\n",
    "plt.suptitle(\"\");"
   ]
  },
  {
   "cell_type": "markdown",
   "id": "1178b028-17a9-4454-82b1-906053a563c0",
   "metadata": {},
   "source": [
    "The box plot helps visualize the distribution of `floors` for each country.\n",
    "\n",
    "**Note:** The box plot may be misleading due to missing observations from the UAE caused by data entry errors."
   ]
  },
  {
   "cell_type": "markdown",
   "id": "46ab1ac2-b6b6-49e0-963e-ae98f76c9b56",
   "metadata": {},
   "source": [
    "### Scatter Plot\n",
    "\n",
    "A scatterplot is a graphical representation used to display the relationship between two continuous variables. Each point on the plot represents an observation, with the position of the point determined by the values of the two variables. The $x-$axis represents one variable, and the $y-$axis represents the other.\n",
    "Let's visualize the number of floors."
   ]
  },
  {
   "cell_type": "code",
   "execution_count": null,
   "id": "d8b87eb8-6a39-4741-9b9d-5f3b43c66cdd",
   "metadata": {
    "tags": []
   },
   "outputs": [],
   "source": [
    "## Create a scatter plot with the 'year_completed' column on the x-axis and \n",
    "## the 'floors' column on the y-axis.\n",
    "skyscrapers.plot.scatter(x='year_completed', y='floors');"
   ]
  },
  {
   "cell_type": "markdown",
   "id": "d24f7005-020f-48c0-b0af-a343a7a32141",
   "metadata": {},
   "source": [
    "**Example 8.** How would you describe the relationship between time and the number of floors? Is it positive, negative, or neutral?\n",
    "\n",
    "Describe your answer within the context of the data in represented in the visualization."
   ]
  },
  {
   "cell_type": "code",
   "execution_count": null,
   "id": "a718986d-5f45-4f6d-8f25-fad1a8f380af",
   "metadata": {
    "tags": []
   },
   "outputs": [],
   "source": [
    "ax = skyscrapers.plot.scatter(x='year_completed', y='floors', title='Year Completed vs. Floors')\n",
    "\n",
    "# Adding a vertical lines at x=2003 and x=2010\n",
    "plt.axvline(x=2003, color='red')\n",
    "plt.axvline(x=2010, color='red');"
   ]
  },
  {
   "cell_type": "markdown",
   "id": "91935a76-4488-4afe-a3df-c418ae3c10bd",
   "metadata": {},
   "source": [
    "**Example 9.** What do the red lines represent in the scatter plot?\n",
    "\n",
    "If we want to emphasize trends over time with the year on the $x-$axis, a line chart would be a more effective choice."
   ]
  },
  {
   "cell_type": "code",
   "execution_count": null,
   "id": "01227306-88f7-4332-af24-581f7a813a1b",
   "metadata": {
    "tags": []
   },
   "outputs": [],
   "source": [
    "## Create a line chart where the 'year_completed' column is on the x-axis\n",
    "## and the 'floors' column is on the y-axis. \n",
    "## The line connects the data points in order.\n",
    "skyscrapers.plot.line(x='year_completed', y='floors');"
   ]
  },
  {
   "cell_type": "markdown",
   "id": "88e23221-9037-4f4b-99d3-1373b116985c",
   "metadata": {},
   "source": [
    "**Example 10.** Since there are multiple observations for the same year, we need to group the data by year and choose a statistical measure to calculate from each group.\n",
    "\n",
    "When grouping data by year (or any other category), you can choose from several common statistical measures depending on what insights you're looking to extract. Here are some options:\n",
    "\n",
    "- Mean\n",
    "\n",
    "   ```python\n",
    "   skyscrapers.groupby('year_completed')['floors'].mean()\n",
    "   ```\n",
    "<br>\n",
    "\n",
    "- Median\n",
    "\n",
    "   ```python\n",
    "   skyscrapers.groupby('year_completed')['floors'].median()\n",
    "   ```\n",
    "<br>\n",
    "- Sum\n",
    "\n",
    "   ```python\n",
    "   skyscrapers.groupby('year_completed')['floors'].sum()\n",
    "   ```\n",
    "<br>\n",
    "- Count\n",
    "\n",
    "   ```python\n",
    "   skyscrapers.groupby('year_completed')['floors'].count()\n",
    "   ```\n",
    "<br>\n",
    "- Min/Max\n",
    "\n",
    "   ```python\n",
    "   skyscrapers.groupby('year_completed')['floors'].min()\n",
    "   \n",
    "   skyscrapers.groupby('year_completed')['floors'].max()\n",
    "   ```\n",
    "<br>\n",
    "The statistical measure you choose is based on what you're trying to analyze. For example, the mean or median works well for central tendencies, while min/max are effective when you want to highlight extreme cases or understand the range of values in your grouped data.\n",
    "\n",
    "To better understand this process, let’s break down the code step by step.\n",
    "\n",
    "```python\n",
    "skyscrapers.groupby('year_completed')['floors'].max()\n",
    "```\n",
    "\n",
    "- `skyscrapers.groupby('year_completed')` groups the skyscrapers DataFrame by the values in the `year_completed` column. Each unique value in year_completed forms a group.\n",
    "\n",
    "- After grouping by `year_completed`, `['floors']` selects the floors column from the `skyscrapers` `DataFrame` for further operations.\n",
    "\n",
    "- Finally, `.max()` computes the maximum value of the floors column for each group (each unique `year_completed`). It returns the highest number of floors for the skyscrapers completed in each year as a `Series` whose indices are represented by year."
   ]
  },
  {
   "cell_type": "code",
   "execution_count": null,
   "id": "cc6303cf-8ae9-4a1a-9362-bede95706357",
   "metadata": {
    "tags": []
   },
   "outputs": [],
   "source": [
    "skyscrapers.groupby('year_completed')['floors'].max()"
   ]
  },
  {
   "cell_type": "code",
   "execution_count": null,
   "id": "e2874f94-0c0b-4c64-af5f-d448fc4352c2",
   "metadata": {
    "tags": []
   },
   "outputs": [],
   "source": [
    "df = skyscrapers.groupby('year_completed')['floors'].max()\n",
    "\n",
    "df.plot.line(title=\"Max Floors by Year\");"
   ]
  },
  {
   "cell_type": "code",
   "execution_count": null,
   "id": "88ce7711-c382-4266-8858-672f3301dd76",
   "metadata": {
    "tags": []
   },
   "outputs": [],
   "source": [
    "## .loc[2000:] selects a slice of data starting from the year 2000 onward\n",
    "## The .loc[2000:] operation uses label-based indexing, meaning it selects all \n",
    "## rows where the year_completed is 2000 or greater.\n",
    "df = skyscrapers.groupby('year_completed')['floors'].max().loc[2000:, ]\n",
    "\n",
    "df.plot.line(title=\"Max Floors by Year\");"
   ]
  },
  {
   "cell_type": "code",
   "execution_count": null,
   "id": "9cd7e28b-2b5f-4ea3-9767-142c2ac55b62",
   "metadata": {
    "tags": []
   },
   "outputs": [],
   "source": [
    "## [10:] uses positional indexing and selects a slice of the data starting from the \n",
    "## 10th position (index 10) onward.\n",
    "## Unlike .loc, which selects rows based on labels, [10:] selects rows based on their\n",
    "## position in the result, regardless of the actual values in the year_completed column.\n",
    "df = skyscrapers.groupby('year_completed')['floors'].max()[10:]\n",
    "\n",
    "## The figsize=(12, 6) parameter in plotting functions (like in matplotlib and pandas plotting) \n",
    "## specifies the size of the plot in inches.\n",
    "## 12 is the width of the plot in inches and 6 is the height of the plot in inches.\n",
    "df.plot.line(title=\"Max Floors by Year\", figsize=(12, 6));"
   ]
  },
  {
   "cell_type": "code",
   "execution_count": null,
   "id": "3eba493d-2081-4464-9f23-7f8427a92614",
   "metadata": {
    "tags": []
   },
   "outputs": [],
   "source": [
    "df = skyscrapers.groupby('year_completed')['floors'].mean()[10:]\n",
    "df.plot.line(title=\"Mean Floors by Year\", figsize=(12, 6));"
   ]
  },
  {
   "cell_type": "code",
   "execution_count": null,
   "id": "15086495-7443-44ec-9483-47cb4dcbdee1",
   "metadata": {
    "tags": []
   },
   "outputs": [],
   "source": [
    "df = skyscrapers.groupby('year_completed')['floors'].median()[10:]\n",
    "df.plot.line(title=\"Median Floors by Year\", figsize=(12, 6));"
   ]
  }
 ],
 "metadata": {
  "kernelspec": {
   "display_name": "Python 3 (ipykernel)",
   "language": "python",
   "name": "python3"
  },
  "language_info": {
   "codemirror_mode": {
    "name": "ipython",
    "version": 3
   },
   "file_extension": ".py",
   "mimetype": "text/x-python",
   "name": "python",
   "nbconvert_exporter": "python",
   "pygments_lexer": "ipython3",
   "version": "3.10.11"
  }
 },
 "nbformat": 4,
 "nbformat_minor": 5
}
