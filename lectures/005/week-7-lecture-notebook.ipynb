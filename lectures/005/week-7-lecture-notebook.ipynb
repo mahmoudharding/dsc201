{
 "cells": [
  {
   "cell_type": "markdown",
   "id": "e15a23c2-cd7d-4357-8ded-37991958308a",
   "metadata": {},
   "source": [
    "# Week 7 Lecture Notebook"
   ]
  },
  {
   "cell_type": "markdown",
   "id": "70865ac6-37d7-4885-bc7c-c54622018102",
   "metadata": {},
   "source": [
    "## Python Basics\n",
    "\n",
    "### Built-in Functions\n",
    "\n",
    "- A function that is already available in a programming language/application that can be accessed by end users.\n",
    "- Returns some value based on its arguments.\n",
    "- `print`, `ab`s, `max`, `min`, `pow`, `round`, etc."
   ]
  },
  {
   "cell_type": "code",
   "execution_count": null,
   "id": "303d0455-1b6d-493b-9cbc-9025b565ba44",
   "metadata": {},
   "outputs": [],
   "source": [
    "abs(-3)"
   ]
  },
  {
   "cell_type": "code",
   "execution_count": null,
   "id": "8d764ebc-e588-4df9-91d1-6c7bc21e46d4",
   "metadata": {},
   "outputs": [],
   "source": [
    "abs(2-5)"
   ]
  },
  {
   "cell_type": "code",
   "execution_count": null,
   "id": "587614fb-8bf6-47fe-8abd-272eb550aa4c",
   "metadata": {},
   "outputs": [],
   "source": [
    "round(2.8)"
   ]
  },
  {
   "cell_type": "code",
   "execution_count": null,
   "id": "00f5fb81-bb90-4627-90c5-79e1231684ba",
   "metadata": {},
   "outputs": [],
   "source": [
    "pie = 22/7\n",
    "pie"
   ]
  },
  {
   "cell_type": "code",
   "execution_count": null,
   "id": "b9530227-ddc4-4126-997f-f95b1ecfa295",
   "metadata": {},
   "outputs": [],
   "source": [
    "round(pie, 4)"
   ]
  },
  {
   "cell_type": "code",
   "execution_count": null,
   "id": "9ca1b5ad-fb8b-46ff-affc-5e33609132e9",
   "metadata": {},
   "outputs": [],
   "source": [
    "pow(3, 2)"
   ]
  },
  {
   "cell_type": "code",
   "execution_count": null,
   "id": "4d8c257b-498e-44b5-a497-dfcafe6dd27b",
   "metadata": {},
   "outputs": [],
   "source": [
    "max(3, 10**2, 100.1)"
   ]
  },
  {
   "cell_type": "markdown",
   "id": "e902e5e0-99d3-46a3-9d27-ed7f9fbb2222",
   "metadata": {},
   "source": [
    "### Nested Functions"
   ]
  },
  {
   "cell_type": "code",
   "execution_count": null,
   "id": "0d2623db-8ae7-47a4-b233-ca6e6bb23cd2",
   "metadata": {},
   "outputs": [],
   "source": [
    "round(abs(1.6002-1.688), 4)"
   ]
  },
  {
   "cell_type": "code",
   "execution_count": null,
   "id": "f07b64c4-1f11-47db-91f2-5179fbcf66a9",
   "metadata": {},
   "outputs": [],
   "source": [
    "1.6002-1.688"
   ]
  },
  {
   "cell_type": "code",
   "execution_count": null,
   "id": "976d4a3a-7431-4dc1-b507-4b06418f5472",
   "metadata": {},
   "outputs": [],
   "source": [
    "abs(1.6002-1.688)"
   ]
  },
  {
   "cell_type": "markdown",
   "id": "aaef0333-d8f2-4b31-b708-55158d8c8257",
   "metadata": {},
   "source": [
    "### Importing Libraries\n",
    "\n",
    "- The [`math`](https://www.w3schools.com/PYTHON/module_math.asp) module has a set of methods and constants.\n",
    "\n",
    "**Entire Module**\n",
    "```\n",
    "import math \n",
    "```\n",
    "\n",
    "**Specific Constant**\n",
    "```\n",
    "from math import pi\n",
    "```\n",
    "\n",
    "- A method is like a function. The difference is a method is associated with an object, but a function is not [(stackoverflow)](https://stackoverflow.com/a/155655)."
   ]
  },
  {
   "cell_type": "code",
   "execution_count": null,
   "id": "38596697-a394-43ac-b036-59ae38c33cc1",
   "metadata": {},
   "outputs": [],
   "source": [
    "import math "
   ]
  },
  {
   "cell_type": "code",
   "execution_count": null,
   "id": "6352230a-f4f1-464a-b4b8-73d005412c70",
   "metadata": {},
   "outputs": [],
   "source": [
    "math.pi"
   ]
  },
  {
   "cell_type": "markdown",
   "id": "ea940f6a-7b75-432c-88cb-c1f469bfcb20",
   "metadata": {},
   "source": [
    "### `NumPy`\n",
    "\n",
    "[`NumPy` is a library for the Python programming language](https://en.wikipedia.org/wiki/NumPy), adding support for large, multi-dimensional arrays and matrices, along with a large collection of high-level mathematical functions to operate on these arrays."
   ]
  },
  {
   "cell_type": "code",
   "execution_count": null,
   "id": "edda5230-550a-46e2-9cb9-c331971c81a9",
   "metadata": {},
   "outputs": [],
   "source": [
    "import numpy as np"
   ]
  },
  {
   "cell_type": "markdown",
   "id": "febf210f-2ab9-4436-aeb7-142221ae0ebe",
   "metadata": {},
   "source": [
    "NumPy arrays can be thought of as fancy, homogeneous lists.\n",
    "\n",
    "- `np.array([1, 2, 3])`\n",
    "- `np.array(['one', 'two', 'three'])`\n",
    "- `np.array([])`"
   ]
  },
  {
   "cell_type": "code",
   "execution_count": null,
   "id": "65617f1d-0921-460a-83ad-81bbf1fd1217",
   "metadata": {},
   "outputs": [],
   "source": [
    "np.array([1, 2, 3])"
   ]
  },
  {
   "cell_type": "code",
   "execution_count": null,
   "id": "7c6d42e9-e0cb-4929-97a3-9f7c85796a8d",
   "metadata": {},
   "outputs": [],
   "source": [
    "np.array([“one”, “two”, “three”])"
   ]
  },
  {
   "cell_type": "code",
   "execution_count": null,
   "id": "827b4046-b9e1-4616-9e56-3cc8b2a9e833",
   "metadata": {},
   "outputs": [],
   "source": [
    "np.array([])"
   ]
  },
  {
   "cell_type": "markdown",
   "id": "ab832ebd-29ee-43a4-b37a-5acbd28a0910",
   "metadata": {},
   "source": [
    "- Operations on every element (e.g. multiplication, etc.)\n",
    "  - `np.log`\n",
    "  - `np.sqrt`\n",
    "  - `np.max`\n",
    "  - `np.sort`"
   ]
  },
  {
   "cell_type": "markdown",
   "id": "feb2762f-3d84-4d23-8b25-4ac629a11c98",
   "metadata": {},
   "source": [
    "### Lists vs. Arrays\n",
    "\n",
    "- Operations on every element\n"
   ]
  },
  {
   "cell_type": "code",
   "execution_count": null,
   "id": "0eaf14c7-209b-4826-b661-7b2ecff5afed",
   "metadata": {},
   "outputs": [],
   "source": [
    "[1, 2, 3, 4, 5] * 2\n",
    "np.array([1, 2, 3, 4, 5]) * 2"
   ]
  },
  {
   "cell_type": "code",
   "execution_count": null,
   "id": "fd43f338-63af-48ee-9f3a-cde284500542",
   "metadata": {},
   "outputs": [],
   "source": [
    "even = np.array([2, 4, 6, 8])\n",
    "even ** 2"
   ]
  },
  {
   "cell_type": "code",
   "execution_count": null,
   "id": "e057745c-583e-4dde-8cdb-f63408a90118",
   "metadata": {},
   "outputs": [],
   "source": [
    "np.arange(5)"
   ]
  },
  {
   "cell_type": "code",
   "execution_count": null,
   "id": "399fa9cf-eec4-42d2-a80f-c02febbfe5cf",
   "metadata": {},
   "outputs": [],
   "source": [
    "np.arange(5, 200, 5)"
   ]
  },
  {
   "cell_type": "markdown",
   "id": "83529e29-3d87-4697-8813-b57bc226297e",
   "metadata": {},
   "source": [
    "## `pandas`\n",
    "\n",
    "- Pandas is a fast, powerful, flexible and easy to use open source data analysis and manipulation tool. \n",
    "\n",
    "- [Tidy Data](https://www.jstatsoft.org/index.php/jss/article/view/v059i10/772)\n",
    "\n",
    "- Data Wrangling with `pandas` [Cheat Sheet](https://pandas.pydata.org/Pandas_Cheat_Sheet.pdf)"
   ]
  },
  {
   "cell_type": "code",
   "execution_count": null,
   "id": "5d0b8c0e-dd04-4fea-8e26-bf72b27bb6bb",
   "metadata": {},
   "outputs": [],
   "source": [
    "import pandas as pd"
   ]
  },
  {
   "cell_type": "code",
   "execution_count": null,
   "id": "0e861454-93f3-4100-a339-290d3e3e03c8",
   "metadata": {},
   "outputs": [],
   "source": [
    "skyscrapers = pd.read_csv('../../data/skyscrapers.csv')\n",
    "skyscrapers"
   ]
  },
  {
   "cell_type": "markdown",
   "id": "22dbb7ac-76b3-4214-96af-b7c872604f89",
   "metadata": {},
   "source": [
    "### Common `pandas` `DataFrame` Methods\n",
    "\n",
    "- `.head()`\n",
    "- `.shape`\n",
    "- `.info()`\n",
    "- `.describe()`\n",
    "- `.dtypes`\n",
    "- `.columns`\n",
    "- `.sample`"
   ]
  },
  {
   "cell_type": "code",
   "execution_count": null,
   "id": "1a4f0fce-da87-43ea-ad96-8b05c0f01db4",
   "metadata": {},
   "outputs": [],
   "source": [
    "# Returns the first 10 rows by default\n",
    "# Can specify the number of rows by\n",
    "# head(<number of rows to return>)\n",
    "skyscrapers.head()"
   ]
  },
  {
   "cell_type": "code",
   "execution_count": null,
   "id": "97d87cb3-4d67-43d7-b8ff-760d4c218e98",
   "metadata": {},
   "outputs": [],
   "source": [
    "skyscrapers.head(15)"
   ]
  },
  {
   "cell_type": "code",
   "execution_count": null,
   "id": "25b56f9b-47a4-43e0-97d0-54be4b9e5df3",
   "metadata": {},
   "outputs": [],
   "source": [
    "# Returns the number of rows and \n",
    "# columns as a tuple\n",
    "skyscrapers.shape"
   ]
  },
  {
   "cell_type": "code",
   "execution_count": null,
   "id": "79292157-fc31-4d5d-bea9-3dd370bf3c62",
   "metadata": {},
   "outputs": [],
   "source": [
    "# Returns information about the dataframe\n",
    "skyscrapers.info()"
   ]
  },
  {
   "cell_type": "code",
   "execution_count": null,
   "id": "2aedc16f-893c-4600-b0fa-84b62b9f61a6",
   "metadata": {},
   "outputs": [],
   "source": [
    "# Returns basic statistical details\n",
    "# from numerical columns \n",
    "skyscrapers.describe()"
   ]
  },
  {
   "cell_type": "code",
   "execution_count": null,
   "id": "64fd96a5-6599-4f58-b806-96661e92fc9c",
   "metadata": {},
   "outputs": [],
   "source": [
    "# Returns the names of the columns\n",
    "skyscrapers.columns"
   ]
  },
  {
   "cell_type": "code",
   "execution_count": null,
   "id": "2bc870b4-ca4f-4e0e-a1f6-3f8aa01d2f84",
   "metadata": {},
   "outputs": [],
   "source": [
    "# Returns one random sample of rows\n",
    "# By defult the sample is without replacement\n",
    "# Can specify the number of rows by\n",
    "# sample(<number of rows to return>)\n",
    "skyscrapers.sample()"
   ]
  },
  {
   "cell_type": "code",
   "execution_count": null,
   "id": "3139c8ac-e0c5-4839-b509-a79ef0db8e64",
   "metadata": {},
   "outputs": [],
   "source": [
    "skyscrapers.sample(10)"
   ]
  },
  {
   "cell_type": "code",
   "execution_count": null,
   "id": "c2d05921-93a5-40ed-b8fc-d8314634d65a",
   "metadata": {},
   "outputs": [],
   "source": [
    "# Returns the values from a column\n",
    "# as a Series\n",
    "skyscrapers[\"city\"]"
   ]
  },
  {
   "cell_type": "code",
   "execution_count": null,
   "id": "e5c14d0d-5a98-48ef-8c20-75da1569767e",
   "metadata": {},
   "outputs": [],
   "source": [
    "# Returns the values from a column\n",
    "# as a Series\n",
    "skyscrapers[\"height\"]"
   ]
  },
  {
   "cell_type": "code",
   "execution_count": null,
   "id": "820e971d-c9c8-4165-981d-d975ed283087",
   "metadata": {},
   "outputs": [],
   "source": [
    "# Since a series is like an array with special\n",
    "# indices you can use numpy functions on it\n",
    "np.round(skyscrapers['height'])"
   ]
  },
  {
   "cell_type": "code",
   "execution_count": null,
   "id": "e487b491-d80b-404e-95f8-66c7000fb280",
   "metadata": {},
   "outputs": [],
   "source": [
    "# Since a series is like an array with special\n",
    "# indices you can use numpy functions on it\n",
    "np.mean(skyscrapers.height)"
   ]
  },
  {
   "cell_type": "code",
   "execution_count": null,
   "id": "73782405-b6bf-4572-af64-2381959cc0b8",
   "metadata": {},
   "outputs": [],
   "source": [
    "# Returns the values from a column\n",
    "# as a dataframe\n",
    "skyscrapers[['city']]"
   ]
  },
  {
   "cell_type": "code",
   "execution_count": null,
   "id": "9ce93348-39e2-4a4d-bc4c-3d44dd9377f5",
   "metadata": {},
   "outputs": [],
   "source": [
    "# Returns the values from a column\n",
    "# as a dataframe\n",
    "skyscrapers[['height']]"
   ]
  },
  {
   "cell_type": "markdown",
   "id": "ce83e904-ba27-4e34-bb38-5209e92032ed",
   "metadata": {},
   "source": [
    "### `Series` Methods"
   ]
  },
  {
   "cell_type": "code",
   "execution_count": null,
   "id": "5c3da887-0dd6-4eda-bbbb-ee7a63aaafe1",
   "metadata": {},
   "outputs": [],
   "source": [
    "# Returns the frequency of labels\n",
    "# from a categorical column (Series)\n",
    "# as a Series\n",
    "skyscrapers[\"material\"].value_counts()"
   ]
  },
  {
   "cell_type": "code",
   "execution_count": null,
   "id": "46409592-e5a7-463b-8b5e-6cf83592cc88",
   "metadata": {},
   "outputs": [],
   "source": [
    "# Returns the unique labels\n",
    "# from a categorical column (Series)\n",
    "# as an array\n",
    "skyscrapers[\"city\"].unique()"
   ]
  },
  {
   "cell_type": "markdown",
   "id": "2c426ebc-105a-43dc-86c5-f25f5118f66a",
   "metadata": {},
   "source": [
    "### Subsetting by Row Value\n",
    "\n",
    "What if we wanted to know which skyscrapers are taller than 300."
   ]
  },
  {
   "cell_type": "code",
   "execution_count": null,
   "id": "3ad12c94-4f3f-400e-81fd-db8c056f449f",
   "metadata": {},
   "outputs": [],
   "source": [
    "# Select the vlaues from the % column\n",
    "# This returns a Series\n",
    "skyscrapers['height']"
   ]
  },
  {
   "cell_type": "markdown",
   "id": "c7117ac6-b36a-40c6-869b-0315cde22df0",
   "metadata": {},
   "source": [
    "## Comparison Operators\n",
    "\n",
    "Python supports the use of six comparion operators:\n",
    "\n",
    "- Equals: `a == b`\n",
    "\n",
    "- Not Equals: `a != b`\n",
    "\n",
    "- Less than: `a < b`\n",
    "\n",
    "- Less than or equal: `a <= b`\n",
    "\n",
    "- Greater than: `a > b`\n",
    "\n",
    "- Greater than or equal: `a >= b`"
   ]
  },
  {
   "cell_type": "code",
   "execution_count": null,
   "id": "09a9ab43-14e7-4b1b-9b6a-96f4a74c3cc0",
   "metadata": {},
   "outputs": [],
   "source": [
    "# Use a comparison operator to\n",
    "# determine which values from the\n",
    "# Series are greater than 300\n",
    "skyscrapers['height'] > 300"
   ]
  },
  {
   "cell_type": "code",
   "execution_count": null,
   "id": "614317ee-5465-44ef-a1ce-59f883873518",
   "metadata": {},
   "outputs": [],
   "source": [
    "# Use the results from the comparison\n",
    "# to \"mask\" rows that are False\n",
    "# This is know as a boolean mask\n",
    "skyscrapers[skyscrapers['height'] > 300]"
   ]
  }
 ],
 "metadata": {
  "kernelspec": {
   "display_name": "DSC295",
   "language": "python",
   "name": "dsc295"
  },
  "language_info": {
   "codemirror_mode": {
    "name": "ipython",
    "version": 3
   },
   "file_extension": ".py",
   "mimetype": "text/x-python",
   "name": "python",
   "nbconvert_exporter": "python",
   "pygments_lexer": "ipython3",
   "version": "3.11.0"
  }
 },
 "nbformat": 4,
 "nbformat_minor": 5
}
