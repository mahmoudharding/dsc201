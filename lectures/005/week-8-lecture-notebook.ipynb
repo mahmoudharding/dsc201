{
 "cells": [
  {
   "cell_type": "markdown",
   "id": "39982fa6-fa51-4b7b-ae43-8f062726e28e",
   "metadata": {},
   "source": [
    "# Week 8 Lecture Notebook"
   ]
  },
  {
   "cell_type": "markdown",
   "id": "6efed2f3-8c4d-4b5f-8277-5b4681420ba8",
   "metadata": {},
   "source": [
    "## Durham City Employees \n",
    "\n",
    "In this lecture our goal is to motivate a use for iteration in Python. We start with the question - What is the median salary for city employees in Durham, North Carolina?\n",
    "\n",
    "We will use Python to help us answer this question. First let's import the modules we need."
   ]
  },
  {
   "cell_type": "code",
   "execution_count": 1,
   "id": "680e47d3-ab4b-4d41-af5a-7533c7199675",
   "metadata": {},
   "outputs": [],
   "source": [
    "import numpy as np\n",
    "import pandas as pd"
   ]
  },
  {
   "cell_type": "markdown",
   "id": "b49af830-112e-4ab1-82b5-339cc4c25376",
   "metadata": {},
   "source": [
    "## Load the Data and Explore \n",
    "\n",
    "Let's load the data, then we'll use our newly acquired skills to briefly explore."
   ]
  },
  {
   "cell_type": "code",
   "execution_count": 5,
   "id": "d57c607c-9d7b-4c97-8c38-274ec8d4628a",
   "metadata": {},
   "outputs": [],
   "source": [
    "ral = pd.read_csv('durham_city_employee_salaries.csv')\n",
    "ral"
   ]
  },
  {
   "cell_type": "markdown",
   "id": "79e9556a-f5c5-495e-a8fd-a4c673054cef",
   "metadata": {},
   "source": [
    "Use your Python skills to explore the `dur` dataframe. You can write your code in the blank cells below. Feel free to add more code cells."
   ]
  },
  {
   "cell_type": "code",
   "execution_count": null,
   "id": "69f60665-0303-4fec-82a5-3f2c0438b312",
   "metadata": {},
   "outputs": [],
   "source": [
    "..."
   ]
  },
  {
   "cell_type": "code",
   "execution_count": null,
   "id": "421cf247-d9fd-4609-888a-f905f535f214",
   "metadata": {},
   "outputs": [],
   "source": [
    "..."
   ]
  },
  {
   "cell_type": "code",
   "execution_count": null,
   "id": "31c06ca9-6f57-48cb-97e7-98aec0e443a2",
   "metadata": {},
   "outputs": [],
   "source": [
    "..."
   ]
  },
  {
   "cell_type": "code",
   "execution_count": null,
   "id": "ba4f0073-d772-4711-9823-642870164b8b",
   "metadata": {},
   "outputs": [],
   "source": [
    "..."
   ]
  },
  {
   "cell_type": "markdown",
   "id": "c0b0f32f-4cdf-414f-a714-26d67d109099",
   "metadata": {},
   "source": [
    "I don't know about you but I hate having to hold the `Shift` key and type multiple characters. I'm going to rename the columns."
   ]
  },
  {
   "cell_type": "code",
   "execution_count": null,
   "id": "77287e0c-adb2-4dc3-b619-069b5c722864",
   "metadata": {},
   "outputs": [],
   "source": [
    "df = dur.rename(columns={'SALARY':'salary', \n",
    "                         'TITLE': 'title', \n",
    "                         'DEPARTMENT':'dept'})"
   ]
  },
  {
   "cell_type": "markdown",
   "id": "c3a9e93b-f178-4a95-ad11-af89bd1c04dc",
   "metadata": {},
   "source": [
    "## Median Salary\n",
    "\n",
    "There are approximately 2400 City of Durham employees. So this appears to be the entire list (i.e. the population). Since we have a list of *all* the employees we know the median salary. Let's find the median salary and compare it to the average salary."
   ]
  },
  {
   "cell_type": "code",
   "execution_count": null,
   "id": "c79d2c43-1576-4029-bb1d-27beae4009ad",
   "metadata": {},
   "outputs": [],
   "source": [
    "..."
   ]
  },
  {
   "cell_type": "code",
   "execution_count": null,
   "id": "f9260912-da8e-43c1-ba28-ba04818f45ac",
   "metadata": {},
   "outputs": [],
   "source": [
    "..."
   ]
  },
  {
   "cell_type": "markdown",
   "id": "a9fe9b38-2f58-4834-8e36-bd75beb33eb7",
   "metadata": {},
   "source": [
    "Unfortunately we can't because someone decided it would be a good idea to include the dollar sign and commas.\n",
    "\n",
    "## Data Wrangling with Strings\n",
    "\n",
    "We need to remove the dollar sign, the comma(s) and change the type from `str` to `float`."
   ]
  },
  {
   "cell_type": "code",
   "execution_count": null,
   "id": "c229f538-61e4-47fe-a144-7698ed30013f",
   "metadata": {},
   "outputs": [],
   "source": [
    "..."
   ]
  },
  {
   "cell_type": "code",
   "execution_count": null,
   "id": "95876e7b-cca9-4bcb-bdec-c6bcc404f7fd",
   "metadata": {},
   "outputs": [],
   "source": [
    "..."
   ]
  },
  {
   "cell_type": "code",
   "execution_count": null,
   "id": "92b841c6-6add-480a-aff4-55ffe35bd8e1",
   "metadata": {},
   "outputs": [],
   "source": [
    "..."
   ]
  },
  {
   "cell_type": "code",
   "execution_count": null,
   "id": "ed7f5e2f-98eb-4b6d-a992-fa032cd99506",
   "metadata": {},
   "outputs": [],
   "source": [
    "..."
   ]
  },
  {
   "cell_type": "markdown",
   "id": "5a1cc58e-64dd-4252-8404-dc82d218ef72",
   "metadata": {},
   "source": [
    "That's more like it. Now we can do math with our new column of numerical salary values."
   ]
  },
  {
   "cell_type": "code",
   "execution_count": null,
   "id": "614d811e-6d31-40ca-9e4a-83d5767b158e",
   "metadata": {},
   "outputs": [],
   "source": [
    "df['cash'].median()"
   ]
  },
  {
   "cell_type": "code",
   "execution_count": null,
   "id": "332f154c-38bc-4e88-adf8-47f142ee950f",
   "metadata": {},
   "outputs": [],
   "source": [
    "df.cash.mean()"
   ]
  },
  {
   "cell_type": "code",
   "execution_count": null,
   "id": "14b409db-2e5f-46c1-ad52-cb2de82cb2ae",
   "metadata": {},
   "outputs": [],
   "source": [
    "df.cash.max()"
   ]
  },
  {
   "cell_type": "code",
   "execution_count": null,
   "id": "a3d2ec73-f813-4c1d-83e8-28bfbe982744",
   "metadata": {},
   "outputs": [],
   "source": [
    "df.cash.min()"
   ]
  },
  {
   "cell_type": "code",
   "execution_count": null,
   "id": "46985749-d5c5-4b40-9c70-1237d8e3b06d",
   "metadata": {},
   "outputs": [],
   "source": [
    "df.sort_values('cash')"
   ]
  },
  {
   "cell_type": "markdown",
   "id": "d0fb8375-2c70-40ea-a527-f6fca5d76888",
   "metadata": {},
   "source": [
    "# Sampling\n",
    "\n",
    "Suppose we didn't have access to *all* the Durham city employee salaries. Can we still guess the median salary using a sample of Durham City employee salaries."
   ]
  },
  {
   "cell_type": "code",
   "execution_count": null,
   "id": "f51d6afa-8cc0-410d-81c5-8cbf339c8ae7",
   "metadata": {},
   "outputs": [],
   "source": [
    "df.sample()"
   ]
  },
  {
   "cell_type": "code",
   "execution_count": null,
   "id": "e7dfdb56-7695-4000-a8de-4bff54230eb1",
   "metadata": {},
   "outputs": [],
   "source": [
    "df.sample(10)"
   ]
  },
  {
   "cell_type": "code",
   "execution_count": null,
   "id": "cd59ae86-4624-478e-a37b-f70fc0a96936",
   "metadata": {},
   "outputs": [],
   "source": [
    "df.sample(10).cash.median()"
   ]
  },
  {
   "cell_type": "markdown",
   "id": "014384a2-498d-4726-af9d-99b316635bc3",
   "metadata": {},
   "source": [
    "We need to keep up with the median from each sample."
   ]
  },
  {
   "cell_type": "code",
   "execution_count": null,
   "id": "4b05d829-9de1-4932-b5a3-16f4e30ebbdc",
   "metadata": {},
   "outputs": [],
   "source": [
    "med = np.array([])"
   ]
  },
  {
   "cell_type": "code",
   "execution_count": null,
   "id": "65f48588-b780-4f1d-ac63-00ee951fee01",
   "metadata": {},
   "outputs": [],
   "source": [
    "np.append(med, df.sample(10).cash.median())"
   ]
  },
  {
   "cell_type": "code",
   "execution_count": null,
   "id": "67330df8-1532-4478-ac31-b3fa5101d7d3",
   "metadata": {},
   "outputs": [],
   "source": [
    "med = np.append(med, df.sample(10).cash.median())"
   ]
  },
  {
   "cell_type": "code",
   "execution_count": null,
   "id": "85886d6a-86cd-447b-ba32-39fffcf85e94",
   "metadata": {},
   "outputs": [],
   "source": [
    "med"
   ]
  },
  {
   "cell_type": "markdown",
   "id": "b59e25b9-8d24-443d-9bca-2bd52a8f0d2f",
   "metadata": {},
   "source": [
    "We need to do this a lot of times. Wouldn't be nice if there were a programmatic way to repeat code so we don't have to press run 1000 times. \n",
    "\n",
    "## `for` Loops"
   ]
  },
  {
   "cell_type": "code",
   "execution_count": null,
   "id": "251dd9c9-482c-4ccf-b5ea-2859f6b52c25",
   "metadata": {},
   "outputs": [],
   "source": [
    "range(5)"
   ]
  },
  {
   "cell_type": "code",
   "execution_count": null,
   "id": "74b7aa37-38db-413e-a28a-4e164bc75cd2",
   "metadata": {},
   "outputs": [],
   "source": [
    "for i in range(5):\n",
    "    print(i)"
   ]
  },
  {
   "cell_type": "code",
   "execution_count": null,
   "id": "5133ed47-3bca-4db6-8c76-cb2da5f50a59",
   "metadata": {},
   "outputs": [],
   "source": [
    "for num in range(5):\n",
    "    print(num)"
   ]
  },
  {
   "cell_type": "code",
   "execution_count": null,
   "id": "c7c3a161-e271-40b4-bcd8-94add9e5f478",
   "metadata": {},
   "outputs": [],
   "source": [
    "np.arange(5)"
   ]
  },
  {
   "cell_type": "code",
   "execution_count": null,
   "id": "a501a3d5-89db-4150-b36a-406b09109e9f",
   "metadata": {},
   "outputs": [],
   "source": [
    "for num in np.arange(5):\n",
    "    print(num)"
   ]
  },
  {
   "cell_type": "code",
   "execution_count": null,
   "id": "156b16b1-7a1a-49af-9bf7-c4ed070c1d0b",
   "metadata": {},
   "outputs": [],
   "source": [
    "numbers = np.arange(5)\n",
    "for num in numbers:\n",
    "    print(num)"
   ]
  },
  {
   "cell_type": "code",
   "execution_count": null,
   "id": "82d84440-200e-40a6-8490-c0208d4d673d",
   "metadata": {},
   "outputs": [],
   "source": [
    "letters = ['a', 'b', 'c']\n",
    "for i in letters:\n",
    "    print(i)"
   ]
  },
  {
   "cell_type": "code",
   "execution_count": null,
   "id": "c5a5e6d1-7e50-4075-8aa6-7aff72a21323",
   "metadata": {},
   "outputs": [],
   "source": [
    "for i in range(len(letters)):\n",
    "    print(i, letters[i])"
   ]
  },
  {
   "cell_type": "code",
   "execution_count": null,
   "id": "fda58a28-c1c1-4c3d-923b-d63c5b24c172",
   "metadata": {},
   "outputs": [],
   "source": [
    "name = \"Data Science Academy\"\n",
    "for character in name:\n",
    "    print(character)"
   ]
  },
  {
   "cell_type": "code",
   "execution_count": null,
   "id": "9281c2d2-e61c-42dc-8414-cbdc32433113",
   "metadata": {},
   "outputs": [],
   "source": [
    "count = 0\n",
    "for letter in name:\n",
    "    count += 1\n",
    "\n",
    "print('There are', count, 'letters in the name', name)"
   ]
  },
  {
   "cell_type": "code",
   "execution_count": null,
   "id": "2ba6e1a8-fb11-44a4-b9c0-193fce7289fa",
   "metadata": {},
   "outputs": [],
   "source": [
    "count = 0\n",
    "for letter in name:\n",
    "    if letter != \" \":\n",
    "        count += 1\n",
    "\n",
    "print('There are', count, 'letters in the name', name)"
   ]
  },
  {
   "cell_type": "markdown",
   "id": "f244cdad-1570-4019-86c4-d9f341a468f4",
   "metadata": {},
   "source": [
    "## Bootstrapping\n",
    "\n",
    "The bootstrap method is a resampling technique used to estimate statistics on a population by sampling a dataset *with replacement*.\n",
    "\n",
    "It can be used to estimate summary statistics such as the mean or standard deviation.\n",
    "\n",
    "To get a better sense of what bootstrapping is and why it works, run the cell below to watch the video."
   ]
  },
  {
   "cell_type": "code",
   "execution_count": null,
   "id": "be2933c6-08d7-46cc-ad11-012ebcfe936d",
   "metadata": {},
   "outputs": [],
   "source": [
    "from IPython.display import YouTubeVideo\n",
    "YouTubeVideo('Xz0x-8-cgaQ')"
   ]
  },
  {
   "cell_type": "markdown",
   "id": "131510f6-4bc0-42fb-96a2-873575aaf9bb",
   "metadata": {},
   "source": [
    "Now we'll pretend that we don't have *all* the Durham City employee salaries. Let's take a sample of 300 rows (without replacement) from the `dur` dataframe. Then we'll use bootstrapping to estimate the median."
   ]
  },
  {
   "cell_type": "code",
   "execution_count": null,
   "id": "b6eabb9b-71d4-4247-bcf1-28301d84f40c",
   "metadata": {},
   "outputs": [],
   "source": [
    "sam = df.sample(300)\n",
    "sam"
   ]
  },
  {
   "cell_type": "code",
   "execution_count": null,
   "id": "df306ba2-6d8b-478e-88b7-1f486db0e733",
   "metadata": {},
   "outputs": [],
   "source": [
    "sam.cash.median()"
   ]
  },
  {
   "cell_type": "code",
   "execution_count": null,
   "id": "93a8fdfc-ea43-4560-a882-0e2a7de4e927",
   "metadata": {},
   "outputs": [],
   "source": [
    "df.cash.median()"
   ]
  },
  {
   "cell_type": "markdown",
   "id": "110aeb02-793d-42e8-bae7-d5277e7de682",
   "metadata": {},
   "source": [
    "Now we'll implement bootstrapping on our sample. That is, we'll resample our sample with replacement. We'll do this 10,000 times to get 10,000 bootstrap sample medians. To keep an account of the different median values we get from our bootstrapped samples, we'll store them in an array."
   ]
  },
  {
   "cell_type": "code",
   "execution_count": null,
   "id": "bd58e550-52cb-4c19-a9f4-1df6598976a1",
   "metadata": {},
   "outputs": [],
   "source": [
    "med = np.array([])\n",
    "for _ in range(10000):\n",
    "    med = np.append(med, sam.sample(sam.shape[0], replace=True).cash.median())"
   ]
  },
  {
   "cell_type": "code",
   "execution_count": null,
   "id": "9c074e15-6476-4402-b185-bcb982759785",
   "metadata": {},
   "outputs": [],
   "source": [
    "np.min(med)"
   ]
  },
  {
   "cell_type": "code",
   "execution_count": null,
   "id": "eac59787-349b-4bf3-ad94-5d15b9f379cf",
   "metadata": {},
   "outputs": [],
   "source": [
    "np.max(med)"
   ]
  },
  {
   "cell_type": "code",
   "execution_count": null,
   "id": "75e6ba14-0dad-4d32-ad1f-fea6b1970c9a",
   "metadata": {},
   "outputs": [],
   "source": [
    "np.median(med)"
   ]
  },
  {
   "cell_type": "markdown",
   "id": "ddd036e1-f0c2-4445-9f54-eb995625e1a4",
   "metadata": {},
   "source": [
    "How many of our bootstrap medians were the same or almost the same as our true median?"
   ]
  },
  {
   "cell_type": "code",
   "execution_count": null,
   "id": "4b1b4527-4d6e-4ce4-8fdd-b4b9ee55fa0c",
   "metadata": {},
   "outputs": [],
   "source": [
    "df.cash.median()"
   ]
  },
  {
   "cell_type": "code",
   "execution_count": null,
   "id": "ca0b8c71-851c-4840-a03b-7088e75e4fcf",
   "metadata": {},
   "outputs": [],
   "source": [
    "import matplotlib.pyplot as plt"
   ]
  },
  {
   "cell_type": "code",
   "execution_count": null,
   "id": "5e774a29-4a7b-4b90-8a11-4b06c8e17a08",
   "metadata": {},
   "outputs": [],
   "source": [
    "plt.hist(med);"
   ]
  }
 ],
 "metadata": {
  "kernelspec": {
   "display_name": "Python 3 (ipykernel)",
   "language": "python",
   "name": "python3"
  },
  "language_info": {
   "codemirror_mode": {
    "name": "ipython",
    "version": 3
   },
   "file_extension": ".py",
   "mimetype": "text/x-python",
   "name": "python",
   "nbconvert_exporter": "python",
   "pygments_lexer": "ipython3",
   "version": "3.10.5"
  }
 },
 "nbformat": 4,
 "nbformat_minor": 5
}
