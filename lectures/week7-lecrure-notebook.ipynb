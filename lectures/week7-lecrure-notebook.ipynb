{
 "cells": [
  {
   "cell_type": "markdown",
   "id": "0a06cfd5-6acf-44c3-8e63-15c757f83e16",
   "metadata": {},
   "source": [
    "# Week 7 Lecture Notebook\n",
    "\n",
    "## Python Basics\n",
    "\n",
    "### Built-in Functions\n",
    "\n",
    "- A function that is already available in a programming language/application that can be accessed by end users.\n",
    "\n",
    "- Returns some value based on its arguments.\n",
    "\n",
    "- `print`, `abs`, `max`, `min`, `pow`, `round`, etc."
   ]
  },
  {
   "cell_type": "code",
   "execution_count": null,
   "id": "b7f39131-d4e4-45e5-bc74-a349a820725f",
   "metadata": {},
   "outputs": [],
   "source": [
    "abs(-3)"
   ]
  },
  {
   "cell_type": "code",
   "execution_count": null,
   "id": "636464c5-484c-4b43-b317-f9d5426a85ee",
   "metadata": {},
   "outputs": [],
   "source": [
    "abs(2-5)"
   ]
  },
  {
   "cell_type": "code",
   "execution_count": null,
   "id": "9b182dc0-21ef-4b3e-a576-422aebc044bc",
   "metadata": {},
   "outputs": [],
   "source": [
    "max(3, 10**2, 100.1)"
   ]
  },
  {
   "cell_type": "markdown",
   "id": "87a330eb-4532-4c1f-b46a-96f7874e1b33",
   "metadata": {},
   "source": [
    "## Nesting Functions"
   ]
  },
  {
   "cell_type": "code",
   "execution_count": null,
   "id": "5081e477-b96e-4ceb-8cdc-deb793f78609",
   "metadata": {
    "tags": []
   },
   "outputs": [],
   "source": [
    "round(abs(1.6002-1.688), 4)"
   ]
  },
  {
   "cell_type": "code",
   "execution_count": null,
   "id": "0a6ad24b-3a2a-46e6-9250-fdeea531d095",
   "metadata": {
    "tags": []
   },
   "outputs": [],
   "source": [
    "1.6002-1.688"
   ]
  },
  {
   "cell_type": "code",
   "execution_count": null,
   "id": "f3ed52bb-50b0-4503-afb8-a03bdce53fe5",
   "metadata": {
    "tags": []
   },
   "outputs": [],
   "source": [
    "abs(1.6002-1.688)"
   ]
  },
  {
   "cell_type": "code",
   "execution_count": null,
   "id": "c873160a-0274-467d-927c-403d859e36cd",
   "metadata": {
    "tags": []
   },
   "outputs": [],
   "source": [
    "round(abs(1.6002-1.688), 4)"
   ]
  },
  {
   "cell_type": "markdown",
   "id": "091b108a-b357-4663-9581-baedfdb2134c",
   "metadata": {},
   "source": [
    "# Pandas\n",
    "\n",
    "## `pandas`\n",
    "\n",
    "Pandas is an open source Python package that is most widely used for data science/data analysis and machine learning tasks. It is built on top of another library named `Numpy`, which provides support for arrays. Since we know how to perform operations on `NumPy` arrays we can operate on columns in a `pandas` dataframe. \n",
    "\n",
    "Pandas is a fast, powerful, flexible and (sometimes) easy to use open source data analysis and manipulation tool. Click the `Cheat Sheet` below to access the Data Wrangling with `pandas` [Cheat Sheet](https://pandas.pydata.org/Pandas_Cheat_Sheet.pdf)."
   ]
  },
  {
   "cell_type": "code",
   "execution_count": null,
   "id": "68ae37f1-29a0-4c9e-8147-4cc06871ba34",
   "metadata": {
    "tags": []
   },
   "outputs": [],
   "source": [
    "# Import the pandas module as pd\n",
    "import pandas as pd\n",
    "\n",
    "# Read the .csv file\n",
    "skyscrapers = pd.read_csv('data/skyscrapers.csv')"
   ]
  },
  {
   "cell_type": "markdown",
   "id": "f353c472-c1fa-4067-9abf-7eb707be552d",
   "metadata": {},
   "source": [
    "**Example 1.** Display the first 10 rows of the `skyscrapers` dataframe."
   ]
  },
  {
   "cell_type": "code",
   "execution_count": null,
   "id": "d525c7d8-ed49-4131-aea1-0a2559707615",
   "metadata": {
    "tags": []
   },
   "outputs": [],
   "source": [
    "skyscrapers.head(10)"
   ]
  },
  {
   "cell_type": "markdown",
   "id": "023393d2-7ec9-4bf9-91c4-f4b9de8aa1a0",
   "metadata": {},
   "source": [
    "### Common `pandas` `DataFrame` Methods\n",
    "\n",
    "- `.head()`\n",
    "- `.shape`\n",
    "- `.info()`\n",
    "- `.describe()`\n",
    "- `.columns`\n",
    "- `.sample`"
   ]
  },
  {
   "cell_type": "markdown",
   "id": "b0281890-6493-4a7a-9baa-d0eac2cbd773",
   "metadata": {},
   "source": [
    "Apply each method in the following examples to the `skyscapers` dataframe.\n",
    "\n",
    "**Example 2.** `.info()`"
   ]
  },
  {
   "cell_type": "code",
   "execution_count": null,
   "id": "c08590a1-44ed-4204-82f4-ca68cdef6e5d",
   "metadata": {},
   "outputs": [],
   "source": [
    "# Returns information about the dataframe\n",
    "..."
   ]
  },
  {
   "cell_type": "markdown",
   "id": "e7eed532-97d9-4294-86cb-e60ca81bafac",
   "metadata": {},
   "source": [
    "**Example 3.** `.shape`"
   ]
  },
  {
   "cell_type": "code",
   "execution_count": null,
   "id": "b592f6ca-c0d9-40c4-8d2d-e6c7f9fb39ad",
   "metadata": {},
   "outputs": [],
   "source": [
    "# Returns the number of rows and \n",
    "# columns as a tuple\n",
    "..."
   ]
  },
  {
   "cell_type": "markdown",
   "id": "4a46c3ae-24ab-4ac2-a918-fca26099e449",
   "metadata": {},
   "source": [
    "**Example 4.** `.describe()`"
   ]
  },
  {
   "cell_type": "code",
   "execution_count": null,
   "id": "a0aa712b-ea86-411c-aa6c-4c763c99af74",
   "metadata": {},
   "outputs": [],
   "source": [
    "# Returns basic statistical details\n",
    "# from the numerical columns \n",
    "..."
   ]
  },
  {
   "cell_type": "markdown",
   "id": "1d9f02f4-a87a-4711-8bc2-bf31013efbe2",
   "metadata": {},
   "source": [
    "**Example 5.** `.columns()`"
   ]
  },
  {
   "cell_type": "code",
   "execution_count": null,
   "id": "a0526e59-6c4e-4433-8208-ae7347c99fb0",
   "metadata": {},
   "outputs": [],
   "source": [
    "# Returns the names of the columns\n",
    "..."
   ]
  },
  {
   "cell_type": "markdown",
   "id": "02ee167b-a562-4b0b-99bc-ad6fdfbc341c",
   "metadata": {},
   "source": [
    "**Example 6.** `.sample()`"
   ]
  },
  {
   "cell_type": "code",
   "execution_count": null,
   "id": "b5226b6f-34f4-4096-9215-01908ec99445",
   "metadata": {},
   "outputs": [],
   "source": [
    "# Returns one random sample of rows\n",
    "# By defult the sample is without replacement\n",
    "# Can specify the number of rows by\n",
    "# sample(<number of rows to return>)\n",
    "..."
   ]
  },
  {
   "cell_type": "markdown",
   "id": "8cfa2900-7e61-414e-975d-609d15b7821e",
   "metadata": {},
   "source": [
    "### Rename columns in a `pandas DatFrame`"
   ]
  },
  {
   "cell_type": "code",
   "execution_count": null,
   "id": "9d09b0a4-2a6c-40f5-86a4-3d9b5e565db3",
   "metadata": {
    "tags": []
   },
   "outputs": [],
   "source": [
    "# Rename the <old column name> to <new column name>\n",
    "skyscrapers.rename(columns={'location.city': 'city',\n",
    "                            'statistics.height': 'height',\n",
    "                            'statistics.floors above': 'floors',\n",
    "                            'status.completed.year': 'year_completed', \n",
    "                            'status.started.year': 'year_started'},\n",
    "                   inplace=True)"
   ]
  },
  {
   "cell_type": "code",
   "execution_count": null,
   "id": "92def7a3-821e-4a36-ba7d-e7bd6519ec6f",
   "metadata": {
    "tags": []
   },
   "outputs": [],
   "source": [
    "skyscrapers.info()"
   ]
  },
  {
   "cell_type": "markdown",
   "id": "b564739d-4da3-404c-97c8-b3e62a7bbddd",
   "metadata": {},
   "source": [
    "### Accessing columns from a `pandas` `DataFrame`\n",
    "\n",
    "**Example 7.** Access the a `name` column from the `skyscrapers` dataframe and return a `Series` type object."
   ]
  },
  {
   "cell_type": "code",
   "execution_count": null,
   "id": "495b7877-6a97-4010-b228-19e14c0e6fd9",
   "metadata": {},
   "outputs": [],
   "source": [
    "# Returns the values from a \n",
    "# column as a Series\n",
    "..."
   ]
  },
  {
   "cell_type": "markdown",
   "id": "b81e92ac-81fa-4a8f-a918-6632a695019b",
   "metadata": {},
   "source": [
    "## Series\n",
    "\n",
    "A pandas series is a one-dimensional labeled array capable of holding data of any type (integer, string, float, python objects, etc.). \n",
    "\n",
    "**Source:** [Geeks for Geeks](https://www.geeksforgeeks.org/python-pandas-series/)\n",
    "\n",
    "**Example 8.** Access a numerical column from the `skyscrapers` dataframe and return a `Series` type object."
   ]
  },
  {
   "cell_type": "code",
   "execution_count": null,
   "id": "470ccedf-2183-4087-a1be-9507d30f6d15",
   "metadata": {},
   "outputs": [],
   "source": [
    "# Returns the values from a \n",
    "# column as a Series\n",
    "..."
   ]
  },
  {
   "cell_type": "markdown",
   "id": "75685d4d-d82a-4a2f-9bc9-c83aec7d42e5",
   "metadata": {},
   "source": [
    "Since a `Series` is a 1-dimensional `ndarray` with axis labels (including time series), we can use them as parameters for `Numpy` functions.\n",
    "\n",
    "Let's import `Numpy` and see!"
   ]
  },
  {
   "cell_type": "code",
   "execution_count": null,
   "id": "4754c963-bf2d-4d75-921f-45aa35c4aa1b",
   "metadata": {
    "tags": []
   },
   "outputs": [],
   "source": [
    "import numpy as np"
   ]
  },
  {
   "cell_type": "code",
   "execution_count": null,
   "id": "5d2511f7-f74f-432d-afda-92c1f60bbd0b",
   "metadata": {
    "tags": []
   },
   "outputs": [],
   "source": [
    "# Returns the values from a column\n",
    "# as a Series\n",
    "skyscrapers[\"height\"]"
   ]
  },
  {
   "cell_type": "code",
   "execution_count": null,
   "id": "3a1f388a-c327-4746-8ade-e7f040108fda",
   "metadata": {
    "tags": []
   },
   "outputs": [],
   "source": [
    "# Returns the values from a column\n",
    "# as a DataFrame\n",
    "skyscrapers.height"
   ]
  },
  {
   "cell_type": "markdown",
   "id": "2efe05c5-0c08-405d-8182-e26d4f84f334",
   "metadata": {},
   "source": [
    "**Example 9.** What is the average height for all skyscrapers in the dataset."
   ]
  },
  {
   "cell_type": "code",
   "execution_count": null,
   "id": "4849bd62-6909-4004-a42f-642491100796",
   "metadata": {
    "tags": []
   },
   "outputs": [],
   "source": [
    "..."
   ]
  },
  {
   "cell_type": "markdown",
   "id": "27d34867-70c5-40f7-87c4-f6c4c3639fdb",
   "metadata": {},
   "source": [
    "### `Series` Attributes and Methods\n",
    "\n",
    "**Attribute**\n",
    " - An attribute of a Series is a property or characteristic that provides information about the `Series` itself.\n",
    "\n",
    "- Attributes are accessed without parentheses, simply by referencing the attribute name.\n",
    "\n",
    "- They provide metadata, statistics, or information about the Series but do not perform operations or transformations on the data within the `Series`.\n",
    "\n",
    "- Examples of Series attributes include `dtype` (data type of the `Series`), `name` (name of the Series), `index` (index labels), and `shape` (shape of the Series).\n",
    "\n",
    "- Accessing an attribute doesn't require invoking it as a function/method; you access it directly.\n",
    "\n",
    "**Method**\n",
    "- A method of a `Series` is a **function** that performs an operation or computation on the data within the `Series`.\n",
    "\n",
    "- Methods are accessed with parentheses and often accept arguments or parameters to control their behavior.\n",
    "\n",
    "- Methods manipulate or transform the data and return a result based on the operation performed.\n",
    "\n",
    "- Examples of `Series` methods include `.sum()` (calculates the sum of elements), `.mean()` (calculates the mean), `.unique()` (returns unique values), and `.apply()` (applies a custom function to each element).\n",
    "\n",
    "- Accessing a method requires invoking it as a function with parentheses.\n",
    "\n",
    "**Source:** [ChatGPT generated response](https://docs.google.com/document/d/10Jm9vNpG5_JPxzpfiLSJhiDVS2XQabSOIsfXMH8_Tvg/edit?usp=sharing)"
   ]
  },
  {
   "cell_type": "markdown",
   "id": "31dfe620-9019-41d0-8a23-667158b78482",
   "metadata": {},
   "source": [
    "**Example 10.** What is the average height for all skyscrapers in the dataset."
   ]
  },
  {
   "cell_type": "code",
   "execution_count": null,
   "id": "440f516e-7f5a-4f40-ad4d-0ab3332ebcbd",
   "metadata": {
    "tags": []
   },
   "outputs": [],
   "source": [
    "skyscrapers.height.mean"
   ]
  },
  {
   "cell_type": "code",
   "execution_count": null,
   "id": "71e6a6b9-c43f-4331-92c1-06513dd185ee",
   "metadata": {
    "tags": []
   },
   "outputs": [],
   "source": [
    "skyscrapers.height.mean()"
   ]
  },
  {
   "cell_type": "markdown",
   "id": "d2d78229-29bc-4b26-bc81-b98b5c2d0f39",
   "metadata": {},
   "source": [
    "**Question 11.** What are the unique cities where the skyscrapers in the dataset are located."
   ]
  },
  {
   "cell_type": "code",
   "execution_count": null,
   "id": "21957eca-8931-43cf-bbe7-b17aff5dc061",
   "metadata": {
    "tags": []
   },
   "outputs": [],
   "source": [
    "skyscrapers.city.unique()"
   ]
  }
 ],
 "metadata": {
  "kernelspec": {
   "display_name": "Python 3 (ipykernel)",
   "language": "python",
   "name": "python3"
  },
  "language_info": {
   "codemirror_mode": {
    "name": "ipython",
    "version": 3
   },
   "file_extension": ".py",
   "mimetype": "text/x-python",
   "name": "python",
   "nbconvert_exporter": "python",
   "pygments_lexer": "ipython3",
   "version": "3.10.11"
  }
 },
 "nbformat": 4,
 "nbformat_minor": 5
}
