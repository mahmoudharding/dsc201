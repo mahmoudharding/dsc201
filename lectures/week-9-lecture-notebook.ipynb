{
 "cells": [
  {
   "cell_type": "markdown",
   "id": "a827eb9c-dcf9-486f-a215-668c2e837cfb",
   "metadata": {
    "tags": []
   },
   "source": [
    "## Week 9 Lecture `.ipynb` File\n",
    "\n",
    "#### Author: Mahmoud Harding\n",
    "\n",
    "## Grouping and Merging \n",
    "\n",
    "In **Assignement** 04 the following question was posed\n",
    "\n",
    "> **Question 9.** How many births were registered in your birth year? What is the distribution of male and female births for that year?\n",
    "\n",
    "In this notebook we will investigate this question, and others similar to it, in more detail."
   ]
  },
  {
   "cell_type": "markdown",
   "id": "f8a33b6f-c8d4-4d90-80c1-f177fdf7dabe",
   "metadata": {},
   "source": [
    "**Example 1.** Import the `pandas` library and load the `baby_names.csv` dataset into a `pandas` `DataFrame`."
   ]
  },
  {
   "cell_type": "code",
   "execution_count": null,
   "id": "6f122049-bef0-4ca9-9e99-cc61fc189201",
   "metadata": {
    "tags": []
   },
   "outputs": [],
   "source": [
    "..."
   ]
  },
  {
   "cell_type": "code",
   "execution_count": null,
   "id": "9215b741-e320-4071-b7b0-930b8ad3b67a",
   "metadata": {
    "tags": []
   },
   "outputs": [],
   "source": [
    "baby_names = ..."
   ]
  },
  {
   "cell_type": "markdown",
   "id": "9292ad07-cf01-4f05-88da-8b33fb108b56",
   "metadata": {},
   "source": [
    "**Example 2.** Filter the `baby_names` `DataFrame` to create a new `DataFrame` named `df` that includes only the names registered in the year you were born. Then display the first 5 rows."
   ]
  },
  {
   "cell_type": "code",
   "execution_count": null,
   "id": "6cf20eaa-810c-4d73-82df-0bcac57a184a",
   "metadata": {
    "tags": []
   },
   "outputs": [],
   "source": [
    "year = ...\n",
    "\n",
    "df = ...\n",
    "df.head()"
   ]
  },
  {
   "cell_type": "markdown",
   "id": "addcfa3b-e2ae-4b0e-9774-b59efd348dc1",
   "metadata": {},
   "source": [
    "**Example 3.** How many births were registered in your birth year? What is the distribution of male and female births for that year?"
   ]
  },
  {
   "cell_type": "code",
   "execution_count": null,
   "id": "d3d4b5c0-d87a-4c49-941b-8e7c0aa73fff",
   "metadata": {
    "tags": []
   },
   "outputs": [],
   "source": [
    "df['count'].sum()"
   ]
  },
  {
   "cell_type": "code",
   "execution_count": null,
   "id": "271200ef-cb27-467c-bcda-22f2c0cce18e",
   "metadata": {
    "tags": []
   },
   "outputs": [],
   "source": [
    "df['sex'].value_counts()"
   ]
  },
  {
   "cell_type": "markdown",
   "id": "1e9e1a9c-97e6-4ebe-83d3-92691c7f3a12",
   "metadata": {},
   "source": [
    "## Grouping\n",
    "\n",
    "The `.groupby(`) method in Pandas is used to group rows based on unique values in a specific column and then apply aggregations (such as sum, mean, count, etc.) to each group. It is useful for summarizing data and efficiently performing group-wise operations.\n",
    "\n",
    "\n",
    "- This creates groups but does not return a visible output until an aggregation function is applied.\n",
    "\n",
    "```python\n",
    "df.groupby(\"column_name\")\n",
    "\n",
    "```\n",
    "\n",
    "- Groups by `\"column_name\"` and calculates the mean of `\"another_column\"` for each group.\n",
    "\n",
    "```python\n",
    "df.groupby(\"column_name\")[\"another_column\"].mean()\n",
    "```\n",
    "\n",
    "### Common Aggregations with `.groupby()`\n",
    "\n",
    "\n",
    "| Function      | Description                                     |\n",
    "|:--------------|:------------------------------------------------|\n",
    "| **.mean()**   | Calculates the average of each group            |\n",
    "| **.sum()**    | Adds up values in each group                    |\n",
    "| **.count()**  | Counts the number of rows in each group         |\n",
    "| **.size()**   | Returns the number of occurrences per group     |\n",
    "| **.max()**    | Finds the highest value in each group           |\n",
    "| **.min()**    | Finds the lowest value in each group            |\n",
    "| **.median()** | Finds the median value in each group            |\n",
    "| **.std()**    | Calculates the standard deviation of each group |\n",
    "| **.var()**    | Computes the variance of each group             |\n",
    "| **.first()**  | Returns the first row of each group             |\n",
    "| **.last()**   | Returns the last row of each group              |\n",
    "| **.agg()**    | Applies multiple aggregation functions at once  |\n",
    "\n"
   ]
  },
  {
   "cell_type": "markdown",
   "id": "34d3f976-2189-409e-b4d7-d6f5ef8605e0",
   "metadata": {},
   "source": [
    "**Example 4.** Create a `GroupBy` object named `grps`."
   ]
  },
  {
   "cell_type": "code",
   "execution_count": null,
   "id": "ae661b21-6ec2-4fdd-a915-9ef9f02240a3",
   "metadata": {
    "tags": []
   },
   "outputs": [],
   "source": [
    "grps = ..."
   ]
  },
  {
   "cell_type": "code",
   "execution_count": null,
   "id": "f9d80171-ae63-4ce9-b691-a20322a687fa",
   "metadata": {
    "tags": []
   },
   "outputs": [],
   "source": [
    "grps"
   ]
  },
  {
   "cell_type": "code",
   "execution_count": null,
   "id": "59921823-007e-456f-8a4b-8575e73d5c5f",
   "metadata": {
    "tags": []
   },
   "outputs": [],
   "source": [
    "grps['count'].sum()"
   ]
  },
  {
   "cell_type": "code",
   "execution_count": null,
   "id": "be2c9a54-3b87-49f1-9497-9b7549294821",
   "metadata": {
    "tags": []
   },
   "outputs": [],
   "source": [
    "grps['count'].sum()[0] + grps['count'].sum()[1]"
   ]
  },
  {
   "cell_type": "code",
   "execution_count": null,
   "id": "a8bbe143-dcce-4096-aff7-5854ab2e8389",
   "metadata": {
    "tags": []
   },
   "outputs": [],
   "source": [
    "grps['count'].sum()/df['count'].sum()"
   ]
  },
  {
   "cell_type": "markdown",
   "id": "39040332-b87c-4beb-b4cd-37b3fccffe48",
   "metadata": {},
   "source": [
    "## United States Broadband Usage Percentages Dataset\n",
    "\n",
    "We are publishing [datasets we developed as part of our efforts with Microsoft’s Airband Initiative to help close the rural broadband gap](https://github.com/microsoft/USBroadbandUsagePercentages?tab=readme-ov-file). The data can be used for the purpose of analyzing, understanding, improving, or addressing problems related to broadband access.\n",
    "\n",
    "The datasets consist of data derived from anonymized data Microsoft collects as part of our ongoing work to improve the performance and security of our software and services. The data does not include any PII information including IP Address. We also suppress any location with less than 20 devices. Other than the aggregated data shared in this data table, no other data is stored during this process. We estimate broadband usage by combining data from multiple Microsoft services. The data from these services are combined with the number of households per county and zip code. Every time a device receives an update or connects to a Microsoft service, we can estimate the throughput speed of a machine. We know the size of the package sent to the computer, and we know the total time of the download. We also determine zip code level location data via reverse IP. Therefore, we can count the number of devices that have connected to the internet at broadband speed per each zip code based on the FCC’s definition of broadband that is 25mbps per download. Using this method, we estimate that ~120.4 million people in the United States are not using the internet at broadband speeds.\n",
    "\n",
    "**By:** John Kahan - Vice President, Chief Data Analytics Officer | Juan Lavista Ferres - Chief Scientist, Microsoft AI for Good Research Lab\n",
    "\n",
    "**For more information about this repository go to:** \n",
    "\n",
    "- https://github.com/microsoft/USBroadbandUsagePercentages?tab=readme-ov-file\n",
    "\n",
    "**Additional Information:**\n",
    "\n",
    "- [Understanding the Relationship Between ZIPs and Cities/Counties](https://www.unitedstateszipcodes.org/zip-code-database/matching-to-cities-and-counties/#:~:text=The%20boundaries%20of%20a%20ZIP,are%20used%20in%20common%20conversation.)"
   ]
  },
  {
   "cell_type": "markdown",
   "id": "24c062d3-3e30-4167-bb58-413dd30a67b4",
   "metadata": {},
   "source": [
    "**Example 5.** Load the `broadband_data_zipcode.csv` file from the url \n",
    "\n",
    "> https://raw.githubusercontent.com/microsoft/USBroadbandUsagePercentages/master/dataset/broadband_data_zipcode.csv\n",
    "\n",
    "**Notes:**\n",
    "\n",
    "- The `+` at the end of the first part of the url is being used for concatenation, and the `\\` is being used for line continuation, especially in the middle of a statement spread across multiple lines.\n",
    "\n",
    "- In Python code, a backslash at the end of a line is used to indicate that the line of code continues on the next line. This can make your code more readable by breaking long lines into smaller, more manageable pieces."
   ]
  },
  {
   "cell_type": "code",
   "execution_count": null,
   "id": "cd6c128e-8c4e-41bb-8076-ff31cff8841c",
   "metadata": {
    "tags": []
   },
   "outputs": [],
   "source": [
    "url = 'https://raw.githubusercontent.com/microsoft/USBroadbandUsagePercentages' + \\\n",
    "      '/master/dataset/broadband_data_zipcode.csv'\n",
    "\n",
    "bb = pd.read_csv(url)\n",
    "bb.head()"
   ]
  },
  {
   "cell_type": "markdown",
   "id": "74ae2bc4-f0a2-4393-933e-855cb2076c37",
   "metadata": {},
   "source": [
    "**Example 6.** Filter the dataset to include only rows where the state is NC. Store the resulting DataFrame in an object named `nc`, display the first five rows, and verify the output using code to ensure it meets expectations."
   ]
  },
  {
   "cell_type": "code",
   "execution_count": null,
   "id": "151ae81b-978a-4ff5-a26f-c5f40922fc04",
   "metadata": {
    "tags": []
   },
   "outputs": [],
   "source": [
    "..."
   ]
  },
  {
   "cell_type": "code",
   "execution_count": null,
   "id": "3e050a94-b391-4ba6-893d-33c69b8263f4",
   "metadata": {
    "tags": []
   },
   "outputs": [],
   "source": [
    "nc.shape"
   ]
  },
  {
   "cell_type": "code",
   "execution_count": null,
   "id": "01181748-1808-4130-b4cd-add7654c80ed",
   "metadata": {
    "tags": []
   },
   "outputs": [],
   "source": [
    "nc['ST'].unique()"
   ]
  },
  {
   "cell_type": "markdown",
   "id": "5e69ff17-a188-4a5e-a4ad-dbbf84e5a157",
   "metadata": {
    "tags": []
   },
   "source": [
    "**Example 7.** What is the average broadband usage in NC?"
   ]
  },
  {
   "cell_type": "code",
   "execution_count": null,
   "id": "b8504c50-6e69-4dcc-9015-5602b41b2067",
   "metadata": {
    "tags": []
   },
   "outputs": [],
   "source": [
    "nc[\"BROADBAND USAGE\"].mean()"
   ]
  },
  {
   "cell_type": "markdown",
   "id": "5fd82950-5677-4843-ae2b-68f3aedd6bb4",
   "metadata": {},
   "source": [
    "Suppose we wanted the mean for all the states? \n",
    "\n",
    "**Example 8.** Use the `.groupby()` method to organize the `bb` DataFrame by state, then calculate the average broadband usage for each state."
   ]
  },
  {
   "cell_type": "code",
   "execution_count": null,
   "id": "e3731787-9a28-4be7-a7a7-f5ee1446559a",
   "metadata": {
    "tags": []
   },
   "outputs": [],
   "source": [
    "grps = ..."
   ]
  },
  {
   "cell_type": "markdown",
   "id": "a35c0a28-64ee-496b-ac4c-4cf28d7a928f",
   "metadata": {},
   "source": [
    "Let's sort the output."
   ]
  },
  {
   "cell_type": "markdown",
   "id": "c63a0263-9241-42ba-ab8c-7a08a0012f6a",
   "metadata": {},
   "source": [
    "Suppose we wanted to analyze differences between the largest and smallest counties in NC (for the purpose of this analysis we will denote size using the number of zip codes in a county). \n",
    "\n",
    "**Example 9.** Group the `nc` `DataFrame` by county. Then display all the counties in the `grps` `GroupBy` object."
   ]
  },
  {
   "cell_type": "code",
   "execution_count": null,
   "id": "60aae358-2f50-42dc-9435-5c9d6bc59654",
   "metadata": {
    "tags": []
   },
   "outputs": [],
   "source": [
    "grps = nc.groupby('COUNTY NAME')"
   ]
  },
  {
   "cell_type": "code",
   "execution_count": null,
   "id": "affade9c-b001-4053-9c4d-b83aa5e8b2ec",
   "metadata": {
    "tags": []
   },
   "outputs": [],
   "source": [
    "grps.groups.keys()"
   ]
  },
  {
   "cell_type": "markdown",
   "id": "3a830699-b732-4d06-93f9-d8c889982fac",
   "metadata": {},
   "source": [
    "**Example 10.** Determine the largest and smallest counties from the `grps` object based on the afrormentioned criteria."
   ]
  },
  {
   "cell_type": "code",
   "execution_count": null,
   "id": "47331a5d-1d17-42f2-a77e-875314502884",
   "metadata": {
    "tags": []
   },
   "outputs": [],
   "source": [
    "..."
   ]
  },
  {
   "cell_type": "code",
   "execution_count": null,
   "id": "f8e54a1d-3ced-4cad-a7e6-99ff13b0b18e",
   "metadata": {
    "tags": []
   },
   "outputs": [],
   "source": [
    "..."
   ]
  },
  {
   "cell_type": "code",
   "execution_count": null,
   "id": "47b5494b-73bb-4fd4-9961-22a2cfe3cd0c",
   "metadata": {
    "tags": []
   },
   "outputs": [],
   "source": [
    "..."
   ]
  },
  {
   "cell_type": "code",
   "execution_count": null,
   "id": "df75e422-6df3-4ad7-a6f8-ca3e4493fc26",
   "metadata": {
    "tags": []
   },
   "outputs": [],
   "source": [
    "..."
   ]
  },
  {
   "cell_type": "code",
   "execution_count": null,
   "id": "2a63c5ca-149a-4f40-ab2d-21d3edd4710a",
   "metadata": {
    "tags": []
   },
   "outputs": [],
   "source": [
    "..."
   ]
  },
  {
   "cell_type": "code",
   "execution_count": null,
   "id": "a6318486-4125-43eb-a0e5-90235114852d",
   "metadata": {
    "tags": []
   },
   "outputs": [],
   "source": [
    "grps.size().idxmin()"
   ]
  },
  {
   "cell_type": "code",
   "execution_count": null,
   "id": "4490e365-6329-43fc-a013-e76b54d3c4cb",
   "metadata": {
    "tags": []
   },
   "outputs": [],
   "source": [
    "grps.size()['Hoke']"
   ]
  },
  {
   "cell_type": "code",
   "execution_count": null,
   "id": "c2032b5a-dbf0-46b3-8daf-c960f5558a95",
   "metadata": {
    "tags": []
   },
   "outputs": [],
   "source": [
    "..."
   ]
  },
  {
   "cell_type": "markdown",
   "id": "4efef6be-e475-4c7b-9d78-10d589991109",
   "metadata": {},
   "source": [
    "## Merging\n",
    "\n",
    "The merging data move refers to the process of combining multiple datasets based on a shared key or common column. This move is essential for enriching data analysis by bringing together information from different sources, allowing for a more comprehensive understanding of the dataset.\n",
    "\n",
    "### Merge Data in `pandas` with `.merge()`\n",
    "\n",
    "`.merge()` is a Pandas function used to combine two `DataFrames` based on a common column (key). It works similarly to SQL joins and allows for flexible merging of datasets.\n",
    "\n",
    "\n",
    "- Merge two DataFrames based on a shared column. Requires the same column name in both DataFrames. \n",
    "\n",
    "```python\n",
    "pd.merge(df1, df2, on = \"column\")\n",
    "```\n",
    "\n",
    "- Merges DataFrames when key column names differ. Specify `left_on` (from `df1`) and `right_on` (from `df2`).\n",
    "\n",
    "```python\n",
    "pd.merge(df1, df2, left_on = \"col1\", right_on = \"col2\")\n",
    "```\n",
    "\n",
    "### Merge Data in `pandas` with `.concat()`\n",
    "\n",
    "`.concat()` is used to combine multiple DataFrames by stacking them vertically (adding rows) or horizontally (adding columns). It is useful when working with datasets that need to be appended or merged without a common key.\n",
    "\n",
    "- Stacks DataFrames vertically (adds rows). Works if column names match; otherwise, fills missing values.\n",
    "\n",
    "```python\n",
    "pd.concat([df1, df2], axis = 0)\n",
    "```\n",
    "\n",
    "- Joins DataFrames side-by-side (adds columns). Merges by index; ensures aligned rows.\n",
    "\n",
    "```python\n",
    "pd.concat([df1, df2], axis = 1)\n",
    "```"
   ]
  },
  {
   "cell_type": "markdown",
   "id": "4805973b-cfd4-4725-923f-8b1a8ed599e8",
   "metadata": {},
   "source": [
    "## US County Data\n",
    "\n",
    "Let's load some county specific demographic and geographical data.\n",
    "\n",
    "Last Updated: 7 July 2022\n",
    "\n",
    "US County information. Includes Population, Area, and Density (calculated from the first two). Data is scraped from Wikipedia, which is scraped from various sources.\n",
    "\n",
    "### County Data Descriptions\n",
    "\n",
    "| Variable       | Description                              |\n",
    "|:---------------|:-----------------------------------------|\n",
    "| **Population** | The total population of the county.      |\n",
    "| **Area**       | The county's total area in square miles. |\n",
    "| **Density**    | The number of residents per square mile. |\n",
    "\n",
    "\n",
    "### Files\n",
    "\n",
    "- All files are located in the data folder of this repo.\n",
    "\n",
    "- `counties.csv`: List of all counties in CSV format.\n",
    "\n",
    "   - Direct repo link: https://github.com/balsama/us_counties_data/blob/main/data/counties.csv\n",
    "\n",
    "   - Raw link: https://raw.githubusercontent.com/balsama/us_counties_data/main/data/counties.csv\n"
   ]
  },
  {
   "cell_type": "code",
   "execution_count": null,
   "id": "d720752b-29e8-4878-be72-fd3f117a8366",
   "metadata": {
    "tags": []
   },
   "outputs": [],
   "source": [
    "url = ...\n",
    "counties = pd.read_csv(url)\n",
    "counties.head()"
   ]
  },
  {
   "cell_type": "markdown",
   "id": "9dbd9a32-a880-460f-a498-cb8508c915bc",
   "metadata": {},
   "source": [
    "**Example 11.** Merge the `bb` `DataFrame` and `counties` `DataFrame`."
   ]
  },
  {
   "cell_type": "code",
   "execution_count": null,
   "id": "c2a8fd85-6268-46a1-9a19-af6ac654792f",
   "metadata": {
    "tags": []
   },
   "outputs": [],
   "source": [
    "counties.info()"
   ]
  },
  {
   "cell_type": "code",
   "execution_count": null,
   "id": "fabf2a7c-b88b-4a39-bf38-cf89f92b2e29",
   "metadata": {
    "tags": []
   },
   "outputs": [],
   "source": [
    "bb.info()"
   ]
  },
  {
   "cell_type": "code",
   "execution_count": null,
   "id": "d58b1ff0-e7a6-473a-8a6f-6170aafa3729",
   "metadata": {
    "tags": []
   },
   "outputs": [],
   "source": [
    "..."
   ]
  },
  {
   "cell_type": "code",
   "execution_count": null,
   "id": "64b736c7-f724-4a37-a346-8975b972a8a6",
   "metadata": {
    "tags": []
   },
   "outputs": [],
   "source": [
    "bb.info()"
   ]
  },
  {
   "cell_type": "code",
   "execution_count": null,
   "id": "064b894e-64c4-4d16-b53b-ca31178a73f7",
   "metadata": {
    "tags": []
   },
   "outputs": [],
   "source": [
    "pd.merge(bb, counties, left_on = \"COUNTY ID\", right_on = \"FIPS Code\")"
   ]
  },
  {
   "cell_type": "markdown",
   "id": "3535c9b7-e8cf-4da0-a833-0d60b57c4ec4",
   "metadata": {},
   "source": [
    "## Exploratory Data Analysis (EDA)\n",
    "\n",
    "Now that we have merged county-level population, area, and density data, we can extend our exploratory data analysis (EDA) in several meaningful ways. With this additional demographic and geographic context, we can analyze broadband usage trends in relation to population size, area, and density, identifying whether higher population or denser areas have greater access or if rural counties face disparities. We can also segment the data to compare broadband availability across different population groups, calculate per capita broadband usage, and explore correlations between density, area, and adoption rates. Additionally, we can create visualizations, such as scatter plots and choropleth maps, to better understand geographical trends and the relationship between broadband access and county characteristics. By incorporating these new data points, our analysis becomes more comprehensive, allowing us to uncover deeper insights into broadband distribution patterns."
   ]
  }
 ],
 "metadata": {
  "kernelspec": {
   "display_name": "Python 3 (ipykernel)",
   "language": "python",
   "name": "python3"
  },
  "language_info": {
   "codemirror_mode": {
    "name": "ipython",
    "version": 3
   },
   "file_extension": ".py",
   "mimetype": "text/x-python",
   "name": "python",
   "nbconvert_exporter": "python",
   "pygments_lexer": "ipython3",
   "version": "3.10.11"
  }
 },
 "nbformat": 4,
 "nbformat_minor": 5
}
