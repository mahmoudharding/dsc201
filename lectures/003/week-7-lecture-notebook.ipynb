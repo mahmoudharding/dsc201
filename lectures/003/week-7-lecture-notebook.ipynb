{
 "cells": [
  {
   "cell_type": "markdown",
   "metadata": {},
   "source": [
    "# Week 6 Lecture Notebook\n",
    "\n",
    "## Jupyter notebooks\n",
    "This webpage is called a Jupyter notebook. A notebook is a place to write programs and view their results. We can also to write and format text using markdown. For this class, I encourage the use of notebooks to prototype work. In the future (either later in this class or beyond) you will likely want to write programs designed to run on all by themselves or interactively for end-users. But we generally will skip over that for now.\n",
    "\n",
    "As for working in notebooks, there are two types of cells (each rectangle containing text or code is called a **cell**): \n",
    "\n",
    " - **code** cells that hold executable code.\n",
    " \n",
    " - **markdown** cells that hold a special kind of text that follows the markdown syntax. To get familiar with the markdown syntax, take a look at this [Markdown Gudie](https://www.markdownguide.org/basic-syntax/). Markdown cells (like this one) can be edited by double-clicking on them. After you edit a markdown cell, click the \"Run cell\" button at the top that looks like ▶| or hold down `Shift` + `Return` to confirm any changes. \n",
    "\n",
    "   **Note:** Try not to delete the instructions of the assignment.\n",
    "\n",
    "## Markdown Cells\n",
    "Markdown cells are sometime referred to as *text* cells. In the text cell below enter your name, section, and the date.\n",
    "\n",
    "**Note:** After you make changes to the text cell don't forget to click the \"Run cell\" button at the top that looks like ▶| or hold down `Shift` + `Return` to view the changes."
   ]
  },
  {
   "cell_type": "markdown",
   "metadata": {},
   "source": [
    "### Bold\n",
    "\n",
    "This **bold**.\n",
    "\n",
    "### Italics\n",
    "\n",
    "This is *italics*.\n",
    "\n",
    "### Links\n",
    "\n",
    "This is a [link](https://datascienceacademy.ncsu.edu/).\n",
    "\n",
    "### Unordered List\n",
    "\n",
    "This is an unorderd list \n",
    "\n",
    "- Math\n",
    "\n",
    "- R \n",
    "\n",
    "- Python\n",
    "\n",
    "### Ordered List\n",
    "\n",
    "This is an ordered list\n",
    "\n",
    "1. Step one\n",
    "\n",
    "1. Step two\n",
    "\n",
    "1. Step three"
   ]
  },
  {
   "cell_type": "markdown",
   "metadata": {},
   "source": [
    "## Edit Mode vs. Command Mode \n",
    "Jupyter Notebook has a modal user interface. This means that the keyboard does different things depending on which mode the Notebook is in. There are two modes: \"Edit mode\" and \"Command mode\". Edit mode allows you to type into the cells like a normal text editor. Command mode allows you to edit the notebook as a whole, but not type into individual cells.\n",
    "\n",
    "<img src='images/edit-mode.png' width=500>"
   ]
  },
  {
   "cell_type": "code",
   "execution_count": null,
   "metadata": {},
   "outputs": [],
   "source": [
    "# This is a comment instde a code cell.\n",
    "# In this cell we are adding evaluating an arithmetic expression.\n",
    "3 + 5"
   ]
  },
  {
   "cell_type": "markdown",
   "metadata": {},
   "source": [
    "## The Kernel\n",
    "The kernel is a program that executes the code inside your notebook and outputs the results. In the top right of your window, you can see the name (DSC295) and a circle that indicates the status of your kernel. If the circle is empty (⚪), the kernel is idle and ready to execute code. If the circle is filled in(⚫), the kernel is busy running some code. \n",
    "\n",
    "Next to every code cell, you'll see some text that says `In [...]`. Before you run the cell, you'll see `In [ ]`. When the cell is running, you'll see `In [*]`. If you see an asterisk (\\*) next to a cell that doesn't go away, it's likely that the code inside the cell is taking too long to run, and it might be a good time to interrupt the kernel (discussed below). When a cell is finished running, you'll see a number inside the brackets, like so: `In [1]`. The number corresponds to the order in which you run the cells; so, the first cell you run will show a 1 when it's finished running, the second will show a 2, and so on. \n",
    "\n",
    "You may run into problems where your kernel is stuck for an excessive amount of time, your notebook is very slow and unresponsive, or your kernel loses its connection. If this happens, try the following steps:\n",
    "\n",
    "1. At the top of your screen, click **Kernel**, then **Interrupt Kernel**. Trying running your code again.\n",
    "\n",
    "2. If that doesn't help, click **Kernel**, then **Restart Kernel**. If you do this, you will have to run your code cells from the start of your notebook up until where you paused your work.\n",
    "\n",
    "3. If that doesn't help, restart your server. This is very rarely needed, but it's good to know how to do just in case. First, save your work by clicking **File** at the top left of your screen, then **Save Notebook**. Next, click **File** again and choose **Hub Control Panel** and select **Stop My Server** to shut it down. Then, after a few moments select **Start My Server** to start it back up. Then, navigate back to the notebook you were working on. You'll still have to run your code cells again."
   ]
  },
  {
   "cell_type": "markdown",
   "metadata": {},
   "source": [
    "## Names\n",
    "\n",
    "Names are identifiers (names given to variables, functions, etc.) and keywords (reserved words). **Variables** are storage continers for data. Keywords (e.g. `print`, `and`, `or`, etc.) can't be used as a variable names, function names, or any other identifiers. We will discuss keywords in more detail later in the course.\n",
    "\n",
    "## Variable\n",
    "\n",
    "- A variable is a place to store a value so that it can be referred to later in our code. To define a variable, use the equals (`=`) sign.\n",
    "\n",
    "- A common metaphor is that variables are like boxes or containers ([source](https://www.tomasbeuzen.com/python-programming-for-data-science/chapters/chapter1-basics.html)). For example, an assignment statement is like placing a sticker on a value.\n",
    "\n",
    "![Image](https://www.tomasbeuzen.com/python-programming-for-data-science/_images/box.png)\n",
    "\n",
    "- Variable names can contain uppercase and lowercase letters, the digits 0-9, and underscores.\n",
    "\n",
    "- Variable names can not start with a number.\n",
    "\n",
    "- Variables names are case sensitive\n",
    "\n",
    "## Data Types\n",
    "\n",
    "- Integers (`int`) are numbers w/o decimals\n",
    "\n",
    "- Floats (`float`) are numbers with decimals\n",
    "\n",
    "- Strings are used to store text"
   ]
  },
  {
   "cell_type": "code",
   "execution_count": null,
   "metadata": {},
   "outputs": [],
   "source": [
    "# integer\n",
    "my_int = 1\n",
    "\n",
    "# float\n",
    "my_float = 3.85\n",
    "\n",
    "# string\n",
    "my_string = \"Introduction to R/Python for Data Science DSC295\"\n",
    "\n",
    "# Print output using the print function\n",
    "print(my_int)\n",
    "print(my_float)\n",
    "print(my_string)\n",
    "\n",
    "my_int"
   ]
  },
  {
   "cell_type": "code",
   "execution_count": null,
   "metadata": {},
   "outputs": [],
   "source": [
    "type(my_int)"
   ]
  },
  {
   "cell_type": "code",
   "execution_count": null,
   "metadata": {},
   "outputs": [],
   "source": [
    "type(my_float)"
   ]
  },
  {
   "cell_type": "code",
   "execution_count": null,
   "metadata": {},
   "outputs": [],
   "source": [
    "type(my_string)"
   ]
  },
  {
   "cell_type": "markdown",
   "metadata": {},
   "source": [
    "## Data Structures\n",
    "\n",
    "- List\n",
    "\n",
    "- Tuple\n",
    "\n",
    "- Dictionary \n",
    "\n",
    "### List\n",
    "\n",
    "- A list is used to store multiple values in a single value or variable. To create a list use square brackets.\n",
    "\n",
    "- Lists can contain elements of different types"
   ]
  },
  {
   "cell_type": "code",
   "execution_count": null,
   "metadata": {},
   "outputs": [],
   "source": [
    "list_1 = [\"Data\", \"Science\", \"Academy\"]\n",
    "list_2 = [\"Introduction to R/Python for Data Science\", 1.0, 495]"
   ]
  },
  {
   "cell_type": "code",
   "execution_count": null,
   "metadata": {},
   "outputs": [],
   "source": [
    "list_1"
   ]
  },
  {
   "cell_type": "code",
   "execution_count": null,
   "metadata": {},
   "outputs": [],
   "source": [
    "list_2"
   ]
  },
  {
   "cell_type": "markdown",
   "metadata": {},
   "source": [
    "### Tuple\n",
    "\n",
    "- A tuple is used to store multiple values in a single value or variable. To create a tuple use parenthesis.\n",
    "\n",
    "- Tuples can contain elements of different types."
   ]
  },
  {
   "cell_type": "code",
   "execution_count": null,
   "metadata": {},
   "outputs": [],
   "source": [
    "tuple_1 = (\"NC\", \"State\", \"Wolfpack\")\n",
    "tuple_2 = (\"Spring\", 2023)"
   ]
  },
  {
   "cell_type": "code",
   "execution_count": null,
   "metadata": {},
   "outputs": [],
   "source": [
    "tuple_1"
   ]
  },
  {
   "cell_type": "code",
   "execution_count": null,
   "metadata": {},
   "outputs": [],
   "source": [
    "tuple_2"
   ]
  },
  {
   "cell_type": "code",
   "execution_count": null,
   "metadata": {},
   "outputs": [],
   "source": [
    "tuple_100 = (1, 2, 3, 4, 5)\n",
    "tuple_100"
   ]
  },
  {
   "cell_type": "markdown",
   "metadata": {},
   "source": [
    "### Dictionary\n",
    "\n",
    "- A collection of key-value pairs.\n",
    "\n",
    "- A key is used to look up values.\n",
    "\n",
    "- A value can be numbers, strings, lists, or even other dictionaries."
   ]
  },
  {
   "cell_type": "code",
   "execution_count": null,
   "metadata": {},
   "outputs": [],
   "source": [
    "dict_1 = {\"name\" : \"Intro to R/Python for Data Science\", \"code\" : \"DSC295\", \"section\" : 3}"
   ]
  },
  {
   "cell_type": "code",
   "execution_count": null,
   "metadata": {},
   "outputs": [],
   "source": [
    "dict_1"
   ]
  },
  {
   "cell_type": "markdown",
   "metadata": {},
   "source": [
    "**Note:** We will learn how to access elements from lists, tuples, and dictionaries later in the course."
   ]
  }
 ],
 "metadata": {
  "kernelspec": {
   "display_name": "DSC295",
   "language": "python",
   "name": "dsc295"
  },
  "language_info": {
   "codemirror_mode": {
    "name": "ipython",
    "version": 3
   },
   "file_extension": ".py",
   "mimetype": "text/x-python",
   "name": "python",
   "nbconvert_exporter": "python",
   "pygments_lexer": "ipython3",
   "version": "3.11.0"
  }
 },
 "nbformat": 4,
 "nbformat_minor": 4
}
