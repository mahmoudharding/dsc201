{
 "cells": [
  {
   "cell_type": "markdown",
   "id": "aa33cde2-5a52-4ab5-a2ea-04576bc567c9",
   "metadata": {},
   "source": [
    "## Week 8 Lecture `.ipynb` File\n",
    "\n",
    "#### Author: Mahmoud Harding\n",
    "\n",
    "## Python Basics\n",
    "\n",
    "### Built-in Functions\n",
    "\n",
    "- A function that is already available in a programming language/application that can be accessed by end users.\n",
    "\n",
    "- Returns some value based on its arguments.\n",
    "\n",
    "- `print`, `abs`, `max`, `min`, `pow`, `round`, etc."
   ]
  },
  {
   "cell_type": "code",
   "execution_count": 52,
   "id": "b7f39131-d4e4-45e5-bc74-a349a820725f",
   "metadata": {},
   "outputs": [
    {
     "data": {
      "text/plain": [
       "3"
      ]
     },
     "execution_count": 52,
     "metadata": {},
     "output_type": "execute_result"
    }
   ],
   "source": [
    "abs(-3)"
   ]
  },
  {
   "cell_type": "code",
   "execution_count": 53,
   "id": "636464c5-484c-4b43-b317-f9d5426a85ee",
   "metadata": {},
   "outputs": [
    {
     "data": {
      "text/plain": [
       "3"
      ]
     },
     "execution_count": 53,
     "metadata": {},
     "output_type": "execute_result"
    }
   ],
   "source": [
    "abs(2-5)"
   ]
  },
  {
   "cell_type": "code",
   "execution_count": 54,
   "id": "9b182dc0-21ef-4b3e-a576-422aebc044bc",
   "metadata": {},
   "outputs": [
    {
     "name": "stdout",
     "output_type": "stream",
     "text": [
      "3 100 100.1\n"
     ]
    }
   ],
   "source": [
    "print(3, 10 ** 2, 100.1)"
   ]
  },
  {
   "cell_type": "code",
   "execution_count": 55,
   "id": "75d9f9b4-e43f-46e2-9006-047f35419c48",
   "metadata": {},
   "outputs": [
    {
     "data": {
      "text/plain": [
       "100.1"
      ]
     },
     "execution_count": 55,
     "metadata": {},
     "output_type": "execute_result"
    }
   ],
   "source": [
    "max(3, 10 ** 2, 100.1)"
   ]
  },
  {
   "cell_type": "markdown",
   "id": "87a330eb-4532-4c1f-b46a-96f7874e1b33",
   "metadata": {},
   "source": [
    "## Nesting Functions"
   ]
  },
  {
   "cell_type": "code",
   "execution_count": 56,
   "id": "5081e477-b96e-4ceb-8cdc-deb793f78609",
   "metadata": {
    "tags": []
   },
   "outputs": [
    {
     "data": {
      "text/plain": [
       "0.0878"
      ]
     },
     "execution_count": 56,
     "metadata": {},
     "output_type": "execute_result"
    }
   ],
   "source": [
    "round(abs(1.6002-1.688), 4)"
   ]
  },
  {
   "cell_type": "code",
   "execution_count": 57,
   "id": "0a6ad24b-3a2a-46e6-9250-fdeea531d095",
   "metadata": {
    "tags": []
   },
   "outputs": [
    {
     "data": {
      "text/plain": [
       "-0.08779999999999988"
      ]
     },
     "execution_count": 57,
     "metadata": {},
     "output_type": "execute_result"
    }
   ],
   "source": [
    "1.6002-1.688"
   ]
  },
  {
   "cell_type": "code",
   "execution_count": 58,
   "id": "f3ed52bb-50b0-4503-afb8-a03bdce53fe5",
   "metadata": {
    "tags": []
   },
   "outputs": [
    {
     "data": {
      "text/plain": [
       "0.08779999999999988"
      ]
     },
     "execution_count": 58,
     "metadata": {},
     "output_type": "execute_result"
    }
   ],
   "source": [
    "abs(1.6002-1.688)"
   ]
  },
  {
   "cell_type": "code",
   "execution_count": 59,
   "id": "c873160a-0274-467d-927c-403d859e36cd",
   "metadata": {
    "tags": []
   },
   "outputs": [
    {
     "data": {
      "text/plain": [
       "0.0878"
      ]
     },
     "execution_count": 59,
     "metadata": {},
     "output_type": "execute_result"
    }
   ],
   "source": [
    "round(abs(1.6002-1.688), 4)"
   ]
  },
  {
   "cell_type": "markdown",
   "id": "091b108a-b357-4663-9581-baedfdb2134c",
   "metadata": {
    "tags": []
   },
   "source": [
    "## Pandas\n",
    "\n",
    "Pandas is an open source Python package that is most widely used for data science/data analysis and machine learning tasks. It is built on top of another library named `Numpy`, which provides support for arrays. Since we know how to perform operations on `NumPy` arrays we can operate on columns in a `pandas` dataframe. \n",
    "\n",
    "Pandas is a fast, powerful, flexible and (sometimes) easy to use open source data analysis and manipulation tool. Click the `Cheat Sheet` below to access the Data Wrangling with `pandas` [Cheat Sheet](https://pandas.pydata.org/Pandas_Cheat_Sheet.pdf)."
   ]
  },
  {
   "cell_type": "code",
   "execution_count": 90,
   "id": "68ae37f1-29a0-4c9e-8147-4cc06871ba34",
   "metadata": {
    "tags": []
   },
   "outputs": [],
   "source": [
    "## Import the pandas library with the alias pd\n",
    "import pandas as pd"
   ]
  },
  {
   "cell_type": "code",
   "execution_count": 91,
   "id": "0d5aafe4-d0cc-490e-a0a3-8b1deca7094c",
   "metadata": {
    "tags": []
   },
   "outputs": [],
   "source": [
    "## Read the CSV file skyscrapers.csv from the data directory \n",
    "## and store the data in a DataFrame named ss (i.e., skyscrapers)\n",
    "ss = pd.read_csv('data/skyscrapers_world.csv')"
   ]
  },
  {
   "cell_type": "markdown",
   "id": "f353c472-c1fa-4067-9abf-7eb707be552d",
   "metadata": {},
   "source": [
    "**Example 1.** Display the first 5 rows of the `ss` dataframe."
   ]
  },
  {
   "cell_type": "code",
   "execution_count": 92,
   "id": "d525c7d8-ed49-4131-aea1-0a2559707615",
   "metadata": {
    "tags": []
   },
   "outputs": [
    {
     "data": {
      "text/html": [
       "<div>\n",
       "<style scoped>\n",
       "    .dataframe tbody tr th:only-of-type {\n",
       "        vertical-align: middle;\n",
       "    }\n",
       "\n",
       "    .dataframe tbody tr th {\n",
       "        vertical-align: top;\n",
       "    }\n",
       "\n",
       "    .dataframe thead th {\n",
       "        text-align: right;\n",
       "    }\n",
       "</style>\n",
       "<table border=\"1\" class=\"dataframe\">\n",
       "  <thead>\n",
       "    <tr style=\"text-align: right;\">\n",
       "      <th></th>\n",
       "      <th>Unnamed: 0</th>\n",
       "      <th>name</th>\n",
       "      <th>city</th>\n",
       "      <th>country</th>\n",
       "      <th>status.started</th>\n",
       "      <th>status.completed</th>\n",
       "      <th>height in meters</th>\n",
       "      <th>height</th>\n",
       "      <th>floors</th>\n",
       "      <th>material</th>\n",
       "      <th>...</th>\n",
       "      <th>Unnamed: 12</th>\n",
       "      <th>Unnamed: 13</th>\n",
       "      <th>Unnamed: 14</th>\n",
       "      <th>Unnamed: 15</th>\n",
       "      <th>Unnamed: 16</th>\n",
       "      <th>Unnamed: 17</th>\n",
       "      <th>Unnamed: 18</th>\n",
       "      <th>Unnamed: 19</th>\n",
       "      <th>Unnamed: 20</th>\n",
       "      <th>Unnamed: 21</th>\n",
       "    </tr>\n",
       "  </thead>\n",
       "  <tbody>\n",
       "    <tr>\n",
       "      <th>0</th>\n",
       "      <td>1</td>\n",
       "      <td>Burj Khalifa</td>\n",
       "      <td>Dubai</td>\n",
       "      <td>UAE</td>\n",
       "      <td>2009</td>\n",
       "      <td>2010</td>\n",
       "      <td>2,722</td>\n",
       "      <td>2,722 ft</td>\n",
       "      <td>39</td>\n",
       "      <td>steel/concrete</td>\n",
       "      <td>...</td>\n",
       "      <td>NaN</td>\n",
       "      <td>NaN</td>\n",
       "      <td>NaN</td>\n",
       "      <td>NaN</td>\n",
       "      <td>NaN</td>\n",
       "      <td>NaN</td>\n",
       "      <td>NaN</td>\n",
       "      <td>NaN</td>\n",
       "      <td>NaN</td>\n",
       "      <td>NaN</td>\n",
       "    </tr>\n",
       "    <tr>\n",
       "      <th>1</th>\n",
       "      <td>2</td>\n",
       "      <td>Shanghai Tower</td>\n",
       "      <td>Shanghai</td>\n",
       "      <td>China</td>\n",
       "      <td>2008</td>\n",
       "      <td>2014</td>\n",
       "      <td>2073</td>\n",
       "      <td>2073 ft</td>\n",
       "      <td>128</td>\n",
       "      <td>composite</td>\n",
       "      <td>...</td>\n",
       "      <td>NaN</td>\n",
       "      <td>NaN</td>\n",
       "      <td>NaN</td>\n",
       "      <td>NaN</td>\n",
       "      <td>NaN</td>\n",
       "      <td>NaN</td>\n",
       "      <td>NaN</td>\n",
       "      <td>NaN</td>\n",
       "      <td>NaN</td>\n",
       "      <td>NaN</td>\n",
       "    </tr>\n",
       "    <tr>\n",
       "      <th>2</th>\n",
       "      <td>3</td>\n",
       "      <td>Makkah Royal Clock Tower</td>\n",
       "      <td>Mecca</td>\n",
       "      <td>Saudi Arabia</td>\n",
       "      <td>2002</td>\n",
       "      <td>2012</td>\n",
       "      <td>601</td>\n",
       "      <td>601m/1972ft</td>\n",
       "      <td>120</td>\n",
       "      <td>steel/concrete</td>\n",
       "      <td>...</td>\n",
       "      <td>NaN</td>\n",
       "      <td>NaN</td>\n",
       "      <td>NaN</td>\n",
       "      <td>NaN</td>\n",
       "      <td>NaN</td>\n",
       "      <td>NaN</td>\n",
       "      <td>NaN</td>\n",
       "      <td>NaN</td>\n",
       "      <td>NaN</td>\n",
       "      <td>NaN</td>\n",
       "    </tr>\n",
       "    <tr>\n",
       "      <th>3</th>\n",
       "      <td>4</td>\n",
       "      <td>Ping An Finance Center</td>\n",
       "      <td>Shenzhen</td>\n",
       "      <td>China</td>\n",
       "      <td>2010</td>\n",
       "      <td>2017</td>\n",
       "      <td>599.1</td>\n",
       "      <td>599.1m/1965ft</td>\n",
       "      <td>115</td>\n",
       "      <td>composite</td>\n",
       "      <td>...</td>\n",
       "      <td>NaN</td>\n",
       "      <td>NaN</td>\n",
       "      <td>NaN</td>\n",
       "      <td>NaN</td>\n",
       "      <td>NaN</td>\n",
       "      <td>NaN</td>\n",
       "      <td>NaN</td>\n",
       "      <td>NaN</td>\n",
       "      <td>NaN</td>\n",
       "      <td>NaN</td>\n",
       "    </tr>\n",
       "    <tr>\n",
       "      <th>4</th>\n",
       "      <td>5</td>\n",
       "      <td>Lotte World Tower</td>\n",
       "      <td>Seoul</td>\n",
       "      <td>South Korea</td>\n",
       "      <td>2012</td>\n",
       "      <td>2017</td>\n",
       "      <td>554.5</td>\n",
       "      <td>554.5 m / 1,819 ft</td>\n",
       "      <td>123</td>\n",
       "      <td>composite</td>\n",
       "      <td>...</td>\n",
       "      <td>NaN</td>\n",
       "      <td>NaN</td>\n",
       "      <td>NaN</td>\n",
       "      <td>NaN</td>\n",
       "      <td>NaN</td>\n",
       "      <td>NaN</td>\n",
       "      <td>NaN</td>\n",
       "      <td>NaN</td>\n",
       "      <td>NaN</td>\n",
       "      <td>NaN</td>\n",
       "    </tr>\n",
       "  </tbody>\n",
       "</table>\n",
       "<p>5 rows × 22 columns</p>\n",
       "</div>"
      ],
      "text/plain": [
       "   Unnamed: 0                      name      city       country  \\\n",
       "0           1              Burj Khalifa     Dubai           UAE   \n",
       "1           2            Shanghai Tower  Shanghai         China   \n",
       "2           3  Makkah Royal Clock Tower     Mecca  Saudi Arabia   \n",
       "3           4    Ping An Finance Center  Shenzhen         China   \n",
       "4           5         Lotte World Tower     Seoul   South Korea   \n",
       "\n",
       "  status.started status.completed height in meters              height floors  \\\n",
       "0           2009             2010            2,722            2,722 ft     39   \n",
       "1           2008             2014             2073             2073 ft    128   \n",
       "2           2002             2012              601         601m/1972ft    120   \n",
       "3           2010             2017            599.1       599.1m/1965ft    115   \n",
       "4           2012             2017            554.5  554.5 m / 1,819 ft    123   \n",
       "\n",
       "         material  ... Unnamed: 12  Unnamed: 13  Unnamed: 14  Unnamed: 15  \\\n",
       "0  steel/concrete  ...         NaN          NaN          NaN          NaN   \n",
       "1       composite  ...         NaN          NaN          NaN          NaN   \n",
       "2  steel/concrete  ...         NaN          NaN          NaN          NaN   \n",
       "3       composite  ...         NaN          NaN          NaN          NaN   \n",
       "4       composite  ...         NaN          NaN          NaN          NaN   \n",
       "\n",
       "   Unnamed: 16  Unnamed: 17  Unnamed: 18  Unnamed: 19  Unnamed: 20  \\\n",
       "0          NaN          NaN          NaN          NaN          NaN   \n",
       "1          NaN          NaN          NaN          NaN          NaN   \n",
       "2          NaN          NaN          NaN          NaN          NaN   \n",
       "3          NaN          NaN          NaN          NaN          NaN   \n",
       "4          NaN          NaN          NaN          NaN          NaN   \n",
       "\n",
       "   Unnamed: 21  \n",
       "0          NaN  \n",
       "1          NaN  \n",
       "2          NaN  \n",
       "3          NaN  \n",
       "4          NaN  \n",
       "\n",
       "[5 rows x 22 columns]"
      ]
     },
     "execution_count": 92,
     "metadata": {},
     "output_type": "execute_result"
    }
   ],
   "source": [
    "ss.head()"
   ]
  },
  {
   "cell_type": "markdown",
   "id": "023393d2-7ec9-4bf9-91c4-f4b9de8aa1a0",
   "metadata": {},
   "source": [
    "### Common `pandas` `DataFrame` Methods\n",
    "\n",
    "- `.head()`\n",
    "- `.info()`\n",
    "- `.describe()`\n",
    "- `.sample()`"
   ]
  },
  {
   "cell_type": "markdown",
   "id": "b0281890-6493-4a7a-9baa-d0eac2cbd773",
   "metadata": {},
   "source": [
    "Apply the following methods to the `skyscrapers` `DataFrame` in the examples below.\n",
    "\n",
    "**Example 2.** `.info()`"
   ]
  },
  {
   "cell_type": "code",
   "execution_count": 93,
   "id": "c08590a1-44ed-4204-82f4-ca68cdef6e5d",
   "metadata": {
    "tags": []
   },
   "outputs": [
    {
     "name": "stdout",
     "output_type": "stream",
     "text": [
      "<class 'pandas.core.frame.DataFrame'>\n",
      "RangeIndex: 102 entries, 0 to 101\n",
      "Data columns (total 22 columns):\n",
      " #   Column            Non-Null Count  Dtype  \n",
      "---  ------            --------------  -----  \n",
      " 0   Unnamed: 0        102 non-null    int64  \n",
      " 1   name              102 non-null    object \n",
      " 2   city              100 non-null    object \n",
      " 3   country           102 non-null    object \n",
      " 4   status.started    100 non-null    object \n",
      " 5   status.completed  102 non-null    object \n",
      " 6   height in meters  102 non-null    object \n",
      " 7   height            102 non-null    object \n",
      " 8   floors            102 non-null    object \n",
      " 9   material          102 non-null    object \n",
      " 10  function          102 non-null    object \n",
      " 11  Unnamed: 11       0 non-null      float64\n",
      " 12  Unnamed: 12       0 non-null      float64\n",
      " 13  Unnamed: 13       0 non-null      float64\n",
      " 14  Unnamed: 14       0 non-null      float64\n",
      " 15  Unnamed: 15       0 non-null      float64\n",
      " 16  Unnamed: 16       0 non-null      float64\n",
      " 17  Unnamed: 17       0 non-null      float64\n",
      " 18  Unnamed: 18       0 non-null      float64\n",
      " 19  Unnamed: 19       0 non-null      float64\n",
      " 20  Unnamed: 20       0 non-null      float64\n",
      " 21  Unnamed: 21       0 non-null      float64\n",
      "dtypes: float64(11), int64(1), object(10)\n",
      "memory usage: 17.7+ KB\n"
     ]
    }
   ],
   "source": [
    "## Display a concise summary of the ss DataFrame, \n",
    "## including the index, column names, non-null counts, \n",
    "## and data types for each column\n",
    "ss.info()"
   ]
  },
  {
   "cell_type": "markdown",
   "id": "4a46c3ae-24ab-4ac2-a918-fca26099e449",
   "metadata": {},
   "source": [
    "**Example 3.** `.describe()`"
   ]
  },
  {
   "cell_type": "code",
   "execution_count": 94,
   "id": "a0aa712b-ea86-411c-aa6c-4c763c99af74",
   "metadata": {
    "tags": []
   },
   "outputs": [
    {
     "data": {
      "text/html": [
       "<div>\n",
       "<style scoped>\n",
       "    .dataframe tbody tr th:only-of-type {\n",
       "        vertical-align: middle;\n",
       "    }\n",
       "\n",
       "    .dataframe tbody tr th {\n",
       "        vertical-align: top;\n",
       "    }\n",
       "\n",
       "    .dataframe thead th {\n",
       "        text-align: right;\n",
       "    }\n",
       "</style>\n",
       "<table border=\"1\" class=\"dataframe\">\n",
       "  <thead>\n",
       "    <tr style=\"text-align: right;\">\n",
       "      <th></th>\n",
       "      <th>Unnamed: 0</th>\n",
       "      <th>Unnamed: 11</th>\n",
       "      <th>Unnamed: 12</th>\n",
       "      <th>Unnamed: 13</th>\n",
       "      <th>Unnamed: 14</th>\n",
       "      <th>Unnamed: 15</th>\n",
       "      <th>Unnamed: 16</th>\n",
       "      <th>Unnamed: 17</th>\n",
       "      <th>Unnamed: 18</th>\n",
       "      <th>Unnamed: 19</th>\n",
       "      <th>Unnamed: 20</th>\n",
       "      <th>Unnamed: 21</th>\n",
       "    </tr>\n",
       "  </thead>\n",
       "  <tbody>\n",
       "    <tr>\n",
       "      <th>count</th>\n",
       "      <td>102.000000</td>\n",
       "      <td>0.0</td>\n",
       "      <td>0.0</td>\n",
       "      <td>0.0</td>\n",
       "      <td>0.0</td>\n",
       "      <td>0.0</td>\n",
       "      <td>0.0</td>\n",
       "      <td>0.0</td>\n",
       "      <td>0.0</td>\n",
       "      <td>0.0</td>\n",
       "      <td>0.0</td>\n",
       "      <td>0.0</td>\n",
       "    </tr>\n",
       "    <tr>\n",
       "      <th>mean</th>\n",
       "      <td>51.500000</td>\n",
       "      <td>NaN</td>\n",
       "      <td>NaN</td>\n",
       "      <td>NaN</td>\n",
       "      <td>NaN</td>\n",
       "      <td>NaN</td>\n",
       "      <td>NaN</td>\n",
       "      <td>NaN</td>\n",
       "      <td>NaN</td>\n",
       "      <td>NaN</td>\n",
       "      <td>NaN</td>\n",
       "      <td>NaN</td>\n",
       "    </tr>\n",
       "    <tr>\n",
       "      <th>std</th>\n",
       "      <td>29.588849</td>\n",
       "      <td>NaN</td>\n",
       "      <td>NaN</td>\n",
       "      <td>NaN</td>\n",
       "      <td>NaN</td>\n",
       "      <td>NaN</td>\n",
       "      <td>NaN</td>\n",
       "      <td>NaN</td>\n",
       "      <td>NaN</td>\n",
       "      <td>NaN</td>\n",
       "      <td>NaN</td>\n",
       "      <td>NaN</td>\n",
       "    </tr>\n",
       "    <tr>\n",
       "      <th>min</th>\n",
       "      <td>1.000000</td>\n",
       "      <td>NaN</td>\n",
       "      <td>NaN</td>\n",
       "      <td>NaN</td>\n",
       "      <td>NaN</td>\n",
       "      <td>NaN</td>\n",
       "      <td>NaN</td>\n",
       "      <td>NaN</td>\n",
       "      <td>NaN</td>\n",
       "      <td>NaN</td>\n",
       "      <td>NaN</td>\n",
       "      <td>NaN</td>\n",
       "    </tr>\n",
       "    <tr>\n",
       "      <th>25%</th>\n",
       "      <td>26.250000</td>\n",
       "      <td>NaN</td>\n",
       "      <td>NaN</td>\n",
       "      <td>NaN</td>\n",
       "      <td>NaN</td>\n",
       "      <td>NaN</td>\n",
       "      <td>NaN</td>\n",
       "      <td>NaN</td>\n",
       "      <td>NaN</td>\n",
       "      <td>NaN</td>\n",
       "      <td>NaN</td>\n",
       "      <td>NaN</td>\n",
       "    </tr>\n",
       "    <tr>\n",
       "      <th>50%</th>\n",
       "      <td>51.500000</td>\n",
       "      <td>NaN</td>\n",
       "      <td>NaN</td>\n",
       "      <td>NaN</td>\n",
       "      <td>NaN</td>\n",
       "      <td>NaN</td>\n",
       "      <td>NaN</td>\n",
       "      <td>NaN</td>\n",
       "      <td>NaN</td>\n",
       "      <td>NaN</td>\n",
       "      <td>NaN</td>\n",
       "      <td>NaN</td>\n",
       "    </tr>\n",
       "    <tr>\n",
       "      <th>75%</th>\n",
       "      <td>76.750000</td>\n",
       "      <td>NaN</td>\n",
       "      <td>NaN</td>\n",
       "      <td>NaN</td>\n",
       "      <td>NaN</td>\n",
       "      <td>NaN</td>\n",
       "      <td>NaN</td>\n",
       "      <td>NaN</td>\n",
       "      <td>NaN</td>\n",
       "      <td>NaN</td>\n",
       "      <td>NaN</td>\n",
       "      <td>NaN</td>\n",
       "    </tr>\n",
       "    <tr>\n",
       "      <th>max</th>\n",
       "      <td>102.000000</td>\n",
       "      <td>NaN</td>\n",
       "      <td>NaN</td>\n",
       "      <td>NaN</td>\n",
       "      <td>NaN</td>\n",
       "      <td>NaN</td>\n",
       "      <td>NaN</td>\n",
       "      <td>NaN</td>\n",
       "      <td>NaN</td>\n",
       "      <td>NaN</td>\n",
       "      <td>NaN</td>\n",
       "      <td>NaN</td>\n",
       "    </tr>\n",
       "  </tbody>\n",
       "</table>\n",
       "</div>"
      ],
      "text/plain": [
       "       Unnamed: 0  Unnamed: 11  Unnamed: 12  Unnamed: 13  Unnamed: 14  \\\n",
       "count  102.000000          0.0          0.0          0.0          0.0   \n",
       "mean    51.500000          NaN          NaN          NaN          NaN   \n",
       "std     29.588849          NaN          NaN          NaN          NaN   \n",
       "min      1.000000          NaN          NaN          NaN          NaN   \n",
       "25%     26.250000          NaN          NaN          NaN          NaN   \n",
       "50%     51.500000          NaN          NaN          NaN          NaN   \n",
       "75%     76.750000          NaN          NaN          NaN          NaN   \n",
       "max    102.000000          NaN          NaN          NaN          NaN   \n",
       "\n",
       "       Unnamed: 15  Unnamed: 16  Unnamed: 17  Unnamed: 18  Unnamed: 19  \\\n",
       "count          0.0          0.0          0.0          0.0          0.0   \n",
       "mean           NaN          NaN          NaN          NaN          NaN   \n",
       "std            NaN          NaN          NaN          NaN          NaN   \n",
       "min            NaN          NaN          NaN          NaN          NaN   \n",
       "25%            NaN          NaN          NaN          NaN          NaN   \n",
       "50%            NaN          NaN          NaN          NaN          NaN   \n",
       "75%            NaN          NaN          NaN          NaN          NaN   \n",
       "max            NaN          NaN          NaN          NaN          NaN   \n",
       "\n",
       "       Unnamed: 20  Unnamed: 21  \n",
       "count          0.0          0.0  \n",
       "mean           NaN          NaN  \n",
       "std            NaN          NaN  \n",
       "min            NaN          NaN  \n",
       "25%            NaN          NaN  \n",
       "50%            NaN          NaN  \n",
       "75%            NaN          NaN  \n",
       "max            NaN          NaN  "
      ]
     },
     "execution_count": 94,
     "metadata": {},
     "output_type": "execute_result"
    }
   ],
   "source": [
    "## Generate descriptive statistics for the numerical columns in \n",
    "## the ss DataFrame, including count, mean, standard deviation, \n",
    "## minimum, quartiles, and maximum values\n",
    "ss.describe()"
   ]
  },
  {
   "cell_type": "markdown",
   "id": "02ee167b-a562-4b0b-99bc-ad6fdfbc341c",
   "metadata": {},
   "source": [
    "**Example 4.** `.sample()`"
   ]
  },
  {
   "cell_type": "code",
   "execution_count": 95,
   "id": "b5226b6f-34f4-4096-9215-01908ec99445",
   "metadata": {},
   "outputs": [
    {
     "data": {
      "text/html": [
       "<div>\n",
       "<style scoped>\n",
       "    .dataframe tbody tr th:only-of-type {\n",
       "        vertical-align: middle;\n",
       "    }\n",
       "\n",
       "    .dataframe tbody tr th {\n",
       "        vertical-align: top;\n",
       "    }\n",
       "\n",
       "    .dataframe thead th {\n",
       "        text-align: right;\n",
       "    }\n",
       "</style>\n",
       "<table border=\"1\" class=\"dataframe\">\n",
       "  <thead>\n",
       "    <tr style=\"text-align: right;\">\n",
       "      <th></th>\n",
       "      <th>Unnamed: 0</th>\n",
       "      <th>name</th>\n",
       "      <th>city</th>\n",
       "      <th>country</th>\n",
       "      <th>status.started</th>\n",
       "      <th>status.completed</th>\n",
       "      <th>height in meters</th>\n",
       "      <th>height</th>\n",
       "      <th>floors</th>\n",
       "      <th>material</th>\n",
       "      <th>...</th>\n",
       "      <th>Unnamed: 12</th>\n",
       "      <th>Unnamed: 13</th>\n",
       "      <th>Unnamed: 14</th>\n",
       "      <th>Unnamed: 15</th>\n",
       "      <th>Unnamed: 16</th>\n",
       "      <th>Unnamed: 17</th>\n",
       "      <th>Unnamed: 18</th>\n",
       "      <th>Unnamed: 19</th>\n",
       "      <th>Unnamed: 20</th>\n",
       "      <th>Unnamed: 21</th>\n",
       "    </tr>\n",
       "  </thead>\n",
       "  <tbody>\n",
       "    <tr>\n",
       "      <th>9</th>\n",
       "      <td>10</td>\n",
       "      <td>TAIPEI 101</td>\n",
       "      <td>Taipei</td>\n",
       "      <td>Taiwan</td>\n",
       "      <td>1999</td>\n",
       "      <td>2004</td>\n",
       "      <td>508</td>\n",
       "      <td>508 m / 1,667 ft</td>\n",
       "      <td>101</td>\n",
       "      <td>composite</td>\n",
       "      <td>...</td>\n",
       "      <td>NaN</td>\n",
       "      <td>NaN</td>\n",
       "      <td>NaN</td>\n",
       "      <td>NaN</td>\n",
       "      <td>NaN</td>\n",
       "      <td>NaN</td>\n",
       "      <td>NaN</td>\n",
       "      <td>NaN</td>\n",
       "      <td>NaN</td>\n",
       "      <td>NaN</td>\n",
       "    </tr>\n",
       "  </tbody>\n",
       "</table>\n",
       "<p>1 rows × 22 columns</p>\n",
       "</div>"
      ],
      "text/plain": [
       "   Unnamed: 0        name    city country status.started status.completed  \\\n",
       "9          10  TAIPEI 101  Taipei  Taiwan           1999             2004   \n",
       "\n",
       "  height in meters            height floors   material  ... Unnamed: 12  \\\n",
       "9              508  508 m / 1,667 ft    101  composite  ...         NaN   \n",
       "\n",
       "   Unnamed: 13  Unnamed: 14  Unnamed: 15  Unnamed: 16  Unnamed: 17  \\\n",
       "9          NaN          NaN          NaN          NaN          NaN   \n",
       "\n",
       "   Unnamed: 18  Unnamed: 19  Unnamed: 20  Unnamed: 21  \n",
       "9          NaN          NaN          NaN          NaN  \n",
       "\n",
       "[1 rows x 22 columns]"
      ]
     },
     "execution_count": 95,
     "metadata": {},
     "output_type": "execute_result"
    }
   ],
   "source": [
    "## Return a random sample of rows from the ss DataFrame.\n",
    "## By default, it returns one row, but the number of rows can \n",
    "## be specified as an argument.\n",
    "ss.sample()"
   ]
  },
  {
   "cell_type": "code",
   "execution_count": 96,
   "id": "b14ea5b2-02d4-4cca-a97d-fcda8933ab06",
   "metadata": {},
   "outputs": [
    {
     "data": {
      "text/html": [
       "<div>\n",
       "<style scoped>\n",
       "    .dataframe tbody tr th:only-of-type {\n",
       "        vertical-align: middle;\n",
       "    }\n",
       "\n",
       "    .dataframe tbody tr th {\n",
       "        vertical-align: top;\n",
       "    }\n",
       "\n",
       "    .dataframe thead th {\n",
       "        text-align: right;\n",
       "    }\n",
       "</style>\n",
       "<table border=\"1\" class=\"dataframe\">\n",
       "  <thead>\n",
       "    <tr style=\"text-align: right;\">\n",
       "      <th></th>\n",
       "      <th>Unnamed: 0</th>\n",
       "      <th>name</th>\n",
       "      <th>city</th>\n",
       "      <th>country</th>\n",
       "      <th>status.started</th>\n",
       "      <th>status.completed</th>\n",
       "      <th>height in meters</th>\n",
       "      <th>height</th>\n",
       "      <th>floors</th>\n",
       "      <th>material</th>\n",
       "      <th>...</th>\n",
       "      <th>Unnamed: 12</th>\n",
       "      <th>Unnamed: 13</th>\n",
       "      <th>Unnamed: 14</th>\n",
       "      <th>Unnamed: 15</th>\n",
       "      <th>Unnamed: 16</th>\n",
       "      <th>Unnamed: 17</th>\n",
       "      <th>Unnamed: 18</th>\n",
       "      <th>Unnamed: 19</th>\n",
       "      <th>Unnamed: 20</th>\n",
       "      <th>Unnamed: 21</th>\n",
       "    </tr>\n",
       "  </thead>\n",
       "  <tbody>\n",
       "    <tr>\n",
       "      <th>90</th>\n",
       "      <td>91</td>\n",
       "      <td>Chongqing World Financial Center</td>\n",
       "      <td>Chongqing</td>\n",
       "      <td>China</td>\n",
       "      <td>2010</td>\n",
       "      <td>2015</td>\n",
       "      <td>338.9</td>\n",
       "      <td>338.9 m (1,112 ft)</td>\n",
       "      <td>72</td>\n",
       "      <td>composite</td>\n",
       "      <td>...</td>\n",
       "      <td>NaN</td>\n",
       "      <td>NaN</td>\n",
       "      <td>NaN</td>\n",
       "      <td>NaN</td>\n",
       "      <td>NaN</td>\n",
       "      <td>NaN</td>\n",
       "      <td>NaN</td>\n",
       "      <td>NaN</td>\n",
       "      <td>NaN</td>\n",
       "      <td>NaN</td>\n",
       "    </tr>\n",
       "    <tr>\n",
       "      <th>45</th>\n",
       "      <td>46</td>\n",
       "      <td>Eton Place Dalian Tower 1</td>\n",
       "      <td>Dalian</td>\n",
       "      <td>China</td>\n",
       "      <td>2006/2009/2008 depending on the source</td>\n",
       "      <td>2016</td>\n",
       "      <td>283.2</td>\n",
       "      <td>283.2</td>\n",
       "      <td>80</td>\n",
       "      <td>composite</td>\n",
       "      <td>...</td>\n",
       "      <td>NaN</td>\n",
       "      <td>NaN</td>\n",
       "      <td>NaN</td>\n",
       "      <td>NaN</td>\n",
       "      <td>NaN</td>\n",
       "      <td>NaN</td>\n",
       "      <td>NaN</td>\n",
       "      <td>NaN</td>\n",
       "      <td>NaN</td>\n",
       "      <td>NaN</td>\n",
       "    </tr>\n",
       "    <tr>\n",
       "      <th>88</th>\n",
       "      <td>89</td>\n",
       "      <td>Wuxi International Finance Square</td>\n",
       "      <td>Wuxi</td>\n",
       "      <td>China</td>\n",
       "      <td>2011</td>\n",
       "      <td>2014</td>\n",
       "      <td>339</td>\n",
       "      <td>339 m (1,112 ft)</td>\n",
       "      <td>68</td>\n",
       "      <td>composite</td>\n",
       "      <td>...</td>\n",
       "      <td>NaN</td>\n",
       "      <td>NaN</td>\n",
       "      <td>NaN</td>\n",
       "      <td>NaN</td>\n",
       "      <td>NaN</td>\n",
       "      <td>NaN</td>\n",
       "      <td>NaN</td>\n",
       "      <td>NaN</td>\n",
       "      <td>NaN</td>\n",
       "      <td>NaN</td>\n",
       "    </tr>\n",
       "    <tr>\n",
       "      <th>52</th>\n",
       "      <td>53</td>\n",
       "      <td>Central Plaza</td>\n",
       "      <td>Hong Kong</td>\n",
       "      <td>China</td>\n",
       "      <td>1989</td>\n",
       "      <td>1992</td>\n",
       "      <td>1227</td>\n",
       "      <td>1227 ft</td>\n",
       "      <td>79</td>\n",
       "      <td>concrete</td>\n",
       "      <td>...</td>\n",
       "      <td>NaN</td>\n",
       "      <td>NaN</td>\n",
       "      <td>NaN</td>\n",
       "      <td>NaN</td>\n",
       "      <td>NaN</td>\n",
       "      <td>NaN</td>\n",
       "      <td>NaN</td>\n",
       "      <td>NaN</td>\n",
       "      <td>NaN</td>\n",
       "      <td>NaN</td>\n",
       "    </tr>\n",
       "    <tr>\n",
       "      <th>7</th>\n",
       "      <td>8</td>\n",
       "      <td>Tianjin CTF Finance Centre</td>\n",
       "      <td>Tianjin</td>\n",
       "      <td>China</td>\n",
       "      <td>2103</td>\n",
       "      <td>2019</td>\n",
       "      <td>530.4</td>\n",
       "      <td>530.4 m / 1,740 ft</td>\n",
       "      <td>97</td>\n",
       "      <td>composite</td>\n",
       "      <td>...</td>\n",
       "      <td>NaN</td>\n",
       "      <td>NaN</td>\n",
       "      <td>NaN</td>\n",
       "      <td>NaN</td>\n",
       "      <td>NaN</td>\n",
       "      <td>NaN</td>\n",
       "      <td>NaN</td>\n",
       "      <td>NaN</td>\n",
       "      <td>NaN</td>\n",
       "      <td>NaN</td>\n",
       "    </tr>\n",
       "  </tbody>\n",
       "</table>\n",
       "<p>5 rows × 22 columns</p>\n",
       "</div>"
      ],
      "text/plain": [
       "    Unnamed: 0                               name       city country  \\\n",
       "90          91   Chongqing World Financial Center  Chongqing   China   \n",
       "45          46          Eton Place Dalian Tower 1     Dalian   China   \n",
       "88          89  Wuxi International Finance Square       Wuxi   China   \n",
       "52          53                      Central Plaza  Hong Kong   China   \n",
       "7            8         Tianjin CTF Finance Centre    Tianjin   China   \n",
       "\n",
       "                            status.started status.completed height in meters  \\\n",
       "90                                    2010             2015            338.9   \n",
       "45  2006/2009/2008 depending on the source             2016            283.2   \n",
       "88                                    2011             2014              339   \n",
       "52                                    1989             1992             1227   \n",
       "7                                     2103             2019            530.4   \n",
       "\n",
       "                height floors   material  ... Unnamed: 12  Unnamed: 13  \\\n",
       "90  338.9 m (1,112 ft)     72  composite  ...         NaN          NaN   \n",
       "45               283.2     80  composite  ...         NaN          NaN   \n",
       "88    339 m (1,112 ft)     68  composite  ...         NaN          NaN   \n",
       "52             1227 ft     79   concrete  ...         NaN          NaN   \n",
       "7   530.4 m / 1,740 ft     97  composite  ...         NaN          NaN   \n",
       "\n",
       "    Unnamed: 14  Unnamed: 15  Unnamed: 16  Unnamed: 17  Unnamed: 18  \\\n",
       "90          NaN          NaN          NaN          NaN          NaN   \n",
       "45          NaN          NaN          NaN          NaN          NaN   \n",
       "88          NaN          NaN          NaN          NaN          NaN   \n",
       "52          NaN          NaN          NaN          NaN          NaN   \n",
       "7           NaN          NaN          NaN          NaN          NaN   \n",
       "\n",
       "    Unnamed: 19  Unnamed: 20  Unnamed: 21  \n",
       "90          NaN          NaN          NaN  \n",
       "45          NaN          NaN          NaN  \n",
       "88          NaN          NaN          NaN  \n",
       "52          NaN          NaN          NaN  \n",
       "7           NaN          NaN          NaN  \n",
       "\n",
       "[5 rows x 22 columns]"
      ]
     },
     "execution_count": 96,
     "metadata": {},
     "output_type": "execute_result"
    }
   ],
   "source": [
    "## Return a random sample of rows from the ss DataFrame.\n",
    "## By default, it returns one row, but the number of rows can \n",
    "## be specified as an argument.\n",
    "ss.sample(5)"
   ]
  },
  {
   "cell_type": "markdown",
   "id": "0b5c2eea-50c1-452d-bbb2-a589a0fbebfc",
   "metadata": {},
   "source": [
    "### Accessing `pandas` `DataFrame` Attriubtes\n",
    "\n",
    "- `.shape`\n",
    "- `.columns`"
   ]
  },
  {
   "cell_type": "markdown",
   "id": "e7eed532-97d9-4294-86cb-e60ca81bafac",
   "metadata": {},
   "source": [
    "**Example 5.** `.shape`"
   ]
  },
  {
   "cell_type": "code",
   "execution_count": 97,
   "id": "b592f6ca-c0d9-40c4-8d2d-e6c7f9fb39ad",
   "metadata": {
    "tags": []
   },
   "outputs": [
    {
     "data": {
      "text/plain": [
       "(102, 22)"
      ]
     },
     "execution_count": 97,
     "metadata": {},
     "output_type": "execute_result"
    }
   ],
   "source": [
    "## Return the dimensions of the ss DataFrame as \n",
    "## a tuple (number of rows, number of columns)\n",
    "ss.shape"
   ]
  },
  {
   "cell_type": "markdown",
   "id": "1d9f02f4-a87a-4711-8bc2-bf31013efbe2",
   "metadata": {},
   "source": [
    "**Example 6.** `.columns\n",
    "`"
   ]
  },
  {
   "cell_type": "code",
   "execution_count": 98,
   "id": "a0526e59-6c4e-4433-8208-ae7347c99fb0",
   "metadata": {
    "tags": []
   },
   "outputs": [
    {
     "data": {
      "text/plain": [
       "Index(['Unnamed: 0', 'name', 'city', 'country', 'status.started',\n",
       "       'status.completed', 'height in meters', 'height', 'floors', 'material',\n",
       "       'function', 'Unnamed: 11', 'Unnamed: 12', 'Unnamed: 13', 'Unnamed: 14',\n",
       "       'Unnamed: 15', 'Unnamed: 16', 'Unnamed: 17', 'Unnamed: 18',\n",
       "       'Unnamed: 19', 'Unnamed: 20', 'Unnamed: 21'],\n",
       "      dtype='object')"
      ]
     },
     "execution_count": 98,
     "metadata": {},
     "output_type": "execute_result"
    }
   ],
   "source": [
    "## Return the list of column names in the ss DataFrame\n",
    "ss.columns"
   ]
  },
  {
   "cell_type": "markdown",
   "id": "8cfa2900-7e61-414e-975d-609d15b7821e",
   "metadata": {},
   "source": [
    "### Rename columns in a `pandas DataFrame`"
   ]
  },
  {
   "cell_type": "markdown",
   "id": "d171af5c-7f57-4cb7-a654-bf498ead38f8",
   "metadata": {},
   "source": [
    "To rename specific columns in the `ss` `DataFrame`, use the `.rename` method with the `columns` parameter to change `status.started` to `year_started`, `status.completed` to `year_completed`, and `height in meters` to `height_meters`.\n",
    "\n",
    "\n",
    "```python\n",
    "columns = {'height in meters': 'height_meters',\n",
    "           'status.completed': 'year_completed',\n",
    "           'status.started': 'year_started'}\n",
    "```\n",
    "\n",
    "Additionally, set `inplace = True` to apply the changes directly to the original `DataFrame`.\n",
    "\n",
    "```python\n",
    "inplace = True\n",
    "```"
   ]
  },
  {
   "cell_type": "code",
   "execution_count": 99,
   "id": "61de0fba-e22c-40a8-8b9e-d675c215a2f4",
   "metadata": {
    "tags": []
   },
   "outputs": [],
   "source": [
    "ss.rename(columns = {'height in meters': 'height_meters',\n",
    "                     'status.completed': 'year_completed',\n",
    "                     'status.started': 'year_started'},\n",
    "          inplace = True)"
   ]
  },
  {
   "cell_type": "code",
   "execution_count": 100,
   "id": "091532ce-3487-4719-99fc-db518f6304db",
   "metadata": {
    "tags": []
   },
   "outputs": [
    {
     "name": "stdout",
     "output_type": "stream",
     "text": [
      "<class 'pandas.core.frame.DataFrame'>\n",
      "RangeIndex: 102 entries, 0 to 101\n",
      "Data columns (total 22 columns):\n",
      " #   Column          Non-Null Count  Dtype  \n",
      "---  ------          --------------  -----  \n",
      " 0   Unnamed: 0      102 non-null    int64  \n",
      " 1   name            102 non-null    object \n",
      " 2   city            100 non-null    object \n",
      " 3   country         102 non-null    object \n",
      " 4   year_started    100 non-null    object \n",
      " 5   year_completed  102 non-null    object \n",
      " 6   height_meters   102 non-null    object \n",
      " 7   height          102 non-null    object \n",
      " 8   floors          102 non-null    object \n",
      " 9   material        102 non-null    object \n",
      " 10  function        102 non-null    object \n",
      " 11  Unnamed: 11     0 non-null      float64\n",
      " 12  Unnamed: 12     0 non-null      float64\n",
      " 13  Unnamed: 13     0 non-null      float64\n",
      " 14  Unnamed: 14     0 non-null      float64\n",
      " 15  Unnamed: 15     0 non-null      float64\n",
      " 16  Unnamed: 16     0 non-null      float64\n",
      " 17  Unnamed: 17     0 non-null      float64\n",
      " 18  Unnamed: 18     0 non-null      float64\n",
      " 19  Unnamed: 19     0 non-null      float64\n",
      " 20  Unnamed: 20     0 non-null      float64\n",
      " 21  Unnamed: 21     0 non-null      float64\n",
      "dtypes: float64(11), int64(1), object(10)\n",
      "memory usage: 17.7+ KB\n"
     ]
    }
   ],
   "source": [
    "ss.info()"
   ]
  },
  {
   "cell_type": "markdown",
   "id": "4e71626e-66e5-4740-b44c-4c9d2417b631",
   "metadata": {},
   "source": [
    "### Drop columns in a `pandas DataFrame`\n",
    "\n",
    "To drop (i.e., remove) the `Unnamed: 0` column from the `ss` `DataFrame`, use the `.drop` method with the `columns` parameter. \n",
    "\n",
    "```python\n",
    "columns = ['Unnamed: 0']\n",
    "```\n",
    "\n",
    "Setting `inplace = True` ensures that the column is removed directly from the original `DataFrame` without creating a new one.\n",
    "\n",
    "```python\n",
    "inplace = True\n",
    "```"
   ]
  },
  {
   "cell_type": "code",
   "execution_count": 101,
   "id": "f5901c4b-ff66-4f08-b0ca-f0b940f510e7",
   "metadata": {
    "tags": []
   },
   "outputs": [],
   "source": [
    "ss.drop(columns = ['Unnamed: 0'], inplace = True)"
   ]
  },
  {
   "cell_type": "markdown",
   "id": "b564739d-4da3-404c-97c8-b3e62a7bbddd",
   "metadata": {},
   "source": [
    "### Accessing columns and values from a `pandas` `DataFrame` and `Series`\n",
    "\n",
    "**Example 7.** Access the a `name` column from the `ss` dataframe and return a `Series` type object."
   ]
  },
  {
   "cell_type": "code",
   "execution_count": 102,
   "id": "9c69b607-d9b0-4e87-a75e-a68710bb94c0",
   "metadata": {},
   "outputs": [
    {
     "data": {
      "text/plain": [
       "0                         Burj Khalifa\n",
       "1                       Shanghai Tower\n",
       "2             Makkah Royal Clock Tower\n",
       "3               Ping An Finance Center\n",
       "4                    Lotte World Tower\n",
       "                    ...               \n",
       "97               Wilshire Grand Center\n",
       "98                       DAMAC Heights\n",
       "99     Twin Towers Guiyang, East Tower\n",
       "100    Twin Towers Guiyang, West Tower\n",
       "101         Shimao International Plaza\n",
       "Name: name, Length: 102, dtype: object"
      ]
     },
     "execution_count": 102,
     "metadata": {},
     "output_type": "execute_result"
    }
   ],
   "source": [
    "## Returns the values from the name column in the \n",
    "## ss DataFrame as a Series\n",
    "ss['name']"
   ]
  },
  {
   "cell_type": "code",
   "execution_count": 103,
   "id": "b53f8072-b514-434f-9582-b14de1b633dd",
   "metadata": {},
   "outputs": [
    {
     "data": {
      "text/plain": [
       "0                         Burj Khalifa\n",
       "1                       Shanghai Tower\n",
       "2             Makkah Royal Clock Tower\n",
       "3               Ping An Finance Center\n",
       "4                    Lotte World Tower\n",
       "                    ...               \n",
       "97               Wilshire Grand Center\n",
       "98                       DAMAC Heights\n",
       "99     Twin Towers Guiyang, East Tower\n",
       "100    Twin Towers Guiyang, West Tower\n",
       "101         Shimao International Plaza\n",
       "Name: name, Length: 102, dtype: object"
      ]
     },
     "execution_count": 103,
     "metadata": {},
     "output_type": "execute_result"
    }
   ],
   "source": [
    "## Returns the values from the name column in the \n",
    "## ss DataFrame as a Series\n",
    "ss.name"
   ]
  },
  {
   "cell_type": "markdown",
   "id": "b81e92ac-81fa-4a8f-a918-6632a695019b",
   "metadata": {},
   "source": [
    "### Series\n",
    "\n",
    "A `pandas` `Series` is a one-dimensional labeled array capable of holding data of any type (integer, string, float, python objects, etc.). \n",
    "\n",
    "**Source:** [Geeks for Geeks](https://www.geeksforgeeks.org/python-pandas-series/)"
   ]
  },
  {
   "cell_type": "markdown",
   "id": "bbe99992-02d5-4dc0-af75-f5085c73a98f",
   "metadata": {
    "tags": []
   },
   "source": [
    "**Example 8.** Access the `country` column from the `ss` `DataFrame` and return a `Series` type object."
   ]
  },
  {
   "cell_type": "code",
   "execution_count": 108,
   "id": "2a54dc56-4611-4b45-93cb-abef0cd5c9c4",
   "metadata": {
    "tags": []
   },
   "outputs": [
    {
     "data": {
      "text/plain": [
       "0                           UAE\n",
       "1                         China\n",
       "2                  Saudi Arabia\n",
       "3                         China\n",
       "4                   South Korea\n",
       "                 ...           \n",
       "97     United States of America\n",
       "98         United Arab Emirates\n",
       "99                        China\n",
       "100                       China\n",
       "101                       China\n",
       "Name: country, Length: 102, dtype: object"
      ]
     },
     "execution_count": 108,
     "metadata": {},
     "output_type": "execute_result"
    }
   ],
   "source": [
    "ss['country']"
   ]
  },
  {
   "cell_type": "markdown",
   "id": "e0124f35-33e4-4dba-8364-f64c82b33627",
   "metadata": {},
   "source": [
    "### `Series` Attributes and Methods\n",
    "\n",
    "**Attribute**\n",
    "\n",
    "Attributes provide metadata or properties about a Series without modifying its data.\n",
    "They are accessed without parentheses. For example,\n",
    "\n",
    "- `.index`: Returns the index labels.\n",
    "- `.shape`: Returns a tuple representing dimensions.\n",
    "- `.size`: Total number of elements.\n",
    "\n",
    "**Methods**\n",
    "\n",
    "Methods are functions that perform operations or transformations on the data.\n",
    "They are accessed with parentheses and may take arguments. For example, \n",
    "\n",
    "- `.sum()`: Computes the sum of values.\n",
    "- `.mean()`: Computes the average.\n",
    "- `.unique()`: Returns unique values.\n",
    "- `.apply()`: Applies a custom function to each element."
   ]
  },
  {
   "cell_type": "markdown",
   "id": "da0ed34c-88a3-4c88-b8d9-0ab2f766c8b9",
   "metadata": {},
   "source": [
    "### Summarize\n",
    "\n",
    "**Example 9.** Summarize the frequency of countries in the dataset using the `.value_counts()` method, which counts the occurrences of each unique country and returns a sorted list, with the most frequent values appearing first."
   ]
  },
  {
   "cell_type": "code",
   "execution_count": 135,
   "id": "6f280b17-2acc-4582-b834-55e2f0df997d",
   "metadata": {
    "tags": []
   },
   "outputs": [
    {
     "data": {
      "text/plain": [
       "China                         50\n",
       "United Arab Emirates          12\n",
       "United States of America       9\n",
       "Russia                         5\n",
       "South Korea                    3\n",
       "USA                            3\n",
       "Taiwan                         2\n",
       "United Arab Emirates (UAE)     2\n",
       "Malasya                        2\n",
       "Malaysia                       2\n",
       "Dubai                          1\n",
       "Germany                        1\n",
       "US                             1\n",
       "United Sates of America        1\n",
       "saudi Arabia                   1\n",
       "UAE                            1\n",
       "Shenzhen                       1\n",
       "Kuwait                         1\n",
       "Vietnam                        1\n",
       "New York                       1\n",
       "Saudi Arabia                   1\n",
       "Spain                          1\n",
       "Name: country, dtype: int64"
      ]
     },
     "execution_count": 135,
     "metadata": {},
     "output_type": "execute_result"
    }
   ],
   "source": [
    "## Returns the values from the country column in the \n",
    "## ss DataFrame as a Series sorted in descending order\n",
    "ss['country'].value_counts()"
   ]
  },
  {
   "cell_type": "markdown",
   "id": "2bbc8b01-e012-4443-bbb2-9127fb4f20d6",
   "metadata": {},
   "source": [
    "This code\n",
    "\n",
    "```python\n",
    "ss.country.value_counts()\n",
    "```\n",
    "\n",
    "executed without any errors, but the output is incorrect because the same country has been entered in different ways, leading to inconsistent results. For instance:\n",
    "\n",
    "- USA, US, and United States of America are listed separately, though they refer to the same country.\n",
    "\n",
    "- United Arab Emirates appears multiple times as United Arab Emirates (UAE) and UAE.\n",
    "\n",
    "- Malaysia is misspelled as Malasya.\n",
    "\n",
    "- Saudi Arabia is listed as saudi Arabia (with a lowercase \"s\")."
   ]
  },
  {
   "cell_type": "markdown",
   "id": "3c2c20d9-0224-4c64-a141-5295286aa1f3",
   "metadata": {},
   "source": [
    "**Example 10.** Access the `height_meters` column from the `ss` `DataFrame` and return a `Series` type object."
   ]
  },
  {
   "cell_type": "code",
   "execution_count": 111,
   "id": "470ccedf-2183-4087-a1be-9507d30f6d15",
   "metadata": {},
   "outputs": [
    {
     "data": {
      "text/plain": [
       "0      2,722\n",
       "1       2073\n",
       "2        601\n",
       "3      599.1\n",
       "4      554.5\n",
       "       ...  \n",
       "97     335.3\n",
       "98     335.1\n",
       "99       335\n",
       "100      335\n",
       "101    333.3\n",
       "Name: height_meters, Length: 102, dtype: object"
      ]
     },
     "execution_count": 111,
     "metadata": {},
     "output_type": "execute_result"
    }
   ],
   "source": [
    "## Returns the values from the height_meters column in the \n",
    "## ss DataFrame as a Series\n",
    "ss.height_meters"
   ]
  },
  {
   "cell_type": "markdown",
   "id": "a1507595-afd3-4ad7-a841-817cd2c6043a",
   "metadata": {
    "tags": []
   },
   "source": [
    "We want to obtain summary statistics for the heights of the buildings. However, before doing so, we need to clean the data. We expected the column `height_meters` (the column that was renamed from `height in meters`) to be numeric, but the `.info()` output indicates that it is stored as an object."
   ]
  },
  {
   "cell_type": "code",
   "execution_count": 112,
   "id": "d4d226fc-0782-4fca-8ac7-d8523fa01aa0",
   "metadata": {
    "tags": []
   },
   "outputs": [
    {
     "name": "stdout",
     "output_type": "stream",
     "text": [
      "<class 'pandas.core.frame.DataFrame'>\n",
      "RangeIndex: 102 entries, 0 to 101\n",
      "Data columns (total 21 columns):\n",
      " #   Column          Non-Null Count  Dtype  \n",
      "---  ------          --------------  -----  \n",
      " 0   name            102 non-null    object \n",
      " 1   city            100 non-null    object \n",
      " 2   country         102 non-null    object \n",
      " 3   year_started    100 non-null    object \n",
      " 4   year_completed  102 non-null    object \n",
      " 5   height_meters   102 non-null    object \n",
      " 6   height          102 non-null    object \n",
      " 7   floors          102 non-null    object \n",
      " 8   material        102 non-null    object \n",
      " 9   function        102 non-null    object \n",
      " 10  Unnamed: 11     0 non-null      float64\n",
      " 11  Unnamed: 12     0 non-null      float64\n",
      " 12  Unnamed: 13     0 non-null      float64\n",
      " 13  Unnamed: 14     0 non-null      float64\n",
      " 14  Unnamed: 15     0 non-null      float64\n",
      " 15  Unnamed: 16     0 non-null      float64\n",
      " 16  Unnamed: 17     0 non-null      float64\n",
      " 17  Unnamed: 18     0 non-null      float64\n",
      " 18  Unnamed: 19     0 non-null      float64\n",
      " 19  Unnamed: 20     0 non-null      float64\n",
      " 20  Unnamed: 21     0 non-null      float64\n",
      "dtypes: float64(11), object(10)\n",
      "memory usage: 16.9+ KB\n"
     ]
    }
   ],
   "source": [
    "ss.info()"
   ]
  },
  {
   "cell_type": "markdown",
   "id": "754e986b-8e59-4e41-951c-f5bfd35a50a9",
   "metadata": {},
   "source": [
    "#### String Methods\n",
    "\n",
    "In Python, string methods such as `.lower()`, `.upper()`, `.strip()`, and `.replace()` allow for text manipulation, including case conversion, whitespace removal, and substring replacement. \n",
    "\n",
    "In `pandas`, the `.str` accessor provides vectorized string operations for entire columns in a `DataFrame`. Methods like `.str.lower()`, `.str.contains()`, and `.str.replace()` handle text transformations, filtering, and cleaning."
   ]
  },
  {
   "cell_type": "code",
   "execution_count": 118,
   "id": "ac005c76-f8cd-470b-9b13-b25dbd1a2b31",
   "metadata": {
    "tags": []
   },
   "outputs": [
    {
     "data": {
      "text/plain": [
       "2722.0"
      ]
     },
     "execution_count": 118,
     "metadata": {},
     "output_type": "execute_result"
    }
   ],
   "source": [
    "float(ss['height_meters'][0].replace(\",\", \"\"))"
   ]
  },
  {
   "cell_type": "code",
   "execution_count": 118,
   "id": "a8b3f480",
   "metadata": {
    "tags": []
   },
   "outputs": [
    {
     "data": {
      "text/plain": [
       "2722.0"
      ]
     },
     "execution_count": 118,
     "metadata": {},
     "output_type": "execute_result"
    }
   ],
   "source": [
    "float(ss['height_meters'][0].replace(\",\", \"\"))"
   ]
  },
  {
   "cell_type": "code",
   "execution_count": 118,
   "id": "dc75ccc6",
   "metadata": {
    "tags": []
   },
   "outputs": [
    {
     "data": {
      "text/plain": [
       "2722.0"
      ]
     },
     "execution_count": 118,
     "metadata": {},
     "output_type": "execute_result"
    }
   ],
   "source": [
    "float(ss['height_meters'][0].replace(\",\", \"\"))"
   ]
  },
  {
   "cell_type": "code",
   "execution_count": 121,
   "id": "62b169fd-2fb7-4051-9429-e8fbe4d5d093",
   "metadata": {
    "tags": []
   },
   "outputs": [
    {
     "data": {
      "text/plain": [
       "0      2722.0\n",
       "1      2073.0\n",
       "2       601.0\n",
       "3       599.1\n",
       "4       554.5\n",
       "        ...  \n",
       "97      335.3\n",
       "98      335.1\n",
       "99      335.0\n",
       "100     335.0\n",
       "101     333.3\n",
       "Name: height_meters, Length: 102, dtype: float64"
      ]
     },
     "execution_count": 121,
     "metadata": {},
     "output_type": "execute_result"
    }
   ],
   "source": [
    "ss['height_meters'].str.replace(\",\", \"\", regex = True).astype(float)"
   ]
  },
  {
   "cell_type": "code",
   "execution_count": 121,
   "id": "b9ea2fe6",
   "metadata": {
    "tags": []
   },
   "outputs": [
    {
     "data": {
      "text/plain": [
       "0      2722.0\n",
       "1      2073.0\n",
       "2       601.0\n",
       "3       599.1\n",
       "4       554.5\n",
       "        ...  \n",
       "97      335.3\n",
       "98      335.1\n",
       "99      335.0\n",
       "100     335.0\n",
       "101     333.3\n",
       "Name: height_meters, Length: 102, dtype: float64"
      ]
     },
     "execution_count": 121,
     "metadata": {},
     "output_type": "execute_result"
    }
   ],
   "source": [
    "ss['height_meters'].str.replace(\",\", \"\", regex = True).astype(float)"
   ]
  },
  {
   "cell_type": "markdown",
   "id": "d4ca433e-c121-4d7d-806a-acee61bddc53",
   "metadata": {},
   "source": [
    "##### Step-by-Step Breakdown:\n",
    "\n",
    "- Select the column `height_meters` from the `DataFrame` `ss`.\n",
    "\n",
    "```python\n",
    "ss['height_meters'] \n",
    "``` \n",
    "\n",
    "- Use `pandas` `.str.replace()` method to remove commas from all values in the column.\n",
    "  \n",
    "  - `\",\"` Matches the comma\n",
    "  \n",
    "  - `\"\"` Replaces commas with an empty string (removes them).\n",
    "\n",
    "  - `regex = True` Ensures it uses regular expressions (important in newer pandas versions to avoid warnings).\n",
    "\n",
    "```python\n",
    ".str.replace(\",\", \"\", regex = True)`\n",
    "```\n",
    "\n",
    "- Converts the cleaned column (now free of commas) from a string type (object) to float for numerical operations.\n",
    "\n",
    "```python\n",
    ".astype(float)\n",
    "```"
   ]
  },
  {
   "cell_type": "markdown",
   "id": "721a6fd8-dde6-448e-aa3c-0af5265a6bfe",
   "metadata": {},
   "source": [
    "**Example 11.** Add the cleaned and converted heights to the `ss` `DataFrame` as a new column named `clean_height_meters`."
   ]
  },
  {
   "cell_type": "code",
   "execution_count": 122,
   "id": "90650e2f-6d52-47b2-a85c-da21398996da",
   "metadata": {
    "tags": []
   },
   "outputs": [],
   "source": [
    "ss['clean_height_meters'] = ss['height_meters'].str.replace(\",\", \"\", regex = True).astype(float)"
   ]
  },
  {
   "cell_type": "code",
   "execution_count": 123,
   "id": "350aafd9-ca90-495d-936c-d1a5a3b1f2be",
   "metadata": {
    "tags": []
   },
   "outputs": [
    {
     "name": "stdout",
     "output_type": "stream",
     "text": [
      "<class 'pandas.core.frame.DataFrame'>\n",
      "RangeIndex: 102 entries, 0 to 101\n",
      "Data columns (total 22 columns):\n",
      " #   Column               Non-Null Count  Dtype  \n",
      "---  ------               --------------  -----  \n",
      " 0   name                 102 non-null    object \n",
      " 1   city                 100 non-null    object \n",
      " 2   country              102 non-null    object \n",
      " 3   year_started         100 non-null    object \n",
      " 4   year_completed       102 non-null    object \n",
      " 5   height_meters        102 non-null    object \n",
      " 6   height               102 non-null    object \n",
      " 7   floors               102 non-null    object \n",
      " 8   material             102 non-null    object \n",
      " 9   function             102 non-null    object \n",
      " 10  Unnamed: 11          0 non-null      float64\n",
      " 11  Unnamed: 12          0 non-null      float64\n",
      " 12  Unnamed: 13          0 non-null      float64\n",
      " 13  Unnamed: 14          0 non-null      float64\n",
      " 14  Unnamed: 15          0 non-null      float64\n",
      " 15  Unnamed: 16          0 non-null      float64\n",
      " 16  Unnamed: 17          0 non-null      float64\n",
      " 17  Unnamed: 18          0 non-null      float64\n",
      " 18  Unnamed: 19          0 non-null      float64\n",
      " 19  Unnamed: 20          0 non-null      float64\n",
      " 20  Unnamed: 21          0 non-null      float64\n",
      " 21  clean_height_meters  102 non-null    float64\n",
      "dtypes: float64(12), object(10)\n",
      "memory usage: 17.7+ KB\n"
     ]
    }
   ],
   "source": [
    "ss.info()"
   ]
  },
  {
   "cell_type": "code",
   "execution_count": 129,
   "id": "91da4e61-074b-4131-be22-f9019560e73d",
   "metadata": {
    "tags": []
   },
   "outputs": [
    {
     "data": {
      "text/plain": [
       "count     102.000000\n",
       "mean      522.121569\n",
       "std       385.474707\n",
       "min        35.600000\n",
       "25%       349.250000\n",
       "50%       387.600000\n",
       "75%       460.675000\n",
       "max      2722.000000\n",
       "Name: clean_height_meters, dtype: float64"
      ]
     },
     "execution_count": 129,
     "metadata": {},
     "output_type": "execute_result"
    }
   ],
   "source": [
    "ss['clean_height_meters'].describe()"
   ]
  },
  {
   "cell_type": "markdown",
   "id": "77174d2e-9206-472d-b3d2-fd6ad3fbf976",
   "metadata": {},
   "source": [
    "**Example 12.** What is the average and median height (meters) for all skyscrapers in the dataset?"
   ]
  },
  {
   "cell_type": "code",
   "execution_count": 126,
   "id": "fab2000c-c4b6-4d16-b74d-e8ccf489ebce",
   "metadata": {
    "tags": []
   },
   "outputs": [
    {
     "name": "stdout",
     "output_type": "stream",
     "text": [
      "The average height in meters: 522.1\n",
      "The median height in meters: 387.6\n"
     ]
    }
   ],
   "source": [
    "## The mean (average) height (meters) of the buildings\n",
    "mean_height_meters = ss['clean_height_meters'].mean()\n",
    "\n",
    "## The median height (meters) of the buildings\n",
    "med_height_meters = ss['clean_height_meters'].median()\n",
    "\n",
    "# Print the rounded mean and median\n",
    "print(\"The average height in meters:\", round(mean_height_meters, 1))\n",
    "print(\"The median height in meters:\", round(med_height_meters, 1))"
   ]
  },
  {
   "cell_type": "markdown",
   "id": "75685d4d-d82a-4a2f-9bc9-c83aec7d42e5",
   "metadata": {},
   "source": [
    "Since a `Series` is essentially a 1-dimensional array similar to a `NumPy` `ndarray` with labels, we can can pass a `pandas` `Series` as an argument to many `NumPy` functions.\n",
    "\n",
    "Let's import `Numpy` and see!"
   ]
  },
  {
   "cell_type": "code",
   "execution_count": 124,
   "id": "4754c963-bf2d-4d75-921f-45aa35c4aa1b",
   "metadata": {
    "tags": []
   },
   "outputs": [],
   "source": [
    "import numpy as np"
   ]
  },
  {
   "cell_type": "markdown",
   "id": "2efe05c5-0c08-405d-8182-e26d4f84f334",
   "metadata": {},
   "source": [
    "**Example 13.** What is the average and median number of floors for all skyscrapers in the dataset?"
   ]
  },
  {
   "cell_type": "code",
   "execution_count": 82,
   "id": "1ddcb10f",
   "metadata": {
    "tags": []
   },
   "outputs": [
    {
     "name": "stdout",
     "output_type": "stream",
     "text": [
      "The average height in meters: 522.1\n",
      "The median height in meters: 387.6\n"
     ]
    }
   ],
   "source": [
    "## The mean (average) height (meters) of the buildings\n",
    "mean_height_meters = np.mean(ss['clean_height_meters'])\n",
    "\n",
    "## The median height (meters) of the buildings\n",
    "med_height_meters = np.median(ss['clean_height_meters'])\n",
    "\n",
    "# Print the rounded mean and median\n",
    "print(\"The average height in meters:\", round(mean_height_meters, 1))\n",
    "print(\"The median height in meters:\", round(med_height_meters, 1))"
   ]
  },
  {
   "cell_type": "markdown",
   "id": "bbdff6d4-ae25-4202-a574-3a7a2db673a2",
   "metadata": {},
   "source": [
    "#### Sort\n",
    "\n",
    "The code \n",
    "```python\n",
    "ss.sort_values(by='clean_height_meters', ascending=False)\n",
    "```\n",
    "sorts the `DataFrame` `ss` in descending order by `clean_height_meters` placing the tallest buildings first."
   ]
  },
  {
   "cell_type": "code",
   "execution_count": 132,
   "id": "de498e78",
   "metadata": {
    "tags": []
   },
   "outputs": [
    {
     "data": {
      "text/html": [
       "<div>\n",
       "<style scoped>\n",
       "    .dataframe tbody tr th:only-of-type {\n",
       "        vertical-align: middle;\n",
       "    }\n",
       "\n",
       "    .dataframe tbody tr th {\n",
       "        vertical-align: top;\n",
       "    }\n",
       "\n",
       "    .dataframe thead th {\n",
       "        text-align: right;\n",
       "    }\n",
       "</style>\n",
       "<table border=\"1\" class=\"dataframe\">\n",
       "  <thead>\n",
       "    <tr style=\"text-align: right;\">\n",
       "      <th></th>\n",
       "      <th>name</th>\n",
       "      <th>city</th>\n",
       "      <th>country</th>\n",
       "      <th>year_started</th>\n",
       "      <th>year_completed</th>\n",
       "      <th>height_meters</th>\n",
       "      <th>height</th>\n",
       "      <th>floors</th>\n",
       "      <th>material</th>\n",
       "      <th>function</th>\n",
       "      <th>...</th>\n",
       "      <th>Unnamed: 13</th>\n",
       "      <th>Unnamed: 14</th>\n",
       "      <th>Unnamed: 15</th>\n",
       "      <th>Unnamed: 16</th>\n",
       "      <th>Unnamed: 17</th>\n",
       "      <th>Unnamed: 18</th>\n",
       "      <th>Unnamed: 19</th>\n",
       "      <th>Unnamed: 20</th>\n",
       "      <th>Unnamed: 21</th>\n",
       "      <th>clean_height_meters</th>\n",
       "    </tr>\n",
       "  </thead>\n",
       "  <tbody>\n",
       "    <tr>\n",
       "      <th>0</th>\n",
       "      <td>Burj Khalifa</td>\n",
       "      <td>Dubai</td>\n",
       "      <td>UAE</td>\n",
       "      <td>2009</td>\n",
       "      <td>2010</td>\n",
       "      <td>2,722</td>\n",
       "      <td>2,722 ft</td>\n",
       "      <td>39</td>\n",
       "      <td>steel/concrete</td>\n",
       "      <td>variety</td>\n",
       "      <td>...</td>\n",
       "      <td>NaN</td>\n",
       "      <td>NaN</td>\n",
       "      <td>NaN</td>\n",
       "      <td>NaN</td>\n",
       "      <td>NaN</td>\n",
       "      <td>NaN</td>\n",
       "      <td>NaN</td>\n",
       "      <td>NaN</td>\n",
       "      <td>NaN</td>\n",
       "      <td>2722.0</td>\n",
       "    </tr>\n",
       "    <tr>\n",
       "      <th>1</th>\n",
       "      <td>Shanghai Tower</td>\n",
       "      <td>Shanghai</td>\n",
       "      <td>China</td>\n",
       "      <td>2008</td>\n",
       "      <td>2014</td>\n",
       "      <td>2073</td>\n",
       "      <td>2073 ft</td>\n",
       "      <td>128</td>\n",
       "      <td>composite</td>\n",
       "      <td>Misc, Cultural Monument</td>\n",
       "      <td>...</td>\n",
       "      <td>NaN</td>\n",
       "      <td>NaN</td>\n",
       "      <td>NaN</td>\n",
       "      <td>NaN</td>\n",
       "      <td>NaN</td>\n",
       "      <td>NaN</td>\n",
       "      <td>NaN</td>\n",
       "      <td>NaN</td>\n",
       "      <td>NaN</td>\n",
       "      <td>2073.0</td>\n",
       "    </tr>\n",
       "    <tr>\n",
       "      <th>53</th>\n",
       "      <td>Federation Tower</td>\n",
       "      <td>Moscow-City</td>\n",
       "      <td>Russia</td>\n",
       "      <td>2005</td>\n",
       "      <td>2017</td>\n",
       "      <td>1480</td>\n",
       "      <td>1480 ft</td>\n",
       "      <td>97</td>\n",
       "      <td>concrete</td>\n",
       "      <td>mix-use</td>\n",
       "      <td>...</td>\n",
       "      <td>NaN</td>\n",
       "      <td>NaN</td>\n",
       "      <td>NaN</td>\n",
       "      <td>NaN</td>\n",
       "      <td>NaN</td>\n",
       "      <td>NaN</td>\n",
       "      <td>NaN</td>\n",
       "      <td>NaN</td>\n",
       "      <td>NaN</td>\n",
       "      <td>1480.0</td>\n",
       "    </tr>\n",
       "    <tr>\n",
       "      <th>36</th>\n",
       "      <td>Guangxi China Resources Tower</td>\n",
       "      <td>Nanning, Guangxi, China</td>\n",
       "      <td>China</td>\n",
       "      <td>2014</td>\n",
       "      <td>2020</td>\n",
       "      <td>1,321</td>\n",
       "      <td>1,321 ft</td>\n",
       "      <td>87</td>\n",
       "      <td>composite</td>\n",
       "      <td>hotel/office</td>\n",
       "      <td>...</td>\n",
       "      <td>NaN</td>\n",
       "      <td>NaN</td>\n",
       "      <td>NaN</td>\n",
       "      <td>NaN</td>\n",
       "      <td>NaN</td>\n",
       "      <td>NaN</td>\n",
       "      <td>NaN</td>\n",
       "      <td>NaN</td>\n",
       "      <td>NaN</td>\n",
       "      <td>1321.0</td>\n",
       "    </tr>\n",
       "    <tr>\n",
       "      <th>37</th>\n",
       "      <td>Guiyang International Financial Center T1</td>\n",
       "      <td>Guiyang</td>\n",
       "      <td>China</td>\n",
       "      <td>2016</td>\n",
       "      <td>2020</td>\n",
       "      <td>1,316</td>\n",
       "      <td>1,316 ft</td>\n",
       "      <td>79</td>\n",
       "      <td>composite</td>\n",
       "      <td>Hotel/Office</td>\n",
       "      <td>...</td>\n",
       "      <td>NaN</td>\n",
       "      <td>NaN</td>\n",
       "      <td>NaN</td>\n",
       "      <td>NaN</td>\n",
       "      <td>NaN</td>\n",
       "      <td>NaN</td>\n",
       "      <td>NaN</td>\n",
       "      <td>NaN</td>\n",
       "      <td>NaN</td>\n",
       "      <td>1316.0</td>\n",
       "    </tr>\n",
       "    <tr>\n",
       "      <th>...</th>\n",
       "      <td>...</td>\n",
       "      <td>...</td>\n",
       "      <td>...</td>\n",
       "      <td>...</td>\n",
       "      <td>...</td>\n",
       "      <td>...</td>\n",
       "      <td>...</td>\n",
       "      <td>...</td>\n",
       "      <td>...</td>\n",
       "      <td>...</td>\n",
       "      <td>...</td>\n",
       "      <td>...</td>\n",
       "      <td>...</td>\n",
       "      <td>...</td>\n",
       "      <td>...</td>\n",
       "      <td>...</td>\n",
       "      <td>...</td>\n",
       "      <td>...</td>\n",
       "      <td>...</td>\n",
       "      <td>...</td>\n",
       "      <td>...</td>\n",
       "    </tr>\n",
       "    <tr>\n",
       "      <th>101</th>\n",
       "      <td>Shimao International Plaza</td>\n",
       "      <td>Shanghai</td>\n",
       "      <td>China</td>\n",
       "      <td>2001</td>\n",
       "      <td>2006</td>\n",
       "      <td>333.3</td>\n",
       "      <td>333.3 m (1,094 ft)</td>\n",
       "      <td>60</td>\n",
       "      <td>concrete</td>\n",
       "      <td>hotel / office / retail</td>\n",
       "      <td>...</td>\n",
       "      <td>NaN</td>\n",
       "      <td>NaN</td>\n",
       "      <td>NaN</td>\n",
       "      <td>NaN</td>\n",
       "      <td>NaN</td>\n",
       "      <td>NaN</td>\n",
       "      <td>NaN</td>\n",
       "      <td>NaN</td>\n",
       "      <td>NaN</td>\n",
       "      <td>333.3</td>\n",
       "    </tr>\n",
       "    <tr>\n",
       "      <th>45</th>\n",
       "      <td>Eton Place Dalian Tower 1</td>\n",
       "      <td>Dalian</td>\n",
       "      <td>China</td>\n",
       "      <td>2006/2009/2008 depending on the source</td>\n",
       "      <td>2016</td>\n",
       "      <td>283.2</td>\n",
       "      <td>283.2</td>\n",
       "      <td>80</td>\n",
       "      <td>composite</td>\n",
       "      <td>Hotel/Office</td>\n",
       "      <td>...</td>\n",
       "      <td>NaN</td>\n",
       "      <td>NaN</td>\n",
       "      <td>NaN</td>\n",
       "      <td>NaN</td>\n",
       "      <td>NaN</td>\n",
       "      <td>NaN</td>\n",
       "      <td>NaN</td>\n",
       "      <td>NaN</td>\n",
       "      <td>NaN</td>\n",
       "      <td>283.2</td>\n",
       "    </tr>\n",
       "    <tr>\n",
       "      <th>84</th>\n",
       "      <td>Commerzbank Tower</td>\n",
       "      <td>Frankfurt</td>\n",
       "      <td>Germany</td>\n",
       "      <td>1994</td>\n",
       "      <td>2003</td>\n",
       "      <td>256</td>\n",
       "      <td>256m / 850ft</td>\n",
       "      <td>56</td>\n",
       "      <td>steel</td>\n",
       "      <td>office</td>\n",
       "      <td>...</td>\n",
       "      <td>NaN</td>\n",
       "      <td>NaN</td>\n",
       "      <td>NaN</td>\n",
       "      <td>NaN</td>\n",
       "      <td>NaN</td>\n",
       "      <td>NaN</td>\n",
       "      <td>NaN</td>\n",
       "      <td>NaN</td>\n",
       "      <td>NaN</td>\n",
       "      <td>256.0</td>\n",
       "    </tr>\n",
       "    <tr>\n",
       "      <th>85</th>\n",
       "      <td>Torre de Cristal</td>\n",
       "      <td>Madrid</td>\n",
       "      <td>Spain</td>\n",
       "      <td>2004</td>\n",
       "      <td>2008</td>\n",
       "      <td>249</td>\n",
       "      <td>249m</td>\n",
       "      <td>50</td>\n",
       "      <td>concrete</td>\n",
       "      <td>office</td>\n",
       "      <td>...</td>\n",
       "      <td>NaN</td>\n",
       "      <td>NaN</td>\n",
       "      <td>NaN</td>\n",
       "      <td>NaN</td>\n",
       "      <td>NaN</td>\n",
       "      <td>NaN</td>\n",
       "      <td>NaN</td>\n",
       "      <td>NaN</td>\n",
       "      <td>NaN</td>\n",
       "      <td>249.0</td>\n",
       "    </tr>\n",
       "    <tr>\n",
       "      <th>71</th>\n",
       "      <td>Forum 66 Tower 1</td>\n",
       "      <td>Shenyang</td>\n",
       "      <td>China</td>\n",
       "      <td>2008</td>\n",
       "      <td>2015</td>\n",
       "      <td>35.6</td>\n",
       "      <td>35.6 m / 1,150 ft</td>\n",
       "      <td>68</td>\n",
       "      <td>composite</td>\n",
       "      <td>hotel / office</td>\n",
       "      <td>...</td>\n",
       "      <td>NaN</td>\n",
       "      <td>NaN</td>\n",
       "      <td>NaN</td>\n",
       "      <td>NaN</td>\n",
       "      <td>NaN</td>\n",
       "      <td>NaN</td>\n",
       "      <td>NaN</td>\n",
       "      <td>NaN</td>\n",
       "      <td>NaN</td>\n",
       "      <td>35.6</td>\n",
       "    </tr>\n",
       "  </tbody>\n",
       "</table>\n",
       "<p>102 rows × 22 columns</p>\n",
       "</div>"
      ],
      "text/plain": [
       "                                          name                     city  \\\n",
       "0                                 Burj Khalifa                    Dubai   \n",
       "1                               Shanghai Tower                 Shanghai   \n",
       "53                            Federation Tower              Moscow-City   \n",
       "36               Guangxi China Resources Tower  Nanning, Guangxi, China   \n",
       "37   Guiyang International Financial Center T1                  Guiyang   \n",
       "..                                         ...                      ...   \n",
       "101                 Shimao International Plaza                 Shanghai   \n",
       "45                   Eton Place Dalian Tower 1                   Dalian   \n",
       "84                           Commerzbank Tower                Frankfurt   \n",
       "85                            Torre de Cristal                   Madrid   \n",
       "71                            Forum 66 Tower 1                 Shenyang   \n",
       "\n",
       "     country                            year_started year_completed  \\\n",
       "0        UAE                                    2009           2010   \n",
       "1      China                                    2008           2014   \n",
       "53    Russia                                    2005           2017   \n",
       "36     China                                    2014           2020   \n",
       "37     China                                    2016           2020   \n",
       "..       ...                                     ...            ...   \n",
       "101    China                                    2001           2006   \n",
       "45     China  2006/2009/2008 depending on the source           2016   \n",
       "84   Germany                                    1994           2003   \n",
       "85     Spain                                    2004           2008   \n",
       "71     China                                    2008           2015   \n",
       "\n",
       "    height_meters              height floors        material  \\\n",
       "0           2,722            2,722 ft     39  steel/concrete   \n",
       "1            2073             2073 ft    128       composite   \n",
       "53           1480             1480 ft     97        concrete   \n",
       "36          1,321            1,321 ft     87       composite   \n",
       "37          1,316            1,316 ft     79       composite   \n",
       "..            ...                 ...    ...             ...   \n",
       "101         333.3  333.3 m (1,094 ft)     60        concrete   \n",
       "45          283.2               283.2     80       composite   \n",
       "84            256        256m / 850ft     56           steel   \n",
       "85            249                249m     50        concrete   \n",
       "71           35.6   35.6 m / 1,150 ft     68       composite   \n",
       "\n",
       "                    function  ...  Unnamed: 13  Unnamed: 14  Unnamed: 15  \\\n",
       "0                    variety  ...          NaN          NaN          NaN   \n",
       "1    Misc, Cultural Monument  ...          NaN          NaN          NaN   \n",
       "53                   mix-use  ...          NaN          NaN          NaN   \n",
       "36              hotel/office  ...          NaN          NaN          NaN   \n",
       "37              Hotel/Office  ...          NaN          NaN          NaN   \n",
       "..                       ...  ...          ...          ...          ...   \n",
       "101  hotel / office / retail  ...          NaN          NaN          NaN   \n",
       "45              Hotel/Office  ...          NaN          NaN          NaN   \n",
       "84                    office  ...          NaN          NaN          NaN   \n",
       "85                    office  ...          NaN          NaN          NaN   \n",
       "71            hotel / office  ...          NaN          NaN          NaN   \n",
       "\n",
       "     Unnamed: 16  Unnamed: 17  Unnamed: 18  Unnamed: 19  Unnamed: 20  \\\n",
       "0            NaN          NaN          NaN          NaN          NaN   \n",
       "1            NaN          NaN          NaN          NaN          NaN   \n",
       "53           NaN          NaN          NaN          NaN          NaN   \n",
       "36           NaN          NaN          NaN          NaN          NaN   \n",
       "37           NaN          NaN          NaN          NaN          NaN   \n",
       "..           ...          ...          ...          ...          ...   \n",
       "101          NaN          NaN          NaN          NaN          NaN   \n",
       "45           NaN          NaN          NaN          NaN          NaN   \n",
       "84           NaN          NaN          NaN          NaN          NaN   \n",
       "85           NaN          NaN          NaN          NaN          NaN   \n",
       "71           NaN          NaN          NaN          NaN          NaN   \n",
       "\n",
       "     Unnamed: 21  clean_height_meters  \n",
       "0            NaN               2722.0  \n",
       "1            NaN               2073.0  \n",
       "53           NaN               1480.0  \n",
       "36           NaN               1321.0  \n",
       "37           NaN               1316.0  \n",
       "..           ...                  ...  \n",
       "101          NaN                333.3  \n",
       "45           NaN                283.2  \n",
       "84           NaN                256.0  \n",
       "85           NaN                249.0  \n",
       "71           NaN                 35.6  \n",
       "\n",
       "[102 rows x 22 columns]"
      ]
     },
     "execution_count": 132,
     "metadata": {},
     "output_type": "execute_result"
    }
   ],
   "source": [
    "ss.sort_values(by = 'clean_height_meters', ascending = False)"
   ]
  }
 ],
 "metadata": {
  "kernelspec": {
   "display_name": "Python 3 (ipykernel)",
   "language": "python",
   "name": "python3"
  },
  "language_info": {
   "codemirror_mode": {
    "name": "ipython",
    "version": 3
   },
   "file_extension": ".py",
   "mimetype": "text/x-python",
   "name": "python",
   "nbconvert_exporter": "python",
   "pygments_lexer": "ipython3",
   "version": "3.10.11"
  }
 },
 "nbformat": 4,
 "nbformat_minor": 5
}
