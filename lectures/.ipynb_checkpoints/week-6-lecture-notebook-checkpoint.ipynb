{
 "cells": [
  {
   "cell_type": "markdown",
   "id": "7ce3cc48-6f2c-479d-b949-b0c66cfd719c",
   "metadata": {
    "tags": []
   },
   "source": [
    "## Week 6 Lecture `.ipynb` File\n",
    "\n",
    "#### Author: Mahmoud Harding"
   ]
  },
  {
   "cell_type": "markdown",
   "id": "da56a0a7-6063-4cdb-99e0-721eb1450c9e",
   "metadata": {},
   "source": [
    "## Jupyter Notebook\n",
    "\n",
    "A Jupyter Notebook is an open-source interactive computing environment that allows users to create and share documents that contain live code, equations, visualizations, and narrative text. It supports multiple programming languages, with Python being the most commonly used. Jupyter Notebooks are widely used for data analysis, scientific research, machine learning, and education because they provide a convenient way to run code, visualize results, and document findings in a single, easily shareable format.\n",
    "\n",
    "### Code Cells\n",
    "\n",
    "A code cell in a Jupyter Notebook is a section where users can write and execute programming code. When run, the code within the cell is processed, and the output (if any) is displayed directly below the cell. Code cells allow for iterative development, as users can modify and re-run cells independently without restarting the entire notebook, making them ideal for tasks like data analysis, testing algorithms, and exploring code interactively."
   ]
  },
  {
   "cell_type": "code",
   "execution_count": null,
   "id": "b1e9c0a3",
   "metadata": {
    "tags": []
   },
   "outputs": [],
   "source": [
    "\"Hello World\""
   ]
  },
  {
   "cell_type": "code",
   "execution_count": null,
   "id": "be4d44d0-f3a9-4ddb-8602-72eec9d76407",
   "metadata": {
    "tags": []
   },
   "outputs": [],
   "source": [
    "## Arithmetic\n",
    "3 + 2"
   ]
  },
  {
   "cell_type": "code",
   "execution_count": null,
   "id": "52ce79d0-7535-49da-8c05-ae47ddd031fc",
   "metadata": {
    "tags": []
   },
   "outputs": [],
   "source": [
    "## Arithmetic\n",
    "4 ** 2"
   ]
  },
  {
   "cell_type": "code",
   "execution_count": null,
   "id": "bcc23300-e02c-484c-965e-1ebffe4ca814",
   "metadata": {
    "tags": []
   },
   "outputs": [],
   "source": [
    "## 1e6 means 1 * 10^6, or 1,000,000\n",
    "1e6"
   ]
  },
  {
   "cell_type": "code",
   "execution_count": null,
   "id": "eb22c283-74f9-46d7-acbc-6fe32ddfbe5a",
   "metadata": {
    "tags": []
   },
   "outputs": [],
   "source": [
    "\"Hello World\"\n",
    "4 ** 2\n",
    "1e6"
   ]
  },
  {
   "cell_type": "markdown",
   "id": "9916d094-e397-495c-b3f8-78316a62f903",
   "metadata": {},
   "source": [
    "The first line (`4 ** 2`) calculates $4^2 = 16$, but it is not displayed because it is not the last line of the cell. The second line (`1e6`), which represents 1,000,000, is the last line, so only this result is shown in the output: 1000000.0.\n",
    "\n",
    "If you want to display both values, you would need to use `print()` statements for each calculation:"
   ]
  },
  {
   "cell_type": "code",
   "execution_count": null,
   "id": "f64a3be2-2ba8-4302-b945-0b9ee6b31145",
   "metadata": {
    "tags": []
   },
   "outputs": [],
   "source": [
    "print(\"Hello World\")\n",
    "print(4 ** 2)\n",
    "print(1e6)"
   ]
  },
  {
   "cell_type": "markdown",
   "id": "163cb1e9-a5a1-42ff-b2bb-66951a5aecd5",
   "metadata": {},
   "source": [
    "### Markdown (Text) Cells\n",
    "\n",
    "Markdown cells in a Jupyter Notebook allow users to add formatted text, explanations, images, equations, and more, making the notebook easier to read and understand. These cells support Markdown syntax, enabling the use of headings, lists, links, bold and italic text, and even LaTeX for mathematical expressions. Markdown cells are useful for adding context to code, documenting workflows, and creating a narrative alongside the code and its outputs, helping make notebooks more informative and presentable.\n",
    "\n",
    "Click **[here](https://www.markdownguide.org/basic-syntax/)** to view a Basic Syntac | Markdown Guide."
   ]
  },
  {
   "cell_type": "markdown",
   "id": "0b2439d1-4a3e-4863-ba73-0f7b39415769",
   "metadata": {},
   "source": [
    "## Assignment Statements\n",
    "\n",
    "In Python, an assignment statement is used to assign a value to a variable using the equal sign (`=`). For example, `x = 5` assigns the value `5` to the variable `x`. Python assignment statements always use `=` for assignment, regardless of data types (integers, strings, etc.).\n",
    "\n",
    "In contrast, R uses a different syntax for assignment. While you can use `=` in R, the preferred operator is the left arrow (`<-`). For example, `x <- 5` is the standard way to assign the value `5` to `x` in R.\n",
    "\n",
    "Thus, the key difference is that Python uses `=` exclusively for assignment, while R commonly uses `<-` for the same purpose."
   ]
  },
  {
   "cell_type": "code",
   "execution_count": null,
   "id": "ca932f8a-846b-4f8b-bd5a-02e08eecc96e",
   "metadata": {
    "tags": []
   },
   "outputs": [],
   "source": [
    "## Assignment statement\n",
    "x = 5"
   ]
  },
  {
   "cell_type": "code",
   "execution_count": null,
   "id": "c0e08596-e07c-4f0e-9f07-b89423f98c8d",
   "metadata": {
    "tags": []
   },
   "outputs": [],
   "source": [
    "## Display the value of x\n",
    "x"
   ]
  },
  {
   "cell_type": "code",
   "execution_count": null,
   "id": "b07a626d-fab5-4da7-8de1-95cf6e0ed80a",
   "metadata": {
    "tags": []
   },
   "outputs": [],
   "source": [
    "## Print the value of x\n",
    "print(x)"
   ]
  },
  {
   "cell_type": "markdown",
   "id": "9ad1fc69-5ffc-4586-8854-97d13d8e5b94",
   "metadata": {
    "tags": []
   },
   "source": [
    "## Data Types\n",
    "\n",
    "In Python, the basic data types `int`, `float`, and `boolean` are used to represent numbers and logical values:\n",
    "\n",
    "- **int**: Represents whole numbers, such as `5` or `-3`.\n",
    "\n",
    "- **float**: Represents decimal numbers, such as `3.14` or `0.001`.\n",
    "\n",
    "- **Boolean**: Represents logical values, either `True` or `False`.\n",
    "\n",
    "These data types work similarly in R:\n",
    "\n",
    "- **int**: R also uses `int` for whole numbers, though R automatically assigns `numeric` (float) for numbers unless specified otherwise.\n",
    "\n",
    "- **float**: In R, `numeric` represents both integers and floating-point numbers, so R doesn’t have a distinct `float` type like Python.\n",
    "\n",
    "- **Boolean**: Logical values in R are represented by `TRUE` or `FALSE`, which are equivalent to Python’s `True` and `False`."
   ]
  },
  {
   "cell_type": "code",
   "execution_count": null,
   "id": "56e5c834-fce9-4f02-9d65-11ff9966c3d2",
   "metadata": {
    "tags": []
   },
   "outputs": [],
   "source": [
    "## Assigning an integer value to the variable 'my_int'\n",
    "my_int = 5\n",
    "\n",
    "## Assigning a float value to the variable 'my_float'\n",
    "my_float = 5.0\n",
    "\n",
    "## Assigning a boolean value to the variable 'my_bool'\n",
    "my_bool = True\n",
    "\n",
    "## The type() function returns the data type of the variable\n",
    "print(\"The data type for the variable my_int is\", type(my_int), \".\")\n",
    "print(\"The data type for the variable my_float is\", type(my_float), \".\")\n",
    "print(\"The data type for the variable my_bool is\", type(my_bool), \".\")"
   ]
  },
  {
   "cell_type": "markdown",
   "id": "9d8f3b9a-0fb4-44fd-bcce-88f53943892a",
   "metadata": {},
   "source": [
    "## Data Strutures\n",
    "\n",
    "In Python, lists, tuples, and dictionaries are common data structures used to store and organize data:\n",
    "\n",
    "- **List**: A list is an ordered, mutable collection of items. Lists are created using square brackets `[]`, and you can add, remove, or modify elements. Lists can contain different data types.\n",
    "\n",
    "  ```python\n",
    "  my_list = [1, 2, 3, \"apple\"]\n",
    "  ```\n",
    "<br>\n",
    "\n",
    "- **Tuple**: A tuple is similar to a list but is immutable, meaning its elements cannot be changed after creation. Tuples are created using parentheses `()`. They are useful when you want to ensure the data remains unchanged.\n",
    "\n",
    "  ```python\n",
    "  my_tuple = (1, 2, 3, \"apple\")\n",
    "  ```\n",
    "<br>\n",
    "\n",
    "- **Dictionary**: A dictionary is a collection of key-value pairs. It is unordered, and keys must be unique. Dictionaries are created using curly braces `{}`. They allow quick lookups of values based on their keys.\n",
    "\n",
    "  ```python\n",
    "  my_dict = {\"name\": \"Alice\", \"age\": 25}\n",
    "  ```\n",
    "<br>\n",
    "Each of these data structures serves different purposes depending on the need for mutability, order, or the relationship between keys and values."
   ]
  },
  {
   "cell_type": "code",
   "execution_count": null,
   "id": "014b4df6-1abe-4630-86db-b5ffab6c80f1",
   "metadata": {
    "tags": []
   },
   "outputs": [],
   "source": [
    "## Creating a list that contains both integers and a string\n",
    "my_list = [1, 2, 3, \"apple\"]"
   ]
  },
  {
   "cell_type": "code",
   "execution_count": null,
   "id": "dd0955b0-5440-4953-84c1-b50beaf7d709",
   "metadata": {
    "tags": []
   },
   "outputs": [],
   "source": [
    "## Creating a tuple that contains both integers and a string\n",
    "my_tuple = (10, 20, 30, \"pear\")"
   ]
  },
  {
   "cell_type": "code",
   "execution_count": null,
   "id": "13e5e5ca-391c-4eba-9494-e2288511fbf6",
   "metadata": {
    "tags": []
   },
   "outputs": [],
   "source": [
    "## Creating a dictionary with key-value pairs: \n",
    "## name (string) and age (integer)\n",
    "my_dict = {\"name\": \"Alice\", \n",
    "           \"age\": 25}"
   ]
  },
  {
   "cell_type": "markdown",
   "id": "6d031938-bb9f-46d3-9fc9-961f76520061",
   "metadata": {},
   "source": [
    "### Indexng and Slicing\n",
    "\n",
    "You can access elements in both a list and a tuple by their index, starting from 0 for the first element. Additionally, you can use negative indexing to access elements from the end of the list or tuple, where `-1` refers to the last element.\n",
    "\n",
    "#### Indexing\n",
    "\n",
    "Used to extract specific values."
   ]
  },
  {
   "cell_type": "code",
   "execution_count": null,
   "id": "d0a5ae02-b453-40d3-afb6-fefedff797ca",
   "metadata": {
    "tags": []
   },
   "outputs": [],
   "source": [
    "## Access the first element (index 0)\n",
    "## Output: 1\n",
    "print(\"This is the first element in the list:\", my_list[0])"
   ]
  },
  {
   "cell_type": "code",
   "execution_count": null,
   "id": "2fc903d7-08aa-469b-acad-29d6e2162c45",
   "metadata": {
    "tags": []
   },
   "outputs": [],
   "source": [
    "## Access the last element (index -1)\n",
    "## # Output: apple\n",
    "print(\"This is the last element in the list:\", my_list[-1])"
   ]
  },
  {
   "cell_type": "code",
   "execution_count": null,
   "id": "53f351ff-a18c-451c-bcef-2df1801decd6",
   "metadata": {
    "tags": []
   },
   "outputs": [],
   "source": [
    "## Access the first element (index 0)\n",
    "## Output: 10\n",
    "print(\"This is the first element in the tuple:\", my_tuple[0])"
   ]
  },
  {
   "cell_type": "code",
   "execution_count": null,
   "id": "9db23c99-ed52-4403-aea4-704f9b192485",
   "metadata": {
    "tags": []
   },
   "outputs": [],
   "source": [
    "## Access the last element (index -1)\n",
    "## Output: pear\n",
    "print(\"This is the last element in the tuple:\", my_tuple[-1])"
   ]
  },
  {
   "cell_type": "markdown",
   "id": "5778c757-fc23-4811-b919-8a10c8cd9543",
   "metadata": {},
   "source": [
    "#### Slicing\n",
    "\n",
    "Used to extract subsets."
   ]
  },
  {
   "cell_type": "code",
   "execution_count": null,
   "id": "6e461d6d-81c7-4cce-a14b-a15908422c26",
   "metadata": {
    "tags": []
   },
   "outputs": [],
   "source": [
    "## Extracts a sublist from index 1 (inclusive) \n",
    "## to index 3 (exclusive)\n",
    "my_list[1:3]"
   ]
  },
  {
   "cell_type": "code",
   "execution_count": null,
   "id": "2dadf3bb-2823-4478-9830-fea051e06115",
   "metadata": {
    "tags": []
   },
   "outputs": [],
   "source": [
    "## Extracts all elements from index 2 to the end of the list\n",
    "my_list[2:]"
   ]
  },
  {
   "cell_type": "code",
   "execution_count": null,
   "id": "393a1849-4774-4fe2-88b8-519bab11eb56",
   "metadata": {
    "tags": []
   },
   "outputs": [],
   "source": [
    "## Extracts all elements from the start of the list up to \n",
    "## (but not including) index 2\n",
    "my_list[:2]"
   ]
  },
  {
   "cell_type": "markdown",
   "id": "b3cbeab9-a417-41fe-89e1-7bb45e04e66d",
   "metadata": {
    "tags": []
   },
   "source": [
    "#### Dictionaries\n",
    "\n",
    "Dictionaries store data as key-value pairs, and you access values by their keys, not by index."
   ]
  },
  {
   "cell_type": "code",
   "execution_count": null,
   "id": "9c392789-816f-402e-ad05-377e5182709a",
   "metadata": {
    "tags": []
   },
   "outputs": [],
   "source": [
    "my_dict"
   ]
  },
  {
   "cell_type": "code",
   "execution_count": null,
   "id": "1dc6da65-c2bc-4f9b-a414-fe95ea17d615",
   "metadata": {
    "tags": []
   },
   "outputs": [],
   "source": [
    "## Access the value associated with the key name\n",
    "## Output: Alice\n",
    "print(\"The value associated with the key 'name' is\", my_dict[\"name\"])  \n",
    "\n",
    "## Access the value associated with the key age\n",
    "## # Output: 25\n",
    "print(\"The value associated with the key 'age' is\", my_dict[\"age\"])"
   ]
  },
  {
   "cell_type": "markdown",
   "id": "258f143b-e28b-4c81-b809-0d6696dea588",
   "metadata": {},
   "source": [
    "The `.keys()` method retrieves all the keys from the dictionary `my_dict`, allowing you to access them without their associated values. This can be useful when you need to iterate over or manipulate the keys separately. Since `.keys()` returns a view object, it dynamically reflects any changes made to the dictionary.\n",
    "\n",
    "**Note:** A dynamic view object is a special way of looking at a dictionary's data in Python. It updates automatically whenever the dictionary changes."
   ]
  },
  {
   "cell_type": "code",
   "execution_count": null,
   "id": "e049cc53-fdbb-4846-9271-12a7c62ccf4d",
   "metadata": {
    "tags": []
   },
   "outputs": [],
   "source": [
    "my_dict.keys()"
   ]
  },
  {
   "cell_type": "code",
   "execution_count": null,
   "id": "b72efa5c-c48f-4a7c-816a-97a516a9bf7e",
   "metadata": {
    "tags": []
   },
   "outputs": [],
   "source": [
    "## Looping through each key in the dictionary my_dict\n",
    "for key in my_dict.keys():\n",
    "    \n",
    "    ## Print the current key\n",
    "    print(key)"
   ]
  },
  {
   "cell_type": "markdown",
   "id": "c6007157-1bf5-4034-8178-6627f829673c",
   "metadata": {},
   "source": [
    "The `.values()` method retrieves all the values from the dictionary `my_dict`, allowing you to access them without their corresponding keys. It returns a dynamic view object that reflects any changes made to the dictionary. This is useful when you need to iterate over or manipulate the values independently.\n",
    "\n",
    "**Note:** A dynamic view object is a special way of looking at a dictionary's data in Python. It updates automatically whenever the dictionary changes."
   ]
  },
  {
   "cell_type": "code",
   "execution_count": null,
   "id": "7f1d180a-8a1d-4d76-92c7-a6357c4bf4da",
   "metadata": {
    "tags": []
   },
   "outputs": [],
   "source": [
    "my_dict.values()"
   ]
  },
  {
   "cell_type": "code",
   "execution_count": null,
   "id": "468b0a4c-6852-4362-815a-18e26f5cfb07",
   "metadata": {
    "tags": []
   },
   "outputs": [],
   "source": [
    "## Looping through each value in the dictionary my_dict\n",
    "for value in my_dict.values():\n",
    "    \n",
    "    ## Print the current key\n",
    "    print(value)"
   ]
  },
  {
   "cell_type": "markdown",
   "id": "d77e5980-15af-4ed0-8f7d-cc718de1273f",
   "metadata": {},
   "source": [
    "The `items()` method gives us both the key and its corresponding value at the same time. Inside the `for` loop, we use the `print()` function to display the key and the value together in the format \n",
    "\n",
    "```python\n",
    "\"key: value\"\n",
    "```\n",
    "\n",
    "This is a useful way to see both the key and its value from a dictionary, instead of just one or the other."
   ]
  },
  {
   "cell_type": "code",
   "execution_count": null,
   "id": "ee79b79d-3f66-43c4-9dc7-e203f7938f48",
   "metadata": {
    "tags": []
   },
   "outputs": [],
   "source": [
    "my_dict.items()"
   ]
  },
  {
   "cell_type": "code",
   "execution_count": null,
   "id": "8629ffc3-3c7e-4ea6-92d5-3985a7696fd0",
   "metadata": {
    "tags": []
   },
   "outputs": [],
   "source": [
    "## Looping through each key-value pair\n",
    "## in the dictionary 'my_dict'\n",
    "for key, value in my_dict.items():\n",
    "    \n",
    "    ## Print the current key-value pair\n",
    "    print(key, \":\", value)"
   ]
  },
  {
   "cell_type": "markdown",
   "id": "cddbe710-def9-422c-857a-468bb0af4805",
   "metadata": {},
   "source": [
    "### Other List Operations\n",
    "\n",
    "#### Membership"
   ]
  },
  {
   "cell_type": "code",
   "execution_count": null,
   "id": "b4d29a7a-7b23-4619-955f-2d4332d1df77",
   "metadata": {
    "tags": []
   },
   "outputs": [],
   "source": [
    "3 in [1, 2, 3]"
   ]
  },
  {
   "cell_type": "markdown",
   "id": "a17167cb-4af4-4596-a315-622131773125",
   "metadata": {},
   "source": [
    "#### Concatenation "
   ]
  },
  {
   "cell_type": "code",
   "execution_count": null,
   "id": "b20a6f17-6515-4e8f-b255-947a8b30b1a0",
   "metadata": {
    "tags": []
   },
   "outputs": [],
   "source": [
    "[1, 2, 3] + 2"
   ]
  },
  {
   "cell_type": "code",
   "execution_count": null,
   "id": "a166bf88-e50b-4867-974d-eff87901b375",
   "metadata": {
    "tags": []
   },
   "outputs": [],
   "source": [
    "[1, 2, 3] + [4, 5, 6]"
   ]
  },
  {
   "cell_type": "markdown",
   "id": "d0fc34ab-8d9c-4ad3-bea5-5d647c6b6636",
   "metadata": {},
   "source": [
    "#### Repetition"
   ]
  },
  {
   "cell_type": "code",
   "execution_count": null,
   "id": "0905f095-acad-4c4c-b784-c578c4b552c2",
   "metadata": {
    "tags": []
   },
   "outputs": [],
   "source": [
    "[1, 2, 3] * 2"
   ]
  },
  {
   "cell_type": "markdown",
   "id": "258a4449-4e26-4742-bf78-5209a32cd5ff",
   "metadata": {},
   "source": [
    "## Vectorized Operations\n",
    "\n",
    "### NumPy\n",
    "\n",
    "#### What is `NumPy`?\n",
    "\n",
    "- `NumPy` is a Python library used for working with arrays.\n",
    "\n",
    "- It also has functions for working in domain of linear algebra, fourier transform, and matrices.\n",
    "\n",
    "- `NumPy` was created in 2005 by Travis Oliphant. It is an open source project and you can use it freely.\n",
    "\n",
    "- `NumPy` stands for Numerical Python.\n",
    "\n",
    "#### Why Use `NumPy`?\n",
    "\n",
    "- In Python we have lists that serve the purpose of arrays, but they are slow to process.\n",
    "\n",
    "- `NumPy` aims to provide an array object that is up to 50x faster than traditional Python lists.\n",
    "\n",
    "- The array object in `NumPy` is called `ndarray`, it provides a lot of supporting functions that make working with `ndarray` very easy.\n",
    "\n",
    "Arrays are very frequently used in data science, where speed and resources are very important.\n",
    "\n",
    "**Source:** [W3Schools](https://www.w3schools.com/python/numpy/numpy_intro.asp)\n",
    "\n",
    "We need to import `NumPy` because it doesn't come pre-installed with Python by default. While Python provides built-in data structures like lists, `NumPy` offers more specialized, efficient tools for numerical and scientific computing. To access these features, you must explicitly install and import the `NumPy` library."
   ]
  },
  {
   "cell_type": "code",
   "execution_count": 1,
   "id": "673ab812-e509-4faa-b032-0b6cab88a9f4",
   "metadata": {
    "tags": []
   },
   "outputs": [],
   "source": [
    "## Import the NumPy library and give it the alias np for \n",
    "## easier reference.\n",
    "## If you don't use the alias, you would need to type numpy \n",
    "## each time you call a NumPy function.\n",
    "## For example, without the alias, you'd write numpy.array()\n",
    "## instead of np.array().\n"
   ]
  },
  {
   "cell_type": "code",
   "execution_count": null,
   "id": "6413822f-fb4a-4e16-831a-926ac10077fa",
   "metadata": {
    "tags": []
   },
   "outputs": [],
   "source": [
    "one_to_ten = [1, 2, 3, 4, 5, 6, 7, 8, 9, 10]\n",
    "one_to_ten"
   ]
  },
  {
   "cell_type": "markdown",
   "id": "2353e331-82e2-453e-af20-141ff97d54fd",
   "metadata": {},
   "source": [
    "We can create a `Numpy` array using the `np.array` command and using a list as the function parameter. We can enter the list manually, or we can enter the name of a list that has already been defined.\n",
    "\n",
    "To create a`NumPy` array, use the `np.array()` function, which converts a list of numbers (e.g., 1 to 10) into a structured array. Unlike Python lists, `NumPy` arrays support vectorized operations and array-specific methods for computation and data manipulation."
   ]
  },
  {
   "cell_type": "code",
   "execution_count": null,
   "id": "41219eb9-2f12-4f08-a8c5-2c8418626fbb",
   "metadata": {
    "tags": []
   },
   "outputs": [],
   "source": [
    "## Creating a NumPy array from a list of numbers (1 to 10)\n",
    "np.array([1, 2, 3, 4, 5, 6, 7, 8, 9, 10])"
   ]
  },
  {
   "cell_type": "code",
   "execution_count": null,
   "id": "40e9ffc5-dfe8-4468-a16b-9a51dfc29184",
   "metadata": {
    "tags": []
   },
   "outputs": [],
   "source": [
    "np.array(one_to_ten)"
   ]
  },
  {
   "cell_type": "markdown",
   "id": "8a6720fa-b1de-47b6-a722-1143a401b3f0",
   "metadata": {},
   "source": [
    "Now we can perform artihmetic operations on each item in the array.\n",
    "\n",
    "Run the code cell below. What do you notice?"
   ]
  },
  {
   "cell_type": "code",
   "execution_count": null,
   "id": "6ebe2674-5b2f-40cc-8923-e9296c2c6658",
   "metadata": {
    "tags": []
   },
   "outputs": [],
   "source": [
    "np.array(one_to_ten) + 2"
   ]
  },
  {
   "cell_type": "markdown",
   "id": "7ea67dcc-acf2-4c88-a74c-ec68faa7fa46",
   "metadata": {},
   "source": [
    "Run the code cell below. What do you notice?"
   ]
  },
  {
   "cell_type": "code",
   "execution_count": null,
   "id": "51e02acf-ffeb-433a-9340-76b3683ebcf6",
   "metadata": {},
   "outputs": [],
   "source": [
    "np.array(one_to_ten) * 2"
   ]
  },
  {
   "cell_type": "markdown",
   "id": "e86ff75d-a288-4e72-9473-77ae099cf044",
   "metadata": {
    "tags": []
   },
   "source": [
    "#### Basic `NumPy` Methods"
   ]
  },
  {
   "cell_type": "code",
   "execution_count": null,
   "id": "f68339d7-97ce-447a-b9e4-9cb95fd570ef",
   "metadata": {
    "tags": []
   },
   "outputs": [],
   "source": [
    "## Convert the 'one_to_ten' list into a NumPy array and store it in the variable arr.\n",
    "arr = np.array(one_to_ten)\n",
    "\n",
    "## Print the array and a message indicating that we are about to calculate the square of each element.\n",
    "## Use np.square() to compute the square of each element in the array and print the result.\n",
    "print(\"The square of each element in the array: \", arr)\n",
    "print(np.square(arr))\n",
    "\n",
    "## Print a newline for better formatting.\n",
    "print(\"\\n\")\n",
    "\n",
    "## Print the array and a message indicating that we are about to calculate the square root of each element.\n",
    "## Use np.sqrt() to compute the square root of each element in the array and print the result.\n",
    "print(\"The square root of each element in the array: \", arr)\n",
    "print(np.sqrt(arr))\n",
    "\n",
    "## Print a newline for better formatting.\n",
    "print(\"\\n\")\n",
    "\n",
    "## Print the array and a message indicating that we are about to calculate the natural logarithm of each element.\n",
    "## Use np.log() to compute the natural log of each element in the array and print the result.\n",
    "print(\"The natural log of each element in the array: \", arr)\n",
    "print(np.log(arr))"
   ]
  },
  {
   "cell_type": "markdown",
   "id": "7ac2b8ff-9402-4e36-b9b9-2749aea936ad",
   "metadata": {},
   "source": [
    "## Wolrd Population\n",
    "\n",
    "The `world_population.csv` dataset contains the world population estimates from 1950-2024. \n",
    "\n",
    "**Example 1.** Load the `world_population.csv` file (located in the data directory) into a 1-dimensional NumPy array using the `loadtxt()` function from the `NumPy` module.\n",
    "\n",
    "Remember, to use functions from the `NumPy` module, we must reference the alias that was set up during the import statement.\n",
    "\n",
    "**Note:** Replace the ellipses (`...`) with your code."
   ]
  },
  {
   "cell_type": "code",
   "execution_count": null,
   "id": "785e96eb-1fb1-4761-a63d-b9280b53fb80",
   "metadata": {},
   "outputs": [],
   "source": [
    "wp = ..."
   ]
  },
  {
   "cell_type": "markdown",
   "id": "c669c30c-547a-477e-b9ac-055af9765bcf",
   "metadata": {},
   "source": [
    "Let’s examine the first 10 observations. We can access elements in a `NumPy` array using bracket notation `[ ]`, just like how we access elements in an R vector.\n",
    "\n",
    "**Example 2.** Use a `for` loop to print the year and its corresponding population from the `wp` array."
   ]
  },
  {
   "cell_type": "code",
   "execution_count": null,
   "id": "4406c04d-174a-4899-bbcb-370cecf8175c",
   "metadata": {},
   "outputs": [],
   "source": [
    "## Initialize the variable 'year' with the starting value of 1950.\n",
    "year = 1950 \n",
    "\n",
    "## Loop through the first 10 indices (i.e., the first 10 years) \n",
    "## using the range() sequence.\n",
    "for i in range(10):\n",
    "    ## For each iteration, print the year (starting from 1950) \n",
    "    ## and the corresponding population value from 'wp' array.\n",
    "    ## The \"\\t\" adds a tab space between the year and the population\n",
    "    ## value for better formatting.\n",
    "    print(year + i, \"\\t\", wp[i])"
   ]
  },
  {
   "cell_type": "markdown",
   "id": "9f9fb587-71f7-440a-ae2a-7fad0c7afff8",
   "metadata": {},
   "source": [
    "**Note:** Although `range()` behaves similarly to a function when used in loops or for generating numbers, it actually returns a range object, which is a special sequence type rather than a list or tuple. For example,\n",
    "\n",
    "```python\n",
    "range(start, stop, step)\n",
    "```\n",
    "\n",
    "generates a sequence of numbers based on the specified parameters.\n",
    "It does not return a list but instead returns a range object that produces numbers on demand.\n",
    "\n",
    "Run the cell below."
   ]
  },
  {
   "cell_type": "code",
   "execution_count": null,
   "id": "1dccecfa-ecfe-48fb-8b61-50ad4db32a7e",
   "metadata": {},
   "outputs": [],
   "source": [
    "for i in range(5):\n",
    "    print(i)"
   ]
  },
  {
   "cell_type": "code",
   "execution_count": 5,
   "id": "ff4488c1-2192-4606-8300-5863ef9af83f",
   "metadata": {
    "tags": []
   },
   "outputs": [
    {
     "name": "stdout",
     "output_type": "stream",
     "text": [
      "Three - that's the magic number.\n",
      "3\n",
      "6\n",
      "9\n",
      "12\n",
      "15\n",
      "18\n",
      "21\n",
      "24\n",
      "27\n",
      "30\n"
     ]
    }
   ],
   "source": [
    "print(\"Three - that's the magic number.\")\n",
    "for i in range(3, 33, 3):\n",
    "    print(i)"
   ]
  },
  {
   "cell_type": "markdown",
   "id": "3b1c990b-2db2-4900-912c-35c529fa93ce",
   "metadata": {},
   "source": [
    "**Example 3.** Repeat the code from **Example 3.**, but modify it to display the last 10 years in the `wp` dataset.\n",
    "\n",
    "**Note:** Replace the ellipses (`...`) with your code."
   ]
  },
  {
   "cell_type": "code",
   "execution_count": null,
   "id": "cbfa0c12-1ebc-4661-9141-cfc310e4e666",
   "metadata": {},
   "outputs": [],
   "source": [
    "..."
   ]
  },
  {
   "cell_type": "markdown",
   "id": "ea14a3bf-3682-461b-9bb5-3ac876891f6b",
   "metadata": {},
   "source": [
    "**Example 4.** Using programming, calculate the population difference between the first and last year in the dataset.\n",
    "\n",
    "**Note:** Replace the ellipses (`...`) with your code."
   ]
  },
  {
   "cell_type": "code",
   "execution_count": null,
   "id": "6ad0ed6c-a983-4cc7-8336-1412f47f25c2",
   "metadata": {},
   "outputs": [],
   "source": [
    "..."
   ]
  },
  {
   "cell_type": "markdown",
   "id": "a275f391-b56f-4ab7-9700-727b149f5365",
   "metadata": {},
   "source": [
    "`NumPy` offers many built-in functions for processing data in both single and multi-dimensional arrays.\n",
    "\n",
    "If we wanted to calculate the difference in population between successive years, you might initially think to write a for loop like this:\n",
    "\n",
    "```python\n",
    "for i in range(len(wp) - 1):\n",
    "    print(wp[i+1] - wp[i])\n",
    "```\n",
    "Run the code cell below to see how it works."
   ]
  },
  {
   "cell_type": "code",
   "execution_count": null,
   "id": "659e7d7d-334d-4db3-9946-735069ca3fbb",
   "metadata": {},
   "outputs": [],
   "source": [
    "## Determine the number of years in the dataset, \n",
    "## subtracting 1 to avoid an out-of-bounds error\n",
    "n = len(wp) - 1\n",
    "\n",
    "## Loop through the years, stopping one year before the last\n",
    "for i in range(n):\n",
    "    \n",
    "    ## Calculate the difference between consecutive \n",
    "    ## population values\n",
    "    pop_diff = wp[i+1] - wp[i]\n",
    "    \n",
    "    ## Only print the first 10 differences\n",
    "    if i < 10:\n",
    "        print(pop_diff)"
   ]
  },
  {
   "cell_type": "markdown",
   "id": "28c82627-a597-40db-90a7-3089368a95c9",
   "metadata": {},
   "source": [
    "However, `NumPy` provides a built-in function, `np.diff()`, that efficiently calculates the differences between consecutive elements in an array and returns a new array with the results. In contrast, the manual approach (shown above) requires first initializing an empty `NumPy` array and then iterating through the data to compute and store each difference individually.\n",
    "\n",
    "Run the cell below."
   ]
  },
  {
   "cell_type": "code",
   "execution_count": null,
   "id": "5fa465e4-137e-4b70-9cf1-473ab0bc5d5e",
   "metadata": {},
   "outputs": [],
   "source": [
    "np.diff(wp)"
   ]
  },
  {
   "cell_type": "markdown",
   "id": "4fb68630-d4a3-4b8f-bf32-2625db8ce2de",
   "metadata": {},
   "source": [
    "In general, it's better to use a function or method instead of a `for` loop when available, as it is often more efficient and concise."
   ]
  },
  {
   "cell_type": "code",
   "execution_count": null,
   "id": "7d72929d-46ba-4ac2-a92f-012be07177ec",
   "metadata": {},
   "outputs": [],
   "source": []
  }
 ],
 "metadata": {
  "kernelspec": {
   "display_name": "Python 3 (ipykernel)",
   "language": "python",
   "name": "python3"
  },
  "language_info": {
   "codemirror_mode": {
    "name": "ipython",
    "version": 3
   },
   "file_extension": ".py",
   "mimetype": "text/x-python",
   "name": "python",
   "nbconvert_exporter": "python",
   "pygments_lexer": "ipython3",
   "version": "3.10.11"
  }
 },
 "nbformat": 4,
 "nbformat_minor": 5
}
