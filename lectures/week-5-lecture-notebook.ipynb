{
 "cells": [
  {
   "cell_type": "markdown",
   "id": "ea2d0ad5-51ab-439c-8775-f99c355c93c7",
   "metadata": {},
   "source": [
    "# Week 5 Lecture Notebook"
   ]
  },
  {
   "cell_type": "markdown",
   "id": "8a9ff8dc-c241-420c-9706-3f78268fdb35",
   "metadata": {},
   "source": [
    "## R in a Jupyter Notebook\n",
    "\n",
    "We can run `R` in a Jupyter Notebook using an `R` kernel. Jupyter Notebooks support multiple programming languages, and `R` is one of them. If you look in the upper right corner of this window you'll see an `R`. \n",
    "\n",
    "### What is a Jupyter Notebook\n",
    "\n",
    "A Jupyter Notebook is a digital document where you can write and execute code, visualize results, and include explanatory text. It allows you to combine programming code, equations, visualizations, and narrative text in a single interactive environment. Think of it as a versatile tool for interactive computing and data analysis, commonly used in programming and data science.\n",
    "\n",
    "### The Kernel\n",
    "\n",
    "In the context of a Jupyter Notebook, a kernel is a computational engine that executes the code contained in a notebook document. It is responsible for running the code written in the notebook cells and producing the output. Each notebook is associated with a specific kernel."
   ]
  },
  {
   "cell_type": "markdown",
   "id": "b3e9d355-f119-44b5-b0d0-e94dbdf31689",
   "metadata": {},
   "source": [
    "## The Basics\n",
    "\n",
    "This webpage is called a Jupyter notebook. A notebook is a place to write programs and view their results. We can also to write and format text using markdown.\n",
    "\n",
    "As for working in notebooks, there are two types of cells (each rectangle containing text or code is called a **cell**): \n",
    "\n",
    " - **code** cells that hold executable code.\n",
    " \n",
    " - **markdown** cells that hold a special kind of text that follows the markdown syntax. To get familiar with the markdown syntax, take a look at this [Markdown Gudie](https://www.markdownguide.org/basic-syntax/). Markdown cells are sometime referred to as *text* cells. In the text cell below enter your name, section, and the date. Markdown cells (like this one) can be edited by double-clicking on them. After you edit a markdown cell, click the \"Run cell\" button at the top that looks like ▶| or hold down `Shift` + `Return` to confirm any changes. "
   ]
  },
  {
   "cell_type": "markdown",
   "id": "604b97d8-74ce-4a46-8023-5b9130b83200",
   "metadata": {},
   "source": [
    "## Visualizing Data\n",
    "\n",
    "The `ggplot2` package is a popular data visualization package in the R programming language. Developed by Hadley Wickham, it is based on the principles of the Grammar of Graphics. `ggplot2` provides a high-level interface for creating complex and customized plots with a simple syntax. It allows users to build graphics layer by layer, making it easy to add different components like points, lines, and facets. The package is widely used for creating aesthetically pleasing and informative data visualizations in various fields, especially in data analysis and statistics.\n",
    "\n",
    "- `ggplot2`  Package\n",
    "\n",
    "- `ggplot()` Function we will use for plotting\n",
    "\n",
    "  - Data Frame\n",
    "\n",
    "  - Aesthetics `aes()` \n",
    "\n",
    "  - Layers `geom_()`\n",
    "  \n",
    "  - Coordinate System \n",
    "  \n",
    "  - Other Options\n",
    "\n",
    "#### Aesthetic (Something Visual)\n",
    "\n",
    "- A mapping between a visual and a variable\n",
    "\n",
    "  - position (i.e. $x$ and $y$ axes)\n",
    "\n",
    "  - color (outside)\n",
    "\n",
    "  - fill (inside)\n",
    "\n",
    "  - shape (of markers)\n",
    "\n",
    "  - line type\n",
    "\n",
    "  - size\n",
    "  \n",
    "  \n",
    "Let's load the `dplyr` and `ggplot2` packages."
   ]
  },
  {
   "cell_type": "code",
   "execution_count": 5,
   "id": "7f9f80c5-7800-4c69-9e1b-09e50f9ee5d9",
   "metadata": {
    "tags": []
   },
   "outputs": [
    {
     "name": "stderr",
     "output_type": "stream",
     "text": [
      "\n",
      "Attaching package: ‘dplyr’\n",
      "\n",
      "\n",
      "The following objects are masked from ‘package:stats’:\n",
      "\n",
      "    filter, lag\n",
      "\n",
      "\n",
      "The following objects are masked from ‘package:base’:\n",
      "\n",
      "    intersect, setdiff, setequal, union\n",
      "\n",
      "\n"
     ]
    }
   ],
   "source": [
    "library('dplyr')\n",
    "library('ggplot2')\n",
    "\n",
    "# Set the size and dpi parameters for all the plots\n",
    "# Do not change or delete the following line of code\n",
    "options(repr.plot.width=10, repr.plot.height=5, repr.plot.res=100)"
   ]
  },
  {
   "cell_type": "markdown",
   "id": "f609a4b9-2f64-4025-b512-d7212f94c549",
   "metadata": {},
   "source": [
    "We will work with data from the `titanic` dataset. \n",
    "\n",
    "The sinking of the RMS Titanic is one of the most infamous shipwrecks in history. On April 15, 1912, during her maiden voyage, the Titanic sank after colliding with an iceberg, killing 1502 out of 2224 passengers and crew. This sensational tragedy shocked the international community and led to better safety regulations for ships.\n",
    "\n",
    "One of the reasons that the shipwreck led to such loss of life was that there were not enough lifeboats for the passengers and crew. Although there was some element of luck involved in surviving the sinking, some groups of people were more likely to survive than others, such as women, children, and the upper-class.\n",
    "\n",
    "The datasheet can be accessed **[here](https://docs.google.com/document/d/1AqcjrZVqNKRbMNIbfl6iWMm8LjiBmILKIUkt20LONtw/edit?usp=sharing)**.\n",
    "\n",
    "| **Variable**| **Definition**                         | **Key**                                        |\n",
    "|:------------|:---------------------------------------|:-----------------------------------------------| \n",
    "| PassengerId | A unique identifier for each passenger |                                                |\n",
    "| Survived    | Survival                               | 0 = No, 1 = Yes                                |\n",
    "| Pclass      | Ticket class                           | 1 = 1st, 2 = 2nd, 3 = 3rd                      |\n",
    "| Name        | Name of the passenger                  |                                                |\n",
    "| Sex         | Sex                                    |                                                |\n",
    "| Age         | Age in years                           |                                                |\n",
    "| Sibsp       | # of siblings/spouses aboard           |                                                |\n",
    "| Parch       | # of parents/children aboard           |                                                |\n",
    "| Ticket      | Ticket number                          |                                                |\n",
    "| Fare        | Passenger fare                         |                                                |\n",
    "| Cabin       | Cabin number                           |                                                |\n",
    "| Embarked    | Port of Embarkation                    | C = Cherbourg, Q = Queenstown, S = Southampton |\n",
    "\n",
    "Run the cell below to load the dataset and display the first 5 rows of the dataframe."
   ]
  },
  {
   "cell_type": "code",
   "execution_count": 1,
   "id": "02cdd3b8-078b-4628-9d37-32e8e15943d2",
   "metadata": {
    "tags": []
   },
   "outputs": [
    {
     "name": "stderr",
     "output_type": "stream",
     "text": [
      "Warning message in file(file, \"rt\"):\n",
      "“cannot open file 'data/titanic.csv': No such file or directory”\n"
     ]
    },
    {
     "ename": "ERROR",
     "evalue": "Error in file(file, \"rt\"): cannot open the connection\n",
     "output_type": "error",
     "traceback": [
      "Error in file(file, \"rt\"): cannot open the connection\nTraceback:\n",
      "1. read.csv(\"data/titanic.csv\")",
      "2. read.table(file = file, header = header, sep = sep, quote = quote, \n .     dec = dec, fill = fill, comment.char = comment.char, ...)",
      "3. file(file, \"rt\")"
     ]
    }
   ],
   "source": [
    "titanic <- read.csv('...')\n",
    "head(titanic, 5)"
   ]
  },
  {
   "cell_type": "markdown",
   "id": "aa0153cf-60de-4056-8044-f665e06a708a",
   "metadata": {},
   "source": [
    "Now let's look at the structure of the dataframe."
   ]
  },
  {
   "cell_type": "code",
   "execution_count": null,
   "id": "619820db-3902-44a7-87ca-d20d879d1b95",
   "metadata": {
    "tags": []
   },
   "outputs": [],
   "source": [
    "str(titanic)"
   ]
  },
  {
   "cell_type": "markdown",
   "id": "d48b8ca7-5683-4b38-ac8a-f1dffdb68eb2",
   "metadata": {},
   "source": [
    "Let's make a plot object."
   ]
  },
  {
   "cell_type": "code",
   "execution_count": null,
   "id": "637c470c-9dc5-4609-9045-d28726292c74",
   "metadata": {
    "tags": []
   },
   "outputs": [],
   "source": [
    "ggplot(data=titanic, aes(x=Embarked))"
   ]
  },
  {
   "cell_type": "code",
   "execution_count": null,
   "id": "4fc7fcd2-17b8-498f-963d-7f1df3c0d609",
   "metadata": {
    "tags": []
   },
   "outputs": [],
   "source": [
    "g <- ggplot(data=titanic, aes(x=Embarked))\n",
    "str(g)"
   ]
  },
  {
   "cell_type": "markdown",
   "id": "686cd3ba-11b9-4451-81d7-e5674c4aac58",
   "metadata": {},
   "source": [
    "#### Geometric Objects\n",
    "\n",
    "- The actual marks that are put on a plot\n",
    "\n",
    "  - points (`geom_point`, for scatter plots, dot plots, etc.)\n",
    "  \n",
    "  - lines (`geom_line`, for time series, trend lines, etc.)\n",
    "  \n",
    "  - boxplot (`geom_boxplot`)\n",
    "  \n",
    "  - etc.\n",
    "\n",
    "#### Bar Charts\n",
    "\n",
    "A bar chart is a visual representation of categorical data that uses rectangular bars or columns to represent different categories. The length or height of each bar corresponds to the frequency or count of the data in that category. Bar charts are used for displaying and comparing the values of different categories."
   ]
  },
  {
   "cell_type": "code",
   "execution_count": null,
   "id": "bcda5449-bc24-415a-8c2f-60631914732a",
   "metadata": {
    "tags": []
   },
   "outputs": [],
   "source": [
    "g <- ggplot(data=titanic, aes(x=Embarked))\n",
    "..."
   ]
  },
  {
   "cell_type": "markdown",
   "id": "ddfa7251-900d-4e3f-8faa-a80d5ea5d2fd",
   "metadata": {
    "tags": []
   },
   "source": [
    "We can add addtional layers."
   ]
  },
  {
   "cell_type": "code",
   "execution_count": null,
   "id": "08977759-ef57-4011-91b9-661be4de33b9",
   "metadata": {
    "tags": []
   },
   "outputs": [],
   "source": [
    "g + geom_bar() + \n",
    "  labs(x=\"City\", y=\"Count\", title=\"Titanic Passengers City Embarked\") +\n",
    "  scale_x_discrete(labels=c(\"NA\", \"Cherbourg\", \"Queenstown\", \"Southampton\"))"
   ]
  },
  {
   "cell_type": "markdown",
   "id": "cfff69f7-a059-4e18-a730-e60f2cc62e5f",
   "metadata": {},
   "source": [
    "### Factors\n",
    "\n",
    "- R data objects used to categorize data and store it using levels\n",
    "\n",
    "- Can be strings and integers\n",
    "\n",
    "- Useful in columns that have a limited number of unique values\n",
    "\n",
    "- `as.factor()` function"
   ]
  },
  {
   "cell_type": "code",
   "execution_count": null,
   "id": "621ba79f-a2d6-4fac-931d-125210aab158",
   "metadata": {
    "tags": []
   },
   "outputs": [],
   "source": [
    "as.factor(...)"
   ]
  },
  {
   "cell_type": "markdown",
   "id": "724da134-3922-44ca-9694-6975d8aad04b",
   "metadata": {
    "tags": []
   },
   "source": [
    "#### Stacked Bar Chart\n",
    "\n",
    "A filled two way plot using the survival status as a factor."
   ]
  },
  {
   "cell_type": "code",
   "execution_count": null,
   "id": "d327b331-28a2-4585-a8a0-b284e3a2e807",
   "metadata": {
    "tags": []
   },
   "outputs": [],
   "source": [
    "g + geom_bar(aes(...))"
   ]
  },
  {
   "cell_type": "code",
   "execution_count": null,
   "id": "79889348-3cf5-4432-bfe1-352ad9a1daed",
   "metadata": {
    "tags": []
   },
   "outputs": [],
   "source": [
    "g + geom_bar(aes(fill = as.factor(Survived))) + \n",
    "  labs(x=\"City\", y=\"Count\", title=\"Titanic Passengers City Embarked\") +     \n",
    "  scale_x_discrete(labels=c(\"NA\", \"Cherbourg\", \"Queenstown\", \"Southampton\")) +\n",
    "  scale_fill_discrete(name=\"Survival Status\", labels=c(\"Yes\", \"No\"))"
   ]
  },
  {
   "cell_type": "markdown",
   "id": "257274dc-3363-4b38-9a1d-2984b9435e76",
   "metadata": {},
   "source": [
    "#### Side by Side Bar Chart"
   ]
  },
  {
   "cell_type": "code",
   "execution_count": null,
   "id": "79b2f7f3-a38d-4ae0-8e9d-4432680f348d",
   "metadata": {
    "tags": []
   },
   "outputs": [],
   "source": [
    "tbl <- titanic %>% \n",
    "       na.omit(Embarked) %>% \n",
    "       group_by(Embarked, Survived) %>%  \n",
    "       summarize(Count=n( ))\n",
    "tbl"
   ]
  },
  {
   "cell_type": "markdown",
   "id": "245183ec-2b9f-481a-8e0e-be174867b9ca",
   "metadata": {},
   "source": [
    "**Note:** This message \n",
    "\n",
    "<div style=\"background-color: #FFC0CB; padding: 10px;\">\n",
    "`summarise()` has grouped output by 'Embarked'. You can override using the `.groups` argument.\n",
    "</div>\n",
    "\n",
    "is a notification from the dplyr package in R, specifically from the `summarise()` function. It indicates that your data has been grouped by the 'Embarked' variable, and any summary statistics or calculations performed with summarise() will be applied within each group."
   ]
  },
  {
   "cell_type": "code",
   "execution_count": null,
   "id": "1a0ca511-3b1c-4aad-abc0-ae444d4095cd",
   "metadata": {
    "tags": []
   },
   "outputs": [],
   "source": [
    "g <- ggplot(data=tbl, aes(x=Embarked, y=Count, fill=as.factor(Survived)))"
   ]
  },
  {
   "cell_type": "code",
   "execution_count": null,
   "id": "cf3c4888-71da-47ac-923c-8f528e13ad2d",
   "metadata": {
    "tags": []
   },
   "outputs": [],
   "source": [
    "g + geom_bar(stat=\"...\", position=\"...\")"
   ]
  },
  {
   "cell_type": "markdown",
   "id": "105f2948-017f-4b58-bbb5-ee78b1e7af98",
   "metadata": {},
   "source": [
    "#### Histograms\n",
    "\n",
    "A histogram is a graphical representation of the distribution of a dataset. It displays the frequency distribution of a continuous variable, dividing the data into intervals (bins) and showing how many observations fall into each bin. The horizontal axis represents the variable, while the vertical axis represents the frequency or count."
   ]
  },
  {
   "cell_type": "code",
   "execution_count": null,
   "id": "778e4362-adef-471c-81f9-d8b319e03141",
   "metadata": {
    "tags": []
   },
   "outputs": [],
   "source": [
    "g <- ggplot(data=titanic, aes(x=Age))\n",
    "g + geom_histogram()"
   ]
  },
  {
   "cell_type": "markdown",
   "id": "c16a19b2-1a27-4581-b3b5-829aea58190d",
   "metadata": {},
   "source": [
    "**Note:** This message \n",
    "\n",
    "<div style=\"background-color: #FFC0CB; padding: 10px;\">\n",
    "`stat_bin()` using `bins = 30`. Pick better value with `binwidth`.\n",
    "\n",
    "Warning message:    \n",
    "“Removed 177 rows containing non-finite values (`stat_bin()`).”\n",
    "</div>\n",
    "\n",
    "indicates that the stat_bin() function, used to create the histogram, has removed 177 rows from the dataset because they contain non-finite values (such as NA or NaN). Additionally, it suggests that you might want to pick a better value for binwidth."
   ]
  },
  {
   "cell_type": "markdown",
   "id": "a0fe7b51-1767-423b-b62d-c6f4f5a26e1f",
   "metadata": {},
   "source": [
    "Adding additinal layers."
   ]
  },
  {
   "cell_type": "code",
   "execution_count": null,
   "id": "060893bf-f464-4f81-a9d6-f7f307b5781f",
   "metadata": {
    "tags": []
   },
   "outputs": [],
   "source": [
    "g  + geom_histogram(color=\"black\", fill=\"red\", linewidth=0.5, binwidth=5)"
   ]
  },
  {
   "cell_type": "code",
   "execution_count": null,
   "id": "b1aad4bf-eb56-427e-b441-d0de91ef3de1",
   "metadata": {
    "tags": []
   },
   "outputs": [],
   "source": [
    "g  + geom_histogram(color=\"black\", fill=\"red\", linewidth=0.5, binwidth=10)"
   ]
  },
  {
   "cell_type": "code",
   "execution_count": null,
   "id": "a5c28aec-a8d7-4658-b7d0-2459c050057f",
   "metadata": {
    "tags": []
   },
   "outputs": [],
   "source": [
    "g  + geom_histogram(color=\"black\", fill=\"red\", linewidth=0.5, binwidth=15)"
   ]
  },
  {
   "cell_type": "markdown",
   "id": "5f0f1785-9b57-45a8-a612-6dcc92b4102a",
   "metadata": {
    "tags": []
   },
   "source": [
    "#### Scatter Plots\n",
    "\n",
    "A scatter plot is a type of data visualization that displays individual data points on a two-dimensional graph. Each point represents the values of two variables, and the position of the point on the graph corresponds to the values of those variables.\n",
    "\n",
    "Scatter plots help visualize the relationship between two numerical variables. By examining the pattern formed by the points, you can infer whether there is a positive, negative, or no correlation between the variables.\n",
    "\n",
    "We will use the `mtcars` dataset to demonstrate the use of scatter plots.\n",
    "\n",
    "`mtcars` {datasets}\n",
    "\n",
    "**Motor Trend Car Road Tests**\n",
    "\n",
    "**Description**\n",
    "The data was extracted from the 1974 Motor Trend US magazine, and comprises fuel consumption and 10 aspects of automobile design and performance for 32 automobiles (1973–74 models).\n",
    "\n",
    "| **Variable**| **Definition**                         | **Key**                                        |\n",
    "|:------------|:---------------------------------------|:-----------------------------------------------|\n",
    "|mpg|Miles/(US) gallon||\n",
    "|cyl|Number of cylinders||\n",
    "|disp|Displacement (cu. in.)||\n",
    "|hp|Gross horsepower\n",
    "|drat|Rear axle ratio||\n",
    "|wt|Weight (1000 lbs)||\n",
    "|qsec|1/4 mile time||\n",
    "|vs|Engine| (0 = V-shaped, 1 = straight)|\n",
    "|am|Transmission|(0 = automatic, 1 = manual)|\n",
    "|gear|Number of forward gears||\n",
    "|carb|Number of carburetors||\n",
    "\n",
    "The datasheet can be found **[here](https://stat.ethz.ch/R-manual/R-devel/library/datasets/html/mtcars.html)**."
   ]
  },
  {
   "cell_type": "code",
   "execution_count": 6,
   "id": "4bf56632-7344-4ab9-a384-a72a58bb7d02",
   "metadata": {
    "tags": []
   },
   "outputs": [
    {
     "name": "stdout",
     "output_type": "stream",
     "text": [
      "'data.frame':\t32 obs. of  11 variables:\n",
      " $ mpg : num  21 21 22.8 21.4 18.7 18.1 14.3 24.4 22.8 19.2 ...\n",
      " $ cyl : num  6 6 4 6 8 6 8 4 4 6 ...\n",
      " $ disp: num  160 160 108 258 360 ...\n",
      " $ hp  : num  110 110 93 110 175 105 245 62 95 123 ...\n",
      " $ drat: num  3.9 3.9 3.85 3.08 3.15 2.76 3.21 3.69 3.92 3.92 ...\n",
      " $ wt  : num  2.62 2.88 2.32 3.21 3.44 ...\n",
      " $ qsec: num  16.5 17 18.6 19.4 17 ...\n",
      " $ vs  : num  0 0 1 1 0 1 0 1 1 1 ...\n",
      " $ am  : num  1 1 1 0 0 0 0 0 0 0 ...\n",
      " $ gear: num  4 4 4 3 3 3 3 4 4 4 ...\n",
      " $ carb: num  4 4 1 1 2 1 4 2 2 4 ...\n"
     ]
    }
   ],
   "source": [
    "str(mtcars)"
   ]
  },
  {
   "cell_type": "code",
   "execution_count": 7,
   "id": "945f9e76-4b2d-4c9d-aa38-7e97ab424f08",
   "metadata": {
    "tags": []
   },
   "outputs": [
    {
     "data": {
      "image/png": "[encoded data removed]",
      "text/plain": [
       "plot without title"
      ]
     },
     "metadata": {
      "image/png": {
       "height": 250,
       "width": 500
      }
     },
     "output_type": "display_data"
    }
   ],
   "source": [
    "g <- ggplot(data=mtcars, aes(x=wt, y = mpg))\n",
    "g + geom_point()"
   ]
  },
  {
   "cell_type": "markdown",
   "id": "94882b60-fdb4-443c-87ad-c306fdea52ee",
   "metadata": {},
   "source": [
    "Add `cyl` as a factor."
   ]
  },
  {
   "cell_type": "code",
   "execution_count": 11,
   "id": "bf234034-1554-4de3-baea-8419b9f88bcd",
   "metadata": {
    "tags": []
   },
   "outputs": [
    {
     "data": {
      "image/png": "[encoded data removed]",
      "text/plain": [
       "plot without title"
      ]
     },
     "metadata": {
      "image/png": {
       "height": 250,
       "width": 500
      }
     },
     "output_type": "display_data"
    }
   ],
   "source": [
    "g <- ggplot(mtcars, aes(x=wt, y=mpg))\n",
    "g + geom_point(aes(...=...(...)))"
   ]
  },
  {
   "cell_type": "markdown",
   "id": "8ab6ffc5-ee9a-4ca8-adba-92ae52bc7203",
   "metadata": {},
   "source": [
    "Adding a trendline."
   ]
  },
  {
   "cell_type": "code",
   "execution_count": null,
   "id": "8f4d2442-9a8e-4376-9d0d-ef36541d1856",
   "metadata": {
    "tags": []
   },
   "outputs": [],
   "source": [
    "g + geom_point() + stat_smooth(method=\"lm\")"
   ]
  },
  {
   "cell_type": "code",
   "execution_count": null,
   "id": "68443a51-b8c2-4bf1-b193-46d2b6275e1e",
   "metadata": {
    "tags": []
   },
   "outputs": [],
   "source": [
    "g + geom_point() + stat_smooth(method=\"lm\", se=FALSE)"
   ]
  },
  {
   "cell_type": "markdown",
   "id": "bbfd4b78-1ccb-4167-b5cb-2e56419cc073",
   "metadata": {},
   "source": [
    "#### Box Plots\n",
    "\n",
    "We will continue to use the `mtcars` dataset to demonstrate the use of box plots.\n",
    "\n",
    "A box plot, also known as a box-and-whisker plot, is a graphical representation of the distribution of a dataset. It displays key statistical measures such as the median, quartiles, and potential outliers. \n",
    "\n",
    "Box plots provide a concise summary of the distribution of data, emphasizing the central tendency (median) and spread (IQR). In addtion, box plots are effective for comparing the distributions of different groups or categories within a dataset. They help identify differences in medians, spreads, and the presence of outliers.\n",
    "\n",
    "The box plot below shows a nice summary of all this information:\n",
    "\n",
    "![Box Plot](images/boxplot.png)"
   ]
  },
  {
   "cell_type": "code",
   "execution_count": null,
   "id": "408c7796-84f4-4ab6-9022-ba59ef51c8e8",
   "metadata": {
    "tags": []
   },
   "outputs": [],
   "source": [
    "g <- ggplot(data=mtcars, aes(x=as.factor(cyl), y=mpg))\n",
    "g + geom_boxplot()"
   ]
  },
  {
   "cell_type": "code",
   "execution_count": null,
   "id": "3214f1ce-1c3c-49b5-99e2-ec406a3da08e",
   "metadata": {
    "tags": []
   },
   "outputs": [],
   "source": [
    "g <- ggplot(data=mtcars, aes(x=factor(cyl), y=mpg))\n",
    "g + geom_boxplot() + coord_flip() + \n",
    "    labs(title=\"Horizontal Boxplot Example\", x=\"Cylinders\", y=\"mpg\")"
   ]
  },
  {
   "cell_type": "markdown",
   "id": "c514f81f-feb8-4fb8-8a71-1470ce1d3946",
   "metadata": {},
   "source": [
    "#### Line Charts\n",
    "\n",
    "A line chart is a type of chart that displays data points called \"markers\" connected by straight line segments. It is commonly used to visualize trends and patterns over a continuous interval or time series. \n",
    "\n",
    "We will use the `flights` dataset to demonstrate the use of line charts.\n",
    "\n",
    "| **Variable**| **Definition**                         |\n",
    "|:------------|:---------------------------------------|\n",
    "|year|Year|\n",
    "|month|Month|\n",
    "|passengers|The number of passengers during the year/month|\n"
   ]
  },
  {
   "cell_type": "code",
   "execution_count": null,
   "id": "7cadb9a1-d9ab-40b9-bd0d-36158e4c8a11",
   "metadata": {
    "tags": []
   },
   "outputs": [],
   "source": [
    "flights <- read.csv('data/flights.csv')\n",
    "tail(flights, 10)"
   ]
  },
  {
   "cell_type": "code",
   "execution_count": null,
   "id": "929f0d4f-cb99-4c51-808a-3e07af271c7a",
   "metadata": {
    "tags": []
   },
   "outputs": [],
   "source": [
    "g <- ggplot(data=flights, aes(x=year, y=passengers)) \n",
    "g + geom_line()"
   ]
  },
  {
   "cell_type": "markdown",
   "id": "2972cdd1-806d-4dcb-895f-d8bc64d8cedb",
   "metadata": {},
   "source": [
    "What happened?"
   ]
  },
  {
   "cell_type": "code",
   "execution_count": null,
   "id": "67175a13-5336-4629-9f63-1d048fda0725",
   "metadata": {
    "tags": []
   },
   "outputs": [],
   "source": [
    "df <- flights %>%\n",
    "      ... %>%\n",
    "      ...\n",
    "\n",
    "head(df, 10)"
   ]
  },
  {
   "cell_type": "code",
   "execution_count": null,
   "id": "41e2c269-fe00-4ea3-9d7b-ca0a9a7291fc",
   "metadata": {
    "tags": []
   },
   "outputs": [],
   "source": [
    "g <- ggplot(data=df, aes(x=year, y=Total)) \n",
    "g + geom_line()"
   ]
  },
  {
   "cell_type": "markdown",
   "id": "3af56924-5d2d-413b-bc4e-ee8b99182a9d",
   "metadata": {},
   "source": [
    "## Visualizations\n",
    "\n",
    "For this part of the lecture you will construct visualiations from the `skyscrapers.csv` dataset which comes from The Collection of Really Great, Interesting, Situated Datasets Project (CORGIS) <img src=\"https://corgis-edu.github.io/corgis/images/logo.png\" width=\"35\"/> by Austin Cory Bart, Ryan Whitcomb, Jason Riddle, Omar Saleem, Dr. Eli Tilevich, Dr. Clifford A. Shaffer, Dr. Dennis Kafura.\n",
    "\n",
    "Accoriding to the site, *\"The* `skyscrapers.csv` *file contains collected statistics about the tallest buildings all over the world, including the materials used to develop them, the purpose of the buildings, and more.*\n",
    "\n",
    "The complete dataset, accompanied by an overview and variable descriptions, is available [here](https://corgis-edu.github.io/corgis/csv/skyscrapers/). Review the **Key Descriptions** to familiarize yourself with the variable names, meanings, and types.\n",
    "\n",
    "Run the cell below to load the dataset and look at its structure."
   ]
  },
  {
   "cell_type": "code",
   "execution_count": null,
   "id": "29896d8a-e8f0-449e-8537-acd6730ddca0",
   "metadata": {
    "tags": []
   },
   "outputs": [],
   "source": [
    "skyscrapers <- read.csv('data/skyscrapers.csv')\n",
    "str(skyscrapers)"
   ]
  },
  {
   "cell_type": "markdown",
   "id": "07448bb7-222d-4270-bf83-acdd8d495496",
   "metadata": {},
   "source": [
    "# Extra Credit"
   ]
  },
  {
   "cell_type": "markdown",
   "id": "69889cd1-e9ea-483a-a426-7830408fc28a",
   "metadata": {},
   "source": [
    "**Question 1.** Construct a bar chart using one of the categorical variables."
   ]
  },
  {
   "cell_type": "code",
   "execution_count": null,
   "id": "0c393f69-8175-4d96-9a6c-a3751e901f12",
   "metadata": {},
   "outputs": [],
   "source": [
    "# YOUR CODE GOES HERE REPLACING THIS COMMENT\n"
   ]
  },
  {
   "cell_type": "markdown",
   "id": "f595e991-0cfe-4c51-b0e0-e810654a9faf",
   "metadata": {},
   "source": [
    "**Question 2.** Construct a histogram using one of the numerical variables."
   ]
  },
  {
   "cell_type": "code",
   "execution_count": null,
   "id": "0bc347b1-2976-4d40-9c57-8b4bc3882fb3",
   "metadata": {},
   "outputs": [],
   "source": [
    "# YOUR CODE GOES HERE REPLACING THIS COMMENT\n"
   ]
  },
  {
   "cell_type": "markdown",
   "id": "603f0227-8a7f-428c-8366-29d63e3db41f",
   "metadata": {},
   "source": [
    "**Question 3.** Construct a box plot using one of the categorical variables and one of the numerical variables."
   ]
  },
  {
   "cell_type": "code",
   "execution_count": null,
   "id": "3f7f5823-c576-4bc0-b9d1-388cf71b700b",
   "metadata": {},
   "outputs": [],
   "source": [
    "# YOUR CODE GOES HERE REPLACING THIS COMMENT\n"
   ]
  },
  {
   "cell_type": "markdown",
   "id": "3cd95444-07cf-4fa4-b7be-bc306f5c25ec",
   "metadata": {},
   "source": [
    "**Question 4.** Construct a scatter plot using two of the numerical variables."
   ]
  },
  {
   "cell_type": "code",
   "execution_count": null,
   "id": "69250a72-4974-4e60-a5df-979e459eefbb",
   "metadata": {},
   "outputs": [],
   "source": [
    "# YOUR CODE GOES HERE REPLACING THIS COMMENT\n"
   ]
  },
  {
   "cell_type": "markdown",
   "id": "8e8c3b40-9d68-45b3-8763-9a594c3b10de",
   "metadata": {},
   "source": [
    "The code cell below finds the number of completed skyscapers per year and uses the results to construct a dataframe named `ss`."
   ]
  },
  {
   "cell_type": "code",
   "execution_count": null,
   "id": "4ad705a4-3885-484b-b498-177ce7a0f1dd",
   "metadata": {
    "tags": []
   },
   "outputs": [],
   "source": [
    "ss <- skyscrapers %>% \n",
    "      filter(status.current == 'completed' & status.completed.year >= 2000) %>% \n",
    "      group_by(status.completed.year) %>% \n",
    "      summarize(count=n())\n",
    "\n",
    "head(ss, 5)"
   ]
  },
  {
   "cell_type": "markdown",
   "id": "c3d79cde-8dfc-4d7b-a9fb-26f2291db76e",
   "metadata": {},
   "source": [
    "**Question 5.** Construct a line chart using the `df` dataframe. "
   ]
  },
  {
   "cell_type": "code",
   "execution_count": null,
   "id": "910eb65f-e8c2-4f2e-8a55-3822c5ffa6f6",
   "metadata": {
    "tags": []
   },
   "outputs": [],
   "source": [
    "# YOUR CODE GOES HERE REPLACING THIS COMMENT\n"
   ]
  },
  {
   "cell_type": "markdown",
   "id": "65b5bf5d-138d-4b66-851c-1d6e2cb0bce3",
   "metadata": {},
   "source": [
    "# Submission\n",
    "\n",
    "Make sure that all cells in your assignment have been executed to display all output, images, and graphs in the final document.\n",
    "\n",
    "**Note:** Save the assignment before proceeding to download the file. Upon saving, locate the resulting `.ipynb` document in the file view payne on the left-hand side,  and download the `.ipynb` file by `SHIFT`-clicking on the file name and selecting **Save Link As**. Or, find the .zip file in the left side of the screen and right-click and select **Download**. You'll submit this .zip file for the assignment in Moodle to Gradescope for grading.\n",
    "\n",
    "If you have any questions, please post them on the Moodle discussion board dedicated to this assignment."
   ]
  }
 ],
 "metadata": {
  "kernelspec": {
   "display_name": "R",
   "language": "R",
   "name": "ir"
  },
  "language_info": {
   "codemirror_mode": "r",
   "file_extension": ".r",
   "mimetype": "text/x-r-source",
   "name": "R",
   "pygments_lexer": "r",
   "version": "4.2.3"
  }
 },
 "nbformat": 4,
 "nbformat_minor": 5
}
