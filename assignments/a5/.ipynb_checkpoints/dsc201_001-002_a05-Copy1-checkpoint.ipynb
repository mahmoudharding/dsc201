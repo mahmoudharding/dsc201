{
 "cells": [
  {
   "cell_type": "markdown",
   "id": "44e81398-8ba7-453f-a0a8-d2b8a94eafff",
   "metadata": {},
   "source": [
    "# Assignment 05\n",
    "\n",
    "## Due: See Date in Moodle\n",
    "\n",
    "## This Week's Assignment\n",
    "\n",
    "In this week's assignment you'll be introdcued to Jupyter Notebooks, you'll learn how to:\n",
    "\n",
    "- use `pandas` `DataFrame` and `Series` methods.\n",
    "\n",
    "- perform data moves, such as filtering and grouping.\n",
    "\n",
    "## Guidelines\n",
    "\n",
    "- Follow good programming practices by using descriptive variable names, maintaining appropriate spacing for readability, and adding comments to clarify your code.\n",
    "\n",
    "- Ensure written responses use correct spelling, complete sentences, and proper grammar.\n",
    "\n",
    "**Name:**\n",
    "\n",
    "**Section:**\n",
    "\n",
    "**Date:**\n",
    "\n",
    "Let's get started!"
   ]
  },
  {
   "cell_type": "markdown",
   "id": "005efd52-637a-43d8-b45f-9ccbdec0e148",
   "metadata": {},
   "source": [
    "During the lecture, we discussed some data entry errors in the `skyscrapers_world.csv` dataset. In this notebook, we will further correct these errors and apply data moves, such as filtering, summarizing, and grouping, to gain deeper insights into the buildings contained in the dataset.\n",
    "\n",
    "**Question 1.** Import the `pandas` library with the appropriate alias and load the `skyscrapers_world.csv` dataset from the `data` folder into a `pandas` `DataFrame` named `ss`. Display the first five rows to verify that the data loaded correctly.\n",
    "\n",
    "**Note:** Use separate code cells, one for importing the library and another for loading the dataset."
   ]
  },
  {
   "cell_type": "code",
   "execution_count": null,
   "id": "59b535ff-e20a-4042-af67-e3c5be81b490",
   "metadata": {
    "tags": []
   },
   "outputs": [],
   "source": [
    "## Import the pandas library\n",
    "import pandas as pd"
   ]
  },
  {
   "cell_type": "code",
   "execution_count": null,
   "id": "ab9b02d5-35f6-402d-b9e3-696f65cb5b07",
   "metadata": {
    "tags": []
   },
   "outputs": [],
   "source": [
    "## Load the dataset\n",
    "ss = pd.read_csv('data/skyscrapers_world.csv')\n",
    "ss.head()"
   ]
  },
  {
   "cell_type": "markdown",
   "id": "73940664-b034-4cb0-ac7d-650f513f0428",
   "metadata": {},
   "source": [
    "Let's examine the metadata for the `ss` DataFrame. In the code cell below, run the `ss.info()` command to display column names, data types, and non-null counts.\n",
    "\n",
    "**Note:** Metadata refers to data about the data, such as column names, data types, missing values, and overall structure. Reviewing metadata helps ensure data integrity and guides preprocessing steps."
   ]
  },
  {
   "cell_type": "code",
   "execution_count": null,
   "id": "0610d360-88fc-44c5-8a5b-6a305af20278",
   "metadata": {
    "tags": []
   },
   "outputs": [],
   "source": [
    "ss.info()"
   ]
  },
  {
   "cell_type": "markdown",
   "id": "78e5820b-e344-44f7-9da0-a1b38c389157",
   "metadata": {},
   "source": [
    "**Question 2.** Refer to **Examples 1 and 2** in the `Week 8 lecture notebook` to:  \n",
    "\n",
    "- Remove the `Unnamed: 0` column.  \n",
    "\n",
    "- Rename the columns `status.started`, `status.completed`, and `height in meters`, converting them to `snake_case`.\n",
    "\n",
    "In separate code cells confirm that your processing has produced the expected results.\n",
    "\n",
    "**Note:** Feel free to add separate code cells for each step. Be sure to include comments in each cell to clearly describe the purpose of the code."
   ]
  },
  {
   "cell_type": "code",
   "execution_count": null,
   "id": "0e359ecf-f65f-4550-a605-5a79933e3836",
   "metadata": {
    "tags": []
   },
   "outputs": [],
   "source": [
    "ss = ss.drop(columns = ['Unnamed: 0'])"
   ]
  },
  {
   "cell_type": "code",
   "execution_count": null,
   "id": "23045440-7f60-4b78-b937-52a51c934909",
   "metadata": {
    "tags": []
   },
   "outputs": [],
   "source": [
    "ss.columns"
   ]
  },
  {
   "cell_type": "code",
   "execution_count": null,
   "id": "8a90700e-e8fc-456a-b731-649f40a7588c",
   "metadata": {
    "tags": []
   },
   "outputs": [],
   "source": [
    "ss = ss.rename(columns = {'status.completed' : 'year_completed',\n",
    "                          'status.started' : 'year_started',\n",
    "                          'height in meters' : 'height_meters'\n",
    "                         }\n",
    "              )"
   ]
  },
  {
   "cell_type": "code",
   "execution_count": null,
   "id": "46c445f2-bea5-452d-9fb7-509043180880",
   "metadata": {
    "tags": []
   },
   "outputs": [],
   "source": [
    "ss.columns"
   ]
  },
  {
   "cell_type": "markdown",
   "id": "dfedbc63-9a84-49f7-a3b6-13810be6e252",
   "metadata": {},
   "source": [
    "**Question 3.** Refer to **Example 3** in the `Week 8 lecture notebook` to convert the `height in meters` column from a string to a float. Then, add the cleaned values to the `ss` `DataFrame` as a new column named `clean_height_meters`.\n",
    "\n",
    "In a separate code cell confirm that your processing has produced the expected results.\n",
    "\n",
    "**Note:** Feel free to add separate code cells for each step. Be sure to include comments in each cell to clearly describe the purpose of the code."
   ]
  },
  {
   "cell_type": "code",
   "execution_count": null,
   "id": "fbcc34b7-81e2-45f1-bd53-635070edaa08",
   "metadata": {
    "tags": []
   },
   "outputs": [],
   "source": [
    "ss['clean_height_meters'] = ss['height_meters'].str.replace(\",\", \"\", regex = True).astype(float)"
   ]
  },
  {
   "cell_type": "code",
   "execution_count": null,
   "id": "020a3eb4-2e87-461a-8e76-a8bc4f03a3d3",
   "metadata": {
    "tags": []
   },
   "outputs": [],
   "source": [
    "ss.info()"
   ]
  },
  {
   "cell_type": "markdown",
   "id": "4a565d04-87ab-4b99-aa77-fc26f6167c62",
   "metadata": {},
   "source": [
    "**Question 4.** Refer to **Example 5** in the `Week 8 lecture notebook` to correct any text entries in the `floors` column. Replace these incorrect values with the appropriate numerical values based on the dataset. Then, convert the `floors` column to a numeric data type.\n",
    "\n",
    "In a separate code cell confirm that your processing has produced the expected results.\n",
    "\n",
    "**Note:** Feel free to add separate code cells for each step. Be sure to include comments in each cell to clearly describe the purpose of the code."
   ]
  },
  {
   "cell_type": "code",
   "execution_count": null,
   "id": "ee0e2d1a-c220-44b9-a3d6-98afadc0d946",
   "metadata": {
    "tags": []
   },
   "outputs": [],
   "source": [
    "ss.loc[48, 'floors'] = 103\n",
    "ss.loc[61, 'floors'] = 73"
   ]
  },
  {
   "cell_type": "code",
   "execution_count": null,
   "id": "fd25e27d-a0ca-4e15-86b0-415ae86fa996",
   "metadata": {
    "tags": []
   },
   "outputs": [],
   "source": [
    "ss['floors'] = pd.to_numeric(ss['floors'])"
   ]
  },
  {
   "cell_type": "code",
   "execution_count": null,
   "id": "c47df004-229b-4898-a354-8b1105b10b3f",
   "metadata": {
    "tags": []
   },
   "outputs": [],
   "source": [
    "ss.info()"
   ]
  },
  {
   "cell_type": "code",
   "execution_count": null,
   "id": "778843b9-4312-47c9-866f-6b048bceaa66",
   "metadata": {
    "tags": []
   },
   "outputs": [],
   "source": [
    "print(ss.loc[48, 'floors'])\n",
    "print(ss.loc[61, 'floors'])"
   ]
  },
  {
   "cell_type": "markdown",
   "id": "72e33978-5799-4141-94bd-e82958adc364",
   "metadata": {},
   "source": [
    "**Question 5.** Use the `.value_counts()` method to generate a frequency table of country names, showing the count of occurrences for each unique country."
   ]
  },
  {
   "cell_type": "code",
   "execution_count": null,
   "id": "3329dfaf-0b9e-4115-b454-8e0dfe7f8337",
   "metadata": {
    "tags": []
   },
   "outputs": [],
   "source": [
    "ss['country'].value_counts()"
   ]
  },
  {
   "cell_type": "markdown",
   "id": "b590f2f2-7215-4131-af6a-138f8646172e",
   "metadata": {},
   "source": [
    "The code\n",
    "\n",
    "```python\n",
    "ss['country'].value_counts()\n",
    "```\n",
    "\n",
    "executed without any errors, but the output is incorrect because the same country has been entered in different ways, leading to inconsistent results. For instance:\n",
    "\n",
    "- USA, US, and United States of America are listed separately, though they refer to the same country.\n",
    "\n",
    "- United Arab Emirates appears multiple times as United Arab Emirates (UAE) and UAE.\n",
    "\n",
    "- Malaysia is misspelled as Malasya.\n",
    "\n",
    "- Saudi Arabia is listed as saudi Arabia (with a lowercase \"s\").\n",
    "\n",
    "- Shenzhen is a Province in China, not a country.\n",
    "\n",
    "- New York is a city in the United States of America, not a country.\n",
    "\n",
    "- Dubai is a city in the United Arab Emirates, not a country.\n",
    "\n",
    "We aim to compare summary statistics for the top three countries in the dataset: China, the United Arab Emirates, and the United States. To ensure an accurate comparison, we must first standardize the country names.\n",
    "\n",
    "## Making Choices\n",
    "\n",
    "In this section, you will choose a categorical label of your preference. For brevity and clarity, I will demonstrate two methods to label all buildings in the United Arab Emirates as **UAE**. You can then select your preferred method to apply the same labeling approach for buildings in China and the United States.\n",
    "\n",
    "### Filter\n",
    "\n",
    "First we need all the rows that should be labeled UAE.\n",
    "\n",
    "1. A list named `uae` is created that contains different variations of how the United Arab Emirates may appear in the dataset.\n",
    "\n",
    "```python\n",
    "uae = [\"United Arab Emirates\", \"United Arab Emirates (UAE)\", \"Dubai\", \"UAE\"]\n",
    "```\n",
    "\n",
    "2. The `.isin(uae)` method checks if each value in the `country` column exists in the `uae` list. This results in a boolean mask—a series of `True` and `False` values:\n",
    "\n",
    "   - `True`: The country name is in the `uae list.\n",
    "\n",
    "   - `False`: The country name is not in the `uae` list.\n",
    "   \n",
    "```python\n",
    "mask = ss['country'].isin(uae)\n",
    "```\n",
    "\n",
    "3.  Filter `DataFrame` to only include rows where mask is `True` (i.e., where country matches one of the values in `uae`). Then select only the `country` column from these filtered rows. This displays the results but does not modify the original `ss` `DataFrame`.\n",
    "\n",
    "```python\n",
    "ss[mask]['country']\n",
    "```"
   ]
  },
  {
   "cell_type": "code",
   "execution_count": null,
   "id": "812eb0c5-73f3-4fd7-b427-97c0fb7f412d",
   "metadata": {
    "tags": []
   },
   "outputs": [],
   "source": [
    "uae = [\"United Arab Emirates\", \"United Arab Emirates (UAE)\", \"Dubai\", \"UAE\"]\n",
    "mask = ss['country'].isin(uae)\n",
    "ss[mask]['country']"
   ]
  },
  {
   "cell_type": "code",
   "execution_count": null,
   "id": "0a5ad9d1",
   "metadata": {
    "tags": []
   },
   "outputs": [],
   "source": [
    "uae = [\"United Arab Emirates\", \"United Arab Emirates (UAE)\", \"Dubai\", \"UAE\"]\n",
    "mask = ss['country'].isin(uae)\n",
    "ss[mask]['country']"
   ]
  },
  {
   "cell_type": "code",
   "execution_count": null,
   "id": "48b4daad-f8d2-4343-bcdd-dbc771fe855e",
   "metadata": {
    "tags": []
   },
   "outputs": [],
   "source": [
    "ss[mask]['country']"
   ]
  },
  {
   "cell_type": "code",
   "execution_count": null,
   "id": "55762c64-6c63-4440-837b-014e4676c617",
   "metadata": {
    "tags": []
   },
   "outputs": [],
   "source": [
    "usa = [\"USA\", \"United Sates of America\"]\n",
    "mask = ss['country'].isin(usa)\n",
    "ss[mask]"
   ]
  },
  {
   "cell_type": "code",
   "execution_count": null,
   "id": "5cd57e09-2d42-4e39-8b75-f89207776e9f",
   "metadata": {},
   "outputs": [],
   "source": []
  },
  {
   "cell_type": "markdown",
   "id": "f7f2fb35-e43c-4d11-9320-804fe1cb76d9",
   "metadata": {},
   "source": [
    "## Submission\n",
    "\n",
    "Make sure that all cells in your assignment have been executed to display all output, images, and graphs in the final document.\n",
    "\n",
    "**Note:** Save the assignment before proceeding to download the file.\n",
    "\n",
    "After downloading, locate the `.ipynb` file and upload **only** this file to Moodle. The assignment will be automatically submitted to Gradescope for grading."
   ]
  }
 ],
 "metadata": {
  "kernelspec": {
   "display_name": "Python 3 (ipykernel)",
   "language": "python",
   "name": "python3"
  },
  "language_info": {
   "codemirror_mode": {
    "name": "ipython",
    "version": 3
   },
   "file_extension": ".py",
   "mimetype": "text/x-python",
   "name": "python",
   "nbconvert_exporter": "python",
   "pygments_lexer": "ipython3",
   "version": "3.10.11"
  }
 },
 "nbformat": 4,
 "nbformat_minor": 5
}
