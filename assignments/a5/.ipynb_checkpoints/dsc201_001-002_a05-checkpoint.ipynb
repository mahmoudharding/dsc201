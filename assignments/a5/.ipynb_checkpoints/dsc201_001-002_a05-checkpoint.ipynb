{
 "cells": [
  {
   "cell_type": "markdown",
   "id": "44e81398-8ba7-453f-a0a8-d2b8a94eafff",
   "metadata": {},
   "source": [
    "# Assignment 05\n",
    "\n",
    "## Due: See Date in Moodle\n",
    "\n",
    "## This Week's Assignment\n",
    "\n",
    "In this week's assignment you'll be introdcued to Jupyter Notebooks, you'll learn how to:\n",
    "\n",
    "- use `pandas` `DataFrame` and `Series` methods.\n",
    "\n",
    "- perform data moves, such as filtering and grouping.\n",
    "\n",
    "## Guidelines\n",
    "\n",
    "- Follow good programming practices by using descriptive variable names, maintaining appropriate spacing for readability, and adding comments to clarify your code.\n",
    "\n",
    "- Ensure written responses use correct spelling, complete sentences, and proper grammar.\n",
    "\n",
    "**Name:**\n",
    "\n",
    "**Section:**\n",
    "\n",
    "**Date:**\n",
    "\n",
    "Let's get started!"
   ]
  },
  {
   "cell_type": "markdown",
   "id": "005efd52-637a-43d8-b45f-9ccbdec0e148",
   "metadata": {},
   "source": [
    "During the lecture, we discussed some data entry errors in the `skyscrapers_world.csv` dataset. In this notebook, we will further correct these errors and apply data moves, such as filtering, summarizing, and grouping, to gain deeper insights into the buildings contained in the dataset.\n",
    "\n",
    "**Question 1.** Import the `pandas` library with the appropriate alias and load the `skyscrapers_world.csv` dataset from the `data` folder into a `pandas` `DataFrame` named `ss`. Display the first five rows to verify that the data loaded correctly.\n",
    "\n",
    "**Note:** Use separate code cells, one for importing the library and another for loading the dataset."
   ]
  },
  {
   "cell_type": "code",
   "execution_count": 60,
   "id": "59b535ff-e20a-4042-af67-e3c5be81b490",
   "metadata": {
    "tags": []
   },
   "outputs": [],
   "source": [
    "## Import the pandas library\n",
    "..."
   ]
  },
  {
   "cell_type": "code",
   "execution_count": 61,
   "id": "ab9b02d5-35f6-402d-b9e3-696f65cb5b07",
   "metadata": {
    "tags": []
   },
   "outputs": [
    {
     "data": {
      "text/html": [
       "<div>\n",
       "<style scoped>\n",
       "    .dataframe tbody tr th:only-of-type {\n",
       "        vertical-align: middle;\n",
       "    }\n",
       "\n",
       "    .dataframe tbody tr th {\n",
       "        vertical-align: top;\n",
       "    }\n",
       "\n",
       "    .dataframe thead th {\n",
       "        text-align: right;\n",
       "    }\n",
       "</style>\n",
       "<table border=\"1\" class=\"dataframe\">\n",
       "  <thead>\n",
       "    <tr style=\"text-align: right;\">\n",
       "      <th></th>\n",
       "      <th>Unnamed: 0</th>\n",
       "      <th>name</th>\n",
       "      <th>city</th>\n",
       "      <th>country</th>\n",
       "      <th>status.started</th>\n",
       "      <th>status.completed</th>\n",
       "      <th>height in meters</th>\n",
       "      <th>height</th>\n",
       "      <th>floors</th>\n",
       "      <th>material</th>\n",
       "      <th>function</th>\n",
       "    </tr>\n",
       "  </thead>\n",
       "  <tbody>\n",
       "    <tr>\n",
       "      <th>0</th>\n",
       "      <td>1</td>\n",
       "      <td>Burj Khalifa</td>\n",
       "      <td>Dubai</td>\n",
       "      <td>UAE</td>\n",
       "      <td>2009</td>\n",
       "      <td>2010</td>\n",
       "      <td>2,722</td>\n",
       "      <td>2,722 ft</td>\n",
       "      <td>163</td>\n",
       "      <td>steel/concrete</td>\n",
       "      <td>variety</td>\n",
       "    </tr>\n",
       "    <tr>\n",
       "      <th>1</th>\n",
       "      <td>2</td>\n",
       "      <td>Shanghai Tower</td>\n",
       "      <td>Shanghai</td>\n",
       "      <td>China</td>\n",
       "      <td>2008</td>\n",
       "      <td>2014</td>\n",
       "      <td>2073</td>\n",
       "      <td>2073 ft</td>\n",
       "      <td>128</td>\n",
       "      <td>composite</td>\n",
       "      <td>Misc, Cultural Monument</td>\n",
       "    </tr>\n",
       "    <tr>\n",
       "      <th>2</th>\n",
       "      <td>3</td>\n",
       "      <td>Makkah Royal Clock Tower</td>\n",
       "      <td>Mecca</td>\n",
       "      <td>Saudi Arabia</td>\n",
       "      <td>2002</td>\n",
       "      <td>2012</td>\n",
       "      <td>601</td>\n",
       "      <td>601 m / 1972 ft</td>\n",
       "      <td>120</td>\n",
       "      <td>steel/concrete</td>\n",
       "      <td>Clock/Retail/Hotel/Residential</td>\n",
       "    </tr>\n",
       "    <tr>\n",
       "      <th>3</th>\n",
       "      <td>4</td>\n",
       "      <td>Ping An Finance Center</td>\n",
       "      <td>Shenzhen</td>\n",
       "      <td>China</td>\n",
       "      <td>2010</td>\n",
       "      <td>2017</td>\n",
       "      <td>599.1</td>\n",
       "      <td>599.1 m / 1965 ft</td>\n",
       "      <td>115</td>\n",
       "      <td>composite</td>\n",
       "      <td>Office/Retail/Hotel</td>\n",
       "    </tr>\n",
       "    <tr>\n",
       "      <th>4</th>\n",
       "      <td>5</td>\n",
       "      <td>Lotte World Tower</td>\n",
       "      <td>Seoul</td>\n",
       "      <td>South Korea</td>\n",
       "      <td>2012</td>\n",
       "      <td>2017</td>\n",
       "      <td>554.5</td>\n",
       "      <td>554.5 m / 1,819 ft</td>\n",
       "      <td>123</td>\n",
       "      <td>composite</td>\n",
       "      <td>hotel / residential / office / retail</td>\n",
       "    </tr>\n",
       "  </tbody>\n",
       "</table>\n",
       "</div>"
      ],
      "text/plain": [
       "   Unnamed: 0                      name      city       country  \\\n",
       "0           1              Burj Khalifa     Dubai           UAE   \n",
       "1           2            Shanghai Tower  Shanghai         China   \n",
       "2           3  Makkah Royal Clock Tower     Mecca  Saudi Arabia   \n",
       "3           4    Ping An Finance Center  Shenzhen         China   \n",
       "4           5         Lotte World Tower     Seoul   South Korea   \n",
       "\n",
       "  status.started status.completed height in meters              height floors  \\\n",
       "0           2009             2010            2,722            2,722 ft    163   \n",
       "1           2008             2014             2073             2073 ft    128   \n",
       "2           2002             2012              601     601 m / 1972 ft    120   \n",
       "3           2010             2017            599.1   599.1 m / 1965 ft    115   \n",
       "4           2012             2017            554.5  554.5 m / 1,819 ft    123   \n",
       "\n",
       "         material                               function  \n",
       "0  steel/concrete                                variety  \n",
       "1       composite                Misc, Cultural Monument  \n",
       "2  steel/concrete         Clock/Retail/Hotel/Residential  \n",
       "3       composite                    Office/Retail/Hotel  \n",
       "4       composite  hotel / residential / office / retail  "
      ]
     },
     "execution_count": 61,
     "metadata": {},
     "output_type": "execute_result"
    }
   ],
   "source": [
    "## Load the dataset\n",
    "..."
   ]
  },
  {
   "cell_type": "markdown",
   "id": "73940664-b034-4cb0-ac7d-650f513f0428",
   "metadata": {},
   "source": [
    "Let's examine the metadata for the `ss` DataFrame. In the code cell below, run the `ss.info()` command to display column names, data types, and non-null counts.\n",
    "\n",
    "**Note:** Metadata refers to data about the data, such as column names, data types, missing values, and overall structure. Reviewing metadata helps ensure data integrity and guides preprocessing steps."
   ]
  },
  {
   "cell_type": "code",
   "execution_count": 62,
   "id": "0610d360-88fc-44c5-8a5b-6a305af20278",
   "metadata": {
    "tags": []
   },
   "outputs": [
    {
     "name": "stdout",
     "output_type": "stream",
     "text": [
      "<class 'pandas.core.frame.DataFrame'>\n",
      "RangeIndex: 102 entries, 0 to 101\n",
      "Data columns (total 11 columns):\n",
      " #   Column            Non-Null Count  Dtype \n",
      "---  ------            --------------  ----- \n",
      " 0   Unnamed: 0        102 non-null    int64 \n",
      " 1   name              102 non-null    object\n",
      " 2   city              100 non-null    object\n",
      " 3   country           102 non-null    object\n",
      " 4   status.started    100 non-null    object\n",
      " 5   status.completed  102 non-null    object\n",
      " 6   height in meters  102 non-null    object\n",
      " 7   height            102 non-null    object\n",
      " 8   floors            102 non-null    object\n",
      " 9   material          102 non-null    object\n",
      " 10  function          102 non-null    object\n",
      "dtypes: int64(1), object(10)\n",
      "memory usage: 8.9+ KB\n"
     ]
    }
   ],
   "source": [
    "ss.info()"
   ]
  },
  {
   "cell_type": "markdown",
   "id": "78e5820b-e344-44f7-9da0-a1b38c389157",
   "metadata": {},
   "source": [
    "**Question 2.** Refer to **Examples 1 and 2** in the `Week 8 lecture notebook` to:  \n",
    "\n",
    "- Remove the `Unnamed: 0` column.  \n",
    "\n",
    "- Rename the columns `status.started`, `status.completed`, and `height in meters`, converting them to `snake_case`.\n",
    "\n",
    "In separate code cells confirm that your processing has produced the expected results.\n",
    "\n",
    "**Note:** Feel free to add separate code cells for each step. Be sure to include comments in each cell to clearly describe the purpose of the code."
   ]
  },
  {
   "cell_type": "code",
   "execution_count": 63,
   "id": "0e359ecf-f65f-4550-a605-5a79933e3836",
   "metadata": {
    "tags": []
   },
   "outputs": [],
   "source": [
    "..."
   ]
  },
  {
   "cell_type": "code",
   "execution_count": 64,
   "id": "23045440-7f60-4b78-b937-52a51c934909",
   "metadata": {
    "tags": []
   },
   "outputs": [
    {
     "data": {
      "text/plain": [
       "Index(['name', 'city', 'country', 'status.started', 'status.completed',\n",
       "       'height in meters', 'height', 'floors', 'material', 'function'],\n",
       "      dtype='object')"
      ]
     },
     "execution_count": 64,
     "metadata": {},
     "output_type": "execute_result"
    }
   ],
   "source": [
    "..."
   ]
  },
  {
   "cell_type": "code",
   "execution_count": 65,
   "id": "8a90700e-e8fc-456a-b731-649f40a7588c",
   "metadata": {
    "tags": []
   },
   "outputs": [],
   "source": [
    "..."
   ]
  },
  {
   "cell_type": "code",
   "execution_count": 66,
   "id": "46c445f2-bea5-452d-9fb7-509043180880",
   "metadata": {
    "tags": []
   },
   "outputs": [
    {
     "data": {
      "text/plain": [
       "Index(['name', 'city', 'country', 'year_started', 'year_completed',\n",
       "       'height_meters', 'height', 'floors', 'material', 'function'],\n",
       "      dtype='object')"
      ]
     },
     "execution_count": 66,
     "metadata": {},
     "output_type": "execute_result"
    }
   ],
   "source": [
    "..."
   ]
  },
  {
   "cell_type": "markdown",
   "id": "dfedbc63-9a84-49f7-a3b6-13810be6e252",
   "metadata": {},
   "source": [
    "**Question 3.** Refer to **Example 3** in the `Week 8 lecture notebook` to convert the `height in meters` column from a string to a float. Then, add the cleaned values to the `ss` `DataFrame` as a new column named `clean_height_meters`.\n",
    "\n",
    "In a separate code cell confirm that your processing has produced the expected results.\n",
    "\n",
    "**Note:** Feel free to add separate code cells for each step. Be sure to include comments in each cell to clearly describe the purpose of the code."
   ]
  },
  {
   "cell_type": "code",
   "execution_count": 67,
   "id": "fbcc34b7-81e2-45f1-bd53-635070edaa08",
   "metadata": {
    "tags": []
   },
   "outputs": [],
   "source": [
    "..."
   ]
  },
  {
   "cell_type": "code",
   "execution_count": 68,
   "id": "020a3eb4-2e87-461a-8e76-a8bc4f03a3d3",
   "metadata": {
    "tags": []
   },
   "outputs": [
    {
     "name": "stdout",
     "output_type": "stream",
     "text": [
      "<class 'pandas.core.frame.DataFrame'>\n",
      "RangeIndex: 102 entries, 0 to 101\n",
      "Data columns (total 11 columns):\n",
      " #   Column               Non-Null Count  Dtype  \n",
      "---  ------               --------------  -----  \n",
      " 0   name                 102 non-null    object \n",
      " 1   city                 100 non-null    object \n",
      " 2   country              102 non-null    object \n",
      " 3   year_started         100 non-null    object \n",
      " 4   year_completed       102 non-null    object \n",
      " 5   height_meters        102 non-null    object \n",
      " 6   height               102 non-null    object \n",
      " 7   floors               102 non-null    object \n",
      " 8   material             102 non-null    object \n",
      " 9   function             102 non-null    object \n",
      " 10  clean_height_meters  102 non-null    float64\n",
      "dtypes: float64(1), object(10)\n",
      "memory usage: 8.9+ KB\n"
     ]
    }
   ],
   "source": [
    "..."
   ]
  },
  {
   "cell_type": "markdown",
   "id": "4a565d04-87ab-4b99-aa77-fc26f6167c62",
   "metadata": {},
   "source": [
    "**Question 4.** Refer to **Example 5** in the `Week 8 lecture notebook` to correct any text entries in the `floors` column. Replace these incorrect values with the appropriate numerical values based on the dataset. Then, convert the `floors` column to a numeric data type.\n",
    "\n",
    "In a separate code cell confirm that your processing has produced the expected results.\n",
    "\n",
    "**Note:** Feel free to add separate code cells for each step. Be sure to include comments in each cell to clearly describe the purpose of the code."
   ]
  },
  {
   "cell_type": "code",
   "execution_count": 69,
   "id": "ee0e2d1a-c220-44b9-a3d6-98afadc0d946",
   "metadata": {
    "tags": []
   },
   "outputs": [],
   "source": [
    "..."
   ]
  },
  {
   "cell_type": "code",
   "execution_count": 70,
   "id": "fd25e27d-a0ca-4e15-86b0-415ae86fa996",
   "metadata": {
    "tags": []
   },
   "outputs": [],
   "source": [
    "..."
   ]
  },
  {
   "cell_type": "code",
   "execution_count": 71,
   "id": "c47df004-229b-4898-a354-8b1105b10b3f",
   "metadata": {
    "tags": []
   },
   "outputs": [
    {
     "name": "stdout",
     "output_type": "stream",
     "text": [
      "<class 'pandas.core.frame.DataFrame'>\n",
      "RangeIndex: 102 entries, 0 to 101\n",
      "Data columns (total 11 columns):\n",
      " #   Column               Non-Null Count  Dtype  \n",
      "---  ------               --------------  -----  \n",
      " 0   name                 102 non-null    object \n",
      " 1   city                 100 non-null    object \n",
      " 2   country              102 non-null    object \n",
      " 3   year_started         100 non-null    object \n",
      " 4   year_completed       102 non-null    object \n",
      " 5   height_meters        102 non-null    object \n",
      " 6   height               102 non-null    object \n",
      " 7   floors               102 non-null    int64  \n",
      " 8   material             102 non-null    object \n",
      " 9   function             102 non-null    object \n",
      " 10  clean_height_meters  102 non-null    float64\n",
      "dtypes: float64(1), int64(1), object(9)\n",
      "memory usage: 8.9+ KB\n"
     ]
    }
   ],
   "source": [
    "..."
   ]
  },
  {
   "cell_type": "code",
   "execution_count": 72,
   "id": "778843b9-4312-47c9-866f-6b048bceaa66",
   "metadata": {
    "tags": []
   },
   "outputs": [
    {
     "name": "stdout",
     "output_type": "stream",
     "text": [
      "103\n",
      "73\n"
     ]
    }
   ],
   "source": [
    "print(ss.loc[48, 'floors'])\n",
    "print(ss.loc[61, 'floors'])"
   ]
  },
  {
   "cell_type": "markdown",
   "id": "72e33978-5799-4141-94bd-e82958adc364",
   "metadata": {},
   "source": [
    "**Question 5.** Use the `.value_counts()` method to generate a frequency table of country names, showing the count of occurrences for each unique country."
   ]
  },
  {
   "cell_type": "code",
   "execution_count": 73,
   "id": "3329dfaf-0b9e-4115-b454-8e0dfe7f8337",
   "metadata": {
    "tags": []
   },
   "outputs": [
    {
     "data": {
      "text/plain": [
       "China                         50\n",
       "United Arab Emirates          12\n",
       "United States of America       9\n",
       "Russia                         5\n",
       "South Korea                    3\n",
       "USA                            3\n",
       "Taiwan                         2\n",
       "United Arab Emirates (UAE)     2\n",
       "Malasya                        2\n",
       "Malaysia                       2\n",
       "Dubai                          1\n",
       "Germany                        1\n",
       "US                             1\n",
       "United Sates of America        1\n",
       "saudi Arabia                   1\n",
       "UAE                            1\n",
       "Shenzhen                       1\n",
       "Kuwait                         1\n",
       "Vietnam                        1\n",
       "New York                       1\n",
       "Saudi Arabia                   1\n",
       "Spain                          1\n",
       "Name: country, dtype: int64"
      ]
     },
     "execution_count": 73,
     "metadata": {},
     "output_type": "execute_result"
    }
   ],
   "source": [
    "..."
   ]
  },
  {
   "cell_type": "markdown",
   "id": "b590f2f2-7215-4131-af6a-138f8646172e",
   "metadata": {},
   "source": [
    "The code\n",
    "\n",
    "```python\n",
    "ss['country'].value_counts()\n",
    "```\n",
    "\n",
    "executed without any errors, but the output is incorrect because the same country has been entered in different ways, leading to inconsistent results. For instance:\n",
    "\n",
    "- USA, US, United Sates of America, and United States of America are listed separately, though they refer to the same country.\n",
    "\n",
    "- United Arab Emirates appears multiple times as United Arab Emirates (UAE) and UAE.\n",
    "\n",
    "- Malaysia is misspelled as Malasya.\n",
    "\n",
    "- Saudi Arabia is listed as saudi Arabia (with a lowercase \"s\").\n",
    "\n",
    "- Shenzhen is a Province in China, not a country.\n",
    "\n",
    "- New York is a city in the United States of America, not a country.\n",
    "\n",
    "- Dubai is a city in the United Arab Emirates, not a country.\n",
    "\n",
    "We aim to compare summary statistics for the top three countries in the dataset: China, the United Arab Emirates, and the United States. To ensure an accurate comparison, we must first standardize the country names.\n",
    "\n",
    "## Making Choices\n",
    "\n",
    "In this section, you will choose a categorical label of your preference. For brevity and clarity, I will demonstrate a method to label all buildings in the United Arab Emirates as **UAE**. You can use this method as shown or choose an alternative approach to label buildings in China and the United States. \n",
    "\n",
    "### Filter the Data\n",
    "\n",
    "First we need all the rows that should be labeled UAE.\n",
    "\n",
    "1. A list named `uae` is created that contains different variations of how the United Arab Emirates may appear in the dataset.\n",
    "\n",
    "```python\n",
    "uae = [\"United Arab Emirates\", \"United Arab Emirates (UAE)\", \"Dubai\", \"UAE\"]\n",
    "```\n",
    "\n",
    "2. The `.isin(uae)` method checks if each value in the `country` column exists in the `uae` list. This results in a boolean mask—a series of `True` and `False` values:\n",
    "\n",
    "   - `True`: The country name is in the `uae list.\n",
    "\n",
    "   - `False`: The country name is not in the `uae` list.\n",
    "   \n",
    "```python\n",
    "mask = ss['country'].isin(uae)\n",
    "```\n",
    "\n",
    "3.  Filter `DataFrame` to only include rows where mask is `True` (i.e., where country matches one of the values in `uae`). Then select only the `country` column from these filtered rows. This displays the results but does not modify the original `ss` `DataFrame`.\n",
    "\n",
    "```python\n",
    "ss[mask]['country']\n",
    "```"
   ]
  },
  {
   "cell_type": "code",
   "execution_count": 74,
   "id": "812eb0c5-73f3-4fd7-b427-97c0fb7f412d",
   "metadata": {
    "tags": []
   },
   "outputs": [
    {
     "data": {
      "text/plain": [
       "0                            UAE\n",
       "28          United Arab Emirates\n",
       "32          United Arab Emirates\n",
       "39                         Dubai\n",
       "47          United Arab Emirates\n",
       "49          United Arab Emirates\n",
       "55          United Arab Emirates\n",
       "61          United Arab Emirates\n",
       "63          United Arab Emirates\n",
       "64    United Arab Emirates (UAE)\n",
       "65    United Arab Emirates (UAE)\n",
       "66          United Arab Emirates\n",
       "70          United Arab Emirates\n",
       "81          United Arab Emirates\n",
       "96          United Arab Emirates\n",
       "98          United Arab Emirates\n",
       "Name: country, dtype: object"
      ]
     },
     "execution_count": 74,
     "metadata": {},
     "output_type": "execute_result"
    }
   ],
   "source": [
    "uae = [\"United Arab Emirates\", \"United Arab Emirates (UAE)\", \"Dubai\", \"UAE\"]\n",
    "mask = ss['country'].isin(uae)\n",
    "ss[mask]['country']"
   ]
  },
  {
   "cell_type": "markdown",
   "id": "4a010fa9-3b4a-4762-8a24-c654be526985",
   "metadata": {},
   "source": [
    "### `.index`\n",
    "\n",
    "The `.index` attribute in `pandas` returns the index labels of a `DataFrame` or `Series`. It allows you to access the row labels (or numerical index positions if not explicitly set) for filtering, iteration, and modification.\n",
    "\n",
    "4. Filter `DataFrame` to only include rows where mask is `True` (i.e., where country matches one of the values in `uae`). Then select only the `country` column from these filtered rows and extracts the index values of these `rows`.\n",
    "\n",
    "```python\n",
    "rows = ss[mask]['country'].index\n",
    "```"
   ]
  },
  {
   "cell_type": "code",
   "execution_count": 75,
   "id": "0a5ad9d1",
   "metadata": {
    "tags": []
   },
   "outputs": [
    {
     "data": {
      "text/plain": [
       "Int64Index([0, 28, 32, 39, 47, 49, 55, 61, 63, 64, 65, 66, 70, 81, 96, 98], dtype='int64')"
      ]
     },
     "execution_count": 75,
     "metadata": {},
     "output_type": "execute_result"
    }
   ],
   "source": [
    "rows = ss[mask]['country'].index\n",
    "rows"
   ]
  },
  {
   "cell_type": "markdown",
   "id": "fdc8290e-c622-431c-adfd-2bc0419c6193",
   "metadata": {},
   "source": [
    "5. A `for` loop iterates over each index value stored in `rows`, processing one item at a time.\n",
    "\n",
    "```python\n",
    "for i in rows:\n",
    "```\n",
    "\n",
    "6. `ss.loc[i, 'country']` accesses the country name in the row with index `i`. This value is stored in `previous_label` to keep track of what the country name was before the update.\n",
    "\n",
    "```python\n",
    "    previous_label = ss.loc[i, 'country']\n",
    "```\n",
    "\n",
    "7. `ss.loc[i, 'country'] = \"UAE\"` replaces the value in the country column at row index i with \"UAE\", standardizing all variations to a single label.\n",
    "\n",
    "```python\n",
    "    ss.loc[i, 'country'] = \"UAE\"\n",
    "```\n",
    "\n",
    "8. `print()` outputs the index, the original country name, and the new updated name. This statement uses an f-string to format the output with proper spacing for readability.\n",
    "\n",
    "```python\n",
    "print(f\"Row index: {i:<5} Previous label: {previous_label:<30} New label: {ss.loc[i, 'country']:<20}\")\n",
    "```\n",
    "\n",
    " - `{i:<5}`: Prints `i` (row index), left-aligned in a 5-character space.\n",
    "\n",
    " - `{previous_label:<30}`: Prints the old country name, left-aligned in a 30-character space.\n",
    " \n",
    " - `{ss.loc[i, 'country']:<20}`: Prints the new country name, left-aligned in a 20-character space."
   ]
  },
  {
   "cell_type": "markdown",
   "id": "5449150b-d010-46ad-adc5-3428a362d71a",
   "metadata": {},
   "source": [
    "**Question 6.** Run the cell below."
   ]
  },
  {
   "cell_type": "code",
   "execution_count": 77,
   "id": "8c92dcca-e0a0-449a-aec9-4ad933e739de",
   "metadata": {
    "tags": []
   },
   "outputs": [
    {
     "name": "stdout",
     "output_type": "stream",
     "text": [
      "Row index: 0     Previous label: UAE                            New label: UAE                 \n",
      "Row index: 28    Previous label: United Arab Emirates           New label: UAE                 \n",
      "Row index: 32    Previous label: United Arab Emirates           New label: UAE                 \n",
      "Row index: 39    Previous label: Dubai                          New label: UAE                 \n",
      "Row index: 47    Previous label: United Arab Emirates           New label: UAE                 \n",
      "Row index: 49    Previous label: United Arab Emirates           New label: UAE                 \n",
      "Row index: 55    Previous label: United Arab Emirates           New label: UAE                 \n",
      "Row index: 61    Previous label: United Arab Emirates           New label: UAE                 \n",
      "Row index: 63    Previous label: United Arab Emirates           New label: UAE                 \n",
      "Row index: 64    Previous label: United Arab Emirates (UAE)     New label: UAE                 \n",
      "Row index: 65    Previous label: United Arab Emirates (UAE)     New label: UAE                 \n",
      "Row index: 66    Previous label: United Arab Emirates           New label: UAE                 \n",
      "Row index: 70    Previous label: United Arab Emirates           New label: UAE                 \n",
      "Row index: 81    Previous label: United Arab Emirates           New label: UAE                 \n",
      "Row index: 96    Previous label: United Arab Emirates           New label: UAE                 \n",
      "Row index: 98    Previous label: United Arab Emirates           New label: UAE                 \n"
     ]
    }
   ],
   "source": [
    "for i in rows:\n",
    "    previous_label = ss.loc[i, 'country']\n",
    "    ss.loc[i, 'country'] = \"UAE\"\n",
    "    print(f\"Row index: {i:<5} Previous label: {previous_label:<30} New label: {ss.loc[i, 'country']:<20}\")"
   ]
  },
  {
   "cell_type": "markdown",
   "id": "fdc767d0-9534-4f52-981e-d35c58774cf8",
   "metadata": {},
   "source": [
    "Now that the labels for the UAE have been corrected, we will now standardize the labels for buildings in China."
   ]
  },
  {
   "cell_type": "markdown",
   "id": "831bc693-5b7a-4510-abb3-aec2c1564f72",
   "metadata": {
    "tags": []
   },
   "source": [
    "Run the cell below to use the `.query()` method to locate the row where the country label is Shenzhen."
   ]
  },
  {
   "cell_type": "code",
   "execution_count": 56,
   "id": "55762c64-6c63-4440-837b-014e4676c617",
   "metadata": {
    "tags": []
   },
   "outputs": [
    {
     "data": {
      "text/html": [
       "<div>\n",
       "<style scoped>\n",
       "    .dataframe tbody tr th:only-of-type {\n",
       "        vertical-align: middle;\n",
       "    }\n",
       "\n",
       "    .dataframe tbody tr th {\n",
       "        vertical-align: top;\n",
       "    }\n",
       "\n",
       "    .dataframe thead th {\n",
       "        text-align: right;\n",
       "    }\n",
       "</style>\n",
       "<table border=\"1\" class=\"dataframe\">\n",
       "  <thead>\n",
       "    <tr style=\"text-align: right;\">\n",
       "      <th></th>\n",
       "      <th>name</th>\n",
       "      <th>city</th>\n",
       "      <th>country</th>\n",
       "      <th>year_started</th>\n",
       "      <th>year_completed</th>\n",
       "      <th>height_meters</th>\n",
       "      <th>height</th>\n",
       "      <th>floors</th>\n",
       "      <th>material</th>\n",
       "      <th>function</th>\n",
       "      <th>clean_height_meters</th>\n",
       "    </tr>\n",
       "  </thead>\n",
       "  <tbody>\n",
       "    <tr>\n",
       "      <th>38</th>\n",
       "      <td>China Resources Tower</td>\n",
       "      <td>NaN</td>\n",
       "      <td>Shenzhen</td>\n",
       "      <td>2012</td>\n",
       "      <td>2018</td>\n",
       "      <td>392.5</td>\n",
       "      <td>392.5 m / 1,288 ft</td>\n",
       "      <td>68</td>\n",
       "      <td>composite</td>\n",
       "      <td>office</td>\n",
       "      <td>392.5</td>\n",
       "    </tr>\n",
       "  </tbody>\n",
       "</table>\n",
       "</div>"
      ],
      "text/plain": [
       "                     name city   country year_started year_completed  \\\n",
       "38  China Resources Tower  NaN  Shenzhen         2012           2018   \n",
       "\n",
       "   height_meters              height  floors   material function  \\\n",
       "38         392.5  392.5 m / 1,288 ft      68  composite   office   \n",
       "\n",
       "    clean_height_meters  \n",
       "38                392.5  "
      ]
     },
     "execution_count": 56,
     "metadata": {},
     "output_type": "execute_result"
    }
   ],
   "source": [
    "q = \"country == 'Shenzhen'\"\n",
    "\n",
    "ss.query(q)"
   ]
  },
  {
   "cell_type": "markdown",
   "id": "82ce4acd-ca7e-4b3d-b2ed-4b762c3b18bc",
   "metadata": {},
   "source": [
    "**Question 7.** Correct the mislabeled entry by changing Shenzhen to China.\n",
    "\n",
    "In a separate code cell confirm that your processing has produced the expected results."
   ]
  },
  {
   "cell_type": "code",
   "execution_count": 57,
   "id": "42fa3f91-7eac-4cb5-9f52-e6d42bf76739",
   "metadata": {
    "tags": []
   },
   "outputs": [],
   "source": [
    "..."
   ]
  },
  {
   "cell_type": "code",
   "execution_count": 58,
   "id": "98882074-3b1a-41c8-9a04-fa44b4637f3b",
   "metadata": {
    "tags": []
   },
   "outputs": [
    {
     "data": {
      "text/plain": [
       "name                   China Resources Tower\n",
       "city                                     NaN\n",
       "country                                China\n",
       "year_started                            2012\n",
       "year_completed                          2018\n",
       "height_meters                          392.5\n",
       "height                    392.5 m / 1,288 ft\n",
       "floors                                    68\n",
       "material                           composite\n",
       "function                              office\n",
       "clean_height_meters                    392.5\n",
       "Name: 38, dtype: object"
      ]
     },
     "execution_count": 58,
     "metadata": {},
     "output_type": "execute_result"
    }
   ],
   "source": [
    "..."
   ]
  },
  {
   "cell_type": "markdown",
   "id": "7596b9e9-9e76-4075-917a-923368aa06da",
   "metadata": {},
   "source": [
    "**Question 8.** Standardize the labels for buildings in the United States. You can choose your preferred label, such as US, USA, United States, or United States of America.In a separate code cell confirm that your processing has produced the expected results.\n",
    "\n",
    "In a separate code cell confirm that your processing has produced the expected results.\n",
    "\n",
    "**Note:** Feel free to add separate code cells for each step. Be sure to include comments in each cell to clearly describe the purpose of the code."
   ]
  },
  {
   "cell_type": "code",
   "execution_count": 78,
   "id": "033711f7-ee96-429b-b94f-c8bf741ab7a5",
   "metadata": {
    "tags": []
   },
   "outputs": [
    {
     "name": "stdout",
     "output_type": "stream",
     "text": [
      "Row index: 22    Previous label: United States of America       New label: USA                 \n",
      "Row index: 25    Previous label: United States of America       New label: USA                 \n",
      "Row index: 26    Previous label: United States of America       New label: USA                 \n",
      "Row index: 27    Previous label: United States of America       New label: USA                 \n",
      "Row index: 29    Previous label: United States of America       New label: USA                 \n",
      "Row index: 42    Previous label: United States of America       New label: USA                 \n",
      "Row index: 48    Previous label: United Sates of America        New label: USA                 \n",
      "Row index: 60    Previous label: United States of America       New label: USA                 \n",
      "Row index: 79    Previous label: US                             New label: USA                 \n",
      "Row index: 86    Previous label: United States of America       New label: USA                 \n",
      "Row index: 97    Previous label: United States of America       New label: USA                 \n"
     ]
    }
   ],
   "source": [
    "..."
   ]
  },
  {
   "cell_type": "markdown",
   "id": "8fb0ee94-035a-47b4-ac45-4af6612e2659",
   "metadata": {},
   "source": [
    "**Question 9.** Filter the `ss` `DataFrame` to include only rows where the country is China, UAE, or USA. Save the filtered DataFrame as `dat`.\n",
    "\n",
    "In a separate code cell confirm that your processing has produced the expected results."
   ]
  },
  {
   "cell_type": "code",
   "execution_count": 82,
   "id": "583553a2-67bc-4562-88f5-a74ec3bbd08a",
   "metadata": {
    "tags": []
   },
   "outputs": [
    {
     "data": {
      "text/plain": [
       "array(['UAE', 'China', 'USA'], dtype=object)"
      ]
     },
     "execution_count": 82,
     "metadata": {},
     "output_type": "execute_result"
    }
   ],
   "source": [
    "q = ...\n",
    "\n",
    "dat = ..."
   ]
  },
  {
   "cell_type": "code",
   "execution_count": null,
   "id": "8c652ab1-8209-4d5f-95f0-259a9087f304",
   "metadata": {},
   "outputs": [],
   "source": [
    "..."
   ]
  },
  {
   "cell_type": "markdown",
   "id": "9fd5a384-eae8-4c26-b2bd-7e572d492993",
   "metadata": {},
   "source": [
    "Run the cell below."
   ]
  },
  {
   "cell_type": "code",
   "execution_count": 83,
   "id": "fe433d0c-5818-40f4-9e1b-001b4ca47d81",
   "metadata": {
    "tags": []
   },
   "outputs": [
    {
     "data": {
      "text/html": [
       "<div>\n",
       "<style scoped>\n",
       "    .dataframe tbody tr th:only-of-type {\n",
       "        vertical-align: middle;\n",
       "    }\n",
       "\n",
       "    .dataframe tbody tr th {\n",
       "        vertical-align: top;\n",
       "    }\n",
       "\n",
       "    .dataframe thead th {\n",
       "        text-align: right;\n",
       "    }\n",
       "</style>\n",
       "<table border=\"1\" class=\"dataframe\">\n",
       "  <thead>\n",
       "    <tr style=\"text-align: right;\">\n",
       "      <th></th>\n",
       "      <th>count</th>\n",
       "      <th>mean</th>\n",
       "      <th>std</th>\n",
       "      <th>min</th>\n",
       "      <th>25%</th>\n",
       "      <th>50%</th>\n",
       "      <th>75%</th>\n",
       "      <th>max</th>\n",
       "    </tr>\n",
       "    <tr>\n",
       "      <th>country</th>\n",
       "      <th></th>\n",
       "      <th></th>\n",
       "      <th></th>\n",
       "      <th></th>\n",
       "      <th></th>\n",
       "      <th></th>\n",
       "      <th></th>\n",
       "      <th></th>\n",
       "    </tr>\n",
       "  </thead>\n",
       "  <tbody>\n",
       "    <tr>\n",
       "      <th>China</th>\n",
       "      <td>50.0</td>\n",
       "      <td>505.334000</td>\n",
       "      <td>354.284544</td>\n",
       "      <td>35.6</td>\n",
       "      <td>339.600</td>\n",
       "      <td>378.65</td>\n",
       "      <td>451.575</td>\n",
       "      <td>2073.0</td>\n",
       "    </tr>\n",
       "    <tr>\n",
       "      <th>UAE</th>\n",
       "      <td>16.0</td>\n",
       "      <td>568.550000</td>\n",
       "      <td>615.467698</td>\n",
       "      <td>335.1</td>\n",
       "      <td>353.950</td>\n",
       "      <td>358.15</td>\n",
       "      <td>397.650</td>\n",
       "      <td>2722.0</td>\n",
       "    </tr>\n",
       "    <tr>\n",
       "      <th>USA</th>\n",
       "      <td>14.0</td>\n",
       "      <td>566.414286</td>\n",
       "      <td>331.344480</td>\n",
       "      <td>335.3</td>\n",
       "      <td>371.125</td>\n",
       "      <td>426.35</td>\n",
       "      <td>464.875</td>\n",
       "      <td>1250.0</td>\n",
       "    </tr>\n",
       "  </tbody>\n",
       "</table>\n",
       "</div>"
      ],
      "text/plain": [
       "         count        mean         std    min      25%     50%      75%  \\\n",
       "country                                                                   \n",
       "China     50.0  505.334000  354.284544   35.6  339.600  378.65  451.575   \n",
       "UAE       16.0  568.550000  615.467698  335.1  353.950  358.15  397.650   \n",
       "USA       14.0  566.414286  331.344480  335.3  371.125  426.35  464.875   \n",
       "\n",
       "            max  \n",
       "country          \n",
       "China    2073.0  \n",
       "UAE      2722.0  \n",
       "USA      1250.0  "
      ]
     },
     "execution_count": 83,
     "metadata": {},
     "output_type": "execute_result"
    }
   ],
   "source": [
    "dat.groupby('country')['clean_height_meters'].describe()"
   ]
  },
  {
   "cell_type": "markdown",
   "id": "9a2f0646-afd9-4c8b-84a1-5c61888b0cd1",
   "metadata": {},
   "source": [
    "**Question 10.** Analyze the output from the previous command and summarize your observations in a paragraph. Highlight any interesting patterns, trends, or anomalies you notice in the data. Consider factors such as frequency, distribution, or any unexpected values that stand out."
   ]
  },
  {
   "cell_type": "markdown",
   "id": "6c35245a-d393-403b-aa16-49484410cc14",
   "metadata": {},
   "source": [
    "_TYPE YOUR ANSWET HERE REPLACING THIS TEXT_"
   ]
  },
  {
   "cell_type": "markdown",
   "id": "f7f2fb35-e43c-4d11-9320-804fe1cb76d9",
   "metadata": {},
   "source": [
    "## Submission\n",
    "\n",
    "Make sure that all cells in your assignment have been executed to display all output, images, and graphs in the final document.\n",
    "\n",
    "**Note:** Save the assignment before proceeding to download the file.\n",
    "\n",
    "After downloading, locate the `.ipynb` file and upload **only** this file to Moodle. The assignment will be automatically submitted to Gradescope for grading."
   ]
  }
 ],
 "metadata": {
  "kernelspec": {
   "display_name": "Python 3 (ipykernel)",
   "language": "python",
   "name": "python3"
  },
  "language_info": {
   "codemirror_mode": {
    "name": "ipython",
    "version": 3
   },
   "file_extension": ".py",
   "mimetype": "text/x-python",
   "name": "python",
   "nbconvert_exporter": "python",
   "pygments_lexer": "ipython3",
   "version": "3.10.11"
  }
 },
 "nbformat": 4,
 "nbformat_minor": 5
}
