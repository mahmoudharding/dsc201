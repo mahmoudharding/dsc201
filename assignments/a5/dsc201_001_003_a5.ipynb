{
 "cells": [
  {
   "cell_type": "markdown",
   "id": "01e385d4-c1ac-4187-87ff-cdc24fd2bbc2",
   "metadata": {
    "tags": []
   },
   "source": [
    "# Run the cell below\n",
    "\n",
    "To run a code cell (i.e.; execute the python code inside a Jupyter notebook) you can click the play button on the ribbon underneath the name of the notebook that looks like ▶| or hold down `Shift` + `Return`.\n",
    "\n",
    "Before you begin run the code cell below."
   ]
  },
  {
   "cell_type": "code",
   "execution_count": null,
   "id": "8a091599",
   "metadata": {
    "deletable": false,
    "editable": false
   },
   "outputs": [],
   "source": [
    "# Initialize Otter\n",
    "import otter\n",
    "grader = otter.Notebook(\"dsc201_001_003_a5.ipynb\")"
   ]
  },
  {
   "cell_type": "markdown",
   "id": "6d901818-e4d1-470c-a7c1-0939f282a45d",
   "metadata": {},
   "source": [
    "## Jupyter notebooks\n",
    "\n",
    "This webpage is called a Jupyter notebook. A notebook is a place to write programs and view their results. We can also to write and format text using markdown.\n",
    "\n",
    "As for working in notebooks, there are two types of cells (each rectangle containing text or code is called a **cell**): \n",
    "\n",
    " - **code** cells that hold executable code.\n",
    " \n",
    " - **markdown** cells that hold a special kind of text that follows the markdown syntax. To get familiar with the markdown syntax, take a look at this [Markdown Gudie](https://www.markdownguide.org/basic-syntax/). Markdown cells (like this one) can be edited by double-clicking on them. After you edit a markdown cell, click the \"Run cell\" button at the top that looks like ▶| or hold down `Shift` + `Return` to confirm any changes. \n",
    "\n",
    "   **Note:** Try not to delete the instructions of the assignment.\n",
    "\n",
    "## Markdown Cells\n",
    "\n",
    "Markdown cells are sometime referred to as *text* cells. In the text cell below enter your name, section, and the date.\n",
    "\n",
    "**Note:** After you make changes to the text cell don't forget to click the \"Run cell\" button at the top that looks like ▶| or hold down `Shift` + `Return` to view the changes."
   ]
  },
  {
   "cell_type": "markdown",
   "id": "a7f2161a-33d4-45c0-a0cf-114205007ab4",
   "metadata": {},
   "source": [
    "**Name:** \n",
    "\n",
    "**Section:** \n",
    "\n",
    "**Date:**"
   ]
  },
  {
   "cell_type": "markdown",
   "id": "1abecfba-7441-46d9-8247-93576ad71a68",
   "metadata": {},
   "source": [
    "## This Week's Assignment\n",
    "\n",
    "In this week's assignment, you'll learn how to:\n",
    "\n",
    "- use assignment statements.\n",
    "\n",
    "- create a list, a tuple and a dictionary.\n",
    "\n",
    "Let's get started!"
   ]
  },
  {
   "cell_type": "markdown",
   "id": "d8bbb982-ec18-4340-873c-586c486fcbec",
   "metadata": {},
   "source": [
    "## Edit Mode vs. Command Mode \n",
    "\n",
    "Jupyter Notebook has a modal user interface. This means that the keyboard does different things depending on which mode the Notebook is in. There are two modes: \"Edit mode\" and \"Command mode\". Edit mode allows you to type into the cells like a normal text editor. Command mode allows you to edit the notebook as a whole, but not type into individual cells.\n",
    "\n",
    "<img src='images/edit-mode.png' height=200 width=500>\n",
    "\n",
    "## The Kernel\n",
    "\n",
    "The kernel is a program that executes the code inside your notebook and outputs the results. In the top right of your window, you can see the name `(DSC201)` and a circle that indicates the status of your kernel. If the circle is empty (⚪), the kernel is idle and ready to execute code. If the circle is filled in(⚫), the kernel is busy running some code. \n",
    "\n",
    "Next to every code cell, you'll see some text that says `In [...]`. Before you run the cell, you'll see `In [ ]`. When the cell is running, you'll see `In [*]`. If you see an asterisk (\\*) next to a cell that doesn't go away, it's likely that the code inside the cell is taking too long to run, and it might be a good time to interrupt the kernel (discussed below). When a cell is finished running, you'll see a number inside the brackets, like so: `In [1]`. The number corresponds to the order in which you run the cells; so, the first cell you run will show a 1 when it's finished running, the second will show a 2, and so on. \n",
    "\n",
    "You may run into problems where your kernel is stuck for an excessive amount of time, your notebook is very slow and unresponsive, or your kernel loses its connection. If this happens, try the following steps:\n",
    "\n",
    "1. At the top of your screen, click **Kernel**, then **Interrupt Kernel**. Trying running your code again.\n",
    "\n",
    "1. If that doesn't help, click **Kernel**, then **Restart Kernel**. If you do this, you will have to run your code cells from the start of your notebook up until where you paused your work."
   ]
  },
  {
   "cell_type": "markdown",
   "id": "66bde0f8-6809-4173-a2df-31e4bf8360a9",
   "metadata": {},
   "source": [
    "## Errors\n",
    "\n",
    "Whenever you write code, you'll make mistakes.  When you run a code cell that has errors, Python will sometimes produce error messages to tell you what you did wrong. Errors are okay; even experienced programmers make many errors.  When you make an error, you just have to find the source of the problem, fix it, and move on.\n",
    "\n",
    "There is an error in the next cell.  Run it and see what happens."
   ]
  },
  {
   "cell_type": "code",
   "execution_count": null,
   "id": "6a810166-60d2-4c38-b97c-542a0e690935",
   "metadata": {},
   "outputs": [],
   "source": [
    "print(\"This line is missing something.\""
   ]
  },
  {
   "cell_type": "markdown",
   "id": "42f7f6f2-b48a-4e6d-ad89-23f02482a7aa",
   "metadata": {},
   "source": [
    "**Note:** In the toolbar, there is the option to click `Run > Run All Cells`, which will run all the code cells in this notebook in order. However, the notebook stops running code cells if it hits an error, like the one in the cell above."
   ]
  },
  {
   "cell_type": "markdown",
   "id": "a477d07c-9675-4e25-812f-16e66b1c4ac6",
   "metadata": {},
   "source": [
    "You should see something like this (minus our annotations):\n",
    "\n",
    "<img src=\"images/error.jpg\" />\n",
    "\n",
    "The last line of the error output attempts to tell you what went wrong.  The *syntax* of a language is its structure, and this `SyntaxError` tells you that you have created an illegal structure.  \"`incomplete input`\" means \"somehing is missing\" so the message is saying Python expected you to write something more (in this case, a right parenthesis) before finishing the cell."
   ]
  },
  {
   "cell_type": "markdown",
   "id": "52aca376-d5c3-4a8f-8b20-12318d0545b3",
   "metadata": {},
   "source": [
    "**Question 1.** Fix the code below so that you can run the cell and see the intended message instead of an error."
   ]
  },
  {
   "cell_type": "code",
   "execution_count": null,
   "id": "bbf017d5-10b0-419e-ad0b-ff1c01e64ad5",
   "metadata": {},
   "outputs": [],
   "source": [
    "print(\"This line is missing something.\""
   ]
  },
  {
   "cell_type": "markdown",
   "id": "b70e713a-3dd5-4141-91b9-445bd28ae2fb",
   "metadata": {},
   "source": [
    "## Variables\n",
    "\n",
    "Variables are used to store information in Python programs. To store a value in a variable we use an assignment statement. An assignment statement has a name on the left side of an `=` sign and an expression to be evaluated on the right. They are particularly helpful when you need to calculate many different things in a row, and also when you need one value to help calculate another.\n",
    "\n",
    "- Variable names can contain uppercase and lowercase letters, the digits 0-9, and underscores.\n",
    "\n",
    "- Variable names can not start with a number.\n",
    "\n",
    "- Variables names are case sensitive\n",
    "\n",
    "- Variables that do not have values yet cause errors when called."
   ]
  },
  {
   "cell_type": "markdown",
   "id": "25ebe9ba-76b0-4c1b-a537-8a39ec236247",
   "metadata": {},
   "source": [
    "## Data Types\n",
    "\n",
    "- Integer (`int`) are numbers w/o decimals\n",
    "\n",
    "- Float (`float`) are numbers with decimals\n",
    "\n",
    "- String (`str`) are used to store text"
   ]
  },
  {
   "cell_type": "markdown",
   "id": "41d648e6-193b-4829-b56a-c5d196af2523",
   "metadata": {
    "deletable": false,
    "editable": false
   },
   "source": [
    "**Question 2.** Assign a value to each variable. Be sure to use the appropriate data type based on the comments and the name of the variable."
   ]
  },
  {
   "cell_type": "code",
   "execution_count": null,
   "id": "bbdc6422-4a21-40d0-8dd6-886df9b9344b",
   "metadata": {
    "tags": []
   },
   "outputs": [],
   "source": [
    "# An integer\n",
    "my_int = ...\n",
    "\n",
    "# A float (decimal)\n",
    "my_float = ...\n",
    "\n",
    "# A string\n",
    "my_string = ...\n",
    "\n",
    "# Print output using the print function\n",
    "print(my_int)\n",
    "print(my_float)\n",
    "print(my_string)"
   ]
  },
  {
   "cell_type": "code",
   "execution_count": null,
   "id": "927600d3",
   "metadata": {
    "deletable": false,
    "editable": false
   },
   "outputs": [],
   "source": [
    "grader.check(\"q2\")"
   ]
  },
  {
   "cell_type": "markdown",
   "id": "5e886c74-a66b-4964-8c42-6fbab0be039c",
   "metadata": {
    "deletable": false,
    "editable": false
   },
   "source": [
    "**Question 3.** We set a variable `pi` to the value 3.14 and another variable `r` to 5. On a following line, assign the variable `sa` to a Python expression that evaluates to the surface area of a sphere with radius 5. **Do not** use the numbers `3.14` or `5` in your expression for `sa`.\n",
    "\n",
    "**Hint**: The formula for the surface area of a sphere with radius $r$ is: \n",
    "\n",
    "$$\\text{Surface Area} = 4 \\pi r^2$$"
   ]
  },
  {
   "cell_type": "code",
   "execution_count": null,
   "id": "e004971a-a1c6-4f57-8bf3-a9b9458e42c5",
   "metadata": {
    "tags": []
   },
   "outputs": [],
   "source": [
    "pi = ...\n",
    "r = 5\n",
    "\n",
    "sa = ...\n",
    "sa"
   ]
  },
  {
   "cell_type": "code",
   "execution_count": null,
   "id": "5feb3b09",
   "metadata": {
    "deletable": false,
    "editable": false
   },
   "outputs": [],
   "source": [
    "grader.check(\"q3\")"
   ]
  },
  {
   "cell_type": "markdown",
   "id": "c3ccc2a8-cb02-4d96-90e6-1caa58b9581f",
   "metadata": {
    "deletable": false,
    "editable": false
   },
   "source": [
    "**Question 4.** Assign the name `seconds_in_a_decade` to the number of seconds between midnight January 1, 1990 and midnight January 1, 2000."
   ]
  },
  {
   "cell_type": "code",
   "execution_count": null,
   "id": "500e43f0-cb63-4356-bd4a-85f9193261ad",
   "metadata": {
    "tags": []
   },
   "outputs": [],
   "source": [
    "seconds_in_a_decade = ...\n",
    "\n",
    "# The last line in this cell will print the value\n",
    "# you've given to seconds_in_a_decade when you run it.  \n",
    "# You don't need to change this.\n",
    "seconds_in_a_decade"
   ]
  },
  {
   "cell_type": "code",
   "execution_count": null,
   "id": "ac77ecdb",
   "metadata": {
    "deletable": false,
    "editable": false
   },
   "outputs": [],
   "source": [
    "grader.check(\"q4\")"
   ]
  },
  {
   "cell_type": "markdown",
   "id": "9dd701d7-091f-46e9-a155-c5e2b172796e",
   "metadata": {},
   "source": [
    "## Data Structures\n",
    "\n",
    "- List\n",
    "\n",
    "- Tuple\n",
    "\n",
    "- Dictionary \n",
    "\n",
    "### List\n",
    "\n",
    "- A list is used to store multiple values in a single value or variable. \n",
    "\n",
    "- To create a list use square brackets.\n",
    "\n",
    "- Lists can contain elements of different types.\n",
    "\n",
    "- List items are indexed beginning with 0."
   ]
  },
  {
   "cell_type": "code",
   "execution_count": null,
   "id": "56fe3dd7-a4d4-4e07-ab70-fc2691715323",
   "metadata": {},
   "outputs": [],
   "source": [
    "# List of random words\n",
    "random_words = [\"apple\", \"banana\", \"cherry\", \"doggie\", \"elephant\", \n",
    "                \"flower\", \"grape\", \"hamburger\", \"ice cream\"]"
   ]
  },
  {
   "cell_type": "markdown",
   "id": "137ccb3f-81dc-43b3-8bf9-ef5554e523e7",
   "metadata": {},
   "source": [
    "The first item in the list has index position 0. Run the cell below to see."
   ]
  },
  {
   "cell_type": "code",
   "execution_count": null,
   "id": "55f01490-371c-4dad-af4d-2d872c0c9e65",
   "metadata": {},
   "outputs": [],
   "source": [
    "# The first item in the random_words list with index value 0\n",
    "random_words[0]"
   ]
  },
  {
   "cell_type": "markdown",
   "id": "29113f9f-d963-480e-bf6a-77cdc55e714a",
   "metadata": {},
   "source": [
    "The second item in the list has index position 1. Run the cell below to see."
   ]
  },
  {
   "cell_type": "code",
   "execution_count": null,
   "id": "83546585-3144-4140-8fe8-94ff4b4aeef8",
   "metadata": {},
   "outputs": [],
   "source": [
    "# The second item in the random_words list with index value 1\n",
    "random_words[1]"
   ]
  },
  {
   "cell_type": "markdown",
   "id": "edae3b91-280c-4def-941e-3cf377aea0e2",
   "metadata": {},
   "source": [
    "## `for` Loop\n",
    "\n",
    "A for loop is used for iterating over a sequence (that is either a list, a tuple, a dictionary, a set, or a string). This is less like the for keyword in other programming languages, and works more like an iterator method as found in other object-orientated programming languages.\n",
    "\n",
    "With the for loop we can execute a set of statements, once for each item in a list, tuple, set etc."
   ]
  },
  {
   "cell_type": "code",
   "execution_count": null,
   "id": "3f7a8808-0cc1-4e80-b5d0-1740cac32d6a",
   "metadata": {},
   "outputs": [],
   "source": [
    "for i in random_words:\n",
    "    print(i)"
   ]
  },
  {
   "cell_type": "code",
   "execution_count": null,
   "id": "c6b847c6-3b63-4a25-83e2-851afdc1fd30",
   "metadata": {},
   "outputs": [],
   "source": [
    "len(random_words)"
   ]
  },
  {
   "cell_type": "code",
   "execution_count": null,
   "id": "0b7ec14e-0e89-40f0-8bb9-bfd67e9c5d92",
   "metadata": {},
   "outputs": [],
   "source": [
    "range(9)"
   ]
  },
  {
   "cell_type": "code",
   "execution_count": null,
   "id": "0937f2f5-03fe-4bf3-b41a-2d46e424b8c9",
   "metadata": {},
   "outputs": [],
   "source": [
    "range(len(random_words))"
   ]
  },
  {
   "cell_type": "code",
   "execution_count": null,
   "id": "75deaa46-13c9-4e6c-8897-6c84be1709e3",
   "metadata": {},
   "outputs": [],
   "source": [
    "for i in range(len(random_words)):\n",
    "    print(i, random_words[i], '\\t', i + 1)"
   ]
  },
  {
   "cell_type": "markdown",
   "id": "a3b5da53-d8a3-40b1-a4a9-4cb83ff02a83",
   "metadata": {},
   "source": [
    "Lists are a flexible data structure that allow us to store and process collections of data. However, there arithmetic limitations of Python lists. Let's take a look."
   ]
  },
  {
   "cell_type": "code",
   "execution_count": null,
   "id": "9b3b6532-4d82-44a7-8916-ca26fd9224eb",
   "metadata": {},
   "outputs": [],
   "source": [
    "# List of number from 1 to 10\n",
    "one_to_ten = [1, 2, 3, 4, 5, 6, 7, 8, 9, 10]"
   ]
  },
  {
   "cell_type": "code",
   "execution_count": null,
   "id": "805fee4b-c2ae-4f89-b889-b8458416016a",
   "metadata": {},
   "outputs": [],
   "source": [
    "one_to_ten + 4"
   ]
  },
  {
   "cell_type": "code",
   "execution_count": null,
   "id": "b0752a45-9947-4716-80d1-d0a8e8822f13",
   "metadata": {},
   "outputs": [],
   "source": [
    "one_to_ten * 2"
   ]
  },
  {
   "cell_type": "markdown",
   "id": "e2eedf95-93e8-4dd0-b0aa-58eb1c266c9e",
   "metadata": {},
   "source": [
    "## NumPy\n",
    "\n",
    "### What is `NumPy`?\n",
    "\n",
    "- `NumPy` is a Python library used for working with arrays.\n",
    "\n",
    "- It also has functions for working in domain of linear algebra, fourier transform, and matrices.\n",
    "\n",
    "- `NumPy` was created in 2005 by Travis Oliphant. It is an open source project and you can use it freely.\n",
    "\n",
    "- `NumPy` stands for Numerical Python.\n",
    "\n",
    "### Why Use `NumPy`?\n",
    "\n",
    "- In Python we have lists that serve the purpose of arrays, but they are slow to process.\n",
    "\n",
    "- `NumPy` aims to provide an array object that is up to 50x faster than traditional Python lists.\n",
    "\n",
    "- The array object in `NumPy` is called `ndarray`, it provides a lot of supporting functions that make working with `ndarray` very easy.\n",
    "\n",
    "Arrays are very frequently used in data science, where speed and resources are very important.\n",
    "\n",
    "**Source:** [W3Schools](https://www.w3schools.com/python/numpy/numpy_intro.asp)\n"
   ]
  },
  {
   "cell_type": "code",
   "execution_count": null,
   "id": "0e676f22-41ac-4069-88b6-2ba9a3437c8b",
   "metadata": {},
   "outputs": [],
   "source": [
    "# Import Numpy using the alias np\n",
    "import numpy as np"
   ]
  },
  {
   "cell_type": "code",
   "execution_count": null,
   "id": "85102ef8-0f17-40c1-9748-3ca0eb57129f",
   "metadata": {},
   "outputs": [],
   "source": [
    "one_to_ten"
   ]
  },
  {
   "cell_type": "markdown",
   "id": "775726f3-caf4-4a83-9313-16cee80e6b11",
   "metadata": {},
   "source": [
    "We can create a `Numpy` array using the `np.array` command and using a list as the function parameter. We can enter the list manually, or we can enter the name of a list that has already been defined."
   ]
  },
  {
   "cell_type": "code",
   "execution_count": null,
   "id": "15f24412-b4b3-481b-8f86-ba9a9a1127a3",
   "metadata": {},
   "outputs": [],
   "source": [
    "np.array([ 1,  2,  3,  4,  5,  6,  7,  8,  9, 10])"
   ]
  },
  {
   "cell_type": "code",
   "execution_count": null,
   "id": "e61ba764-f41e-4f43-a9e1-2c5cda136232",
   "metadata": {},
   "outputs": [],
   "source": [
    "np.array(one_to_ten)"
   ]
  },
  {
   "cell_type": "markdown",
   "id": "8cb0e385-d50f-49e2-8f5f-d25a7dae8c7c",
   "metadata": {},
   "source": [
    "Now we can perform artihmetic operations on each item in the array."
   ]
  },
  {
   "cell_type": "code",
   "execution_count": null,
   "id": "ccc6e8b0-a1c2-42df-8afe-683233fd18fd",
   "metadata": {},
   "outputs": [],
   "source": [
    "np.array(one_to_ten) + 2"
   ]
  },
  {
   "cell_type": "code",
   "execution_count": null,
   "id": "8040f4d9",
   "metadata": {},
   "outputs": [],
   "source": [
    "np.array(one_to_ten) * 2"
   ]
  },
  {
   "cell_type": "code",
   "execution_count": null,
   "id": "191c7169-b58d-45bb-91ab-91f76e3479c3",
   "metadata": {},
   "outputs": [],
   "source": [
    "arr = np.array(one_to_ten)\n",
    "\n",
    "print(\"The sqaure of each element in the array\", arr)\n",
    "print(np.square(arr))\n",
    "print(\"\\n\")\n",
    "\n",
    "print(\"The sqaure root of each element in the array\", arr)\n",
    "print(np.sqrt(arr))\n",
    "print(\"\\n\")\n",
    "\n",
    "print(\"The natural log of each element in the array\", arr)\n",
    "print(np.log(arr))"
   ]
  },
  {
   "cell_type": "markdown",
   "id": "3d55e432-105b-4df0-a215-b0b237be385c",
   "metadata": {},
   "source": [
    "For this part of our active demonstration, we will use world population estimates from 1951 through 2023."
   ]
  },
  {
   "cell_type": "markdown",
   "id": "0b4dd2c3-2aaf-4fa0-8c2f-496e23f16543",
   "metadata": {
    "deletable": false,
    "editable": false
   },
   "source": [
    "**Question 5.** Load the `world_population.csv` file into a 1-dimensional `Numpy` array using `loadtxt()` command from the `Numpy` module. \n",
    "\n",
    "**Note:** To use functions from te `Numpy` module we need to use the alias we set up in our imoprt statement."
   ]
  },
  {
   "cell_type": "code",
   "execution_count": null,
   "id": "16973d09-cb86-498d-b9b6-8baa28c91332",
   "metadata": {
    "tags": []
   },
   "outputs": [],
   "source": [
    "world_population = ..."
   ]
  },
  {
   "cell_type": "code",
   "execution_count": null,
   "id": "98f1d536",
   "metadata": {
    "deletable": false,
    "editable": false
   },
   "outputs": [],
   "source": [
    "grader.check(\"q5\")"
   ]
  },
  {
   "cell_type": "markdown",
   "id": "1e90ba5f-fadd-4957-9805-40787926c4fa",
   "metadata": {},
   "source": [
    "Let's look at the first 10 observstions. We can access items in a `Numpy` array the same way we access items in an `R` vector; by using bracket notation `[ ]`."
   ]
  },
  {
   "cell_type": "code",
   "execution_count": null,
   "id": "564b563a-901d-4d4c-867a-901a1c28e383",
   "metadata": {},
   "outputs": [],
   "source": [
    "world_population[0:10]"
   ]
  },
  {
   "cell_type": "markdown",
   "id": "ce129c33-7c17-4ae3-92d5-df1ac2f066c6",
   "metadata": {},
   "source": [
    "**Question 6.** Which years are represented in the abouve output?"
   ]
  },
  {
   "cell_type": "markdown",
   "id": "fc5c2344-fd0d-4ecd-905f-815a8f71a598",
   "metadata": {},
   "source": [
    "_Type your answer here, replacing this text._"
   ]
  },
  {
   "cell_type": "markdown",
   "id": "8711ba01-3207-46e3-aca4-38fd8a19776f",
   "metadata": {
    "deletable": false,
    "editable": false
   },
   "source": [
    "**Question 7.** Use the `np.diff` function to find the difference in population between each consecutive year. Save the result to a 1-dimensional array named `diff_world_population`."
   ]
  },
  {
   "cell_type": "code",
   "execution_count": null,
   "id": "30e4ce13-3d4e-4bc7-9d7e-15cb78140963",
   "metadata": {
    "tags": []
   },
   "outputs": [],
   "source": [
    "diff_world_population = ...\n",
    "diff_world_population[0:10]"
   ]
  },
  {
   "cell_type": "code",
   "execution_count": null,
   "id": "f4753589",
   "metadata": {
    "deletable": false,
    "editable": false
   },
   "outputs": [],
   "source": [
    "grader.check(\"q7\")"
   ]
  },
  {
   "cell_type": "markdown",
   "id": "32cb92f0-28fe-4d56-bee7-848e8f286431",
   "metadata": {
    "tags": []
   },
   "source": [
    "### Tuple\n",
    "\n",
    "- A tuple is used to store multiple values in a single value or variable. \n",
    "\n",
    "- To create a tuple use parenthesis.\n",
    "\n",
    "- Tuples can contain elements of different types."
   ]
  },
  {
   "cell_type": "code",
   "execution_count": null,
   "id": "e4d703ff-34b9-4acb-a7bd-43f0fc9d64f1",
   "metadata": {},
   "outputs": [],
   "source": [
    "tuple_1 = (\"NC\", \"State\", \"Wolfpack\")\n",
    "tuple_2 = (\"Fall\", 2023)"
   ]
  },
  {
   "cell_type": "markdown",
   "id": "f1071d0b-6a53-44fb-8a3f-64210a8144f2",
   "metadata": {},
   "source": [
    "### Dictionary\n",
    "\n",
    "- A collection of key-value pairs.\n",
    "\n",
    "- A key is used to look up values.\n",
    "\n",
    "- A value can be numbers, strings, lists, or even other dictionaries."
   ]
  },
  {
   "cell_type": "code",
   "execution_count": null,
   "id": "38721d66-ab77-42f1-8494-bc117e7d3699",
   "metadata": {},
   "outputs": [],
   "source": [
    "# Dictionary of NFL teams in the AFC Conference. The key is the division name as a string and\n",
    "# the value is a list with the name of each team in that division.\n",
    "afc = {\n",
    "    \"East\":  [\"Buffalo Bills\", \"Miami Dolphins\", \"New England Patriots\", \"New York Jets\"],\n",
    "    \"North\": [\"Baltimore Ravens\", \"Cincinnati Bengals\", \"Cleveland Browns\", \"Pittsburgh Steelers\"],\n",
    "    \"South\": [\"Houston Texans\", \"Indianapolis Colts\", \"Jacksonville Jaguars\", \"Tennessee Titans\"],\n",
    "    \"West\":  [\"Denver Broncos\", \"Kansas City Chiefs\", \"Las Vegas Raiders\", \"Los Angeles Chargers\"],\n",
    "}\n",
    "\n",
    "# Dictionary of NFL teams in the NaFC Conference. The key is the division name as a string and\n",
    "# the value is a list with the name of each team in that division.\n",
    "nfc = {\n",
    "    \"East\":  [\"Dallas Cowboys\", \"New York Giants\", \"Philadelphia Eagles\", \"Washington Football Team\"],\n",
    "    \"North\": [\"Chicago Bears\", \"Detroit Lions\", \"Green Bay Packers\", \"Minnesota Vikings\"],\n",
    "    \"South\": [\"Atlanta Falcons\", \"Carolina Panthers\", \"New Orleans Saints\", \"Tampa Bay Buccaneers\"],\n",
    "    \"West\":  [\"Arizona Cardinals\", \"Los Angeles Rams\", \"San Francisco 49ers\", \"Seattle Seahawks\"],\n",
    "}"
   ]
  },
  {
   "cell_type": "markdown",
   "id": "a8a26d86-5d05-40eb-be19-5b5e5808b5f2",
   "metadata": {},
   "source": [
    "We can access all the keys with the `keys()` method and we can access all the values with the `values()` method."
   ]
  },
  {
   "cell_type": "code",
   "execution_count": null,
   "id": "e7dae931-cd22-4fac-b4e3-7c4a08c91e5e",
   "metadata": {},
   "outputs": [],
   "source": [
    "afc.keys()"
   ]
  },
  {
   "cell_type": "code",
   "execution_count": null,
   "id": "5c69e729-68e8-47a9-a9fe-b0dc663b88a3",
   "metadata": {},
   "outputs": [],
   "source": [
    "afc.values()"
   ]
  },
  {
   "cell_type": "markdown",
   "id": "1358493e-953b-4b7c-a124-676135b12f6f",
   "metadata": {
    "deletable": false,
    "editable": false
   },
   "source": [
    "**Question 8.** Access the values from the `nfc` dictionary that correspond to the South division. Save this to a list named `nfc_south`. "
   ]
  },
  {
   "cell_type": "code",
   "execution_count": null,
   "id": "08d4047a-ebfe-4ebb-bddf-156572bad764",
   "metadata": {
    "tags": []
   },
   "outputs": [],
   "source": [
    "nfc_south = ...\n",
    "nfc_south"
   ]
  },
  {
   "cell_type": "code",
   "execution_count": null,
   "id": "95610f33",
   "metadata": {
    "deletable": false,
    "editable": false
   },
   "outputs": [],
   "source": [
    "grader.check(\"q8\")"
   ]
  },
  {
   "cell_type": "markdown",
   "id": "02e5649f-f269-4e9b-873c-8f8206c8df85",
   "metadata": {
    "deletable": false,
    "editable": false
   },
   "source": [
    "**Question 9.** Access the Carolina Panthers name from the `nfc_south` list. Save the name to `panthers`."
   ]
  },
  {
   "cell_type": "code",
   "execution_count": null,
   "id": "7a2e287f-9aff-40dd-bd76-b79bd3cdd1e9",
   "metadata": {
    "tags": []
   },
   "outputs": [],
   "source": [
    "panthers = ...\n",
    "panthers"
   ]
  },
  {
   "cell_type": "code",
   "execution_count": null,
   "id": "5260a08b",
   "metadata": {
    "deletable": false,
    "editable": false
   },
   "outputs": [],
   "source": [
    "grader.check(\"q9\")"
   ]
  },
  {
   "cell_type": "markdown",
   "id": "cca04d2b-8cf9-4e4b-ad71-8fa65be14f80",
   "metadata": {},
   "source": [
    "## SchoolHouse Rock\n",
    "\n",
    "As a kid, growing up in the 80s, one of my most favorite things to do on Saturday morning was watch [SchoolHouse Rock](https://en.wikipedia.org/wiki/Schoolhouse_Rock!). My character/episode was [Verb!](https://www.schoolhouserock.tv/Verb.html). \n",
    "\n",
    "Run the cell below."
   ]
  },
  {
   "cell_type": "code",
   "execution_count": null,
   "id": "7a298da2-f5f5-440d-a54b-5cdf30ef96aa",
   "metadata": {},
   "outputs": [],
   "source": [
    "from IPython.display import YouTubeVideo\n",
    "\n",
    "# The YouTube video ID\n",
    "video_id = 'IrfZCvTe-Ko?si'\n",
    "\n",
    "# Embed the YouTube video\n",
    "YouTubeVideo(video_id)"
   ]
  },
  {
   "cell_type": "markdown",
   "id": "f6f3510d-d0a5-47a3-a8c7-b285575fe7f6",
   "metadata": {},
   "source": [
    "Run the cell below to read the lyrics."
   ]
  },
  {
   "cell_type": "code",
   "execution_count": null,
   "id": "f9488f44-cbed-432e-932d-d60f35a2bce8",
   "metadata": {},
   "outputs": [],
   "source": [
    "# Open the verb.txt file in the data directory as read-only\n",
    "with open('data/verb.txt', 'r') as file:\n",
    "    \n",
    "    # Read the entire content of the file into a string\n",
    "    f = file.read()\n",
    "\n",
    "# Print the contents of the file\n",
    "print(f)"
   ]
  },
  {
   "cell_type": "markdown",
   "id": "6d755ed2-ceb5-447f-9025-c0b8f32f94e2",
   "metadata": {},
   "source": [
    "**Question 10.** Suppose you wanted to count the number of occurences of each word and store that information in a data structure. What kind of data type and data structure would you consider using? Type your response in the markdown cell below. Limit your discussion to no more than a paragraph of fewer than 300 words.\n",
    "\n",
    "**Note:** There are no wrong answers. I just want to know your thoughts about how you would solve this problem."
   ]
  },
  {
   "cell_type": "markdown",
   "id": "e4a11193-ff16-4e0c-bde8-8ee9ab666f74",
   "metadata": {},
   "source": [
    "_Type your answer here, replacing this text._"
   ]
  },
  {
   "cell_type": "markdown",
   "id": "ecb8e25f",
   "metadata": {
    "deletable": false,
    "editable": false
   },
   "source": [
    "## Submission\n",
    "\n",
    "Make sure you have run all cells in your notebook in order before running the cell below, so that all images/graphs appear in the output. The cell below will generate a zip file for you to submit. **Please save before exporting!**\n",
    "\n",
    "When done exporting, download the .zip file by `SHIFT`-clicking on the file name and selecting **Save Link As**. Or, find the .zip file in the left side of the screen and right-click and select **Download**. You'll submit this .zip file for the assignment in Moodle to Gradescope for grading."
   ]
  },
  {
   "cell_type": "code",
   "execution_count": null,
   "id": "41624066",
   "metadata": {
    "deletable": false,
    "editable": false
   },
   "outputs": [],
   "source": [
    "# Save your notebook first, then run this cell to export your submission.\n",
    "grader.export(pdf=False)"
   ]
  },
  {
   "cell_type": "markdown",
   "id": "fd03a44c",
   "metadata": {},
   "source": [
    " "
   ]
  }
 ],
 "metadata": {
  "kernelspec": {
   "display_name": "DSC201",
   "language": "python",
   "name": "dsc201"
  },
  "language_info": {
   "codemirror_mode": {
    "name": "ipython",
    "version": 3
   },
   "file_extension": ".py",
   "mimetype": "text/x-python",
   "name": "python",
   "nbconvert_exporter": "python",
   "pygments_lexer": "ipython3",
   "version": "3.11.0"
  },
  "otter": {
   "OK_FORMAT": true,
   "tests": {
    "q2": {
     "name": "q2",
     "points": null,
     "suites": [
      {
       "cases": [
        {
         "code": ">>> # TEST\n>>> isinstance(my_int, int)\nTrue",
         "hidden": false,
         "locked": false
        },
        {
         "code": ">>> # TEST\n>>> isinstance(my_float, float)\nTrue",
         "hidden": false,
         "locked": false
        },
        {
         "code": ">>> # TEST\n>>> isinstance(my_string, str)\nTrue",
         "hidden": false,
         "locked": false
        }
       ],
       "scored": true,
       "setup": "",
       "teardown": "",
       "type": "doctest"
      }
     ]
    },
    "q3": {
     "name": "q3",
     "points": null,
     "suites": [
      {
       "cases": [
        {
         "code": ">>> # TEST\n>>> r == 5\nTrue",
         "hidden": false,
         "locked": false
        },
        {
         "code": ">>> # TEST\n>>> sa == 314.0\nTrue",
         "hidden": false,
         "locked": false
        }
       ],
       "scored": true,
       "setup": "",
       "teardown": "",
       "type": "doctest"
      }
     ]
    },
    "q4": {
     "name": "q4",
     "points": null,
     "suites": [
      {
       "cases": [
        {
         "code": ">>> # TEST\n>>> 0 < seconds_in_a_decade < 320000000\nTrue",
         "hidden": false,
         "locked": false
        }
       ],
       "scored": true,
       "setup": "",
       "teardown": "",
       "type": "doctest"
      }
     ]
    },
    "q5": {
     "name": "q5",
     "points": null,
     "suites": [
      {
       "cases": [
        {
         "code": ">>> # TEST\n>>> isinstance(world_population, np.ndarray) or isinstance(world_population, numpy.ndarray)\nTrue",
         "hidden": false,
         "locked": false
        },
        {
         "code": ">>> # TEST\n>>> len(world_population)\n73",
         "hidden": false,
         "locked": false
        }
       ],
       "scored": true,
       "setup": "",
       "teardown": "",
       "type": "doctest"
      }
     ]
    },
    "q7": {
     "name": "q7",
     "points": null,
     "suites": [
      {
       "cases": [
        {
         "code": ">>> # TEST\n>>> isinstance(diff_world_population, np.ndarray) or isinstance(diff_world_population, numpy.ndarray)\nTrue",
         "hidden": false,
         "locked": false
        },
        {
         "code": ">>> # TEST\n>>> np.sum(diff_world_population)\n5502181067.0",
         "hidden": false,
         "locked": false
        },
        {
         "code": ">>> # TEST\n>>> len(diff_world_population)\n72",
         "hidden": false,
         "locked": false
        }
       ],
       "scored": true,
       "setup": "",
       "teardown": "",
       "type": "doctest"
      }
     ]
    },
    "q8": {
     "name": "q8",
     "points": null,
     "suites": [
      {
       "cases": [
        {
         "code": ">>> # TEST\n>>> isinstance(nfc_south, list)\nTrue",
         "hidden": false,
         "locked": false
        },
        {
         "code": ">>> # TEST\n>>> len(nfc_south)\n4",
         "hidden": false,
         "locked": false
        }
       ],
       "scored": true,
       "setup": "",
       "teardown": "",
       "type": "doctest"
      }
     ]
    },
    "q9": {
     "name": "q9",
     "points": null,
     "suites": [
      {
       "cases": [
        {
         "code": ">>> # TEST\n>>> isinstance(panthers, str)\nTrue",
         "hidden": false,
         "locked": false
        },
        {
         "code": ">>> # TEST\n>>> panthers == 'Carolina Panthers'\nTrue",
         "hidden": false,
         "locked": false
        }
       ],
       "scored": true,
       "setup": "",
       "teardown": "",
       "type": "doctest"
      }
     ]
    }
   }
  }
 },
 "nbformat": 4,
 "nbformat_minor": 5
}
