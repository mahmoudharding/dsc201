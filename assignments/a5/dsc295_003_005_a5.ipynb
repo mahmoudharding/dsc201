{
 "cells": [
  {
   "cell_type": "markdown",
   "metadata": {},
   "source": [
    "# Run the cell below\n",
    "\n",
    "To run a code cell (i.e.; execute the python code inside a Jupyter notebook) you can click the play button on the ribbon underneath the name of the notebook that looks like ▶| or hold down `Shift` + `Return`.\n",
    "\n",
    "Before you begin run the code cell below."
   ]
  },
  {
   "cell_type": "code",
   "execution_count": null,
   "metadata": {
    "deletable": false,
    "editable": false
   },
   "outputs": [],
   "source": [
    "# Initialize Otter\n",
    "import otter\n",
    "grader = otter.Notebook(\"dsc295_003_005_a5.ipynb\")"
   ]
  },
  {
   "cell_type": "markdown",
   "metadata": {},
   "source": [
    "# Assignment 05\n",
    "\n",
    "## Due: See Date in Moodle\n",
    "In this assignment we will get familiar with Jupyter notebooks and some basic Python.\n",
    "\n",
    "I would like you to attempt each level of the assignment. To get **full credit** on this assignment, you must complete **Level I**, **Level II**, and **Level III**. \n",
    "\n",
    "## This Week's Assignment\n",
    "In this week's assignment, you'll learn how to:\n",
    "\n",
    "- use assignment statements.\n",
    "\n",
    "- create a list, a tuple and a dictionary.\n",
    "\n",
    "Let's get started!"
   ]
  },
  {
   "cell_type": "markdown",
   "metadata": {},
   "source": [
    "**Name:** \n",
    "\n",
    "**Section:** \n",
    "\n",
    "**Date:**"
   ]
  },
  {
   "cell_type": "markdown",
   "metadata": {},
   "source": [
    "# Level I\n",
    "\n",
    "## The Kernel\n",
    "The kernel is a program that executes the code inside your notebook and outputs the results. In the top right of your window, you can see the name (DSC295) and a circle that indicates the status of your kernel. If the circle is empty (⚪), the kernel is idle and ready to execute code. If the circle is filled in(⚫), the kernel is busy running some code. \n",
    "\n",
    "Next to every code cell, you'll see some text that says `In [...]`. Before you run the cell, you'll see `In [ ]`. When the cell is running, you'll see `In [*]`. If you see an asterisk (\\*) next to a cell that doesn't go away, it's likely that the code inside the cell is taking too long to run, and it might be a good time to interrupt the kernel (discussed below). When a cell is finished running, you'll see a number inside the brackets, like so: `In [1]`. The number corresponds to the order in which you run the cells; so, the first cell you run will show a 1 when it's finished running, the second will show a 2, and so on. \n",
    "\n",
    "You may run into problems where your kernel is stuck for an excessive amount of time, your notebook is very slow and unresponsive, or your kernel loses its connection. If this happens, try the following steps:\n",
    "\n",
    "1. At the top of your screen, click **Kernel**, then **Interrupt Kernel**. Trying running your code again.\n",
    "\n",
    "2. If that doesn't help, click **Kernel**, then **Restart Kernel**. If you do this, you will have to run your code cells from the start of your notebook up until where you paused your work.\n",
    "\n",
    "3. If that doesn't help, restart your server. This is very rarely needed, but it's good to know how to do just in case. First, save your work by clicking **File** at the top left of your screen, then **Save Notebook**. Next, click **File** again and choose **Hub Control Panel** and select **Stop My Server** to shut it down. Then, after a few moments select **Start My Server** to start it back up. Then, navigate back to the notebook you were working on. You'll still have to run your code cells again."
   ]
  },
  {
   "cell_type": "markdown",
   "metadata": {},
   "source": [
    "## Edit Mode vs. Command Mode \n",
    "Jupyter Notebook has a modal user interface. This means that the keyboard does different things depending on which mode the Notebook is in. There are two modes: \"Edit mode\" and \"Command mode\". Edit mode allows you to type into the cells like a normal text editor. Command mode allows you to edit the notebook as a whole, but not type into individual cells.\n",
    "\n",
    "<img src='images/edit-mode.png' width=500>"
   ]
  },
  {
   "cell_type": "markdown",
   "metadata": {},
   "source": [
    "## Errors\n",
    "\n",
    "Python is a language, and like natural human languages, it has rules.  It differs from natural language in two important ways:\n",
    "\n",
    "1. The rules are *simple*.  You can learn most of them in a few weeks and gain reasonable proficiency with the language in a semester.\n",
    "\n",
    "2. The rules are *rigid*.  If you're proficient in a natural language, you can understand a non-proficient speaker, glossing over small mistakes.  A computer running Python code is not smart enough to do that.\n",
    "\n",
    "Whenever you write code, you'll make mistakes.  When you run a code cell that has errors, Python will sometimes produce error messages to tell you what you did wrong. Errors are okay; even experienced programmers make many errors.  When you make an error, you just have to find the source of the problem, fix it, and move on.\n",
    "\n",
    "There is an error in the next cell.  Run it and see what happens."
   ]
  },
  {
   "cell_type": "code",
   "execution_count": null,
   "metadata": {},
   "outputs": [],
   "source": [
    "print(\"This line is missing something.\""
   ]
  },
  {
   "cell_type": "markdown",
   "metadata": {},
   "source": [
    "**Note:** In the toolbar, there is the option to click `Run > Run All Cells`, which will run all the code cells in this notebook in order. However, the notebook stops running code cells if it hits an error, like the one in the cell above."
   ]
  },
  {
   "cell_type": "markdown",
   "metadata": {},
   "source": [
    "You should see something like this (minus our annotations):\n",
    "\n",
    "<img src=\"images/error.jpg\" />\n",
    "\n",
    "The last line of the error output attempts to tell you what went wrong.  The *syntax* of a language is its structure, and this `SyntaxError` tells you that you have created an illegal structure.  \"`EOF`\" means \"end of file,\" so the message is saying Python expected you to write something more (in this case, a right parenthesis) before finishing the cell.\n",
    "\n",
    "There's a lot of terminology in programming languages, but you don't need to know it all in order to program effectively. If you see a cryptic message like this, you can often get by without deciphering it. Of course, if you're frustrated, ask a classmate, a TA, or your instructor for help."
   ]
  },
  {
   "cell_type": "markdown",
   "metadata": {},
   "source": [
    "**Question 1.** Fix the code below so that you can run the cell and see the intended message instead of an error."
   ]
  },
  {
   "cell_type": "code",
   "execution_count": null,
   "metadata": {},
   "outputs": [],
   "source": [
    "print(\"This line is missing something.\""
   ]
  },
  {
   "cell_type": "markdown",
   "metadata": {},
   "source": [
    "## Variables\n",
    "\n",
    "Variables are used to store information in Python programs. To store a value in a variable we use an assignment statement. An assignment statement has a name on the left side of an `=` sign and an expression to be evaluated on the right. They are particularly helpful when you need to calculate many different things in a row, and also when you need one value to help calculate another.\n",
    "\n",
    "In theory we compare variables to boxes that store your information for use later in your program. Every time you need that value, that variable can be 'opened' and used to calculate something else. \n",
    "\n",
    "- A variable is a place to store a value so that it can be referred to later in our code. To define a variable, use the equals (`=`) sign.\n",
    "\n",
    "- A common metaphor is that variables are like boxes or containers ([source](https://www.tomasbeuzen.com/python-programming-for-data-science/chapters/chapter1-basics.html)). For example, an assignment statement is like placing a sticker on a value.\n",
    "\n",
    "![Image](https://www.tomasbeuzen.com/python-programming-for-data-science/_images/box.png)\n",
    "\n",
    "- Variable names can contain uppercase and lowercase letters, the digits 0-9, and underscores.\n",
    "\n",
    "- Variable names can not start with a number.\n",
    "\n",
    "- Variables names are case sensitive\n",
    "\n",
    "- Variables that do not have values yet cause errors when called.\n",
    "\n",
    "Run the following code cell to see what happens when you call a variable that has not yet been assigned to anything:"
   ]
  },
  {
   "cell_type": "code",
   "execution_count": null,
   "metadata": {},
   "outputs": [],
   "source": [
    "# DO NOT CHANGE\n",
    "adjectives"
   ]
  },
  {
   "attachments": {},
   "cell_type": "markdown",
   "metadata": {},
   "source": [
    "## Data Types\n",
    "\n",
    "- Integers (`int`) are numbers w/o decimals\n",
    "\n",
    "- Floats (`float`) are numbers with decimals\n",
    "\n",
    "- Strings (`str`) are used to store text"
   ]
  },
  {
   "cell_type": "code",
   "execution_count": null,
   "metadata": {},
   "outputs": [],
   "source": [
    "# Integer\n",
    "my_int = 1\n",
    "\n",
    "# Float\n",
    "my_float = 3.85\n",
    "\n",
    "# String\n",
    "my_string = \"Introduction to R/Python for Data Science DSC295\"\n",
    "\n",
    "# Print output using the print function\n",
    "print(my_int)\n",
    "print(my_float)\n",
    "print(my_string)"
   ]
  },
  {
   "attachments": {},
   "cell_type": "markdown",
   "metadata": {},
   "source": [
    "**Question 2.**\n",
    "\n",
    "<img src='images/sphere.png' width=150>\n",
    "\n",
    "We set a variable `pi` to the value 3.14 and another variable `r` to 5. On a following line, assign the variable `sa` to a Python expression that evaluates to the surface area of a sphere with radius 5. **Do not** use the numbers `3.14` or `5` in your expression for `sa`.\n",
    "\n",
    "**Hint**: The formula for the surface area of a sphere with radius $r$ is: \n",
    "\n",
    "$$\\text{Surface Area} = 4 \\pi r^2$$"
   ]
  },
  {
   "cell_type": "code",
   "execution_count": null,
   "metadata": {
    "tags": []
   },
   "outputs": [],
   "source": [
    "pi = 3.14\n",
    "r = 5\n",
    "\n",
    "sa = ...\n",
    "sa"
   ]
  },
  {
   "cell_type": "code",
   "execution_count": null,
   "metadata": {
    "deletable": false,
    "editable": false
   },
   "outputs": [],
   "source": [
    "grader.check(\"q2\")"
   ]
  },
  {
   "cell_type": "markdown",
   "metadata": {},
   "source": [
    "# Level II\n",
    "\n",
    "Another common pattern is that a series of lines in a single cell will build up a complex computation in stages, naming the intermediate results. Read through the example below that uses intermedite steps to calculate the value of `yearly_salary`."
   ]
  },
  {
   "cell_type": "code",
   "execution_count": null,
   "metadata": {},
   "outputs": [],
   "source": [
    "# Amount of salary in a week\n",
    "weekly_salary = 925.75\n",
    "\n",
    "# Amount of salary in a month\n",
    "# Notice instead of using 925.75 we \n",
    "# used the variable weekly_salary\n",
    "monthly_salary = 4 * weekly_salary\n",
    "\n",
    "# Number of months in a year\n",
    "number_of_months_in_a_year = 12\n",
    "\n",
    "# Amount of yearly_salary\n",
    "# Notice we used the variables\n",
    "# number_of_months_in_a_year and monthly_salary\n",
    "# to calculate yearly_salary\n",
    "yearly_salary = number_of_months_in_a_year * monthly_salary\n",
    "\n",
    "# Here we output the value of yearly_salary\n",
    "yearly_salary"
   ]
  },
  {
   "cell_type": "markdown",
   "metadata": {},
   "source": [
    "Names (variables, functions, etc.) in Python can have letters (upper- and lower-case letters are both okay and count as different letters), underscores, and numbers. The first character can't be a number (otherwise a name might look like a number). And names can't contain spaces, since spaces are used to separate pieces of code from each other.\n",
    "\n",
    "Other than those rules, what you name something doesn't matter to Python. For example, this cell does the same thing as the above cell, except everything has a different name:"
   ]
  },
  {
   "cell_type": "code",
   "execution_count": null,
   "metadata": {},
   "outputs": [],
   "source": [
    "a = 925.75\n",
    "b = 4 * a\n",
    "c = 12\n",
    "d = c * b\n",
    "d"
   ]
  },
  {
   "cell_type": "markdown",
   "metadata": {},
   "source": [
    "**However**, names are very important for making your code readable to yourself and others.  The cell above is shorter, but it's totally useless without an explanation of what it does."
   ]
  },
  {
   "cell_type": "markdown",
   "metadata": {},
   "source": [
    "**Question 3.** Assign the name `seconds_in_a_decade` to the number of seconds between midnight January 1, 2010 and midnight January 1, 2021."
   ]
  },
  {
   "cell_type": "code",
   "execution_count": null,
   "metadata": {
    "tags": []
   },
   "outputs": [],
   "source": [
    "seconds_in_a_decade = ...\n",
    "\n",
    "# The last line in this cell will print the value\n",
    "# you've given to seconds_in_a_decade when you run it.  \n",
    "# You don't need to change this.\n",
    "seconds_in_a_decade"
   ]
  },
  {
   "cell_type": "code",
   "execution_count": null,
   "metadata": {
    "deletable": false,
    "editable": false
   },
   "outputs": [],
   "source": [
    "grader.check(\"q3\")"
   ]
  },
  {
   "cell_type": "markdown",
   "metadata": {},
   "source": [
    "## Data Structures\n",
    "\n",
    "- List\n",
    "\n",
    "- Tuple\n",
    "\n",
    "- Dictionary \n",
    "\n",
    "### List\n",
    "\n",
    "- A list is used to store multiple values in a single value or variable. \n",
    "\n",
    "- To create a list use square brackets.\n",
    "\n",
    "- Lists can contain elements of different types."
   ]
  },
  {
   "cell_type": "markdown",
   "metadata": {},
   "source": [
    "**Question 4.** Create a list with three adjectives (type string) and assign it to `my_adjectives`. If you like, you can use adjectives from the School House Rock video in the code cell below this one.\n",
    "\n",
    "**Note:** The grader check will not ceck to see if the words are actullay adjectives - that will be done manually be your instrcutor."
   ]
  },
  {
   "cell_type": "code",
   "execution_count": null,
   "metadata": {},
   "outputs": [],
   "source": [
    "from IPython.display import YouTubeVideo\n",
    "# School House Rock\n",
    "# Unpack Your Adjectives\n",
    "# Written by George Newall and sung by Blossom Dearie\n",
    "YouTubeVideo(\"_y5SlAZIkTI\")"
   ]
  },
  {
   "cell_type": "code",
   "execution_count": null,
   "metadata": {
    "tags": []
   },
   "outputs": [],
   "source": [
    "my_adjectives = ...\n",
    "my_adjectives"
   ]
  },
  {
   "cell_type": "code",
   "execution_count": null,
   "metadata": {
    "deletable": false,
    "editable": false
   },
   "outputs": [],
   "source": [
    "grader.check(\"q4\")"
   ]
  },
  {
   "cell_type": "markdown",
   "metadata": {},
   "source": [
    "### Tuple\n",
    "\n",
    "In some ways, a tuple is similar to a list in terms of indexing, nested objects, and repetition but a tuple is immutable (unchangeable), unlike lists which are mutable (changeable).\n",
    "\n",
    "- A tuple is used to store multiple values in a single value or variable. \n",
    "\n",
    "- To create a tuple use square parentheses.\n",
    "\n",
    "- Tuples can contain elements of different types.\n",
    "\n",
    "Run the cell below to see an example of a tuple."
   ]
  },
  {
   "cell_type": "code",
   "execution_count": null,
   "metadata": {},
   "outputs": [],
   "source": [
    "dsc = ('Data', 'Science', 'Academy')\n",
    "dsc"
   ]
  },
  {
   "cell_type": "markdown",
   "metadata": {},
   "source": [
    "# Level III"
   ]
  },
  {
   "cell_type": "markdown",
   "metadata": {},
   "source": [
    "### Dictionary\n",
    "\n",
    "A Python dictionary is a mutable object, and it contains data in the form of key-value pairs. Each key is separated from its value by a colon (`:`). For example, a dictionary can be created like this \n",
    "\n",
    "`my_dict = {'key1': value, 'key2': value, 'key3': value}`\n",
    "\n",
    "\n",
    "Dictionaries are a widely used data structure, and a good understanding of its methods and operations is necessary for doing data science."
   ]
  },
  {
   "cell_type": "markdown",
   "metadata": {},
   "source": [
    "The lyrics for the School House Rock cartoon Unpack Your Adjectives can be found [here](https://www.schoolhouserock.tv/Unpack.html). This will be helpful to complete **Question 5.** (unless you've memorized the lyrics to the song). "
   ]
  },
  {
   "cell_type": "markdown",
   "metadata": {},
   "source": [
    "**Question 5.** Create a python dictionary that contains two keys `adj` and `bear`. The value for the the `adj` key should be the number of times the word \"adjectives\" is mentioned and the value for `bear` should be the number of times the word \"bear\" is mentioned. For example:\n",
    "\n",
    "```\n",
    "adjectives_dictionary = {\"adj\" : <value>, \"bear\": <value>}\n",
    "```"
   ]
  },
  {
   "cell_type": "code",
   "execution_count": null,
   "metadata": {
    "tags": []
   },
   "outputs": [],
   "source": [
    "adjectives_dictionary = ...\n",
    "print(adjectives_dictionary)"
   ]
  },
  {
   "cell_type": "code",
   "execution_count": null,
   "metadata": {
    "deletable": false,
    "editable": false
   },
   "outputs": [],
   "source": [
    "grader.check(\"q5\")"
   ]
  },
  {
   "cell_type": "markdown",
   "metadata": {},
   "source": [
    "The value of a dictionary key is not restricted to being a number or a character string. In fact, you can have a dictionary whose key values are lists. Note that the restriction with keys in a python dictionary is only immutable data types can be used, which means we cannot use a dictionary of list as a key."
   ]
  },
  {
   "cell_type": "markdown",
   "metadata": {},
   "source": [
    "**Question 6.** Create a python dictionary that contains a key value pair of the adjectives from the second and third verses from the lyrics of the School House Rock cartoon [Unpack Your Adjectives](https://www.schoolhouserock.tv/Unpack.html). Name the dictionary `unpack_adjectives`.\n",
    "\n",
    "The lyrics to verse 2 and verse 3 are below. The adjectives are in qutotation marks.\n",
    "\n",
    "**Verse 2**\n",
    "```\n",
    "I unpacked \"frustrating\" first.\n",
    "Reached in and found the word \"worst\".\n",
    "Then I picked \"soggy\" and\n",
    "Next I picked \"foggy\" and\n",
    "Then I was ready to tell them my tale.\n",
    "'Cause I'd unpacked my adjectives.\n",
    "```\n",
    "\n",
    "**Verse 3**\n",
    "```\n",
    "Adjectives are words you use to really describe things,\n",
    "\"Handy\" words to carry around.\n",
    "Days are \"sunny\" or they're \"rainy\"\n",
    "Boys are \"dumb\" or else they're \"brainy\"\n",
    "Adjectives can show you which way.\n",
    "```\n",
    "\n",
    "**Note:** The keys should be named `verse2` and `verse3` and the corresponding values should be lists."
   ]
  },
  {
   "cell_type": "code",
   "execution_count": null,
   "metadata": {
    "tags": []
   },
   "outputs": [],
   "source": [
    "unpack_adjectives = ...\n",
    "unpack_adjectives"
   ]
  },
  {
   "cell_type": "code",
   "execution_count": null,
   "metadata": {
    "deletable": false,
    "editable": false
   },
   "outputs": [],
   "source": [
    "grader.check(\"q6\")"
   ]
  },
  {
   "cell_type": "markdown",
   "metadata": {},
   "source": [
    "**Question 7.** Below are two lists. Using the `dict` function and the `zip` function to convert them into a dictionary in a way that the item from `my_keys` is the key and the item from `my_values` is the value. Save it to `my_dictionary`.\n",
    "\n",
    "`my_keys = [\"course\", \"name\", \"section\"]`\n",
    "\n",
    "`my_values = [\"DSC295\", \"Intro to R/Python\", 3]`\n",
    "\n",
    "**Note:** You are more the welcome to create this dictionary manually. For a more programmatic approach, click [here](https://www.geeksforgeeks.org/python-convert-two-lists-into-a-dictionary/), scroll down to **Method #3** and follow the example. "
   ]
  },
  {
   "cell_type": "code",
   "execution_count": null,
   "metadata": {
    "tags": []
   },
   "outputs": [],
   "source": [
    "my_keys = ...\n",
    "my_values = ...\n",
    "\n",
    "my_dictionary = ...\n",
    "print(my_dictionary)"
   ]
  },
  {
   "cell_type": "code",
   "execution_count": null,
   "metadata": {
    "deletable": false,
    "editable": false
   },
   "outputs": [],
   "source": [
    "grader.check(\"q7\")"
   ]
  },
  {
   "cell_type": "markdown",
   "metadata": {
    "deletable": false,
    "editable": false
   },
   "source": [
    "## Submission\n",
    "\n",
    "Make sure you have run all cells in your notebook in order before running the cell below, so that all images/graphs appear in the output. The cell below will generate a zip file for you to submit. **Please save before exporting!**\n",
    "\n",
    "When done exporting, download the .zip file by `SHIFT`-clicking on the file name and selecting **Save Link As**. Or, find the .zip file in the left side of the screen and right-click and select **Download**. You'll submit this .zip file for the assignment in Moodle to Gradescope for grading."
   ]
  },
  {
   "cell_type": "code",
   "execution_count": null,
   "metadata": {
    "deletable": false,
    "editable": false
   },
   "outputs": [],
   "source": [
    "# Save your notebook first, then run this cell to export your submission.\n",
    "grader.export(pdf=False)"
   ]
  },
  {
   "cell_type": "markdown",
   "metadata": {},
   "source": [
    " "
   ]
  }
 ],
 "metadata": {
  "kernelspec": {
   "display_name": "DSC295",
   "language": "python",
   "name": "dsc295"
  },
  "language_info": {
   "codemirror_mode": {
    "name": "ipython",
    "version": 3
   },
   "file_extension": ".py",
   "mimetype": "text/x-python",
   "name": "python",
   "nbconvert_exporter": "python",
   "pygments_lexer": "ipython3",
   "version": "3.11.0"
  },
  "otter": {
   "OK_FORMAT": true,
   "tests": {
    "q2": {
     "name": "q2",
     "points": null,
     "suites": [
      {
       "cases": [
        {
         "code": ">>> sa\n314.0",
         "hidden": false,
         "locked": false
        }
       ],
       "scored": true,
       "setup": "",
       "teardown": "",
       "type": "doctest"
      }
     ]
    },
    "q3": {
     "name": "q3",
     "points": 2,
     "suites": [
      {
       "cases": [
        {
         "code": ">>> seconds_in_a_decade\n315619200",
         "hidden": false,
         "locked": false
        }
       ],
       "scored": true,
       "setup": "",
       "teardown": "",
       "type": "doctest"
      }
     ]
    },
    "q4": {
     "name": "q4",
     "points": null,
     "suites": [
      {
       "cases": [
        {
         "code": ">>> isinstance(my_adjectives, list)\nTrue",
         "hidden": false,
         "locked": false
        },
        {
         "code": ">>> len(my_adjectives)\n3",
         "hidden": false,
         "locked": false
        },
        {
         "code": ">>> isinstance(my_adjectives[0], str) and isinstance(my_adjectives[1], str) and isinstance(my_adjectives[2], str)\nTrue",
         "hidden": false,
         "locked": false
        }
       ],
       "scored": true,
       "setup": "",
       "teardown": "",
       "type": "doctest"
      }
     ]
    },
    "q5": {
     "name": "q5",
     "points": 2,
     "suites": [
      {
       "cases": [
        {
         "code": ">>> isinstance(adjectives_dictionary, dict)\nTrue",
         "hidden": false,
         "locked": false
        },
        {
         "code": ">>> 'adj' in list(adjectives_dictionary.keys()) and 'bear' in list(adjectives_dictionary.keys())\nTrue",
         "hidden": false,
         "locked": false
        },
        {
         "code": ">>> isinstance(adjectives_dictionary[\"adj\"], int) and isinstance(adjectives_dictionary[\"bear\"], int)\nTrue",
         "hidden": false,
         "locked": false
        },
        {
         "code": ">>> adjectives_dictionary[\"adj\"] != 12\nTrue",
         "hidden": false,
         "locked": false
        }
       ],
       "scored": true,
       "setup": "",
       "teardown": "",
       "type": "doctest"
      }
     ]
    },
    "q6": {
     "name": "q6",
     "points": 2,
     "suites": [
      {
       "cases": [
        {
         "code": ">>> isinstance(unpack_adjectives, dict)\nTrue",
         "hidden": false,
         "locked": false
        },
        {
         "code": ">>> isinstance(unpack_adjectives[\"verse2\"], list) and isinstance(unpack_adjectives[\"verse3\"], list)\nTrue",
         "hidden": false,
         "locked": false
        },
        {
         "code": ">>> 'foggy' in unpack_adjectives[\"verse2\"] and 'frustrating' in unpack_adjectives[\"verse2\"] and 'worst' in unpack_adjectives[\"verse2\"] and 'soggy' in unpack_adjectives[\"verse2\"] and 'foggy' in unpack_adjectives[\"verse2\"]\nTrue",
         "hidden": false,
         "locked": false
        },
        {
         "code": ">>> 'sunny' in unpack_adjectives[\"verse3\"] and 'rainy' in unpack_adjectives[\"verse3\"] and 'dumb' in unpack_adjectives[\"verse3\"] and 'brainy' in unpack_adjectives[\"verse3\"]\nTrue",
         "hidden": false,
         "locked": false
        }
       ],
       "scored": true,
       "setup": "",
       "teardown": "",
       "type": "doctest"
      }
     ]
    },
    "q7": {
     "name": "q7",
     "points": null,
     "suites": [
      {
       "cases": [
        {
         "code": ">>> isinstance(my_dictionary, dict)\nTrue",
         "hidden": false,
         "locked": false
        },
        {
         "code": ">>> len(my_dictionary)\n3",
         "hidden": false,
         "locked": false
        },
        {
         "code": ">>> [\"DSC295\", \"Intro to R/Python\", 3] == [my_dictionary['course'], my_dictionary['name'], my_dictionary['section']]\nTrue",
         "hidden": false,
         "locked": false
        },
        {
         "code": ">>> my_dictionary.keys()\ndict_keys(['course', 'name', 'section'])",
         "hidden": false,
         "locked": false
        }
       ],
       "scored": true,
       "setup": "",
       "teardown": "",
       "type": "doctest"
      }
     ]
    }
   }
  }
 },
 "nbformat": 4,
 "nbformat_minor": 4
}
