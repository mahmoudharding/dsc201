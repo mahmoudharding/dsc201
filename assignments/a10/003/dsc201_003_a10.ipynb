{
  "nbformat": 4,
  "nbformat_minor": 0,
  "metadata": {
    "colab": {
      "provenance": []
    },
    "kernelspec": {
      "name": "python3",
      "display_name": "Python 3"
    },
    "language_info": {
      "name": "python"
    }
  },
  "cells": [
    {
      "cell_type": "markdown",
      "source": [
        "# Data Viz with Python  \n",
        "Date: 2023-09-26\n",
        "\n",
        "###Python in Jupyter Notebook and Google Colab\n",
        "This document can be a Jupyter Notebook or a Google Colab notebook. Both platforms utilize Markdown, a simple formatting syntax for authoring HTML and other types of documents. For more details on using Jupyter Notebook Markdown, see the Jupyter Notebook documentation. Google Colab offers a similar experience with the added benefit of cloud-based execution.\n",
        "\n",
        "When you run a code cell in Jupyter Notebook or Google Colab, the document will be updated to include both the content and the output of any executed Python code.\n",
        "\n"
      ],
      "metadata": {
        "id": "OjW6dMXkr05m"
      }
    },
    {
      "cell_type": "markdown",
      "source": [
        "#Data visualization with Python\n",
        "\n",
        "Python offers various libraries to build creative visualizations. Before we dig into more advanced libraries, let's start with creating basic plots using Matplotlib and Seaborn.\n",
        "\n",
        "Let's first import the libraries:  "
      ],
      "metadata": {
        "id": "hrDTMsnptnuv"
      }
    },
    {
      "cell_type": "code",
      "source": [
        "import pandas as pd\n",
        "import matplotlib.pyplot as plt\n",
        "import seaborn as sns"
      ],
      "metadata": {
        "id": "1HFtV3MrtzZX"
      },
      "execution_count": null,
      "outputs": []
    },
    {
      "cell_type": "markdown",
      "source": [
        "##Module 1: Basic plots with Matplotlib  \n",
        "Python has a base visualization library called matplotlib. It is the foundational plotting library in the Python ecosystem and can produce a wide variety of plots and figures. Many other visualization libraries in Python, like seaborn, are built on top of matplotlib.\n",
        "\n",
        "Here's a brief overview of how to use matplotlib.\n",
        "\n",
        "#### **Basic plots**\n",
        "\n",
        "* **Line plot**\n"
      ],
      "metadata": {
        "id": "wfunEbtpuKO_"
      }
    },
    {
      "cell_type": "code",
      "source": [
        "#Q1\n",
        "x = [1, 2, 5, 4, 5]\n",
        "y = [\"A\", \"B\", \"C\", \"D\", \"E\"]\n",
        "plt.plot(add the variables)###\n",
        "plt.show()"
      ],
      "metadata": {
        "id": "vOTa6s4PzsvP"
      },
      "execution_count": null,
      "outputs": []
    },
    {
      "cell_type": "markdown",
      "source": [
        "\n",
        "*   **Scatter plot**\n"
      ],
      "metadata": {
        "id": "tJSRLcyn0fZJ"
      }
    },
    {
      "cell_type": "code",
      "source": [
        "#Q2\n",
        "plt.scatter(add the variables) ###\n",
        "plt.show()"
      ],
      "metadata": {
        "id": "V1itPRm51hvL"
      },
      "execution_count": null,
      "outputs": []
    },
    {
      "cell_type": "markdown",
      "source": [
        "\n",
        "*   **Bar plot**"
      ],
      "metadata": {
        "id": "lqx5qAv41n6N"
      }
    },
    {
      "cell_type": "code",
      "source": [
        "#Q3\n",
        "data = [1, 2, 2, 3, 3, 3, 4, 4, 5]\n",
        "plt.hist('name of the dataframe', bins=5) ###\n",
        "plt.show()"
      ],
      "metadata": {
        "id": "NKO93K8d1wgD"
      },
      "execution_count": null,
      "outputs": []
    },
    {
      "cell_type": "markdown",
      "source": [
        "\n",
        "*   **Histogram**"
      ],
      "metadata": {
        "id": "R8bzNR8j14N4"
      }
    },
    {
      "cell_type": "code",
      "source": [
        "#Q4\n",
        "data = [1, 2, 5, 3, 6, 3, 3, 4, 5, 2, 2, 2, 3, 5, 3]\n",
        "plt.hist(data, bins='number of bins you want') ###\n",
        "plt.show()"
      ],
      "metadata": {
        "id": "ij5IJX5v2Anu"
      },
      "execution_count": null,
      "outputs": []
    },
    {
      "cell_type": "markdown",
      "source": [
        "\n",
        "*   **Boxplots**"
      ],
      "metadata": {
        "id": "paDbwMPh2AKl"
      }
    },
    {
      "cell_type": "code",
      "source": [
        "data = [1, 2, 2, 3, 3, 3, 4, 4, 5, 6, 7, 8, 9, 10]\n",
        "plt.boxplot(data)\n",
        "plt.show()"
      ],
      "metadata": {
        "id": "0D8RhcXf3FyD"
      },
      "execution_count": null,
      "outputs": []
    },
    {
      "cell_type": "markdown",
      "source": [
        "##Module 2: Univariate and Bivariate Plots"
      ],
      "metadata": {
        "id": "RBGlA3kc3UBg"
      }
    },
    {
      "cell_type": "code",
      "source": [
        "from google.colab import files\n",
        "uploaded = files.upload()"
      ],
      "metadata": {
        "id": "BtY-utWpuoEq",
        "colab": {
          "base_uri": "https://localhost:8080/",
          "height": 38
        },
        "outputId": "059c9f6b-9aa1-4fc9-852e-919ac3b1e3cb"
      },
      "execution_count": null,
      "outputs": [
        {
          "data": {
            "text/html": [
              "\n",
              "     <input type=\"file\" id=\"files-6c182157-298f-42f9-b5e4-693314ddd89b\" name=\"files[]\" multiple disabled\n",
              "        style=\"border:none\" />\n",
              "     <output id=\"result-6c182157-298f-42f9-b5e4-693314ddd89b\">\n",
              "      Upload widget is only available when the cell has been executed in the\n",
              "      current browser session. Please rerun this cell to enable.\n",
              "      </output>\n",
              "      <script>// Copyright 2017 Google LLC\n",
              "//\n",
              "// Licensed under the Apache License, Version 2.0 (the \"License\");\n",
              "// you may not use this file except in compliance with the License.\n",
              "// You may obtain a copy of the License at\n",
              "//\n",
              "//      http://www.apache.org/licenses/LICENSE-2.0\n",
              "//\n",
              "// Unless required by applicable law or agreed to in writing, software\n",
              "// distributed under the License is distributed on an \"AS IS\" BASIS,\n",
              "// WITHOUT WARRANTIES OR CONDITIONS OF ANY KIND, either express or implied.\n",
              "// See the License for the specific language governing permissions and\n",
              "// limitations under the License.\n",
              "\n",
              "/**\n",
              " * @fileoverview Helpers for google.colab Python module.\n",
              " */\n",
              "(function(scope) {\n",
              "function span(text, styleAttributes = {}) {\n",
              "  const element = document.createElement('span');\n",
              "  element.textContent = text;\n",
              "  for (const key of Object.keys(styleAttributes)) {\n",
              "    element.style[key] = styleAttributes[key];\n",
              "  }\n",
              "  return element;\n",
              "}\n",
              "\n",
              "// Max number of bytes which will be uploaded at a time.\n",
              "const MAX_PAYLOAD_SIZE = 100 * 1024;\n",
              "\n",
              "function _uploadFiles(inputId, outputId) {\n",
              "  const steps = uploadFilesStep(inputId, outputId);\n",
              "  const outputElement = document.getElementById(outputId);\n",
              "  // Cache steps on the outputElement to make it available for the next call\n",
              "  // to uploadFilesContinue from Python.\n",
              "  outputElement.steps = steps;\n",
              "\n",
              "  return _uploadFilesContinue(outputId);\n",
              "}\n",
              "\n",
              "// This is roughly an async generator (not supported in the browser yet),\n",
              "// where there are multiple asynchronous steps and the Python side is going\n",
              "// to poll for completion of each step.\n",
              "// This uses a Promise to block the python side on completion of each step,\n",
              "// then passes the result of the previous step as the input to the next step.\n",
              "function _uploadFilesContinue(outputId) {\n",
              "  const outputElement = document.getElementById(outputId);\n",
              "  const steps = outputElement.steps;\n",
              "\n",
              "  const next = steps.next(outputElement.lastPromiseValue);\n",
              "  return Promise.resolve(next.value.promise).then((value) => {\n",
              "    // Cache the last promise value to make it available to the next\n",
              "    // step of the generator.\n",
              "    outputElement.lastPromiseValue = value;\n",
              "    return next.value.response;\n",
              "  });\n",
              "}\n",
              "\n",
              "/**\n",
              " * Generator function which is called between each async step of the upload\n",
              " * process.\n",
              " * @param {string} inputId Element ID of the input file picker element.\n",
              " * @param {string} outputId Element ID of the output display.\n",
              " * @return {!Iterable<!Object>} Iterable of next steps.\n",
              " */\n",
              "function* uploadFilesStep(inputId, outputId) {\n",
              "  const inputElement = document.getElementById(inputId);\n",
              "  inputElement.disabled = false;\n",
              "\n",
              "  const outputElement = document.getElementById(outputId);\n",
              "  outputElement.innerHTML = '';\n",
              "\n",
              "  const pickedPromise = new Promise((resolve) => {\n",
              "    inputElement.addEventListener('change', (e) => {\n",
              "      resolve(e.target.files);\n",
              "    });\n",
              "  });\n",
              "\n",
              "  const cancel = document.createElement('button');\n",
              "  inputElement.parentElement.appendChild(cancel);\n",
              "  cancel.textContent = 'Cancel upload';\n",
              "  const cancelPromise = new Promise((resolve) => {\n",
              "    cancel.onclick = () => {\n",
              "      resolve(null);\n",
              "    };\n",
              "  });\n",
              "\n",
              "  // Wait for the user to pick the files.\n",
              "  const files = yield {\n",
              "    promise: Promise.race([pickedPromise, cancelPromise]),\n",
              "    response: {\n",
              "      action: 'starting',\n",
              "    }\n",
              "  };\n",
              "\n",
              "  cancel.remove();\n",
              "\n",
              "  // Disable the input element since further picks are not allowed.\n",
              "  inputElement.disabled = true;\n",
              "\n",
              "  if (!files) {\n",
              "    return {\n",
              "      response: {\n",
              "        action: 'complete',\n",
              "      }\n",
              "    };\n",
              "  }\n",
              "\n",
              "  for (const file of files) {\n",
              "    const li = document.createElement('li');\n",
              "    li.append(span(file.name, {fontWeight: 'bold'}));\n",
              "    li.append(span(\n",
              "        `(${file.type || 'n/a'}) - ${file.size} bytes, ` +\n",
              "        `last modified: ${\n",
              "            file.lastModifiedDate ? file.lastModifiedDate.toLocaleDateString() :\n",
              "                                    'n/a'} - `));\n",
              "    const percent = span('0% done');\n",
              "    li.appendChild(percent);\n",
              "\n",
              "    outputElement.appendChild(li);\n",
              "\n",
              "    const fileDataPromise = new Promise((resolve) => {\n",
              "      const reader = new FileReader();\n",
              "      reader.onload = (e) => {\n",
              "        resolve(e.target.result);\n",
              "      };\n",
              "      reader.readAsArrayBuffer(file);\n",
              "    });\n",
              "    // Wait for the data to be ready.\n",
              "    let fileData = yield {\n",
              "      promise: fileDataPromise,\n",
              "      response: {\n",
              "        action: 'continue',\n",
              "      }\n",
              "    };\n",
              "\n",
              "    // Use a chunked sending to avoid message size limits. See b/62115660.\n",
              "    let position = 0;\n",
              "    do {\n",
              "      const length = Math.min(fileData.byteLength - position, MAX_PAYLOAD_SIZE);\n",
              "      const chunk = new Uint8Array(fileData, position, length);\n",
              "      position += length;\n",
              "\n",
              "      const base64 = btoa(String.fromCharCode.apply(null, chunk));\n",
              "      yield {\n",
              "        response: {\n",
              "          action: 'append',\n",
              "          file: file.name,\n",
              "          data: base64,\n",
              "        },\n",
              "      };\n",
              "\n",
              "      let percentDone = fileData.byteLength === 0 ?\n",
              "          100 :\n",
              "          Math.round((position / fileData.byteLength) * 100);\n",
              "      percent.textContent = `${percentDone}% done`;\n",
              "\n",
              "    } while (position < fileData.byteLength);\n",
              "  }\n",
              "\n",
              "  // All done.\n",
              "  yield {\n",
              "    response: {\n",
              "      action: 'complete',\n",
              "    }\n",
              "  };\n",
              "}\n",
              "\n",
              "scope.google = scope.google || {};\n",
              "scope.google.colab = scope.google.colab || {};\n",
              "scope.google.colab._files = {\n",
              "  _uploadFiles,\n",
              "  _uploadFilesContinue,\n",
              "};\n",
              "})(self);\n",
              "</script> "
            ],
            "text/plain": [
              "<IPython.core.display.HTML object>"
            ]
          },
          "metadata": {},
          "output_type": "display_data"
        }
      ]
    },
    {
      "cell_type": "markdown",
      "source": [
        "When you run this cell, you'll be prompted to select a file (or multiple files) from your computer to upload. Choose the \"social_media_use.csv\" file.\n",
        "\n",
        "OR select another dataset you want to use.\n",
        "\n",
        "Once the file is uploaded, you can read it into a DataFrame using a library like pandas:"
      ],
      "metadata": {
        "id": "H02l3hinu1i6"
      }
    },
    {
      "cell_type": "code",
      "source": [
        "#Q5\n",
        "import pandas as pd\n",
        "\n",
        "# Read the uploaded CSV file\n",
        "df = pd.read_csv('name of the file') ###\n",
        "\n"
      ],
      "metadata": {
        "id": "HyR8D4ytu3rw"
      },
      "execution_count": null,
      "outputs": []
    },
    {
      "cell_type": "markdown",
      "source": [
        "Check the First Few Rows of the DataFrame (optional but useful to verify the data):"
      ],
      "metadata": {
        "id": "Bh6uXp4WvP7l"
      }
    },
    {
      "cell_type": "code",
      "source": [
        "df.head()"
      ],
      "metadata": {
        "colab": {
          "base_uri": "https://localhost:8080/",
          "height": 348
        },
        "id": "N2nW8U1wvRc0",
        "outputId": "03709369-fa50-421d-d3fb-b7b9dcc55764"
      },
      "execution_count": null,
      "outputs": [
        {
          "output_type": "execute_result",
          "data": {
            "text/plain": [
              "    age  gender relationship_status  \\\n",
              "0  21.0    Male   In a relationship   \n",
              "1  21.0  Female              Single   \n",
              "2  21.0  Female              Single   \n",
              "3  21.0  Female              Single   \n",
              "4  21.0  Female              Single   \n",
              "\n",
              "                                   social_media_used           usage_perday  \\\n",
              "0  Facebook, Twitter, Instagram, YouTube, Discord...  Between 2 and 3 hours   \n",
              "1  Facebook, Twitter, Instagram, YouTube, Discord...      More than 5 hours   \n",
              "2            Facebook, Instagram, YouTube, Pinterest  Between 3 and 4 hours   \n",
              "3                                Facebook, Instagram      More than 5 hours   \n",
              "4                       Facebook, Instagram, YouTube  Between 2 and 3 hours   \n",
              "\n",
              "   anxiety_level  distraction_level  depression_level  insomnia_level  \n",
              "0              2                  5                 5               5  \n",
              "1              5                  4                 5               5  \n",
              "2              5                  4                 4               5  \n",
              "3              5                  3                 4               2  \n",
              "4              5                  5                 4               1  "
            ],
            "text/html": [
              "\n",
              "  <div id=\"df-3f302995-365b-4260-9359-777abd33bb5e\" class=\"colab-df-container\">\n",
              "    <div>\n",
              "<style scoped>\n",
              "    .dataframe tbody tr th:only-of-type {\n",
              "        vertical-align: middle;\n",
              "    }\n",
              "\n",
              "    .dataframe tbody tr th {\n",
              "        vertical-align: top;\n",
              "    }\n",
              "\n",
              "    .dataframe thead th {\n",
              "        text-align: right;\n",
              "    }\n",
              "</style>\n",
              "<table border=\"1\" class=\"dataframe\">\n",
              "  <thead>\n",
              "    <tr style=\"text-align: right;\">\n",
              "      <th></th>\n",
              "      <th>age</th>\n",
              "      <th>gender</th>\n",
              "      <th>relationship_status</th>\n",
              "      <th>social_media_used</th>\n",
              "      <th>usage_perday</th>\n",
              "      <th>anxiety_level</th>\n",
              "      <th>distraction_level</th>\n",
              "      <th>depression_level</th>\n",
              "      <th>insomnia_level</th>\n",
              "    </tr>\n",
              "  </thead>\n",
              "  <tbody>\n",
              "    <tr>\n",
              "      <th>0</th>\n",
              "      <td>21.0</td>\n",
              "      <td>Male</td>\n",
              "      <td>In a relationship</td>\n",
              "      <td>Facebook, Twitter, Instagram, YouTube, Discord...</td>\n",
              "      <td>Between 2 and 3 hours</td>\n",
              "      <td>2</td>\n",
              "      <td>5</td>\n",
              "      <td>5</td>\n",
              "      <td>5</td>\n",
              "    </tr>\n",
              "    <tr>\n",
              "      <th>1</th>\n",
              "      <td>21.0</td>\n",
              "      <td>Female</td>\n",
              "      <td>Single</td>\n",
              "      <td>Facebook, Twitter, Instagram, YouTube, Discord...</td>\n",
              "      <td>More than 5 hours</td>\n",
              "      <td>5</td>\n",
              "      <td>4</td>\n",
              "      <td>5</td>\n",
              "      <td>5</td>\n",
              "    </tr>\n",
              "    <tr>\n",
              "      <th>2</th>\n",
              "      <td>21.0</td>\n",
              "      <td>Female</td>\n",
              "      <td>Single</td>\n",
              "      <td>Facebook, Instagram, YouTube, Pinterest</td>\n",
              "      <td>Between 3 and 4 hours</td>\n",
              "      <td>5</td>\n",
              "      <td>4</td>\n",
              "      <td>4</td>\n",
              "      <td>5</td>\n",
              "    </tr>\n",
              "    <tr>\n",
              "      <th>3</th>\n",
              "      <td>21.0</td>\n",
              "      <td>Female</td>\n",
              "      <td>Single</td>\n",
              "      <td>Facebook, Instagram</td>\n",
              "      <td>More than 5 hours</td>\n",
              "      <td>5</td>\n",
              "      <td>3</td>\n",
              "      <td>4</td>\n",
              "      <td>2</td>\n",
              "    </tr>\n",
              "    <tr>\n",
              "      <th>4</th>\n",
              "      <td>21.0</td>\n",
              "      <td>Female</td>\n",
              "      <td>Single</td>\n",
              "      <td>Facebook, Instagram, YouTube</td>\n",
              "      <td>Between 2 and 3 hours</td>\n",
              "      <td>5</td>\n",
              "      <td>5</td>\n",
              "      <td>4</td>\n",
              "      <td>1</td>\n",
              "    </tr>\n",
              "  </tbody>\n",
              "</table>\n",
              "</div>\n",
              "    <div class=\"colab-df-buttons\">\n",
              "\n",
              "  <div class=\"colab-df-container\">\n",
              "    <button class=\"colab-df-convert\" onclick=\"convertToInteractive('df-3f302995-365b-4260-9359-777abd33bb5e')\"\n",
              "            title=\"Convert this dataframe to an interactive table.\"\n",
              "            style=\"display:none;\">\n",
              "\n",
              "  <svg xmlns=\"http://www.w3.org/2000/svg\" height=\"24px\" viewBox=\"0 -960 960 960\">\n",
              "    <path d=\"M120-120v-720h720v720H120Zm60-500h600v-160H180v160Zm220 220h160v-160H400v160Zm0 220h160v-160H400v160ZM180-400h160v-160H180v160Zm440 0h160v-160H620v160ZM180-180h160v-160H180v160Zm440 0h160v-160H620v160Z\"/>\n",
              "  </svg>\n",
              "    </button>\n",
              "\n",
              "  <style>\n",
              "    .colab-df-container {\n",
              "      display:flex;\n",
              "      gap: 12px;\n",
              "    }\n",
              "\n",
              "    .colab-df-convert {\n",
              "      background-color: #E8F0FE;\n",
              "      border: none;\n",
              "      border-radius: 50%;\n",
              "      cursor: pointer;\n",
              "      display: none;\n",
              "      fill: #1967D2;\n",
              "      height: 32px;\n",
              "      padding: 0 0 0 0;\n",
              "      width: 32px;\n",
              "    }\n",
              "\n",
              "    .colab-df-convert:hover {\n",
              "      background-color: #E2EBFA;\n",
              "      box-shadow: 0px 1px 2px rgba(60, 64, 67, 0.3), 0px 1px 3px 1px rgba(60, 64, 67, 0.15);\n",
              "      fill: #174EA6;\n",
              "    }\n",
              "\n",
              "    .colab-df-buttons div {\n",
              "      margin-bottom: 4px;\n",
              "    }\n",
              "\n",
              "    [theme=dark] .colab-df-convert {\n",
              "      background-color: #3B4455;\n",
              "      fill: #D2E3FC;\n",
              "    }\n",
              "\n",
              "    [theme=dark] .colab-df-convert:hover {\n",
              "      background-color: #434B5C;\n",
              "      box-shadow: 0px 1px 3px 1px rgba(0, 0, 0, 0.15);\n",
              "      filter: drop-shadow(0px 1px 2px rgba(0, 0, 0, 0.3));\n",
              "      fill: #FFFFFF;\n",
              "    }\n",
              "  </style>\n",
              "\n",
              "    <script>\n",
              "      const buttonEl =\n",
              "        document.querySelector('#df-3f302995-365b-4260-9359-777abd33bb5e button.colab-df-convert');\n",
              "      buttonEl.style.display =\n",
              "        google.colab.kernel.accessAllowed ? 'block' : 'none';\n",
              "\n",
              "      async function convertToInteractive(key) {\n",
              "        const element = document.querySelector('#df-3f302995-365b-4260-9359-777abd33bb5e');\n",
              "        const dataTable =\n",
              "          await google.colab.kernel.invokeFunction('convertToInteractive',\n",
              "                                                    [key], {});\n",
              "        if (!dataTable) return;\n",
              "\n",
              "        const docLinkHtml = 'Like what you see? Visit the ' +\n",
              "          '<a target=\"_blank\" href=https://colab.research.google.com/notebooks/data_table.ipynb>data table notebook</a>'\n",
              "          + ' to learn more about interactive tables.';\n",
              "        element.innerHTML = '';\n",
              "        dataTable['output_type'] = 'display_data';\n",
              "        await google.colab.output.renderOutput(dataTable, element);\n",
              "        const docLink = document.createElement('div');\n",
              "        docLink.innerHTML = docLinkHtml;\n",
              "        element.appendChild(docLink);\n",
              "      }\n",
              "    </script>\n",
              "  </div>\n",
              "\n",
              "\n",
              "<div id=\"df-24f03908-dea5-4e22-9f84-e8ff2445e227\">\n",
              "  <button class=\"colab-df-quickchart\" onclick=\"quickchart('df-24f03908-dea5-4e22-9f84-e8ff2445e227')\"\n",
              "            title=\"Suggest charts.\"\n",
              "            style=\"display:none;\">\n",
              "\n",
              "<svg xmlns=\"http://www.w3.org/2000/svg\" height=\"24px\"viewBox=\"0 0 24 24\"\n",
              "     width=\"24px\">\n",
              "    <g>\n",
              "        <path d=\"M19 3H5c-1.1 0-2 .9-2 2v14c0 1.1.9 2 2 2h14c1.1 0 2-.9 2-2V5c0-1.1-.9-2-2-2zM9 17H7v-7h2v7zm4 0h-2V7h2v10zm4 0h-2v-4h2v4z\"/>\n",
              "    </g>\n",
              "</svg>\n",
              "  </button>\n",
              "\n",
              "<style>\n",
              "  .colab-df-quickchart {\n",
              "      --bg-color: #E8F0FE;\n",
              "      --fill-color: #1967D2;\n",
              "      --hover-bg-color: #E2EBFA;\n",
              "      --hover-fill-color: #174EA6;\n",
              "      --disabled-fill-color: #AAA;\n",
              "      --disabled-bg-color: #DDD;\n",
              "  }\n",
              "\n",
              "  [theme=dark] .colab-df-quickchart {\n",
              "      --bg-color: #3B4455;\n",
              "      --fill-color: #D2E3FC;\n",
              "      --hover-bg-color: #434B5C;\n",
              "      --hover-fill-color: #FFFFFF;\n",
              "      --disabled-bg-color: #3B4455;\n",
              "      --disabled-fill-color: #666;\n",
              "  }\n",
              "\n",
              "  .colab-df-quickchart {\n",
              "    background-color: var(--bg-color);\n",
              "    border: none;\n",
              "    border-radius: 50%;\n",
              "    cursor: pointer;\n",
              "    display: none;\n",
              "    fill: var(--fill-color);\n",
              "    height: 32px;\n",
              "    padding: 0;\n",
              "    width: 32px;\n",
              "  }\n",
              "\n",
              "  .colab-df-quickchart:hover {\n",
              "    background-color: var(--hover-bg-color);\n",
              "    box-shadow: 0 1px 2px rgba(60, 64, 67, 0.3), 0 1px 3px 1px rgba(60, 64, 67, 0.15);\n",
              "    fill: var(--button-hover-fill-color);\n",
              "  }\n",
              "\n",
              "  .colab-df-quickchart-complete:disabled,\n",
              "  .colab-df-quickchart-complete:disabled:hover {\n",
              "    background-color: var(--disabled-bg-color);\n",
              "    fill: var(--disabled-fill-color);\n",
              "    box-shadow: none;\n",
              "  }\n",
              "\n",
              "  .colab-df-spinner {\n",
              "    border: 2px solid var(--fill-color);\n",
              "    border-color: transparent;\n",
              "    border-bottom-color: var(--fill-color);\n",
              "    animation:\n",
              "      spin 1s steps(1) infinite;\n",
              "  }\n",
              "\n",
              "  @keyframes spin {\n",
              "    0% {\n",
              "      border-color: transparent;\n",
              "      border-bottom-color: var(--fill-color);\n",
              "      border-left-color: var(--fill-color);\n",
              "    }\n",
              "    20% {\n",
              "      border-color: transparent;\n",
              "      border-left-color: var(--fill-color);\n",
              "      border-top-color: var(--fill-color);\n",
              "    }\n",
              "    30% {\n",
              "      border-color: transparent;\n",
              "      border-left-color: var(--fill-color);\n",
              "      border-top-color: var(--fill-color);\n",
              "      border-right-color: var(--fill-color);\n",
              "    }\n",
              "    40% {\n",
              "      border-color: transparent;\n",
              "      border-right-color: var(--fill-color);\n",
              "      border-top-color: var(--fill-color);\n",
              "    }\n",
              "    60% {\n",
              "      border-color: transparent;\n",
              "      border-right-color: var(--fill-color);\n",
              "    }\n",
              "    80% {\n",
              "      border-color: transparent;\n",
              "      border-right-color: var(--fill-color);\n",
              "      border-bottom-color: var(--fill-color);\n",
              "    }\n",
              "    90% {\n",
              "      border-color: transparent;\n",
              "      border-bottom-color: var(--fill-color);\n",
              "    }\n",
              "  }\n",
              "</style>\n",
              "\n",
              "  <script>\n",
              "    async function quickchart(key) {\n",
              "      const quickchartButtonEl =\n",
              "        document.querySelector('#' + key + ' button');\n",
              "      quickchartButtonEl.disabled = true;  // To prevent multiple clicks.\n",
              "      quickchartButtonEl.classList.add('colab-df-spinner');\n",
              "      try {\n",
              "        const charts = await google.colab.kernel.invokeFunction(\n",
              "            'suggestCharts', [key], {});\n",
              "      } catch (error) {\n",
              "        console.error('Error during call to suggestCharts:', error);\n",
              "      }\n",
              "      quickchartButtonEl.classList.remove('colab-df-spinner');\n",
              "      quickchartButtonEl.classList.add('colab-df-quickchart-complete');\n",
              "    }\n",
              "    (() => {\n",
              "      let quickchartButtonEl =\n",
              "        document.querySelector('#df-24f03908-dea5-4e22-9f84-e8ff2445e227 button');\n",
              "      quickchartButtonEl.style.display =\n",
              "        google.colab.kernel.accessAllowed ? 'block' : 'none';\n",
              "    })();\n",
              "  </script>\n",
              "</div>\n",
              "    </div>\n",
              "  </div>\n"
            ]
          },
          "metadata": {},
          "execution_count": 12
        }
      ]
    },
    {
      "cell_type": "markdown",
      "source": [
        "##1.1 Univariate visualization\n",
        "\n",
        "Let's check the overall distribution of social media usage per day. The 'usage_perday' variable indicates usage of social media per day. We will use the **matplotlib** and **seaborn** libraries for visualization.\n",
        "\n",
        "###Introducing: matplotlib and seaborn\n",
        "At its core, **matplotlib** is a foundational plotting library in Python. **seaborn** is a higher-level interface to matplotlib that makes creating common visualizations easier and more aesthetically pleasing.\n",
        "\n",
        "Here's a breakdown of the basic **seaborn** bar plot command:\n",
        "\n",
        "**Data:** The data that you want to plot. In our case, it's 'df'.\n",
        "x: The variable in your data to plot on the x-axis.\n",
        "\n",
        "Here's the basic structure:\n",
        "\n"
      ],
      "metadata": {
        "id": "RqgQZ3l6xeu2"
      }
    },
    {
      "cell_type": "code",
      "source": [
        "import seaborn as sns\n",
        "\n",
        "sns.countplot(data=df, x='usage_perday')"
      ],
      "metadata": {
        "id": "ozYnpdOMx661"
      },
      "execution_count": null,
      "outputs": []
    },
    {
      "cell_type": "markdown",
      "source": [
        "Here, we're specifying that the data comes from the dataframe **'df'** and that we want to use the **'usage_perday'** column on the x-axis.\n",
        "\n",
        "With just the basic structure, you might get a simple plot. To make the plot more informative and aesthetically pleasing, you can add more customizations.\n",
        "\n",
        "For our data, a bar plot would be appropriate since **'usage_perday'** is a categorical variable.\n",
        "\n",
        "Below is how you can create a more detailed bar plot. Notice\n",
        "the color palette **viridis**. It is an accessible color palette. There are other color palettes that meets **accessibility** requirements.\n",
        "\n",
        "If you want to tryout custom color palette, here is a website that would give you some options: [ColorBrewer.org](https://ColorBrewer.org)"
      ],
      "metadata": {
        "id": "94Dgwj5hfjvx"
      }
    },
    {
      "cell_type": "code",
      "source": [
        "import matplotlib.pyplot as plt\n",
        "\n",
        "plt.figure(figsize=(10, 6))\n",
        "sns.countplot(data=df, x='usage_perday', palette=\"viridis\")\n",
        "plt.title(\"Distribution of Daily Social Media Usage\")\n",
        "plt.xlabel(\"Usage per Day\")\n",
        "plt.ylabel(\"Count\")\n",
        "plt.xticks(rotation=45)\n",
        "plt.show()"
      ],
      "metadata": {
        "id": "5TdMgfCPx7_w"
      },
      "execution_count": null,
      "outputs": []
    },
    {
      "cell_type": "markdown",
      "source": [
        "In the code above, **palette=\"viridis\"** is used to specify the color palette (similar to scale_fill_viridis_d() in R's ggplot2). The **plt.xticks(rotation=45)** is used to rotate the x-axis labels for better readability.\n",
        "\n",
        "\n",
        "Remember, while matplotlib and seaborn provide powerful visualization capabilities, the specific syntax and available functions may differ from R's ggplot2. It's always a good idea to refer to the official documentation or tutorials when working with these libraries."
      ],
      "metadata": {
        "id": "3pUC_g4zhJGe"
      }
    },
    {
      "cell_type": "markdown",
      "source": [
        "Notice that there is no order of social media usage per day, making the plot less intuitive.\n",
        "\n",
        "To order the bars from low to high, we can define the desired order of the categories and ensure our plot respects this order.\n",
        "\n",
        "Here's how you can adjust the code to order the bars from \"Less than an Hour\" to \"Between 4 and 5 hours\":"
      ],
      "metadata": {
        "id": "yMlvWmtih4WO"
      }
    },
    {
      "cell_type": "code",
      "source": [
        "usage_order = [\"Less than an Hour\",\n",
        "               \"Between 1 and 2 hours\",\n",
        "               \"Between 2 and 3 hours\",\n",
        "               \"Between 3 and 4 hours\",\n",
        "               \"Between 4 and 5 hours\",\n",
        "               \"More than 5 hours\"]"
      ],
      "metadata": {
        "id": "Vh-MM4tPf08n"
      },
      "execution_count": null,
      "outputs": []
    },
    {
      "cell_type": "markdown",
      "source": [
        "Then, plot the ordered data:"
      ],
      "metadata": {
        "id": "oYR-QaZYiE73"
      }
    },
    {
      "cell_type": "code",
      "source": [
        "#Q6\n",
        "plt.figure(figsize=(10, 6))\n",
        "sns.countplot(data=df, x='usage_perday', order=usage_order, palette=\"viridis\")\n",
        "plt.title(\"Distribution of Daily Social Media Usage\")\n",
        "plt.xlabel(\"write the label for x axis\") ###\n",
        "plt.ylabel(\"write the label for y axis\") ###\n",
        "plt.xticks(rotation=45)\n",
        "plt.show()"
      ],
      "metadata": {
        "id": "RnHS13SxiCH8"
      },
      "execution_count": null,
      "outputs": []
    },
    {
      "cell_type": "markdown",
      "source": [
        "This structure provides a clearer representation. However, notice how the order of the color palette may be counterintuitive.\n",
        "\n",
        "To match the order of the color palette with the order of categories, we can use a reversed color palette."
      ],
      "metadata": {
        "id": "StB_faGXiMSL"
      }
    },
    {
      "cell_type": "code",
      "source": [
        "plt.figure(figsize=(10, 6))\n",
        "sns.countplot(data=df, x='usage_perday', order=usage_order, palette=\"viridis_r\")  # Use the reverse viridis palette\n",
        "plt.title(\"Distribution of Daily Social Media Usage\")\n",
        "plt.xlabel(\"Usage per Day\")\n",
        "plt.ylabel(\"Count\")\n",
        "plt.xticks(rotation=45)\n",
        "plt.show()\n"
      ],
      "metadata": {
        "id": "JbGs0N-UiIV1"
      },
      "execution_count": null,
      "outputs": []
    },
    {
      "cell_type": "markdown",
      "source": [
        "How about we make it horizontal?"
      ],
      "metadata": {
        "id": "ymWxZjuoiVCs"
      }
    },
    {
      "cell_type": "code",
      "source": [
        "plt.figure(figsize=(10, 6))\n",
        "sns.countplot(data=df, y='usage_perday', order=usage_order, palette=\"viridis_r\")  # Switching to y for horizontal barplot\n",
        "plt.title(\"Distribution of Daily Social Media Usage\")\n",
        "plt.ylabel(\"Usage per Day\")\n",
        "plt.xlabel(\"Count\")\n",
        "plt.show()\n"
      ],
      "metadata": {
        "id": "L7Df1BxkiQz3"
      },
      "execution_count": null,
      "outputs": []
    },
    {
      "cell_type": "markdown",
      "source": [
        "## 2.2 Bivariate Visualization\n",
        "In the following plot, each bar represents an anxiety_level category, and the segments within each bar represent the distribution of usage_perday for that anxiety level. This offers a clear visual representation of how daily social media usage varies across different anxiety levels.\n",
        "\n",
        "To create a stacked bar plot similar to ggplot's output in Python using **matplotlib**, we need to manually aggregate the data and plot each category one on top of the other. Here's how to do it:"
      ],
      "metadata": {
        "id": "gd8_9tH3kjmR"
      }
    },
    {
      "cell_type": "code",
      "source": [
        "#Q7\n",
        "# Group by `anxiety_level` and `usage_perday` and calculate the counts\n",
        "grouped = df.groupby(['anxiety_level', 'usage_perday']).size().unstack()\n",
        "\n",
        "# Create a stacked bar plot\n",
        "plt.figure(figsize=(12, 7))\n",
        "grouped.plot(kind=\"bar\", stacked=True, colormap=\"viridis_r\", figsize=(12,7))\n",
        "plt.title(\"Distribution of Daily Social Media Usage by Anxiety Level\")\n",
        "plt.xlabel(\"Anxiety Level\")\n",
        "plt.ylabel(\"Count\")\n",
        "plt.legend(title=\"Usage per Day\", bbox_to_anchor=(1.05, 1), loc='upper left')\n",
        "plt.tight_layout()\n",
        "ply.add a command to show your plot ###\n"
      ],
      "metadata": {
        "id": "lZWHD6-2iYcP"
      },
      "execution_count": null,
      "outputs": []
    },
    {
      "cell_type": "markdown",
      "source": [
        "The column order does not seem to make much sense here. Let's manually reorder them."
      ],
      "metadata": {
        "id": "YRrziSPomN9H"
      }
    },
    {
      "cell_type": "code",
      "source": [
        "#Q8\n",
        "# Reorder the columns based on the desired order\n",
        "column_order = [\"More than 5 hours\", \"Between 4 and 5 hours\", \"Between 3 and 4 hours\",\n",
        "                \"Between 2 and 3 hours\", \"Between 1 and 2 hours\", \"Less than an Hour\"]\n",
        "\n",
        "# Reorder the columns based on the desired order\n",
        "grouped = grouped[column_order]\n",
        "\n",
        "# Create the stacked bar plot with adjusted color mapping\n",
        "plt.figure(figsize=(12, 7))\n",
        "grouped.plot(kind=\"bar\", stacked=True, colormap=\"viridis\", figsize=(12,7))\n",
        "plt.title(\"Distribution of Daily Social Media Usage by Anxiety Level\")\n",
        "plt.xlabel(\"add the x label\") ###\n",
        "plt.ylabel(\"add the y label\") ###\n",
        "plt.legend(title=\"Usage per Day\", bbox_to_anchor=(1.05, 1), loc='upper left')\n",
        "plt.tight_layout()\n",
        "plt.show()\n"
      ],
      "metadata": {
        "id": "wq5PhhkpksvR"
      },
      "execution_count": null,
      "outputs": []
    },
    {
      "cell_type": "markdown",
      "source": [
        "Now, let's try a line graph by aggregating the data by mean **'anxiety_level'** for each **'usage_perday'**category. This will help us observe if there's a noticeable trend between these two variables. Note: This visualization alone will not inform us of any statistically significant relationship between these two variables. For that, a more rigorous statistical analysis would be necessary.\n",
        "\n"
      ],
      "metadata": {
        "id": "L5Aw7qF1noPL"
      }
    },
    {
      "cell_type": "code",
      "source": [
        "plt.figure(figsize=(10, 6))\n",
        "\n",
        "plt.plot(df['usage_perday'], df['anxiety_level'], marker=\"o\")\n",
        "\n",
        "plt.title(\"Trend of Anxiety Level by Usage per Day\")\n",
        "plt.xlabel(\"Usage per Day\")\n",
        "plt.ylabel(\"Anxiety Level\")\n",
        "plt.xticks(rotation=45)\n",
        "plt.grid(True, which='both', linestyle='--', linewidth=0.5)\n",
        "plt.tight_layout()\n",
        "plt.show()"
      ],
      "metadata": {
        "id": "E0AaADd5gi1B"
      },
      "execution_count": null,
      "outputs": []
    },
    {
      "cell_type": "markdown",
      "source": [
        "Let's try Seaborn instead of Matplotlib.\n",
        "But first, make sure the variables are in the correct format:"
      ],
      "metadata": {
        "id": "ltCDDl1Ur4uG"
      }
    },
    {
      "cell_type": "code",
      "source": [
        "df['anxiety_level'] = df['anxiety_level'].astype(float)\n",
        "df['usage_perday'] = pd.Categorical(df['usage_perday'], categories=usage_order, ordered=True)\n"
      ],
      "metadata": {
        "id": "DAVaOSeYmWnE"
      },
      "execution_count": null,
      "outputs": []
    },
    {
      "cell_type": "code",
      "source": [
        "#Q9\n",
        "plt.figure(figsize=(enter the figure size)) ###\n",
        "sns.lineplot(data=df, x='usage_perday', y='anxiety_level', marker=\"o\") # The sns.lineplot automatically aggregates data\n",
        "plt.title(\"Trend of Anxiety Level by Usage per Day\")\n",
        "plt.xlabel(\"Usage per Day\")\n",
        "plt.ylabel(\"Anxiety Level\")\n",
        "plt.xticks(rotation=45)\n",
        "plt.grid(True, which='both', linestyle='--', linewidth=0.5)\n",
        "plt.tight_layout()\n",
        "plt.show()"
      ],
      "metadata": {
        "id": "1azNoeAHevxW"
      },
      "execution_count": null,
      "outputs": []
    },
    {
      "cell_type": "markdown",
      "source": [
        "Alternately, you can aggregate data as you want following the steps here:"
      ],
      "metadata": {
        "id": "_eLyG7DHn4Gh"
      }
    },
    {
      "cell_type": "code",
      "source": [
        "agg_data = df.groupby('usage_perday').agg(mean_anxiety=('anxiety_level', 'mean')).reset_index()\n"
      ],
      "metadata": {
        "id": "xOvGlMIfn11S"
      },
      "execution_count": null,
      "outputs": []
    },
    {
      "cell_type": "markdown",
      "source": [
        "Create the line graph:"
      ],
      "metadata": {
        "id": "qIik7VyPn9Tu"
      }
    },
    {
      "cell_type": "code",
      "source": [
        "#Q10\n",
        "plt.figure(figsize=(10, 6))\n",
        "sns.lineplot(data=agg_data, x='usage_perday', y='mean_anxiety', marker=\"o\")\n",
        "plt.title(\"Trend of Anxiety Level by Usage per Day\")\n",
        "plt.xlabel(\"Usage per Day\")\n",
        "plt.ylabel(\"Mean Anxiety Level\")\n",
        "plt.xticks(add rotation) ###\n",
        "plt.grid(True, which='both', linestyle='--', linewidth=0.5)\n",
        "plt.tight_layout()\n",
        "plt.show()"
      ],
      "metadata": {
        "id": "Uitq3q49n6Xv"
      },
      "execution_count": null,
      "outputs": []
    },
    {
      "cell_type": "markdown",
      "source": [
        "Feel free to explore other variables in the dataset to uncover any interesting trends!\n",
        "\n",
        "Thank you!"
      ],
      "metadata": {
        "id": "9MNt7218oFBb"
      }
    }
  ]
}