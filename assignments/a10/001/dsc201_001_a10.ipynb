{
 "cells": [
  {
   "cell_type": "markdown",
   "id": "01e385d4-c1ac-4187-87ff-cdc24fd2bbc2",
   "metadata": {},
   "source": [
    "# Run the cell below\n",
    "\n",
    "To run a code cell (i.e.; execute the python code inside a Jupyter notebook) you can click the play button on the ribbon underneath the name of the notebook that looks like ▶| or hold down `Shift` + `Return`.\n",
    "\n",
    "Before you begin run the code cell below."
   ]
  },
  {
   "cell_type": "code",
   "execution_count": null,
   "id": "a031ca1b",
   "metadata": {
    "deletable": false,
    "editable": false
   },
   "outputs": [],
   "source": [
    "# Initialize Otter\n",
    "import otter\n",
    "grader = otter.Notebook(\"dsc201_001_a10.ipynb\")"
   ]
  },
  {
   "cell_type": "markdown",
   "id": "a7f2161a-33d4-45c0-a0cf-114205007ab4",
   "metadata": {},
   "source": [
    "**Name:** \n",
    "\n",
    "**Section:** \n",
    "\n",
    "**Date:**"
   ]
  },
  {
   "cell_type": "markdown",
   "id": "1abecfba-7441-46d9-8247-93576ad71a68",
   "metadata": {},
   "source": [
    "## This Week's Assignment\n",
    "\n",
    "In this week's assignment,\n",
    "\n",
    "- summarize data in tables.\n",
    "\n",
    "- build visualizations for categotical and numerical data.\n",
    "\n",
    "Let's get started!"
   ]
  },
  {
   "cell_type": "markdown",
   "id": "c79a1945-4a4f-4cef-92d5-93da7f34da26",
   "metadata": {},
   "source": [
    "## Exploratory Data Analysis\n",
    "\n",
    "We will be analyzing data from the `titanic.csv` file. "
   ]
  },
  {
   "cell_type": "markdown",
   "id": "ea82823d-bccf-4027-a9d6-d800a82d1be9",
   "metadata": {
    "deletable": false,
    "editable": false
   },
   "source": [
    "<!-- BEGIN QUESTION -->\n",
    "\n",
    "**Question 1.** Import `pandas` and `NumPy` using the appropriate aliasing."
   ]
  },
  {
   "cell_type": "code",
   "execution_count": null,
   "id": "4459ed12-ca30-49ed-99d8-9cf602f6dcfa",
   "metadata": {
    "tags": []
   },
   "outputs": [],
   "source": [
    "# Import the pandas module as pd\n",
    "import ... as ...\n",
    "\n",
    "# Import the numpy module as np\n",
    "import ... as ..."
   ]
  },
  {
   "cell_type": "markdown",
   "id": "1ebe0635-27c8-468e-909d-25718e78796d",
   "metadata": {
    "deletable": false,
    "editable": false
   },
   "source": [
    "<!-- END QUESTION -->\n",
    "\n",
    "**Question 2.** Load the `titanic.csv` file into a `pandas` `DataFrame` named `titanic`."
   ]
  },
  {
   "cell_type": "code",
   "execution_count": null,
   "id": "40492095-0fcf-4ddc-84df-ffbd69b0559e",
   "metadata": {
    "tags": []
   },
   "outputs": [],
   "source": [
    "titanic = ..."
   ]
  },
  {
   "cell_type": "code",
   "execution_count": null,
   "id": "96edc799",
   "metadata": {
    "deletable": false,
    "editable": false
   },
   "outputs": [],
   "source": [
    "grader.check(\"q2\")"
   ]
  },
  {
   "cell_type": "markdown",
   "id": "b0297f30-5175-4b94-8eec-3cd138d32795",
   "metadata": {},
   "source": [
    "Now, let's explore the `titanic` data frame."
   ]
  },
  {
   "cell_type": "code",
   "execution_count": null,
   "id": "85cb24e7-97aa-41c4-8350-1b62b95b0169",
   "metadata": {},
   "outputs": [],
   "source": []
  },
  {
   "cell_type": "markdown",
   "id": "22d27e3c-747b-403f-b070-ccd7132fa79a",
   "metadata": {},
   "source": [
    "We already know about `.describe()`. This method is used for numerical data. What about categorical data?"
   ]
  },
  {
   "cell_type": "code",
   "execution_count": null,
   "id": "0da9a5ce-a925-4fbd-b58c-3f7fafef27c1",
   "metadata": {},
   "outputs": [],
   "source": []
  },
  {
   "cell_type": "markdown",
   "id": "1861dd3e-3ba0-4ae6-aea1-f4e70e784beb",
   "metadata": {},
   "source": [
    "What data type is in the `embarked` column?"
   ]
  },
  {
   "cell_type": "code",
   "execution_count": null,
   "id": "88db957a-eeee-4ed6-a32f-a1cd73fa23cd",
   "metadata": {},
   "outputs": [],
   "source": []
  },
  {
   "cell_type": "code",
   "execution_count": null,
   "id": "bcd02307-f0ae-43cf-9ee4-a08023ce52f4",
   "metadata": {},
   "outputs": [],
   "source": []
  },
  {
   "cell_type": "markdown",
   "id": "453c4d08-242d-4b29-b683-082d605ebf39",
   "metadata": {},
   "source": [
    "## Categorical Variables\n",
    "\n",
    "### Categorical in `pandas` \n",
    "\n",
    "What is the category type in python? The [`pandas` categorical data type](https://pandas.pydata.org/docs/user_guide/categorical.html), is similar to R’s `factor`.  Categoricals are a pandas data type corresponding to categorical variables in statistics. A categorical variable takes on a limited, and usually fixed, number of possible values (categories; levels in R). Examples are sex, social class, blood type, country affiliation, observation time or rating via Likert scales."
   ]
  },
  {
   "cell_type": "markdown",
   "id": "980b0379-6584-47cc-8f1d-d84ba2d12bbe",
   "metadata": {},
   "source": [
    "Let’s change the `embarked` column to type `category`."
   ]
  },
  {
   "cell_type": "code",
   "execution_count": null,
   "id": "695ff985-0d6a-4e5e-a1bd-60c292ca52b0",
   "metadata": {},
   "outputs": [],
   "source": [
    "titanic.embarked = ...\n",
    "titanic.embarked[0:6] "
   ]
  },
  {
   "cell_type": "markdown",
   "id": "11489ebe-3214-4263-8217-42362ac97e82",
   "metadata": {},
   "source": [
    "Let's rename the categories to something more descriptive."
   ]
  },
  {
   "cell_type": "code",
   "execution_count": null,
   "id": "681cee4c-0e57-4a5e-af40-7d69c327f1ec",
   "metadata": {},
   "outputs": [],
   "source": [
    "titanic.embarked = ...\n",
    "titanic.embarked[0:6] "
   ]
  },
  {
   "cell_type": "markdown",
   "id": "fedf48b3-1b65-4982-ba3c-2f352aea1bd7",
   "metadata": {},
   "source": [
    "What is the data type of the `survived` column?"
   ]
  },
  {
   "cell_type": "code",
   "execution_count": null,
   "id": "7b08b99b-5f3b-4fb9-b34f-3a411a7ccb20",
   "metadata": {},
   "outputs": [],
   "source": [
    "type(titanic.survived[0])"
   ]
  },
  {
   "cell_type": "markdown",
   "id": "91176e8d-9e3e-46e3-81d1-56135cb013b4",
   "metadata": {},
   "source": [
    "Let's change the `survived` column to type category."
   ]
  },
  {
   "cell_type": "code",
   "execution_count": null,
   "id": "7ff059c1-6036-4cdd-ae8b-072a9e08a74e",
   "metadata": {},
   "outputs": [],
   "source": [
    "titanic.survived = ...\n",
    "titanic.survived[0:2]"
   ]
  },
  {
   "cell_type": "markdown",
   "id": "ed4752cc-e093-4f59-ba3f-5ff242037628",
   "metadata": {},
   "source": [
    "Let's rename the categories to something more descriptive."
   ]
  },
  {
   "cell_type": "code",
   "execution_count": null,
   "id": "e6cad408-75bf-404d-9646-ec49e5942fd6",
   "metadata": {},
   "outputs": [],
   "source": [
    "titanic.survived = ...\n",
    "titanic.survived[0:2] "
   ]
  },
  {
   "cell_type": "markdown",
   "id": "58f72903-5929-455c-a00d-8aabdd41841c",
   "metadata": {
    "deletable": false,
    "editable": false
   },
   "source": [
    "<!-- BEGIN QUESTION -->\n",
    "\n",
    "**Question 3.** Use the `.value_counts()` method to make contingency tables for the `embarked`, `sex`, and `survived` columns."
   ]
  },
  {
   "cell_type": "code",
   "execution_count": null,
   "id": "2159f825-30be-40a2-a955-75fcbf9e6c44",
   "metadata": {
    "tags": []
   },
   "outputs": [],
   "source": [
    "print(\"Embarked\")\n",
    "print(...)\n",
    "print(\"\\n\")\n",
    "print(\"Sex\")\n",
    "print(...)\n",
    "print(\"\\n\")\n",
    "print(\"Survived\")\n",
    "print(...)"
   ]
  },
  {
   "cell_type": "markdown",
   "id": "950dac83-713b-4643-a312-c670950d8c96",
   "metadata": {
    "deletable": false,
    "editable": false,
    "tags": []
   },
   "source": [
    "<!-- END QUESTION -->\n",
    "\n",
    "### Two-Way Contingency Tables\n",
    "\n",
    "A two-way contingency table, also known as a contingency table or a two-dimensional cross-tabulation, is a statistical table used to display the frequency distribution of two categorical variables. It provides a way to examine the relationship between two categorical variables by showing how the values of one variable are distributed across the categories of the other variable."
   ]
  },
  {
   "cell_type": "markdown",
   "id": "d490a21c-9aa7-44fe-b12a-02d496f3d495",
   "metadata": {
    "deletable": false,
    "editable": false
   },
   "source": [
    "<!-- BEGIN QUESTION -->\n",
    "\n",
    "**Question 4.** Make a two-way contingency table that shows the number of passengers that died and survived across the the different ports."
   ]
  },
  {
   "cell_type": "code",
   "execution_count": null,
   "id": "48473d7d-1a9d-412f-9872-ce1039a216fe",
   "metadata": {
    "tags": []
   },
   "outputs": [],
   "source": [
    "..."
   ]
  },
  {
   "cell_type": "markdown",
   "id": "1966b51f-6d88-4950-9e95-c94f5a6de3f0",
   "metadata": {
    "deletable": false,
    "editable": false
   },
   "source": [
    "<!-- END QUESTION -->\n",
    "\n",
    "## Visualizations\n",
    "\n",
    "We will use plotting features from `pandas` and from `matplotlib` to create our visualizations. Run the cell below to import the libraries we need.\n",
    "\n",
    "**Note:** To learn more about visualizations in `matplotlib` click [here](https://matplotlib.org/) and for documentation on creating visualizations using `pandas` click [here](https://pandas.pydata.org/pandas-docs/stable/user_guide/visualization.html).\n",
    "\n",
    "### Bar Plot\n",
    "\n",
    "A bar plot displays the counts of the labels from a categorical column. This can be done using `pandas`\n",
    "\n",
    "```\n",
    "df.plot.bar()\n",
    "```\n",
    "\n",
    "or using `matplotlib`\n",
    "\n",
    "```\n",
    "plt.bar()\n",
    "```\n",
    "\n",
    "Let's import the the `matplotlib.pyplot` library."
   ]
  },
  {
   "cell_type": "code",
   "execution_count": null,
   "id": "84e61862-0029-4e99-8afb-1b2b05c5d2f9",
   "metadata": {},
   "outputs": [],
   "source": [
    "# Import the matplotlib.pyplot library\n",
    "import ... as ...\n",
    "\n",
    "# Magic command\n",
    "%matplotlib inline\n",
    "\n",
    "# Set default parameters for all visualizations\n",
    "plt.rcParams['figure.figsize']=(12, 5)\n",
    "plt.rcParams['figure.dpi']=100"
   ]
  },
  {
   "cell_type": "code",
   "execution_count": null,
   "id": "72b89c31-f782-42cf-8425-16546fc0be48",
   "metadata": {},
   "outputs": [],
   "source": [
    "# Display titanic dataframe information\n",
    "titanic.info()"
   ]
  },
  {
   "cell_type": "code",
   "execution_count": null,
   "id": "dc2321c2-f79e-4ee6-a7b0-8f879dc6f3b7",
   "metadata": {},
   "outputs": [],
   "source": [
    "# Create a table\n",
    "tbl = titanic.embarked.value_counts()\n",
    "tbl"
   ]
  },
  {
   "cell_type": "code",
   "execution_count": null,
   "id": "0e8b3e64-bafa-4adf-b7bf-be390791656a",
   "metadata": {},
   "outputs": [],
   "source": [
    "type(tbl)"
   ]
  },
  {
   "cell_type": "code",
   "execution_count": null,
   "id": "6ae3b0c5-3307-461d-b29f-95633b74a1ee",
   "metadata": {},
   "outputs": [],
   "source": [
    "tbl.index"
   ]
  },
  {
   "cell_type": "markdown",
   "id": "bfddf660-fdba-44f8-89e3-43ca705b1dfe",
   "metadata": {
    "deletable": false,
    "editable": false
   },
   "source": [
    "<!-- BEGIN QUESTION -->\n",
    "\n",
    "**Question 5.** Make a bar chart using `plt.bar()` for the counts of the `Embarked` column.\n",
    "\n",
    "**Notes:** \n",
    "\n",
    "- `x` represents the categories.\n",
    "\n",
    "- `height` represents the corresponding heights."
   ]
  },
  {
   "cell_type": "code",
   "execution_count": null,
   "id": "535a8357-5b36-40d9-b9ad-0ba05ca1fbf6",
   "metadata": {
    "tags": []
   },
   "outputs": [],
   "source": [
    "plt.bar(x=..., height=...);"
   ]
  },
  {
   "cell_type": "markdown",
   "id": "c6b905aa-09bb-456c-9cc6-d5ff2e72aa70",
   "metadata": {
    "deletable": false,
    "editable": false
   },
   "source": [
    "<!-- END QUESTION -->\n",
    "\n",
    "In the next section of the this assignment we want to analyze only the instutions that offer at least a bachelor's degree. "
   ]
  },
  {
   "cell_type": "markdown",
   "id": "31b22743-2884-40c0-a910-9798bb68bae5",
   "metadata": {},
   "source": [
    "**Example 1.** Add a title and axes labels to the plot from **Question 5**.\n",
    "\n",
    "<img src=\"images/g1.png\" width=\"800\" height=\"100\">"
   ]
  },
  {
   "cell_type": "markdown",
   "id": "201770b5-19b6-41f9-aaef-55007199ee76",
   "metadata": {},
   "source": [
    "We can make the same bar chart using `pandas`."
   ]
  },
  {
   "cell_type": "code",
   "execution_count": null,
   "id": "1bb7ee45-4f17-47ac-a6c3-281f1195fe07",
   "metadata": {},
   "outputs": [],
   "source": [
    "tbl.plot.bar(rot=0);"
   ]
  },
  {
   "cell_type": "markdown",
   "id": "6f34b3c3-bc39-4834-bb22-a3be3a2cddb9",
   "metadata": {
    "deletable": false,
    "editable": false
   },
   "source": [
    "<!-- BEGIN QUESTION -->\n",
    "\n",
    "**Question 6.** Use the `survived` column from the `titanic` dataset a create a bar chart. Be sure to label the axes and title.\n",
    "\n",
    "**Note:** You can use either `matplotlib` or `pandas`."
   ]
  },
  {
   "cell_type": "code",
   "execution_count": null,
   "id": "35ac15e3-5b2e-491f-8790-7a0e8faa65ed",
   "metadata": {
    "tags": []
   },
   "outputs": [],
   "source": [
    "...\n",
    "plt.title(\"Passenger Counts For Each Port\")\n",
    "plt.xlabel(\"\\n Survival\")\n",
    "plt.ylabel(\"Count\");"
   ]
  },
  {
   "cell_type": "markdown",
   "id": "c6e4048f-0640-4b2d-a6aa-a5a5826f4b8a",
   "metadata": {
    "deletable": false,
    "editable": false
   },
   "source": [
    "<!-- END QUESTION -->\n",
    "\n",
    "## Numerical Variables\n",
    "\n",
    "### Histograms\n",
    "\n",
    "A histogram is an approximate representation of the distribution (the frequency and pattern) of numerical data. Let's look at the distribution of the ages of the passengers on the titanic."
   ]
  },
  {
   "cell_type": "markdown",
   "id": "32deddc7-1faa-4759-8887-fd0dda421aa4",
   "metadata": {},
   "source": [
    "**Example 2.** Use `.hist()` to plot a histogram of the ages of the passengers on the titanic."
   ]
  },
  {
   "cell_type": "code",
   "execution_count": null,
   "id": "ead15f8b-e693-4843-a9ff-b6d22842cc75",
   "metadata": {},
   "outputs": [],
   "source": [
    "..."
   ]
  },
  {
   "cell_type": "markdown",
   "id": "6103f340-9df3-459e-a8b1-5f713afaf8b8",
   "metadata": {},
   "source": [
    "**Example 3.** Customize the plot from **Example 6.** by removing the gridlines, adding axes labels, placing an edge color between the bars,  and adding a title.\n",
    "\n",
    "**Note:** In the plot below we use the Axes object to customize the plot. For more information on how this works [read this article](https://towardsdatascience.com/what-are-the-plt-and-ax-in-matplotlib-exactly-d2cf4bf164a9) and this [tutorial guide](https://realpython.com/python-matplotlib-guide/)."
   ]
  },
  {
   "cell_type": "code",
   "execution_count": null,
   "id": "661f6852-6d09-4931-9188-b052b3cd087d",
   "metadata": {},
   "outputs": [],
   "source": [
    "ax = titanic.age.hist(edgecolor=\"white\")\n",
    "ax.grid(False)\n",
    "ax.set_title(\"Distribution of Passenger Ages\")\n",
    "ax.set_xlabel(\"\\n Age\")\n",
    "ax.set_ylabel(\"Count\");"
   ]
  },
  {
   "cell_type": "markdown",
   "id": "7f3b222a-d318-4255-b4dc-6395346bf71d",
   "metadata": {},
   "source": [
    "**Example 4.** We can change the $y-$axis to a percentage (i.e. density)."
   ]
  },
  {
   "cell_type": "code",
   "execution_count": null,
   "id": "deda6058-ae67-470c-aead-74dfe7b20114",
   "metadata": {},
   "outputs": [],
   "source": [
    "ax = titanic.age.hist(edgecolor='white', density=True)\n",
    "ax.grid(False)\n",
    "ax.set_title(\"Distribution of Passenger Ages\")\n",
    "ax.set_xlabel(\"\\n Age\");"
   ]
  },
  {
   "cell_type": "markdown",
   "id": "3e91bb3f-831f-4d7b-a271-65eb44bcd52f",
   "metadata": {},
   "source": [
    "**Example 5.** We can also customize the number of bins."
   ]
  },
  {
   "cell_type": "code",
   "execution_count": null,
   "id": "ff447046-7773-4f99-92cc-6a4e509ed1bc",
   "metadata": {},
   "outputs": [],
   "source": [
    "ax = titanic.age.hist(edgecolor='white', bins=7, density=True)\n",
    "ax.grid(False)\n",
    "ax.set_title(\"Distribution of Passenger Ages\")\n",
    "ax.set_xlabel(\"\\n Age\");"
   ]
  },
  {
   "cell_type": "markdown",
   "id": "dcc5dc83-a8f1-4cf3-ac19-fe5923d7785d",
   "metadata": {},
   "source": [
    "**Example 6.** We can also customize the bin locations."
   ]
  },
  {
   "cell_type": "code",
   "execution_count": null,
   "id": "5415e21e-2e66-44ec-a650-70e7f92c4b35",
   "metadata": {},
   "outputs": [],
   "source": [
    "bins = [0, 10, 20, 30, 40, 50, 60, 70]\n",
    "ax = titanic.age.hist(edgecolor='white', bins = bins, density=True)\n",
    "ax.grid(False)\n",
    "ax.set_title(\"Distribution of Passenger Ages\")\n",
    "ax.set_xlabel(\"\\n Age\");"
   ]
  },
  {
   "cell_type": "markdown",
   "id": "bb7862ab-1305-4ee3-8ea7-ac5712260ba4",
   "metadata": {},
   "source": [
    "**Example 7.** We can also compare across distributions using `by = `."
   ]
  },
  {
   "cell_type": "code",
   "execution_count": null,
   "id": "a0a40ec7-82a4-4a47-a547-821353938f29",
   "metadata": {},
   "outputs": [],
   "source": [
    "ax = titanic.age.hist(edgecolor=\"white\", bins=bins, by=titanic.survived, rot=0)\n",
    "ax[0].set_xlabel(\"\\n Age\")\n",
    "ax[1].set_xlabel(\"\\n Age\");"
   ]
  },
  {
   "cell_type": "markdown",
   "id": "b3a0bb93-cfb4-4292-ba69-91d79d83e6a0",
   "metadata": {},
   "source": [
    "**Example 8.** We can also compare across distributions using overliad histograms."
   ]
  },
  {
   "cell_type": "code",
   "execution_count": null,
   "id": "9a000bb4-04b0-4806-b4bb-8e5cb35e5888",
   "metadata": {},
   "outputs": [],
   "source": [
    "m = titanic[titanic.sex == 'male']\n",
    "f = titanic[titanic.sex == 'female']\n",
    "\n",
    "plt.hist(m.age, alpha=0.75, edgecolor='white', bins=bins, label='Male')\n",
    "plt.hist(f.age, alpha=0.75, edgecolor='white', bins=bins, label='Female')\n",
    "  \n",
    "plt.legend(loc='upper right')\n",
    "plt.title(\"Age Distribution of Male and Female Passengers\")\n",
    "plt.xlabel(\"\\n Age\")\n",
    "plt.ylabel(\"Count\");"
   ]
  },
  {
   "cell_type": "markdown",
   "id": "141707de-ccf8-47e1-97ac-bce1109445af",
   "metadata": {},
   "source": [
    "### Scatter Plots\n",
    "\n",
    "A scatter plot is used to visualize the linear relationship between variables."
   ]
  },
  {
   "cell_type": "markdown",
   "id": "5e886c74-a66b-4964-8c42-6fbab0be039c",
   "metadata": {
    "deletable": false,
    "editable": false
   },
   "source": [
    "**Question 7.** Make a scatter plot visulaize the association between `age` and `fare`."
   ]
  },
  {
   "cell_type": "code",
   "execution_count": null,
   "id": "705fa6be-2eea-4383-a4a2-78b7bf90dc32",
   "metadata": {
    "tags": []
   },
   "outputs": [],
   "source": [
    "... "
   ]
  },
  {
   "cell_type": "markdown",
   "id": "e99733b6-51d0-4c13-842a-013b5b28fb83",
   "metadata": {},
   "source": [
    "**Example 9.** If we want we can customize the marker type, color and size."
   ]
  },
  {
   "cell_type": "code",
   "execution_count": null,
   "id": "55795c7f-497f-451a-8f48-2201343cc336",
   "metadata": {},
   "outputs": [],
   "source": [
    "..."
   ]
  },
  {
   "cell_type": "markdown",
   "id": "3f10f4cb-232a-4c95-86db-8af56e0ffecb",
   "metadata": {},
   "source": [
    "**Example 10.** We can modify the color based on a label from a categorical feature."
   ]
  },
  {
   "cell_type": "code",
   "execution_count": null,
   "id": "445b5646-9acf-4256-9daf-a448ab4b04ff",
   "metadata": {},
   "outputs": [],
   "source": [
    "ax = plt.scatter(x=titanic[titanic.survived==\"Died\"]['age'], \n",
    "                 y=titanic[titanic.survived==\"Died\"]['fare'], \n",
    "                 edgecolor=\"white\",\n",
    "                 color=\"red\", \n",
    "                 label=\"Died\")\n",
    "\n",
    "ax = plt.scatter(x=titanic[titanic.survived==\"Survived\"]['age'],\n",
    "                 y=titanic[titanic.survived==\"Survived\"]['fare'], \n",
    "                 edgecolor=\"white\",\n",
    "                 color=\"blue\", \n",
    "                 label=\"Survived\")\n",
    "\n",
    "plt.title(\"Scatter Plot of Age vs. Fare by Survival Status\")\n",
    "plt.xlabel(\"Age\")\n",
    "plt.ylabel(\"Fare\")\n",
    "plt.legend();"
   ]
  },
  {
   "cell_type": "markdown",
   "id": "73217620-43b9-499f-a84b-0ab45e5ea37e",
   "metadata": {},
   "source": [
    "## Comparisons Across Groups\n",
    "\n",
    "### Box Plots\n",
    "\n",
    "A box plot displays the five-number summary of a set of data.\n",
    "\n",
    "- Min, Q1, Median, Q3, and Max\n",
    "\n",
    "- Shows possible outliers\n",
    "\n",
    "\n",
    "<img src=\"https://lsc.studysixsigma.com/wp-content/uploads/sites/6/2015/12/1435.png\" width=\"800\" height=\"400\">\n",
    "\n",
    "**Source:** https://www.leansigmacorporation.com/box-plot-with-minitab/ \n",
    "\n",
    "**Author:** Michael Parker\n",
    "\n",
    "**Example 11.** A boxplot of the `age` variable."
   ]
  },
  {
   "cell_type": "code",
   "execution_count": null,
   "id": "9747fc97-29b3-4749-bf05-fe729c9bfe2e",
   "metadata": {},
   "outputs": [],
   "source": [
    "..."
   ]
  },
  {
   "cell_type": "markdown",
   "id": "474ada53-9926-427b-978d-65b08b4885c2",
   "metadata": {},
   "source": [
    "**Example 12.** A boxplot grouped by survival status."
   ]
  },
  {
   "cell_type": "code",
   "execution_count": null,
   "id": "c0ec8f41-31cc-4133-92d7-68236e0388a6",
   "metadata": {},
   "outputs": [],
   "source": [
    "titanic.boxplot(column=\"age\", by=\"survived\")\n",
    "plt.grid(False)\n",
    "plt.suptitle(\"\")\n",
    "plt.title(\"Box Grouped by Survival Status\");"
   ]
  },
  {
   "cell_type": "markdown",
   "id": "f6a253bf-58f1-4562-a993-01690a498be2",
   "metadata": {},
   "source": [
    "## Seaborn\n",
    "\n",
    "Seaborn is a Python data visualization library based on [`matplotlib`](https://matplotlib.org/). It provides a high-level interface for drawing attractive and informative statistical graphics.\n",
    "\n",
    "For a brief introduction to the ideas behind the library, you can read the [introductory notes](https://seaborn.pydata.org/tutorial/introduction.html) or the [paper](https://joss.theoj.org/papers/10.21105/joss.03021). Visit the [installation page](https://seaborn.pydata.org/installing.html) to see how you can download the package and get started with it. You can browse the [example gallery](https://seaborn.pydata.org/examples/index.html) to see some of the things that you can do with seaborn, and then check out the [tutorials](https://seaborn.pydata.org/tutorial.html) or [API reference](https://seaborn.pydata.org/api.html) to find out how."
   ]
  },
  {
   "cell_type": "code",
   "execution_count": null,
   "id": "ac2bfad0-d0a1-47a0-a361-5c6af925ed0f",
   "metadata": {},
   "outputs": [],
   "source": [
    "# Import seaborn\n",
    "import ... as ..."
   ]
  },
  {
   "cell_type": "markdown",
   "id": "9b612552-a9b8-4717-999c-beb3bbf5ece8",
   "metadata": {},
   "source": [
    "### Line Chart\n",
    "\n",
    "A line chart is similar to a scatter plot except that the measurement points are ordered and joined with straight line segments. A line chart is often used to visualize a trend in data over intervals of time (i.e. a time series), thus the line is often drawn chronologically.\n",
    "\n",
    "**Example 13.** A line chart that shows the number of flights per year."
   ]
  },
  {
   "cell_type": "code",
   "execution_count": null,
   "id": "3a50a3f1-4998-4d66-bc00-ab266fee82f2",
   "metadata": {},
   "outputs": [],
   "source": [
    "flights = ...\n",
    "flights.head()"
   ]
  },
  {
   "cell_type": "code",
   "execution_count": null,
   "id": "3eef9e66-8f29-42d6-bb38-a1403b5bcc64",
   "metadata": {},
   "outputs": [],
   "source": [
    "flights.plot(x=\"year\", y=\"passengers\", legend=False);"
   ]
  },
  {
   "cell_type": "markdown",
   "id": "c9cccc74-c6bf-4964-99e0-ec55fdd38e5e",
   "metadata": {
    "deletable": false,
    "editable": false
   },
   "source": [
    "<!-- BEGIN QUESTION -->\n",
    "\n",
    "**Question 8.** Fix the line chart from **Example 13**."
   ]
  },
  {
   "cell_type": "code",
   "execution_count": null,
   "id": "e6ebf890-dcc5-4283-a619-478a3c93928b",
   "metadata": {
    "tags": []
   },
   "outputs": [],
   "source": [
    "... "
   ]
  },
  {
   "cell_type": "markdown",
   "id": "309a0577",
   "metadata": {
    "deletable": false,
    "editable": false
   },
   "source": [
    "<!-- END QUESTION -->\n",
    "\n"
   ]
  },
  {
   "cell_type": "markdown",
   "id": "00f1827e",
   "metadata": {
    "deletable": false,
    "editable": false
   },
   "source": [
    "## Submission\n",
    "\n",
    "Make sure you have run all cells in your notebook in order before running the cell below, so that all images/graphs appear in the output. The cell below will generate a zip file for you to submit. **Please save before exporting!**\n",
    "\n",
    "When done exporting, download the .zip file by `SHIFT`-clicking on the file name and selecting **Save Link As**. Or, find the .zip file in the left side of the screen and right-click and select **Download**. You'll submit this .zip file for the assignment in Moodle to Gradescope for grading."
   ]
  },
  {
   "cell_type": "code",
   "execution_count": null,
   "id": "cfd9c290",
   "metadata": {
    "deletable": false,
    "editable": false
   },
   "outputs": [],
   "source": [
    "# Save your notebook first, then run this cell to export your submission.\n",
    "grader.export(pdf=False)"
   ]
  },
  {
   "cell_type": "markdown",
   "id": "31581125",
   "metadata": {},
   "source": [
    " "
   ]
  }
 ],
 "metadata": {
  "kernelspec": {
   "display_name": "DSC201",
   "language": "python",
   "name": "dsc201"
  },
  "language_info": {
   "codemirror_mode": {
    "name": "ipython",
    "version": 3
   },
   "file_extension": ".py",
   "mimetype": "text/x-python",
   "name": "python",
   "nbconvert_exporter": "python",
   "pygments_lexer": "ipython3",
   "version": "3.11.0"
  },
  "otter": {
   "OK_FORMAT": true,
   "tests": {
    "q2": {
     "name": "q2",
     "points": null,
     "suites": [
      {
       "cases": [
        {
         "code": ">>> titanic.shape[0] + titanic.shape[1] == 903\nTrue",
         "hidden": false,
         "locked": false
        },
        {
         "code": ">>> len(titanic.columns)\n12",
         "hidden": false,
         "locked": false
        }
       ],
       "scored": true,
       "setup": "",
       "teardown": "",
       "type": "doctest"
      }
     ]
    }
   }
  }
 },
 "nbformat": 4,
 "nbformat_minor": 5
}
