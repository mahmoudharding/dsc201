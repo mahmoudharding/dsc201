{
 "cells": [
  {
   "cell_type": "markdown",
   "metadata": {},
   "source": [
    "## Assignment 10\n",
    "\n",
    "## Due: See Date in Moodle\n",
    "\n",
    "In this assignment you will use intermediate and advanced features in Python.\n",
    "\n",
    "To receive a **full credit** for this assignment, you must complete all exercises.\n",
    "\n",
    "## This Week's Assignment\n",
    "\n",
    "In this week's assignment, you'll learn how to:\n",
    "\n",
    "- sample from an `pandas` dataframe.\n",
    "\n",
    "- write a user-defined Python function.\n",
    "\n",
    "- write a `for` loop.\n",
    "\n",
    "### Notes\n",
    "- Adhere to good programming practices, utilizing descriptive variable names, appropriate spacing for readability, and adding comments to your code.\n",
    "- Ensure written responses maintain correct spelling, complete sentences, and proper grammar.\n",
    "\n",
    "## This Week's Assignment\n",
    "\n",
    "In this week's assignment, you'll learn how to:\n",
    "\n",
    "- sample from an `pandas` dataframe.\n",
    "\n",
    "- write a user-defined Python function.\n",
    "\n",
    "- write a `for` loop.\n",
    "\n",
    "**Note:** In this assignment, your task is to replicate the analysis conducted in **Assignment 09**, this time utilizing Python instead of R."
   ]
  },
  {
   "cell_type": "markdown",
   "metadata": {
    "cell_id": "e500750191f149fdab3fea1fe6b3e94e",
    "deepnote_cell_type": "markdown"
   },
   "source": [
    "**Name:** \n",
    "\n",
    "**Section:** \n",
    "\n",
    "**Date:**"
   ]
  },
  {
   "cell_type": "markdown",
   "metadata": {
    "cell_id": "e500750191f149fdab3fea1fe6b3e94e",
    "deepnote_cell_type": "markdown"
   },
   "source": [
    "## The Bootstrap\n",
    "\n",
    "Bootstrapping is one of the simplest, yet most powerful methods in all of statistics. It provides us an easy way to get a sense of what might happen if we could repeat an experiment several times. It turns estimates into distributions that can be used to calculate all kinds of stuff, including standard errors, confidence intervals and even $p-$values.\n",
    "\n",
    "Below is a video that explains the main ideas behind this computational technique."
   ]
  },
  {
   "cell_type": "code",
   "execution_count": null,
   "metadata": {
    "cell_id": "8abdd11b25b648feb5f9be2d8d5bcf5c",
    "deepnote_cell_type": "code",
    "deepnote_to_be_reexecuted": false,
    "execution_millis": 128,
    "execution_start": 1698258127639,
    "source_hash": null,
    "tags": []
   },
   "outputs": [],
   "source": [
    "from IPython.display import YouTubeVideo\n",
    "\n",
    "# YouTube video ID\n",
    "video_id = 'Xz0x-8-cgaQ'\n",
    "\n",
    "# Embed the YouTube video\n",
    "YouTubeVideo(video_id, width=800, height=400)"
   ]
  },
  {
   "cell_type": "markdown",
   "metadata": {
    "cell_id": "8b3fefbd7af047df8eff92e59f5292b9",
    "deepnote_cell_type": "markdown"
   },
   "source": [
    "Most of the time when you're conducting research, it's impractical to collect data from the entire population. This can be due to budget, time constraints, or other factors. Instead, a subset of the population is taken and insight is gathered from that subset to learn more about the population.\n",
    "\n",
    "Suppose we had data that was the entire population - say all the salaries of the city employees of Raleigh, NC. "
   ]
  },
  {
   "cell_type": "markdown",
   "metadata": {
    "tags": []
   },
   "source": [
    "**Question1.** Load the `pandas` library using the appropriate alias."
   ]
  },
  {
   "cell_type": "code",
   "execution_count": null,
   "metadata": {
    "tags": []
   },
   "outputs": [],
   "source": [
    "# Import module\n",
    "..."
   ]
  },
  {
   "cell_type": "markdown",
   "metadata": {},
   "source": [
    "Run the cell below to load the data."
   ]
  },
  {
   "cell_type": "code",
   "execution_count": null,
   "metadata": {
    "cell_id": "4cd2ff2d734e40fa85d95edb450e8a28",
    "deepnote_cell_type": "code",
    "deepnote_to_be_reexecuted": false,
    "execution_millis": 381,
    "execution_start": 1698258180226,
    "source_hash": null,
    "tags": []
   },
   "outputs": [],
   "source": [
    "# Load the dataset\n",
    "nc = pd.read_csv(...)"
   ]
  },
  {
   "cell_type": "markdown",
   "metadata": {
    "cell_id": "4069de9a8be846cfb524c1c0066e0914",
    "deepnote_cell_type": "markdown"
   },
   "source": [
    "## The UNC System\n",
    "\n",
    "[The UNC System](https://www.northcarolina.edu/) is one of the most valuable public higher education systems in the country. North Carolina introduced the nation to the concept of a public university, and the state continues to lead the way in the arena of higher education.\n",
    "\n",
    "In North Carolina, all the public educational institutions granting four-year degrees are part of the University of North Carolina System. The multi-campus system encompasses 16 universities and the NC School of Science and Mathematics, the nation’s first public residential high school for gifted students.\n",
    "\n",
    "The consolidation under one governing board has accelerated North Carolina’s four fundamental higher education objectives: to foster the development of a well-planned and coordinated system of higher education; to improve the quality of education; to extend educational benefits beyond campus borders; and to encourage efficient and effective use of the state’s resources.\n",
    "\n",
    "In addition to its formal teaching role, the UNC System has a long-standing commitment to research and public service. The state and its people also reap the social and economic benefits of the UNC System’s affiliated institutions including PBS North Carolina, The University of North Carolina Press, UNC Health, cooperative extension and research services, nine area health education centers, and myriad other University programs and facilities.\n",
    "\n",
    "**Note:** Even though this information is public record the names have been removed for this exercise.\n",
    "\n",
    "Let's look at information about the dataset."
   ]
  },
  {
   "cell_type": "markdown",
   "metadata": {},
   "source": [
    "**Question 2.** Use the `.info()` method to access information about the `nc` dataframe."
   ]
  },
  {
   "cell_type": "code",
   "execution_count": null,
   "metadata": {
    "cell_id": "96ebe3bb92bc45f894a90fe6da9ecfd4",
    "deepnote_cell_type": "code",
    "deepnote_to_be_reexecuted": false,
    "execution_millis": 195,
    "execution_start": 1698257113663,
    "source_hash": null
   },
   "outputs": [],
   "source": [
    "..."
   ]
  },
  {
   "cell_type": "markdown",
   "metadata": {
    "cell_id": "676275de7119437582aac58d83202a3f",
    "deepnote_cell_type": "markdown"
   },
   "source": [
    "**Question 3.** Choose one numerical and one categorical variable and give a breif description of each.\n",
    "\n",
    "**Note:** Make sure to select variables that are different from those you chose for Assignment 09."
   ]
  },
  {
   "cell_type": "markdown",
   "metadata": {
    "cell_id": "c942e077a1a34708912b7a44a1ad7b94",
    "deepnote_cell_type": "markdown"
   },
   "source": [
    "**_Type you answer here replacing this text_** "
   ]
  },
  {
   "cell_type": "markdown",
   "metadata": {},
   "source": [
    "**Question 4.** To start our analysis and complete our assignment we need to load the `pyplot` from `matplotlib` using the appropriate alias. This will give us access to additional plotting functionality."
   ]
  },
  {
   "cell_type": "code",
   "execution_count": null,
   "metadata": {
    "tags": []
   },
   "outputs": [],
   "source": [
    "# Import module\n",
    "..."
   ]
  },
  {
   "cell_type": "markdown",
   "metadata": {},
   "source": [
    "Now let's get more details.\n",
    "\n",
    "**Example 1.** What are the different instiutions and how many employees does each one have?"
   ]
  },
  {
   "cell_type": "code",
   "execution_count": null,
   "metadata": {
    "tags": []
   },
   "outputs": [],
   "source": [
    "nc['INSTITUTION NAME'].value_counts()"
   ]
  },
  {
   "cell_type": "markdown",
   "metadata": {
    "cell_id": "23e0ebabe17446f9aef08a7248feda0f",
    "deepnote_cell_type": "markdown"
   },
   "source": [
    "**Example 1.** What are the different departments and how many employees does each department have?\n",
    "\n",
    "**Note:** We will limit our results to the top 15."
   ]
  },
  {
   "cell_type": "code",
   "execution_count": null,
   "metadata": {
    "cell_id": "5c75dd54514e434e819e9cf45054ea49",
    "deepnote_cell_type": "code",
    "deepnote_to_be_reexecuted": false,
    "execution_millis": 394,
    "execution_start": 1698258878992,
    "source_hash": null,
    "tags": []
   },
   "outputs": [],
   "source": [
    "nc['EMPLOYEE HOME DEPARTMENT'].value_counts()[:15]"
   ]
  },
  {
   "cell_type": "markdown",
   "metadata": {},
   "source": [
    "**Question 5.** Which department has the most employees? Which university has the most employees? Is there a department that has more or less employees than you expected? Which one? Why?"
   ]
  },
  {
   "cell_type": "markdown",
   "metadata": {},
   "source": [
    "**_Type you answer here replacing this text_** "
   ]
  },
  {
   "cell_type": "markdown",
   "metadata": {
    "cell_id": "7568556a993e4dbd9aba818054d619b4",
    "deepnote_cell_type": "markdown"
   },
   "source": [
    "Suppose we wanted to report the mean salary for a typical full-time employee of the Univeristy of North Carolina System. Since we have all the salaries we can find the population mean. But before we can do that, we need to change the data type of the `EMPLOYEE.ANNUAL.BASE.SALARY` column. The output from the `nc.info()` command for that column was:\n",
    "\n",
    "```\n",
    "<class 'pandas.core.frame.DataFrame'>\n",
    "RangeIndex: 50106 entries, 0 to 50105\n",
    "Data columns (total 7 columns):\n",
    " #   Column                         Non-Null Count  Dtype \n",
    "---  ------                         --------------  ----- \n",
    " 4    EMPLOYEE ANNUAL BASE SALARY   50106 non-null  object\n",
    "```\n",
    "\n",
    "So we need to do some wrangling to convert the values from `object` to `float`.\n",
    "\n",
    "## Data Wrangling\n",
    "\n",
    "There are two issues. \n",
    "\n",
    "- The values are stored as strings.\n",
    "- The valued has dollar signs `($)` and commas `(,)`\n",
    "\n",
    "If we want the mean salary we will need to convert the string salary values into numbers, then compute the yearly earnings for an hourly employee.\n",
    "\n",
    "Let's get started!\n",
    "\n",
    "**Example 3.** Remove the dollar sign and comma from one of the `EMPLOYEE ANNUAL BASE SALARY` values.\n",
    "\n",
    "Run the cell below to see the first observation in the `nc` dataframe for `EMPLOYEE ANNUAL BASE SALARY`."
   ]
  },
  {
   "cell_type": "code",
   "execution_count": null,
   "metadata": {
    "tags": []
   },
   "outputs": [],
   "source": [
    "nc[' EMPLOYEE ANNUAL BASE SALARY '][0]"
   ]
  },
  {
   "cell_type": "markdown",
   "metadata": {},
   "source": [
    "**Example 4.** Use the `replace` string method to remove the `$` and the `,` and use the `strip` string method to remove the leading and trailing spaces.\n"
   ]
  },
  {
   "cell_type": "code",
   "execution_count": null,
   "metadata": {
    "tags": []
   },
   "outputs": [],
   "source": [
    "nc[' EMPLOYEE ANNUAL BASE SALARY '][0].replace('$', '').replace(',', '').strip()"
   ]
  },
  {
   "cell_type": "markdown",
   "metadata": {},
   "source": [
    "**Example 5.** Use the `float` command to convert the data type of the output from the `nc[' EMPLOYEE ANNUAL BASE SALARY '][0].replace('$', '').replace(',', '').strip()` command from a string to a number."
   ]
  },
  {
   "cell_type": "code",
   "execution_count": null,
   "metadata": {
    "tags": []
   },
   "outputs": [],
   "source": [
    "float(nc[' EMPLOYEE ANNUAL BASE SALARY '][0].replace('$', '').replace(',', '').strip())"
   ]
  },
  {
   "cell_type": "markdown",
   "metadata": {},
   "source": [
    "Now that we know how to do one value, we can do this for all the values. To apply this to all the items in the column we can use a user-defined function."
   ]
  },
  {
   "cell_type": "code",
   "execution_count": null,
   "metadata": {
    "tags": []
   },
   "outputs": [],
   "source": [
    "# Define a function to remove the '$', ',', and space\n",
    "def convert_to_number(currency_string):\n",
    "    \n",
    "    # Remove '$' and ',' characters\n",
    "    cleaned_currency_string = currency_string.replace('$', '').replace(',', '')\n",
    "\n",
    "    # Convert the cleaned string to a float\n",
    "    currency_value = float(cleaned_currency_string)\n",
    "    \n",
    "    # Return the numerical value \n",
    "    return currency_value"
   ]
  },
  {
   "cell_type": "markdown",
   "metadata": {},
   "source": [
    "Use the `.apply()` method and the `convert_to_number` function to change each value in the `EMPLOYEE ANNUAL BASE SALARY` column from a string to a number. Save the output to an object named `salaries`. Display the first 10 results.\n",
    "\n",
    "**Reminder:** The `.apply()` method for Pandas DataFrames is used to apply a function along the axis of a DataFrame or Series."
   ]
  },
  {
   "cell_type": "code",
   "execution_count": null,
   "metadata": {
    "tags": []
   },
   "outputs": [],
   "source": [
    "salaries = ...\n",
    "salaries[:10]"
   ]
  },
  {
   "cell_type": "markdown",
   "metadata": {},
   "source": [
    "**Example 6.** Find the mean and median salary for all NC University System employees."
   ]
  },
  {
   "cell_type": "code",
   "execution_count": null,
   "metadata": {
    "tags": []
   },
   "outputs": [],
   "source": [
    "# Find the mean value in the salaries Series\n",
    "print('The mean salary is', salaries.mean())\n",
    "\n",
    "# Find the median value in the salaries Series\n",
    "print('The median salary is', salaries.median())"
   ]
  },
  {
   "cell_type": "markdown",
   "metadata": {
    "cell_id": "47d0459ee0c24a7b8c2568a7abcd1458",
    "deepnote_cell_type": "markdown"
   },
   "source": [
    "**Question 6.** Why do you think there is a difference of almost \\$16,000 dollars between them?"
   ]
  },
  {
   "cell_type": "markdown",
   "metadata": {
    "cell_id": "d16033a98a3840a28ae0d85fb3cb7e65",
    "deepnote_cell_type": "markdown"
   },
   "source": [
    "**_Type you answer here replacing this text_** "
   ]
  },
  {
   "cell_type": "markdown",
   "metadata": {
    "cell_id": "6619cbd637744edb8c9d72f1cc6dd530",
    "deepnote_cell_type": "markdown"
   },
   "source": [
    "# A Sample\n",
    "\n",
    "A random sample is a subset of data or individuals taken from a larger population or dataset in such a way that each member of the population has an equal and independent chance of being included in the sample. The goal of taking a random sample is to ensure that the sample is representative of the entire population, allowing for valid statistical inferences and generalizations to be made about the population as a whole."
   ]
  },
  {
   "cell_type": "markdown",
   "metadata": {
    "cell_id": "5ad6728e4fa04cf0b92dad878d8b2cc7",
    "deepnote_cell_type": "markdown"
   },
   "source": [
    "**Example 7.** Sample one observation from the `salaries` Series.\n",
    "\n",
    "**Note:** The `.sample()` method, by default, samples without replacement. This means that the same element can not be chosen more than once in the random sample. If you want to sample with replacement (each element can only be chosen once), you need to explicitly set the `replace` argument to `True`. "
   ]
  },
  {
   "cell_type": "code",
   "execution_count": null,
   "metadata": {
    "cell_id": "83e6095a30b5424fa797f54eb4cbef20",
    "deepnote_cell_type": "code",
    "deepnote_to_be_reexecuted": false,
    "execution_millis": 227,
    "execution_start": 1698259683108,
    "source_hash": null,
    "tags": []
   },
   "outputs": [],
   "source": [
    "# One sampled observation\n",
    "salaries.sample(n=1, replace=True)"
   ]
  },
  {
   "cell_type": "markdown",
   "metadata": {
    "cell_id": "c87ec86674324ded8c505796549db41e",
    "deepnote_cell_type": "markdown"
   },
   "source": [
    "If we re-run the code cell above, we would most likely get a different value. Try it and see."
   ]
  },
  {
   "cell_type": "code",
   "execution_count": null,
   "metadata": {
    "allow_embed": false,
    "cell_id": "18404927abf141acbf40eedf4455a458",
    "deepnote_cell_type": "code",
    "deepnote_to_be_reexecuted": false,
    "execution_millis": 75,
    "execution_start": 1698259690109,
    "source_hash": null,
    "tags": []
   },
   "outputs": [],
   "source": [
    "# One sampled observation\n",
    "salaries.sample(n=1, replace=True)"
   ]
  },
  {
   "cell_type": "markdown",
   "metadata": {
    "cell_id": "b2bd65e8a5084dc3b2ebbb762c137c29",
    "deepnote_cell_type": "markdown"
   },
   "source": [
    "What we want to do is draw a large enough sample from a population in order to draw conclusions about a population without having to examine every single member of that population. In our activity we have the population, but for the sake of this activity let's pretend that we don't."
   ]
  },
  {
   "cell_type": "markdown",
   "metadata": {},
   "source": [
    "To ensure that your work is reproducible we will set a seed. What does it mean to set a seed?\n",
    "\n",
    "In the context of the python programming language, setting a seed refers to initializing the random number generator with a specific value. This is important when you want to ensure reproducibility in your code, especially when generating random numbers.\n",
    "\n",
    "In python, the random number generator is used in functions that involve randomness, such as sampling or generating random numbers from distributions. When you set a seed, you are essentially starting the random number generator at a specific point, and if you use the same seed again, you should get the same sequence of random numbers.\n",
    "\n",
    "We can use the `random_state` parameter to set the seed to a specific value.\n",
    "\n",
    "In the cell below set the seed for this notebook using 4 digits from either your birthdate, street address, phone number , etc. \n",
    "\n",
    "**Note:** The first digit can not be 0."
   ]
  },
  {
   "cell_type": "code",
   "execution_count": null,
   "metadata": {
    "tags": []
   },
   "outputs": [],
   "source": [
    "seed = ..."
   ]
  },
  {
   "cell_type": "markdown",
   "metadata": {
    "cell_id": "9501ac1747654e12826671d1864c900c",
    "deepnote_cell_type": "markdown"
   },
   "source": [
    "**Example 8.** Sample 500 observations from the `salaries` Series."
   ]
  },
  {
   "cell_type": "code",
   "execution_count": null,
   "metadata": {
    "cell_id": "d77f94d2f814441983d1117a6773f3f6",
    "deepnote_cell_type": "code",
    "deepnote_to_be_reexecuted": false,
    "execution_millis": 15,
    "execution_start": 1698259028588,
    "source_hash": null,
    "tags": []
   },
   "outputs": [],
   "source": [
    "... = ...\n",
    "salaries_sample = salaries.sample(n=s, random_state=seed)"
   ]
  },
  {
   "cell_type": "markdown",
   "metadata": {
    "cell_id": "69920fe365fd4f4fa63251e8d0243672",
    "deepnote_cell_type": "markdown"
   },
   "source": [
    "What is the mean annual salaries in our sample? Is it the same value as the mean salary in the full datasaet?"
   ]
  },
  {
   "cell_type": "code",
   "execution_count": null,
   "metadata": {
    "cell_id": "63e5f76f10da42fcad2adf81788aea97",
    "deepnote_cell_type": "code",
    "deepnote_to_be_reexecuted": false,
    "execution_millis": 71,
    "execution_start": 1698259044101,
    "source_hash": null,
    "tags": []
   },
   "outputs": [],
   "source": [
    "print('The mean salary in our sample of', s, 'is', salaries_sample.mean())\n",
    "print('The mean salary in our population of', len(salaries), 'is', salaries.mean())"
   ]
  },
  {
   "cell_type": "markdown",
   "metadata": {
    "cell_id": "fa9ff0f45dfa4e918b8dab1a172ddd20",
    "deepnote_cell_type": "markdown"
   },
   "source": [
    "Could we make a statement about the population based off of our sample of 500 observations? Would this be a good idea? Why or why not?"
   ]
  },
  {
   "cell_type": "markdown",
   "metadata": {
    "cell_id": "832218ccdd4f4e739ee9f5a8e6226c6d",
    "deepnote_cell_type": "markdown"
   },
   "source": [
    "## A Bootstrap Sample Mean\n",
    "\n",
    "Suppose we take a random sample from our sample (with replacement). Would that give us a better idea of the mean salary for a typical full-time NC University System employee?\n",
    "\n",
    "Let's try!"
   ]
  },
  {
   "cell_type": "markdown",
   "metadata": {
    "cell_id": "9eb17a7b6e9c4d35803bcf1b71da27ea",
    "deepnote_cell_type": "markdown"
   },
   "source": [
    "**Example 9.** Collect one bootstrap sample from the `salaries_sample` Series. Calculate the mean of that sample.\n",
    "\n",
    "**Note:** We do not specify a size because we want the sample size to equal the number of items in the sample (500)."
   ]
  },
  {
   "cell_type": "code",
   "execution_count": null,
   "metadata": {
    "cell_id": "d1d8bb9a7aa94932999243043a832634",
    "deepnote_cell_type": "code",
    "deepnote_to_be_reexecuted": false,
    "execution_millis": 22,
    "execution_start": 1698259712128,
    "source_hash": null,
    "tags": []
   },
   "outputs": [],
   "source": [
    "# Perform a bootstrap sample\n",
    "one_bootstrap_sample = salaries_sample.sample(n=s, replace=True)\n",
    "\n",
    "# Calculate the median of one bootstrap sample\n",
    "print('The mean salary in our bootstrap of', len(salaries_sample), 'is', one_bootstrap_sample.mean())\n",
    "\n",
    "# The median of the population\n",
    "print('The mean salary in our population of', len(salaries), 'is', salaries.mean())"
   ]
  },
  {
   "cell_type": "markdown",
   "metadata": {
    "cell_id": "8310be06171a47dd966c6b801848ddb6",
    "deepnote_cell_type": "markdown"
   },
   "source": [
    "**Question 7.** If we did another bootstrap sample and calculated it's mean, do you think we would get the same value? Explain.\n",
    "\n",
    "**Note:** I'm not necessarily looking for you to provide the correct answer - I just want to know what you think."
   ]
  },
  {
   "cell_type": "markdown",
   "metadata": {
    "cell_id": "136a8d87df634eb3b4ca3c6f6fc3370a",
    "deepnote_cell_type": "markdown"
   },
   "source": [
    "**_Type you answer here replacing this text_** "
   ]
  },
  {
   "cell_type": "markdown",
   "metadata": {
    "cell_id": "8e1487818bef427d8e9a3c359151c458",
    "deepnote_cell_type": "markdown"
   },
   "source": [
    "## Lots of Bootstrap Sample Means\n",
    "\n",
    "What if we did another 10000 bootstrap samples and calculated the mean each time, do you think we would get ever the same value for the mean?\n",
    "\n",
    "To proceed we will use the power of `NumPy`. Remember, `NumPy` is a numerical computing library for Python. It provides support for large, multi-dimensional arrays and matrices, along with mathematical functions to operate on these arrays. `NumPy` is a fundamental package for scientific computing in Python, and it forms the foundation for many other libraries and tools in the Python data science ecosystem.\n",
    "\n",
    "Complete the code cell below to import `NumPy`."
   ]
  },
  {
   "cell_type": "code",
   "execution_count": null,
   "metadata": {
    "tags": []
   },
   "outputs": [],
   "source": [
    "# Import module\n",
    "..."
   ]
  },
  {
   "cell_type": "markdown",
   "metadata": {},
   "source": [
    "**Example 10.** Let's do 10000 bootstrap sample means.\n",
    "\n",
    "**Note:** A `for` loop in Python has the following syntax:\n",
    "\n",
    "```\n",
    "for i in range(5):\n",
    "    print(i)\n",
    "```"
   ]
  },
  {
   "cell_type": "code",
   "execution_count": null,
   "metadata": {
    "tags": []
   },
   "outputs": [],
   "source": [
    "for i in range(5):\n",
    "    print(i)"
   ]
  },
  {
   "cell_type": "code",
   "execution_count": null,
   "metadata": {
    "cell_id": "bdfe265ac2404d449768a890e8a79a0d",
    "deepnote_cell_type": "code",
    "deepnote_to_be_reexecuted": false,
    "execution_millis": 7546,
    "execution_start": 1698259985211,
    "source_hash": null,
    "tags": []
   },
   "outputs": [],
   "source": [
    "# Initialize an empty list to store each bootstrap sample mean\n",
    "bootstrap_sample_means = np.array([])\n",
    "\n",
    "# For loop to calculate a bootstrap sample mean\n",
    "for _ in range(10000):\n",
    "    one_bootstrap_sample = salaries_sample.sample(n=s, replace=True)\n",
    "    bootstrap_sample_means = np.append(bootstrap_sample_means, one_bootstrap_sample.mean())"
   ]
  },
  {
   "cell_type": "markdown",
   "metadata": {
    "cell_id": "2f688f97cc4e4912914f2db7d9e9c72a",
    "deepnote_cell_type": "markdown"
   },
   "source": [
    "**Example 11.** To analyze the distribution (i.e.; frequency and pattern) of our bootstrap means let's visualize our data using a histogram."
   ]
  },
  {
   "cell_type": "code",
   "execution_count": null,
   "metadata": {
    "cell_id": "39174c2f80704615a83c18dc74e2517a",
    "deepnote_cell_type": "code",
    "deepnote_to_be_reexecuted": false,
    "execution_millis": 425,
    "execution_start": 1698260112250,
    "source_hash": null,
    "tags": []
   },
   "outputs": [],
   "source": [
    "# Create a histogram of the bootstrap sample means\n",
    "plt.hist(bootstrap_sample_means, edgecolor='black', linewidth=0.75)\n",
    "plt.xlabel('bootstrap_means')\n",
    "plt.ylabel('Frequency');"
   ]
  },
  {
   "cell_type": "markdown",
   "metadata": {
    "cell_id": "59d974204c8d400f827706f4bdc52d27",
    "deepnote_cell_type": "markdown"
   },
   "source": [
    "**Question 8.** Based on the histogram above, do you think the true mean salary (or at least a value that's really close to it) occurs more frequently that other values? Explain.\n",
    "\n",
    "**Note:** I'm not necessarily looking for you to provide the correct answer - I just want to know what you think."
   ]
  },
  {
   "cell_type": "markdown",
   "metadata": {
    "cell_id": "2573398a02104498b4c0266736d29eb8",
    "deepnote_cell_type": "markdown"
   },
   "source": [
    "**_Type you answer here replacing this text_** "
   ]
  },
  {
   "cell_type": "markdown",
   "metadata": {
    "cell_id": "01ca83c7f7b849d386afb0c3afbb6751",
    "deepnote_cell_type": "markdown"
   },
   "source": [
    "**Example 12.** Show the location of the mean of all the bootstrap sample means and the true average salary."
   ]
  },
  {
   "cell_type": "code",
   "execution_count": null,
   "metadata": {
    "cell_id": "36ceee9db1f24de68b32504c5c15da47",
    "deepnote_cell_type": "code",
    "deepnote_to_be_reexecuted": false,
    "execution_millis": 309,
    "execution_start": 1698260363150,
    "source_hash": null,
    "tags": []
   },
   "outputs": [],
   "source": [
    "# Create a histogram of the bootstrap sample means\n",
    "plt.hist(bootstrap_sample_means, edgecolor='black', linewidth=0.75)\n",
    "\n",
    "# Plot a red marker for the true average salary\n",
    "plt.plot(salaries.mean(), -55, marker='^', color='red', markersize=10)\n",
    "\n",
    "# Plot a green marker for the mean salary of the bootstrapped means\n",
    "plt.plot(bootstrap_sample_means.mean(), -55, marker='^', color='green', markersize=10)\n",
    "\n",
    "# Add labels\n",
    "plt.xlabel('bootstrap_means')\n",
    "plt.ylabel('Frequency');\n",
    "\n",
    "# Calculate the mean of one bootstrap sample distribution\n",
    "print('The mean salary in our bootstrap distribution of', len(bootstrap_sample_means), 'bootstrapped sample means, each with size', len(salaries_sample), 'is', bootstrap_sample_means.mean())\n",
    "\n",
    "# The median of the population\n",
    "print('The mean salary in our population of', len(salaries), 'is', salaries.mean())"
   ]
  },
  {
   "cell_type": "markdown",
   "metadata": {},
   "source": [
    "Confer with your neighbor about the differences between the markers for the true mean and the mean of the bootstrapped samples. Determine who had the smaller variance between these two measures.\n",
    "\n",
    "If we were to repeat this process, do you think the mean of the bootstrapped sample means would be closer to, or further from, the true mean salary? Please explain your reasoning to a classmate."
   ]
  },
  {
   "cell_type": "markdown",
   "metadata": {
    "cell_id": "01c0c750a3404459ac72fa4831b65979",
    "deepnote_cell_type": "markdown"
   },
   "source": [
    "**Example 13.** Show the location of the mean of all the bootstrap sample means, the true average salary, and a 95% confidence interval."
   ]
  },
  {
   "cell_type": "code",
   "execution_count": null,
   "metadata": {
    "cell_id": "dc00b8c9ee544155934c98d588dfa95d",
    "deepnote_cell_type": "code",
    "deepnote_to_be_reexecuted": false,
    "execution_millis": 441,
    "execution_start": 1698260899662,
    "source_hash": null,
    "tags": []
   },
   "outputs": [],
   "source": [
    "# Get lower and upper bound\n",
    "lower_bound = np.percentile(bootstrap_sample_means, 2.5)\n",
    "upper_bound = np.percentile(bootstrap_sample_means, 97.5)\n",
    "\n",
    "# Create a histogram of the bootstrap sample means\n",
    "plt.hist(bootstrap_sample_means, edgecolor='black', linewidth=0.75)\n",
    "\n",
    "# Plot a 95% confidence interval\n",
    "plt.hlines(25, lower_bound, upper_bound, color='orange', linewidth=5)\n",
    "\n",
    "# Plot a red marker for the true average salary\n",
    "plt.plot(salaries.mean(), -60, marker='^', color='red', markersize=10)\n",
    "\n",
    "# Plot a green marker for the mean salary of the bootstrapped means\n",
    "plt.plot(bootstrap_sample_means.mean(), -60, marker='^', color='green', markersize=10)\n",
    "\n",
    "# Print statements\n",
    "print(\"The 95% confidence interval is (\", round(lower_bound, 2), \",\",round(upper_bound, 2), \")\")\n",
    "print(\"The true mean is \", round(salaries.mean(), 2))\n",
    "print(\"The mean of the bootstrapped samples is\", round(bootstrap_sample_means.mean(), 2))"
   ]
  },
  {
   "cell_type": "markdown",
   "metadata": {
    "cell_id": "e82ce54ef7914c6baec5bd64066725e2",
    "deepnote_cell_type": "markdown"
   },
   "source": [
    "**Example 14.** Show the location of the mean of all the bootstrap sample means, the true average salary, and a 90% confidence interval."
   ]
  },
  {
   "cell_type": "code",
   "execution_count": null,
   "metadata": {
    "cell_id": "585d66a49cc0494c926785838ab4c56f",
    "deepnote_cell_type": "code",
    "deepnote_to_be_reexecuted": false,
    "execution_millis": 354,
    "execution_start": 1698260969353,
    "source_hash": null,
    "tags": []
   },
   "outputs": [],
   "source": [
    "# Get lower and upper bound\n",
    "lower_bound = np.percentile(bootstrap_sample_means, 5)\n",
    "upper_bound = np.percentile(bootstrap_sample_means, 95)\n",
    "\n",
    "# Create a histogram of the bootstrap sample means\n",
    "plt.hist(bootstrap_sample_means, edgecolor='black', linewidth=0.75)\n",
    "\n",
    "# Plot a 90% confidence interval\n",
    "plt.hlines(25, lower_bound, upper_bound, color='orange', linewidth=5)\n",
    "\n",
    "# Plot a red marker for the true average salary\n",
    "plt.plot(salaries.mean(), -60, marker='^', color='red', markersize=10)\n",
    "\n",
    "# Plot a green marker for the mean salary of the bootstrapped means\n",
    "plt.plot(bootstrap_sample_means.mean(), -60, marker='^', color='green', markersize=10)\n",
    "\n",
    "# Print statements\n",
    "print(\"The 90% confidence interval is (\", round(lower_bound, 2), \",\",round(upper_bound, 2), \")\")\n",
    "print(\"The true mean is \", round(salaries.mean(), 2))\n",
    "print(\"The mean of the bootstrapped samples is\", round(bootstrap_sample_means.mean(), 2))"
   ]
  },
  {
   "cell_type": "markdown",
   "metadata": {
    "cell_id": "a61fe1b778ef48b0916f674cab4e1599",
    "deepnote_cell_type": "markdown"
   },
   "source": [
    "**Question 9.** Does the true mean appear within the conficence interval? If not, do you think we could perform a simulation where the true mean of the population falls inside of the confidence interval? If so, do you think we could perform a simulation where the true mean of the population falls outside of the confidence interval? Explain.\n",
    "\n",
    "**Note:** I'm not necessarily looking for you to provide the correct answer - I just want to know what you think."
   ]
  },
  {
   "cell_type": "markdown",
   "metadata": {
    "cell_id": "ebf56c102b714548bebb56de90e8c663",
    "deepnote_cell_type": "markdown"
   },
   "source": [
    "**_Type you answer here replacing this text_** "
   ]
  }
 ],
 "metadata": {
  "deepnote": {},
  "deepnote_execution_queue": [],
  "deepnote_notebook_id": "7cd9b4a80b764b8db99ffcff730a1b4d",
  "kernelspec": {
   "display_name": "Python 3 (ipykernel)",
   "language": "python",
   "name": "python3"
  },
  "language_info": {
   "codemirror_mode": {
    "name": "ipython",
    "version": 3
   },
   "file_extension": ".py",
   "mimetype": "text/x-python",
   "name": "python",
   "nbconvert_exporter": "python",
   "pygments_lexer": "ipython3",
   "version": "3.10.11"
  }
 },
 "nbformat": 4,
 "nbformat_minor": 4
}
