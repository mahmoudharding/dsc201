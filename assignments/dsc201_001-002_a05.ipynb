{
 "cells": [
  {
   "cell_type": "markdown",
   "id": "44e81398-8ba7-453f-a0a8-d2b8a94eafff",
   "metadata": {},
   "source": [
    "# Assignment 05\n",
    "\n",
    "## Due: See Date in Moodle\n",
    "\n",
    "## This Week's Assignment\n",
    "\n",
    "In this week's assignment you'll be introdcued to Jupyter Notebooks, you'll learn how to:\n",
    "\n",
    "- create code cells and markdown cells\n",
    "\n",
    "- running code cells\n",
    "\n",
    "- differentiate between command mode and edit mode\n",
    "\n",
    "- display output from a code cell\n",
    "\n",
    "\n",
    "## Guidelines\n",
    "\n",
    "- Follow good programming practices by using descriptive variable names, maintaining appropriate spacing for readability, and adding comments to clarify your code.\n",
    "\n",
    "- Ensure written responses use correct spelling, complete sentences, and proper grammar.\n",
    "\n",
    "**Name:**\n",
    "\n",
    "**Section:**\n",
    "\n",
    "**Date:**\n",
    "\n",
    "Let's get started!"
   ]
  },
  {
   "cell_type": "markdown",
   "id": "f9dbb390-6aa0-454e-beda-6cdf4034437e",
   "metadata": {},
   "source": [
    "## What is a Jupyter Notebook?\n",
    "\n",
    "A Jupyter Notebook is an interactive coding environment that allows you to write and run code, display visualizations, and document your work with text, equations, and images, all in the same place. It's especially popular in data science because of its ability to combine code execution and explanation.\n",
    "\n",
    "### Edit Mode vs. Command Mode \n",
    "\n",
    "Jupyter Notebook has a modal user interface. This means that the keyboard does different things depending on which mode the Notebook is in. There are two modes: **\"Edit mode\"** and **\"Command mode\"**. \n",
    "\n",
    "Edit mode allows you to type and modify the content within a cell, similar to a text editor.\n",
    "\n",
    "Command mode lets you manage the notebook as a whole (e.g., adding, deleting, or moving cells), but it doesn't allow you to type directly into individual cells.\n",
    "\n",
    "### The Kernel\n",
    "\n",
    "The **kernel** is the program that runs the code inside your notebook and displays the results. In the top-right corner of your window, you'll see the name `(DSC201)` and a circle that indicates the status of your kernel. An empty circle (⚪) means the kernel is idle and ready to execute code, while a filled circle (⚫) means the kernel is busy running code.\n",
    "\n",
    "### Cells\n",
    "\n",
    "Jupyter Notebooks are made up of cells. As covered in lecture, there are two types of cells in a Jupyter Notebook: code cells and Markdown cells. \n",
    "\n",
    "- Code cells are where we write all of our Python code.\n",
    "\n",
    "- Markdown cells allow us to write text, like the text you're reading right now. In Homework 1, you'll get a chance to learn a bit of basic Markdown.\n",
    "\n",
    "### Code cells\n",
    "\n",
    "Running a code cell executes all the code within it, and any output will appear directly below the cell. Notice the brackets `[ ]:` on the left side of the cells.\n",
    "\n",
    "Before running the cell, this will be empty (`[ ]`). While the cell is running, you'll see `[*]`, indicating that the code is still processing. If the asterisk (`*`) remains for too long, it may mean the code is taking longer than expected, and you might need to interrupt the kernel (explained below). Once the cell has finished running, a number will appear inside the brackets, such as `[1]`, representing the order in which cells have been executed. The first cell you run will display a `1`, the second will display a `2`, and so on.\n",
    "\n",
    "If your kernel becomes unresponsive, your notebook slows down significantly, or the kernel disconnects, you can try the following steps:\n",
    "\n",
    "1. At the top of your screen, click **Kernel**, then **Interrupt Kernel**. Trying running your code again.\n",
    "\n",
    "1. If that doesn't help, click **Kernel**, then **Restart Kernel**. If you do this, you will have to run your code cells from the start of your notebook up until where you paused your work.\n",
    "\n",
    "After you run a cell, the brackets will be populated with a number, indicating how many times you've executed code cells in this session, including the current one.\n",
    "\n",
    "To run the code in a code cell, first click on that cell to activate it.  It'll be highlighted with a little green or blue rectangle.  Next, hold down the `shift` key and press `return` or `enter`. You could also click the \"Run cell\" button ( ▶| ) in the cell toolbar above.\n",
    "\n",
    "**Note:** After you make changes to the text cell don't forget to click the \"Run cell\" button at the top that looks like ▶| or hold down `shift` + `return` to view the changes.\n",
    "\n",
    "Try running the code cells below:"
   ]
  },
  {
   "cell_type": "code",
   "execution_count": null,
   "id": "31958caf-9509-4c0b-a08c-66fe6247a7ba",
   "metadata": {
    "tags": []
   },
   "outputs": [],
   "source": [
    "## This is a code cell\n",
    "## Adding two numbers\n",
    "3 + 2"
   ]
  },
  {
   "cell_type": "code",
   "execution_count": null,
   "id": "25fe0818-a5b3-4f25-ac9a-8670b800ce8b",
   "metadata": {
    "tags": []
   },
   "outputs": [],
   "source": [
    "## Squaring a number\n",
    "3 ** 2"
   ]
  },
  {
   "cell_type": "code",
   "execution_count": null,
   "id": "4c04cc71-6d12-401c-baa4-071b57a9e6cb",
   "metadata": {
    "tags": []
   },
   "outputs": [],
   "source": [
    "## Adding two numbers\n",
    "3 + 2\n",
    "\n",
    "## Squaring a number\n",
    "3 ** 2"
   ]
  },
  {
   "cell_type": "markdown",
   "id": "94749b1e-39b1-4db6-8182-1423c101b159",
   "metadata": {},
   "source": [
    "You should have seen the value `9` displayed. Notice that only the result of the last line is shown; the output of `3 + 2` (which is 5) wasn’t displayed. This differs from RStudio, where all expressions are shown by default.\n",
    "\n",
    "In code cells, comments are marked with a hashtag (`#`). Comments are useful for explaining what the code does or, in some cases, providing additional instructions or detailed information about the code's behavior."
   ]
  },
  {
   "cell_type": "markdown",
   "id": "7d042af2-13e7-48b4-9b26-36648af0cb73",
   "metadata": {},
   "source": [
    "#### Errors\n",
    "\n",
    "Whenever you write code, you'll make mistakes.  When you run a code cell that has errors, Python will sometimes produce error messages to tell you what you did wrong. Errors are okay; even experienced programmers make many errors.  When you make an error, you just have to find the source of the problem, fix it, and move on.\n",
    "\n",
    "There is an error in the next cell. \n",
    "\n",
    "Run it and see what happens."
   ]
  },
  {
   "cell_type": "code",
   "execution_count": null,
   "id": "59b535ff-e20a-4042-af67-e3c5be81b490",
   "metadata": {},
   "outputs": [],
   "source": [
    "print(\"This line is missing something.\""
   ]
  },
  {
   "cell_type": "markdown",
   "id": "12b8624c-535d-4df0-ba23-5bce32836211",
   "metadata": {},
   "source": [
    "The error message you're seeing:\n",
    "\n",
    "```python\n",
    "  File \"<ipython-input-1>\", line 1\n",
    "    print(\"This line is missing something.\"\n",
    "                                           ^\n",
    "SyntaxError: incomplete input\n",
    "```\n",
    "\n",
    "#### Explanation\n",
    "\n",
    "1. This part indicates where the error occurred:\n",
    "\n",
    "   - `Cell In[1]` refers to the first cell of your notebook.\n",
    "   \n",
    "   - `line 1` refers to the first line within that cell.\n",
    "\n",
    "1. The caret (`^`) is pointing to the end of the line, indicating the exact spot where Python expects additional input, in this case, a closing parenthesis `)`.\n",
    "\n",
    "1. A `SyntaxError` means there is something wrong with the structure of your code, and Python cannot understand or execute it as written. \n",
    "\n",
    "1. The message \"incomplete input\" is telling you that Python reached the end of the code (or the end of the line) but didn't find what it expected to complete the `print()` function call. Here, the missing piece is the closing parenthesis `)`.\n",
    "\n",
    "To fix the error, you simply need to add the closing parenthesis to complete the function call:\n",
    "\n",
    "```python\n",
    "print(\"This line is missing something.\")\n",
    "```\n",
    "\n",
    "**Question 1.** Complete the input that resolves the syntax issue."
   ]
  },
  {
   "cell_type": "code",
   "execution_count": null,
   "id": "fbd1fc91-6f77-4dc1-b7a3-9c7edcc18162",
   "metadata": {
    "tags": []
   },
   "outputs": [],
   "source": [
    "print(\"This line is missing something.\")"
   ]
  },
  {
   "cell_type": "markdown",
   "id": "9f9bc559-de03-4888-97b6-290231f89a20",
   "metadata": {},
   "source": [
    "### Markdown cells\n",
    "\n",
    "To edit an existing Markdown cell, simply double-click on it and make your changes. After editing, \"run\" the cell just like you would with a code cell to render the Markdown correctly.\n",
    "\n",
    "**Question 2.** Now, edit the following cell to include your two favorite colors."
   ]
  },
  {
   "cell_type": "markdown",
   "id": "a57d15b7-18d4-4b6a-a917-b41a0c5ec5ee",
   "metadata": {},
   "source": [
    "My two favorite colors are royal blue and gold."
   ]
  },
  {
   "cell_type": "markdown",
   "id": "fc97153d-0f92-4d7b-9633-316e76e5e5d6",
   "metadata": {},
   "source": [
    "**Question 3.** You can format mathematical equations and expressions using Markdown with LaTeX. In the text cell below, write the LaTeX code to represent the equation for the normal (Gaussian) distribution curve."
   ]
  },
  {
   "cell_type": "markdown",
   "id": "f2871bba-5d0f-41dc-b5f9-94f733c8dd99",
   "metadata": {},
   "source": [
    "_REPLACE THIS TEXT WITH YOUR EQUATION_"
   ]
  },
  {
   "cell_type": "markdown",
   "id": "af9e8b94-a96f-4bed-ab8a-f081916efdbf",
   "metadata": {},
   "source": [
    "**Question 4.** Create an ordered list of steps for conducting a simple data analysis process. Your list should include these four steps: Import the dataset, Clean the data, Perform exploratory data analysis, Build and evaluate models."
   ]
  },
  {
   "cell_type": "markdown",
   "id": "d8cd647a-9d4e-4949-9f09-74293cb218aa",
   "metadata": {},
   "source": [
    "_REPLACE THIS TEXT WITH YOUR ORDERED LIST_"
   ]
  },
  {
   "cell_type": "markdown",
   "id": "989953eb-b025-4ee9-9dd5-2216b1a46d71",
   "metadata": {},
   "source": [
    "**Question 5.** Create an unordered list of three tools commonly used for data analysis, with at least one tool being open source."
   ]
  },
  {
   "cell_type": "markdown",
   "id": "d2db7910-5f7a-4806-95a8-e44948487a4e",
   "metadata": {},
   "source": [
    "_REPLACE THIS TEXT WITH YOUR ORDERED LIST_"
   ]
  },
  {
   "cell_type": "markdown",
   "id": "34426e9b-c47b-4422-b593-c095d1ac5323",
   "metadata": {},
   "source": [
    "### Converting cells\n",
    "\n",
    "To convert a cell from code to Markdown (or vice versa), you should use the dropdown menu in the cell toolbar. For instance, to convert the following cell from Markdown to code, you should:\n",
    "\n",
    "1. Click the cell\n",
    "\n",
    "1. Click \"Markdown\" in the cell toolbar, and change it to \"Code\"\n",
    "\n",
    "**Question 6.** Change the following cell from a Markdown cell to a code cell, and run it."
   ]
  },
  {
   "cell_type": "markdown",
   "id": "93b73a6e-477d-40fc-a464-a57a649f9f94",
   "metadata": {
    "tags": []
   },
   "source": [
    "## Assign the value of pi (approximation)\n",
    "pi = 3.14\n",
    "\n",
    "## Assign the radius of the circle\n",
    "r = 10\n",
    "\n",
    "## Calculate the area of the circle using the formula: pi * r^2\n",
    "area = pi * r ** 2\n",
    "\n",
    "## Display the area\n",
    "area"
   ]
  },
  {
   "cell_type": "markdown",
   "id": "6b87b35c-b7ff-4da4-8a01-063e8063127a",
   "metadata": {
    "tags": []
   },
   "source": [
    "### Adding and Deleting Cells\n",
    "\n",
    "To add new cells, click the plus sign (`+`) in the toolbar at the top. To delete cells, you can either go to the \"Edit\" menu and select \"Delete Cells\" or click the trash can icon (🗑️) within the cell when it is in Edit mode.\n",
    "\n",
    "**Note:** Be very careful when deleting cells. If you accidentally delete one, you can undo it by:\n",
    "\n",
    "- Mac: Press Command + Z (while in Command Mode).\n",
    "\n",
    "- PC: Press Ctrl + Z (while in Command Mode).\n",
    "\n",
    "Alternatively, you can go to the \"Edit\" menu and select \"Undo Cell Operation\" on both platforms."
   ]
  },
  {
   "cell_type": "markdown",
   "id": "35ba4704-1412-452a-ad30-b5598ff4e563",
   "metadata": {},
   "source": [
    "**Question 7.** Add a new text cell below. In that cell, include your favorite quote along with the author's name."
   ]
  },
  {
   "cell_type": "markdown",
   "id": "b7b89758-f8b5-4851-af9a-24d6fb838bdd",
   "metadata": {},
   "source": [
    "**Question 8.** Insert a new code cell below. In that cell, use `print()` statements to display your favorite quote along with the author's name."
   ]
  },
  {
   "cell_type": "markdown",
   "id": "2869a0de-95f6-454b-847e-3998269aa1d2",
   "metadata": {},
   "source": [
    "**Question 9.** Python uses assignment statements similar to R, but in Python, the equal sign (`=`) is used for assignment. In the code cell below, create assignment statements for an integer, a decimal, and a string, using clear and appropriate variable names.\n",
    "\n",
    "**Note:** Replace the ellipses (`...`) with your code."
   ]
  },
  {
   "cell_type": "code",
   "execution_count": null,
   "id": "b04e0b41-d6f7-476b-9b30-587e1cb936ce",
   "metadata": {},
   "outputs": [],
   "source": [
    "..."
   ]
  },
  {
   "cell_type": "markdown",
   "id": "951d3605-1502-4917-ab69-0719b8a900a2",
   "metadata": {},
   "source": [
    "**Question 10.** In a Jupyter notebook, only the last object in a code cell is displayed by default. To display multiple objects, you'll neer to use `print()` statements. In the code cell below, use `print()` to display the values of the variables you created in the previous question.\n",
    "\n",
    "**Note:** Replace the ellipses (`...`) with your code."
   ]
  },
  {
   "cell_type": "code",
   "execution_count": null,
   "id": "284baebe-9e55-40ec-af3c-0587abbfdcc9",
   "metadata": {},
   "outputs": [],
   "source": [
    "..."
   ]
  },
  {
   "cell_type": "markdown",
   "id": "6fd12d9e-b414-4bb1-b5bd-da59c0251170",
   "metadata": {},
   "source": [
    "## Importing Python Modules\n",
    "\n",
    "In Python, modules are similar to packages in R. Both are collections of code that provide additional functionality. \n",
    "\n",
    "- In Python you import modules to access their functionality. For example, you might use the `math` module for mathematical functions or `numpy` for numerical computing.\n",
    "  \n",
    "- In R, you load packages using `library()` to access functions and datasets. For example, `ggplot2` is an R package for data visualization, and `dplyr` is used for data manipulation.\n",
    "\n",
    "Here’s how it works in Python:\n",
    "\n",
    "```python\n",
    "import numpy as np\n",
    "np.array([1, 2, 3])\n",
    "```\n",
    "while in R it worked like:\n",
    "\n",
    "```r\n",
    "library(dplyr)\n",
    "  ```\n",
    "\n",
    "#### Importing the `math` Module in Python\n",
    "\n",
    "To demonstrate how modules work in Python, let's import the `math` module and use it:"
   ]
  },
  {
   "cell_type": "code",
   "execution_count": null,
   "id": "4a3153f0-be53-4f1c-9168-91049126c51d",
   "metadata": {
    "tags": []
   },
   "outputs": [],
   "source": [
    "## Import the math module\n",
    "import math  \n",
    "\n",
    "## Now you can use functions from the math module\n",
    "## Using the sqrt (square root) function from the math module\n",
    "result = math.sqrt(25)  \n",
    "\n",
    "## This will print 5.0\n",
    "print(result)  "
   ]
  },
  {
   "cell_type": "markdown",
   "id": "7db06309-e552-460f-9dc3-0507009e17fc",
   "metadata": {},
   "source": [
    "In this example, `math.sqrt(25)` calls the `sqrt` function from the `math` module to calculate the square root of 25."
   ]
  },
  {
   "cell_type": "markdown",
   "id": "c92f9392-fe83-453f-a3b4-c8ad9ecf2326",
   "metadata": {},
   "source": [
    "#### Importing the `matplotlib.pyplot` Module in Python Using an Alias\n",
    "\n",
    "When you import a module using an alias, you're essentially giving it a shorthand name to make your code easier to write and read, especially for commonly used libraries. For example,\n",
    "\n",
    "```python\n",
    "import matplotlib.pyplot as plt\n",
    "```\n",
    "imports the `pyplot` module from `matplotlib` and assigns it the alias `plt`. Using an alias makes it more convenient to call functions from the module (e.g., `plt.plot()` instead of `matplotlib.pyplot.plot()`).\n",
    "Using an alias is helpful when the module's name is long or frequently used, making your code more concise and readable.\n",
    "\n",
    "`matplotlib.pyplot` is a module in the `Matplotlib` library that provides a simple interface for creating plots and visualizations in Python. It allows you to create various types of plots (such as line plots, bar charts, and histograms), easily customize them with titles, labels, and legends, and interactively display plots, making it especially useful in environments like Jupyter Notebooks.\n",
    "\n",
    "\n",
    "Run the cell below to load `matplotlib.pyplot`."
   ]
  },
  {
   "cell_type": "code",
   "execution_count": null,
   "id": "c8e5b88c-6152-45a5-957f-46778218c468",
   "metadata": {
    "tags": []
   },
   "outputs": [],
   "source": [
    "import matplotlib.pyplot as plt"
   ]
  },
  {
   "cell_type": "code",
   "execution_count": null,
   "id": "1159361c-0962-4102-a330-47b5091af5a4",
   "metadata": {
    "tags": []
   },
   "outputs": [],
   "source": [
    "## Define the data points for the x-axis and for the y-axis\n",
    "x = [1, 2, 3, 4]\n",
    "y = [10, 20, 25, 30]\n",
    "\n",
    "## Create a line plot using the x and y data\n",
    "plt.plot(x, y)\n",
    "\n",
    "## Label the x-axis and y-axis and set the title of the plot \n",
    "plt.xlabel(\"X-axis\")\n",
    "plt.ylabel(\"Y-axis\")\n",
    "plt.title(\"Simple Line Plot\")\n",
    "\n",
    "## Display the plot\n",
    "plt.show()"
   ]
  },
  {
   "cell_type": "markdown",
   "id": "62f0ec8c-6687-40a7-8ad6-58066177462c",
   "metadata": {},
   "source": [
    "In the example above `plt.plot()` is used to create a line plot, and `plt.show()` displays it."
   ]
  },
  {
   "cell_type": "markdown",
   "id": "f7f2fb35-e43c-4d11-9320-804fe1cb76d9",
   "metadata": {},
   "source": [
    "## Submission\n",
    "\n",
    "Make sure that all cells in your assignment have been executed to display all output, images, and graphs in the final document.\n",
    "\n",
    "**Note:** Save the assignment before proceeding to download the file.\n",
    "\n",
    "After downloading, locate the `.ipynb` file and upload **only** this file to Moodle. The assignment will be automatically submitted to Gradescope for grading."
   ]
  }
 ],
 "metadata": {
  "kernelspec": {
   "display_name": "Python 3 (ipykernel)",
   "language": "python",
   "name": "python3"
  },
  "language_info": {
   "codemirror_mode": {
    "name": "ipython",
    "version": 3
   },
   "file_extension": ".py",
   "mimetype": "text/x-python",
   "name": "python",
   "nbconvert_exporter": "python",
   "pygments_lexer": "ipython3",
   "version": "3.10.11"
  }
 },
 "nbformat": 4,
 "nbformat_minor": 5
}
