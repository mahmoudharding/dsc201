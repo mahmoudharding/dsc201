{
 "cells": [
  {
   "cell_type": "markdown",
   "id": "fee5b319-3be6-48c8-93f7-c438ca4d44e3",
   "metadata": {},
   "source": [
    "# Assignment 06\n",
    "\n",
    "## Due: See Date in Moodle\n",
    "\n",
    "In this assignment you will use intermediate and advanced features in `pandas`.\n",
    "\n",
    "To receive a **full credit** for this assignment, you must complete all exercises.\n",
    "\n",
    "## This Week's Assignment\n",
    "\n",
    "In this week's assignment, you will perform exploratory data analysis on a data set. This includes, but is not limited to the following:\n",
    "    \n",
    "- executing various data moves (see **[Data Moves](https://escholarship.org/uc/item/0mg8m7g6)**).\n",
    "\n",
    "- constructing visualizations\n",
    "\n",
    "- conveying your findings through written communication.\n",
    "\n",
    "### Notes\n",
    "\n",
    "- Adhere to good programming practices, utilizing descriptive variable names, appropriate spacing for readability, and adding comments to your code. \n",
    "\n",
    "- Ensure written responses maintain correct spelling, complete sentences, and proper grammar.\n",
    "\n",
    "**Name:**\n",
    "\n",
    "**Section:**\n",
    "\n",
    "**Date:**"
   ]
  },
  {
   "cell_type": "markdown",
   "id": "c278616d-77cf-4bea-ab67-7e2281b71857",
   "metadata": {},
   "source": [
    "Before we get started let's summarize the core data moves that we've being using this semester.\n",
    "\n",
    "- _Filtering_ is used for scoping and exploration. It is conceptually a prerequisite for grouping and sampling.\n",
    "\n",
    "- _Grouping_ is fundamental for comparing. \n",
    " \n",
    "- _Summarizing_ creates aggregate measures that describe a group.\n",
    "\n",
    "- A _hierarchical organization_ can be equivalent to grouping, and provides an alternative way of thinking about summarizing. \n",
    "\n",
    "- _Calculating_ a new attribute involves describing a new idea in terms of other attributes. \n",
    "\n",
    "- _Merging or joining_ datasets through a relation is a way to add cases or computed attributes from outside the original dataset. \n",
    "\n",
    "Other data moves may join this core set of six. For example:\n",
    "\n",
    "- Data moves facilitate creating new ways of displaying data (_visualization_).\n",
    "\n",
    "- _Sorting_ a dataset can give important insights into patterns in the data, and is an essential element in helping some visualizations communicate more effectively.\n",
    "\n",
    "- There are a number of ways to go about _cleaning_ a dataset so that it can be imported for analysis. This can include merging, calculating (especially _recoding_), and _stacking_.\n",
    "\n",
    "- _Sampling_ and related processes are important to simulation-based inference. _Sampling_ is related to filtering. A sampling distribution collects summary values from these samples, and can be facilitated by hierarchy.\n",
    "\n",
    "Erickson, T., Wilkerson, M., Finzer, W., & Reichsman, F. (2019). Data Moves. Technology Innovations in Statistics Education, 12(1). [http://dx.doi.org/10.5070/T5121038001](http://dx.doi.org/10.5070/T5121038001) Retrieved from [https://escholarship.org/uc/item/0mg8m7g6](https://escholarship.org/uc/item/0mg8m7g6)"
   ]
  },
  {
   "cell_type": "markdown",
   "id": "c4a9ae37-050d-49cb-9c70-7c1896fc5ee0",
   "metadata": {},
   "source": [
    "## Data Moves\n",
    "\n",
    "Now, we will explore six specific data moves in further detail, namely, **filtering**, **grouping**, **summarizing**, **calculating**, **merging/joining**, and **making hierarchy**. While not an exhaustive list, these seem useful to examine as a core set of data moves as we have consistently observed some of these six moves in our own work throughout the semester."
   ]
  },
  {
   "cell_type": "markdown",
   "id": "23fb22b6-5cf3-4162-afad-aa1bf49e2b4a",
   "metadata": {},
   "source": [
    "## United States Broadband Usage Percentages Dataset\n",
    "\n",
    "We are publishing [datasets we developed as part of our efforts with Microsoft’s Airband Initiative to help close the rural broadband gap](https://github.com/microsoft/USBroadbandUsagePercentages?tab=readme-ov-file). The data can be used for the purpose of analyzing, understanding, improving, or addressing problems related to broadband access.\n",
    "\n",
    "The datasets consist of data derived from anonymized data Microsoft collects as part of our ongoing work to improve the performance and security of our software and services. The data does not include any PII information including IP Address. We also suppress any location with less than 20 devices. Other than the aggregated data shared in this data table, no other data is stored during this process. We estimate broadband usage by combining data from multiple Microsoft services. The data from these services are combined with the number of households per county and zip code. Every time a device receives an update or connects to a Microsoft service, we can estimate the throughput speed of a machine. We know the size of the package sent to the computer, and we know the total time of the download. We also determine zip code level location data via reverse IP. Therefore, we can count the number of devices that have connected to the internet at broadband speed per each zip code based on the FCC’s definition of broadband that is 25mbps per download. Using this method, we estimate that ~120.4 million people in the United States are not using the internet at broadband speeds.\n",
    "\n",
    "**By:** John Kahan - Vice President, Chief Data Analytics Officer | Juan Lavista Ferres - Chief Scientist, Microsoft AI for Good Research Lab\n",
    "\n",
    "**For more information about this repository go to:** \n",
    "\n",
    "- https://github.com/microsoft/USBroadbandUsagePercentages?tab=readme-ov-file\n",
    "\n",
    "**Additional Information:**\n",
    "\n",
    "- [Understanding the Relationship Between ZIPs and Cities/Counties](https://www.unitedstateszipcodes.org/zip-code-database/matching-to-cities-and-counties/#:~:text=The%20boundaries%20of%20a%20ZIP,are%20used%20in%20common%20conversation.)"
   ]
  },
  {
   "cell_type": "code",
   "execution_count": 1,
   "id": "0bfcc924-90a3-474e-b093-6d229f479b6a",
   "metadata": {
    "tags": []
   },
   "outputs": [],
   "source": [
    "import pandas as pd\n",
    "import numpy as np\n",
    "\n",
    "import matplotlib.pyplot as plt\n",
    "plt.rcParams['figure.figsize'] = [10, 8] \n",
    "plt.rcParams['figure.dpi'] = 100"
   ]
  },
  {
   "cell_type": "markdown",
   "id": "45294a22-113b-4d18-885d-edded93a9656",
   "metadata": {},
   "source": [
    "### Initial Exploratory Data Analysis"
   ]
  },
  {
   "cell_type": "code",
   "execution_count": 2,
   "id": "e754b8de-d25b-4772-a4c0-36bd7c260992",
   "metadata": {
    "tags": []
   },
   "outputs": [
    {
     "data": {
      "text/html": [
       "<div>\n",
       "<style scoped>\n",
       "    .dataframe tbody tr th:only-of-type {\n",
       "        vertical-align: middle;\n",
       "    }\n",
       "\n",
       "    .dataframe tbody tr th {\n",
       "        vertical-align: top;\n",
       "    }\n",
       "\n",
       "    .dataframe thead th {\n",
       "        text-align: right;\n",
       "    }\n",
       "</style>\n",
       "<table border=\"1\" class=\"dataframe\">\n",
       "  <thead>\n",
       "    <tr style=\"text-align: right;\">\n",
       "      <th></th>\n",
       "      <th>ST</th>\n",
       "      <th>COUNTY NAME</th>\n",
       "      <th>COUNTY ID</th>\n",
       "      <th>POSTAL CODE</th>\n",
       "      <th>BROADBAND USAGE</th>\n",
       "      <th>ERROR RANGE (MAE)(+/-)</th>\n",
       "      <th>ERROR RANGE (95%)(+/-)</th>\n",
       "      <th>MSD</th>\n",
       "    </tr>\n",
       "  </thead>\n",
       "  <tbody>\n",
       "    <tr>\n",
       "      <th>0</th>\n",
       "      <td>SC</td>\n",
       "      <td>Abbeville</td>\n",
       "      <td>45001</td>\n",
       "      <td>29639</td>\n",
       "      <td>0.948</td>\n",
       "      <td>0.034</td>\n",
       "      <td>0.110</td>\n",
       "      <td>0.002</td>\n",
       "    </tr>\n",
       "    <tr>\n",
       "      <th>1</th>\n",
       "      <td>SC</td>\n",
       "      <td>Abbeville</td>\n",
       "      <td>45001</td>\n",
       "      <td>29620</td>\n",
       "      <td>0.398</td>\n",
       "      <td>0.002</td>\n",
       "      <td>0.007</td>\n",
       "      <td>0.000</td>\n",
       "    </tr>\n",
       "    <tr>\n",
       "      <th>2</th>\n",
       "      <td>SC</td>\n",
       "      <td>Abbeville</td>\n",
       "      <td>45001</td>\n",
       "      <td>29659</td>\n",
       "      <td>0.206</td>\n",
       "      <td>0.152</td>\n",
       "      <td>0.608</td>\n",
       "      <td>0.043</td>\n",
       "    </tr>\n",
       "    <tr>\n",
       "      <th>3</th>\n",
       "      <td>SC</td>\n",
       "      <td>Abbeville</td>\n",
       "      <td>45001</td>\n",
       "      <td>29638</td>\n",
       "      <td>0.369</td>\n",
       "      <td>0.010</td>\n",
       "      <td>0.031</td>\n",
       "      <td>-0.001</td>\n",
       "    </tr>\n",
       "    <tr>\n",
       "      <th>4</th>\n",
       "      <td>SC</td>\n",
       "      <td>Abbeville</td>\n",
       "      <td>45001</td>\n",
       "      <td>29628</td>\n",
       "      <td>0.221</td>\n",
       "      <td>0.014</td>\n",
       "      <td>0.043</td>\n",
       "      <td>0.000</td>\n",
       "    </tr>\n",
       "  </tbody>\n",
       "</table>\n",
       "</div>"
      ],
      "text/plain": [
       "   ST COUNTY NAME  COUNTY ID  POSTAL CODE  BROADBAND USAGE  \\\n",
       "0  SC   Abbeville      45001        29639            0.948   \n",
       "1  SC   Abbeville      45001        29620            0.398   \n",
       "2  SC   Abbeville      45001        29659            0.206   \n",
       "3  SC   Abbeville      45001        29638            0.369   \n",
       "4  SC   Abbeville      45001        29628            0.221   \n",
       "\n",
       "   ERROR RANGE (MAE)(+/-)  ERROR RANGE (95%)(+/-)    MSD  \n",
       "0                   0.034                   0.110  0.002  \n",
       "1                   0.002                   0.007  0.000  \n",
       "2                   0.152                   0.608  0.043  \n",
       "3                   0.010                   0.031 -0.001  \n",
       "4                   0.014                   0.043  0.000  "
      ]
     },
     "execution_count": 2,
     "metadata": {},
     "output_type": "execute_result"
    }
   ],
   "source": [
    "# The + is being used for concatenation, and the \\ is being used for line continuation, \n",
    "# especially in the middle of a statement spread across multiple lines.\n",
    "\n",
    "# In Python code, a backslash at the end of a line is used to indicate that the \n",
    "# line of code continues on the next line. This can make your code more readable \n",
    "# by breaking long lines into smaller, more manageable pieces. \n",
    "\n",
    "url = 'https://raw.githubusercontent.com/microsoft/USBroadbandUsagePercentages' + \\\n",
    "      '/master/dataset/broadband_data_zipcode.csv'\n",
    "\n",
    "broadband = pd.read_csv(url)\n",
    "broadband.head(5)"
   ]
  },
  {
   "cell_type": "markdown",
   "id": "a85c293a-63c9-4954-b320-1ede7d930970",
   "metadata": {},
   "source": [
    "**Question 1.** To initiate the initial analysis of the `broadband` dataframe, execute three distinct `pandas` `DataFrame` nethods, excluding `.describe()`."
   ]
  },
  {
   "cell_type": "code",
   "execution_count": null,
   "id": "7b6030d4-3426-4a43-a81e-7840b1e57903",
   "metadata": {},
   "outputs": [],
   "source": []
  },
  {
   "cell_type": "code",
   "execution_count": null,
   "id": "5d230d6b-fc8c-471a-8ce8-dd8945d9bbc9",
   "metadata": {},
   "outputs": [],
   "source": []
  },
  {
   "cell_type": "code",
   "execution_count": null,
   "id": "07013337-2387-481d-bb4c-63df4b1605ae",
   "metadata": {},
   "outputs": [],
   "source": []
  },
  {
   "cell_type": "markdown",
   "id": "8c63f070-fdcc-45fc-b103-d5b12b6ab7e2",
   "metadata": {},
   "source": [
    "### Filtering\n",
    "\n",
    "- **Filtering** is used for scoping and exploration. It is conceptually a prerequisite for grouping and sampling."
   ]
  },
  {
   "cell_type": "markdown",
   "id": "5e0134bc-8669-4834-a558-da000f183d5d",
   "metadata": {
    "tags": []
   },
   "source": [
    "**Question 2.** Filter the dataset to include only records pertaining to the state of your choice. Save the filtered data to a new dataframe, naming it with the corresponding two-letter abbreviation of the state."
   ]
  },
  {
   "cell_type": "markdown",
   "id": "a22079b4-f575-4a3e-9d18-207510855054",
   "metadata": {},
   "source": [
    "**a.** Use boolean indexing."
   ]
  },
  {
   "cell_type": "code",
   "execution_count": null,
   "id": "0fcff859-99b2-476c-a7d8-605195cd58e6",
   "metadata": {
    "tags": []
   },
   "outputs": [],
   "source": [
    "..."
   ]
  },
  {
   "cell_type": "code",
   "execution_count": null,
   "id": "67313365-73f3-4118-b1b4-0331f2df5801",
   "metadata": {
    "tags": []
   },
   "outputs": [],
   "source": [
    "..."
   ]
  },
  {
   "cell_type": "markdown",
   "id": "fe70f4d3-5fef-458e-8f68-133c80a7b7e6",
   "metadata": {},
   "source": [
    "**b.** Use the `.query` dataframe method."
   ]
  },
  {
   "cell_type": "code",
   "execution_count": null,
   "id": "b7067277-7140-4257-b8fa-dfb4a5dffd6b",
   "metadata": {
    "tags": []
   },
   "outputs": [],
   "source": [
    "..."
   ]
  },
  {
   "cell_type": "markdown",
   "id": "b8ad16b9-90ad-4565-b2a6-930559b4c921",
   "metadata": {},
   "source": [
    "**c.** Display the dimensions of the dataframe."
   ]
  },
  {
   "cell_type": "code",
   "execution_count": null,
   "id": "2bb9d645-cc64-43ec-b510-47ae575fc961",
   "metadata": {
    "tags": []
   },
   "outputs": [],
   "source": [
    "..."
   ]
  },
  {
   "cell_type": "markdown",
   "id": "a1ed2cef-8f39-444b-aa96-ab6360f722b7",
   "metadata": {},
   "source": [
    "### Summarizing\n",
    "\n",
    "- **Summarizing** creates aggregate measures that describe a group."
   ]
  },
  {
   "cell_type": "markdown",
   "id": "a2138d3e-b8d8-44b4-8c85-6e81ef1fb9b3",
   "metadata": {},
   "source": [
    "**Question 3.** What is the average broadband usage in the state you chose?"
   ]
  },
  {
   "cell_type": "code",
   "execution_count": null,
   "id": "77256386-6e49-4617-8b14-581b333572ec",
   "metadata": {
    "tags": []
   },
   "outputs": [],
   "source": [
    "..."
   ]
  },
  {
   "cell_type": "markdown",
   "id": "7c8e424b-4c06-4136-8429-a4472ec51ab0",
   "metadata": {},
   "source": [
    "**Question 4.** Produce a visualization illustrating the distribution of broadband usage across the state you chose."
   ]
  },
  {
   "cell_type": "markdown",
   "id": "c47a3d99-e7b6-4e8b-8e14-393e4feb55a3",
   "metadata": {},
   "source": [
    "**a.** Using `matplotlib.pyplot`.\n",
    "\n",
    "**Note:** `matplotlib.pyplot` is a collection of command style functions. Each `pyplot` function makes some changes to a figure, such as creating a figure, creating a plotting area in a figure, plotting some lines in a plotting area, adding labels to the plot, etc.\n",
    "\n",
    "`matplotlib.pyplot` is commonly imported under the alias `plt` for convenience:\n",
    "\n",
    "```\n",
    "import matplotlib.pyplot as plt\n",
    "```\n",
    "Here are some common functions provided by matplotlib.pyplot:\n",
    "\n",
    "- `plt.scatter()`: Make a scatter plot.\n",
    "- `plt.bar()`: Make a bar plot.\n",
    "- `plt.hist()`: Plot a histogram.\n",
    "- `plt.xlabel()`: Set the label for the $x-$axis.\n",
    "- `plt.ylabel()`: Set the label for the $y-$axis.\n",
    "- `plt.title()`: Set a title for the Axes.\n",
    "- `plt.legend()`: Place a legend on the `Axes`.\n",
    "\n",
    "**Note:** An `Axes` in Matplotlib is the primary element used for plotting data.\n",
    "\n",
    "<img src=\"https://matplotlib.org/stable/_images/sphx_glr_anatomy_001.png\" width=\"500\" height=\"400\" />"
   ]
  },
  {
   "cell_type": "code",
   "execution_count": null,
   "id": "274b11e9-d3f4-4ed3-b669-24ebb076cd10",
   "metadata": {},
   "outputs": [],
   "source": [
    "..."
   ]
  },
  {
   "cell_type": "code",
   "execution_count": null,
   "id": "2bcefe06-ee6c-439a-afc5-4a650bdef77d",
   "metadata": {
    "tags": []
   },
   "outputs": [],
   "source": [
    "..."
   ]
  },
  {
   "cell_type": "markdown",
   "id": "0f24fe65-5af6-4c77-96a6-d4aa6635f8c3",
   "metadata": {},
   "source": [
    "**b.** Using the `.plot` `pandas` `DataFrame` method.\n",
    "\n",
    "**Note:** In `pandas`, you can use the `.plot()` method to create basic plots directly from `DataFrame` objects. This method is a wrapper around `matplotlib.pyplot.plot()`. Pandas provides a variety of visualization tools through its integration with `matplotlib`. \n",
    "\n",
    "Here are some common visualizations you can create using `pandas`:\n",
    "\n",
    "- `df.plot(kind='line')`: Make a line plot\n",
    "- `df.plot(kind='scatter', x='column1', y='column2')`: Make a scatter plot \n",
    "- `df.plot(kind='bar')` or `df.plot(kind='barh')` for horizontal bars: Make a bar plot \n",
    "- `df.plot(kind='hist')` or `df.plot.hist()`: Make a histogram \n",
    "- `df.boxplot()` or `df.plot.hist()`: Make a histogram "
   ]
  },
  {
   "cell_type": "code",
   "execution_count": null,
   "id": "70a2ff10-6e50-4df9-af2d-6f11835163dc",
   "metadata": {
    "tags": []
   },
   "outputs": [],
   "source": [
    "..."
   ]
  },
  {
   "cell_type": "code",
   "execution_count": null,
   "id": "e6eedb52",
   "metadata": {
    "tags": []
   },
   "outputs": [],
   "source": [
    "..."
   ]
  },
  {
   "cell_type": "markdown",
   "id": "1d396818-f25e-4415-a552-4c6d0ff2e549",
   "metadata": {},
   "source": [
    "### Calculating\n",
    "\n",
    "- **Calculating** a new attribute involves describing a new idea in terms of other attributes."
   ]
  },
  {
   "cell_type": "markdown",
   "id": "08579529-d371-4c00-b8ca-6df9cdc8a81d",
   "metadata": {},
   "source": [
    "**Question 5.** Calculate the mean and median braodband usage in the state you chose."
   ]
  },
  {
   "cell_type": "code",
   "execution_count": null,
   "id": "03db2910-ff4f-4d4c-9645-ecefd0076e4e",
   "metadata": {
    "tags": []
   },
   "outputs": [],
   "source": [
    "state = ...\n",
    "mean_broadband = ...\n",
    "median_broadband = ...\n",
    "\n",
    "print(\"The mean broadband usage in\", state, \"is\", mean_broadband)\n",
    "print(\"The median broadband usage in\", state, \"is\", median_broadband)"
   ]
  },
  {
   "cell_type": "markdown",
   "id": "b8f85b79-05f4-4508-8790-3ffc5febfb3f",
   "metadata": {},
   "source": [
    "**Question 6.** Use the `np.where` function to create a new column named `USAGE`, which designates a county as `HIGH` if its braodband usage is equal to or below the mean, and as `LOW` when the braodband usage surpasses the mean.\n",
    "\n",
    "**Note:** The `np.where` function is from the `NumPy` package. It allows for conditional selection and can be used to create new array elements (which can be added to `pandas` `DataFrame` objects based on a condition. To learn more about the `np.where` function from ChatGPT click [**here**](https://docs.google.com/document/d/1ijGDB0yk4VPMUNv7mFIqq8kQtqm-Iy-ZwzpdnR_ehTw/edit?usp=sharing)."
   ]
  },
  {
   "cell_type": "code",
   "execution_count": null,
   "id": "6dfafc79-6f06-44d7-88e1-9b5f877ae9dc",
   "metadata": {
    "tags": []
   },
   "outputs": [],
   "source": [
    "..."
   ]
  },
  {
   "cell_type": "markdown",
   "id": "86844ab4-281b-4051-b78e-7f160603a3d1",
   "metadata": {},
   "source": [
    "**Question 7.** Produce a visualization illustrating the frequency of high and low broadband usage across the state you chose.\n",
    "\n",
    "**Note:** You can use either `matplotlib` or `pandas`.\n",
    "\n",
    "First let's construct a frequency table to tally the counts for each size category. What values do you anticipate for these counts?"
   ]
  },
  {
   "cell_type": "code",
   "execution_count": null,
   "id": "1e73e06e-7af9-4373-936a-87061065174e",
   "metadata": {
    "tags": []
   },
   "outputs": [],
   "source": [
    "..."
   ]
  },
  {
   "cell_type": "markdown",
   "id": "2c5e200a-a46c-49b9-9458-effeb730cb07",
   "metadata": {},
   "source": [
    "### Grouping\n",
    "\n",
    "- **Grouping** is fundamental for comparing. \n",
    "\n",
    "**Note:** The `.groupby` method in `pandas` is a tool for data aggregation, allowing you to split data into groups based on some criteria, apply a function to each group independently, and combine the results into a data structure. To learn more about the `.groupby` method from ChatGPT click [**here**](https://docs.google.com/document/d/1j5vDYqkDiIug7YJyDUF47ghToEWDK-Nu_W38580Uyb4/edit?usp=sharing)."
   ]
  },
  {
   "cell_type": "markdown",
   "id": "7cb69d6b-75c5-492c-bee4-2c71764f363b",
   "metadata": {},
   "source": [
    "**Question 8.** Use the `.groupby` method to group the state you chose by county name.\n",
    "\n",
    "**Note:** You can save the output to an object named `grps`."
   ]
  },
  {
   "cell_type": "code",
   "execution_count": null,
   "id": "02a863f7-0454-42c2-917e-bc70a643ba9e",
   "metadata": {
    "tags": []
   },
   "outputs": [],
   "source": [
    "grps = ..."
   ]
  },
  {
   "cell_type": "markdown",
   "id": "6a241519-708e-4620-bd25-1050fb1d6734",
   "metadata": {},
   "source": [
    "**a.** List the keys of your `grps` `GroupBuy` object."
   ]
  },
  {
   "cell_type": "code",
   "execution_count": null,
   "id": "26509f00-d781-4442-b5c1-a09017d8834e",
   "metadata": {
    "tags": []
   },
   "outputs": [],
   "source": [
    "..."
   ]
  },
  {
   "cell_type": "markdown",
   "id": "efe72aa3-8431-4b28-b123-a81a26207264",
   "metadata": {},
   "source": [
    "There are probably a lot of counties in the state you chose. Suppose we wanted to analyze differences between the largest and smallest counties (for the purpose of this analysis we will denote size using the number of zip codes in a county). \n",
    "\n",
    "We could get every group and use the `.shape` method to find the number of rows in each group. Or, we can use ChatGPT to help us. Enter _\"choose the largest dataframe group in a groupby object\"_ into ChatGPT. Then add this _\"give me the code with comments\"_ to the conversation (meaning enter more text into the prompt that follows).\n",
    "\n",
    "Use the response from ChatGPT to complete parts **b.**, **c.**, and **d.**."
   ]
  },
  {
   "cell_type": "markdown",
   "id": "27b83b39-c2fb-4137-ba02-71f7f9ba1ed7",
   "metadata": {},
   "source": [
    "**b.** Insert a markdown cell below this question, then enter the code that was provided by ChatGPT as text in the cell."
   ]
  },
  {
   "cell_type": "markdown",
   "id": "8f8b4e53-b85a-4703-9a9a-be400e4a1fc3",
   "metadata": {},
   "source": [
    "**c.** Choose the largest county from you your `grps` object. Save it to an object named `large_county` and display the first 3 rows."
   ]
  },
  {
   "cell_type": "code",
   "execution_count": null,
   "id": "469e34ea-6de0-48e8-938f-90e368943e5b",
   "metadata": {},
   "outputs": [],
   "source": [
    "..."
   ]
  },
  {
   "cell_type": "markdown",
   "id": "518e30e4-7270-4a1e-96fe-bb4ca08255c6",
   "metadata": {},
   "source": [
    "**d.** Choose the smallest county from you your `grps` object. Save it to an object named `small_county` and display the first 3 rows."
   ]
  },
  {
   "cell_type": "code",
   "execution_count": null,
   "id": "16bde8ba-76a9-4324-b42c-a52c24e7850b",
   "metadata": {
    "tags": []
   },
   "outputs": [],
   "source": [
    "..."
   ]
  },
  {
   "cell_type": "markdown",
   "id": "e8760a02-e878-405a-b47f-350a7eccc137",
   "metadata": {},
   "source": [
    "**Question 9.** Find the 5 number summary of broadband usage for both the `large_county`  and `small_county` dataframes.\n",
    "\n",
    "**Hint:** Look at the example from the `week-8-lecture-notebook`."
   ]
  },
  {
   "cell_type": "code",
   "execution_count": null,
   "id": "5a379c96-0caa-45b0-9921-2d84631b56c0",
   "metadata": {},
   "outputs": [],
   "source": [
    "..."
   ]
  },
  {
   "cell_type": "markdown",
   "id": "9c971a45-cf38-4685-a61a-4023f0ed6b67",
   "metadata": {},
   "source": [
    "**Question 10.** Now, conduct a brief analysis of the two counties mentioned earlier (from **Question 8**), focusing on key indicators such as population size, median income, median home price, unemployment rates, and other relevant metrics. In the markdown cell below, write a comparative (no more than 300 words) summary of these counties, highlighting similarities, differences, and noteworthy trends or figures.\n",
    "\n",
    "**Note:** You will need to research indicators such as population size, median income, median home price, unemployment rates, etc."
   ]
  },
  {
   "cell_type": "markdown",
   "id": "122f7b9c-3cdb-41c6-b339-977a08bc25c1",
   "metadata": {},
   "source": []
  },
  {
   "cell_type": "markdown",
   "id": "1cd58d29-fc3b-4ab1-b7c8-5c6ffc34eb93",
   "metadata": {},
   "source": [
    "**Question 11.** Select a county in North Carolina you're interested in examining further. Then use code to isolate this specific county and display the filtered results in the cell below."
   ]
  },
  {
   "cell_type": "code",
   "execution_count": null,
   "id": "692b1f3f-b89d-4462-ab73-af96a2324ca2",
   "metadata": {},
   "outputs": [],
   "source": [
    "..."
   ]
  },
  {
   "cell_type": "markdown",
   "id": "54c798d5-1f13-4240-8daa-4e03c51b109e",
   "metadata": {},
   "source": [
    "**Question 12.** Within a 300-word limit, please detail your reasons for choosing this county. Are there personal connections that draw you to this area? If you are neither a resident nor have lived there before, offer your thoughts or anticipations about the broadband internet landscape there. Discuss any personal experiences or your understanding of the internet service quality and availability in this locality."
   ]
  },
  {
   "cell_type": "markdown",
   "id": "902c17c0-af4b-4440-856c-4bc3d73f9c6b",
   "metadata": {},
   "source": []
  }
 ],
 "metadata": {
  "kernelspec": {
   "display_name": "Python 3 (ipykernel)",
   "language": "python",
   "name": "python3"
  },
  "language_info": {
   "codemirror_mode": {
    "name": "ipython",
    "version": 3
   },
   "file_extension": ".py",
   "mimetype": "text/x-python",
   "name": "python",
   "nbconvert_exporter": "python",
   "pygments_lexer": "ipython3",
   "version": "3.10.11"
  }
 },
 "nbformat": 4,
 "nbformat_minor": 5
}
