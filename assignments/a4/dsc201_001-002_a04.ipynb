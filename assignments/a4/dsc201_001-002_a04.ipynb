{
 "cells": [
  {
   "cell_type": "markdown",
   "id": "44e81398-8ba7-453f-a0a8-d2b8a94eafff",
   "metadata": {},
   "source": [
    "# Assignment 04\n",
    "\n",
    "## Due: See Date in Moodle\n",
    "\n",
    "## This Week's Assignment\n",
    "\n",
    "In this week's assignment you'll be introdcued to Jupyter Notebooks, you'll learn how to:\n",
    "\n",
    "- navigate the Jupyter Notebook interface\n",
    "\n",
    "- access vaules in a `pandas` dataframe\n",
    "\n",
    "## Guidelines\n",
    "\n",
    "- Follow good programming practices by using descriptive variable names, maintaining appropriate spacing for readability, and adding comments to clarify your code.\n",
    "\n",
    "- Ensure written responses use correct spelling, complete sentences, and proper grammar.\n",
    "\n",
    "**Name:**\n",
    "\n",
    "**Section:**\n",
    "\n",
    "**Date:**\n",
    "\n",
    "Let's get started!"
   ]
  },
  {
   "cell_type": "markdown",
   "id": "f9dbb390-6aa0-454e-beda-6cdf4034437e",
   "metadata": {},
   "source": [
    "## What is a Jupyter Notebook?\n",
    "\n",
    "A Jupyter Notebook is an interactive coding environment that allows you to write and run code, display visualizations, and document your work with text, equations, and images, all in the same place. It's especially popular in data science because of its ability to combine code execution and explanation.\n",
    "\n",
    "### Edit Mode vs. Command Mode \n",
    "\n",
    "Jupyter Notebook has a modal user interface. This means that the keyboard does different things depending on which mode the Notebook is in. There are two modes: **\"Edit mode\"** and **\"Command mode\"**. \n",
    "\n",
    "Edit mode allows you to type and modify the content within a cell, similar to a text editor.\n",
    "\n",
    "Command mode lets you manage the notebook as a whole (e.g., adding, deleting, or moving cells), but it doesn't allow you to type directly into individual cells.\n",
    "\n",
    "### The Kernel\n",
    "\n",
    "The **kernel** is the program that runs the code inside your notebook and displays the results. In the top-right corner of your window, you'll see the name `(DSC201)` and a circle that indicates the status of your kernel. An empty circle (⚪) means the kernel is idle and ready to execute code, while a filled circle (⚫) means the kernel is busy running code.\n",
    "\n",
    "### Cells\n",
    "\n",
    "Jupyter Notebooks are made up of cells. As covered in lecture, there are two types of cells in a Jupyter Notebook: code cells and Markdown cells. \n",
    "\n",
    "- Code cells are where we write all of our Python code.\n",
    "\n",
    "- Markdown cells allow us to write text, like the text you're reading right now. In Homework 1, you'll get a chance to learn a bit of basic Markdown.\n",
    "\n",
    "### Code cells\n",
    "\n",
    "Running a code cell executes all the code within it, and any output will appear directly below the cell. Notice the brackets `[ ]:` on the left side of the cells.\n",
    "\n",
    "Before running the cell, this will be empty (`[ ]`). While the cell is running, you'll see `[*]`, indicating that the code is still processing. If the asterisk (`*`) remains for too long, it may mean the code is taking longer than expected, and you might need to interrupt the kernel (explained below). Once the cell has finished running, a number will appear inside the brackets, such as `[1]`, representing the order in which cells have been executed. The first cell you run will display a `1`, the second will display a `2`, and so on.\n",
    "\n",
    "If your kernel becomes unresponsive, your notebook slows down significantly, or the kernel disconnects, you can try the following steps:\n",
    "\n",
    "1. At the top of your screen, click **Kernel**, then **Interrupt Kernel**. Trying running your code again.\n",
    "\n",
    "1. If that doesn't help, click **Kernel**, then **Restart Kernel**. If you do this, you will have to run your code cells from the start of your notebook up until where you paused your work.\n",
    "\n",
    "After you run a cell, the brackets will be populated with a number, indicating how many times you've executed code cells in this session, including the current one.\n",
    "\n",
    "To run the code in a code cell, first click on that cell to activate it.  It'll be highlighted with a little green or blue rectangle.  Next, hold down the `shift` key and press `return` or `enter`. You could also click the \"Run cell\" button ( ▶| ) in the cell toolbar above.\n",
    "\n",
    "**Note:** After you make changes to the text cell don't forget to click the \"Run cell\" button at the top that looks like ▶| or hold down `shift` + `return` to view the changes."
   ]
  },
  {
   "cell_type": "markdown",
   "id": "7d042af2-13e7-48b4-9b26-36648af0cb73",
   "metadata": {},
   "source": [
    "### Errors\n",
    "\n",
    "Whenever you write code, you'll make mistakes.  When you run a code cell that has errors, Python will sometimes produce error messages to tell you what you did wrong. Errors are okay; even experienced programmers make many errors.  When you make an error, you just have to find the source of the problem, fix it, and move on.\n",
    "\n",
    "There is an error in the next cell. \n",
    "\n",
    "Run it and see what happens."
   ]
  },
  {
   "cell_type": "code",
   "execution_count": null,
   "id": "59b535ff-e20a-4042-af67-e3c5be81b490",
   "metadata": {},
   "outputs": [],
   "source": [
    "print(\"This line is missing something.\""
   ]
  },
  {
   "cell_type": "markdown",
   "id": "12b8624c-535d-4df0-ba23-5bce32836211",
   "metadata": {},
   "source": [
    "The error message you're seeing:\n",
    "\n",
    "```python\n",
    "  File \"<ipython-input-1>\", line 1\n",
    "    print(\"This line is missing something.\"\n",
    "                                           ^\n",
    "SyntaxError: incomplete input\n",
    "```\n",
    "\n",
    "#### Explanation\n",
    "\n",
    "1. This part indicates where the error occurred:\n",
    "\n",
    "   - `Cell In[1]` refers to the first cell of your notebook.\n",
    "   \n",
    "   - `line 1` refers to the first line within that cell.\n",
    "\n",
    "1. The caret (`^`) is pointing to the end of the line, indicating the exact spot where Python expects additional input, in this case, a closing parenthesis `)`.\n",
    "\n",
    "1. A `SyntaxError` means there is something wrong with the structure of your code, and Python cannot understand or execute it as written. \n",
    "\n",
    "1. The message \"incomplete input\" is telling you that Python reached the end of the code (or the end of the line) but didn't find what it expected to complete the `print()` function call. Here, the missing piece is the closing parenthesis `)`.\n",
    "\n",
    "To fix the error, you simply need to add the closing parenthesis to complete the function call:\n",
    "\n",
    "```python\n",
    "print(\"This line is missing something.\")\n",
    "```\n",
    "\n",
    "**Question 1.** Complete the input that resolves the syntax issue."
   ]
  },
  {
   "cell_type": "code",
   "execution_count": null,
   "id": "fbd1fc91-6f77-4dc1-b7a3-9c7edcc18162",
   "metadata": {
    "tags": []
   },
   "outputs": [],
   "source": [
    "print(\"This line is missing something.\""
   ]
  },
  {
   "cell_type": "markdown",
   "id": "9f9bc559-de03-4888-97b6-290231f89a20",
   "metadata": {},
   "source": [
    "### Markdown cells\n",
    "\n",
    "To edit an existing Markdown cell, simply double-click on it and make your changes. After editing, \"run\" the cell just like you would with a code cell to render the Markdown correctly.\n",
    "\n",
    "**Question 2.** Create an ordered list of steps for conducting a simple data analysis process. Your list should include these four steps: Import the dataset, Clean the data, Perform exploratory data analysis, Communicate findings.\n",
    "\n",
    "**Hint:** Click [here](https://www.markdownguide.org/basic-syntax/#ordered-lists) to learn what an ordered list is and how to create one in Markdown."
   ]
  },
  {
   "cell_type": "markdown",
   "id": "a57d15b7-18d4-4b6a-a917-b41a0c5ec5ee",
   "metadata": {},
   "source": [
    "_TYPE YOUR ANSWER HERE REPLACING THIS TEXT_"
   ]
  },
  {
   "cell_type": "markdown",
   "id": "233c8280-cb66-4569-89d9-830d58ad992c",
   "metadata": {},
   "source": [
    "**Note:** Make sure to review your response to the previous question to ensure it is properly formatted."
   ]
  },
  {
   "cell_type": "markdown",
   "id": "fc97153d-0f92-4d7b-9633-316e76e5e5d6",
   "metadata": {},
   "source": [
    "**Question 3.** You can format mathematical equations and expressions using Markdown with LaTeX. In the text cell below, write the LaTeX code to represent the equation for the normal (Gaussian) distribution curve.\n",
    "\n",
    "**Hints:** \n",
    "\n",
    "- Click [here](https://assets.ctfassets.net/nrgyaltdicpt/4e825etqMUW8vTF8drfRbw/d4f3d9adcb2980b80818f788e36316b2/A_quick_guide_to_LaTeX__Overleaf_version.pdf) to learn how to properly format mathematical expressions in LaTex $\\left(\\LaTeX \\right)$.\n",
    "\n",
    "- Click [here](https://en.wikipedia.org/wiki/Normal_distribution) to view the equation for the normal (Gaussian) distribution curve."
   ]
  },
  {
   "cell_type": "markdown",
   "id": "d8cd647a-9d4e-4949-9f09-74293cb218aa",
   "metadata": {},
   "source": [
    "_TYPE YOUR ANSWER HERE REPLACING THIS TEXT_"
   ]
  },
  {
   "cell_type": "markdown",
   "id": "07382560-1de6-4e27-b2ae-5c9c15e0fb83",
   "metadata": {},
   "source": [
    "**Note:** Make sure to review your response to the previous question to ensure it is properly formatted."
   ]
  },
  {
   "cell_type": "markdown",
   "id": "6fd12d9e-b414-4bb1-b5bd-da59c0251170",
   "metadata": {},
   "source": [
    "## Importing Python Modules\n",
    "\n",
    "In Python, modules are similar to packages in R. Both are collections of code that provide additional functionality. \n",
    "\n",
    "- In Python you import modules to access their functionality. For example, you might use the `math` module for mathematical functions or `numpy` for numerical computing.\n",
    "  \n",
    "- In R, you load packages using `library()` to access functions and datasets. For example, `ggplot2` is an R package for data visualization, and `dplyr` is used for data manipulation.\n",
    "\n",
    "Here’s how it works in Python:\n",
    "\n",
    "```python\n",
    "import numpy as np\n",
    "np.array([1, 2, 3])\n",
    "```\n",
    "while in R it worked like:\n",
    "\n",
    "```r\n",
    "library(dplyr)\n",
    "  ```\n",
    "\n",
    "#### Importing the `math` Module in Python\n",
    "\n",
    "To demonstrate how modules work in Python, let's import the `math` module and use it:"
   ]
  },
  {
   "cell_type": "markdown",
   "id": "b7b89758-f8b5-4851-af9a-24d6fb838bdd",
   "metadata": {},
   "source": [
    "**Question 4.** Import the `math` module. Then use the square root function in the math module to find the square root of 25, save it to a variable, and finally print the value of the variable."
   ]
  },
  {
   "cell_type": "code",
   "execution_count": null,
   "id": "97080737-2bd0-442c-b9e9-d99fda536dd3",
   "metadata": {},
   "outputs": [],
   "source": [
    "..."
   ]
  },
  {
   "cell_type": "markdown",
   "id": "aa624703-b366-48b5-951e-bad4a47d34da",
   "metadata": {},
   "source": [
    "## `pandas`\n",
    "\n",
    "First, we need to import `pandas`. Then, we'll load the `babynames.csv` file into a `pandas` `DataFrame` named `baby_names` for use throughout this notebook."
   ]
  },
  {
   "cell_type": "code",
   "execution_count": null,
   "id": "b9d70511-f7c5-4a94-bcc6-99a57f772817",
   "metadata": {
    "tags": []
   },
   "outputs": [],
   "source": [
    "..."
   ]
  },
  {
   "cell_type": "code",
   "execution_count": null,
   "id": "4c8af9b7-6e0e-4215-8b77-8b65e829be64",
   "metadata": {
    "tags": []
   },
   "outputs": [],
   "source": [
    "baby_names = ..."
   ]
  },
  {
   "cell_type": "markdown",
   "id": "0f67547d-d960-4f1e-bff6-bd57a0bb1be9",
   "metadata": {
    "tags": []
   },
   "source": [
    "Now let's get a general overview of the data using the `.info()` method."
   ]
  },
  {
   "cell_type": "code",
   "execution_count": null,
   "id": "7c51832b-3b07-4f71-aa6f-54d9d4e2c48f",
   "metadata": {
    "tags": []
   },
   "outputs": [],
   "source": [
    "baby_names.info()"
   ]
  },
  {
   "cell_type": "markdown",
   "id": "78e5820b-e344-44f7-9da0-a1b38c389157",
   "metadata": {},
   "source": [
    "**Question 5.** Using the data sheet for the `babynames.csv` file and the output from the previous cell, write down three questions that you believe can be answered using this data.  \n",
    "\n",
    "Use an ordered list to format your questions. Each question should be clear and relevant to the dataset.  "
   ]
  },
  {
   "cell_type": "markdown",
   "id": "abe29e25-9d7f-4f54-97a8-ccb44fa642e2",
   "metadata": {},
   "source": [
    "_TYPE YOUR ANSWER HERE REPLACING THIS TEXT_"
   ]
  },
  {
   "cell_type": "markdown",
   "id": "1664d095-dd00-4db4-8302-42b78341fe35",
   "metadata": {
    "tags": []
   },
   "source": [
    "### Selecting Rows and Columns \n",
    "\n",
    "#### Column Selection Using `.loc`\n",
    "\n",
    "To select a column from a `pandas` `DataFrame` by its label, the safest and most efficient approach is to use the `.loc` method. The general syntax is\n",
    "\n",
    "```python\n",
    "df.loc[row_label, column_label]\n",
    "```\n",
    "where a colon (`:`) indicates selection of all rows or columns.\n",
    "\n",
    "For example, to select the `year` column from the `babynames` DataFrame, use:  \n",
    "\n",
    "```python\n",
    "baby_names.loc[:, 'year']\n",
    "```\n",
    "\n",
    "You can also slice across multiple columns. For instance,  \n",
    "```python\n",
    "baby_names.loc[:, 'name':]\n",
    "```\n",
    "selects the `Name` column and all columns that follow.\n",
    "\n",
    "While `.loc` is ideal for production code, it can be verbose in interactive use. A more concise option is the bracket notation:  \n",
    "  \n",
    "```python\n",
    "  baby_names['count']\n",
    "```\n",
    "\n",
    "#### Row Selection\n",
    "\n",
    "To select a row by its label, use `.loc` with the row index. Here, the row \"label\" refers to the `DataFrame`'s index (which often serves as a primary key).  \n",
    "\n",
    "**Example 1:** Select the first five values from the `name` column in the `baby_names` `DataFrame`.  \n",
    "\n",
    "**Note:** The range `0:4` starts at index `0` (the first row) and includes index `4` (the fifth row). This command returns a `pandas` `Series`."
   ]
  },
  {
   "cell_type": "code",
   "execution_count": null,
   "id": "3d87e62b-57af-47ae-9bfb-2c1c4491c9ce",
   "metadata": {
    "tags": []
   },
   "outputs": [],
   "source": [
    "baby_names.loc[0:4, 'name']"
   ]
  },
  {
   "cell_type": "markdown",
   "id": "1628cdc0-94b7-45bc-bcd4-1366baca8dd9",
   "metadata": {},
   "source": [
    "**Example 2.** Select the first five values from the `name` column in the `baby_names` `DataFrame`.  \n",
    "\n",
    "Notice the difference between this method and the method in **Example: 1.** Just passing in `name` returns a `Series` while `[name]` returns a `Dataframe`."
   ]
  },
  {
   "cell_type": "code",
   "execution_count": null,
   "id": "24786da4-06f2-4914-9202-417b1b4068db",
   "metadata": {
    "tags": []
   },
   "outputs": [],
   "source": [
    "baby_names.loc[0:4, ['name']]"
   ]
  },
  {
   "cell_type": "markdown",
   "id": "d82a18f3-e70d-4ae3-9d95-467822ea0ca6",
   "metadata": {},
   "source": [
    "**Note:** The `.loc` method selects rows based on the `pandas` row index, not the row's position in the `DataFrame`. Unlike standard python slicing, when using `.loc[0:4]`, the end index (`4`) is included so the selection includes the row with index `4`."
   ]
  },
  {
   "cell_type": "markdown",
   "id": "719fb640-eb18-412d-8fc2-aa9595e96511",
   "metadata": {},
   "source": [
    "#### Column Selection Using `.iloc`\n",
    "\n",
    "Another key feature in Pandas is `.iloc[]`, which allows you to slice a DataFrame based on row and column positions, rather than row index and column labels as with `.loc[]`. This is the primary difference between the two, and it’s important to understand when to use each one.  \n",
    "\n",
    "With `.iloc[]`, slicing follows standard Python behavior, meaning the end index is not included.  \n",
    "\n",
    "**Note:** To remember this distinction, think of the _**i**_ in `.iloc` as standing for _integer-based indexing_."
   ]
  },
  {
   "cell_type": "markdown",
   "id": "87a5715a-ce09-45ae-9a61-9dd391aa3d50",
   "metadata": {},
   "source": [
    "Below, we have sorted the `baby_names` `DataFrame` by the `name` column. Notice that a row's position in the DataFrame does not necessarily match its index (the bold values in the far-left column). For example, the first row in the sorted DataFrame may not correspond to index `1`.  \n",
    "\n",
    "Understanding this distinction is key to differentiating between `.loc[]` (which selects by index) and `.iloc[]` (which selects by position).  \n",
    "\n",
    "**Example 3.**"
   ]
  },
  {
   "cell_type": "code",
   "execution_count": null,
   "id": "1d68b87c-3095-4729-8630-8f82afdbf35e",
   "metadata": {
    "tags": []
   },
   "outputs": [],
   "source": [
    "sorted_baby_names = baby_names.sort_values(by = ['name'])\n",
    "sorted_baby_names.head()"
   ]
  },
  {
   "cell_type": "markdown",
   "id": "bb8e57ae-3d01-47e3-9076-5c9f890e160e",
   "metadata": {},
   "source": [
    "**Example 4.** Here’s an example of how to select the 2nd, 3rd, and 4th rows from the `name` column in the `baby_names` `DataFrame` using both `.iloc[]` and `.loc[]`. Pay close attention to the difference between the two, especially after sorting `baby_names` by name."
   ]
  },
  {
   "cell_type": "code",
   "execution_count": null,
   "id": "8f37e19e-b430-4649-8ab9-9c52e6f36ad9",
   "metadata": {
    "tags": []
   },
   "outputs": [],
   "source": [
    "sorted_baby_names.iloc[1:10, 1]"
   ]
  },
  {
   "cell_type": "markdown",
   "id": "8956d849-4bad-4d9b-8d27-b681bd219392",
   "metadata": {},
   "source": [
    "Notice that using `.loc[]` with `1:4` gives different results, since it selects using the index."
   ]
  },
  {
   "cell_type": "code",
   "execution_count": null,
   "id": "81904179-58c1-457a-a6ac-5ddb1057d8a7",
   "metadata": {
    "tags": []
   },
   "outputs": [],
   "source": [
    "sorted_baby_names.loc[1:10, 'name']"
   ]
  },
  {
   "cell_type": "markdown",
   "id": "2869a0de-95f6-454b-847e-3998269aa1d2",
   "metadata": {},
   "source": [
    "**Question 6.** List the unique years included in the dataset."
   ]
  },
  {
   "cell_type": "code",
   "execution_count": null,
   "id": "fda135c9-e843-40f8-8eeb-82e83de9c214",
   "metadata": {
    "tags": []
   },
   "outputs": [],
   "source": [
    "..."
   ]
  },
  {
   "cell_type": "markdown",
   "id": "951d3605-1502-4917-ab69-0719b8a900a2",
   "metadata": {},
   "source": [
    "**Question 7.** Selecting multiple columns is straightforward—simply provide a list of column names.\n",
    "\n",
    "Use both bracket notation and `.loc[]` to select the `name` and `year` columns (in that order) from the `babynames` `DataFrame`, then display only the first five rows. "
   ]
  },
  {
   "cell_type": "code",
   "execution_count": null,
   "id": "c639f6c9-f777-4152-a4c4-ff7b71701f8b",
   "metadata": {
    "tags": []
   },
   "outputs": [],
   "source": [
    "..."
   ]
  },
  {
   "cell_type": "code",
   "execution_count": null,
   "id": "67bf1ee3-0fed-4671-a9c4-8b7447cc19a7",
   "metadata": {
    "tags": []
   },
   "outputs": [],
   "source": [
    "..."
   ]
  },
  {
   "cell_type": "markdown",
   "id": "c539588b-ed64-412a-9f09-531ed6112008",
   "metadata": {},
   "source": [
    "## Filtering Data\n",
    "\n",
    "### Filtering with Boolean arrays\n",
    "\n",
    "Filtering is the process of refining data by removing unwanted or irrelevant information. When working with data, you will inevitably need to filter it—whether to remove missing values, eliminate unusual outliers, or focus on specific subgroups for analysis.  \n",
    "\n",
    "When using compound expressions, be sure to group conditions with parentheses to ensure proper evaluation.  \n",
    "\n",
    "**Example usage:**  \n",
    "\n",
    "```python\n",
    "df[df['column name'] < 5]]\n",
    "```\n",
    "\n",
    "where `df` is the name of the dataframe, `column name` is the name of the column, and `< 5` is the comparison statement. Meaning, any value in the column that is larger than 5 will be displayed.\n",
    "\n",
    "\n",
    "For your reference, some commonly used comparison operators are given below.\n",
    "\n",
    "Symbol   | Usage      | Meaning \n",
    "------   | ---------- | -------------------------------------\n",
    "`==`     | `a == b`     | Does a equal b?\n",
    "`<=`     | `a <= b`     | Is a less than or equal to b?\n",
    "`>=`     | `a >= b`     | Is a greater than or equal to b?\n",
    "`<`    | `a < b`      | Is a less than \n",
    "`>`    | `a > b`      | Is a greater than b?\n",
    "`~`        | `~p`         | Returns negation of p\n",
    "`\\|`   | `p \\| q` | `p OR q`\n",
    "`&`        | `p & q`      | `p AND q`"
   ]
  },
  {
   "cell_type": "markdown",
   "id": "01cc296e-23a5-4d79-8f83-fef766bf7a56",
   "metadata": {},
   "source": [
    "**Question 8.** Filter the `baby_names` DataFrame to create a new `DataFrame` that includes only the names registered in the year you were born.\n",
    "\n",
    "Then display the first 5 rows."
   ]
  },
  {
   "cell_type": "code",
   "execution_count": null,
   "id": "f02532f5-be8f-43e0-937a-019371db0d08",
   "metadata": {
    "tags": []
   },
   "outputs": [],
   "source": [
    "..."
   ]
  },
  {
   "cell_type": "markdown",
   "id": "828cec95-0348-43fd-8770-3001b9132e26",
   "metadata": {},
   "source": [
    "**Question 9.** How many births were registered in your birth year? What is the distribution of male and female births for that year?"
   ]
  },
  {
   "cell_type": "code",
   "execution_count": null,
   "id": "5c24d845-11dc-4eac-865b-d504feda7563",
   "metadata": {
    "tags": []
   },
   "outputs": [],
   "source": [
    "..."
   ]
  },
  {
   "cell_type": "code",
   "execution_count": null,
   "id": "0681dfd9-11b3-499b-9cc0-aebcafccc44f",
   "metadata": {
    "tags": []
   },
   "outputs": [],
   "source": [
    "..."
   ]
  },
  {
   "cell_type": "markdown",
   "id": "ff99f26d-efab-484c-8b8e-d7354961a344",
   "metadata": {},
   "source": [
    "**Question 10.** Write a summary of the output from **Question 8** and **Question 9** in a paragraph. Compare the birth data from your birth year with your instructor's birth year, highlighting any similarities or differences. Consider possible reasons for these differences, such as historical trends, cultural shifts, or population growth."
   ]
  },
  {
   "cell_type": "markdown",
   "id": "47ab34a9-5bc5-4557-a2da-5b7bf8211018",
   "metadata": {},
   "source": [
    "_TYPE YOUR ANSWER HERE REPLACING THIS TEXT_"
   ]
  },
  {
   "cell_type": "markdown",
   "id": "f7f2fb35-e43c-4d11-9320-804fe1cb76d9",
   "metadata": {},
   "source": [
    "## Submission\n",
    "\n",
    "Make sure that all cells in your assignment have been executed to display all output, images, and graphs in the final document.\n",
    "\n",
    "**Note:** Save the assignment before proceeding to download the file.\n",
    "\n",
    "After downloading, locate the `.ipynb` file and upload **only** this file to Moodle. The assignment will be automatically submitted to Gradescope for grading."
   ]
  }
 ],
 "metadata": {
  "kernelspec": {
   "display_name": "Python 3 (ipykernel)",
   "language": "python",
   "name": "python3"
  },
  "language_info": {
   "codemirror_mode": {
    "name": "ipython",
    "version": 3
   },
   "file_extension": ".py",
   "mimetype": "text/x-python",
   "name": "python",
   "nbconvert_exporter": "python",
   "pygments_lexer": "ipython3",
   "version": "3.10.11"
  }
 },
 "nbformat": 4,
 "nbformat_minor": 5
}
