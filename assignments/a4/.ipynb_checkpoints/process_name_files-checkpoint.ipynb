{
 "cells": [
  {
   "cell_type": "code",
   "execution_count": 4,
   "id": "3229fb3c-892f-4e23-93e7-59d2e27b57dd",
   "metadata": {
    "tags": []
   },
   "outputs": [
    {
     "name": "stdout",
     "output_type": "stream",
     "text": [
      "Combined and sorted CSV saved as data/babynames.csv\n"
     ]
    }
   ],
   "source": [
    "import os\n",
    "import pandas as pd\n",
    "\n",
    "extract_folder = \"data/names\"\n",
    "output_csv = \"data/babynames.csv\"\n",
    "\n",
    "txt_files = [f for f in os.listdir(extract_folder) if f.startswith(\"yob\") and f.endswith(\".txt\")]\n",
    "\n",
    "data = []\n",
    "\n",
    "for tf in txt_files:\n",
    "    file_path = os.path.join(extract_folder, tf)\n",
    "    year = int(tf[3:7])\n",
    "    \n",
    "    with open(file_path, 'r', encoding = 'utf-8') as file:\n",
    "        for line in file:\n",
    "            columns = line.strip().split(',')\n",
    "            data.append([year] + columns)\n",
    "\n",
    "df = pd.DataFrame(data, \n",
    "                  columns = [\"year\", \"name\", \"gender\", \"count\"]\n",
    "                 )\n",
    "\n",
    "df.to_csv(output_csv, index = False)\n",
    "\n",
    "print(f\"Combined and sorted CSV saved as {output_csv}\")"
   ]
  }
 ],
 "metadata": {
  "kernelspec": {
   "display_name": "Python 3 (ipykernel)",
   "language": "python",
   "name": "python3"
  },
  "language_info": {
   "codemirror_mode": {
    "name": "ipython",
    "version": 3
   },
   "file_extension": ".py",
   "mimetype": "text/x-python",
   "name": "python",
   "nbconvert_exporter": "python",
   "pygments_lexer": "ipython3",
   "version": "3.10.11"
  }
 },
 "nbformat": 4,
 "nbformat_minor": 5
}
