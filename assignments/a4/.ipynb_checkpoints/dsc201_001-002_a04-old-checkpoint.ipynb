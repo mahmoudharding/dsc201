{
 "cells": [
  {
   "cell_type": "markdown",
   "id": "44e81398-8ba7-453f-a0a8-d2b8a94eafff",
   "metadata": {},
   "source": [
    "# Assignment 04\n",
    "\n",
    "## Due: See Date in Moodle\n",
    "\n",
    "## This Week's Assignment\n",
    "\n",
    "In this week's assignment you'll be introdcued to Jupyter Notebooks, you'll learn how to:\n",
    "\n",
    "- navigate the Jupyter Notebook interface\n",
    "\n",
    "- access vaules in a `pandas` dataframe\n",
    "\n",
    "## Guidelines\n",
    "\n",
    "- Follow good programming practices by using descriptive variable names, maintaining appropriate spacing for readability, and adding comments to clarify your code.\n",
    "\n",
    "- Ensure written responses use correct spelling, complete sentences, and proper grammar.\n",
    "\n",
    "**Name:**\n",
    "\n",
    "**Section:**\n",
    "\n",
    "**Date:**\n",
    "\n",
    "Let's get started!"
   ]
  },
  {
   "cell_type": "markdown",
   "id": "f9dbb390-6aa0-454e-beda-6cdf4034437e",
   "metadata": {},
   "source": [
    "## What is a Jupyter Notebook?\n",
    "\n",
    "A Jupyter Notebook is an interactive coding environment that allows you to write and run code, display visualizations, and document your work with text, equations, and images, all in the same place. It's especially popular in data science because of its ability to combine code execution and explanation.\n",
    "\n",
    "### Edit Mode vs. Command Mode \n",
    "\n",
    "Jupyter Notebook has a modal user interface. This means that the keyboard does different things depending on which mode the Notebook is in. There are two modes: **\"Edit mode\"** and **\"Command mode\"**. \n",
    "\n",
    "Edit mode allows you to type and modify the content within a cell, similar to a text editor.\n",
    "\n",
    "Command mode lets you manage the notebook as a whole (e.g., adding, deleting, or moving cells), but it doesn't allow you to type directly into individual cells.\n",
    "\n",
    "### The Kernel\n",
    "\n",
    "The **kernel** is the program that runs the code inside your notebook and displays the results. In the top-right corner of your window, you'll see the name `(DSC201)` and a circle that indicates the status of your kernel. An empty circle (⚪) means the kernel is idle and ready to execute code, while a filled circle (⚫) means the kernel is busy running code.\n",
    "\n",
    "### Cells\n",
    "\n",
    "Jupyter Notebooks are made up of cells. As covered in lecture, there are two types of cells in a Jupyter Notebook: code cells and Markdown cells. \n",
    "\n",
    "- Code cells are where we write all of our Python code.\n",
    "\n",
    "- Markdown cells allow us to write text, like the text you're reading right now. In Homework 1, you'll get a chance to learn a bit of basic Markdown.\n",
    "\n",
    "### Code cells\n",
    "\n",
    "Running a code cell executes all the code within it, and any output will appear directly below the cell. Notice the brackets `[ ]:` on the left side of the cells.\n",
    "\n",
    "Before running the cell, this will be empty (`[ ]`). While the cell is running, you'll see `[*]`, indicating that the code is still processing. If the asterisk (`*`) remains for too long, it may mean the code is taking longer than expected, and you might need to interrupt the kernel (explained below). Once the cell has finished running, a number will appear inside the brackets, such as `[1]`, representing the order in which cells have been executed. The first cell you run will display a `1`, the second will display a `2`, and so on.\n",
    "\n",
    "If your kernel becomes unresponsive, your notebook slows down significantly, or the kernel disconnects, you can try the following steps:\n",
    "\n",
    "1. At the top of your screen, click **Kernel**, then **Interrupt Kernel**. Trying running your code again.\n",
    "\n",
    "1. If that doesn't help, click **Kernel**, then **Restart Kernel**. If you do this, you will have to run your code cells from the start of your notebook up until where you paused your work.\n",
    "\n",
    "After you run a cell, the brackets will be populated with a number, indicating how many times you've executed code cells in this session, including the current one.\n",
    "\n",
    "To run the code in a code cell, first click on that cell to activate it.  It'll be highlighted with a little green or blue rectangle.  Next, hold down the `shift` key and press `return` or `enter`. You could also click the \"Run cell\" button ( ▶| ) in the cell toolbar above.\n",
    "\n",
    "**Note:** After you make changes to the text cell don't forget to click the \"Run cell\" button at the top that looks like ▶| or hold down `shift` + `return` to view the changes."
   ]
  },
  {
   "cell_type": "markdown",
   "id": "7d042af2-13e7-48b4-9b26-36648af0cb73",
   "metadata": {},
   "source": [
    "### Errors\n",
    "\n",
    "Whenever you write code, you'll make mistakes.  When you run a code cell that has errors, Python will sometimes produce error messages to tell you what you did wrong. Errors are okay; even experienced programmers make many errors.  When you make an error, you just have to find the source of the problem, fix it, and move on.\n",
    "\n",
    "There is an error in the next cell. \n",
    "\n",
    "Run it and see what happens."
   ]
  },
  {
   "cell_type": "code",
   "execution_count": null,
   "id": "59b535ff-e20a-4042-af67-e3c5be81b490",
   "metadata": {},
   "outputs": [],
   "source": [
    "print(\"This line is missing something.\""
   ]
  },
  {
   "cell_type": "markdown",
   "id": "12b8624c-535d-4df0-ba23-5bce32836211",
   "metadata": {},
   "source": [
    "The error message you're seeing:\n",
    "\n",
    "```python\n",
    "  File \"<ipython-input-1>\", line 1\n",
    "    print(\"This line is missing something.\"\n",
    "                                           ^\n",
    "SyntaxError: incomplete input\n",
    "```\n",
    "\n",
    "#### Explanation\n",
    "\n",
    "1. This part indicates where the error occurred:\n",
    "\n",
    "   - `Cell In[1]` refers to the first cell of your notebook.\n",
    "   \n",
    "   - `line 1` refers to the first line within that cell.\n",
    "\n",
    "1. The caret (`^`) is pointing to the end of the line, indicating the exact spot where Python expects additional input, in this case, a closing parenthesis `)`.\n",
    "\n",
    "1. A `SyntaxError` means there is something wrong with the structure of your code, and Python cannot understand or execute it as written. \n",
    "\n",
    "1. The message \"incomplete input\" is telling you that Python reached the end of the code (or the end of the line) but didn't find what it expected to complete the `print()` function call. Here, the missing piece is the closing parenthesis `)`.\n",
    "\n",
    "To fix the error, you simply need to add the closing parenthesis to complete the function call:\n",
    "\n",
    "```python\n",
    "print(\"This line is missing something.\")\n",
    "```\n",
    "\n",
    "**Question 1.** Complete the input that resolves the syntax issue."
   ]
  },
  {
   "cell_type": "code",
   "execution_count": null,
   "id": "fbd1fc91-6f77-4dc1-b7a3-9c7edcc18162",
   "metadata": {
    "tags": []
   },
   "outputs": [],
   "source": [
    "print(\"This line is missing something.\""
   ]
  },
  {
   "cell_type": "markdown",
   "id": "9f9bc559-de03-4888-97b6-290231f89a20",
   "metadata": {},
   "source": [
    "### Markdown cells\n",
    "\n",
    "To edit an existing Markdown cell, simply double-click on it and make your changes. After editing, \"run\" the cell just like you would with a code cell to render the Markdown correctly.\n",
    "\n",
    "**Question 2.** Now, edit the following cell to include your two favorite colors."
   ]
  },
  {
   "cell_type": "markdown",
   "id": "a57d15b7-18d4-4b6a-a917-b41a0c5ec5ee",
   "metadata": {},
   "source": [
    "_TYPE YOUR ANSWER HERE REPLACING THIS TEXT_"
   ]
  },
  {
   "cell_type": "markdown",
   "id": "af9e8b94-a96f-4bed-ab8a-f081916efdbf",
   "metadata": {},
   "source": [
    "**Question 4.** Create an ordered list of steps for conducting a simple data analysis process. Your list should include these four steps: Import the dataset, Clean the data, Perform exploratory data analysis, Communicate findings.\n",
    "\n",
    "**Hint:** Click [here](https://www.markdownguide.org/basic-syntax/#ordered-lists) to learn what an ordered list is and how to create one in Markdown."
   ]
  },
  {
   "cell_type": "markdown",
   "id": "3679686d-c56d-409b-8a62-9faefa62a3dc",
   "metadata": {},
   "source": [
    "_TYPE YOUR ANSWER HERE REPLACING THIS TEXT_"
   ]
  },
  {
   "cell_type": "markdown",
   "id": "bffc978a-cb6f-4c71-a5ec-0e84207cf549",
   "metadata": {},
   "source": [
    "**Note:** Make sure to review your response to the previous question to ensure it is properly formatted."
   ]
  },
  {
   "cell_type": "markdown",
   "id": "6fd12d9e-b414-4bb1-b5bd-da59c0251170",
   "metadata": {},
   "source": [
    "## Importing Python Modules\n",
    "\n",
    "In Python, modules are similar to packages in R. Both are collections of code that provide additional functionality. \n",
    "\n",
    "- In Python you import modules to access their functionality. For example, you might use the `math` module for mathematical functions or `numpy` for numerical computing.\n",
    "  \n",
    "- In R, you load packages using `library()` to access functions and datasets. For example, `ggplot2` is an R package for data visualization, and `dplyr` is used for data manipulation.\n",
    "\n",
    "Here’s how it works in Python:\n",
    "\n",
    "```python\n",
    "import numpy as np\n",
    "np.array([1, 2, 3])\n",
    "```\n",
    "while in R it worked like:\n",
    "\n",
    "```r\n",
    "library(dplyr)\n",
    "  ```\n",
    "\n",
    "#### Importing the `math` Module in Python\n",
    "\n",
    "To demonstrate how modules work in Python, let's import the `math` module and use it:"
   ]
  },
  {
   "cell_type": "markdown",
   "id": "b7b89758-f8b5-4851-af9a-24d6fb838bdd",
   "metadata": {},
   "source": [
    "**Question 5.** Import the `math` module. Then use the square root function in the math module to find the square root of 25, save it to a variable, and finally print the value of the variable."
   ]
  },
  {
   "cell_type": "code",
   "execution_count": 1,
   "id": "97080737-2bd0-442c-b9e9-d99fda536dd3",
   "metadata": {},
   "outputs": [],
   "source": [
    "..."
   ]
  },
  {
   "cell_type": "markdown",
   "id": "aa624703-b366-48b5-951e-bad4a47d34da",
   "metadata": {},
   "source": [
    "## `pandas`\n",
    "\n",
    "First, we need to import `pandas`. Then, we'll load the `babynames.csv` file into a `pandas` `DataFrame` named `baby_names` for use throughout this notebook."
   ]
  },
  {
   "cell_type": "code",
   "execution_count": 41,
   "id": "b9d70511-f7c5-4a94-bcc6-99a57f772817",
   "metadata": {
    "tags": []
   },
   "outputs": [],
   "source": [
    "import pandas as pd"
   ]
  },
  {
   "cell_type": "code",
   "execution_count": 42,
   "id": "4c8af9b7-6e0e-4215-8b77-8b65e829be64",
   "metadata": {
    "tags": []
   },
   "outputs": [],
   "source": [
    "baby_names = pd.read_csv('data/babynames.csv')"
   ]
  },
  {
   "cell_type": "markdown",
   "id": "0f67547d-d960-4f1e-bff6-bd57a0bb1be9",
   "metadata": {
    "tags": []
   },
   "source": [
    "Now let's get a general overview of the data using the `.info()` method."
   ]
  },
  {
   "cell_type": "code",
   "execution_count": 35,
   "id": "7c51832b-3b07-4f71-aa6f-54d9d4e2c48f",
   "metadata": {
    "tags": []
   },
   "outputs": [
    {
     "name": "stdout",
     "output_type": "stream",
     "text": [
      "<class 'pandas.core.frame.DataFrame'>\n",
      "RangeIndex: 1048575 entries, 0 to 1048574\n",
      "Data columns (total 4 columns):\n",
      " #   Column  Non-Null Count    Dtype \n",
      "---  ------  --------------    ----- \n",
      " 0   year    1048575 non-null  int64 \n",
      " 1   name    1048575 non-null  object\n",
      " 2   gender  1048575 non-null  object\n",
      " 3   count   1048575 non-null  int64 \n",
      "dtypes: int64(2), object(2)\n",
      "memory usage: 32.0+ MB\n"
     ]
    }
   ],
   "source": [
    "baby_names.info()"
   ]
  },
  {
   "cell_type": "markdown",
   "id": "78e5820b-e344-44f7-9da0-a1b38c389157",
   "metadata": {},
   "source": [
    "**Question 6.** Using the data sheet for the `babynames.csv` file and the output from the previous cell, write down three questions that you believe can be answered using this data.  \n",
    "\n",
    "Use an ordered list to format your questions. Each question should be clear and relevant to the dataset.  "
   ]
  },
  {
   "cell_type": "code",
   "execution_count": null,
   "id": "abe29e25-9d7f-4f54-97a8-ccb44fa642e2",
   "metadata": {},
   "outputs": [],
   "source": [
    "_TYPE YOUR ANSWER HERE REPLACING THIS TEXT_"
   ]
  },
  {
   "cell_type": "markdown",
   "id": "1664d095-dd00-4db4-8302-42b78341fe35",
   "metadata": {
    "tags": []
   },
   "source": [
    "### Selecting Rows and Columns \n",
    "\n",
    "#### Column Selection Using `.loc`\n",
    "\n",
    "To select a column from a `pandas` `DataFrame` by its label, the safest and most efficient approach is to use the `.loc` method. The general syntax is\n",
    "\n",
    "```python\n",
    "df.loc[row_label, column_label]\n",
    "```\n",
    "where a colon (`:`) indicates selection of all rows or columns.\n",
    "\n",
    "For example, to select the `year` column from the `babynames` DataFrame, use:  \n",
    "\n",
    "```python\n",
    "baby_names.loc[:, 'year']\n",
    "```\n",
    "\n",
    "You can also slice across multiple columns. For instance,  \n",
    "```python\n",
    "baby_names.loc[:, 'name':]\n",
    "```\n",
    "selects the `Name` column and all columns that follow.\n",
    "\n",
    "While `.loc` is ideal for production code, it can be verbose in interactive use. A more concise option is the bracket notation:  \n",
    "  \n",
    "```python\n",
    "  baby_names['count']\n",
    "```\n",
    "\n",
    "#### Row Selection\n",
    "\n",
    "To select a row by its label, use `.loc` with the row index. Here, the row \"label\" refers to the `DataFrame`'s index (which often serves as a primary key).  \n",
    "\n",
    "**Example 1:** Select the first five values from the `name` column in the `baby_names` `DataFrame`.  \n",
    "\n",
    "**Note:** The range `0:4` starts at index `0` (the first row) and includes index `4` (the fifth row). This command returns a `pandas` `Series`."
   ]
  },
  {
   "cell_type": "code",
   "execution_count": 43,
   "id": "3d87e62b-57af-47ae-9bfb-2c1c4491c9ce",
   "metadata": {
    "tags": []
   },
   "outputs": [
    {
     "data": {
      "text/plain": [
       "0     Dudley\n",
       "1       Karl\n",
       "2       Hans\n",
       "3    Elliott\n",
       "4     Aubrey\n",
       "Name: name, dtype: object"
      ]
     },
     "execution_count": 43,
     "metadata": {},
     "output_type": "execute_result"
    }
   ],
   "source": [
    "baby_names.loc[0:4, 'name']"
   ]
  },
  {
   "cell_type": "markdown",
   "id": "1628cdc0-94b7-45bc-bcd4-1366baca8dd9",
   "metadata": {},
   "source": [
    "**Example 2.** Select the first five values from the `name` column in the `baby_names` `DataFrame`.  \n",
    "\n",
    "Notice the difference between this method and the method in **Example: 1.** Just passing in `name` returns a `Series` while `[name]` returns a `Dataframe`."
   ]
  },
  {
   "cell_type": "code",
   "execution_count": 44,
   "id": "24786da4-06f2-4914-9202-417b1b4068db",
   "metadata": {
    "tags": []
   },
   "outputs": [
    {
     "data": {
      "text/html": [
       "<div>\n",
       "<style scoped>\n",
       "    .dataframe tbody tr th:only-of-type {\n",
       "        vertical-align: middle;\n",
       "    }\n",
       "\n",
       "    .dataframe tbody tr th {\n",
       "        vertical-align: top;\n",
       "    }\n",
       "\n",
       "    .dataframe thead th {\n",
       "        text-align: right;\n",
       "    }\n",
       "</style>\n",
       "<table border=\"1\" class=\"dataframe\">\n",
       "  <thead>\n",
       "    <tr style=\"text-align: right;\">\n",
       "      <th></th>\n",
       "      <th>name</th>\n",
       "    </tr>\n",
       "  </thead>\n",
       "  <tbody>\n",
       "    <tr>\n",
       "      <th>0</th>\n",
       "      <td>Dudley</td>\n",
       "    </tr>\n",
       "    <tr>\n",
       "      <th>1</th>\n",
       "      <td>Karl</td>\n",
       "    </tr>\n",
       "    <tr>\n",
       "      <th>2</th>\n",
       "      <td>Hans</td>\n",
       "    </tr>\n",
       "    <tr>\n",
       "      <th>3</th>\n",
       "      <td>Elliott</td>\n",
       "    </tr>\n",
       "    <tr>\n",
       "      <th>4</th>\n",
       "      <td>Aubrey</td>\n",
       "    </tr>\n",
       "  </tbody>\n",
       "</table>\n",
       "</div>"
      ],
      "text/plain": [
       "      name\n",
       "0   Dudley\n",
       "1     Karl\n",
       "2     Hans\n",
       "3  Elliott\n",
       "4   Aubrey"
      ]
     },
     "execution_count": 44,
     "metadata": {},
     "output_type": "execute_result"
    }
   ],
   "source": [
    "baby_names.loc[0:4, ['name']]"
   ]
  },
  {
   "cell_type": "markdown",
   "id": "d82a18f3-e70d-4ae3-9d95-467822ea0ca6",
   "metadata": {},
   "source": [
    "**Note:** The `.loc` method selects rows based on the `pandas` row index, not the row's position in the `DataFrame`. Unlike standard python slicing, when using `.loc[0:4]`, the end index (`4`) is included so the selection includes the row with index `4`."
   ]
  },
  {
   "cell_type": "markdown",
   "id": "719fb640-eb18-412d-8fc2-aa9595e96511",
   "metadata": {},
   "source": [
    "#### Column Selection Using `.iloc`\n",
    "\n",
    "Another key feature in Pandas is `.iloc[]`, which allows you to slice a DataFrame based on row and column positions, rather than row index and column labels as with `.loc[]`. This is the primary difference between the two, and it’s important to understand when to use each one.  \n",
    "\n",
    "With `.iloc[]`, slicing follows standard Python behavior, meaning the end index is not included.  \n",
    "\n",
    "**Note:** To remember this distinction, think of the _**i**_ in `.iloc` as standing for _integer-based indexing_."
   ]
  },
  {
   "cell_type": "markdown",
   "id": "87a5715a-ce09-45ae-9a61-9dd391aa3d50",
   "metadata": {},
   "source": [
    "Below, we have sorted the `baby_names` `DataFrame` by the `name` column. Notice that a row's position in the DataFrame does not necessarily match its index (the bold values in the far-left column). For example, the first row in the sorted DataFrame may not correspond to index `1`.  \n",
    "\n",
    "Understanding this distinction is key to differentiating between `.loc[]` (which selects by index) and `.iloc[]` (which selects by position).  \n",
    "\n",
    "**Example 3.**"
   ]
  },
  {
   "cell_type": "code",
   "execution_count": 45,
   "id": "1d68b87c-3095-4729-8630-8f82afdbf35e",
   "metadata": {
    "tags": []
   },
   "outputs": [
    {
     "data": {
      "text/html": [
       "<div>\n",
       "<style scoped>\n",
       "    .dataframe tbody tr th:only-of-type {\n",
       "        vertical-align: middle;\n",
       "    }\n",
       "\n",
       "    .dataframe tbody tr th {\n",
       "        vertical-align: top;\n",
       "    }\n",
       "\n",
       "    .dataframe thead th {\n",
       "        text-align: right;\n",
       "    }\n",
       "</style>\n",
       "<table border=\"1\" class=\"dataframe\">\n",
       "  <thead>\n",
       "    <tr style=\"text-align: right;\">\n",
       "      <th></th>\n",
       "      <th>year</th>\n",
       "      <th>name</th>\n",
       "      <th>gender</th>\n",
       "      <th>count</th>\n",
       "    </tr>\n",
       "  </thead>\n",
       "  <tbody>\n",
       "    <tr>\n",
       "      <th>2067820</th>\n",
       "      <td>2022</td>\n",
       "      <td>Aaban</td>\n",
       "      <td>M</td>\n",
       "      <td>7</td>\n",
       "    </tr>\n",
       "    <tr>\n",
       "      <th>1709830</th>\n",
       "      <td>2011</td>\n",
       "      <td>Aaban</td>\n",
       "      <td>M</td>\n",
       "      <td>11</td>\n",
       "    </tr>\n",
       "    <tr>\n",
       "      <th>1809850</th>\n",
       "      <td>2014</td>\n",
       "      <td>Aaban</td>\n",
       "      <td>M</td>\n",
       "      <td>16</td>\n",
       "    </tr>\n",
       "    <tr>\n",
       "      <th>1674864</th>\n",
       "      <td>2010</td>\n",
       "      <td>Aaban</td>\n",
       "      <td>M</td>\n",
       "      <td>9</td>\n",
       "    </tr>\n",
       "    <tr>\n",
       "      <th>1559557</th>\n",
       "      <td>2007</td>\n",
       "      <td>Aaban</td>\n",
       "      <td>M</td>\n",
       "      <td>5</td>\n",
       "    </tr>\n",
       "  </tbody>\n",
       "</table>\n",
       "</div>"
      ],
      "text/plain": [
       "         year   name gender  count\n",
       "2067820  2022  Aaban      M      7\n",
       "1709830  2011  Aaban      M     11\n",
       "1809850  2014  Aaban      M     16\n",
       "1674864  2010  Aaban      M      9\n",
       "1559557  2007  Aaban      M      5"
      ]
     },
     "execution_count": 45,
     "metadata": {},
     "output_type": "execute_result"
    }
   ],
   "source": [
    "sorted_baby_names = baby_names.sort_values(by = ['name'])\n",
    "sorted_baby_names.head()"
   ]
  },
  {
   "cell_type": "markdown",
   "id": "bb8e57ae-3d01-47e3-9076-5c9f890e160e",
   "metadata": {},
   "source": [
    "**Example 4.** Here’s an example of how to select the 2nd, 3rd, and 4th rows from the `name` column in the `baby_names` `DataFrame` using both `.iloc[]` and `.loc[]`. Pay close attention to the difference between the two, especially after sorting `baby_names` by name."
   ]
  },
  {
   "cell_type": "code",
   "execution_count": 50,
   "id": "8f37e19e-b430-4649-8ab9-9c52e6f36ad9",
   "metadata": {
    "tags": []
   },
   "outputs": [
    {
     "data": {
      "text/plain": [
       "1709830    Aaban\n",
       "1809850    Aaban\n",
       "1674864    Aaban\n",
       "1559557    Aaban\n",
       "1934402    Aaban\n",
       "1830344    Aaban\n",
       "1908379    Aaban\n",
       "1633757    Aaban\n",
       "1878598    Aaban\n",
       "Name: name, dtype: object"
      ]
     },
     "execution_count": 50,
     "metadata": {},
     "output_type": "execute_result"
    }
   ],
   "source": [
    "sorted_baby_names.iloc[1:10, 1]"
   ]
  },
  {
   "cell_type": "markdown",
   "id": "8956d849-4bad-4d9b-8d27-b681bd219392",
   "metadata": {},
   "source": [
    "Notice that using `.loc[]` with `1:4` gives different results, since it selects using the index."
   ]
  },
  {
   "cell_type": "code",
   "execution_count": 49,
   "id": "81904179-58c1-457a-a6ac-5ddb1057d8a7",
   "metadata": {
    "tags": []
   },
   "outputs": [
    {
     "data": {
      "text/plain": [
       "1               Karl\n",
       "93777           Karl\n",
       "1938519         Karl\n",
       "490935          Karl\n",
       "1034246         Karl\n",
       "             ...    \n",
       "884897     Lafayette\n",
       "20210      Lafayette\n",
       "321555     Lafayette\n",
       "1043375    Lafayette\n",
       "10         Lafayette\n",
       "Name: name, Length: 115469, dtype: object"
      ]
     },
     "execution_count": 49,
     "metadata": {},
     "output_type": "execute_result"
    }
   ],
   "source": [
    "sorted_baby_names.loc[1:10, 'name']"
   ]
  },
  {
   "cell_type": "markdown",
   "id": "2869a0de-95f6-454b-847e-3998269aa1d2",
   "metadata": {},
   "source": [
    "**Question 7.** List the unique years included in the dataset."
   ]
  },
  {
   "cell_type": "code",
   "execution_count": 53,
   "id": "fda135c9-e843-40f8-8eeb-82e83de9c214",
   "metadata": {
    "tags": []
   },
   "outputs": [
    {
     "data": {
      "text/plain": [
       "array([1880, 1881, 1882, 1883, 1884, 1885, 1886, 1887, 1888, 1889, 1890,\n",
       "       1891, 1892, 1893, 1894, 1895, 1896, 1897, 1898, 1899, 1900, 1901,\n",
       "       1902, 1903, 1904, 1905, 1906, 1907, 1908, 1909, 1910, 1911, 1912,\n",
       "       1913, 1914, 1915, 1916, 1917, 1918, 1919, 1920, 1921, 1922, 1923,\n",
       "       1924, 1925, 1926, 1927, 1928, 1929, 1930, 1931, 1932, 1933, 1934,\n",
       "       1935, 1936, 1937, 1938, 1939, 1940, 1941, 1942, 1943, 1944, 1945,\n",
       "       1946, 1947, 1948, 1949, 1950, 1951, 1952, 1953, 1954, 1955, 1956,\n",
       "       1957, 1958, 1959, 1960, 1961, 1962, 1963, 1964, 1965, 1966, 1967,\n",
       "       1968, 1969, 1970, 1971, 1972, 1973, 1974, 1975, 1976, 1977, 1978,\n",
       "       1979, 1980, 1981, 1982, 1983, 1984, 1985, 1986, 1987, 1988, 1989,\n",
       "       1990, 1991, 1992, 1993, 1994, 1995, 1996, 1997, 1998, 1999, 2000,\n",
       "       2001, 2002, 2003, 2004, 2005, 2006, 2007, 2008, 2009, 2010, 2011,\n",
       "       2012, 2013, 2014, 2015, 2016, 2017, 2018, 2019, 2020, 2021, 2022,\n",
       "       2023])"
      ]
     },
     "execution_count": 53,
     "metadata": {},
     "output_type": "execute_result"
    }
   ],
   "source": [
    "baby_names['year'].unique()"
   ]
  },
  {
   "cell_type": "markdown",
   "id": "951d3605-1502-4917-ab69-0719b8a900a2",
   "metadata": {},
   "source": [
    "**Question 8.** Selecting multiple columns is straightforward—simply provide a list of column names.\n",
    "\n",
    "Use both bracket notation and `.loc[]` to select the `name` and `year` columns (in that order) from the `babynames` `DataFrame`, then display only the first five rows. "
   ]
  },
  {
   "cell_type": "code",
   "execution_count": 60,
   "id": "c639f6c9-f777-4152-a4c4-ff7b71701f8b",
   "metadata": {
    "tags": []
   },
   "outputs": [
    {
     "data": {
      "text/html": [
       "<div>\n",
       "<style scoped>\n",
       "    .dataframe tbody tr th:only-of-type {\n",
       "        vertical-align: middle;\n",
       "    }\n",
       "\n",
       "    .dataframe tbody tr th {\n",
       "        vertical-align: top;\n",
       "    }\n",
       "\n",
       "    .dataframe thead th {\n",
       "        text-align: right;\n",
       "    }\n",
       "</style>\n",
       "<table border=\"1\" class=\"dataframe\">\n",
       "  <thead>\n",
       "    <tr style=\"text-align: right;\">\n",
       "      <th></th>\n",
       "      <th>name</th>\n",
       "      <th>year</th>\n",
       "    </tr>\n",
       "  </thead>\n",
       "  <tbody>\n",
       "    <tr>\n",
       "      <th>0</th>\n",
       "      <td>Dudley</td>\n",
       "      <td>1880</td>\n",
       "    </tr>\n",
       "    <tr>\n",
       "      <th>1</th>\n",
       "      <td>Karl</td>\n",
       "      <td>1880</td>\n",
       "    </tr>\n",
       "    <tr>\n",
       "      <th>2</th>\n",
       "      <td>Hans</td>\n",
       "      <td>1880</td>\n",
       "    </tr>\n",
       "    <tr>\n",
       "      <th>3</th>\n",
       "      <td>Elliott</td>\n",
       "      <td>1880</td>\n",
       "    </tr>\n",
       "    <tr>\n",
       "      <th>4</th>\n",
       "      <td>Aubrey</td>\n",
       "      <td>1880</td>\n",
       "    </tr>\n",
       "  </tbody>\n",
       "</table>\n",
       "</div>"
      ],
      "text/plain": [
       "      name  year\n",
       "0   Dudley  1880\n",
       "1     Karl  1880\n",
       "2     Hans  1880\n",
       "3  Elliott  1880\n",
       "4   Aubrey  1880"
      ]
     },
     "execution_count": 60,
     "metadata": {},
     "output_type": "execute_result"
    }
   ],
   "source": [
    "baby_names.loc[:, ['name', 'year']].head()"
   ]
  },
  {
   "cell_type": "code",
   "execution_count": 61,
   "id": "67bf1ee3-0fed-4671-a9c4-8b7447cc19a7",
   "metadata": {
    "tags": []
   },
   "outputs": [
    {
     "data": {
      "text/html": [
       "<div>\n",
       "<style scoped>\n",
       "    .dataframe tbody tr th:only-of-type {\n",
       "        vertical-align: middle;\n",
       "    }\n",
       "\n",
       "    .dataframe tbody tr th {\n",
       "        vertical-align: top;\n",
       "    }\n",
       "\n",
       "    .dataframe thead th {\n",
       "        text-align: right;\n",
       "    }\n",
       "</style>\n",
       "<table border=\"1\" class=\"dataframe\">\n",
       "  <thead>\n",
       "    <tr style=\"text-align: right;\">\n",
       "      <th></th>\n",
       "      <th>name</th>\n",
       "      <th>year</th>\n",
       "    </tr>\n",
       "  </thead>\n",
       "  <tbody>\n",
       "    <tr>\n",
       "      <th>0</th>\n",
       "      <td>Dudley</td>\n",
       "      <td>1880</td>\n",
       "    </tr>\n",
       "    <tr>\n",
       "      <th>1</th>\n",
       "      <td>Karl</td>\n",
       "      <td>1880</td>\n",
       "    </tr>\n",
       "    <tr>\n",
       "      <th>2</th>\n",
       "      <td>Hans</td>\n",
       "      <td>1880</td>\n",
       "    </tr>\n",
       "    <tr>\n",
       "      <th>3</th>\n",
       "      <td>Elliott</td>\n",
       "      <td>1880</td>\n",
       "    </tr>\n",
       "    <tr>\n",
       "      <th>4</th>\n",
       "      <td>Aubrey</td>\n",
       "      <td>1880</td>\n",
       "    </tr>\n",
       "  </tbody>\n",
       "</table>\n",
       "</div>"
      ],
      "text/plain": [
       "      name  year\n",
       "0   Dudley  1880\n",
       "1     Karl  1880\n",
       "2     Hans  1880\n",
       "3  Elliott  1880\n",
       "4   Aubrey  1880"
      ]
     },
     "execution_count": 61,
     "metadata": {},
     "output_type": "execute_result"
    }
   ],
   "source": [
    "baby_names[['name', 'year']].head()"
   ]
  },
  {
   "cell_type": "markdown",
   "id": "c539588b-ed64-412a-9f09-531ed6112008",
   "metadata": {},
   "source": [
    "## Filtering Data\n",
    "\n",
    "### Filtering with Boolean arrays\n",
    "\n",
    "Filtering is the process of refining data by removing unwanted or irrelevant information. When working with data, you will inevitably need to filter it—whether to remove missing values, eliminate unusual outliers, or focus on specific subgroups for analysis.  \n",
    "\n",
    "When using compound expressions, be sure to group conditions with parentheses to ensure proper evaluation.  \n",
    "\n",
    "**Example usage:**  \n",
    "\n",
    "```python\n",
    "df[df['column name'] < 5]]\n",
    "```\n",
    "\n",
    "where `df` is the name of the dataframe, `column name` is the name of the column, and `< 5` is the comparison statement. Meaning, any value in the column that is larger than 5 will be displayed.\n",
    "\n",
    "\n",
    "For your reference, some commonly used comparison operators are given below.\n",
    "\n",
    "Symbol   | Usage      | Meaning \n",
    "------   | ---------- | -------------------------------------\n",
    "`==`     | `a == b`     | Does a equal b?\n",
    "`<=`     | `a <= b`     | Is a less than or equal to b?\n",
    "`>=`     | `a >= b`     | Is a greater than or equal to b?\n",
    "`<`    | `a < b`      | Is a less than \n",
    "`>`    | `a > b`      | Is a greater than b?\n",
    "`~`        | `~p`         | Returns negation of p\n",
    "`\\|`   | `p \\| q` | `p OR q`\n",
    "`&`        | `p & q`      | `p AND q`"
   ]
  },
  {
   "cell_type": "markdown",
   "id": "01cc296e-23a5-4d79-8f83-fef766bf7a56",
   "metadata": {},
   "source": [
    "**Question 9.** Filter the `baby_names` DataFrame to create a new `DataFrame` that includes only the names registered in the year you were born.\n",
    "\n",
    "Then display the first 5 rows."
   ]
  },
  {
   "cell_type": "code",
   "execution_count": 62,
   "id": "f02532f5-be8f-43e0-937a-019371db0d08",
   "metadata": {
    "tags": []
   },
   "outputs": [
    {
     "data": {
      "text/html": [
       "<div>\n",
       "<style scoped>\n",
       "    .dataframe tbody tr th:only-of-type {\n",
       "        vertical-align: middle;\n",
       "    }\n",
       "\n",
       "    .dataframe tbody tr th {\n",
       "        vertical-align: top;\n",
       "    }\n",
       "\n",
       "    .dataframe thead th {\n",
       "        text-align: right;\n",
       "    }\n",
       "</style>\n",
       "<table border=\"1\" class=\"dataframe\">\n",
       "  <thead>\n",
       "    <tr style=\"text-align: right;\">\n",
       "      <th></th>\n",
       "      <th>year</th>\n",
       "      <th>name</th>\n",
       "      <th>gender</th>\n",
       "      <th>count</th>\n",
       "    </tr>\n",
       "  </thead>\n",
       "  <tbody>\n",
       "    <tr>\n",
       "      <th>696760</th>\n",
       "      <td>1970</td>\n",
       "      <td>Eryka</td>\n",
       "      <td>F</td>\n",
       "      <td>6</td>\n",
       "    </tr>\n",
       "    <tr>\n",
       "      <th>696761</th>\n",
       "      <td>1970</td>\n",
       "      <td>Lonita</td>\n",
       "      <td>F</td>\n",
       "      <td>11</td>\n",
       "    </tr>\n",
       "    <tr>\n",
       "      <th>696762</th>\n",
       "      <td>1970</td>\n",
       "      <td>Loletha</td>\n",
       "      <td>F</td>\n",
       "      <td>11</td>\n",
       "    </tr>\n",
       "    <tr>\n",
       "      <th>696763</th>\n",
       "      <td>1970</td>\n",
       "      <td>Loey</td>\n",
       "      <td>F</td>\n",
       "      <td>11</td>\n",
       "    </tr>\n",
       "    <tr>\n",
       "      <th>696764</th>\n",
       "      <td>1970</td>\n",
       "      <td>Liticia</td>\n",
       "      <td>F</td>\n",
       "      <td>11</td>\n",
       "    </tr>\n",
       "  </tbody>\n",
       "</table>\n",
       "</div>"
      ],
      "text/plain": [
       "        year     name gender  count\n",
       "696760  1970    Eryka      F      6\n",
       "696761  1970   Lonita      F     11\n",
       "696762  1970  Loletha      F     11\n",
       "696763  1970     Loey      F     11\n",
       "696764  1970  Liticia      F     11"
      ]
     },
     "execution_count": 62,
     "metadata": {},
     "output_type": "execute_result"
    }
   ],
   "source": [
    "year_1970 = baby_names[baby_names['year'] == 1970]\n",
    "year_1970.head()"
   ]
  },
  {
   "cell_type": "markdown",
   "id": "828cec95-0348-43fd-8770-3001b9132e26",
   "metadata": {},
   "source": [
    "**Question 10.** How many births were registered in your birth year? What is the gender distribution for that year between male and female?"
   ]
  },
  {
   "cell_type": "code",
   "execution_count": 64,
   "id": "5c24d845-11dc-4eac-865b-d504feda7563",
   "metadata": {
    "tags": []
   },
   "outputs": [
    {
     "data": {
      "text/plain": [
       "3606502"
      ]
     },
     "execution_count": 64,
     "metadata": {},
     "output_type": "execute_result"
    }
   ],
   "source": [
    "year_1970['count'].sum()"
   ]
  },
  {
   "cell_type": "code",
   "execution_count": 65,
   "id": "d900bae9-c86b-4276-bb76-3c094ce406e6",
   "metadata": {
    "tags": []
   },
   "outputs": [
    {
     "data": {
      "text/plain": [
       "F    9354\n",
       "M    5430\n",
       "Name: gender, dtype: int64"
      ]
     },
     "execution_count": 65,
     "metadata": {},
     "output_type": "execute_result"
    }
   ],
   "source": [
    "year_1970['gender'].value_counts()"
   ]
  },
  {
   "cell_type": "markdown",
   "id": "f7f2fb35-e43c-4d11-9320-804fe1cb76d9",
   "metadata": {},
   "source": [
    "## Submission\n",
    "\n",
    "Make sure that all cells in your assignment have been executed to display all output, images, and graphs in the final document.\n",
    "\n",
    "**Note:** Save the assignment before proceeding to download the file.\n",
    "\n",
    "After downloading, locate the `.ipynb` file and upload **only** this file to Moodle. The assignment will be automatically submitted to Gradescope for grading."
   ]
  }
 ],
 "metadata": {
  "kernelspec": {
   "display_name": "Python 3 (ipykernel)",
   "language": "python",
   "name": "python3"
  },
  "language_info": {
   "codemirror_mode": {
    "name": "ipython",
    "version": 3
   },
   "file_extension": ".py",
   "mimetype": "text/x-python",
   "name": "python",
   "nbconvert_exporter": "python",
   "pygments_lexer": "ipython3",
   "version": "3.10.11"
  }
 },
 "nbformat": 4,
 "nbformat_minor": 5
}
