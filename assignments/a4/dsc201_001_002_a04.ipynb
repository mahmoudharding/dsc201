{
 "cells": [
  {
   "cell_type": "markdown",
   "id": "2ca798f0-e916-4585-8465-52d9e016ea0c",
   "metadata": {},
   "source": [
    "# Assignment 04\n",
    "\n",
    "## Due: See Date in Moodle\n",
    "\n",
    "In this assignment you will use intermediate and advanced features in R.\n",
    "\n",
    "To receive a **full credit** for this assignment, achieve a minimum of **45** points out of the **50** available. Any points earned beyond the mandatory **45** will count as extra credit. For a detailed breakdown of point distribution per question, click **[here](https://docs.google.com/document/d/1Gd0nJQXSAleZSVNmXnCoY4Cokwkt3dHfnzzggA_kCiI/edit?usp=sharing)**.\n",
    "\n",
    "**Note:** You are required to do **Question 28**.\n",
    "\n",
    "## This Week's Assignment\n",
    "\n",
    "In this week's assignment, you will perform exploratory data analysis on a data set. This includes, but is not limited to the following:\n",
    "    \n",
    "- executing various data moves (see **[Data Moves](https://escholarship.org/uc/item/0mg8m7g6)**).\n",
    "\n",
    "- constructing visualizations\n",
    "\n",
    "- conveying your findings through written communication.\n",
    "\n",
    "### Notes\n",
    "\n",
    "- Adhere to good programming practices, utilizing descriptive variable names, appropriate spacing for readability, and adding comments to your code. \n",
    "\n",
    "- Ensure written responses maintain correct spelling, complete sentences, and proper grammar.\n",
    "\n",
    "**Name:**\n",
    "\n",
    "**Section:**\n",
    "\n",
    "**Date:**\n",
    "\n",
    "Let's get started!\n"
   ]
  },
  {
   "cell_type": "markdown",
   "id": "7653ec93-3a51-4797-9fd6-5c3c9fe0373b",
   "metadata": {},
   "source": [
    "In this assignment you will use a dataset from The Collection of Really Great, Interesting, Situated Datasets Project (CORGIS) <img src=\"images/corgis.png\" width=\"35\"/> by Austin Cory Bart, Ryan Whitcomb, Jason Riddle, Omar Saleem, Dr. Eli Tilevich, Dr. Clifford A. Shaffer, Dr. Dennis Kafura.\n",
    "\n",
    "Accoriding to the site, *\"The* `skyscrapers.csv` *file contains collected statistics about the tallest buildings all over the world, including the materials used to develop them, the purpose of the buildings, and more.*\n",
    "\n",
    "The complete dataset, accompanied by an overview and variable descriptions, is available **[here](https://corgis-edu.github.io/corgis/csv/skyscrapers/)**. Review the **Key Descriptions** to familiarize yourself with the variable names, meanings, and types."
   ]
  },
  {
   "cell_type": "markdown",
   "id": "5eca332d-e602-4c91-a7dd-093f299c29af",
   "metadata": {},
   "source": [
    "## Basic EDA\n",
    "\n",
    "In this section you will get basic information about a dataset. This process involves obtaining key insights into the characteristics of the dataset without conducting in-depth analysis. \n",
    "\n",
    "Run the cell below to load the dataset and display the first 5 rows, along with the shape (rows and columns)."
   ]
  },
  {
   "cell_type": "code",
   "execution_count": null,
   "id": "79ca4e98-aed2-41b6-bceb-5d58cb76bbaf",
   "metadata": {
    "tags": []
   },
   "outputs": [],
   "source": [
    "skyscrapers <- read.csv('data/skyscrapers.csv')\n",
    "\n",
    "print(\"The first 5 rows\")\n",
    "head(skyscrapers, 5)\n",
    "cat(\"\\n\")\n",
    "print(\"The shape of the dataset (rows and columns)\")\n",
    "dim(skyscrapers)"
   ]
  },
  {
   "cell_type": "markdown",
   "id": "b7265d9b-9454-4b2c-aea2-e6d470112c99",
   "metadata": {},
   "source": [
    "**Question 1.** Use the `str` command to get an overview of the column names and data types."
   ]
  },
  {
   "cell_type": "code",
   "execution_count": null,
   "id": "290f94f1-e2b8-494b-9940-fb4c2ee9fc4e",
   "metadata": {
    "tags": []
   },
   "outputs": [],
   "source": [
    "# YOUR CODE GOES HERE REPLACING THIS COMMENT\n",
    "..."
   ]
  },
  {
   "cell_type": "markdown",
   "id": "74b710b6-12cc-42e8-96df-c61ccf329b99",
   "metadata": {},
   "source": [
    "**Question 2.** What observations can you make regarding the data types of the columns? Specifically, consider which data type is most prevalent, what the columns describe about the buildings, and the characteristics of the values represented in the column."
   ]
  },
  {
   "cell_type": "markdown",
   "id": "5219c630-8f2d-41c0-83ee-39b9b5cc5902",
   "metadata": {},
   "source": [
    "_Click here to enter your answer in this markdown cell, replacing this text._"
   ]
  },
  {
   "cell_type": "markdown",
   "id": "a01414de-93bd-454e-b98e-dbcc073f03e6",
   "metadata": {},
   "source": [
    "You should have noticed that the most prevalent data type is `logi` or logical (i.e., `TRUE`, `FALSE`). Let's examine the values in one of those logical columns."
   ]
  },
  {
   "cell_type": "markdown",
   "id": "aad0a664-8eb2-4afc-a531-a571c7b1c7ce",
   "metadata": {},
   "source": [
    "**Question 3.** Choose one of the logical columns and display the first 20 values using dollar sign (`$`) notation."
   ]
  },
  {
   "cell_type": "code",
   "execution_count": null,
   "id": "4d16016a-2d26-4231-a423-ddc76bc34176",
   "metadata": {
    "tags": []
   },
   "outputs": [],
   "source": [
    "# YOUR CODE GOES HERE REPLACING THIS COMMENT\n",
    "..."
   ]
  },
  {
   "cell_type": "markdown",
   "id": "5e1f3eb9-1020-4509-865e-1250e6216d33",
   "metadata": {},
   "source": [
    "**Question 4.** What did you notice about the output? Specifically, consider the description of the column and what the values in the column represent."
   ]
  },
  {
   "cell_type": "markdown",
   "id": "a2eb823f-0c5b-48dd-8969-070855cddf6e",
   "metadata": {},
   "source": [
    "_Click here to enter your answer in this markdown cell, replacing this text._"
   ]
  },
  {
   "cell_type": "markdown",
   "id": "87c102a4-7923-451c-aad7-5bbead8fb756",
   "metadata": {},
   "source": [
    "You should have noticed that every value in the column is `TRUE`. It's probably not the case that every building in the dataset is used every purpose listed. To see only the `logi` columns we can filter the output from the `str` command. To learn how to do this, click [here](https://docs.google.com/document/d/1ufj6hpEOERnWmCejmXfH6Pc8_36OyEBc1lQv6oYFLdI/edit?usp=sharing) to read the conversation I had with ChatGPT."
   ]
  },
  {
   "cell_type": "markdown",
   "id": "d4ac640d-8e43-4a61-ad03-2ab8731811d5",
   "metadata": {},
   "source": [
    "**Question 5.** Use the hints from the ChatGPT conversatioin to filter the output from the `str` command to only show the columns that are logical (i.e., `logi`)."
   ]
  },
  {
   "cell_type": "code",
   "execution_count": null,
   "id": "bba0e463-f1b6-4a87-a1c8-e81022e4fb37",
   "metadata": {
    "tags": []
   },
   "outputs": [],
   "source": [
    "# YOUR CODE GOES HERE REPLACING THIS COMMENT\n",
    "..."
   ]
  },
  {
   "cell_type": "markdown",
   "id": "727c0215-2c30-460c-ae18-579e41d2e265",
   "metadata": {},
   "source": [
    "This information will be useful for future data manipulation.\n",
    "\n",
    "Before we continue let's address a statement that was made in the overview - *\"Collected statistics about the tallest buildings all over the world ...\"*"
   ]
  },
  {
   "cell_type": "markdown",
   "id": "04b7b1b6-43b2-4afa-9197-14acca40ae3c",
   "metadata": {
    "tags": []
   },
   "source": [
    "**Question 6.** Does this dataset truly contain information for buildings all over the world? Use programming code to provide evidence for your response. \n",
    "\n",
    "**Hint:** Look at the output from the structure command."
   ]
  },
  {
   "cell_type": "code",
   "execution_count": null,
   "id": "6263faeb-c115-4434-a0e7-e6694916aa62",
   "metadata": {
    "tags": []
   },
   "outputs": [],
   "source": [
    "# YOUR CODE GOES HERE REPLACING THIS COMMENT\n",
    "..."
   ]
  },
  {
   "cell_type": "markdown",
   "id": "734a1e70-5f44-4dbd-9d41-e951cb7279e9",
   "metadata": {},
   "source": [
    "_Click here to enter your answer in this markdown cell, replacing this text._"
   ]
  },
  {
   "cell_type": "markdown",
   "id": "669fc153-ec64-4825-9dae-cabd1e3934df",
   "metadata": {},
   "source": [
    "## Data Analysis\n",
    "\n",
    "In this section you will execute a series of data moves (see [Data Moves](https://escholarship.org/uc/item/0mg8m7g6)) to gain meaningful insight from the dataset.\n",
    "\n",
    "We will utilize the capabilities of the `dplyr` and `ggplot2` packages to conduct our Exploratory Data Analysis (EDA)."
   ]
  },
  {
   "cell_type": "markdown",
   "id": "69f4880e-fbf9-4518-ae65-71bb2d38292d",
   "metadata": {},
   "source": [
    "In the cell below load the `dplyr` and `ggplot2` packages."
   ]
  },
  {
   "cell_type": "code",
   "execution_count": null,
   "id": "3087ef5c-2db6-453a-a821-96a76e3c1c20",
   "metadata": {
    "tags": []
   },
   "outputs": [],
   "source": [
    "# YOUR CODE GOES HERE REPLACING THIS COMMENT\n",
    "..."
   ]
  },
  {
   "cell_type": "markdown",
   "id": "fcbac2e6-9ef7-45fe-909a-523ce185902f",
   "metadata": {},
   "source": [
    "Since all columns describing the purpose for each building uniformly hold the value `TRUE`, offering no distinctive characteristics, we will proceed to remove them before starting our EDA."
   ]
  },
  {
   "cell_type": "markdown",
   "id": "fe6bb6ee-8b43-4c5f-932c-4f672bd3080e",
   "metadata": {},
   "source": [
    "**Question 7.** Construct a modified dataset named `df` by excluding columns associated with the building's purpose or having a data type of logical from the original `skyscrapers` dataframe. Use the `str` command to confirm that the altered dataframe adheres to the specified criteria."
   ]
  },
  {
   "cell_type": "code",
   "execution_count": null,
   "id": "645b3124-a01c-426d-890f-23fb37d7227a",
   "metadata": {
    "tags": []
   },
   "outputs": [],
   "source": [
    "# YOUR CODE GOES HERE REPLACING THIS COMMENT\n",
    "..."
   ]
  },
  {
   "cell_type": "markdown",
   "id": "9b0146d4-a75e-4fa1-89df-7508ae17cac7",
   "metadata": {},
   "source": [
    "**Question 8.** Display only the unique values in the `status.current` column."
   ]
  },
  {
   "cell_type": "code",
   "execution_count": null,
   "id": "ff66604b-570e-4ee9-aa64-b371afb93660",
   "metadata": {},
   "outputs": [],
   "source": [
    "# YOUR CODE GOES HERE REPLACING THIS COMMENT\n",
    "..."
   ]
  },
  {
   "cell_type": "markdown",
   "id": "4280a67a-8ab6-4edb-b0ab-9f5e43384103",
   "metadata": {},
   "source": [
    "In an article entitled [\"Explainer: Stages of Construction\"](https://skyrisecities.com/news/2015/12/explainer-stages-construction.18748#:~:text=As%20it%20nears%20its%20final,building%20as%20architecturally%20topped%20out.) Marc Mitanis explains the difference between architecturally topped out and structurally topped out. \n",
    "\n",
    "**Question 9.** Explain the difference between architecturally topped out and structurally topped out."
   ]
  },
  {
   "cell_type": "markdown",
   "id": "2dc74e9b-bfa5-4c68-b985-8253eee6255e",
   "metadata": {},
   "source": [
    "_Click here to enter your answer in this markdown cell, replacing this text._"
   ]
  },
  {
   "cell_type": "markdown",
   "id": "4b80c113-084f-4a23-9fe7-6e68dd24ac00",
   "metadata": {},
   "source": [
    "**Question 10.** How many buildings fall into the category of either architecturally topped out or structurally topped out? Use the `table` command to make a contingency table that shows only those two categories."
   ]
  },
  {
   "cell_type": "code",
   "execution_count": null,
   "id": "c5418e3a-72b4-4498-ad94-ce00bad80c4f",
   "metadata": {
    "tags": []
   },
   "outputs": [],
   "source": [
    "# YOUR CODE GOES HERE REPLACING THIS COMMENT\n",
    "..."
   ]
  },
  {
   "cell_type": "markdown",
   "id": "5223d6b2-3a69-480b-aacc-2ca75da04edd",
   "metadata": {
    "tags": []
   },
   "source": [
    "**Question 11.** Generate a bar chart to visually represent the data presented in the table from the previous question."
   ]
  },
  {
   "cell_type": "code",
   "execution_count": null,
   "id": "55bf7bd3-ac96-410a-9251-61e8941f7307",
   "metadata": {
    "tags": []
   },
   "outputs": [],
   "source": [
    "# YOUR CODE GOES HERE REPLACING THIS COMMENT\n",
    "..."
   ]
  },
  {
   "cell_type": "markdown",
   "id": "092c6adb-da62-40c7-8329-d53842fc2b5a",
   "metadata": {},
   "source": [
    "For our analysis, we will focus exclusively on completed buildings. It's important to note that while other buildings in the dataset may also be completed, our analysis will solely rely on the information available within this dataset."
   ]
  },
  {
   "cell_type": "markdown",
   "id": "00b2f1e3-f0bf-4f11-b5af-14c186fc6bfa",
   "metadata": {},
   "source": [
    "**Question 12.** Create a new dataframe named `completed`, that contains only completed buildings from the existing df dataframe. Display the first 5 rows of the `completed` dataframe."
   ]
  },
  {
   "cell_type": "code",
   "execution_count": null,
   "id": "d279700c-7bd0-4e76-ba38-98f1825eb8fe",
   "metadata": {
    "tags": []
   },
   "outputs": [],
   "source": [
    "# YOUR CODE GOES HERE REPLACING THIS COMMENT\n",
    "..."
   ]
  },
  {
   "cell_type": "markdown",
   "id": "321fb29c-af74-4a4b-ba33-863afec4a0ed",
   "metadata": {},
   "source": [
    "**Question 13.** Use the `summary` command to find the minimum, 1st quartile, median, mean, 3rd quartile, and maximum for the height of the completed skyscrapers."
   ]
  },
  {
   "cell_type": "code",
   "execution_count": null,
   "id": "e37ef534-7463-4795-882b-6b93240c0c76",
   "metadata": {
    "tags": []
   },
   "outputs": [],
   "source": [
    "# YOUR CODE GOES HERE REPLACING THIS COMMENT\n",
    "..."
   ]
  },
  {
   "cell_type": "markdown",
   "id": "d8322516-4dd8-42a2-869f-098d9b59fc71",
   "metadata": {
    "tags": []
   },
   "source": [
    "**Question 14.** Write a breif paragraph (no more than 200 words) interpreting the output from **Question 13**."
   ]
  },
  {
   "cell_type": "markdown",
   "id": "8bf1f8bb-9db4-4c50-a6a2-aa932f967ade",
   "metadata": {},
   "source": [
    "_Click here to enter your answer in this markdown cell, replacing this text._"
   ]
  },
  {
   "cell_type": "markdown",
   "id": "c1c70a79-3784-47f5-8743-6bd43edb8030",
   "metadata": {},
   "source": [
    "**Question 15.** The output from the `summary` command shows that there is a height with a minimum value of 0. How many buildings have a height of 0? Use programming code to provide evidence for your response. "
   ]
  },
  {
   "cell_type": "code",
   "execution_count": null,
   "id": "ee31c52c-8833-4f0e-ba47-6abaf4c3be34",
   "metadata": {
    "tags": []
   },
   "outputs": [],
   "source": [
    "# YOUR CODE GOES HERE REPLACING THIS COMMENT\n",
    "..."
   ]
  },
  {
   "cell_type": "markdown",
   "id": "de0c84db-c66a-42e5-a4e9-50c0c9d2f76b",
   "metadata": {},
   "source": [
    "_Click here to enter your answer in this markdown cell, replacing this text._"
   ]
  },
  {
   "cell_type": "markdown",
   "id": "818d57d9-6907-440c-8345-e396538978db",
   "metadata": {},
   "source": [
    "**Question 16.** How do you think the output from the `summary` command would be different if you remove the buildings with a height of 0? Explain."
   ]
  },
  {
   "cell_type": "markdown",
   "id": "ac230486-738f-49df-bc58-54e2b18ac9bd",
   "metadata": {},
   "source": [
    "_Click here to enter your answer in this markdown cell, replacing this text._"
   ]
  },
  {
   "cell_type": "markdown",
   "id": "31c1f23a-5edf-4496-b40e-5facc87aceea",
   "metadata": {},
   "source": [
    "**Question 17.** Remove the buildings have a height of 0, then run  `summary` command again."
   ]
  },
  {
   "cell_type": "code",
   "execution_count": null,
   "id": "3095a1cd-8f88-452b-882c-d46f28a1d724",
   "metadata": {
    "tags": []
   },
   "outputs": [],
   "source": [
    "# YOUR CODE GOES HERE REPLACING THIS COMMENT\n",
    "..."
   ]
  },
  {
   "cell_type": "markdown",
   "id": "4bb2d2fc-e030-4278-9744-b25c99810830",
   "metadata": {},
   "source": [
    "**Question 18.** How was the output from **Question 17** different from the output from **Question 13**? Explain."
   ]
  },
  {
   "cell_type": "markdown",
   "id": "65f3d905-0efe-4e2d-b22d-16e4eb4c8ea0",
   "metadata": {},
   "source": [
    "_Click here to enter your answer in this markdown cell, replacing this text._"
   ]
  },
  {
   "cell_type": "markdown",
   "id": "8e96ed4a-47a9-4936-a9c6-5de5ea3c0bbd",
   "metadata": {},
   "source": [
    "**Question 19.** Which city has the most completed sckyscapers (not including skyscrapers with a height of 0)? Answer this question by creating a dataframe that has 10 rows (for the top 10 cities) and two columns (one for the name of the city and one for the number of skyscrapers).\n",
    "\n",
    "For example, your output could look like this\n",
    "\n",
    "|**location.city**|**count**|\n",
    "|----------------:|--------:|\n",
    "|**`<chr>`**|**`<int>`**|\n",
    "|New York City|533|\n",
    "|Chicago|360|\n",
    "|Miami|86|\n",
    "|Houston|61|\n",
    "|Seattle|54|\n",
    "|Honolulu|50|\n",
    "|Los Angeles|50|\n",
    "|Las Vegas|44|\n",
    "|Minneapolis|39|\n",
    "\n",
    "**Hint:** Use the `group_by`, `summarise`, and `arrange` functions."
   ]
  },
  {
   "cell_type": "code",
   "execution_count": null,
   "id": "be1e8996-e450-44d0-ae90-220f8934570a",
   "metadata": {
    "tags": []
   },
   "outputs": [],
   "source": [
    "# YOUR CODE GOES HERE REPLACING THIS COMMENT\n",
    "..."
   ]
  },
  {
   "cell_type": "markdown",
   "id": "25cefe6d-ff42-4ad2-b4b4-ca85535b7a51",
   "metadata": {
    "tags": []
   },
   "source": [
    "## A Tale of Two Cities\n",
    "\n",
    "A Tale of Two Cities is a historical novel published in 1859 by Charles Dickens, set in London and Paris before and during the French Revolution. The novel tells the story of the French Doctor Manette, his 18-year-long imprisonment in the Bastille in Paris, and his release to live in London with his daughter Lucie whom he had never met. The story is set against the conditions that led up to the French Revolution and the Reign of Terror.\n",
    "\n",
    "In 2003, the novel was ranked 63rd on the BBC's The Big Read poll. The novel has been adapted for film, television, radio, and the stage, and has continued to influence popular culture. \n",
    "\n",
    "**Source:** [Wikipedia](https://en.wikipedia.org/wiki/A_Tale_of_Two_Cities)\n",
    "\n",
    "For the last part of your analysis you get to make a choice."
   ]
  },
  {
   "cell_type": "markdown",
   "id": "a246baf6-2492-4c8c-8389-8e11c2f7b6ec",
   "metadata": {
    "tags": []
   },
   "source": [
    "**Question 20.** Choose two cities from the output from **Question 19**. Create a filtered dataframe containing observations for those two cities while adhering to the following criteria:\n",
    "\n",
    "- Exclude skyscrapers with a height of 0 in each dataframe.\n",
    "\n",
    "- Include only skyscrapers with valid start and completion years.\n",
    "\n",
    "- Keep only the columns `material`, `name`, `location.city`, `statistics.floors.above`, `statistics.height`, `status.completed.year`, and `status.started.year`.\n",
    "\n",
    "Save this new dataframe to `two_cities`."
   ]
  },
  {
   "cell_type": "code",
   "execution_count": null,
   "id": "8cd8439a-61b0-4d00-9f8a-d8f7ad85d69c",
   "metadata": {
    "tags": []
   },
   "outputs": [],
   "source": [
    "# YOUR CODE GOES HERE REPLACING THIS COMMENT\n",
    "..."
   ]
  },
  {
   "cell_type": "markdown",
   "id": "5a0a07e8-2dfb-4d76-a2d4-625066e9faf2",
   "metadata": {},
   "source": [
    "**Question 21.** Verify that the `two_cities` dataframe meets all criteria."
   ]
  },
  {
   "cell_type": "code",
   "execution_count": null,
   "id": "44a8d2ba-4f4a-4e55-9da9-7e44170f956f",
   "metadata": {
    "tags": []
   },
   "outputs": [],
   "source": [
    "print(\"The dimensions of the dataframe are:\")\n",
    "print(dim(two_cities))\n",
    "cat(\"\\n\")\n",
    "print(\"The column names are:\")\n",
    "print(colnames(two_cities))\n",
    "cat(\"\\n\")\n",
    "print(\"The city names are:\")\n",
    "print(unique(two_cities$location.city))\n",
    "cat(\"\\n\")\n",
    "print(\"The number of buildings with height 0 are:\")\n",
    "print(nrow(filter(two_cities, statistics.height == 0)))\n",
    "cat(\"\\n\")\n",
    "print(\"The number of buildings with 0 for year started and year completed are:\")\n",
    "print(nrow(filter(two_cities, status.completed.year == 0 | status.started.year == 0)))"
   ]
  },
  {
   "cell_type": "markdown",
   "id": "5d477e68-a552-4177-bfdc-e295c8920524",
   "metadata": {
    "tags": []
   },
   "source": [
    "**Question 22.** Find the distribution of the proportion of materials used for buildings in each city. You can use the `table` command to complete this task."
   ]
  },
  {
   "cell_type": "code",
   "execution_count": null,
   "id": "eee67d65-8de1-4e43-b6f0-d35f452bcb28",
   "metadata": {
    "tags": []
   },
   "outputs": [],
   "source": [
    "# YOUR CODE GOES HERE REPLACING THIS COMMENT\n",
    "..."
   ]
  },
  {
   "cell_type": "markdown",
   "id": "0f42e096-8389-4e3e-ae1e-22b50454040c",
   "metadata": {},
   "source": [
    "**Question 23.** Compare the material distributions of skyscrapers in each city, focusing on materials where the difference between proportions are the largest. Take note of any patterns or observations and consider what questions may arise from the comparison. In other words, what do you notice? What do you wonder?"
   ]
  },
  {
   "cell_type": "markdown",
   "id": "cf997877-c21d-4298-b7ed-abc11218e3cb",
   "metadata": {},
   "source": [
    "_Click here to enter your answer in this markdown cell, replacing this text._"
   ]
  },
  {
   "cell_type": "markdown",
   "id": "7276c37b-8249-4bcf-b457-2cadfe5ce736",
   "metadata": {},
   "source": [
    "**Question 24.** Construct a box plot to visually compare the material distributions of skyscrapers across the selected cities."
   ]
  },
  {
   "cell_type": "code",
   "execution_count": null,
   "id": "af5f4091-a1ca-4f6a-bdd0-688bde81697b",
   "metadata": {
    "tags": []
   },
   "outputs": [],
   "source": [
    "# YOUR CODE GOES HERE REPLACING THIS COMMENT\n",
    "..."
   ]
  },
  {
   "cell_type": "markdown",
   "id": "6061c818-14a0-4408-b846-77b66ab8d996",
   "metadata": {},
   "source": [
    "**Question 25.** Compare the height distributions of skyscrapers in each city, focusing on the median, lower and upper quartiles, and the outliers. Take note of any patterns or observations and consider what questions may arise from the comparison. In other words, what do you notice? What do you wonder?"
   ]
  },
  {
   "cell_type": "markdown",
   "id": "fbbdb751-cd35-4664-bc2b-7ed98b38eed4",
   "metadata": {},
   "source": [
    "_Click here to enter your answer in this markdown cell, replacing this text._"
   ]
  },
  {
   "cell_type": "markdown",
   "id": "74310788-7689-4d00-931f-ba3a05edc894",
   "metadata": {},
   "source": [
    "**Question 26.** Construct an overlaid histogram to visually compare the distributions of the number of floors across the selected cities."
   ]
  },
  {
   "cell_type": "code",
   "execution_count": null,
   "id": "c3926989-d384-4df0-9af2-f0e5ed5f2a90",
   "metadata": {
    "tags": []
   },
   "outputs": [],
   "source": [
    "# YOUR CODE GOES HERE REPLACING THIS COMMENT\n",
    "..."
   ]
  },
  {
   "cell_type": "markdown",
   "id": "730e8a8a-fd3b-4fd9-a280-212cce1a9f4f",
   "metadata": {},
   "source": [
    "**Question 27.** Compare the distributions of the number of floors of the skyscrapers in each city, focusing on the shape and the frequency. Take note of any patterns or observations and consider what questions may arise from the comparison. In other words, what do you notice? What do you wonder?"
   ]
  },
  {
   "cell_type": "markdown",
   "id": "bb0b318c-a5e6-4f31-88c0-6c59aa01563f",
   "metadata": {},
   "source": [
    "_Click here to enter your answer in this markdown cell, replacing this text._"
   ]
  },
  {
   "cell_type": "markdown",
   "id": "c305f3ac-a87e-4694-9020-9dcc20014cae",
   "metadata": {},
   "source": [
    "**Question 28.** Write a breif paragraph (no more than 300 words) that summarizes the results from your EDA of the two cities."
   ]
  },
  {
   "cell_type": "markdown",
   "id": "f33f1d9a-21fa-479a-bd3e-e00c70a4a770",
   "metadata": {},
   "source": [
    "_Click here to enter your answer in this markdown cell, replacing this text._"
   ]
  }
 ],
 "metadata": {
  "kernelspec": {
   "display_name": "R",
   "language": "R",
   "name": "ir"
  },
  "language_info": {
   "codemirror_mode": "r",
   "file_extension": ".r",
   "mimetype": "text/x-r-source",
   "name": "R",
   "pygments_lexer": "r",
   "version": "4.2.3"
  }
 },
 "nbformat": 4,
 "nbformat_minor": 5
}
