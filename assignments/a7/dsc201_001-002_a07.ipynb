{
 "cells": [
  {
   "cell_type": "markdown",
   "id": "12ac16fa-e80a-4a0b-9b4d-615e573e7fca",
   "metadata": {},
   "source": [
    "# Assignment 07\n",
    "\n",
    "## Due: See Date in Moodle\n",
    "\n",
    "In this assignment you will use intermediate and advanced features in R.\n",
    "\n",
    "To receive a **full credit** for this assignment, you must complete **all** questions.\n",
    "\n",
    "## This Week's Assignment\n",
    "\n",
    "In this week's assignment, you will perform data wrangling. This includes, but is not limited to the following:\n",
    "    \n",
    "- converting strings to numbers\n",
    "\n",
    "- adding a new column to a dataframe\n",
    "\n",
    "### Notes\n",
    "\n",
    "- Adhere to good programming practices, utilizing descriptive variable names, appropriate spacing for readability, and adding comments to your code. \n",
    "\n",
    "- Ensure written responses maintain correct spelling, complete sentences, and proper grammar.\n",
    "\n",
    "**Name:**\n",
    "\n",
    "**Section:**\n",
    "\n",
    "**Date:**\n",
    "\n",
    "In this notebook we will be working with a slightly modified version of the skyscraper data that your class collected. The dataset can be accessed [**here**](https://docs.google.com/spreadsheets/d/1W0uRGIU43sMvQ1pANUtlSkFKeY_TMl9d3QZyegEhxOo/edit#gid=1105865786).\n",
    "\n",
    "\n",
    "Let's get started!"
   ]
  },
  {
   "cell_type": "code",
   "execution_count": null,
   "id": "206a1e47-7223-45a7-a11d-e725555fb472",
   "metadata": {
    "vscode": {
     "languageId": "r"
    }
   },
   "outputs": [],
   "source": [
    "# Load the dataset to a dataframe namde skyscrapers\n",
    "skyscrapers <- read.csv('data/skyscrapers.csv')\n",
    "\n",
    "# Show the first 6 rows of the dataset\n",
    "head(skyscrapers)"
   ]
  },
  {
   "cell_type": "markdown",
   "id": "e6e1f675-fc9a-4a2d-8e1b-d313ed636533",
   "metadata": {},
   "source": [
    "**Question 1.** Load the `dplyr` package."
   ]
  },
  {
   "cell_type": "code",
   "execution_count": null,
   "id": "62061bed-18ea-4058-a4a8-96bfa34a7113",
   "metadata": {
    "tags": [],
    "vscode": {
     "languageId": "r"
    }
   },
   "outputs": [],
   "source": [
    "..."
   ]
  },
  {
   "cell_type": "markdown",
   "id": "24d4f387-6acc-4446-8843-9ea64af449ea",
   "metadata": {},
   "source": [
    "**Question 2.** Remove the first and last columns from the `skyscrapers` dataframe, then store the resulting dataframe as `df`."
   ]
  },
  {
   "cell_type": "code",
   "execution_count": null,
   "id": "d13cfce5-9647-4583-9e7d-517f9e76e9e3",
   "metadata": {
    "tags": [],
    "vscode": {
     "languageId": "r"
    }
   },
   "outputs": [],
   "source": [
    "df <- ...\n",
    "head(df)"
   ]
  },
  {
   "cell_type": "markdown",
   "id": "c2567c01-ba90-47d3-9fe5-42aefc11c839",
   "metadata": {},
   "source": [
    "We're interested in exploring the duration required to construct a skyscraper and whether this construction period has evolved over the years.\n",
    "\n",
    "**Question 3:** In your opinion, has the average time required to construct a skyscraper increased or decreased as time has progressed?"
   ]
  },
  {
   "cell_type": "markdown",
   "id": "80801e33-6d5e-442a-a069-f3d4446ab948",
   "metadata": {},
   "source": [
    "_Click here to type your answer replacing this text_"
   ]
  },
  {
   "cell_type": "markdown",
   "id": "ee96e8f7-0088-464f-bf8b-168c9ac40a63",
   "metadata": {},
   "source": [
    "In R, the `mutate` function allows us to append a new column to a dataframe, using data from its existing columns. This technique was applied in **Assignment 03**, where we introduced a new column to calculate the BMI for each character from Naboo.\n",
    "\n",
    "Now, our objective is to incorporate a column into the `df` dataframe representing the construction time (in years) required to complete each skyscraper.\n",
    "\n",
    "**Note:** This task will be executed incrementally, in distinct steps.\n",
    "\n",
    "**Question 4:** Retrieve the values from the `status.completed` column by utilizing `$` notation. Assign this data to a variable named `completed` and display its contents."
   ]
  },
  {
   "cell_type": "code",
   "execution_count": null,
   "id": "db6e35a5-a177-448f-b32a-5b4d9b6751cc",
   "metadata": {
    "tags": [],
    "vscode": {
     "languageId": "r"
    }
   },
   "outputs": [],
   "source": [
    "completed <- ...\n",
    "completed"
   ]
  },
  {
   "cell_type": "markdown",
   "id": "df77e4da-bb60-469c-b427-43d5cb1a3295",
   "metadata": {},
   "source": [
    "**Question 5.** Retrieve the values from the `status.started` column by utilizing `$` notation. Assign this data to a variable named `started` and display its contents."
   ]
  },
  {
   "cell_type": "code",
   "execution_count": null,
   "id": "dc317018-ea3b-47c0-a33c-2f697139a548",
   "metadata": {
    "tags": [],
    "vscode": {
     "languageId": "r"
    }
   },
   "outputs": [],
   "source": [
    "started <- ...\n",
    "started"
   ]
  },
  {
   "cell_type": "markdown",
   "id": "40c38a68-e519-4bf3-b0d4-a70366c9d49e",
   "metadata": {},
   "source": [
    "**Question 6:** Calculate the construction duration by subtracting the `started` vector values from the `completed` vector values. Store the result in a variable named `duration` and display its values."
   ]
  },
  {
   "cell_type": "code",
   "execution_count": null,
   "id": "17cb656c-a7db-4470-b0a0-05cb59199539",
   "metadata": {
    "tags": [],
    "vscode": {
     "languageId": "r"
    }
   },
   "outputs": [],
   "source": [
    "duration <- ...\n",
    "duration"
   ]
  },
  {
   "cell_type": "markdown",
   "id": "362a67a7-a57d-4b9a-bee3-f0b11bec114d",
   "metadata": {},
   "source": [
    "The `duration` vector contains the construction completion time in years for each building. Given that `duration` is a vector, we can add it to the `df` dataframe.\n",
    "\n",
    "We could have also completed this in one line of code using the `mutate` function\n",
    "\n",
    "```\n",
    "mutate(df, duration=df$status.completed-df$status.started)\n",
    "```\n",
    "\n",
    "where \n",
    "\n",
    "- `df` is the name of the dataframe.\n",
    "- `duration` is the name of the new column that will be added to the `df` dataframe.\n",
    "- `df$status.completed-df$status.started` is the difference between the year construction was completed and the year construction was started.\n",
    "\n",
    "Run the code cell below.\n",
    "\n",
    "**Note:** We are using the piping operator `%>%` to direct the output directly to the `head` function, specifically to show only the first 6 observations."
   ]
  },
  {
   "cell_type": "code",
   "execution_count": null,
   "id": "8684b81f-dcfe-4b6a-87bb-ea30cdff6b29",
   "metadata": {
    "tags": [],
    "vscode": {
     "languageId": "r"
    }
   },
   "outputs": [],
   "source": [
    "mutate(df, duration=df$status.completed-df$status.started) %>% head()"
   ]
  },
  {
   "cell_type": "markdown",
   "id": "f6eae512-480e-4811-bf40-01bb90654714",
   "metadata": {
    "tags": []
   },
   "source": [
    "This operation didn't modify the `df` dataframe. To apply the changes to `df`, we must assign the output back to `df`.\n",
    "\n",
    "Run the code cell below."
   ]
  },
  {
   "cell_type": "code",
   "execution_count": null,
   "id": "cf93d460-f818-4b02-98c4-8a8e56754b54",
   "metadata": {
    "tags": [],
    "vscode": {
     "languageId": "r"
    }
   },
   "outputs": [],
   "source": [
    "df <- mutate(df, duration=df$status.completed-df$status.started)\n",
    "\n",
    "head(df)"
   ]
  },
  {
   "cell_type": "markdown",
   "id": "ca1c2947-6ae7-4677-a183-d0954daa9e36",
   "metadata": {
    "tags": []
   },
   "source": [
    "**Question 7:** Use the `table` command to determine the distribution of skyscrapers across different countries within the dataset."
   ]
  },
  {
   "cell_type": "code",
   "execution_count": null,
   "id": "5c76fbf4-9495-4dab-a411-04048f10059b",
   "metadata": {
    "tags": [],
    "vscode": {
     "languageId": "r"
    }
   },
   "outputs": [],
   "source": [
    "..."
   ]
  },
  {
   "cell_type": "markdown",
   "id": "f5e903ee-41a8-4fba-a79a-63ff5d1d6f96",
   "metadata": {},
   "source": [
    "**Question 8:** Create a new dataframe that includes only those countries with more than 10 skyscrapers in the dataset. Store the result in a new dataframe.\n",
    "\n",
    "**Note:** Assign the output to a variable of your choice, but **do not overwrite the existing** `df` dataframe."
   ]
  },
  {
   "cell_type": "code",
   "execution_count": null,
   "id": "1077d663-8f87-421e-8f6a-0a3f7e59def8",
   "metadata": {
    "tags": [],
    "vscode": {
     "languageId": "r"
    }
   },
   "outputs": [],
   "source": [
    "... <- ...\n",
    "head(...)"
   ]
  },
  {
   "cell_type": "markdown",
   "id": "abcf4865-d570-4394-8075-5ea954ac0c98",
   "metadata": {},
   "source": [
    "To visualize the variation in construction durations across different countries within your dataframe, we'll use the `ggformula` package. This package augments `ggplot2` by offering a formula-based approach to data visualization. Specifically, we'll use the `gf_boxplot` function. A box plot is a straightforward and effective way to compare the spread and central tendencies of duration times among different countries.\n",
    "\n",
    "To learn more about how to use the `ggformula` interface you read the official documentation [**here**](http://cran.nexr.com/web/packages/ggformula/ggformula.pdf) or you can look a summary of the key feartures by [**reading a conversation I had with ChatGPT**](https://docs.google.com/document/d/1OCUUGkEbXDEk0VOxoDAYXaT2IuvVUW8q4RiEIcq0FV0/edit).\n",
    "\n",
    "Run the cell below to load the `ggformula` package."
   ]
  },
  {
   "cell_type": "code",
   "execution_count": null,
   "id": "683350d3-b750-49de-b232-c292a32941cf",
   "metadata": {
    "tags": [],
    "vscode": {
     "languageId": "r"
    }
   },
   "outputs": [],
   "source": [
    "..."
   ]
  },
  {
   "cell_type": "markdown",
   "id": "4c35c0a3-10c4-4a7b-9ec1-361a5eef3d75",
   "metadata": {},
   "source": [
    "Run the code cell below, substituting `<the name of your dataframe>` with the actual name of your subset dataframe specified in **Question 8**. Ensure you correctly set this name as the value for the parameter data - meaning \n",
    "\n",
    "```\n",
    "data=<the name of your dataframe>\n",
    "```"
   ]
  },
  {
   "cell_type": "code",
   "execution_count": null,
   "id": "352efc62-8aba-479c-beb2-3545c98f40fd",
   "metadata": {
    "tags": [],
    "vscode": {
     "languageId": "r"
    }
   },
   "outputs": [],
   "source": [
    "gf_boxplot(duration ~ country, data=dat)"
   ]
  },
  {
   "cell_type": "markdown",
   "id": "d6346368-b66c-48ea-9e36-8d4e2a54ce10",
   "metadata": {},
   "source": [
    "If you want to change the colors all you need to do is add \n",
    "\n",
    "```\n",
    "color=\"black\", fill=\"lightblue\"\n",
    "```\n",
    "\n",
    "where in this context, `color` refers to the color used for the outline of the shape, while `fill` specifies the color inside the shape.\n",
    "\n",
    "A list of colors can be found [**here**](https://stat.columbia.edu/~tzheng/files/Rcolor.pdf).\n",
    "\n",
    "Run the code cell below, substituting `<the name of your dataframe>` with the actual name of your subset dataframe specified in **Question 8**. Ensure you correctly set this name as the value for the parameter data - meaning \n",
    "\n",
    "```\n",
    "data=<the name of your dataframe>\n",
    "```"
   ]
  },
  {
   "cell_type": "code",
   "execution_count": null,
   "id": "49ce4625-8a5c-4e5c-8a3b-867489e862eb",
   "metadata": {
    "tags": [],
    "vscode": {
     "languageId": "r"
    }
   },
   "outputs": [],
   "source": [
    "gf_boxplot(duration ~ country, data=..., color=\"black\", fill=\"lightblue\")"
   ]
  },
  {
   "cell_type": "markdown",
   "id": "121ce93b-48ad-45ed-9c40-560368e8d2fb",
   "metadata": {},
   "source": [
    "To explore the distribution of floor counts in your dataframe, we'll utilize the `gf_histogram` function. Frist, let's review all the values from the original `skyscrapers` dataframe."
   ]
  },
  {
   "cell_type": "code",
   "execution_count": null,
   "id": "ca45cc07-137b-438b-a7ac-1968261b4f6c",
   "metadata": {
    "tags": [],
    "vscode": {
     "languageId": "r"
    }
   },
   "outputs": [],
   "source": [
    "skyscrapers$floors"
   ]
  },
  {
   "cell_type": "markdown",
   "id": "831927e5-b71a-4a89-9f7b-51aaba0feb17",
   "metadata": {},
   "source": [
    "Observe that the data is currently stored as strings. To analyze it numerically, we need to convert the data type from string to numeric. This conversion can be achieved using the `as.numeric` function. Here’s a helpful hint:\n",
    "\n",
    "```\n",
    "# Assuming your dataframe is named df and the \n",
    "# column you're converting is named \"myColumn\"\n",
    "df$myColumn <- as.numeric(df$myColumn)\n",
    "\n",
    "# or if you prefer tidyverse syntax, you can use mutate from dplyr\n",
    "df <- df %>% mutate(myColumn = as.numeric(myColumn))\n",
    "```"
   ]
  },
  {
   "cell_type": "markdown",
   "id": "f508cf07-ecc6-4952-be79-93cde581331b",
   "metadata": {
    "tags": []
   },
   "source": [
    "**Question 9.** Change the data type of the `floors` column from string to numeric."
   ]
  },
  {
   "cell_type": "code",
   "execution_count": null,
   "id": "5ecb7ddb-1469-4c40-84e6-d6ddbcb0ea4f",
   "metadata": {
    "vscode": {
     "languageId": "r"
    }
   },
   "outputs": [],
   "source": [
    "... <- ..."
   ]
  },
  {
   "cell_type": "markdown",
   "id": "5d34d4d8-c817-4d7f-abc5-6c33cecc6cc6",
   "metadata": {},
   "source": [
    "You should see a warning message that says \n",
    "\n",
    "<div style=\"background-color:pink; color:black; padding:5px; width:100%;\">\n",
    "<strong>Warning message in eval(expr, envir, enclos):</strong><br> “NAs introduced by coercion”\n",
    "</div><br>\n",
    "\n",
    "**Important:** Take a moment to think about why this might have happened. Discuss your thoughts with your group members. When you feel confident about your explanation, wave over your instructor and explain what you've discovered."
   ]
  },
  {
   "cell_type": "markdown",
   "id": "9f870d1d-c3bc-4e73-b33f-72f1903771a8",
   "metadata": {},
   "source": [
    "Run the code cell below, substituting `<the name of your dataframe>` with the actual name of your subset dataframe specified in **Question 8**. Ensure you correctly set this name as the value for the parameter data - meaning \n",
    "\n",
    "```\n",
    "data=<the name of your dataframe>\n",
    "```"
   ]
  },
  {
   "cell_type": "code",
   "execution_count": null,
   "id": "b54fd8e3-e17d-4bd6-9821-e76b18d28da5",
   "metadata": {
    "tags": [],
    "vscode": {
     "languageId": "r"
    }
   },
   "outputs": [],
   "source": [
    "gf_histogram(~floors, data=..., bins=10, color='black', fill='lightblue')"
   ]
  },
  {
   "cell_type": "markdown",
   "id": "d80a171f-1ead-4f8a-abfb-c8e8a554d188",
   "metadata": {},
   "source": [
    "## Data Cleaning\n",
    "\n",
    "Data cleaning is the process of preparing data for analysis by identifying and correcting errors, inconsistencies, and inaccuracies in the data. This includes removing duplicates, correcting typos, handling missing values, and ensuring that the data is in a consistent format. A specific component of data cleaning is calld \"data parsing\" or \"string parsing\".\n",
    "\n",
    "\n",
    "## String Parsing\n",
    "\n",
    "String parsing is the process of analyzing a string of characters, extracting relevant information, and converting it into a format suitable for further processing. This often involves separating the string into components based on specific patterns or delimiters, removing unwanted characters, and transforming the data into a different type, such as converting a numeric string into an integer or decimal number.\n",
    "\n",
    "Suppose we want to construct a histogram and a boxplot for the distribution of heights. This issue we face is that the `height` column is formatted as a string and contains two distinct units of measurement—meters and feet.\n",
    "\n",
    "Let's tackle this issue one step at a time."
   ]
  },
  {
   "cell_type": "markdown",
   "id": "de7362d4-a781-4b2e-89f2-73a1ec1c31da",
   "metadata": {},
   "source": [
    "**Question 10.** First we need to display all the entries in the `height` column to assess and address the discrepancy in format and units. Display all the values in the `height` column using the dataframe you created in **Question 8**. "
   ]
  },
  {
   "cell_type": "code",
   "execution_count": null,
   "id": "b2949d40-8163-45a3-ad28-2db5fb46ea8c",
   "metadata": {
    "tags": [],
    "vscode": {
     "languageId": "r"
    }
   },
   "outputs": [],
   "source": [
    "..."
   ]
  },
  {
   "cell_type": "markdown",
   "id": "fde7c4a1-d9f0-4e72-9133-87af5624c884",
   "metadata": {},
   "source": [
    "We'll begin by addressing a single value to establish a correction method. Once successful, we'll extend this technique to the entire column. \n",
    "\n",
    "Display the first value in the `height` column using the dataframe you created in **Question 8**. "
   ]
  },
  {
   "cell_type": "code",
   "execution_count": null,
   "id": "ed45ef18-0ece-42f7-a2ba-f4703bf0a88e",
   "metadata": {
    "tags": [],
    "vscode": {
     "languageId": "r"
    }
   },
   "outputs": [],
   "source": [
    "..."
   ]
  },
  {
   "cell_type": "markdown",
   "id": "469a89bd-04e4-4dbc-b7b4-aa751b26fea6",
   "metadata": {},
   "source": [
    "Run the command from the previous cell and save the output to a variable named `s`. Then display the value of `s`."
   ]
  },
  {
   "cell_type": "code",
   "execution_count": null,
   "id": "fca98b78-699d-4988-9a17-abbc4b8ef58f",
   "metadata": {
    "tags": [],
    "vscode": {
     "languageId": "r"
    }
   },
   "outputs": [],
   "source": [
    "s <- ...\n",
    "s"
   ]
  },
  {
   "cell_type": "markdown",
   "id": "ae9cba25-1e6d-4c12-9f91-c8b43d48fb72",
   "metadata": {},
   "source": [
    "Now, we'll use the `strsplit` function to split the string into individual substrings wherever there are spaces, which results in a data structure known as a list. A list in R is a collection that can hold elements of different types, including numbers, characters, other vectors, dataframes, and even more lists. It allows for organizing a diverse set of data within a single structure. If you want to learn more about lists in R [**read my conversation with ChatGPT**](https://docs.google.com/document/d/1gglHE9xFjPrAFlrs_kwzLdxtn84Q9EYwta-S7vmRKbk/edit?usp=sharing).\n",
    "\n",
    "The command `strsplit(s, ' ') ` will return the following output (which is a list)\n",
    "```\n",
    "1. '528''m''/''1,732''ft'\n",
    "```\n",
    "\n",
    "To convert this list into a more usable format, we'll apply the `unlist` function. This step extracts the substrings from the list, compiling them into a character vector for easier manipulation and analysis.\n",
    "\n",
    "If you use the pipe operater (`%>%`) from the `dplyr` package that we loaded at the beginning of the notebook, then you can chain the output from `strsplit(s, ' ') ` to the `unlist()` function and return a character vector. \n",
    "\n",
    "The command `strsplit(s, ' ') %>% unlist()` will return a character vector with the following output :\n",
    "\n",
    "`'528'` &middot; `'m'` &middot; `'/'` &middot; `'1,732'` &middot; `'ft'`\n",
    "\n",
    "Enter the command in the code cell below."
   ]
  },
  {
   "cell_type": "code",
   "execution_count": null,
   "id": "b8131138-7023-4b70-837a-36850f9ed18e",
   "metadata": {
    "tags": [],
    "vscode": {
     "languageId": "r"
    }
   },
   "outputs": [],
   "source": [
    "..."
   ]
  },
  {
   "cell_type": "markdown",
   "id": "33d02eb1-0288-4357-9128-50a7cfb882b4",
   "metadata": {},
   "source": [
    "**Question 11.** Run the command from the previous cell and store its output in a variable named `hts`."
   ]
  },
  {
   "cell_type": "code",
   "execution_count": null,
   "id": "4201055a-8bb8-40d5-b120-17e78889cbf5",
   "metadata": {
    "tags": [],
    "vscode": {
     "languageId": "r"
    }
   },
   "outputs": [],
   "source": [
    "hts <- ...\n",
    "hts"
   ]
  },
  {
   "cell_type": "markdown",
   "id": "7cbbffda-f5cc-4b3b-bb04-0f75a8d17c4c",
   "metadata": {},
   "source": [
    "**Question 12.** Now, apply bracket notation `[ ]` to select the value representing the height in feet from the character vector `hts`. Store this extracted value in a variable named `ft_comma`."
   ]
  },
  {
   "cell_type": "code",
   "execution_count": null,
   "id": "1dbd8101-c127-4028-8ca7-6c4962dc5451",
   "metadata": {
    "tags": [],
    "vscode": {
     "languageId": "r"
    }
   },
   "outputs": [],
   "source": [
    "ft_comma <- ...\n",
    "ft_comma"
   ]
  },
  {
   "cell_type": "markdown",
   "id": "507a9366-0b6a-47c6-aab1-9278cb12b0d1",
   "metadata": {},
   "source": [
    "**Question 13.** Use the `gsub` function to remove the comma from `ft_comma`. Save the new value to a variable named `ft_string`.\n",
    "\n",
    "**Note:** The `gsub` function in R is used for pattern matching and replacement. It stands for \"global substitution\" and allows you to search for all occurrences of a pattern in a string or vector of strings, and replace them with a specified replacement value. The basic syntax of the `gsub` function is\n",
    "\n",
    "```\n",
    "gsub(pattern, replacement, x)\n",
    "```\n",
    "\n",
    "where\n",
    "\n",
    "- `pattern`: The pattern to look for - meaning the string.\n",
    "- `replacement`: The string to replace the matching pattern with.\n",
    "`x`: The character vector or string in which to perform the replacement.\n",
    "\n",
    "**Note:** More details abouot the `gsub` function can be found [**here**](https://www.geeksforgeeks.org/replace-all-the-matches-of-a-pattern-from-a-string-in-r-programming-gsub-function/)."
   ]
  },
  {
   "cell_type": "code",
   "execution_count": null,
   "id": "7e0a6274-bb46-4288-9dd9-7c8123f455cb",
   "metadata": {
    "vscode": {
     "languageId": "r"
    }
   },
   "outputs": [],
   "source": [
    "ft_string <- ...\n",
    "ft_string"
   ]
  },
  {
   "cell_type": "markdown",
   "id": "772c582b-5692-4f09-b84a-37c2d6fb0759",
   "metadata": {},
   "source": [
    "**Question 14.** Finally, convert `ft_string` from a string to a numeric data type by using the `as.numeric` function. Store the converted value in a variable named `ft`."
   ]
  },
  {
   "cell_type": "code",
   "execution_count": null,
   "id": "724d18a2-e058-48b3-bd91-cc8a5e3edae5",
   "metadata": {
    "vscode": {
     "languageId": "r"
    }
   },
   "outputs": [],
   "source": [
    "ft <- ...\n",
    "ft"
   ]
  },
  {
   "cell_type": "markdown",
   "id": "a93a3c73-6618-4ca2-975f-be2774d018c8",
   "metadata": {},
   "source": [
    "In the next class we'll figure out how to do this to all the values in tthe `height` column. \n",
    "\n",
    "**Question 15**. Are there additional issues we might face? Please review the remaining entries in the `height` column to identify any other potential challenges. Provide a specific example of what you find to help us understand and address these concerns effectively."
   ]
  },
  {
   "cell_type": "markdown",
   "id": "4845ceb0-5160-4a11-9954-0265733ab8aa",
   "metadata": {},
   "source": [
    "_Click here to type your answer replacing this text_"
   ]
  }
 ],
 "metadata": {
  "kernelspec": {
   "display_name": "R",
   "language": "R",
   "name": "ir"
  },
  "language_info": {
   "codemirror_mode": "r",
   "file_extension": ".r",
   "mimetype": "text/x-r-source",
   "name": "R",
   "pygments_lexer": "r",
   "version": "4.2.3"
  }
 },
 "nbformat": 4,
 "nbformat_minor": 5
}
