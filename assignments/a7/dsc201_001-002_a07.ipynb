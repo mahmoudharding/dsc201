{
 "cells": [
  {
   "cell_type": "markdown",
   "id": "44e81398-8ba7-453f-a0a8-d2b8a94eafff",
   "metadata": {},
   "source": [
    "# Assignment 07\n",
    "\n",
    "## Due: See Date in Moodle\n",
    "\n",
    "## This Week's Assignment\n",
    "\n",
    "In this week's assignment you'll be introdcued to visualizations in Python, you'll learn how to:\n",
    "\n",
    "- import modules used to create visualizations in Python\n",
    "\n",
    "- create visualizations for categorical and numerical data.\n",
    "\n",
    "## Guidelines\n",
    "\n",
    "- Follow good programming practices by using descriptive variable names, maintaining appropriate spacing for readability, and adding comments to clarify your code.\n",
    "\n",
    "- Ensure written responses use correct spelling, complete sentences, and proper grammar.\n",
    "\n",
    "**Name:**\n",
    "\n",
    "**Section:**\n",
    "\n",
    "**Date:**\n",
    "\n",
    "Let's get started!"
   ]
  },
  {
   "cell_type": "markdown",
   "id": "f9dbb390-6aa0-454e-beda-6cdf4034437e",
   "metadata": {},
   "source": [
    "## Purpose and Fundamentals of Data Visualization\n",
    "\n",
    "Data visualization is the practice of representing data graphically to reveal patterns, trends, and insights that might be difficult to interpret from raw numbers alone. Effective visualizations simplify complex information, making it easier to communicate findings, support decision-making, and identify relationships within data. The fundamentals of data visualization include selecting appropriate graphical representations, ensuring clarity and accuracy, and emphasizing key insights while avoiding misleading representations (Tufte 2001). \n",
    "\n",
    "While data visualization involves many concepts, techniques, and considerations, our discussion will focus on fundamental visualization types commonly used in exploratory data analysis, including bar charts, histograms, box plots, line charts, and scatter plots. These visualizations can be created in both Python and R. \n",
    "\n",
    "### Matplotlib\n",
    "\n",
    "`matplotlib.pyplot` is a module within the Matplotlib library that makes it easy to create visualizations in Python. \n",
    "\n",
    "```python\n",
    "import matplotlib.pyplot as plt\n",
    "```\n",
    "\n",
    "Each command in `pyplot` such as `plt.plot()` and `plt.title()` controls part of a figure. This allows you  to build and customize your visualization.\n",
    "\n",
    "**Note:** To learn more about visualizations in `matplotlib` click [here](https://matplotlib.org/stable/) and for documentation on creating visualizations using `pandas` click [here](https://pandas.pydata.org/pandas-docs/stable/user_guide/visualization.html)."
   ]
  },
  {
   "cell_type": "markdown",
   "id": "b1d78e0f-cfad-4ba0-bb2a-6000035a47b0",
   "metadata": {},
   "source": [
    "**Question 1.** Import the necessary libraries for analyzing data and creating our visualizations."
   ]
  },
  {
   "cell_type": "code",
   "execution_count": null,
   "id": "e85d92ee-7862-43b8-b8da-c55beb838a70",
   "metadata": {
    "tags": []
   },
   "outputs": [],
   "source": [
    "..."
   ]
  },
  {
   "cell_type": "markdown",
   "id": "4e75fbcf-0a16-4f15-851d-087003d7b600",
   "metadata": {},
   "source": [
    "**Question 2.** Load your dataset into a `pandas` `DataFrame` and verify that it loaded correctly by displaying the dataframe’s metadata."
   ]
  },
  {
   "cell_type": "code",
   "execution_count": null,
   "id": "85339888-4057-4a15-ae0e-2659a946f4a1",
   "metadata": {
    "tags": []
   },
   "outputs": [],
   "source": [
    "..."
   ]
  },
  {
   "cell_type": "markdown",
   "id": "7d042af2-13e7-48b4-9b26-36648af0cb73",
   "metadata": {},
   "source": [
    "## Data Dive with Visualizations\n",
    "\n",
    "In the Data Moves framework, visualize is one of the key data moves and often builds on earlier steps like selecting, filtering, grouping, and summarizing. After you choose which data to focus on, organize it into meaningful groups, and calculate summaries or aggregates, the visualize move transforms those results into charts or graphs that reveal patterns, trends, or relationships."
   ]
  },
  {
   "cell_type": "markdown",
   "id": "0c0cd348",
   "metadata": {},
   "source": [
    "## Bar Chart\n",
    "\n",
    "A bar chart is a graphical representation of categorical data where each category is represented by a bar, with the height or length of the bar corresponding to its value. It is used to compare the frequency, count, or other metrics across different categories. Bar charts are ideal when you need to visually compare discrete categories or show trends over time. \n",
    "\n",
    "This can be done using `pandas`.\n",
    "\n",
    "```python\n",
    "df.plot.bar('column_name')\n",
    "```\n",
    "\n",
    "or using `matplotlib`\n",
    "\n",
    "```python\n",
    "plt.bar('column_name')\n",
    "```"
   ]
  },
  {
   "cell_type": "markdown",
   "id": "046ef598-45d0-44f6-aec9-e764b504f2bc",
   "metadata": {},
   "source": [
    "**Question 3.** Select a categorical variable from your dataset and create a bar chart to display the frequency of each category."
   ]
  },
  {
   "cell_type": "code",
   "execution_count": null,
   "id": "f7783f38-aa31-4d58-995d-2dec159ee3a1",
   "metadata": {
    "tags": []
   },
   "outputs": [],
   "source": [
    "tbl = ...\n",
    "tbl"
   ]
  },
  {
   "cell_type": "code",
   "execution_count": null,
   "id": "82dcfbd0-a7ab-4cab-8708-b49ab91b2498",
   "metadata": {
    "tags": []
   },
   "outputs": [],
   "source": [
    "tbl.plot.bar();"
   ]
  },
  {
   "cell_type": "markdown",
   "id": "2ad2b65e-b750-49fd-b544-a9368b16bde0",
   "metadata": {},
   "source": [
    "**Question 4.** Add a title to your bar chart."
   ]
  },
  {
   "cell_type": "code",
   "execution_count": null,
   "id": "f6e8a740-ec74-46bd-b24e-dd2a64033ea1",
   "metadata": {
    "tags": []
   },
   "outputs": [],
   "source": [
    "tbl.plot.bar(rot = 1)\n",
    "\n",
    "plt.title(...);"
   ]
  },
  {
   "cell_type": "code",
   "execution_count": null,
   "id": "a06f32db-2734-46ba-b098-b7b5b1609a68",
   "metadata": {
    "tags": []
   },
   "outputs": [],
   "source": [
    "tbl.plot.bar(rot = 1)\n",
    "\n",
    "plt.title(...);"
   ]
  },
  {
   "cell_type": "markdown",
   "id": "2338d47f",
   "metadata": {},
   "source": [
    "## Histogram\n",
    "\n",
    "A histogram is a graphical representation of the distribution of numerical data. Unlike a bar chart, which displays categorical data, a histogram groups continuous data into bins (ranges) and shows the frequency or count of data points within each bin. The height of each bar represents the number of data points that fall within each bin.\n",
    "\n",
    "This can be done using `pandas`:\n",
    "\n",
    "```python\n",
    "df['column_name'].plot.hist()\n",
    "```\n",
    "\n",
    "or using `matplotlib`:\n",
    "\n",
    "```python\n",
    "plt.hist(df['column_name'])\n",
    "```"
   ]
  },
  {
   "cell_type": "markdown",
   "id": "40ce646f-1a0c-49e9-9a01-c1ef958aac01",
   "metadata": {},
   "source": [
    "**Question 5.** Select a numerical variable from your dataset and create a histogram to display the distribution of its values across different ranges (bins)."
   ]
  },
  {
   "cell_type": "code",
   "execution_count": null,
   "id": "4a3d300f-ebad-4827-993d-1286eb510777",
   "metadata": {
    "tags": []
   },
   "outputs": [],
   "source": [
    "..."
   ]
  },
  {
   "cell_type": "markdown",
   "id": "d2ae9b37-37bd-459f-91ca-d8e01c18c326",
   "metadata": {},
   "source": [
    "**Question 6.** Customize your histogram by adding contrasting edge colors to the bars and including a title and axis labels."
   ]
  },
  {
   "cell_type": "code",
   "execution_count": null,
   "id": "10745f4e-4b60-4cf9-a12d-ca5b406a1d3e",
   "metadata": {
    "tags": []
   },
   "outputs": [],
   "source": [
    "...\n",
    "\n",
    "plt.title(...)\n",
    "plt.xlabel(...)\n",
    "plt.ylabel(...);"
   ]
  },
  {
   "cell_type": "markdown",
   "id": "38e51bcd",
   "metadata": {},
   "source": [
    "## Box Plot\n",
    "\n",
    "A boxplot is a way of displaying the distribution of data based on a five-number summary. \n",
    "\n",
    "- Median (Q2): The line inside the box represents the median (the middle value of the data set).\n",
    "\n",
    "- First quartile (Q1): The lower edge of the box, representing the 25th percentile (where 25% of the data lies below this value).\n",
    "\n",
    "- Third quartile (Q3): The upper edge of the box, representing the 75th percentile (where 75% of the data lies below this value).\n",
    "\n",
    "- Interquartile Range (IQR): The range between the first quartile (Q1) and third quartile (Q3), which contains the middle 50% of the data.\n",
    "\n",
    "- Whiskers: These extend from the edges of the box to the smallest and largest values within 1.5 times the IQR from Q1 and Q3, respectively. They represent the range of most of the data.\n",
    "\n",
    "- Outliers: Data points outside the whiskers are considered outliers and are usually plotted as individual dots.\n",
    "\n",
    "This can be done using `pandas`:\n",
    "\n",
    "```python\n",
    "df.plot.box(column = 'column_name')\n",
    "```\n",
    "\n",
    "or using `matplotlib`:\n",
    "\n",
    "```python\n",
    "plt.boxplot(df['column_name'])\n",
    "```"
   ]
  },
  {
   "cell_type": "markdown",
   "id": "6d998930-d8d2-4757-b16a-6ffc91523fd8",
   "metadata": {},
   "source": [
    "**Question 7.** Select a **different numerical variable from the one used in your histogram** and create a box plot to display its distribution, highlighting the median, quartiles, and any potential outliers."
   ]
  },
  {
   "cell_type": "code",
   "execution_count": null,
   "id": "d8d02815-fa22-46a3-85ee-e6a3c45cca6d",
   "metadata": {
    "tags": []
   },
   "outputs": [],
   "source": [
    "..."
   ]
  },
  {
   "cell_type": "markdown",
   "id": "92f42f05-5502-4bbe-a854-614ae10c8511",
   "metadata": {},
   "source": [
    "**Question 8.** Create a box plot that compares crab shucked weight across sex categories."
   ]
  },
  {
   "cell_type": "code",
   "execution_count": null,
   "id": "43878012-41ab-40a4-9518-70e39df7dc8f",
   "metadata": {
    "tags": []
   },
   "outputs": [],
   "source": [
    "..."
   ]
  },
  {
   "cell_type": "markdown",
   "id": "c2b9f467-209e-4c64-9a9b-f7cd980cc4e5",
   "metadata": {},
   "source": [
    "**Note:** Customize your boxplot by adding a title and axis labels and replacing the default $x-$axis labels with full names."
   ]
  },
  {
   "cell_type": "code",
   "execution_count": null,
   "id": "be9d9f7c-1cbf-43f1-84a8-f1f4d7c694f4",
   "metadata": {
    "tags": []
   },
   "outputs": [],
   "source": [
    "...\n",
    "\n",
    "plt.title(...)\n",
    "plt.suptitle('')\n",
    "plt.xlabel('')\n",
    "plt.xticks(ticks = [...], labels = [...])\n",
    "plt.ylabel(...);"
   ]
  },
  {
   "cell_type": "markdown",
   "id": "8c8fdff6",
   "metadata": {},
   "source": [
    "## Scatter Plot\n",
    "\n",
    "A scatterplot is a graphical representation used to display the relationship between two continuous variables. Each point on the plot represents an observation, with the position of the point determined by the values of the two variables. The $x-$axis represents one variable, and the $y-$axis represents the other.\n",
    "\n",
    "This can be done using `pandas`:\n",
    "\n",
    "```python\n",
    "df.plot.scatter(x = 'column_name', y = 'column_name')\n",
    "```\n",
    "\n",
    "or using `matplotlib`:\n",
    "\n",
    "```python\n",
    "plt.scatter(df['column_name'], df['column_name'])\n",
    "```"
   ]
  },
  {
   "cell_type": "markdown",
   "id": "a34a7ab9-431d-48de-920e-769f43c956e0",
   "metadata": {},
   "source": [
    "**Question 9.** Select two numerical variables from your dataset and create a scatter plot to display their relationship. Use one variable for the $x-$axis and the other for the $y$-axis."
   ]
  },
  {
   "cell_type": "code",
   "execution_count": null,
   "id": "582155ef-6b58-425a-8e18-3b41d98cb024",
   "metadata": {
    "tags": []
   },
   "outputs": [],
   "source": [
    "..."
   ]
  },
  {
   "cell_type": "markdown",
   "id": "c209ed16-ba4c-4003-b05d-9099cae70e6d",
   "metadata": {},
   "source": [
    "**Question 10.** Customize your scatterplot by adding a contrasting edge color to the points and including a title and axis labels."
   ]
  },
  {
   "cell_type": "code",
   "execution_count": null,
   "id": "57995d49-4626-4688-b714-75fda5cd4cf7",
   "metadata": {
    "tags": []
   },
   "outputs": [],
   "source": [
    "...\n",
    "\n",
    "plt.title(...)\n",
    "plt.xlabel(...)\n",
    "plt.ylabel(...);"
   ]
  },
  {
   "cell_type": "markdown",
   "id": "116ed6b6-968d-4e4c-823e-f24abb95ca7b",
   "metadata": {},
   "source": [
    "## References\n",
    "\n",
    "Tufte, E. R. (2001). _The visual display of quantitative information (2nd ed.)_. Graphics Press."
   ]
  },
  {
   "cell_type": "markdown",
   "id": "f7f2fb35-e43c-4d11-9320-804fe1cb76d9",
   "metadata": {},
   "source": [
    "## Submission\n",
    "\n",
    "Make sure that all cells in your assignment have been executed to display all output, images, and graphs in the final document.\n",
    "\n",
    "**Note:** Save the assignment before proceeding to download the file.\n",
    "\n",
    "After downloading, locate the `.ipynb` file and upload **only** this file to Moodle. The assignment will be automatically submitted to Gradescope for grading."
   ]
  }
 ],
 "metadata": {
  "kernelspec": {
   "display_name": "Python 3 (ipykernel)",
   "language": "python",
   "name": "python3"
  },
  "language_info": {
   "codemirror_mode": {
    "name": "ipython",
    "version": 3
   },
   "file_extension": ".py",
   "mimetype": "text/x-python",
   "name": "python",
   "nbconvert_exporter": "python",
   "pygments_lexer": "ipython3",
   "version": "3.10.11"
  }
 },
 "nbformat": 4,
 "nbformat_minor": 5
}
