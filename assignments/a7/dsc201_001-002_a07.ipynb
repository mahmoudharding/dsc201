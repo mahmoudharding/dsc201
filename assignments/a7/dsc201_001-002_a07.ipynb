{
 "cells": [
  {
   "cell_type": "markdown",
   "id": "12ac16fa-e80a-4a0b-9b4d-615e573e7fca",
   "metadata": {},
   "source": [
    "# Assignment 07\n",
    "\n",
    "## Due: See Date in Moodle\n",
    "\n",
    "In this assignment you will use intermediate and advanced features in R.\n",
    "\n",
    "To receive a **full credit** for this assignment, you must complete **all** questions.\n",
    "\n",
    "## This Week's Assignment\n",
    "\n",
    "In this week's assignment, you will perform data wrangling. This includes, but is not limited to the following:\n",
    "    \n",
    "- converting strings to numbers\n",
    "\n",
    "- adding a new column to a dataframe\n",
    "\n",
    "### Notes\n",
    "\n",
    "- Adhere to good programming practices, utilizing descriptive variable names, appropriate spacing for readability, and adding comments to your code. \n",
    "\n",
    "- Ensure written responses maintain correct spelling, complete sentences, and proper grammar.\n",
    "\n",
    "**Name:**\n",
    "\n",
    "**Section:**\n",
    "\n",
    "**Date:**\n",
    "\n",
    "In this notebook we will be working with a slightly modified version of the skyscraper data that your class collected. The dataset can be accessed [**here**](https://docs.google.com/spreadsheets/d/1W0uRGIU43sMvQ1pANUtlSkFKeY_TMl9d3QZyegEhxOo/edit#gid=1105865786).\n",
    "\n",
    "\n",
    "Let's get started!"
   ]
  },
  {
   "cell_type": "code",
   "execution_count": null,
   "id": "206a1e47-7223-45a7-a11d-e725555fb472",
   "metadata": {
    "tags": []
   },
   "outputs": [],
   "source": [
    "ss <- read.csv('data/skyscrapers_world.csv')\n",
    "head(ss)"
   ]
  },
  {
   "cell_type": "markdown",
   "id": "e6e1f675-fc9a-4a2d-8e1b-d313ed636533",
   "metadata": {},
   "source": [
    "## Data Wrangling and Cleaning in R\n",
    "\n",
    "### `dplyr`\n",
    "\n",
    "`dplyr` is an R package from the `tidyverse` that is designed for data manipulation and transformation. Key functions in `dplyr` for performing data moves include `filter()`, `select()`, `mutate()`, `arrange()`, and the combination of `group_by()` with `summarize()`.\n",
    "\n",
    "**Question 1.** Load the `dplyr` package."
   ]
  },
  {
   "cell_type": "code",
   "execution_count": null,
   "id": "b63daf07-629e-42ea-89f1-258a82dcd03d",
   "metadata": {
    "tags": []
   },
   "outputs": [],
   "source": [
    "library(dplyr)"
   ]
  },
  {
   "cell_type": "markdown",
   "id": "963c19c7-ddfe-4c3c-8872-e4e21a9fe3dc",
   "metadata": {},
   "source": [
    "Let's replicate the data cleaning and wranlging we performed in Python using R instead.\n",
    "\n",
    "**Example 1.** Drop the `X` column."
   ]
  },
  {
   "cell_type": "code",
   "execution_count": null,
   "id": "c8229e0a-4ff7-4c76-bcc9-41e062e95574",
   "metadata": {
    "tags": []
   },
   "outputs": [],
   "source": [
    "ss <- ss %>% \n",
    "        select(-'X')\n",
    "\n",
    "colnames(ss)"
   ]
  },
  {
   "cell_type": "markdown",
   "id": "ef42e832-ca07-4a42-8d3f-fa7b859b64f0",
   "metadata": {},
   "source": [
    "**Example 2.** Rename the `status.completed`, `status.started`, and `height in meters` columns to `snake_case` format."
   ]
  },
  {
   "cell_type": "code",
   "execution_count": null,
   "id": "8ed880b0-a58d-4e51-9242-6174f192ffe4",
   "metadata": {
    "tags": []
   },
   "outputs": [],
   "source": [
    "ss <- ss %>% \n",
    "        rename(year_completed = 'status.completed',\n",
    "               year_started = 'status.started',\n",
    "               height_meters = 'height.in.meters'\n",
    ")\n",
    "\n",
    "colnames(ss)"
   ]
  },
  {
   "cell_type": "markdown",
   "id": "762e37ef-9e18-4623-b7d2-b3bf8d279b95",
   "metadata": {},
   "source": [
    "**Example 3.** Standardize the `height` column by keeping only values in meters and converting the data type from character to numeric.\n",
    "\n",
    "\n",
    "**Notes:**\n",
    "\n",
    "```\n",
    "gsub(pattern, replacement, x)\n",
    "```\n",
    "- The `gsub()` function in R is used for pattern replacement within character strings. It searches for a specified pattern or regular expression in a string and replaces it with a given value.\n",
    "\n",
    "- Here, it searches for commas (`\",\"`) in the `height_meters` column and replaces them with an empty string (`\"`\").\n",
    "\n",
    "```\n",
    "as.numeric(...)\n",
    "```\n",
    "\n",
    "- The `as.numeric()` function converts a character string into a numeric data type.\n",
    "\n",
    "- After `gsub()` removes the commas, the cleaned value (which is still a string) is converted into a numeric format."
   ]
  },
  {
   "cell_type": "code",
   "execution_count": null,
   "id": "b6e84875-8252-43bd-b428-a1568d75c745",
   "metadata": {
    "tags": []
   },
   "outputs": [],
   "source": [
    "ss <- ss %>%\n",
    "  mutate(clean_height_meters = as.numeric(gsub(\",\", \"\", height_meters)))"
   ]
  },
  {
   "cell_type": "markdown",
   "id": "1b71f72f-0978-4a8a-9051-803e72f61c0f",
   "metadata": {},
   "source": [
    "**Example 4.** Confirm that the code functions as expected."
   ]
  },
  {
   "cell_type": "code",
   "execution_count": null,
   "id": "afcdfc92-ed01-4f29-a9af-54d2a0c29e1c",
   "metadata": {
    "tags": []
   },
   "outputs": [],
   "source": [
    "..."
   ]
  },
  {
   "cell_type": "markdown",
   "id": "f24c93aa-39df-4dd1-ae08-85b4150b7566",
   "metadata": {},
   "source": [
    "**Example 5.** Identify non-numeric values in the `floors` column and convert them to numeric values."
   ]
  },
  {
   "cell_type": "code",
   "execution_count": null,
   "id": "6f26ab06-69e6-4f15-a7f1-8262a4498882",
   "metadata": {},
   "outputs": [],
   "source": [
    "..."
   ]
  },
  {
   "cell_type": "code",
   "execution_count": null,
   "id": "f5175766-bbb9-4d48-a63d-2b4fb36f72bb",
   "metadata": {
    "tags": []
   },
   "outputs": [],
   "source": [
    "ss$floors[49] <- 103\n",
    "ss$floors[62] <- 73\n",
    "ss$floors"
   ]
  },
  {
   "cell_type": "code",
   "execution_count": null,
   "id": "86fd865b-d19f-4156-95ef-b44b28381090",
   "metadata": {
    "tags": []
   },
   "outputs": [],
   "source": [
    "ss$floors <- as.numeric(ss$floors)\n",
    "ss$floors"
   ]
  },
  {
   "cell_type": "markdown",
   "id": "24d4f387-6acc-4446-8843-9ea64af449ea",
   "metadata": {},
   "source": [
    "**Question 2.** Filter the `data.frame` to include only rows where the `country` column matches one of the values in `uae`. Then, extract the row indices of these filtered rows."
   ]
  },
  {
   "cell_type": "code",
   "execution_count": null,
   "id": "d13cfce5-9647-4583-9e7d-517f9e76e9e3",
   "metadata": {
    "tags": []
   },
   "outputs": [],
   "source": [
    "uae <- c(\"United Arab Emirates\", \"United Arab Emirates (UAE)\", \"Dubai\", \"UAE\")\n",
    "..."
   ]
  },
  {
   "cell_type": "markdown",
   "id": "44044744-6960-47a8-87d1-2a7e6b9119ea",
   "metadata": {},
   "source": [
    "**Note:** The `which()` function in R returns the indices of TRUE values in a logical vector. It is commonly used to find the positions of elements that satisfy a certain condition."
   ]
  },
  {
   "cell_type": "code",
   "execution_count": null,
   "id": "5c43480f-8510-4bcd-bf28-ae5f8e4aca5a",
   "metadata": {
    "tags": []
   },
   "outputs": [],
   "source": [
    "for (i in rows) {\n",
    "  previous_label <- ss[i, \"country\"]\n",
    "  ss[i, \"country\"] <- \"UAE\"\n",
    "  cat(sprintf(\"Row index: %-5d Previous label: %-30s New label: %-20s\\n\",\n",
    "              i, previous_label, ss[i, \"country\"]))\n",
    "}"
   ]
  },
  {
   "cell_type": "markdown",
   "id": "a8d18b27-7f05-4fc4-b3eb-8d40108cab71",
   "metadata": {},
   "source": [
    "**Note:** The `sprintf()` function in R is used for formatted string output, similar to Python’s `f-string` or `format()` method. It allows you to embed values into strings with specific formatting, such as fixed decimal places, padding, and alignment."
   ]
  },
  {
   "cell_type": "markdown",
   "id": "c2567c01-ba90-47d3-9fe5-42aefc11c839",
   "metadata": {},
   "source": [
    "**Example 6.** Change the mislabeld value for China."
   ]
  },
  {
   "cell_type": "code",
   "execution_count": null,
   "id": "6e4aca54-7e51-41fc-8424-b9484d45adc5",
   "metadata": {
    "tags": []
   },
   "outputs": [],
   "source": [
    "..."
   ]
  },
  {
   "cell_type": "code",
   "execution_count": null,
   "id": "0d9cf181-a3c1-4043-89b4-4e984253df01",
   "metadata": {
    "tags": []
   },
   "outputs": [],
   "source": [
    "..."
   ]
  },
  {
   "cell_type": "markdown",
   "id": "714f37d1-372d-456c-b1fe-4b13c0053b08",
   "metadata": {},
   "source": [
    "## Visualization in R\n",
    "\n",
    "`ggplot2` is a data visualization library in R. It is part of the `tidyverse` and follows the **grammar of graphics**, which allows users to build plots layer by layer.\n",
    "\n",
    "`ggplot2` uses the following structure:\n",
    "\n",
    "```\n",
    "ggplot(data, aes(x = ..., y = ...)) + \n",
    "  geom_xxx() + \n",
    "  additional_layers\n",
    "```\n",
    "\n",
    "- `ggplot(data, aes(x, y))`: Calls the `ggplot()` function to initialize the plot with data and aesthetics `(aes())`\n",
    "\n",
    "- `geom_...()`: Specifies the type of plot (e.g., `geom_point()` for scatter plots)\n",
    "\n",
    "- `+ additional_layers`: Can include labels, themes, colors, facets, etc.\n",
    "\n",
    "Load the `ggplot2` library."
   ]
  },
  {
   "cell_type": "code",
   "execution_count": null,
   "id": "1ad1dbd8-98a7-496a-a56b-6e3bdd4342c5",
   "metadata": {
    "tags": []
   },
   "outputs": [],
   "source": [
    "..."
   ]
  },
  {
   "cell_type": "code",
   "execution_count": null,
   "id": "49eac928-abb9-4338-af0c-51a9278f7bf4",
   "metadata": {
    "tags": []
   },
   "outputs": [],
   "source": [
    "# Set default plot size for all plots.\n",
    "# This ensures all plots have consistent sizing.\n",
    "options(repr.plot.width = 12, repr.plot.height = 8) "
   ]
  },
  {
   "cell_type": "markdown",
   "id": "0fcf0c34-a597-440b-98cf-b88751820bf1",
   "metadata": {},
   "source": [
    "### Bar Chart\n",
    "\n",
    "Let's look a a summary of the material column labels. \n",
    "\n",
    "**Example 7.** Create a table for the frequency counts in the `material` column."
   ]
  },
  {
   "cell_type": "code",
   "execution_count": null,
   "id": "4027c3ed-7130-4850-b10a-6835beb96be0",
   "metadata": {
    "tags": []
   },
   "outputs": [],
   "source": [
    "tbl <- table(ss$material)\n",
    "tbl"
   ]
  },
  {
   "cell_type": "markdown",
   "id": "93b64ef8-e46c-4c3e-8e50-4dd129a4989d",
   "metadata": {},
   "source": [
    "To create a plot in `ggplot2`, we first initialize a `ggplot` object with data and aesthetic mappings. Then, we add layers such as geoms (`geom_bar()`), labels, and themes to build the complete visualization.\n",
    "\n",
    "**Question 4.** Create a bar chart to visualiza the distriubtion of the materials used in the `ss` dataframe.\n",
    "\n",
    "- First create the `ggplot` object."
   ]
  },
  {
   "cell_type": "code",
   "execution_count": null,
   "id": "fd340467-43de-4bb5-ae35-c37ac8aad1c3",
   "metadata": {
    "tags": []
   },
   "outputs": [],
   "source": [
    "g <- ..."
   ]
  },
  {
   "cell_type": "code",
   "execution_count": null,
   "id": "d3c0edf8-13e4-41e7-a0fd-e9f12dcfe550",
   "metadata": {
    "tags": []
   },
   "outputs": [],
   "source": [
    "g"
   ]
  },
  {
   "cell_type": "markdown",
   "id": "6b0503c2-dea8-47a3-856a-6ee8832b668e",
   "metadata": {},
   "source": [
    "Then add the layers to the `ggplot` object `g`."
   ]
  },
  {
   "cell_type": "code",
   "execution_count": null,
   "id": "3f5b98fa-b4e3-4374-a458-1b94917aae6c",
   "metadata": {
    "tags": []
   },
   "outputs": [],
   "source": [
    "g + geom_bar()"
   ]
  },
  {
   "cell_type": "markdown",
   "id": "cadf7c55-8db9-4bae-a016-638068f90fee",
   "metadata": {},
   "source": [
    "After that you can customize the layers (in this case `geom_bar()`) by adding `fill = ...` to color the bars.\n",
    "\n",
    "**Note:** A table of R colors can be found [here](https://sites.stat.columbia.edu/tzheng/files/Rcolor.pdf)."
   ]
  },
  {
   "cell_type": "code",
   "execution_count": null,
   "id": "ccf9d342-5724-4a41-9402-c8e32c21e67a",
   "metadata": {
    "tags": []
   },
   "outputs": [],
   "source": [
    "g + geom_bar(fill = ...)"
   ]
  },
  {
   "cell_type": "markdown",
   "id": "02cce0fa-6826-4e29-ad7b-60c784daf1c8",
   "metadata": {},
   "source": [
    "You can also add a labels layer and change the theme."
   ]
  },
  {
   "cell_type": "code",
   "execution_count": null,
   "id": "c25141ff-d94e-4276-ab0c-2dd575139b92",
   "metadata": {
    "tags": []
   },
   "outputs": [],
   "source": [
    "g + geom_bar(fill = ..., color = ...) +\n",
    "  labs(title = 'Distribution of Materials', x = 'Category', y = 'Count') +\n",
    "  theme_classic()"
   ]
  },
  {
   "cell_type": "markdown",
   "id": "f8f000c4-f112-42d5-8eff-9febf06f2195",
   "metadata": {},
   "source": [
    "You can also change the bin labels."
   ]
  },
  {
   "cell_type": "code",
   "execution_count": null,
   "id": "544670c7-27da-4b25-9897-05189e41503f",
   "metadata": {
    "tags": []
   },
   "outputs": [],
   "source": [
    "g + geom_bar(fill = ..., color = ...) +\n",
    "  labs(title = 'Distribution of Materials', x = NULL, y = 'Count') +\n",
    "  scale_x_discrete(labels = c('composite' = 'Composite', \n",
    "                              'concrete' = 'Concrete', \n",
    "                              'steel' = 'Steel', \n",
    "                              'steel/concrete' = 'Steel/Concrete')\n",
    "                  ) +\n",
    "  theme_classic()"
   ]
  },
  {
   "cell_type": "markdown",
   "id": "ee96e8f7-0088-464f-bf8b-168c9ac40a63",
   "metadata": {},
   "source": [
    "The process for creating different types of plots in `ggplot2` follows a similar structure:  \n",
    "\n",
    "1. Initialize the `ggplot` object: Define the dataset and aesthetics using `ggplot(data, aes(...))`.  \n",
    "\n",
    "1. Add a geometric layer (`geom_...()`): Choose the appropriate geom for visualization (e.g., `geom_point()`, `geom_bar()`, `geom_line()`).  \n",
    "\n",
    "1. Customize the geom layer: Modify colors, sizes, transparency, or other visual properties.  \n",
    "\n",
    "1. Add labels and annotations:Use `labs()` to specify the title, axis labels, and captions.  \n",
    "\n",
    "1. Add additional layers: Include facets, guides, or other modifications.  \n",
    "\n",
    "1. Apply a theme: Choose a built-in theme (e.g., `theme_minimal()`, `theme_classic()`) or customize elements with `theme()`.  \n",
    "\n",
    "\n",
    "### Histogram\n",
    "\n",
    "**Question 5:** Create a histogram to visualizae the distribution of the `floors`."
   ]
  },
  {
   "cell_type": "code",
   "execution_count": null,
   "id": "db6e35a5-a177-448f-b32a-5b4d9b6751cc",
   "metadata": {
    "tags": []
   },
   "outputs": [],
   "source": [
    "g <- ...\n",
    "g + geom_histogram()"
   ]
  },
  {
   "cell_type": "code",
   "execution_count": null,
   "id": "51b510d6-f69a-4760-9692-ac9d2dd69720",
   "metadata": {
    "tags": []
   },
   "outputs": [],
   "source": [
    "g + geom_histogram(..., fill = 'lightblue', color = 'white') +\n",
    "  labs(title = 'Distribution of Floors', x = NULL, y = 'Frequency') +\n",
    "  theme_classic()"
   ]
  },
  {
   "cell_type": "markdown",
   "id": "df77e4da-bb60-469c-b427-43d5cb1a3295",
   "metadata": {},
   "source": [
    "**Question 6.** Examine the histogram of floor counts in the dataset. What trends do you observe, and what insights can be drawn from the distribution?  \n",
    "\n",
    "In particular, explore: \n",
    "\n",
    "- How the distribution of floors varies across the dataset.\n",
    "  \n",
    "- Potential factors that may influence floor counts (e.g., building type, region, or year built). \n",
    "\n",
    "- Whether any outliers or unusual patterns exist in the data."
   ]
  },
  {
   "cell_type": "markdown",
   "id": "34b65caa-d02a-4660-82fe-1f6a70db36a3",
   "metadata": {
    "tags": []
   },
   "source": [
    "_TYPE YOUR ANSWER HERE REPLACING THIS TEXT_"
   ]
  },
  {
   "cell_type": "markdown",
   "id": "ab25f8a5-bc48-48c2-8beb-c45f751b6263",
   "metadata": {},
   "source": [
    "#### Facet\n",
    "\n",
    "A facet in `ggplot2` is a way to split a plot into multiple subplots based on the values of one or more categorical variables. Each subplot (facet) shows a subset of the data, making it easier to compare distributions or trends across different groups.\n",
    "\n",
    "**Example 8.** Create a faceted histogram to visualize the distribution of floors across different material types to compare of floor counts by material category."
   ]
  },
  {
   "cell_type": "code",
   "execution_count": null,
   "id": "1c915baa-c1af-46d2-be80-ada6d0339568",
   "metadata": {
    "tags": []
   },
   "outputs": [],
   "source": [
    "g + geom_histogram(bins = 15, fill = ..., color = ...) +\n",
    "  ... +\n",
    "  labs(title = 'Distribution of Floors', x = NULL, y = 'Frequency') +\n",
    "  theme_classic()"
   ]
  },
  {
   "cell_type": "markdown",
   "id": "91f8caac-01cc-4346-b90a-9197eccf9360",
   "metadata": {},
   "source": [
    "- `facet_wrap(~ material)`: Creates separate plots (facets) for each unique value in the material column.\n",
    "\n",
    "- Each facet shares the **same axes**, but plots data independently for each category."
   ]
  },
  {
   "cell_type": "markdown",
   "id": "40c38a68-e519-4bf3-b0d4-a70366c9d49e",
   "metadata": {},
   "source": [
    "**Question 7:** Examine the faceted histogram of floor counts across material types. What trends do you observe, and what insights can be drawn from the distributions?  \n",
    "\n",
    "In particular, explore:  \n",
    "\n",
    "- How the distribution of floors varies across different material types.  \n",
    "\n",
    "- Potential factors that may influence floor counts (e.g., building type, region, or year built).  \n",
    "\n",
    "- Whether any outliers or unusual patterns exist within specific material categories."
   ]
  },
  {
   "cell_type": "markdown",
   "id": "1f28c0a1-8ffc-4690-8540-e806d5f81fb2",
   "metadata": {
    "tags": []
   },
   "source": [
    "_TYPE YOUR ANSWER HERE REPLACING THIS TEXT_"
   ]
  },
  {
   "cell_type": "markdown",
   "id": "47dfc370-6250-48c5-8b04-65974e8fb8ae",
   "metadata": {},
   "source": [
    "### Box Plots\n",
    "\n",
    "A box plot can also be used to visualize the distribution of floors across different material types to compare of heights by material category.\n",
    "\n",
    "**Example 9.** Create a box plot to compare the distribution of the numerical variable fare grouped by passenger ticket class status."
   ]
  },
  {
   "cell_type": "code",
   "execution_count": null,
   "id": "4baedfec-9365-4c0c-9259-264cd9c086cb",
   "metadata": {
    "tags": []
   },
   "outputs": [],
   "source": [
    "g <- ..."
   ]
  },
  {
   "cell_type": "code",
   "execution_count": null,
   "id": "2736911e-064e-4034-81d8-bc03ad5198ff",
   "metadata": {
    "tags": []
   },
   "outputs": [],
   "source": [
    "g + geom_boxplot(fill = ..., color = ...)"
   ]
  },
  {
   "cell_type": "markdown",
   "id": "c9c63b7a-03e7-4d7d-accd-c5ab0c3befd2",
   "metadata": {},
   "source": [
    "### Scatter Plot\n",
    "\n",
    "We can create a scatter plot to visualize the relationship between height and floors.\n",
    "\n",
    "**Question 8:** Create a scatter plot to visualize the relationship between height and floors."
   ]
  },
  {
   "cell_type": "code",
   "execution_count": null,
   "id": "65442b3d-370a-4f66-b371-0b3f17dda88e",
   "metadata": {
    "tags": []
   },
   "outputs": [],
   "source": [
    "g <- ..."
   ]
  },
  {
   "cell_type": "code",
   "execution_count": null,
   "id": "caaf285b-c6dc-4b02-a9a6-dfb7b3818e79",
   "metadata": {
    "tags": []
   },
   "outputs": [],
   "source": [
    "g + geom_point(size = 2)"
   ]
  },
  {
   "cell_type": "markdown",
   "id": "9ca3b47f-4bf0-453f-8db5-63ebfee47613",
   "metadata": {},
   "source": [
    "**Question 9:** Examine the scatter plot of height and floors. What trends do you observe, and what insights can be drawn from the relationship between these variables?  \n",
    "\n",
    "In particular, explore:  \n",
    "\n",
    "- How the relationship between height and the number of floors varies.  \n",
    "\n",
    "- Potential factors that may influence this relationship (e.g., building type, region, or construction year).  \n",
    "\n",
    "- Whether any outliers or unusual patterns exist."
   ]
  },
  {
   "cell_type": "markdown",
   "id": "3634c8a9-588b-4031-bb33-d30be1be6efb",
   "metadata": {},
   "source": [
    "_TYPE YOUR ANSWER HERE REPLACING THIS TEXT_"
   ]
  },
  {
   "cell_type": "markdown",
   "id": "896e430b-4db0-477a-9607-664546e16b78",
   "metadata": {},
   "source": [
    "**Example 10.** Color the points in the scatter plot based on the material type."
   ]
  },
  {
   "cell_type": "code",
   "execution_count": null,
   "id": "625620e2-4ec3-493c-91ea-c4e3bf769adb",
   "metadata": {
    "tags": []
   },
   "outputs": [],
   "source": [
    "g <- ggplot(data = ss, aes(x = clean_height_meters, y = floors, ...))"
   ]
  },
  {
   "cell_type": "code",
   "execution_count": null,
   "id": "7afc6013-6ca9-4113-a568-6650f4e51e96",
   "metadata": {
    "tags": []
   },
   "outputs": [],
   "source": [
    "g + geom_point()"
   ]
  },
  {
   "cell_type": "markdown",
   "id": "a94fa166-5241-4909-b750-2f7a023f0d8d",
   "metadata": {},
   "source": [
    "What do you notice? What do you wonder?"
   ]
  },
  {
   "cell_type": "markdown",
   "id": "b4eb9cfa-54e4-4741-840c-df9380b53b4f",
   "metadata": {},
   "source": [
    "### Line Charts\n",
    "\n",
    "When visualizing time series data, a line chart is typically more effective than a scatter plot because it helps show trends, patterns, and continuity over time.  \n",
    "\n",
    "- Generally speaking a line chart is better for time series data because it:\n",
    "\n",
    "  - shows trends and patterns over time (e.g., increasing, decreasing, seasonal variations).  \n",
    "\n",
    "  - emphasizes the connection between data points (since time is continuous).  \n",
    "\n",
    "  - helps identify cycles, peaks, and outliers more clearly.\n",
    "  \n",
    "\n",
    "- Sometimes a scatter plot might be used instead:\n",
    "\n",
    "    - If the data points are sparse and do not follow a clear trend.  \n",
    "\n",
    "    - When exploring individual time-stamped events rather than continuous trends.  "
   ]
  },
  {
   "cell_type": "markdown",
   "id": "e87cb8c6-8a66-418e-98ef-33e1d10be3f1",
   "metadata": {},
   "source": [
    "**Example 11.** Make a line chart for the skyscraper dataset."
   ]
  },
  {
   "cell_type": "code",
   "execution_count": null,
   "id": "0fd674fa-d430-4f6e-b37a-44a1d60d7895",
   "metadata": {
    "tags": []
   },
   "outputs": [],
   "source": [
    "g <- ggplot(data = ss, aes(x = year_completed, y = clean_height_meters))\n",
    "g + geom_line()"
   ]
  },
  {
   "cell_type": "markdown",
   "id": "b974d91a-f052-45d3-b796-ce6df5591ae9",
   "metadata": {},
   "source": [
    "What do you notice? What do you wonder?\n",
    "\n",
    "#### Group and Aggregate\n",
    "\n",
    "The code ran without errors, but the visualization lacks insight. Why?\n",
    "\n",
    "Grouping buildings by completion year and aggregating heights (e.g., average or maximum) would better reveal trends over time."
   ]
  },
  {
   "cell_type": "markdown",
   "id": "55530eb1-b16d-42da-a061-6800b37d5690",
   "metadata": {},
   "source": [
    "**Example 12.** Group buildings by completion year and use the median height to capture yearly trends. Save the grouped dataframe to an object named `dat` with columns named `year_completed` and `median_height`."
   ]
  },
  {
   "cell_type": "code",
   "execution_count": null,
   "id": "14b5681e-9ffb-42f3-957a-5b9d0339fe1d",
   "metadata": {
    "tags": []
   },
   "outputs": [],
   "source": [
    "dat <- ss %>%\n",
    "         ... %>%\n",
    "         ...(median_height = ...)\n",
    "dat"
   ]
  },
  {
   "cell_type": "markdown",
   "id": "5a8c6cea-89c5-4dcc-ae84-e1d112cc32a9",
   "metadata": {},
   "source": [
    "Since the first and last two observations were entered incorectly we can slice them out. The `slice()` function from the `dplyr` to select specific rows from a data frame based on their index values."
   ]
  },
  {
   "cell_type": "code",
   "execution_count": null,
   "id": "d92d349f-5c04-4e26-9f23-f8f17535fe05",
   "metadata": {
    "tags": []
   },
   "outputs": [],
   "source": [
    "dat %>% slice(2:31)"
   ]
  },
  {
   "cell_type": "code",
   "execution_count": null,
   "id": "a99c6479-04a6-4c01-9e2d-c711e8bd13fa",
   "metadata": {
    "tags": []
   },
   "outputs": [],
   "source": [
    "dat <- dat %>% slice(2:31)"
   ]
  },
  {
   "cell_type": "code",
   "execution_count": null,
   "id": "9e7a9cbb-5fbe-4eb2-8823-ed0c7418ac5f",
   "metadata": {
    "tags": []
   },
   "outputs": [],
   "source": [
    "str(ss)"
   ]
  },
  {
   "cell_type": "markdown",
   "id": "47eb4ad8-3ba2-42ec-b0d6-e7d9e8006111",
   "metadata": {},
   "source": [
    "**Example 13.** Change the `year_completed` column from charater  (`chr`) to numeric (`num`)."
   ]
  },
  {
   "cell_type": "code",
   "execution_count": null,
   "id": "f580cb54-f9c1-452c-a66e-9bca9b3989ba",
   "metadata": {
    "tags": []
   },
   "outputs": [],
   "source": [
    "dat$year_completed <- as.numeric(dat$year_completed)"
   ]
  },
  {
   "cell_type": "markdown",
   "id": "0bd36c6b-3370-4bd6-9bbe-0c70d56e889f",
   "metadata": {},
   "source": [
    "Now we can create the line plot."
   ]
  },
  {
   "cell_type": "code",
   "execution_count": null,
   "id": "ac425506-bf7d-47a0-9b9e-6d1421c0f24d",
   "metadata": {
    "tags": []
   },
   "outputs": [],
   "source": [
    "g <- ggplot(data = dat, aes(x = year_completed, y = median_height))"
   ]
  },
  {
   "cell_type": "code",
   "execution_count": null,
   "id": "5eda8c0b-9d55-47d5-a208-9161681fcc98",
   "metadata": {
    "tags": []
   },
   "outputs": [],
   "source": [
    "g + geom_line()"
   ]
  },
  {
   "cell_type": "code",
   "execution_count": null,
   "id": "6889b3ce-7435-4db7-bca5-0d89eee9f036",
   "metadata": {
    "tags": []
   },
   "outputs": [],
   "source": [
    "dat <- dat %>% slice(5:31)"
   ]
  },
  {
   "cell_type": "code",
   "execution_count": null,
   "id": "5ec3ade3-6747-4da8-a94b-81d71353b45c",
   "metadata": {
    "tags": []
   },
   "outputs": [],
   "source": [
    "g <- ggplot(data = dat, aes(x = year_completed, y = median_height))"
   ]
  },
  {
   "cell_type": "code",
   "execution_count": null,
   "id": "bf58c07c-473d-48b7-b3bc-f073114d3353",
   "metadata": {
    "tags": []
   },
   "outputs": [],
   "source": [
    "g + geom_line()"
   ]
  },
  {
   "cell_type": "markdown",
   "id": "eeaaca5f-fd3d-470c-93b7-10920cffc3eb",
   "metadata": {},
   "source": [
    "What if we did a scatter plot?"
   ]
  },
  {
   "cell_type": "code",
   "execution_count": null,
   "id": "36e10b45-f861-4b2f-815d-040803f362f0",
   "metadata": {
    "tags": []
   },
   "outputs": [],
   "source": [
    "g <- ggplot(data = ss, aes(x = as.numeric(year_completed), y = clean_height_meters))"
   ]
  },
  {
   "cell_type": "code",
   "execution_count": null,
   "id": "efd1ea9b-b6c1-46d5-a804-1292fba6b099",
   "metadata": {
    "tags": []
   },
   "outputs": [],
   "source": [
    "g + geom_point(size = 2)"
   ]
  },
  {
   "cell_type": "markdown",
   "id": "e6c84d13-8893-468f-9d1b-07b32494d052",
   "metadata": {},
   "source": [
    "**Question 10:** Which plot, the line plot or the scatter plot, is most useful for this data? Explain your choice by describing how it best represents trends or patterns and why it is the most effective visualization."
   ]
  },
  {
   "cell_type": "markdown",
   "id": "661cb1f4-559c-4374-bc3e-96e6870a2d4e",
   "metadata": {},
   "source": [
    "_TYPE YOUR ANSWER HERE REPLACING THIS TEXT_"
   ]
  },
  {
   "cell_type": "markdown",
   "id": "e640e8bf-4b5e-4083-8d59-1f5311367805",
   "metadata": {},
   "source": [
    "## Submission\n",
    "\n",
    "Make sure that all cells in your assignment have been executed to display all output, images, and graphs in the final document.\n",
    "\n",
    "**Note:** Save the assignment before proceeding to download the file.\n",
    "\n",
    "After downloading, locate the `.ipynb` file and upload **only** this file to Moodle. The assignment will be automatically submitted to Gradescope for grading."
   ]
  }
 ],
 "metadata": {
  "kernelspec": {
   "display_name": "R",
   "language": "R",
   "name": "ir"
  },
  "language_info": {
   "codemirror_mode": "r",
   "file_extension": ".r",
   "mimetype": "text/x-r-source",
   "name": "R",
   "pygments_lexer": "r",
   "version": "4.2.3"
  }
 },
 "nbformat": 4,
 "nbformat_minor": 5
}
