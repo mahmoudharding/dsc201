{
 "cells": [
  {
   "cell_type": "markdown",
   "id": "1f4fc8e3-737b-4250-bfee-7aa884d155ac",
   "metadata": {},
   "source": [
    "# Run the cell below\n",
    "\n",
    "To run a code cell (i.e.; execute the python code inside a Jupyter notebook) you can click the play button on the ribbon underneath the name of the notebook that looks like ▶| or hold down `Shift` + `Return`.\n",
    "\n",
    "Before you begin run the code cell below."
   ]
  },
  {
   "cell_type": "code",
   "execution_count": null,
   "id": "17eb7d01",
   "metadata": {
    "deletable": false,
    "editable": false
   },
   "outputs": [],
   "source": [
    "# Initialize Otter\n",
    "import otter\n",
    "grader = otter.Notebook(\"dsc201_001_003_a7.ipynb\")"
   ]
  },
  {
   "cell_type": "markdown",
   "id": "c245b08f-00ab-4323-8ef0-0adaa7c99760",
   "metadata": {},
   "source": [
    "**Name:** \n",
    "\n",
    "**Section:** \n",
    "\n",
    "**Date:**"
   ]
  },
  {
   "cell_type": "markdown",
   "id": "48c5f8ac-1c63-493c-ab74-1d8bc3893768",
   "metadata": {},
   "source": [
    "## This Week's Assignment\n",
    "\n",
    "In this week's assignment, you'll learn how to:\n",
    "\n",
    "- load data into and `pandas` `DataFrame`.\n",
    "\n",
    "- access, manipulate and slice data that is stored in a `pandas` `DataFrame`.\n",
    "\n",
    "Let's get started!"
   ]
  },
  {
   "cell_type": "markdown",
   "id": "27207205-1e6a-4863-89b9-76686434042f",
   "metadata": {},
   "source": [
    "**Note**: The Pandas interface is notoriously confusing, and the documentation is not consistently great. Throughout the semester, you will have to search through Pandas documentatio, experiment and use tools like ChatGPT, but remember it is part of the learning experience and will help shape you as a data scientist."
   ]
  },
  {
   "cell_type": "markdown",
   "id": "b6adf51d-19fc-47dd-bd18-5d4ef2cefdd7",
   "metadata": {
    "deletable": false,
    "editable": false
   },
   "source": [
    "**Question 1.** Use the `import` function to import `pandas` as `pd` and `numpy` as `np`."
   ]
  },
  {
   "cell_type": "code",
   "execution_count": null,
   "id": "47f6c505-3218-4343-8baf-165f88c4ed7d",
   "metadata": {
    "tags": []
   },
   "outputs": [],
   "source": [
    "# Import the pandas and numpy modules using the appropriate aliases\n",
    "import ... as ...\n",
    "import ... as ..."
   ]
  },
  {
   "cell_type": "code",
   "execution_count": null,
   "id": "5e68614c",
   "metadata": {
    "deletable": false,
    "editable": false
   },
   "outputs": [],
   "source": [
    "grader.check(\"q1\")"
   ]
  },
  {
   "cell_type": "markdown",
   "id": "84e67c7a-3d9a-4f87-b63b-ae3b9bd78806",
   "metadata": {},
   "source": [
    "## Creating DataFrames & Basic Manipulations\n",
    "\n",
    "A [dataframe](http://pandas.pydata.org/pandas-docs/stable/dsintro.html#dataframe) is a table in which each column has a type; there is an index over the columns (typically string labels) and an index over the rows (typically ordinal numbers).\n",
    "\n",
    "The [documentation](https://pandas.pydata.org/pandas-docs/stable/generated/pandas.DataFrame.html) for the pandas `DataFrame` class  provide at least two syntaxes to create a data frame.\n",
    "\n",
    "**Syntax 1:** You can create a data frame by specifying the columns and values using a dictionary as shown below. \n",
    "\n",
    "The keys of the **dictionary** are the column names, and the values of the dictionary are lists containing the row entries."
   ]
  },
  {
   "cell_type": "code",
   "execution_count": null,
   "id": "91797080-b9c4-4fb8-928a-880060c4aabe",
   "metadata": {},
   "outputs": [],
   "source": [
    "fruit_info = pd.DataFrame(\n",
    "    data = {'fruit': ['apple', 'orange', 'banana', 'raspberry'],\n",
    "            'color': ['red', 'orange', 'yellow', 'pink']})\n",
    "fruit_info"
   ]
  },
  {
   "cell_type": "markdown",
   "id": "e8d395e0-0c13-43fe-b16a-5f5382669a76",
   "metadata": {},
   "source": [
    "**Syntax 2:** You can also define a dataframe by specifying the rows like below. \n",
    "\n",
    "Each row corresponds to a distinct **tuple**, and the columns are specified separately."
   ]
  },
  {
   "cell_type": "code",
   "execution_count": null,
   "id": "7846f740-cb82-4de2-9866-d9f3dc3839af",
   "metadata": {},
   "outputs": [],
   "source": [
    "fruit_info2 = pd.DataFrame(\n",
    "    [(\"red\", \"apple\"), (\"orange\", \"orange\"), (\"yellow\", \"banana\"),\n",
    "     (\"pink\", \"raspberry\")], \n",
    "    columns = [\"color\", \"fruit\"])\n",
    "fruit_info2"
   ]
  },
  {
   "cell_type": "markdown",
   "id": "7e903a27-5761-4af3-bf74-6a4c35c1dd4d",
   "metadata": {
    "deletable": false,
    "editable": false
   },
   "source": [
    "**Question 2.** For a `DataFrame` named `df`, you can add a column with \n",
    "\n",
    "```\n",
    "df['new column name'] = ...\n",
    "``` \n",
    "\n",
    "and assign a list or array of values to the column. Add a column of integers containing 1, 2, 3, and 4 called `rank1` to the `fruit_info` table which expresses your personal preference about the taste ordering for each fruit (1 is tastiest; 4 is least tasty)."
   ]
  },
  {
   "cell_type": "code",
   "execution_count": null,
   "id": "a424df50-a147-4845-a905-9e90f0ea8d12",
   "metadata": {
    "tags": []
   },
   "outputs": [],
   "source": [
    "fruit_info[...] = [...]\n",
    "fruit_info"
   ]
  },
  {
   "cell_type": "code",
   "execution_count": null,
   "id": "eff33f0d",
   "metadata": {
    "deletable": false,
    "editable": false
   },
   "outputs": [],
   "source": [
    "grader.check(\"q2\")"
   ]
  },
  {
   "cell_type": "markdown",
   "id": "c8182a00-4296-41ab-b1e1-44b36e85d2bb",
   "metadata": {},
   "source": [
    "Let's make a copy of the `fruit_info` dataframe named `fruit_info_copy`. Making a copy of a dataframe in Pandas is easy. You can use the copy method of the data frame object.\n",
    "\n",
    "Run the cell below"
   ]
  },
  {
   "cell_type": "code",
   "execution_count": null,
   "id": "5934d790-f5f5-4a73-bd5a-b3342c9a529f",
   "metadata": {},
   "outputs": [],
   "source": [
    "fruit_info_copy = fruit_info.copy()\n",
    "fruit_info_copy"
   ]
  },
  {
   "cell_type": "markdown",
   "id": "7832fab8-d564-4422-b203-0396492fd098",
   "metadata": {},
   "source": [
    "So why would we use `.copy()` instead of reassigning the `fruit_info` dataframe to `fruit_info_copy`? Well, when working with complex code or in a team environment, reassigning dataframes to new names can lead to unintended side effects if someone later modifies the new dataframe and it unintentionally affects the original one. Using `.copy()` makes it explicit that you're creating a separate copy, reducing the risk of such side effects. Also, using `.copy()` makes your code more readable by explicitly indicating that you are creating a copy of the dataframe, which can be especially useful when reviewing code or sharing it with others."
   ]
  },
  {
   "cell_type": "markdown",
   "id": "59f16df3-a241-440c-99c1-2603cfed42a9",
   "metadata": {},
   "source": [
    "We can also add a column to a dataframe that is a `Series`. Remember, a `Series` is a one-dimensional data structure that can hold various types of data, including integers, floats, strings, and more. It is similar to a column in a spreadsheet or a single column of data in a dataframe. Each element in a `Series` has a label called an index, which is used to access elements in the `Series`. \n",
    "\n",
    "**Note:** By default, a `Series` will have integer index labels, starting with 0.\n",
    "\n",
    "Run the cell below to create a series named `rank2`."
   ]
  },
  {
   "cell_type": "code",
   "execution_count": null,
   "id": "39749a11-08b8-4ec8-abe5-8664fe87c7c3",
   "metadata": {},
   "outputs": [],
   "source": [
    "rank2 = pd.Series([4, 3, 2, 1])\n",
    "rank2"
   ]
  },
  {
   "cell_type": "markdown",
   "id": "2eb4bdb4-70f5-4048-9a62-a2758a656f7e",
   "metadata": {},
   "source": [
    "The first column is the index value and the second column are the values.\n",
    "\n",
    "Now, let's add the series to the `fruit_info_copy` dataframe.\n",
    "\n",
    "Run the cell below."
   ]
  },
  {
   "cell_type": "code",
   "execution_count": null,
   "id": "9ffa1df3-7b7a-4c88-a85d-a5b9b7c33021",
   "metadata": {},
   "outputs": [],
   "source": [
    "fruit_info_copy['rank2'] = rank2\n",
    "fruit_info_copy"
   ]
  },
  {
   "cell_type": "markdown",
   "id": "57b6ff28-df49-4eaa-bf06-07beaad9c821",
   "metadata": {
    "deletable": false,
    "editable": false
   },
   "source": [
    "**Question 3.** Use the `.drop` method to [drop](https://pandas.pydata.org/pandas-docs/stable/generated/pandas.DataFrame.drop.html) the `rank2` column that was added to `fruit_info_copy` (make sure to use the `axis` parameter correctly). Save the output to an object named `fruit_info_original`.\n",
    "\n",
    "**Note:** `.drop` does not change a table, but instead returns a new table with fewer columns or rows unless you set the optional `inplace` parameter.\n",
    "\n",
    "**Hint:** Look through the [documentation](https://pandas.pydata.org/docs/reference/api/pandas.DataFrame.drop.html) to see how you can drop a column from a Pandas dataframe or send the following message to ChatGPT $-$ _\"how can a drop a column from a pandas dataframe\"_."
   ]
  },
  {
   "cell_type": "code",
   "execution_count": null,
   "id": "89853755-eee1-45d6-86aa-4e32313016ca",
   "metadata": {
    "tags": []
   },
   "outputs": [],
   "source": [
    "fruit_info_original = ...\n",
    "fruit_info_original"
   ]
  },
  {
   "cell_type": "code",
   "execution_count": null,
   "id": "3158dec9",
   "metadata": {
    "deletable": false,
    "editable": false
   },
   "outputs": [],
   "source": [
    "grader.check(\"q3\")"
   ]
  },
  {
   "cell_type": "markdown",
   "id": "1e645dd6-7c39-4d7d-984d-a2d5185cbe06",
   "metadata": {
    "deletable": false,
    "editable": false
   },
   "source": [
    "**Question 4.** Use the `.rename()` method to [rename](https://pandas.pydata.org/pandas-docs/stable/generated/pandas.DataFrame.rename.html) the columns of `fruit_info_original` so they begin with capital letters. Save this new dataframe to `fruit_info_caps`.\n",
    "\n",
    "**Note:** Feel free to use multiple lines of code."
   ]
  },
  {
   "cell_type": "code",
   "execution_count": null,
   "id": "fb8fcf20-aa1f-4f53-a610-b19b502c16cd",
   "metadata": {
    "tags": []
   },
   "outputs": [],
   "source": [
    "...\n",
    "fruit_info_copy = ...\n",
    "\n",
    "fruit_info_caps"
   ]
  },
  {
   "cell_type": "code",
   "execution_count": null,
   "id": "77c72db2",
   "metadata": {
    "deletable": false,
    "editable": false
   },
   "outputs": [],
   "source": [
    "grader.check(\"q4\")"
   ]
  },
  {
   "cell_type": "markdown",
   "id": "486ef9b6-1a24-4275-9564-f6a64ce64b6f",
   "metadata": {},
   "source": [
    "## Babynames\n",
    "\n",
    "Now that we have learned the basics, let's move on to the `babynames` dataset. The `babynames` dataset contains a record of the given names of babies born in the United States each year.\n",
    "\n",
    "First let's run the following cell to build the dataframe `babynames`. The cell below loads the data into a dataframe. There should be a total of 890627 records."
   ]
  },
  {
   "cell_type": "code",
   "execution_count": null,
   "id": "b558d4b9-9bc4-45c8-b959-ddd916db9d25",
   "metadata": {},
   "outputs": [],
   "source": [
    "babynames = pd.read_csv('data/baby_names.csv', index_col = 0)\n",
    "len(babynames)"
   ]
  },
  {
   "cell_type": "markdown",
   "id": "74aa030c-ced7-41c8-abde-9ae707d30cf5",
   "metadata": {},
   "source": [
    "Next, let's take a look at the first 5 observations."
   ]
  },
  {
   "cell_type": "code",
   "execution_count": null,
   "id": "f660c624-9833-477d-ae97-e3e5fe0742da",
   "metadata": {},
   "outputs": [],
   "source": [
    "babynames.head()"
   ]
  },
  {
   "cell_type": "markdown",
   "id": "9b65b91a-1d54-4533-9b33-836c4f1f6051",
   "metadata": {
    "deletable": false,
    "editable": false
   },
   "source": [
    "<!-- BEGIN QUESTION -->\n",
    "\n",
    "**Question 5.** Based on the output in the previous cell, what do you think each column represents."
   ]
  },
  {
   "cell_type": "markdown",
   "id": "acf1a51a",
   "metadata": {},
   "source": [
    "_Type your answer here, replacing this text._"
   ]
  },
  {
   "cell_type": "markdown",
   "id": "ede6ae47-f8a7-40c7-91ae-b51bc35a4d4b",
   "metadata": {
    "deletable": false,
    "editable": false
   },
   "source": [
    "<!-- END QUESTION -->\n",
    "\n",
    "## Selecting Rows and Columns (Slicing)\n",
    "\n",
    "### Selection Using Label & Index (using `.loc`)\n",
    "\n",
    "#### Column Selection \n",
    "\n",
    "To select a column of a `DataFrame` by column label, the safest and fastest way is to use the `.loc` [method](https://pandas.pydata.org/pandas-docs/stable/generated/pandas.DataFrame.loc.html). General usage of `.loc` looks like `df.loc[rowname, colname]`. (Reminder that the colon `:` means \"everything.\")  For example, if we want the `color` column of the `flowers` data frame, we would use: `flowers.loc[:, 'color']`\n",
    "\n",
    "- You can also slice across columns. For example, `babynames.loc[:, 'Name':]` would select the column `Name` and all columns after `Name`.\n",
    "\n",
    "- **Alternative:** While `.loc` is invaluable when writing production code, it may be a little too verbose for interactive use. One recommended alternative is the `[]` method, which takes on the form `df['colname']`.\n",
    "\n",
    "#### Row Selection\n",
    "\n",
    "Similarly, if we want to select a row by its label, we can use the same `.loc` method. In this case, the \"label\" of each row refers to the index (i.e. primary key) of the dataframe.\n",
    "\n",
    "**Example 1.**"
   ]
  },
  {
   "cell_type": "code",
   "execution_count": null,
   "id": "bbe81d34-1b58-4dfe-b229-f2714b758700",
   "metadata": {},
   "outputs": [],
   "source": [
    "# Select the first 5 values in the babynames dataframe from the Name column\n",
    "# Notice the the range 0:4 starts at the first row (index 0) and includes\n",
    "# the fifth row (index 4).\n",
    "\n",
    "# This command returns a Series.\n",
    "\n",
    "babynames.loc[0:4, 'Name']"
   ]
  },
  {
   "cell_type": "markdown",
   "id": "c8ee7b23-c758-490d-8a33-0265ffb12059",
   "metadata": {},
   "source": [
    "**Example 2.**  \n",
    "\n",
    "Notice the difference between this method and the method in **Example: 1.**\n",
    "\n",
    "Just passing in `'Name'` returns a Series while `['Name']` returns a `Dataframe`."
   ]
  },
  {
   "cell_type": "code",
   "execution_count": null,
   "id": "7d6ec30e-913c-441e-b69a-79d110ebc796",
   "metadata": {},
   "outputs": [],
   "source": [
    "# Select the first 5 values in the babynames dataframe from the Name column\n",
    "# Notice the the range 0:4 starts at the first row (index 0) and includes\n",
    "# the fifth row (index 4).\n",
    "\n",
    "# This command returns a DataFrame.\n",
    "\n",
    "babynames.loc[0:4, ['Name']]"
   ]
  },
  {
   "cell_type": "markdown",
   "id": "35567587-083f-4dd1-86c4-fc79684a813d",
   "metadata": {},
   "source": [
    "**Note:** `.loc` actually uses the Pandas row index rather than row id/position of rows in the dataframe to perform the selection. Also, notice that if you write `0:4` with `.loc[]`, contrary to normal Python slicing functionality, the end index is included, so you get the row with index 4."
   ]
  },
  {
   "cell_type": "markdown",
   "id": "56233278-a5b3-4d18-8244-976642954ab2",
   "metadata": {},
   "source": [
    "### Selection using Integer location (using `.iloc`)\n",
    "\n",
    "Another Pandas feature is `.iloc[]` which lets you slice the dataframe by row position and column position instead of by row index and column label (which is the case for `.loc[]`). This is really the main difference between the two functions and it is **important** that you remember the difference and why you might want to use one over the other. In addition, with `.iloc[]`, the end index is **not** included, like with normal Python slicing.\n",
    "\n",
    "**Note:** As a mnemonic, remember that the i in `.iloc` means \"integer\". \n",
    "\n",
    "Below, we have sorted the `babynames` dataframe. Notice how the **position** of a row is not necessarily equal to the **index** (the values in **bold** in the far left column) of a row. For example, the first row is not necessarily the row associated with index 1. This distinction is important in understanding the different between `.loc[]` and `.iloc[]`.\n",
    "\n",
    "**Example 3.**"
   ]
  },
  {
   "cell_type": "code",
   "execution_count": null,
   "id": "267e75d5-52b5-48ab-a1c0-127c2977aaf3",
   "metadata": {},
   "outputs": [],
   "source": [
    "sorted_babynames = babynames.sort_values(by = ['Name'])\n",
    "sorted_babynames.head()"
   ]
  },
  {
   "cell_type": "markdown",
   "id": "53d9cfa6-a663-4a56-83c8-5e1a6710a97e",
   "metadata": {},
   "source": [
    "**Example 4.** Here is an example of how we would get the 2nd, 3rd, and 4th rows with only the `Name` column of the `baby_names` dataframe using both `.iloc[]` and `.loc[]`. Observe the difference, especially after sorting `babynames` by name."
   ]
  },
  {
   "cell_type": "code",
   "execution_count": null,
   "id": "7c4df12b-e39f-4100-b1aa-63bc50d7457a",
   "metadata": {},
   "outputs": [],
   "source": [
    "sorted_babynames.iloc[1:4, 3]"
   ]
  },
  {
   "cell_type": "markdown",
   "id": "7b1ca2e2-38da-443d-aeb0-66e7b6a3a964",
   "metadata": {},
   "source": [
    "Notice that using `.loc[]` with `1:4` gives different results, since it selects using the **index**."
   ]
  },
  {
   "cell_type": "code",
   "execution_count": null,
   "id": "d50e3c53-76e4-4d71-a713-6c33903425f2",
   "metadata": {},
   "outputs": [],
   "source": [
    "sorted_babynames.loc[1:4, 'Name']"
   ]
  },
  {
   "cell_type": "markdown",
   "id": "656097de-65ed-4ef6-8be3-9613984cea85",
   "metadata": {},
   "source": [
    "**Example 5.** Lastly, we can change the index of a dataframe using the `set_index` method. We change the index from $0,1,2,\\ldots$ to the `Name` column."
   ]
  },
  {
   "cell_type": "code",
   "execution_count": null,
   "id": "05ae59b7-b664-47d0-8bdd-73ff154a0615",
   "metadata": {},
   "outputs": [],
   "source": [
    "babynames_idx = babynames[:5].set_index(\"Name\") \n",
    "babynames_idx"
   ]
  },
  {
   "cell_type": "markdown",
   "id": "a13d51a9-f753-4b24-b805-352627912d53",
   "metadata": {},
   "source": [
    "**Example 6.** However, if we still want to access rows by location we will need to use the integer location (`.iloc`) accessor.\n",
    "\n",
    "**Note:** We can't do this `babynames_idx.loc[:5, 'Year']`, but we can use the integer position."
   ]
  },
  {
   "cell_type": "code",
   "execution_count": null,
   "id": "608458cf-ca61-4af1-9e65-c39d6eaf2145",
   "metadata": {},
   "outputs": [],
   "source": [
    "# Select the first 5 values in the babynames dataframe using row index \n",
    "# values 0, 1, 2, 3, 4 from the Year column with index value 2\n",
    "\n",
    "# This command returns a Series.\n",
    "babynames_idx.iloc[:5, 2]"
   ]
  },
  {
   "cell_type": "markdown",
   "id": "2b59b6b6-610e-445e-986f-198d0806688d",
   "metadata": {},
   "source": [
    "To use the name location we need to use the index values **Mary** and **Willie** and the column name **Year**."
   ]
  },
  {
   "cell_type": "code",
   "execution_count": null,
   "id": "fa91db5d-fd53-45e0-aaa0-7050a40ff714",
   "metadata": {},
   "outputs": [],
   "source": [
    "# Select the first 5 values in the babynames dataframe using row index \n",
    "# values Mary through Willie from the Year column\n",
    "\n",
    "# This command returns a Series.\n",
    "\n",
    "babynames_idx.loc['Mary':'Willie', 'Year']"
   ]
  },
  {
   "cell_type": "markdown",
   "id": "3fee9fcf-f64a-4c3d-956c-cf64771b8fc2",
   "metadata": {
    "deletable": false,
    "editable": false
   },
   "source": [
    "**Question 6.** List only the unique names of the states that are in the `babynames` dataset. Save the states to a **list** named `states`. Do this using the `pandas` `DataFrame` method named `.unique()`. You will need to make sure you know what data type can be used with the `.unique()` method and the data type that gets returned from the `.unique()` method.\n",
    "\n",
    "**Note:** To earn all the points for the question you must do it programmatically. "
   ]
  },
  {
   "cell_type": "code",
   "execution_count": null,
   "id": "ff674eb8-3124-4100-ac89-f7703092bad4",
   "metadata": {
    "tags": []
   },
   "outputs": [],
   "source": [
    "states = ...\n",
    "states"
   ]
  },
  {
   "cell_type": "code",
   "execution_count": null,
   "id": "f7c112a9",
   "metadata": {
    "deletable": false,
    "editable": false
   },
   "outputs": [],
   "source": [
    "grader.check(\"q6\")"
   ]
  },
  {
   "cell_type": "markdown",
   "id": "dee2545a-894d-4f97-ba11-415f710b2c4d",
   "metadata": {
    "deletable": false,
    "editable": false
   },
   "source": [
    "**Question 7.** Selecting multiple columns is easy.  You just need to supply a list of column names.  Use `.loc` to select the `Name` and `Year` **(in that order)** from the `babynames` table. Save this new object to a dataframe called `name_and_year`. For help, you can refer back to the **Examples** from the previous section in this notebook.\n",
    "\n",
    "**Note:** To earn all the points for this question you **must** use the `.loc` method."
   ]
  },
  {
   "cell_type": "code",
   "execution_count": null,
   "id": "c63548bf-cdc6-4711-abbf-5cb4c32e6ed4",
   "metadata": {
    "tags": []
   },
   "outputs": [],
   "source": [
    "name_and_year = ...\n",
    "name_and_year"
   ]
  },
  {
   "cell_type": "code",
   "execution_count": null,
   "id": "e38e2834",
   "metadata": {
    "deletable": false,
    "editable": false
   },
   "outputs": [],
   "source": [
    "grader.check(\"q7\")"
   ]
  },
  {
   "cell_type": "markdown",
   "id": "1909686e-3db1-46b2-a46a-173061ca7ad5",
   "metadata": {},
   "source": [
    "## Filtering Data\n",
    "\n",
    "### Filtering with Boolean arrays\n",
    "\n",
    "Filtering is the process of removing unwanted material.  In your quest for cleaner data, you will undoubtedly filter your data at some point: whether it be for clearing up cases with missing values, for culling out fishy outliers, or for analyzing subgroups of your data set.  Note that compound expressions have to be grouped with parentheses. Example usage looks like \n",
    "\n",
    "```\n",
    "df[df['column name'] < 5]]\n",
    "```\n",
    "\n",
    "where `df` is the name of the dataframe, `column name` is the name of the column, and `< 5` is the comparison statement. Meaning, any value in the column that is larger than 5 will be displayed.\n",
    "\n",
    "\n",
    "For your reference, some commonly used comparison operators are given below.\n",
    "\n",
    "Symbol   | Usage      | Meaning \n",
    "------   | ---------- | -------------------------------------\n",
    "$==$     | a == b     | Does a equal b?\n",
    "$\\lt =$  | a <= b     | Is a less than or equal to b?\n",
    "$\\gt =$  | a >= b     | Is a greater than or equal to b?\n",
    "$\\lt$    | a < b      | Is a less than \n",
    "$\\gt$    | a > b      | Is a greater than b?\n",
    "~        | ~p         | Returns negation of p\n",
    "&#124;   | p &#124; q | p OR q\n",
    "&        | p & q      | p AND q\n",
    "^        | p ^ q      | p XOR q (exclusive or)\n",
    "\n",
    "In the following we construct the DataFrame containing only names registered in North Carolina."
   ]
  },
  {
   "cell_type": "code",
   "execution_count": null,
   "id": "0dd9f6b8-9713-49db-bf70-3fb902b3e5a1",
   "metadata": {},
   "outputs": [],
   "source": [
    "babynames[babynames['State'] == 'NC']"
   ]
  },
  {
   "cell_type": "markdown",
   "id": "85e72d90-8b2c-4336-8cd7-6a64956f54cf",
   "metadata": {},
   "source": [
    "Let's break down each part."
   ]
  },
  {
   "cell_type": "code",
   "execution_count": null,
   "id": "c03b356c-6e6f-4b77-bb0c-077b90da67bf",
   "metadata": {},
   "outputs": [],
   "source": [
    "# This returns a Series\n",
    "\n",
    "babynames['State']"
   ]
  },
  {
   "cell_type": "code",
   "execution_count": null,
   "id": "6c3af6db-3072-4bae-8f55-8b7ff51af7ed",
   "metadata": {},
   "outputs": [],
   "source": [
    "# This returns a Boolean array. Meaning a Series of\n",
    "# True or False values based on whether the value for\n",
    "# the observation (row) is equal to NC\n",
    "\n",
    "babynames['State'] == 'NC'"
   ]
  },
  {
   "cell_type": "code",
   "execution_count": null,
   "id": "fa40fa11-284d-494c-b4c3-47d19ae9847d",
   "metadata": {},
   "outputs": [],
   "source": [
    "# This returns a dataframe where any row that returns \n",
    "# False from the expression babynames['State'] == 'NC'\n",
    "# will be hidden (masked). Only the rows where the \n",
    "# result is True will be displayed.\n",
    "\n",
    "babynames[babynames['State'] == 'NC']"
   ]
  },
  {
   "cell_type": "markdown",
   "id": "073d1c9c-b762-411b-9608-30c1d46ff1ef",
   "metadata": {
    "deletable": false,
    "editable": false
   },
   "source": [
    "<!-- BEGIN QUESTION -->\n",
    "\n",
    "**Question 8.** Write an expression that will filter the `babynames` dataframe and only return the rows for the year you were born."
   ]
  },
  {
   "cell_type": "code",
   "execution_count": null,
   "id": "3615d6f6-4039-49e7-9506-c88a4cff960d",
   "metadata": {
    "tags": []
   },
   "outputs": [],
   "source": [
    "..."
   ]
  },
  {
   "cell_type": "markdown",
   "id": "389ed01a-3fa5-49f9-9f43-4a7e515ee6bd",
   "metadata": {
    "deletable": false,
    "editable": false
   },
   "source": [
    "<!-- END QUESTION -->\n",
    "\n",
    "<!-- BEGIN QUESTION -->\n",
    "\n",
    "**Question 9.** Write 2 questions that you think can be answered by exploring the `babynames` dataframe. What would you need to do to the dataframe (i.e. _\"data move\"_) in order to answer your question.\n",
    "\n",
    "For example, if my question is \"How many male babies named Kanye were born in each year?\", then I would to filter on the name Kanye and on the sec male. If I wanted to know if the name was increasing or decreasing in popularity I could create a line plot and use the year as the $x-$axis and the count and the the $y-$axis.\n",
    "\n",
    "**Note:** To earn all the points for this question you do not need know *all* the details required to complete your data move. If you get stuck ask ChatGPT to explain it to you in plain simple English. If you use ChatGPT make a note of it in your response. "
   ]
  },
  {
   "cell_type": "markdown",
   "id": "87bba6b4",
   "metadata": {},
   "source": [
    "_Type your answer here, replacing this text._"
   ]
  },
  {
   "cell_type": "markdown",
   "id": "11818d59",
   "metadata": {
    "deletable": false,
    "editable": false
   },
   "source": [
    "<!-- END QUESTION -->\n",
    "\n"
   ]
  },
  {
   "cell_type": "markdown",
   "id": "0790c124",
   "metadata": {
    "deletable": false,
    "editable": false
   },
   "source": [
    "## Submission\n",
    "\n",
    "Make sure you have run all cells in your notebook in order before running the cell below, so that all images/graphs appear in the output. The cell below will generate a zip file for you to submit. **Please save before exporting!**\n",
    "\n",
    "When done exporting, download the .zip file by `SHIFT`-clicking on the file name and selecting **Save Link As**. Or, find the .zip file in the left side of the screen and right-click and select **Download**. You'll submit this .zip file for the assignment in Moodle to Gradescope for grading."
   ]
  },
  {
   "cell_type": "code",
   "execution_count": null,
   "id": "f7895f22",
   "metadata": {
    "deletable": false,
    "editable": false
   },
   "outputs": [],
   "source": [
    "# Save your notebook first, then run this cell to export your submission.\n",
    "grader.export(pdf=False)"
   ]
  },
  {
   "cell_type": "markdown",
   "id": "9990bf40",
   "metadata": {},
   "source": [
    " "
   ]
  }
 ],
 "metadata": {
  "kernelspec": {
   "display_name": "DSC201",
   "language": "python",
   "name": "dsc201"
  },
  "language_info": {
   "codemirror_mode": {
    "name": "ipython",
    "version": 3
   },
   "file_extension": ".py",
   "mimetype": "text/x-python",
   "name": "python",
   "nbconvert_exporter": "python",
   "pygments_lexer": "ipython3",
   "version": "3.11.0"
  },
  "otter": {
   "OK_FORMAT": true,
   "tests": {
    "q1": {
     "name": "q1",
     "points": null,
     "suites": [
      {
       "cases": [
        {
         "code": ">>> import sys\n>>> 'pandas' in sys.modules.keys() and 'numpy' in sys.modules.keys()\nTrue",
         "hidden": false,
         "locked": false
        }
       ],
       "scored": true,
       "setup": "",
       "teardown": "",
       "type": "doctest"
      }
     ]
    },
    "q2": {
     "name": "q2",
     "points": null,
     "suites": [
      {
       "cases": [
        {
         "code": ">>> 'rank1' in fruit_info.columns\nTrue",
         "hidden": false,
         "locked": false
        },
        {
         "code": ">>> fruit_info.shape\n(4, 3)",
         "hidden": false,
         "locked": false
        },
        {
         "code": ">>> fruit_info.rank1.sum()\n10",
         "hidden": false,
         "locked": false
        }
       ],
       "scored": true,
       "setup": "",
       "teardown": "",
       "type": "doctest"
      }
     ]
    },
    "q3": {
     "name": "q3",
     "points": null,
     "suites": [
      {
       "cases": [
        {
         "code": ">>> 'rank2' not in fruit_info_original.columns\nTrue",
         "hidden": false,
         "locked": false
        },
        {
         "code": ">>> fruit_info_original.shape\n(4, 3)",
         "hidden": false,
         "locked": false
        }
       ],
       "scored": true,
       "setup": "",
       "teardown": "",
       "type": "doctest"
      }
     ]
    },
    "q4": {
     "name": "q4",
     "points": null,
     "suites": [
      {
       "cases": [
        {
         "code": ">>> 'rank2' not in fruit_info_caps.columns\nTrue",
         "hidden": false,
         "locked": false
        },
        {
         "code": ">>> 'fruit' not in fruit_info_caps.columns and 'color' not in fruit_info_caps.columns and 'rank1' not in fruit_info_caps.columns\nTrue",
         "hidden": false,
         "locked": false
        },
        {
         "code": ">>> 'Fruit' in fruit_info_caps.columns and 'Color' in fruit_info_caps.columns and 'Rank1' in fruit_info_caps.columns\nTrue",
         "hidden": false,
         "locked": false
        }
       ],
       "scored": true,
       "setup": "",
       "teardown": "",
       "type": "doctest"
      }
     ]
    },
    "q6": {
     "name": "q6",
     "points": null,
     "suites": [
      {
       "cases": [
        {
         "code": ">>> isinstance(states, list)\nTrue",
         "hidden": false,
         "locked": false
        },
        {
         "code": ">>> len(states)\n6",
         "hidden": false,
         "locked": false
        }
       ],
       "scored": true,
       "setup": "",
       "teardown": "",
       "type": "doctest"
      }
     ]
    },
    "q7": {
     "name": "q7",
     "points": null,
     "suites": [
      {
       "cases": [
        {
         "code": ">>> isinstance(name_and_year, pd.core.frame.DataFrame)\nTrue",
         "hidden": false,
         "locked": false
        },
        {
         "code": ">>> name_and_year.shape\n(890627, 2)",
         "hidden": false,
         "locked": false
        },
        {
         "code": ">>> 'Name' in name_and_year.columns and 'Year' in name_and_year.columns\nTrue",
         "hidden": false,
         "locked": false
        }
       ],
       "scored": true,
       "setup": "",
       "teardown": "",
       "type": "doctest"
      }
     ]
    }
   }
  }
 },
 "nbformat": 4,
 "nbformat_minor": 5
}
