{
 "cells": [
  {
   "cell_type": "markdown",
   "id": "b252c91c-8643-4540-824d-1bb0b2834ef9",
   "metadata": {},
   "source": [
    "# Assignment 07\n",
    "\n",
    "## Due: See Date in Moodle\n",
    "\n",
    "In this assignment we will get familiar with some basic Python.\n",
    "\n",
    "To earn **full credit** on this assignment, you must complete **all** questions.\n",
    "\n",
    "\n",
    "## This Week's Assignment\n",
    "\n",
    "In this week's assignment,\n",
    "\n",
    "- you will work in groups to summarize a data set with numeric and graphical output. \n",
    "\n",
    "- your analysis will be based on the coffee data set. The data comes from the `CORGIS` github `https://corgis-edu.github.io/corgis/csv/coffee/`.\n",
    " \n",
    "- we omit grader checks on this assignment in light of collaboration."
   ]
  },
  {
   "cell_type": "markdown",
   "id": "f1ea7d60-c699-4c8c-813f-1dda6d17df43",
   "metadata": {},
   "source": [
    "In order to complete the tasks in this assignment you will need to `import` the necessary modules."
   ]
  },
  {
   "cell_type": "markdown",
   "id": "9b5f64ea-9bcd-49cd-b377-8b50c2e59a20",
   "metadata": {},
   "source": [
    "**Question 1.** Import the `Numpy` and `pandas` modules using the appropriate aliasing."
   ]
  },
  {
   "cell_type": "code",
   "execution_count": null,
   "id": "9f235950-c569-4c24-b3cc-096f04cf7852",
   "metadata": {},
   "outputs": [],
   "source": [
    "...\n",
    "..."
   ]
  },
  {
   "cell_type": "markdown",
   "id": "d16f075d-85d6-470b-905b-28ac0ed431fc",
   "metadata": {},
   "source": [
    "**Question 2.** Load the `coffee.csv` file as a `pandas` `DataFrame` named `coffee` and display the first 5 rows.\n",
    "\n",
    "**Note:** The `coffee.csv` file is located in the data directory."
   ]
  },
  {
   "cell_type": "code",
   "execution_count": null,
   "id": "f88b0ba0-3623-4f6a-b169-c23b1c9971a9",
   "metadata": {},
   "outputs": [],
   "source": [
    "coffee = ...\n",
    "..."
   ]
  },
  {
   "cell_type": "markdown",
   "id": "596dbc15-f2a8-4929-95c8-101a61f75c97",
   "metadata": {},
   "source": [
    "We want to do some basic exploratory data analysis on the `coffee` dataset."
   ]
  },
  {
   "cell_type": "markdown",
   "id": "111fc0a7-6a46-4165-b6e8-972a14eb3329",
   "metadata": {},
   "source": [
    "**Question 3.** List the dimensions (i.e. number of rows and columns), column names, number of missing values, data type for each column, etc. \n",
    "\n",
    "**Hint:** There is a dataframe method that will return all this information and more."
   ]
  },
  {
   "cell_type": "code",
   "execution_count": null,
   "id": "594d0546-e7bd-4d08-8edb-77d4551a4f34",
   "metadata": {},
   "outputs": [],
   "source": [
    "..."
   ]
  },
  {
   "cell_type": "markdown",
   "id": "0e7606ee-9a2d-4155-9fef-34986d2c24b4",
   "metadata": {},
   "source": [
    "**Question 4.** Use the text cell below to list the columns that contain numerical data and the columns that contain categorical data?"
   ]
  },
  {
   "cell_type": "markdown",
   "id": "f913a891-3e99-454b-9bf1-0945b78f9c6d",
   "metadata": {},
   "source": [
    "_Type your answer here replacing this text_"
   ]
  },
  {
   "cell_type": "markdown",
   "id": "53c06d31-6d3e-4c1e-ac94-e64aca3fd2ee",
   "metadata": {},
   "source": [
    "**Question 5.** Use the `describe` dataframe method to display the 5 number summary for only the numerical columns."
   ]
  },
  {
   "cell_type": "code",
   "execution_count": null,
   "id": "6f745090-d326-4d19-a111-61b8ab343f41",
   "metadata": {},
   "outputs": [],
   "source": [
    "..."
   ]
  },
  {
   "cell_type": "markdown",
   "id": "99548911-e981-4fdc-9880-ace52d9ea049",
   "metadata": {},
   "source": [
    "Your output from **Question 5** should reveal that the maximum and minimum values for **Location.Altitude.Min** and **Location.Altitude.Min** are the same, while the mean, median, and upper quartile are different. Could this mean there are farms that spread across multiple altitudes. Let's see if we can figure out which farms (if any) have this kind of landscape.\n",
    "\n",
    "The next question will be broken down into 3 parts, **a.**, **b.** and **c.**."
   ]
  },
  {
   "cell_type": "markdown",
   "id": "7a102550-3ebf-4e46-897a-36d97d16a596",
   "metadata": {},
   "source": [
    "**Question 6a.** List the items in the `Location.Altitude.Min` column as a `pandas` `Series` in descending order. Save this to an variable named `max_alt`.\n",
    "\n",
    "**Note:** The code\n",
    "\n",
    "```\n",
    "max_alt.loc[[6, 9, 18]]\n",
    "```\n",
    "\n",
    "is selecting the 6th, 9th and 18th index value from the `Series` that gets returned. Pay close attention to the values."
   ]
  },
  {
   "cell_type": "code",
   "execution_count": null,
   "id": "5a8250d9-4ad3-4a60-88ae-6954f008f39c",
   "metadata": {},
   "outputs": [],
   "source": [
    "max_alt = ...\n",
    "max_alt.loc[[6, 9, 18]]"
   ]
  },
  {
   "cell_type": "markdown",
   "id": "221376c9-23df-4eec-85fb-b1c77f72ad82",
   "metadata": {},
   "source": [
    "**Question 6b.** List the items in the `Location.Altitude.Max` column as a `pandas` `Series` in descending order. Save this to an variable named `min_alt`.\n",
    "\n",
    "**Note:** The code\n",
    "\n",
    "```\n",
    "min_alt.loc[[6, 9, 18]]\n",
    "```\n",
    "\n",
    "is selecting the 6th, 9th and 18th index value from the `Series` that gets returned. Pay close attention to the values."
   ]
  },
  {
   "cell_type": "code",
   "execution_count": null,
   "id": "c2ef115e-6dad-4fc7-b08f-91f3a23976ce",
   "metadata": {},
   "outputs": [],
   "source": [
    "min_alt = ...\n",
    "min_alt.loc[[6, 9, 18]]"
   ]
  },
  {
   "cell_type": "markdown",
   "id": "df3b322d-4fe9-4ad2-9b6e-3f14ea84fc74",
   "metadata": {},
   "source": [
    "**Question 6c.** Use `.loc` to select the 6th, 9th and 18th row from the `coffee` dataframe. Click [here](https://towardsdatascience.com/how-to-use-loc-in-pandas-49ed348a4117) to read an artilce with infomation on how to use `.loc`.\n",
    "\n",
    "**Hint:** You can use the code from **Question 6a** and **Question 6b** as an example."
   ]
  },
  {
   "cell_type": "code",
   "execution_count": null,
   "id": "48919a6e-5aa5-4dfe-9d0a-94b8d0f72f4f",
   "metadata": {},
   "outputs": [],
   "source": [
    "..."
   ]
  },
  {
   "cell_type": "markdown",
   "id": "dd198ab5-0e34-40fc-92b1-7ba752ee4d75",
   "metadata": {},
   "source": [
    "Obviously these are not the only farms that fit this description. Where are the others? Let's keep going.\n",
    "\n",
    "We can compare the contents of two `Series` using the comparison operators. Click [here](https://www.w3schools.com/python/gloss_python_comparison_operators.asp) to review the list of the different comparion operators. "
   ]
  },
  {
   "cell_type": "markdown",
   "id": "01fbe46e-f207-45f6-b881-29a2cfdeeb42",
   "metadata": {},
   "source": [
    "**Question 7.** Use the not equal comparison operator to determine which items in the `max_alt` and `min_alt` `Series` are different. \n",
    "\n",
    "**Hint:** In order to compare the two `Series` the index values will need to be in the same order. To *sort* the index values use the `.sort_index()` function. Click [here](https://www.geeksforgeeks.org/python-pandas-series-sort_index/) then scroll down to **Example #2** to see how it's used. \n",
    "\n",
    "Your output should be a `Series` of boolean values. For example,\n",
    "\n",
    "```\n",
    "0      False\n",
    "1      False\n",
    "2      False\n",
    "3      False\n",
    "4      False\n",
    "       ...  \n",
    "984    False\n",
    "985    False\n",
    "986    False\n",
    "987    False\n",
    "988    False\n",
    "Length: 989, dtype: bool\n",
    "```"
   ]
  },
  {
   "cell_type": "code",
   "execution_count": null,
   "id": "86d208cf-eefc-4a7c-81f6-d3f7a424b5e4",
   "metadata": {},
   "outputs": [],
   "source": [
    "..."
   ]
  },
  {
   "cell_type": "markdown",
   "id": "07091c99-bb2b-4871-aeea-454286e10460",
   "metadata": {},
   "source": [
    "**Question 8.** Use the expression from **Question 7** as a boolean mask to filter the rows so that only the observations where the the `Location.Altitude.Max` and `Location.Altitude.Min` are different. Save this to a `DataFrame` named `df`. \n",
    "\n",
    "How many observations fit this criteria?"
   ]
  },
  {
   "cell_type": "code",
   "execution_count": null,
   "id": "fba6c40f-ea21-4d59-adc0-1b4330964a5a",
   "metadata": {},
   "outputs": [],
   "source": [
    "df = ...\n",
    "..."
   ]
  },
  {
   "cell_type": "markdown",
   "id": "a9fad474-6408-4b5c-b32d-51ded679e4f0",
   "metadata": {},
   "source": [
    "The next question will be broken down into 3 parts, **a.**, **b.** and **c.**."
   ]
  },
  {
   "cell_type": "markdown",
   "id": "188300d2-2ab3-4541-8577-e45940733403",
   "metadata": {},
   "source": [
    "**Question 9a.** Output the unique country locations in the `df` dataframe as a list."
   ]
  },
  {
   "cell_type": "code",
   "execution_count": null,
   "id": "14f16503-3193-4b3e-8cb0-18521364563f",
   "metadata": {},
   "outputs": [],
   "source": [
    "..."
   ]
  },
  {
   "cell_type": "markdown",
   "id": "b568bdd4-ef01-475f-b93e-d96d5ca449fe",
   "metadata": {},
   "source": [
    "**Question 9b.** Choose a country from the output of **Question 9a** and assign the name to the variable `country`. Make sure that the country you choose has at least 20 observations (rows)."
   ]
  },
  {
   "cell_type": "code",
   "execution_count": null,
   "id": "1490b4ba-034f-425f-ac39-55d819f0df87",
   "metadata": {},
   "outputs": [],
   "source": [
    "country = ..."
   ]
  },
  {
   "cell_type": "markdown",
   "id": "cb2d53af-445b-44c3-8a01-0ff11a5b6793",
   "metadata": {},
   "source": [
    "**Question 9c.** Use the varoiable name from **Question 9b** to subset the `coffee` dataframe so that it only contains the observations from the country you chose. Use the [3-letter ISO country code](https://www.nationsonline.org/oneworld/country_code_list.htm) to store the subset dataframe. Display the first five rows of the new dataframe."
   ]
  },
  {
   "cell_type": "code",
   "execution_count": null,
   "id": "a2c344cf-ae3f-48ae-b2a5-7491ff4c97f2",
   "metadata": {},
   "outputs": [],
   "source": [
    "..."
   ]
  },
  {
   "cell_type": "markdown",
   "id": "e10147b6-fc05-463b-ad99-e8cdd660298d",
   "metadata": {},
   "source": [
    "Now let's dig deeper into your country of choice."
   ]
  },
  {
   "cell_type": "markdown",
   "id": "f72ce198-6b24-4b2f-82be-7c41129b9d61",
   "metadata": {},
   "source": [
    "**Question 10.** Choose two numerical columns from your dataframe and calculate the mean and median.\n",
    "\n",
    "**Note:** You may use multiple columns to complete this question. "
   ]
  },
  {
   "cell_type": "code",
   "execution_count": null,
   "id": "1d97d2a4-9171-4e31-94c4-0280ebb9d1d9",
   "metadata": {},
   "outputs": [],
   "source": [
    "..."
   ]
  },
  {
   "cell_type": "code",
   "execution_count": null,
   "id": "f4527833-459f-4b66-8310-372b0d5aab2b",
   "metadata": {},
   "outputs": [],
   "source": [
    "..."
   ]
  },
  {
   "cell_type": "markdown",
   "id": "76206911-f207-4fac-bc34-056e29fd1737",
   "metadata": {},
   "source": [
    "**Question 11.** Choose two categorical columns from your dataframe and count the number of occurances of each label. Only include labels than have more than one occurance. You may return a `Series` or a `DataFrame`.\n",
    "\n",
    "**Note:** You may use multiple columns to complete this question. "
   ]
  },
  {
   "cell_type": "code",
   "execution_count": null,
   "id": "be19e89c-0198-43ce-b722-92d896504e10",
   "metadata": {},
   "outputs": [],
   "source": [
    "..."
   ]
  },
  {
   "cell_type": "code",
   "execution_count": null,
   "id": "8af4ace4-63d0-4e18-b02a-6bd2ce366e93",
   "metadata": {},
   "outputs": [],
   "source": [
    "..."
   ]
  },
  {
   "cell_type": "markdown",
   "id": "034d6b57-97d6-40d9-aae4-21a0cbd1ce9d",
   "metadata": {},
   "source": [
    "## Specialty Coffee\n",
    "\n",
    "The coffee cupping score developed by the Specialty Coffee Association goes from 0 to 100. Coffees scoring 80 points or above earn the the label of specialty coffee. Commercial-grade coffee scores range from 60 to 80."
   ]
  },
  {
   "cell_type": "markdown",
   "id": "60f62967-b663-4be1-939e-072027e907a5",
   "metadata": {},
   "source": [
    "**Question 12.** Save the average aroma and flavor scores from the **full** `coffee` dataset to objects named `aroma_avg` and `flavor_avg`."
   ]
  },
  {
   "cell_type": "code",
   "execution_count": null,
   "id": "f1141f5e-d283-4944-960d-08bd5f0e5415",
   "metadata": {},
   "outputs": [],
   "source": [
    "..."
   ]
  },
  {
   "cell_type": "markdown",
   "id": "dc6ee7f2-ff35-4b33-a239-3212bc50459f",
   "metadata": {},
   "source": [
    "**Question 13.** Subset your dataframe by selecting the observations that have an aroma and flavor score above the mean aroma and flavor score from the **full** `coffee` dataset."
   ]
  },
  {
   "cell_type": "code",
   "execution_count": null,
   "id": "ff9e7b3f-a83d-47cc-a18b-cb4e31c3c872",
   "metadata": {},
   "outputs": [],
   "source": [
    "..."
   ]
  },
  {
   "cell_type": "markdown",
   "id": "b3fb0302-c020-4fa5-b513-47c6dd5e3aa0",
   "metadata": {},
   "source": [
    "**Question 14.** Add a column to your dataframe named `grade` that contains the labels *\"specialty\"* or *\"commercial\"* based on the total score. If the total score is at least 80, then the label should be *\"specialty\"*, otherwise the label should be *\"commercial\"*.\n",
    "\n",
    "**Note:** You do not need to put quotations around the words specialty or commerical."
   ]
  },
  {
   "cell_type": "code",
   "execution_count": null,
   "id": "87bd3311-7ed4-4fb9-bb17-a0edd74abf8c",
   "metadata": {},
   "outputs": [],
   "source": [
    "..."
   ]
  },
  {
   "cell_type": "markdown",
   "id": "235de7c9-a561-4f23-95cd-80a01bffc845",
   "metadata": {},
   "source": [
    "Make sure you have run all cells in your assignment so that all output and images/graphs appear in the output. \n",
    "\n",
    "**Note:** Download the `.ipynb` file by from the Jupyter Hub by **SHIFT**-clicking on the file name and selecting Save Link As. Or, find the `.ipynb` file in the left side of the screen and right-click and select Download. You'll submit this `.ipynb` file for the assignment in Moodle to Gradescope for grading."
   ]
  }
 ],
 "metadata": {
  "kernelspec": {
   "display_name": "DSC295",
   "language": "python",
   "name": "dsc295"
  },
  "language_info": {
   "codemirror_mode": {
    "name": "ipython",
    "version": 3
   },
   "file_extension": ".py",
   "mimetype": "text/x-python",
   "name": "python",
   "nbconvert_exporter": "python",
   "pygments_lexer": "ipython3",
   "version": "3.11.0"
  }
 },
 "nbformat": 4,
 "nbformat_minor": 5
}
