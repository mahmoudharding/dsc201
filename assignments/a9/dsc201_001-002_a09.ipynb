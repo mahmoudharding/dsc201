{
 "cells": [
  {
   "cell_type": "markdown",
   "metadata": {},
   "source": [
    "# Assignment 09\n",
    "\n",
    "## Due: See Date in Moodle\n",
    "\n",
    "To receive a **full credit** for this assignment, you must complete all exercises.\n",
    "\n",
    "## This Week's Assignment\n",
    "\n",
    "In this week's assignment, you'll learn how to:\n",
    "\n",
    "- sample from an `pandas` dataframe.\n",
    "\n",
    "- write a user-defined Python function.\n",
    "\n",
    "### Notes\n",
    "\n",
    "## Guidelines\n",
    "\n",
    "- Follow good programming practices by using descriptive variable names, maintaining appropriate spacing for readability, and adding comments to clarify your code.\n",
    "\n",
    "- Ensure written responses use correct spelling, complete sentences, and proper grammar.\n",
    "\n",
    "**Name:**\n",
    "\n",
    "**Section:**\n",
    "\n",
    "**Date:**\n",
    "\n",
    "Let's get started!"
   ]
  },
  {
   "cell_type": "markdown",
   "metadata": {
    "cell_id": "e500750191f149fdab3fea1fe6b3e94e",
    "deepnote_cell_type": "markdown"
   },
   "source": [
    "## The Bootstrap\n",
    "\n",
    "Bootstrapping is one of the simplest, yet most powerful methods in all of statistics because it allows us to estimate the sampling distribution of a statistic by resampling with replacement from the original data, without making strong assumptions about the underlying population. It provides an easy way to get a sense of what might happen if we could repeat an experiment several times. \n",
    "\n",
    "When we resample *with replacement*, each data point in the original dataset has an equal chance of being selected multiple times or not at all in each new sample. By creating many of these resampled datasets, we can calculate the statistic of interest for each one, generating a distribution of those statistics known as the sampling distribution. This approach is particularly useful when the sample size is small or when the theoretical distribution is unknown. The method is powerful because it turns estimates into distributions that can be used to calculate a range of metrics, including standard errors, confidence intervals, and even $p$-values, helping us better understand the reliability of our results.\n",
    "\n",
    "Below is a video that explains the main ideas behind this computational technique."
   ]
  },
  {
   "cell_type": "code",
   "execution_count": null,
   "metadata": {
    "cell_id": "8abdd11b25b648feb5f9be2d8d5bcf5c",
    "deepnote_cell_type": "code",
    "deepnote_to_be_reexecuted": false,
    "execution_millis": 128,
    "execution_start": 1698258127639,
    "source_hash": null,
    "tags": []
   },
   "outputs": [],
   "source": [
    "from IPython.display import YouTubeVideo\n",
    "\n",
    "# YouTube video ID\n",
    "video_id = 'Xz0x-8-cgaQ'\n",
    "\n",
    "# Embed the YouTube video\n",
    "YouTubeVideo(video_id, width=800, height=400)"
   ]
  },
  {
   "cell_type": "markdown",
   "metadata": {
    "cell_id": "8b3fefbd7af047df8eff92e59f5292b9",
    "deepnote_cell_type": "markdown"
   },
   "source": [
    "Most of the time when you're conducting research, it's impractical to collect data from the entire population. This can be due to budget, time constraints, or other factors. Instead, a subset of the population is taken and insight is gathered from that subset to learn more about the population.\n",
    "\n",
    "Suppose we had data that was the entire population - say all the salaries of the city employees of Raleigh, NC. Before we load the data import the `pandas` module. "
   ]
  },
  {
   "cell_type": "code",
   "execution_count": null,
   "metadata": {
    "tags": []
   },
   "outputs": [],
   "source": [
    "..."
   ]
  },
  {
   "cell_type": "markdown",
   "metadata": {},
   "source": [
    "Run the cell below to load the data."
   ]
  },
  {
   "cell_type": "code",
   "execution_count": null,
   "metadata": {
    "cell_id": "4cd2ff2d734e40fa85d95edb450e8a28",
    "deepnote_cell_type": "code",
    "deepnote_to_be_reexecuted": false,
    "execution_millis": 381,
    "execution_start": 1698258180226,
    "source_hash": null,
    "tags": []
   },
   "outputs": [],
   "source": [
    "raleigh = ..."
   ]
  },
  {
   "cell_type": "markdown",
   "metadata": {
    "cell_id": "4069de9a8be846cfb524c1c0066e0914",
    "deepnote_cell_type": "markdown"
   },
   "source": [
    "## Raleigh City Employees\n",
    "\n",
    "According to indeed.com, the average salary of a City of Raleigh, NC employee ranges from approximately \\\\$39,645 per year for Administrative Technician to \\\\$118,226 per year for Director of Operations. Average City of Raleigh, NC hourly pay ranges from approximately \\\\$18.46 per hour for an Istructor to \\\\$31.62 per hour for System Programmer.\n",
    "\n",
    "_\"Salary information comes from 6,163 data points collected directly from employees, users, and past and present job advertisements on Indeed in the past 36 months._\n",
    "\n",
    "_Please note that all salary figures are approximations based upon third party submissions to Indeed. These figures are given to the Indeed users for the purpose of generalized comparison only. Minimum wage may differ by jurisdiction and you should consult the employer for actual salary figures.\"_ Indeed\n",
    "\n",
    "For information on the positions and related salaries see https://www.indeed.com/cmp/City-of-Raleigh-Nc/salaries.\n",
    "\n",
    "**Note:** Even though this information is public record the names have been removed for this exercise.\n",
    "\n",
    "Let's look at information about the dataset."
   ]
  },
  {
   "cell_type": "markdown",
   "metadata": {},
   "source": [
    "**Question 1.** Use the `.info()` method to access information about the `raleigh` dataframe."
   ]
  },
  {
   "cell_type": "code",
   "execution_count": null,
   "metadata": {
    "cell_id": "96ebe3bb92bc45f894a90fe6da9ecfd4",
    "deepnote_cell_type": "code",
    "deepnote_to_be_reexecuted": false,
    "execution_millis": 195,
    "execution_start": 1698257113663,
    "source_hash": null
   },
   "outputs": [],
   "source": [
    "..."
   ]
  },
  {
   "cell_type": "markdown",
   "metadata": {
    "cell_id": "676275de7119437582aac58d83202a3f",
    "deepnote_cell_type": "markdown"
   },
   "source": [
    "**Question 2.** Give a breif description of each variable and its data type."
   ]
  },
  {
   "cell_type": "markdown",
   "metadata": {
    "cell_id": "c942e077a1a34708912b7a44a1ad7b94",
    "deepnote_cell_type": "markdown"
   },
   "source": [
    "**_CLICK HERE TO ENTER YOUR ANSWER, REPLACING THIS TEXT._**"
   ]
  },
  {
   "cell_type": "markdown",
   "metadata": {
    "cell_id": "23e0ebabe17446f9aef08a7248feda0f",
    "deepnote_cell_type": "markdown"
   },
   "source": [
    "Now let's get more details. \n",
    "\n",
    "**Example 1.** What are the different departments and how many employees does each department have?"
   ]
  },
  {
   "cell_type": "code",
   "execution_count": null,
   "metadata": {
    "cell_id": "5c75dd54514e434e819e9cf45054ea49",
    "deepnote_cell_type": "code",
    "deepnote_to_be_reexecuted": false,
    "execution_millis": 394,
    "execution_start": 1698258878992,
    "source_hash": null,
    "tags": []
   },
   "outputs": [],
   "source": [
    "..."
   ]
  },
  {
   "cell_type": "markdown",
   "metadata": {},
   "source": [
    "**Question 3.** Which department has the most employees? Which department has the least number of employees? Is there a department that has more or less employees than you expected? Which one? Why?"
   ]
  },
  {
   "cell_type": "markdown",
   "metadata": {},
   "source": [
    "**_CLICK HERE TO ENTER YOUR ANSWER, REPLACING THIS TEXT._**"
   ]
  },
  {
   "cell_type": "markdown",
   "metadata": {
    "cell_id": "7568556a993e4dbd9aba818054d619b4",
    "deepnote_cell_type": "markdown"
   },
   "source": [
    "Suppose we wanted to report the mean salary for a typical full-time employee of the City of Raleigh. Since we have all the salaries we can find the population mean. But before we can do that, we need to change the data type in 2 of the columns. The output from the `.info()` method was:\n",
    "\n",
    "```\n",
    "<class 'pandas.core.frame.DataFrame'>\n",
    "RangeIndex: 6163 entries, 0 to 6162\n",
    "Data columns (total 4 columns):\n",
    " #   Column       Non-Null Count  Dtype \n",
    "---  ------       --------------  ----- \n",
    " 0   SALARY       3346 non-null   object\n",
    " 1   HOURLY RATE  2817 non-null   object\n",
    " 2   TITLE        6163 non-null   object\n",
    " 3   DEPARTMENT   6163 non-null   object\n",
    "dtypes: object(4)\n",
    "memory usage: 192.7+ KB\n",
    "```\n",
    "\n",
    "So we need to do some wrangling with the `SALARY` and `HOURLY.RATE` columns to convert the values from `object` to `float64`.\n",
    "\n",
    "## Data Wrangling\n",
    "\n",
    "There are two issues. The first is with the values in the `SALARY` column:\n",
    "\n",
    "- The values are stored as strings.\n",
    "\n",
    "- Some of the salary values are `NaN` (missing).\n",
    "\n",
    "and the other is with the values in the `HOURLY.RATE` column:\n",
    "\n",
    "- Some of the employees are paid per hour, thus their yearly salary is missing.\n",
    "\n",
    "If we want the mean salary we will need to convert the string salary values into numbers, then compute the yearly earnings for an hourly employee.\n",
    "\n",
    "**Example 2.** Remove the dollar sign and comma from one of the `SALARY` values.\n",
    "\n",
    "Run the cell below to see the second observation in the `ral` dataframe for `SALARY`.\n",
    "\n",
    "**Note:** We use the index value `[1]` because Python index values start with 0."
   ]
  },
  {
   "cell_type": "code",
   "execution_count": null,
   "metadata": {
    "tags": []
   },
   "outputs": [],
   "source": [
    "raleigh.SALARY[1]"
   ]
  },
  {
   "cell_type": "markdown",
   "metadata": {},
   "source": [
    "**Example 3.** Use the `.replace` method to remove the `$` and the `,`. \n",
    "\n",
    "**Note:** In Python, the `.replace()` method is used to replace parts of a string with another substring. It is commonly used for basic string replacements.\n",
    "\n",
    "```python\n",
    "str.replace(old, new[, count])\n",
    "```\n",
    "\n",
    "- `old`: The substring you want to replace.\n",
    "\n",
    "- `new`: The substring you want to replace it with.\n",
    "\n",
    "- `count` (optional): The maximum number of occurrences to replace. If omitted, it replaces all occurrences.\n"
   ]
  },
  {
   "cell_type": "code",
   "execution_count": null,
   "metadata": {
    "tags": []
   },
   "outputs": [],
   "source": [
    "..."
   ]
  },
  {
   "cell_type": "markdown",
   "metadata": {},
   "source": [
    "**Example 4.** Use the `float` command to convert the data type of the output from the command in the previous code cell from a string to a number."
   ]
  },
  {
   "cell_type": "code",
   "execution_count": null,
   "metadata": {
    "tags": []
   },
   "outputs": [],
   "source": [
    "..."
   ]
  },
  {
   "cell_type": "markdown",
   "metadata": {},
   "source": [
    "Now that we know how to do one value, we can do this for all the values. To apply this to all the items in the column we can use a user-defined function."
   ]
  },
  {
   "cell_type": "code",
   "execution_count": null,
   "metadata": {
    "tags": []
   },
   "outputs": [],
   "source": [
    "def convert_to_number(currency):\n",
    "    \"\"\"\n",
    "    Convert a currency string to a numerical float value by removing\n",
    "    the dollar sign ('$'), commas, and spaces. \n",
    "\n",
    "    Parameters\n",
    "    ----------\n",
    "    currency (str): The currency string to convert (e.g., \"$1,234.56\").\n",
    "\n",
    "    Returns\n",
    "    -------\n",
    "    float or str: The numerical value if the input is a valid string,\n",
    "                  otherwise returns the original value if it's NaN.\n",
    "    \"\"\"\n",
    "    \n",
    "    ## Check if the input value is not NaN\n",
    "    if pd.notna(currency):\n",
    "        \n",
    "        ## Remove the dollar sign ('$') and commas (',') from the string\n",
    "        result = currency.replace('$', '').replace(',', '')\n",
    "        \n",
    "        ## Convert the cleaned string to a float\n",
    "        result = float(result)\n",
    "        \n",
    "        \n",
    "        ## Return the numerical value\n",
    "        return result\n",
    "    else:\n",
    "        \n",
    "        ## If the value is NaN, return it as-is\n",
    "        return currency"
   ]
  },
  {
   "cell_type": "markdown",
   "metadata": {},
   "source": [
    "Use the `.apply()` method and the `convert_to_number` function to change each value in the `HOURLY.RATE` column from a string to a number. Save the output to an object named `hr` (hourly rate). Display the first 10 results.\n",
    "\n",
    "**Note:** The `.apply()` method from `pandas` is used to apply a function to each element, row, or column of a `pandas` `DataFrame` or `Series`.\n",
    "\n",
    "```python\n",
    "DataFrame.apply(function, axis=0)\n",
    "```\n",
    "\n",
    "- `function`: A function that you want to apply.\n",
    "\n",
    "- `axis` (for `DataFrame` only, optional):\n",
    "\n",
    "    - `axis=0` (default): Apply the function to each column.\n",
    "\n",
    "    - `axis=1`: Apply the function to each row.\n",
    "\n",
    "- For a `Series`, `.apply()` applies the function to each element of the `Series`.\n",
    "\n",
    "- For a `DataFrame`, you can control whether to apply the function to each column or row using the axis parameter."
   ]
  },
  {
   "cell_type": "code",
   "execution_count": null,
   "metadata": {
    "tags": []
   },
   "outputs": [],
   "source": [
    "## Apply the convert_to_number function to each element in the SALARY column\n",
    "## and save the cleaned numerical values to a Series object named 'ys' (yearly salary)\n",
    "ys = raleigh.SALARY.apply(convert_to_number)\n",
    "\n",
    "## Display the first 10 results of the converted values\n",
    "print(ys[:10])"
   ]
  },
  {
   "cell_type": "markdown",
   "metadata": {},
   "source": [
    "**Example 5.** Apply the `convert_to_number` function to each element in the `SALARY` column and save the cleaned numerical values to a `Series` object named `hr` (hourly rate)."
   ]
  },
  {
   "cell_type": "code",
   "execution_count": null,
   "metadata": {
    "tags": []
   },
   "outputs": [],
   "source": [
    "hr = raleigh['HOURLY RATE'].apply(...)\n",
    "hr[:10]"
   ]
  },
  {
   "cell_type": "markdown",
   "metadata": {},
   "source": [
    "**Question 4.** Take the `ys` and `hr` `Series` and combine them into a `DataFrame`nnamed `df`."
   ]
  },
  {
   "cell_type": "code",
   "execution_count": null,
   "metadata": {
    "tags": []
   },
   "outputs": [],
   "source": [
    "df = ...\n",
    "df.head(10)"
   ]
  },
  {
   "cell_type": "markdown",
   "metadata": {},
   "source": [
    "**Question 5.** For the last step we need to compute the yearly salary for an employee that is paid hourly. Here's where you get to make some choices. Assign a value to teach variable `weeks_per_year` and `hours_per_week`. \n",
    "\n",
    "Explain you choices in a comment in the code cell. You can remove the `_______` and the `...` and complete each statement."
   ]
  },
  {
   "cell_type": "code",
   "execution_count": null,
   "metadata": {
    "tags": []
   },
   "outputs": [],
   "source": [
    "## Weeks worked in a year\n",
    "weeks_per_year = ...\n",
    "\n",
    "# I chose ___ weeks because ...\n",
    "\n",
    "# Hours worked in a week\n",
    "hours_per_week = ...\n",
    "\n",
    "# I chose ___ hours because ..."
   ]
  },
  {
   "cell_type": "markdown",
   "metadata": {},
   "source": [
    "Run the cell below to calculate the yearly earnings for an employee who earns \\$18.00 per hour, based on your selected values for `weeks_per_year` and `hours_per_week`.\n",
    "\n",
    "**Note:** This is the first observation in our `df` dataframe."
   ]
  },
  {
   "cell_type": "code",
   "execution_count": null,
   "metadata": {
    "tags": []
   },
   "outputs": [],
   "source": [
    "df.hourly[0] * weeks_per_year * hours_per_week"
   ]
  },
  {
   "cell_type": "markdown",
   "metadata": {},
   "source": [
    "## `.notna()`\n",
    "\n",
    "Some of the employees already have a yearly salary so we don't need to do any calculations. We only need to do this for employees that have a value in the `hr` column. So, if we were saying it out loud, it would go like this:\n",
    "\n",
    "1. We need to check the `hr` to see if there is a value;\n",
    "\n",
    "1. If there is a value, then we need to calculate the yearly earnings;\n",
    "\n",
    "1. To calculate the yearly earnings we can multiply the hourly rate by the number of weeks and the hours per week;\n",
    "\n",
    "1. Finally we nee to do this for all the values in the `hr` column.\n",
    "\n",
    "Thankfully, the `.notna()` method makes it realatively easy to do all of this in one line of Python code. [Click here](https://pandas.pydata.org/docs/reference/api/pandas.Series.notna.html) to read about the `.notna()` `pandas` Series method."
   ]
  },
  {
   "cell_type": "markdown",
   "metadata": {},
   "source": [
    "**Example 6.** Use the `.notna()` method and the `.apply()` method to compute the yearly earnings from the hourly rate."
   ]
  },
  {
   "cell_type": "code",
   "execution_count": null,
   "metadata": {
    "tags": []
   },
   "outputs": [],
   "source": [
    "def calculate_yearly_salary(row):\n",
    "    \"\"\"\n",
    "    Calculate the yearly salary for an employee based on their hourly wage.\n",
    "    \n",
    "    If the hourly column value is not NaN, the function calculates the yearly\n",
    "    salary using the formula: hourly rate * weeks per year * hours per week.\n",
    "    \n",
    "    If the hourly column is NaN, it returns the value in the yearly column instead.\n",
    "    \n",
    "    Parameters\n",
    "    ----------\n",
    "    row (pd.Series): A row from a DataFrame containing the columns 'hourly' and 'yearly'.\n",
    "    \n",
    "    Returns\n",
    "    -------\n",
    "    float: The calculated yearly salary if hourly is provided, or the existing yearly value if not.\n",
    "    \"\"\"\n",
    "    \n",
    "    ## Check if the hourly value is not NaN\n",
    "    if not pd.isna(row.hourly):\n",
    "        \n",
    "        ## Calculate the yearly salary using the provided hourly rate\n",
    "        result = row.hourly * weeks_per_year * hours_per_week\n",
    "        \n",
    "        ## Return the calculated yearly salary\n",
    "        return result \n",
    "    else:\n",
    "        \n",
    "        ## If hourly is NaN, return the existing yearly salary value\n",
    "        return row.yearly"
   ]
  },
  {
   "cell_type": "markdown",
   "metadata": {},
   "source": [
    "Save the output to a Series named `salaries`."
   ]
  },
  {
   "cell_type": "code",
   "execution_count": null,
   "metadata": {
    "tags": []
   },
   "outputs": [],
   "source": [
    "salaries = df.apply(...)\n",
    "salaries[:10]"
   ]
  },
  {
   "cell_type": "markdown",
   "metadata": {
    "cell_id": "47d0459ee0c24a7b8c2568a7abcd1458",
    "deepnote_cell_type": "markdown"
   },
   "source": [
    "Now we can find the mean and medain salary for all City of Raleigh, NC employees."
   ]
  },
  {
   "cell_type": "code",
   "execution_count": null,
   "metadata": {
    "tags": []
   },
   "outputs": [],
   "source": [
    "## Find the median value in the salaries Series\n",
    "median_salary = salaries.median()\n",
    "print('The median salary is', median_salary)\n",
    "\n",
    "## Find the mean value in the salaries Series\n",
    "mean_salary = salaries.mean()\n",
    "print('The mean salary is', mean_salary)\n",
    "\n",
    "## Compute the difference between the mean and the median salary \n",
    "diff = mean_salary - median_salary\n",
    "print('The difference between the mean salary and the median salary is', diff)"
   ]
  },
  {
   "cell_type": "markdown",
   "metadata": {
    "cell_id": "47d0459ee0c24a7b8c2568a7abcd1458",
    "deepnote_cell_type": "markdown"
   },
   "source": [
    "**Question 6.** Interpret the significance of the mean and median salaries within the context of the City of Raleigh data. What might explain the gap of just over `$4,000 between these two measures?"
   ]
  },
  {
   "cell_type": "markdown",
   "metadata": {
    "cell_id": "d16033a98a3840a28ae0d85fb3cb7e65",
    "deepnote_cell_type": "markdown"
   },
   "source": [
    "**_CLICK HERE TO ENTER YOUR ANSWER, REPLACING THIS TEXT._**"
   ]
  },
  {
   "cell_type": "markdown",
   "metadata": {
    "cell_id": "6619cbd637744edb8c9d72f1cc6dd530",
    "deepnote_cell_type": "markdown"
   },
   "source": [
    "# A Sample\n",
    "\n",
    "A random sample is a subset of data or individuals taken from a larger population or dataset in such a way that each member of the population has an equal and independent chance of being included in the sample. The goal of taking a random sample is to ensure that the sample is representative of the entire population, allowing for valid statistical inferences and generalizations to be made about the population as a whole."
   ]
  },
  {
   "cell_type": "markdown",
   "metadata": {
    "cell_id": "5ad6728e4fa04cf0b92dad878d8b2cc7",
    "deepnote_cell_type": "markdown"
   },
   "source": [
    "**Example 7.** Sample one observation from the `salaries` Series.\n",
    "\n",
    "**Note:** The `.sample()` method, by default, samples without replacement. This means that the same element can not be chosen more than once in the random sample. If you want to sample with replacement (each element can only be chosen once), you need to explicitly set the `replace` argument to `True`. "
   ]
  },
  {
   "cell_type": "code",
   "execution_count": null,
   "metadata": {
    "cell_id": "83e6095a30b5424fa797f54eb4cbef20",
    "deepnote_cell_type": "code",
    "deepnote_to_be_reexecuted": false,
    "execution_millis": 227,
    "execution_start": 1698259683108,
    "source_hash": null,
    "tags": []
   },
   "outputs": [],
   "source": [
    "## One sampled observation\n",
    "salaries.sample(n=1, replace=True)"
   ]
  },
  {
   "cell_type": "markdown",
   "metadata": {
    "cell_id": "c87ec86674324ded8c505796549db41e",
    "deepnote_cell_type": "markdown"
   },
   "source": [
    "If we re-run the code cell above, we would most likely get a different value. Try it and see."
   ]
  },
  {
   "cell_type": "code",
   "execution_count": null,
   "metadata": {
    "allow_embed": false,
    "cell_id": "18404927abf141acbf40eedf4455a458",
    "deepnote_cell_type": "code",
    "deepnote_to_be_reexecuted": false,
    "execution_millis": 75,
    "execution_start": 1698259690109,
    "source_hash": null,
    "tags": []
   },
   "outputs": [],
   "source": [
    "## One sampled observation\n",
    "salaries.sample(n=1, replace=True)"
   ]
  },
  {
   "cell_type": "markdown",
   "metadata": {
    "cell_id": "b2bd65e8a5084dc3b2ebbb762c137c29",
    "deepnote_cell_type": "markdown"
   },
   "source": [
    "What we want to do is draw a large enough sample from a population in order to draw conclusions about a population without having to examine every single member of that population. In our activity we have the population, but for the sake of this activity let's pretend that we don't."
   ]
  },
  {
   "cell_type": "markdown",
   "metadata": {},
   "source": [
    "To ensure that your work is reproducible we will set a seed. What does it mean to set a seed?\n",
    "\n",
    "In the context of the python programming language, setting a seed refers to initializing the random number generator with a specific value. This is important when you want to ensure reproducibility in your code, especially when generating random numbers.\n",
    "\n",
    "In python, the random number generator is used in functions that involve randomness, such as sampling or generating random numbers from distributions. When you set a seed, you are essentially starting the random number generator at a specific point, and if you use the same seed again, you should get the same sequence of random numbers.\n",
    "\n",
    "We can use the `random_state` parameter to set the seed to a specific value.\n",
    "\n",
    "In the cell below set the seed for this notebook using 4 digits from either your birthdate, street address, phone number , etc. **Note:** The first digit can not be 0."
   ]
  },
  {
   "cell_type": "code",
   "execution_count": null,
   "metadata": {
    "tags": []
   },
   "outputs": [],
   "source": [
    "seed = ..."
   ]
  },
  {
   "cell_type": "markdown",
   "metadata": {
    "cell_id": "9501ac1747654e12826671d1864c900c",
    "deepnote_cell_type": "markdown"
   },
   "source": [
    "**Example 8.** Sample 500 observations from the `salaries` vector."
   ]
  },
  {
   "cell_type": "code",
   "execution_count": null,
   "metadata": {
    "cell_id": "d77f94d2f814441983d1117a6773f3f6",
    "deepnote_cell_type": "code",
    "deepnote_to_be_reexecuted": false,
    "execution_millis": 15,
    "execution_start": 1698259028588,
    "source_hash": null,
    "tags": []
   },
   "outputs": [],
   "source": [
    "s = 500\n",
    "salaries_sample = salaries.sample(n=s, random_state=seed)"
   ]
  },
  {
   "cell_type": "markdown",
   "metadata": {
    "cell_id": "69920fe365fd4f4fa63251e8d0243672",
    "deepnote_cell_type": "markdown"
   },
   "source": [
    "What is the median annual salary in our sample? Is it the same value as the median salary in the full datasaet?"
   ]
  },
  {
   "cell_type": "code",
   "execution_count": null,
   "metadata": {
    "cell_id": "63e5f76f10da42fcad2adf81788aea97",
    "deepnote_cell_type": "code",
    "deepnote_to_be_reexecuted": false,
    "execution_millis": 71,
    "execution_start": 1698259044101,
    "source_hash": null,
    "tags": []
   },
   "outputs": [],
   "source": [
    "print('The mean salary in our sample of', s, 'is', salaries_sample.mean())\n",
    "print('The mean salary in our population of', len(salaries), 'is', salaries.mean())"
   ]
  },
  {
   "cell_type": "markdown",
   "metadata": {
    "cell_id": "fa9ff0f45dfa4e918b8dab1a172ddd20",
    "deepnote_cell_type": "markdown"
   },
   "source": [
    "**Question 7.** Could we make a statement about the population based off of our sample of 500 observations? Would this be a good idea? Explain."
   ]
  },
  {
   "cell_type": "markdown",
   "metadata": {
    "cell_id": "9bf515b9ddf942ec9324cf8f569af6b5",
    "deepnote_cell_type": "markdown"
   },
   "source": [
    "**_CLICK HERE TO ENTER YOUR ANSWER, REPLACING THIS TEXT._**"
   ]
  },
  {
   "cell_type": "markdown",
   "metadata": {
    "cell_id": "832218ccdd4f4e739ee9f5a8e6226c6d",
    "deepnote_cell_type": "markdown"
   },
   "source": [
    "## A Bootstrap Sample Mean\n",
    "\n",
    "Suppose we take a random sample from our sample (with replacement). Would that give us a better idea of the mean salary for a typical full-time City of Raleigh employee?\n",
    "\n",
    "Let's try!"
   ]
  },
  {
   "cell_type": "markdown",
   "metadata": {
    "cell_id": "9eb17a7b6e9c4d35803bcf1b71da27ea",
    "deepnote_cell_type": "markdown"
   },
   "source": [
    "**Example 9.** Collect one bootstrap sample from the `salaries_sample` Series. Calculate the mean of that sample.\n",
    "\n",
    "**Note:** We do not specify a size because we want the sample size to equal the number of items in the sample (500)."
   ]
  },
  {
   "cell_type": "code",
   "execution_count": null,
   "metadata": {
    "cell_id": "d1d8bb9a7aa94932999243043a832634",
    "deepnote_cell_type": "code",
    "deepnote_to_be_reexecuted": false,
    "execution_millis": 22,
    "execution_start": 1698259712128,
    "source_hash": null,
    "tags": []
   },
   "outputs": [],
   "source": [
    "## Perform a bootstrap sample\n",
    "one_bootstrap_sample = salaries_sample.sample(n=s, replace=...)\n",
    "\n",
    "## Calculate the median of one bootstrap sample\n",
    "print('The mean salary in our bootstrap of', len(salaries_sample), 'is', one_bootstrap_sample.mean())\n",
    "\n",
    "## The median of the population\n",
    "print('The mean salary in our population of', len(salaries), 'is', salaries.mean())"
   ]
  },
  {
   "cell_type": "markdown",
   "metadata": {
    "cell_id": "8310be06171a47dd966c6b801848ddb6",
    "deepnote_cell_type": "markdown"
   },
   "source": [
    "If we did another bootstrap sample and calculated it's mean, do you think we would get the same value?"
   ]
  },
  {
   "cell_type": "markdown",
   "metadata": {
    "cell_id": "2f3329e80dde403bbf4ad421c982e027",
    "deepnote_cell_type": "markdown"
   },
   "source": [
    "**Question 8.** What if we generated an additional 10,000 bootstrap samples and recalculated the mean for each sample? Do you think we would ever get exactly the same mean? Explain your reasoning."
   ]
  },
  {
   "cell_type": "markdown",
   "metadata": {
    "cell_id": "1bd43f9d06dd4d9d81198d4f112b5a23",
    "deepnote_cell_type": "markdown"
   },
   "source": [
    "**_CLICK HERE TO ENTER YOUR ANSWER, REPLACING THIS TEXT._**"
   ]
  },
  {
   "cell_type": "markdown",
   "metadata": {
    "cell_id": "8e1487818bef427d8e9a3c359151c458",
    "deepnote_cell_type": "markdown"
   },
   "source": [
    "## Lots of Bootstrap Sample Means\n",
    "\n",
    "To proceed we will use `NumPy`. Remember, `NumPy` is a numerical computing library for Python. It provides support for large, multi-dimensional arrays and matrices, along with mathematical functions to operate on these arrays. `NumPy` is a fundamental package for scientific computing in Python, and it forms the foundation for many other libraries and tools in the Python data science ecosystem.\n",
    "\n",
    "Complete the code cell below to import `NumPy`."
   ]
  },
  {
   "cell_type": "code",
   "execution_count": null,
   "metadata": {
    "tags": []
   },
   "outputs": [],
   "source": [
    "..."
   ]
  },
  {
   "cell_type": "markdown",
   "metadata": {},
   "source": [
    "**Example 10.** Let's do 10000 bootstrap sample means."
   ]
  },
  {
   "cell_type": "code",
   "execution_count": null,
   "metadata": {
    "cell_id": "bdfe265ac2404d449768a890e8a79a0d",
    "deepnote_cell_type": "code",
    "deepnote_to_be_reexecuted": false,
    "execution_millis": 7546,
    "execution_start": 1698259985211,
    "source_hash": null,
    "tags": []
   },
   "outputs": [],
   "source": [
    "## Initialize an empty NumPy array to store the means of each bootstrap sample\n",
    "bootstrap_sample_means = np.array([])\n",
    "\n",
    "## Loop 10,000 times to generate bootstrap samples and calculate their means\n",
    "for _ in range(10000):\n",
    "    \n",
    "    ## Draw a random sample of size 's' from 'salaries_sample' with replacement\n",
    "    one_bootstrap_sample = salaries_sample.sample(n=s, replace=True)\n",
    "    \n",
    "    ## Calculate the mean of the current bootstrap sample\n",
    "    sample_mean = one_bootstrap_sample.mean()\n",
    "    \n",
    "    ## Append the calculated mean to the 'bootstrap_sample_means' array\n",
    "    bootstrap_sample_means = np.append(bootstrap_sample_means, sample_mean)"
   ]
  },
  {
   "cell_type": "markdown",
   "metadata": {},
   "source": [
    "Load `pyplot` from the `matplotlib` library so we can visualize the distribution of the bootstrap sample means."
   ]
  },
  {
   "cell_type": "code",
   "execution_count": null,
   "metadata": {},
   "outputs": [],
   "source": [
    "..."
   ]
  },
  {
   "cell_type": "markdown",
   "metadata": {
    "cell_id": "2f688f97cc4e4912914f2db7d9e9c72a",
    "deepnote_cell_type": "markdown"
   },
   "source": [
    "**Example 11.** To analyze the distribution (i.e.; frequency and pattern) of our bootstrap means let's visualize our data using a histogram."
   ]
  },
  {
   "cell_type": "code",
   "execution_count": null,
   "metadata": {
    "cell_id": "39174c2f80704615a83c18dc74e2517a",
    "deepnote_cell_type": "code",
    "deepnote_to_be_reexecuted": false,
    "execution_millis": 425,
    "execution_start": 1698260112250,
    "source_hash": null,
    "tags": []
   },
   "outputs": [],
   "source": [
    "# Create a histogram of the bootstrap sample means\n",
    "plt.hist(bootstrap_sample_means, edgecolor='black', linewidth=0.75)\n",
    "plt.xlabel('bootstrap_means')\n",
    "plt.ylabel('Frequency');"
   ]
  },
  {
   "cell_type": "markdown",
   "metadata": {
    "cell_id": "59d974204c8d400f827706f4bdc52d27",
    "deepnote_cell_type": "markdown"
   },
   "source": [
    "Based on the histogram above, do you think the true mean salary (or a value very close to it) appears more frequently than other values?"
   ]
  },
  {
   "cell_type": "markdown",
   "metadata": {
    "cell_id": "01ca83c7f7b849d386afb0c3afbb6751",
    "deepnote_cell_type": "markdown"
   },
   "source": [
    "**Example 12.** Show the location of the mean of all the bootstrap sample means and the true average salary."
   ]
  },
  {
   "cell_type": "code",
   "execution_count": null,
   "metadata": {
    "cell_id": "36ceee9db1f24de68b32504c5c15da47",
    "deepnote_cell_type": "code",
    "deepnote_to_be_reexecuted": false,
    "execution_millis": 309,
    "execution_start": 1698260363150,
    "source_hash": null,
    "tags": []
   },
   "outputs": [],
   "source": [
    "## Create a histogram of the bootstrap sample means\n",
    "plt.hist(bootstrap_sample_means, edgecolor='black', linewidth=0.75)\n",
    "\n",
    "## Plot a red marker for the true average salary\n",
    "plt.plot(salaries.mean(), -55, marker='^', color='red', markersize=10)\n",
    "\n",
    "## Plot a green marker for the mean salary of the bootstrapped means\n",
    "plt.plot(bootstrap_sample_means.mean(), -55, marker='^', color='green', markersize=10)\n",
    "\n",
    "## Add labels\n",
    "plt.xlabel('bootstrap_means')\n",
    "plt.ylabel('Frequency');"
   ]
  },
  {
   "cell_type": "code",
   "execution_count": null,
   "metadata": {
    "tags": []
   },
   "outputs": [],
   "source": [
    "## Calculate the mean of one bootstrap sample distribution\n",
    "print('The mean salary in our bootstrap distribution of', len(bootstrap_sample_means), \n",
    "      'bootstrapped sample means, each with size', len(salaries_sample),\n",
    "      'is', bootstrap_sample_means.mean())\n",
    "\n",
    "## The mean of the population\n",
    "print('The mean salary in our population of', len(salaries), 'is', salaries.mean())"
   ]
  },
  {
   "cell_type": "markdown",
   "metadata": {
    "cell_id": "f8e79a03a49241f8ba2c701d0d03f826",
    "deepnote_cell_type": "markdown"
   },
   "source": [
    "**Question 9.** If we repeated this process, do you think the mean of the bootstrapped sample means would get closer to the true mean salary, or further away? Why do you think that?\n",
    "\n",
    "**Note:** There’s no need to stress about getting the _\"right\"_ answer. I’m more interested in your reasoning and perspective."
   ]
  },
  {
   "cell_type": "markdown",
   "metadata": {
    "cell_id": "8d662d66ac454521a8c99962c497862d",
    "deepnote_cell_type": "markdown"
   },
   "source": [
    "**_CLICK HERE TO ENTER YOUR ANSWER, REPLACING THIS TEXT._**"
   ]
  },
  {
   "cell_type": "markdown",
   "metadata": {
    "cell_id": "01c0c750a3404459ac72fa4831b65979",
    "deepnote_cell_type": "markdown"
   },
   "source": [
    "**Example 13.** Show the location of the mean of all the bootstrap sample means, the true average salary, and a 95% confidence interval."
   ]
  },
  {
   "cell_type": "code",
   "execution_count": null,
   "metadata": {
    "cell_id": "dc00b8c9ee544155934c98d588dfa95d",
    "deepnote_cell_type": "code",
    "deepnote_to_be_reexecuted": false,
    "execution_millis": 441,
    "execution_start": 1698260899662,
    "source_hash": null,
    "tags": []
   },
   "outputs": [],
   "source": [
    "## Get lower and upper bound\n",
    "lower_bound = np.percentile(bootstrap_sample_means, 2.5)\n",
    "upper_bound = np.percentile(bootstrap_sample_means, 97.5)\n",
    "\n",
    "## Create a histogram of the bootstrap sample means\n",
    "plt.hist(bootstrap_sample_means, edgecolor='black', linewidth=0.75)\n",
    "\n",
    "## Plot a 95% confidence interval\n",
    "plt.hlines(25, lower_bound, upper_bound, color='orange', linewidth=5)\n",
    "\n",
    "## Plot a red marker for the true average salary\n",
    "plt.plot(salaries.mean(), -60, marker='^', color='red', markersize=10)\n",
    "\n",
    "## Plot a green marker for the mean salary of the bootstrapped means\n",
    "plt.plot(bootstrap_sample_means.mean(), -60, marker='^', color='green', markersize=10)\n",
    "\n",
    "## Print statements\n",
    "print(\"The 95% confidence interval is (\", round(lower_bound, 2), \",\",round(upper_bound, 2), \")\")\n",
    "print(\"The true mean is \", round(salaries.mean(), 2))\n",
    "print(\"The mean of the bootstrapped samples is\", round(bootstrap_sample_means.mean(), 2))"
   ]
  },
  {
   "cell_type": "markdown",
   "metadata": {
    "cell_id": "e82ce54ef7914c6baec5bd64066725e2",
    "deepnote_cell_type": "markdown"
   },
   "source": [
    "**Example 14.** Show the location of the mean of all the bootstrap sample means, the true average salary, and a 90% confidence interval."
   ]
  },
  {
   "cell_type": "code",
   "execution_count": null,
   "metadata": {
    "cell_id": "585d66a49cc0494c926785838ab4c56f",
    "deepnote_cell_type": "code",
    "deepnote_to_be_reexecuted": false,
    "execution_millis": 354,
    "execution_start": 1698260969353,
    "source_hash": null,
    "tags": []
   },
   "outputs": [],
   "source": [
    "## Get lower and upper bound\n",
    "lower_bound = np.percentile(bootstrap_sample_means, 5)\n",
    "upper_bound = np.percentile(bootstrap_sample_means, 95)\n",
    "\n",
    "## Create a histogram of the bootstrap sample means\n",
    "plt.hist(bootstrap_sample_means, edgecolor='black', linewidth=0.75)\n",
    "\n",
    "## Plot a 90% confidence interval\n",
    "plt.hlines(25, lower_bound, upper_bound, color='orange', linewidth=5)\n",
    "\n",
    "## Plot a red marker for the true average salary\n",
    "plt.plot(salaries.mean(), -60, marker='^', color='red', markersize=10)\n",
    "\n",
    "## Plot a green marker for the mean salary of the bootstrapped means\n",
    "plt.plot(bootstrap_sample_means.mean(), -60, marker='^', color='green', markersize=10)\n",
    "\n",
    "## Print statements\n",
    "print(\"The 90% confidence interval is (\", round(lower_bound, 2), \",\",round(upper_bound, 2), \")\")\n",
    "print(\"The true mean is \", round(salaries.mean(), 2))\n",
    "print(\"The mean of the bootstrapped samples is\", round(bootstrap_sample_means.mean(), 2))"
   ]
  },
  {
   "cell_type": "markdown",
   "metadata": {
    "cell_id": "a61fe1b778ef48b0916f674cab4e1599",
    "deepnote_cell_type": "markdown"
   },
   "source": [
    "**Question 10.** Does the true mean fall within the confidence interval? If not, do you think it would be possible to run a simulation where the true mean does fall inside the confidence interval? Conversely, if it does fall within the interval, do you think we could generate a simulation where it falls outside? Explain your reasoning.\n",
    "\n",
    "**Note:** Don't worry about getting the _\"right\"_ answer. I'm more interested in your thought process and what you think."
   ]
  },
  {
   "cell_type": "markdown",
   "metadata": {
    "cell_id": "ebf56c102b714548bebb56de90e8c663",
    "deepnote_cell_type": "markdown"
   },
   "source": [
    "**_CLICK HERE TO ENTER YOUR ANSWER, REPLACING THIS TEXT._**"
   ]
  }
 ],
 "metadata": {
  "deepnote": {},
  "deepnote_execution_queue": [],
  "deepnote_notebook_id": "7cd9b4a80b764b8db99ffcff730a1b4d",
  "kernelspec": {
   "display_name": "Python 3 (ipykernel)",
   "language": "python",
   "name": "python3"
  },
  "language_info": {
   "codemirror_mode": {
    "name": "ipython",
    "version": 3
   },
   "file_extension": ".py",
   "mimetype": "text/x-python",
   "name": "python",
   "nbconvert_exporter": "python",
   "pygments_lexer": "ipython3",
   "version": "3.10.11"
  }
 },
 "nbformat": 4,
 "nbformat_minor": 4
}
