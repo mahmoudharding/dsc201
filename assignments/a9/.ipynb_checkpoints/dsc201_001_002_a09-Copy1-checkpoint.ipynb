{
 "cells": [
  {
   "cell_type": "markdown",
   "metadata": {},
   "source": [
    "## Assignment 09\n",
    "\n",
    "## Due: See Date in Moodle\n",
    "\n",
    "In this assignment you will use intermediate and advanced techniques in programming.\n",
    "\n",
    "To receive a **full credit** for this assignment, you must complete all exercises.\n",
    "\n",
    "## This Week's Assignment\n",
    "\n",
    "In this week's assignment, you'll learn how to:\n",
    "\n",
    "- process unstructured data.\n",
    "\n",
    "- simulate a real-life sceanrio.\n",
    "\n",
    "Let's get started!"
   ]
  },
  {
   "cell_type": "markdown",
   "metadata": {
    "cell_id": "e500750191f149fdab3fea1fe6b3e94e",
    "deepnote_cell_type": "markdown"
   },
   "source": [
    "**Name:** \n",
    "\n",
    "**Section:** \n",
    "\n",
    "**Date:**"
   ]
  },
  {
   "cell_type": "markdown",
   "metadata": {
    "cell_id": "e500750191f149fdab3fea1fe6b3e94e",
    "deepnote_cell_type": "markdown"
   },
   "source": [
    "## Unstructured Data\n",
    "\n",
    "Unstructured data refers to information that doesn't follow a predefined format or organizational model. Unlike structured data, which fits neatly into rows and columns (like spreadsheets or databases), unstructured data includes things like text, images, audio, video, emails, and social media posts. Because it's not organized in a standardized way, it can be more challenging to search, analyze, and interpret. \n",
    "\n",
    "## School House Rock\n",
    "\n",
    "When I was a kid, I used to love watching the Schoolhouse Rock videos. They were fun, catchy, and helped me learn all kinds of things from grammar and history to math and science, without even realizing it. The songs stuck in my head and made learning feel like play. Now, you’ll get the chance to a few of my favorites.\n",
    "\n",
    "|Title                 | YouTube Video ID     | Filename        |\n",
    "|:---------------------------|:---------------------|:-----------------|\n",
    "| Three is a Magic Number    | J8lRKCw2_Pk        | `three.txt`     |\n",
    "| Verb                       | IrfZCvTe-Ko?si     | `verb.txt`      |\n",
    "| Conjunction Junction       | LjdCFat9rjI        | `conjunction.txt` |\n",
    "| Unpack Your Adjectives     | fNriI8SbRgc        | `adjectives.txt` |\n",
    "| Rufus Xavier Sarsaparilla  | wtxRXndvruk        | `rxs.txt`       |\n"
   ]
  },
  {
   "cell_type": "markdown",
   "metadata": {},
   "source": [
    "**Question 1.** Choose a YouTube Video ID and save it to a character variable named `vid`."
   ]
  },
  {
   "cell_type": "code",
   "execution_count": null,
   "metadata": {},
   "outputs": [],
   "source": []
  },
  {
   "cell_type": "code",
   "execution_count": 128,
   "metadata": {
    "cell_id": "8abdd11b25b648feb5f9be2d8d5bcf5c",
    "deepnote_cell_type": "code",
    "deepnote_to_be_reexecuted": false,
    "execution_millis": 128,
    "execution_start": 1698258127639,
    "source_hash": null
   },
   "outputs": [
    {
     "data": {
      "text/html": [
       "\n",
       "        <iframe\n",
       "            width=\"400\"\n",
       "            height=\"300\"\n",
       "            src=\"https://www.youtube.com/embed/Ellipsis\"\n",
       "            frameborder=\"0\"\n",
       "            allowfullscreen\n",
       "            \n",
       "        ></iframe>\n",
       "        "
      ],
      "text/plain": [
       "<IPython.lib.display.YouTubeVideo at 0x1065ec9d0>"
      ]
     },
     "execution_count": 128,
     "metadata": {},
     "output_type": "execute_result"
    }
   ],
   "source": [
    "from IPython.display import YouTubeVideo\n",
    "\n",
    "# The YouTube video ID\n",
    "vid = ...\n",
    "\n",
    "# Embed the YouTube video\n",
    "YouTubeVideo(vid)"
   ]
  },
  {
   "cell_type": "markdown",
   "metadata": {},
   "source": [
    "**Question 2.** Assign the name of the file that matches your selected video to the variable `filename`."
   ]
  },
  {
   "cell_type": "code",
   "execution_count": 129,
   "metadata": {
    "tags": []
   },
   "outputs": [],
   "source": [
    "filename = 'rxs.txt'"
   ]
  },
  {
   "cell_type": "markdown",
   "metadata": {
    "cell_id": "8b3fefbd7af047df8eff92e59f5292b9",
    "deepnote_cell_type": "markdown"
   },
   "source": [
    "Run the cell below to read the lyrics."
   ]
  },
  {
   "cell_type": "code",
   "execution_count": 130,
   "metadata": {
    "cell_id": "4cd2ff2d734e40fa85d95edb450e8a28",
    "deepnote_cell_type": "code",
    "deepnote_to_be_reexecuted": false,
    "execution_millis": 381,
    "execution_start": 1698258180226,
    "source_hash": null
   },
   "outputs": [
    {
     "name": "stdout",
     "output_type": "stream",
     "text": [
      "Now, I have a friend named Rufus Xavier Sarsaparilla,\n",
      "And I could say that Rufus found a kangaroo\n",
      "That followed Rufus home\n",
      "And now that kangaroo belongs\n",
      "To Rufus Xavier Sarsaparilla.\n",
      "Whew! I could say that, but I don't have to,\n",
      "'Cause I got pronouns,\n",
      "I can say, \"HE found a kangaroo that followed HIM home and now IT is HIS\"\n",
      "You see, (uh) HE, HIM, and HIS are pronouns,\n",
      "Replacing the noun\n",
      "Rufus Xavier Sarsaparilla,\n",
      "A very proper noun.\n",
      "And IT is a pronoun, replacing the noun, kangaroo! (How common!)\n",
      "Now Rufus has a sister named Rafaella Gabriela Sarsaparilla.\n",
      "If she found a kangaroo I'd say to you:\n",
      "\"SHE found a kangaroo that followed HER home, and now it is HERS.\"\n",
      "But I can't say that...\n",
      "'Cause she found an aardvark\n",
      "That fell in love with HER and THEY're so happy.\n",
      "And my name's Albert Andreas Armadillo.\n",
      "(No relation to the Sarsaparillas.)\n",
      "Because of pronouns, I can say:\n",
      "\"I wish SHE would find a rhinoceros for ME, and WE'd be happy.\"\n",
      "You see, a pronoun was made to take the place of a noun,\n",
      "'Cause saying all those nouns over and over\n",
      "Can really wear you down!\n",
      "Now I could tell you Rafaella Gabriela and Rufus Xavier Sarsaparilla and Albert Andreas Armadillo found an aardvark, a kangaroo, and a rhinoceros. And now that aardvark and that kangaroo and that rhinoceros belong respectively to Rafaella Gabriela Sarsaparilla and Rufus Xavier Sarsaparilla and Albert Andreas Armadillo!\n",
      "Whew! Because of pronouns I can say, in this way:\n",
      "\"WE found THEM and THEY found US, and now THEY are OURS and WE're so happy.\" Thank you pronoun!\n",
      "You see a pronoun was made to take the place of a noun,\n",
      "'Cause saying all those nouns over and over\n",
      "Can really wear you down.\n",
      "Sometimes, when we take 'em all on the bus\n",
      "People really raise a fuss.\n",
      "They start shouting out a lot o' pronouns at us, like\n",
      "\"WHO brought that rhinoceros on this bus?\" and\n",
      "\"WHAT made that horrible noise?\" and\n",
      "\"WHICH one of them is getting off first?\"\n",
      "WHO, WHAT, and WHICH are special pronouns that can ask a question\n",
      "In a sentence where you do not know the name of the noun,\n",
      "But I know:\n",
      "I have MINE, and SHE has HERS,\n",
      "and he has his. Do YOU have YOURS?\n",
      "THEY love US, and WE love THEM,\n",
      "WHAT's OURS is THEIRS--\n",
      "That's how it is with friends,\n",
      "And pronouns, you are really friends, yeah!\n",
      "'Cause saying all those nouns over and over\n",
      "Can really wear you down.\n"
     ]
    }
   ],
   "source": [
    "## Open a text file for reading\n",
    "## 'utf-8-sig' automatically removes the BOM character (\\ufeff) if present\n",
    "with open('data/' + filename, encoding = 'utf-8-sig') as file:\n",
    "    \n",
    "    # Read the entire content of the file into a string\n",
    "    f = file.read()\n",
    "\n",
    "## Print the contents of the file\n",
    "print(f)"
   ]
  },
  {
   "cell_type": "markdown",
   "metadata": {
    "cell_id": "4069de9a8be846cfb524c1c0066e0914",
    "deepnote_cell_type": "markdown"
   },
   "source": [
    "**Question 3.** Take a close look at the lyrics output in the above cell. Suppose you want to count how many times each word appears in a piece of text and store that information in a data structure. What data type and structure would you use, and why?\n",
    "\n",
    "Take 3 minutes to discuss your thinking with a neighbor. Then, type your response in the Markdown cell below. Keep it to one paragraph (no more than 300 words), and be sure to mention who you discussed your ideas with.\n",
    "\n",
    "As you respond, consider:\n",
    "\n",
    "- How would you handle capitalization (e.g., \"The\" vs. \"the\")?\n",
    "\n",
    "- What would you do about punctuation attached to words (e.g., \"hello!\" vs. \"hello\")?\n",
    "\n",
    "- Would you want to ignore certain words (like \"and,\" \"the,\" or \"a\")?\n",
    "\n",
    "**Note:** There is no single _\"right\"_ answer. I’m just interested in how you would approach the problem."
   ]
  },
  {
   "cell_type": "markdown",
   "metadata": {},
   "source": [
    "_TYPE YOUR ANSWER HERE REPLACING THIS TEXT_"
   ]
  },
  {
   "cell_type": "markdown",
   "metadata": {},
   "source": [
    "**Example 1.** Split the string f into a list of words using spaces as the delimiter."
   ]
  },
  {
   "cell_type": "code",
   "execution_count": 131,
   "metadata": {
    "tags": []
   },
   "outputs": [
    {
     "name": "stdout",
     "output_type": "stream",
     "text": [
      "['Now,', 'I', 'have', 'a', 'friend', 'named', 'Rufus', 'Xavier', 'Sarsaparilla,', 'And', 'I', 'could', 'say', 'that', 'Rufus', 'found', 'a', 'kangaroo', 'That', 'followed', 'Rufus', 'home', 'And', 'now', 'that', 'kangaroo', 'belongs', 'To', 'Rufus', 'Xavier', 'Sarsaparilla.', 'Whew!', 'I', 'could', 'say', 'that,', 'but', 'I', \"don't\", 'have', 'to,', \"'Cause\", 'I', 'got', 'pronouns,', 'I', 'can', 'say,', '\"HE', 'found', 'a', 'kangaroo', 'that', 'followed', 'HIM', 'home', 'and', 'now', 'IT', 'is', 'HIS\"', 'You', 'see,', '(uh)', 'HE,', 'HIM,', 'and', 'HIS', 'are', 'pronouns,', 'Replacing', 'the', 'noun', 'Rufus', 'Xavier', 'Sarsaparilla,', 'A', 'very', 'proper', 'noun.', 'And', 'IT', 'is', 'a', 'pronoun,', 'replacing', 'the', 'noun,', 'kangaroo!', '(How', 'common!)', 'Now', 'Rufus', 'has', 'a', 'sister', 'named', 'Rafaella', 'Gabriela', 'Sarsaparilla.', 'If', 'she', 'found', 'a', 'kangaroo', \"I'd\", 'say', 'to', 'you:', '\"SHE', 'found', 'a', 'kangaroo', 'that', 'followed', 'HER', 'home,', 'and', 'now', 'it', 'is', 'HERS.\"', 'But', 'I', \"can't\", 'say', 'that...', \"'Cause\", 'she', 'found', 'an', 'aardvark', 'That', 'fell', 'in', 'love', 'with', 'HER', 'and', \"THEY're\", 'so', 'happy.', 'And', 'my', \"name's\", 'Albert', 'Andreas', 'Armadillo.', '(No', 'relation', 'to', 'the', 'Sarsaparillas.)', 'Because', 'of', 'pronouns,', 'I', 'can', 'say:', '\"I', 'wish', 'SHE', 'would', 'find', 'a', 'rhinoceros', 'for', 'ME,', 'and', \"WE'd\", 'be', 'happy.\"', 'You', 'see,', 'a', 'pronoun', 'was', 'made', 'to', 'take', 'the', 'place', 'of', 'a', 'noun,', \"'Cause\", 'saying', 'all', 'those', 'nouns', 'over', 'and', 'over', 'Can', 'really', 'wear', 'you', 'down!', 'Now', 'I', 'could', 'tell', 'you', 'Rafaella', 'Gabriela', 'and', 'Rufus', 'Xavier', 'Sarsaparilla', 'and', 'Albert', 'Andreas', 'Armadillo', 'found', 'an', 'aardvark,', 'a', 'kangaroo,', 'and', 'a', 'rhinoceros.', 'And', 'now', 'that', 'aardvark', 'and', 'that', 'kangaroo', 'and', 'that', 'rhinoceros', 'belong', 'respectively', 'to', 'Rafaella', 'Gabriela', 'Sarsaparilla', 'and', 'Rufus', 'Xavier', 'Sarsaparilla', 'and', 'Albert', 'Andreas', 'Armadillo!', 'Whew!', 'Because', 'of', 'pronouns', 'I', 'can', 'say,', 'in', 'this', 'way:', '\"WE', 'found', 'THEM', 'and', 'THEY', 'found', 'US,', 'and', 'now', 'THEY', 'are', 'OURS', 'and', \"WE're\", 'so', 'happy.\"', 'Thank', 'you', 'pronoun!', 'You', 'see', 'a', 'pronoun', 'was', 'made', 'to', 'take', 'the', 'place', 'of', 'a', 'noun,', \"'Cause\", 'saying', 'all', 'those', 'nouns', 'over', 'and', 'over', 'Can', 'really', 'wear', 'you', 'down.', 'Sometimes,', 'when', 'we', 'take', \"'em\", 'all', 'on', 'the', 'bus', 'People', 'really', 'raise', 'a', 'fuss.', 'They', 'start', 'shouting', 'out', 'a', 'lot', \"o'\", 'pronouns', 'at', 'us,', 'like', '\"WHO', 'brought', 'that', 'rhinoceros', 'on', 'this', 'bus?\"', 'and', '\"WHAT', 'made', 'that', 'horrible', 'noise?\"', 'and', '\"WHICH', 'one', 'of', 'them', 'is', 'getting', 'off', 'first?\"', 'WHO,', 'WHAT,', 'and', 'WHICH', 'are', 'special', 'pronouns', 'that', 'can', 'ask', 'a', 'question', 'In', 'a', 'sentence', 'where', 'you', 'do', 'not', 'know', 'the', 'name', 'of', 'the', 'noun,', 'But', 'I', 'know:', 'I', 'have', 'MINE,', 'and', 'SHE', 'has', 'HERS,', 'and', 'he', 'has', 'his.', 'Do', 'YOU', 'have', 'YOURS?', 'THEY', 'love', 'US,', 'and', 'WE', 'love', 'THEM,', \"WHAT's\", 'OURS', 'is', 'THEIRS--', \"That's\", 'how', 'it', 'is', 'with', 'friends,', 'And', 'pronouns,', 'you', 'are', 'really', 'friends,', 'yeah!', \"'Cause\", 'saying', 'all', 'those', 'nouns', 'over', 'and', 'over', 'Can', 'really', 'wear', 'you', 'down.']\n"
     ]
    }
   ],
   "source": [
    "words = f.split()\n",
    "print(words)"
   ]
  },
  {
   "cell_type": "markdown",
   "metadata": {},
   "source": [
    "**Question 4.** Write a `for` loop that goes through each word in the list words and adds a lowercase version of that word to a new list called `lowercase_words`. After the loop, print the list to check your result."
   ]
  },
  {
   "cell_type": "code",
   "execution_count": 132,
   "metadata": {
    "tags": []
   },
   "outputs": [
    {
     "name": "stdout",
     "output_type": "stream",
     "text": [
      "['now,', 'i', 'have', 'a', 'friend', 'named', 'rufus', 'xavier', 'sarsaparilla,', 'and', 'i', 'could', 'say', 'that', 'rufus', 'found', 'a', 'kangaroo', 'that', 'followed', 'rufus', 'home', 'and', 'now', 'that', 'kangaroo', 'belongs', 'to', 'rufus', 'xavier', 'sarsaparilla.', 'whew!', 'i', 'could', 'say', 'that,', 'but', 'i', \"don't\", 'have', 'to,', \"'cause\", 'i', 'got', 'pronouns,', 'i', 'can', 'say,', '\"he', 'found', 'a', 'kangaroo', 'that', 'followed', 'him', 'home', 'and', 'now', 'it', 'is', 'his\"', 'you', 'see,', '(uh)', 'he,', 'him,', 'and', 'his', 'are', 'pronouns,', 'replacing', 'the', 'noun', 'rufus', 'xavier', 'sarsaparilla,', 'a', 'very', 'proper', 'noun.', 'and', 'it', 'is', 'a', 'pronoun,', 'replacing', 'the', 'noun,', 'kangaroo!', '(how', 'common!)', 'now', 'rufus', 'has', 'a', 'sister', 'named', 'rafaella', 'gabriela', 'sarsaparilla.', 'if', 'she', 'found', 'a', 'kangaroo', \"i'd\", 'say', 'to', 'you:', '\"she', 'found', 'a', 'kangaroo', 'that', 'followed', 'her', 'home,', 'and', 'now', 'it', 'is', 'hers.\"', 'but', 'i', \"can't\", 'say', 'that...', \"'cause\", 'she', 'found', 'an', 'aardvark', 'that', 'fell', 'in', 'love', 'with', 'her', 'and', \"they're\", 'so', 'happy.', 'and', 'my', \"name's\", 'albert', 'andreas', 'armadillo.', '(no', 'relation', 'to', 'the', 'sarsaparillas.)', 'because', 'of', 'pronouns,', 'i', 'can', 'say:', '\"i', 'wish', 'she', 'would', 'find', 'a', 'rhinoceros', 'for', 'me,', 'and', \"we'd\", 'be', 'happy.\"', 'you', 'see,', 'a', 'pronoun', 'was', 'made', 'to', 'take', 'the', 'place', 'of', 'a', 'noun,', \"'cause\", 'saying', 'all', 'those', 'nouns', 'over', 'and', 'over', 'can', 'really', 'wear', 'you', 'down!', 'now', 'i', 'could', 'tell', 'you', 'rafaella', 'gabriela', 'and', 'rufus', 'xavier', 'sarsaparilla', 'and', 'albert', 'andreas', 'armadillo', 'found', 'an', 'aardvark,', 'a', 'kangaroo,', 'and', 'a', 'rhinoceros.', 'and', 'now', 'that', 'aardvark', 'and', 'that', 'kangaroo', 'and', 'that', 'rhinoceros', 'belong', 'respectively', 'to', 'rafaella', 'gabriela', 'sarsaparilla', 'and', 'rufus', 'xavier', 'sarsaparilla', 'and', 'albert', 'andreas', 'armadillo!', 'whew!', 'because', 'of', 'pronouns', 'i', 'can', 'say,', 'in', 'this', 'way:', '\"we', 'found', 'them', 'and', 'they', 'found', 'us,', 'and', 'now', 'they', 'are', 'ours', 'and', \"we're\", 'so', 'happy.\"', 'thank', 'you', 'pronoun!', 'you', 'see', 'a', 'pronoun', 'was', 'made', 'to', 'take', 'the', 'place', 'of', 'a', 'noun,', \"'cause\", 'saying', 'all', 'those', 'nouns', 'over', 'and', 'over', 'can', 'really', 'wear', 'you', 'down.', 'sometimes,', 'when', 'we', 'take', \"'em\", 'all', 'on', 'the', 'bus', 'people', 'really', 'raise', 'a', 'fuss.', 'they', 'start', 'shouting', 'out', 'a', 'lot', \"o'\", 'pronouns', 'at', 'us,', 'like', '\"who', 'brought', 'that', 'rhinoceros', 'on', 'this', 'bus?\"', 'and', '\"what', 'made', 'that', 'horrible', 'noise?\"', 'and', '\"which', 'one', 'of', 'them', 'is', 'getting', 'off', 'first?\"', 'who,', 'what,', 'and', 'which', 'are', 'special', 'pronouns', 'that', 'can', 'ask', 'a', 'question', 'in', 'a', 'sentence', 'where', 'you', 'do', 'not', 'know', 'the', 'name', 'of', 'the', 'noun,', 'but', 'i', 'know:', 'i', 'have', 'mine,', 'and', 'she', 'has', 'hers,', 'and', 'he', 'has', 'his.', 'do', 'you', 'have', 'yours?', 'they', 'love', 'us,', 'and', 'we', 'love', 'them,', \"what's\", 'ours', 'is', 'theirs--', \"that's\", 'how', 'it', 'is', 'with', 'friends,', 'and', 'pronouns,', 'you', 'are', 'really', 'friends,', 'yeah!', \"'cause\", 'saying', 'all', 'those', 'nouns', 'over', 'and', 'over', 'can', 'really', 'wear', 'you', 'down.']\n"
     ]
    }
   ],
   "source": [
    "lowercase_words = []\n",
    "\n",
    "for word in words:\n",
    "    lowercase_words.append(word.lower())\n",
    "    \n",
    "print(lowercase_words)"
   ]
  },
  {
   "cell_type": "markdown",
   "metadata": {},
   "source": [
    "### `string` \n",
    "\n",
    "To remove the punctuation we can import the `string` module. The `string` module in Python provides a collection of constants and utility functions that make it easier to work with text. It includes predefined sets of characters like `string.ascii_letters` (all uppercase and lowercase letters), `string.digits` (0–9), and `string.punctuation` (common punctuation symbols). These are especially helpful when you need to check or filter characters in a string."
   ]
  },
  {
   "cell_type": "code",
   "execution_count": 133,
   "metadata": {
    "tags": []
   },
   "outputs": [],
   "source": [
    "import string"
   ]
  },
  {
   "cell_type": "markdown",
   "metadata": {},
   "source": [
    "**Example 2.** Run the code below. What do you notice?"
   ]
  },
  {
   "cell_type": "code",
   "execution_count": 134,
   "metadata": {
    "tags": []
   },
   "outputs": [
    {
     "data": {
      "text/plain": [
       "'!\"#$%&\\'()*+,-./:;<=>?@[\\\\]^_`{|}~'"
      ]
     },
     "execution_count": 134,
     "metadata": {},
     "output_type": "execute_result"
    }
   ],
   "source": [
    "string.punctuation"
   ]
  },
  {
   "cell_type": "markdown",
   "metadata": {},
   "source": [
    "**Example 3.** Run the code below. What do you notice?"
   ]
  },
  {
   "cell_type": "code",
   "execution_count": 135,
   "metadata": {
    "tags": []
   },
   "outputs": [
    {
     "name": "stdout",
     "output_type": "stream",
     "text": [
      "friend\n",
      "xavier\n",
      "sarsaparilla\n",
      "kangaroo\n",
      "followed\n",
      "kangaroo\n",
      "belongs\n",
      "xavier\n",
      "sarsaparilla\n",
      "pronouns\n",
      "kangaroo\n",
      "followed\n",
      "pronouns\n",
      "replacing\n",
      "xavier\n",
      "sarsaparilla\n",
      "proper\n",
      "pronoun\n",
      "replacing\n",
      "kangaroo\n",
      "common\n",
      "sister\n",
      "rafaella\n",
      "gabriela\n",
      "sarsaparilla\n",
      "kangaroo\n",
      "kangaroo\n",
      "followed\n",
      "aardvark\n",
      "theyre\n",
      "albert\n",
      "andreas\n",
      "armadillo\n",
      "relation\n",
      "sarsaparillas\n",
      "because\n",
      "pronouns\n",
      "rhinoceros\n",
      "pronoun\n",
      "saying\n",
      "really\n",
      "rafaella\n",
      "gabriela\n",
      "xavier\n",
      "sarsaparilla\n",
      "albert\n",
      "andreas\n",
      "armadillo\n",
      "aardvark\n",
      "kangaroo\n",
      "rhinoceros\n",
      "aardvark\n",
      "kangaroo\n",
      "rhinoceros\n",
      "belong\n",
      "respectively\n",
      "rafaella\n",
      "gabriela\n",
      "sarsaparilla\n",
      "xavier\n",
      "sarsaparilla\n",
      "albert\n",
      "andreas\n",
      "armadillo\n",
      "because\n",
      "pronouns\n",
      "pronoun\n",
      "pronoun\n",
      "saying\n",
      "really\n",
      "sometimes\n",
      "people\n",
      "really\n",
      "shouting\n",
      "pronouns\n",
      "brought\n",
      "rhinoceros\n",
      "horrible\n",
      "getting\n",
      "special\n",
      "pronouns\n",
      "question\n",
      "sentence\n",
      "theirs\n",
      "friends\n",
      "pronouns\n",
      "really\n",
      "friends\n",
      "saying\n",
      "really\n"
     ]
    }
   ],
   "source": [
    "for word in words:\n",
    "    clean_word = \"\"\n",
    "    for char in word:\n",
    "        if char not in string.punctuation:\n",
    "            clean_word += char\n",
    "    \n",
    "    if len(clean_word) > 5:\n",
    "        print(clean_word.lower())"
   ]
  },
  {
   "cell_type": "markdown",
   "metadata": {},
   "source": [
    "## Stop Words\n",
    "\n",
    "In the English language, there are many words we use frequently that don’t carry much meaning on their own (e.g., “the,” “is,” “in,” or “with”). In natural language processing (NLP), these are broadly classified as stop words because they don’t add significant insight when analyzing text.\n",
    "\n",
    "**Example 3.** Run the code below."
   ]
  },
  {
   "cell_type": "code",
   "execution_count": 136,
   "metadata": {
    "tags": []
   },
   "outputs": [],
   "source": [
    "stop_words = [\n",
    "    \"the\", \"a\", \"an\", \"is\", \"in\", \"to\", \"it\", \"of\", \"that\", \"this\",\n",
    "    \"was\", \"are\", \"for\", \"with\", \"as\", \"at\", \"on\", \"by\", \"from\", \"be\"\n",
    "]"
   ]
  },
  {
   "cell_type": "markdown",
   "metadata": {},
   "source": [
    "**Question 5.** Come up with five more examples of stop words that are not conjunctions or pronouns? Create a list called `more_stop_words` to store them."
   ]
  },
  {
   "cell_type": "code",
   "execution_count": 137,
   "metadata": {
    "tags": []
   },
   "outputs": [],
   "source": [
    "more_stop_words = [\"about\", \"over\", \"under\", \"through\", \"before\"]"
   ]
  },
  {
   "cell_type": "markdown",
   "metadata": {},
   "source": [
    "**Example 4.** Run the code below. What do you notice?"
   ]
  },
  {
   "cell_type": "code",
   "execution_count": 138,
   "metadata": {
    "tags": []
   },
   "outputs": [
    {
     "name": "stdout",
     "output_type": "stream",
     "text": [
      "The lyrics of rxs.txt with 25 stop words filtered out. \n",
      "\n",
      "the             a               an              is              in             \n",
      "to              it              of              that            this           \n",
      "was             are             for             with            as             \n",
      "at              on              by              from            be             \n",
      "about           over            under           through         before         \n",
      "\n",
      "now\n",
      "i\n",
      "have\n",
      "friend\n",
      "named\n",
      "rufus\n",
      "xavier\n",
      "sarsaparilla\n",
      "and\n",
      "i\n",
      "could\n",
      "say\n",
      "rufus\n",
      "found\n",
      "kangaroo\n",
      "that\n",
      "followed\n",
      "rufus\n",
      "home\n",
      "and\n",
      "now\n",
      "kangaroo\n",
      "belongs\n",
      "to\n",
      "rufus\n",
      "xavier\n",
      "sarsaparilla\n",
      "whew\n",
      "i\n",
      "could\n",
      "say\n",
      "but\n",
      "i\n",
      "dont\n",
      "have\n",
      "cause\n",
      "i\n",
      "got\n",
      "pronouns\n",
      "i\n",
      "can\n",
      "say\n",
      "he\n",
      "found\n",
      "kangaroo\n",
      "followed\n",
      "him\n",
      "home\n",
      "and\n",
      "now\n",
      "it\n",
      "his\n",
      "you\n",
      "see\n",
      "uh\n",
      "he\n",
      "him\n",
      "and\n",
      "his\n",
      "pronouns\n",
      "replacing\n",
      "noun\n",
      "rufus\n",
      "xavier\n",
      "sarsaparilla\n",
      "a\n",
      "very\n",
      "proper\n",
      "noun\n",
      "and\n",
      "it\n",
      "pronoun\n",
      "replacing\n",
      "noun\n",
      "kangaroo\n",
      "how\n",
      "common\n",
      "now\n",
      "rufus\n",
      "has\n",
      "sister\n",
      "named\n",
      "rafaella\n",
      "gabriela\n",
      "sarsaparilla\n",
      "if\n",
      "she\n",
      "found\n",
      "kangaroo\n",
      "id\n",
      "say\n",
      "you\n",
      "she\n",
      "found\n",
      "kangaroo\n",
      "followed\n",
      "her\n",
      "home\n",
      "and\n",
      "now\n",
      "hers\n",
      "but\n",
      "i\n",
      "cant\n",
      "say\n",
      "cause\n",
      "she\n",
      "found\n",
      "aardvark\n",
      "that\n",
      "fell\n",
      "love\n",
      "her\n",
      "and\n",
      "theyre\n",
      "so\n",
      "happy\n",
      "and\n",
      "my\n",
      "names\n",
      "albert\n",
      "andreas\n",
      "armadillo\n",
      "no\n",
      "relation\n",
      "sarsaparillas\n",
      "because\n",
      "pronouns\n",
      "i\n",
      "can\n",
      "say\n",
      "i\n",
      "wish\n",
      "she\n",
      "would\n",
      "find\n",
      "rhinoceros\n",
      "me\n",
      "and\n",
      "wed\n",
      "happy\n",
      "you\n",
      "see\n",
      "pronoun\n",
      "made\n",
      "take\n",
      "place\n",
      "noun\n",
      "cause\n",
      "saying\n",
      "all\n",
      "those\n",
      "nouns\n",
      "and\n",
      "can\n",
      "really\n",
      "wear\n",
      "you\n",
      "down\n",
      "now\n",
      "i\n",
      "could\n",
      "tell\n",
      "you\n",
      "rafaella\n",
      "gabriela\n",
      "and\n",
      "rufus\n",
      "xavier\n",
      "sarsaparilla\n",
      "and\n",
      "albert\n",
      "andreas\n",
      "armadillo\n",
      "found\n",
      "aardvark\n",
      "kangaroo\n",
      "and\n",
      "rhinoceros\n",
      "and\n",
      "now\n",
      "aardvark\n",
      "and\n",
      "kangaroo\n",
      "and\n",
      "rhinoceros\n",
      "belong\n",
      "respectively\n",
      "rafaella\n",
      "gabriela\n",
      "sarsaparilla\n",
      "and\n",
      "rufus\n",
      "xavier\n",
      "sarsaparilla\n",
      "and\n",
      "albert\n",
      "andreas\n",
      "armadillo\n",
      "whew\n",
      "because\n",
      "pronouns\n",
      "i\n",
      "can\n",
      "say\n",
      "way\n",
      "we\n",
      "found\n",
      "them\n",
      "and\n",
      "they\n",
      "found\n",
      "us\n",
      "and\n",
      "now\n",
      "they\n",
      "ours\n",
      "and\n",
      "were\n",
      "so\n",
      "happy\n",
      "thank\n",
      "you\n",
      "pronoun\n",
      "you\n",
      "see\n",
      "pronoun\n",
      "made\n",
      "take\n",
      "place\n",
      "noun\n",
      "cause\n",
      "saying\n",
      "all\n",
      "those\n",
      "nouns\n",
      "and\n",
      "can\n",
      "really\n",
      "wear\n",
      "you\n",
      "down\n",
      "sometimes\n",
      "when\n",
      "we\n",
      "take\n",
      "em\n",
      "all\n",
      "bus\n",
      "people\n",
      "really\n",
      "raise\n",
      "fuss\n",
      "they\n",
      "start\n",
      "shouting\n",
      "out\n",
      "lot\n",
      "o\n",
      "pronouns\n",
      "us\n",
      "like\n",
      "who\n",
      "brought\n",
      "rhinoceros\n",
      "bus\n",
      "and\n",
      "what\n",
      "made\n",
      "horrible\n",
      "noise\n",
      "and\n",
      "which\n",
      "one\n",
      "them\n",
      "getting\n",
      "off\n",
      "first\n",
      "who\n",
      "what\n",
      "and\n",
      "which\n",
      "special\n",
      "pronouns\n",
      "can\n",
      "ask\n",
      "question\n",
      "in\n",
      "sentence\n",
      "where\n",
      "you\n",
      "do\n",
      "not\n",
      "know\n",
      "name\n",
      "noun\n",
      "but\n",
      "i\n",
      "know\n",
      "i\n",
      "have\n",
      "mine\n",
      "and\n",
      "she\n",
      "has\n",
      "hers\n",
      "and\n",
      "he\n",
      "has\n",
      "his\n",
      "do\n",
      "you\n",
      "have\n",
      "yours\n",
      "they\n",
      "love\n",
      "us\n",
      "and\n",
      "we\n",
      "love\n",
      "them\n",
      "whats\n",
      "ours\n",
      "theirs\n",
      "thats\n",
      "how\n",
      "friends\n",
      "and\n",
      "pronouns\n",
      "you\n",
      "really\n",
      "friends\n",
      "yeah\n",
      "cause\n",
      "saying\n",
      "all\n",
      "those\n",
      "nouns\n",
      "and\n",
      "can\n",
      "really\n",
      "wear\n",
      "you\n",
      "down\n"
     ]
    }
   ],
   "source": [
    "if len(stop_words) == 20:\n",
    "    stop_words.extend(more_stop_words)\n",
    "\n",
    "print(f\"The lyrics of {filename} with {len(stop_words)} stop words filtered out. \\n\")\n",
    "for i in range(0, len(stop_words), 5):\n",
    "    row = stop_words[i:i+5]\n",
    "    print(\"{:<15} {:<15} {:<15} {:<15} {:<15}\".format(*row, *[\"\"]*(5-len(row))))\n",
    "\n",
    "print()\n",
    "\n",
    "for word in words:\n",
    "    clean_word = \"\"\n",
    "    for char in word:\n",
    "        if char not in string.punctuation:\n",
    "            clean_word += char\n",
    "    \n",
    "    if len(clean_word.lower()) != 0 and clean_word not in stop_words:\n",
    "        print(clean_word.lower())"
   ]
  },
  {
   "cell_type": "markdown",
   "metadata": {},
   "source": [
    "Now we need a data structure to store the words. Ideally, we want to be able to look up each word by its name and see how many times it appears. This kind of task is a perfect fit for a Python dictionary."
   ]
  },
  {
   "cell_type": "markdown",
   "metadata": {},
   "source": [
    "**Example 5.** Run the code below. What do you notice?"
   ]
  },
  {
   "cell_type": "code",
   "execution_count": 139,
   "metadata": {
    "tags": []
   },
   "outputs": [],
   "source": [
    "word_counts = {}\n",
    "\n",
    "for word in words:\n",
    "    clean_word = ''.join(char for char in word if char not in string.punctuation).lower()\n",
    "    \n",
    "    if clean_word and clean_word not in stop_words:\n",
    "        if clean_word in word_counts:\n",
    "            word_counts[clean_word] += 1\n",
    "        else:\n",
    "            word_counts[clean_word] = 1"
   ]
  },
  {
   "cell_type": "code",
   "execution_count": 140,
   "metadata": {
    "tags": []
   },
   "outputs": [
    {
     "data": {
      "text/plain": [
       "{'now': 8,\n",
       " 'i': 13,\n",
       " 'have': 4,\n",
       " 'friend': 1,\n",
       " 'named': 2,\n",
       " 'rufus': 8,\n",
       " 'xavier': 5,\n",
       " 'sarsaparilla': 7,\n",
       " 'and': 30,\n",
       " 'could': 3,\n",
       " 'say': 7,\n",
       " 'found': 8,\n",
       " 'kangaroo': 8,\n",
       " 'followed': 3,\n",
       " 'home': 3,\n",
       " 'belongs': 1,\n",
       " 'whew': 2,\n",
       " 'but': 3,\n",
       " 'dont': 1,\n",
       " 'cause': 5,\n",
       " 'got': 1,\n",
       " 'pronouns': 7,\n",
       " 'can': 7,\n",
       " 'he': 3,\n",
       " 'him': 2,\n",
       " 'his': 3,\n",
       " 'you': 12,\n",
       " 'see': 3,\n",
       " 'uh': 1,\n",
       " 'replacing': 2,\n",
       " 'noun': 6,\n",
       " 'very': 1,\n",
       " 'proper': 1,\n",
       " 'pronoun': 4,\n",
       " 'how': 2,\n",
       " 'common': 1,\n",
       " 'has': 3,\n",
       " 'sister': 1,\n",
       " 'rafaella': 3,\n",
       " 'gabriela': 3,\n",
       " 'if': 1,\n",
       " 'she': 5,\n",
       " 'id': 1,\n",
       " 'her': 2,\n",
       " 'hers': 2,\n",
       " 'cant': 1,\n",
       " 'aardvark': 3,\n",
       " 'fell': 1,\n",
       " 'love': 3,\n",
       " 'theyre': 1,\n",
       " 'so': 2,\n",
       " 'happy': 3,\n",
       " 'my': 1,\n",
       " 'names': 1,\n",
       " 'albert': 3,\n",
       " 'andreas': 3,\n",
       " 'armadillo': 3,\n",
       " 'no': 1,\n",
       " 'relation': 1,\n",
       " 'sarsaparillas': 1,\n",
       " 'because': 2,\n",
       " 'wish': 1,\n",
       " 'would': 1,\n",
       " 'find': 1,\n",
       " 'rhinoceros': 4,\n",
       " 'me': 1,\n",
       " 'wed': 1,\n",
       " 'made': 3,\n",
       " 'take': 3,\n",
       " 'place': 2,\n",
       " 'saying': 3,\n",
       " 'all': 4,\n",
       " 'those': 3,\n",
       " 'nouns': 3,\n",
       " 'really': 5,\n",
       " 'wear': 3,\n",
       " 'down': 3,\n",
       " 'tell': 1,\n",
       " 'belong': 1,\n",
       " 'respectively': 1,\n",
       " 'way': 1,\n",
       " 'we': 3,\n",
       " 'them': 3,\n",
       " 'they': 4,\n",
       " 'us': 3,\n",
       " 'ours': 2,\n",
       " 'were': 1,\n",
       " 'thank': 1,\n",
       " 'sometimes': 1,\n",
       " 'when': 1,\n",
       " 'em': 1,\n",
       " 'bus': 2,\n",
       " 'people': 1,\n",
       " 'raise': 1,\n",
       " 'fuss': 1,\n",
       " 'start': 1,\n",
       " 'shouting': 1,\n",
       " 'out': 1,\n",
       " 'lot': 1,\n",
       " 'o': 1,\n",
       " 'like': 1,\n",
       " 'who': 2,\n",
       " 'brought': 1,\n",
       " 'what': 2,\n",
       " 'horrible': 1,\n",
       " 'noise': 1,\n",
       " 'which': 2,\n",
       " 'one': 1,\n",
       " 'getting': 1,\n",
       " 'off': 1,\n",
       " 'first': 1,\n",
       " 'special': 1,\n",
       " 'ask': 1,\n",
       " 'question': 1,\n",
       " 'sentence': 1,\n",
       " 'where': 1,\n",
       " 'do': 2,\n",
       " 'not': 1,\n",
       " 'know': 2,\n",
       " 'name': 1,\n",
       " 'mine': 1,\n",
       " 'yours': 1,\n",
       " 'whats': 1,\n",
       " 'theirs': 1,\n",
       " 'thats': 1,\n",
       " 'friends': 2,\n",
       " 'yeah': 1}"
      ]
     },
     "execution_count": 140,
     "metadata": {},
     "output_type": "execute_result"
    }
   ],
   "source": [
    "word_counts"
   ]
  },
  {
   "cell_type": "markdown",
   "metadata": {},
   "source": [
    "**Question 5.** Set a value for the variable `threshold`."
   ]
  },
  {
   "cell_type": "code",
   "execution_count": 141,
   "metadata": {
    "tags": []
   },
   "outputs": [],
   "source": [
    "threshold = 5"
   ]
  },
  {
   "cell_type": "markdown",
   "metadata": {},
   "source": [
    "**Question 6.** What do you think the variable `threshold` controls in the code?\n",
    "\n",
    "```python\n",
    "def get_count(item):\n",
    "    return item[1]\n",
    "\n",
    "sorted_word_counts = sorted(word_counts.items(), key = get_count, reverse = True)\n",
    "\n",
    "for word, count in sorted_word_counts:\n",
    "    if count >= threshold:\n",
    "        print(f\"{word}: {count}\")\n",
    "```"
   ]
  },
  {
   "cell_type": "markdown",
   "metadata": {
    "tags": []
   },
   "source": [
    "_TYPE YOUR ANSWER HERE REPLACING THIS TEXT_"
   ]
  },
  {
   "cell_type": "markdown",
   "metadata": {},
   "source": [
    "**Example 6.** Run the code below. What do you notice?"
   ]
  },
  {
   "cell_type": "code",
   "execution_count": 142,
   "metadata": {
    "tags": []
   },
   "outputs": [
    {
     "name": "stdout",
     "output_type": "stream",
     "text": [
      "and: 30\n",
      "i: 13\n",
      "you: 12\n",
      "now: 8\n",
      "rufus: 8\n",
      "found: 8\n",
      "kangaroo: 8\n",
      "sarsaparilla: 7\n",
      "say: 7\n",
      "pronouns: 7\n",
      "can: 7\n",
      "noun: 6\n",
      "xavier: 5\n",
      "cause: 5\n",
      "she: 5\n",
      "really: 5\n"
     ]
    }
   ],
   "source": [
    "def get_count(item):\n",
    "    return item[1]\n",
    "\n",
    "sorted_word_counts = sorted(word_counts.items(), key = get_count, reverse = True)\n",
    "\n",
    "for word, count in sorted_word_counts:\n",
    "    if count >= threshold:\n",
    "        print(f\"{word}: {count}\")"
   ]
  },
  {
   "cell_type": "markdown",
   "metadata": {},
   "source": [
    "We’ve done some basic text processing to explore patterns in the lyrics, like cleaning up the words and counting how often they appear. This gives us an idea of how we can start to find insights in text, even with simple techniques, though more advanced approaches can take the analysis even further."
   ]
  },
  {
   "cell_type": "markdown",
   "metadata": {},
   "source": [
    "## Was the announcer correct?\n",
    "\n",
    "During the 2023-2024 season, the Golden State Warriors faced the Oklahoma City Thunder in a regular season game. With 8.4 seconds left, the Thunder, trailing 115 to 118, were inbounding the ball on their end of the court. The common strategy in such situations, when leading by 3 points, is to foul the player before they attempt a shot, ideally forcing only two free throws instead of a potential three-point attempt. This approach minimizes the risk of the opposing team tying the game.\n",
    "\n",
    "However, Draymond Green of the Warriors fouled Chet Holmgren, an 86.5% free throw shooter for the Thunder, \"in the act of shooting\" from beyond the three-point line. This sent Holmgren to the line with 7.7 seconds remaining, giving him the chance to tie the game.\n",
    "\n",
    "[At 1:45 in the video](https://youtu.be/fsgScuAH4NI?feature=shared), the announcer notes, **_\"In case you're wondering, .86 times .86 times .86 is 63 percent.\"_**"
   ]
  },
  {
   "cell_type": "markdown",
   "metadata": {},
   "source": [
    "**Question 7.** Why do you think the announcer pointed this out?"
   ]
  },
  {
   "cell_type": "markdown",
   "metadata": {},
   "source": [
    "_TYPE YOUR ANSWER HERE REPLACING THIS TEXT_"
   ]
  },
  {
   "cell_type": "markdown",
   "metadata": {},
   "source": [
    "## Simulating a Probability Distribution \n",
    "\n",
    "A probability distribution describes how probabilities are assigned to each possible outcome in a random process, such as rolling a die or flipping a coin. It essentially shows the likelihood of each outcome occurring in an experiment or process.\n",
    "\n",
    "Shooting a free throw is a random process, so we can simulate whether Chet would successfully make all three free throws.\n",
    "\n",
    "**Question 8.** Since Chet has an 86.5% free throw success rate, we need to decide whether he would make 86 or 87 out of 100 free throws. Choose either 86 or 87 and assign it to the variable `make`."
   ]
  },
  {
   "cell_type": "code",
   "execution_count": 143,
   "metadata": {
    "tags": []
   },
   "outputs": [],
   "source": [
    "make = 86"
   ]
  },
  {
   "cell_type": "markdown",
   "metadata": {},
   "source": [
    "Run the code below to create a list with either 86 or 87 `1`s (representing successful free throws) and 14 or 13 `0`s (representing missed free throws)."
   ]
  },
  {
   "cell_type": "code",
   "execution_count": 144,
   "metadata": {
    "tags": []
   },
   "outputs": [
    {
     "name": "stdout",
     "output_type": "stream",
     "text": [
      "[1, 1, 1, 1, 1, 1, 1, 1, 1, 1, 1, 1, 1, 1, 1, 1, 1, 1, 1, 1, 1, 1, 1, 1, 1, 1, 1, 1, 1, 1, 1, 1, 1, 1, 1, 1, 1, 1, 1, 1, 1, 1, 1, 1, 1, 1, 1, 1, 1, 1, 1, 1, 1, 1, 1, 1, 1, 1, 1, 1, 1, 1, 1, 1, 1, 1, 1, 1, 1, 1, 1, 1, 1, 1, 1, 1, 1, 1, 1, 1, 1, 1, 1, 1, 1, 1, 1, 0, 0, 0, 0, 0, 0, 0, 0, 0, 0, 0, 0, 0, 0]\n"
     ]
    }
   ],
   "source": [
    "ft = [1] * 87 + [0] * (100 - make)\n",
    "print(ft)"
   ]
  },
  {
   "cell_type": "markdown",
   "metadata": {},
   "source": [
    "We can use the `ft` list to randomly draw three values, simulating Chet taking three free throws. For each trial, we tally the number of successful shots (makes). We then store the result from each trial in a list, repeating this process across multiple trials. Finally, we can visualize the distribution of successful shots and calculate the proportion of times Chet made all three free throws.\n",
    "\n",
    "To do this we can use the `random` module. The `random` module in Python provides tools for generating random numbers and performing random operations. It allows you to simulate randomness in your programs like selecting random items from a list, shuffling data, or generating random integers or floating-point numbers. It's useful for simulations, games, sampling, and basic probability experiments.\n",
    "\n",
    "The `choices()` function from the `random` module is used to randomly select multiple items from a list, with replacement.\n",
    "\n",
    "**Question 9.** Import the `random` module."
   ]
  },
  {
   "cell_type": "code",
   "execution_count": 145,
   "metadata": {
    "tags": []
   },
   "outputs": [],
   "source": [
    "import random"
   ]
  },
  {
   "cell_type": "code",
   "execution_count": 146,
   "metadata": {
    "tags": []
   },
   "outputs": [],
   "source": [
    "def sim_fts(p = ft, trials = 10):\n",
    "    results = []\n",
    "\n",
    "    for _ in range(trials):\n",
    "        shots = random.choices(p, k = 3)\n",
    "        results.append(sum(shots))\n",
    "    \n",
    "    return results"
   ]
  },
  {
   "cell_type": "markdown",
   "metadata": {},
   "source": [
    "**Example 7.** Run the code below. What do you notice?"
   ]
  },
  {
   "cell_type": "code",
   "execution_count": 147,
   "metadata": {
    "tags": []
   },
   "outputs": [
    {
     "data": {
      "text/plain": [
       "[3, 3, 3, 2, 2, 3, 2, 3, 3, 3]"
      ]
     },
     "execution_count": 147,
     "metadata": {},
     "output_type": "execute_result"
    }
   ],
   "source": [
    "sim_fts()"
   ]
  },
  {
   "cell_type": "markdown",
   "metadata": {},
   "source": [
    "**Example 8.** Run the code below. What do you notice?"
   ]
  },
  {
   "cell_type": "code",
   "execution_count": 148,
   "metadata": {
    "tags": []
   },
   "outputs": [],
   "source": [
    "def print_proportions(outcomes):\n",
    "    total = len(outcomes)\n",
    "    prop_0 = round(outcomes.count(0) / total, 2)\n",
    "    prop_1 = round(outcomes.count(1) / total, 2)\n",
    "    prop_2 = round(outcomes.count(2) / total, 2)\n",
    "    prop_3 = round(1 - (prop_0 + prop_1 + prop_2), 2)\n",
    "\n",
    "    print(f\"The proportion of trials with 0 made free throws is {prop_0}\")\n",
    "    print(f\"The proportion of trials with 1 made free throw  is {prop_1}\")\n",
    "    print(f\"The proportion of trials with 2 made free throws is {prop_2}\")\n",
    "    print(f\"The proportion of trials with 3 made free throws is {prop_3}\")"
   ]
  },
  {
   "cell_type": "markdown",
   "metadata": {},
   "source": [
    "**Example 9.** Run the code below. What do you notice?"
   ]
  },
  {
   "cell_type": "code",
   "execution_count": 149,
   "metadata": {
    "tags": []
   },
   "outputs": [
    {
     "name": "stdout",
     "output_type": "stream",
     "text": [
      "The proportion of trials with 0 made free throws is 0.0\n",
      "The proportion of trials with 1 made free throw  is 0.0\n",
      "The proportion of trials with 2 made free throws is 0.4\n",
      "The proportion of trials with 3 made free throws is 0.6\n"
     ]
    }
   ],
   "source": [
    "n = sim_fts()\n",
    "print_proportions(n)"
   ]
  },
  {
   "cell_type": "markdown",
   "metadata": {},
   "source": [
    "**Question 10.** Update your simulation by increasing the number of trials to 10,000. Then, print the resulting proportions.\n",
    "How do these results compare to those from Example 9? If they are different, in what way? Why do you think that happened?"
   ]
  },
  {
   "cell_type": "code",
   "execution_count": 150,
   "metadata": {
    "tags": []
   },
   "outputs": [
    {
     "name": "stdout",
     "output_type": "stream",
     "text": [
      "The proportion of trials with 0 made free throws is 0.0\n",
      "The proportion of trials with 1 made free throw  is 0.06\n",
      "The proportion of trials with 2 made free throws is 0.31\n",
      "The proportion of trials with 3 made free throws is 0.63\n"
     ]
    }
   ],
   "source": [
    "n = sim_fts(trials = 10000)\n",
    "print_proportions(n)"
   ]
  },
  {
   "cell_type": "markdown",
   "metadata": {},
   "source": [
    "_TYPE YOUR ANSWER HERE REPLACING THIS TEXT_"
   ]
  },
  {
   "cell_type": "markdown",
   "metadata": {},
   "source": [
    "## Submission\n",
    "\n",
    "Make sure that all cells in your assignment have been executed to display all output, images, and graphs in the final document.\n",
    "\n",
    "**Note:** Save the assignment before proceeding to download the file.\n",
    "\n",
    "After downloading, locate the `.ipynb` file and upload **only** this file to Moodle. The assignment will be automatically submitted to Gradescope for grading."
   ]
  }
 ],
 "metadata": {
  "deepnote": {},
  "deepnote_execution_queue": [],
  "deepnote_notebook_id": "7cd9b4a80b764b8db99ffcff730a1b4d",
  "kernelspec": {
   "display_name": "Python 3 (ipykernel)",
   "language": "python",
   "name": "python3"
  },
  "language_info": {
   "codemirror_mode": {
    "name": "ipython",
    "version": 3
   },
   "file_extension": ".py",
   "mimetype": "text/x-python",
   "name": "python",
   "nbconvert_exporter": "python",
   "pygments_lexer": "ipython3",
   "version": "3.10.11"
  }
 },
 "nbformat": 4,
 "nbformat_minor": 4
}
