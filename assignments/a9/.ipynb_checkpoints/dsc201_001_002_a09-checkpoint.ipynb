{
 "cells": [
  {
   "cell_type": "markdown",
   "metadata": {},
   "source": [
    "## Assignment 09\n",
    "\n",
    "## Due: See Date in Moodle\n",
    "\n",
    "In this assignment you will use intermediate and advanced techniques in programming.\n",
    "\n",
    "To receive a **full credit** for this assignment, you must complete all exercises.\n",
    "\n",
    "## This Week's Assignment\n",
    "\n",
    "In this week's assignment, you'll learn how to:\n",
    "\n",
    "- process unstructured data.\n",
    "\n",
    "- simulate a real-life sceanrio.\n",
    "\n",
    "Let's get started!"
   ]
  },
  {
   "cell_type": "markdown",
   "metadata": {
    "cell_id": "e500750191f149fdab3fea1fe6b3e94e",
    "deepnote_cell_type": "markdown"
   },
   "source": [
    "**Name:** \n",
    "\n",
    "**Section:** \n",
    "\n",
    "**Date:**"
   ]
  },
  {
   "cell_type": "markdown",
   "metadata": {
    "cell_id": "e500750191f149fdab3fea1fe6b3e94e",
    "deepnote_cell_type": "markdown"
   },
   "source": [
    "## Unstructured Data\n",
    "\n",
    "Unstructured data refers to information that doesn't follow a predefined format or organizational model. Unlike structured data, which fits neatly into rows and columns (like spreadsheets or databases), unstructured data includes things like text, images, audio, video, emails, and social media posts. Because it's not organized in a standardized way, it can be more challenging to search, analyze, and interpret. \n",
    "\n",
    "## School House Rock\n",
    "\n",
    "When I was a kid, I used to love watching the Schoolhouse Rock videos. They were fun, catchy, and helped me learn all kinds of things from grammar and history to math and science, without even realizing it. The songs stuck in my head and made learning feel like play. Now, you’ll get the chance to a few of my favorites.\n",
    "\n",
    "|Title                 | YouTube Video ID     | Filename        |\n",
    "|:---------------------------|:---------------------|:-----------------|\n",
    "| Three is a Magic Number    | J8lRKCw2_Pk        | `three.txt`     |\n",
    "| Verb                       | IrfZCvTe-Ko?si     | `verb.txt`      |\n",
    "| Conjunction Junction       | LjdCFat9rjI        | `conjunction.txt` |\n",
    "| Unpack Your Adjectives     | fNriI8SbRgc        | `adjectives.txt` |\n",
    "| Rufus Xavier Sarsaparilla  | wtxRXndvruk        | `rxs.txt`       |\n"
   ]
  },
  {
   "cell_type": "markdown",
   "metadata": {},
   "source": [
    "**Question 1.** Choose a YouTube Video ID and save it to a character variable named `vid`."
   ]
  },
  {
   "cell_type": "code",
   "execution_count": null,
   "metadata": {
    "cell_id": "8abdd11b25b648feb5f9be2d8d5bcf5c",
    "deepnote_cell_type": "code",
    "deepnote_to_be_reexecuted": false,
    "execution_millis": 128,
    "execution_start": 1698258127639,
    "source_hash": null
   },
   "outputs": [],
   "source": [
    "from IPython.display import YouTubeVideo\n",
    "\n",
    "# The YouTube video ID\n",
    "vid = ...\n",
    "\n",
    "# Embed the YouTube video\n",
    "YouTubeVideo(vid)"
   ]
  },
  {
   "cell_type": "markdown",
   "metadata": {},
   "source": [
    "**Question 2.** Assign the name of the file that matches your selected video to the variable `filename`."
   ]
  },
  {
   "cell_type": "markdown",
   "metadata": {
    "cell_id": "8b3fefbd7af047df8eff92e59f5292b9",
    "deepnote_cell_type": "markdown"
   },
   "source": [
    "Run the cell below to read the lyrics."
   ]
  },
  {
   "cell_type": "code",
   "execution_count": null,
   "metadata": {
    "cell_id": "4cd2ff2d734e40fa85d95edb450e8a28",
    "deepnote_cell_type": "code",
    "deepnote_to_be_reexecuted": false,
    "execution_millis": 381,
    "execution_start": 1698258180226,
    "source_hash": null
   },
   "outputs": [],
   "source": [
    "## Open a text file for reading\n",
    "## 'utf-8-sig' automatically removes \n",
    "## the BOM character (\\ufeff) if present\n",
    "with open('data/' + filename, encoding = 'utf-8-sig') as file:\n",
    "    \n",
    "    ## Read the entire content of the file into a string.\n",
    "    ## .read() is a method in Python used to read the entire  \n",
    "    ## contents of a file as a single string.\n",
    "    f = file.read()\n",
    "\n",
    "## Print the contents of the file\n",
    "print(f)"
   ]
  },
  {
   "cell_type": "markdown",
   "metadata": {
    "cell_id": "4069de9a8be846cfb524c1c0066e0914",
    "deepnote_cell_type": "markdown"
   },
   "source": [
    "**Question 3.** Take a close look at the lyrics output in the above cell. Suppose you want to count how many times each word appears in a piece of text and store that information in a data structure. What data type and structure would you use, and why?\n",
    "\n",
    "Take 3 minutes to discuss your thinking with a neighbor. Then, type your response in the Markdown cell below. Keep it to one paragraph (no more than 300 words), and be sure to mention who you discussed your ideas with.\n",
    "\n",
    "As you respond, consider:\n",
    "\n",
    "- How would you handle capitalization (e.g., \"The\" vs. \"the\")?\n",
    "\n",
    "- What would you do about punctuation attached to words (e.g., \"hello!\" vs. \"hello\")?\n",
    "\n",
    "- Would you want to ignore certain words (like \"and,\" \"the,\" or \"a\")?\n",
    "\n",
    "**Note:** There is no single _\"right\"_ answer. I’m just interested in how you would approach the problem."
   ]
  },
  {
   "cell_type": "markdown",
   "metadata": {},
   "source": [
    "_TYPE YOUR ANSWER HERE REPLACING THIS TEXT_"
   ]
  },
  {
   "cell_type": "markdown",
   "metadata": {},
   "source": [
    "**Example 1.** Use the `.split()` method to separate the string `f` into a list of words using spaces as the delimiter."
   ]
  },
  {
   "cell_type": "code",
   "execution_count": null,
   "metadata": {
    "tags": []
   },
   "outputs": [],
   "source": [
    "words = f.split()\n",
    "print(words)"
   ]
  },
  {
   "cell_type": "markdown",
   "metadata": {},
   "source": [
    "**Question 4.** Write a `for` loop that goes through each word in the list words and adds a lowercase version of that word to a new list called `lowercase_words`. After the loop, print the list to check your result."
   ]
  },
  {
   "cell_type": "code",
   "execution_count": null,
   "metadata": {
    "tags": []
   },
   "outputs": [],
   "source": [
    "lowercase_words = ...\n",
    "    \n",
    "print(lowercase_words)"
   ]
  },
  {
   "cell_type": "markdown",
   "metadata": {},
   "source": [
    "### `string` \n",
    "\n",
    "To remove the punctuation we can import the `string` module. The `string` module in Python provides a collection of constants and utility functions that make it easier to work with text. It includes predefined sets of characters like `string.ascii_letters` (all uppercase and lowercase letters), `string.digits` (0–9), and `string.punctuation` (common punctuation symbols). These are especially helpful when you need to check or filter characters in a string."
   ]
  },
  {
   "cell_type": "markdown",
   "metadata": {},
   "source": [
    "**Example 2.** Run the code below. What do you notice?"
   ]
  },
  {
   "cell_type": "code",
   "execution_count": null,
   "metadata": {
    "tags": []
   },
   "outputs": [],
   "source": [
    "string.punctuation"
   ]
  },
  {
   "cell_type": "markdown",
   "metadata": {},
   "source": [
    "**Example 3.** Run the code below. What do you notice?"
   ]
  },
  {
   "cell_type": "code",
   "execution_count": null,
   "metadata": {
    "tags": []
   },
   "outputs": [],
   "source": [
    "for word in words:\n",
    "    clean_word = \"\"\n",
    "    for char in word:\n",
    "        if char not in string.punctuation:\n",
    "            clean_word += char\n",
    "    \n",
    "    if len(clean_word) > 5:\n",
    "        print(clean_word.lower())"
   ]
  },
  {
   "cell_type": "markdown",
   "metadata": {},
   "source": [
    "## Stop Words\n",
    "\n",
    "In the English language, there are many words we use frequently that don’t carry much meaning on their own (e.g., “the,” “is,” “in,” or “with”). In natural language processing (NLP), these are broadly classified as stop words because they don’t add significant insight when analyzing text.\n",
    "\n",
    "**Example 3.** Run the code below."
   ]
  },
  {
   "cell_type": "code",
   "execution_count": null,
   "metadata": {
    "tags": []
   },
   "outputs": [],
   "source": [
    "stop_words = [\n",
    "    \"the\", \"a\", \"an\", \"is\", \"in\", \"to\", \"it\", \"of\", \"that\", \"this\",\n",
    "    \"was\", \"are\", \"for\", \"with\", \"as\", \"at\", \"on\", \"by\", \"from\", \"be\"\n",
    "]"
   ]
  },
  {
   "cell_type": "markdown",
   "metadata": {},
   "source": [
    "**Question 5.** Come up with five more examples of stop words that are not conjunctions or pronouns? Create a list called `more_stop_words` to store them."
   ]
  },
  {
   "cell_type": "code",
   "execution_count": null,
   "metadata": {
    "tags": []
   },
   "outputs": [],
   "source": [
    "more_stop_words = ..."
   ]
  },
  {
   "cell_type": "markdown",
   "metadata": {},
   "source": [
    "**Example 4.** Run the code below. What do you notice?"
   ]
  },
  {
   "cell_type": "code",
   "execution_count": null,
   "metadata": {
    "tags": []
   },
   "outputs": [],
   "source": [
    "if len(stop_words) == 20:\n",
    "    stop_words.extend(more_stop_words)\n",
    "\n",
    "print(f\"The lyrics of {filename} with {len(stop_words)} stop words filtered out. \\n\")\n",
    "for i in range(0, len(stop_words), 5):\n",
    "    row = stop_words[i:i + 5]\n",
    "    print(\"{:<15} {:<15} {:<15} {:<15} {:<15}\".format(*row, *[\"\"]*(5 - len(row))))\n",
    "\n",
    "print()\n",
    "\n",
    "for word in words:\n",
    "    clean_word = \"\"\n",
    "    for char in word:\n",
    "        if char not in string.punctuation:\n",
    "            clean_word += char\n",
    "    \n",
    "    if len(clean_word.lower()) != 0 and clean_word not in stop_words:\n",
    "        print(clean_word.lower())"
   ]
  },
  {
   "cell_type": "markdown",
   "metadata": {},
   "source": [
    "Now we need a data structure to store the words. Ideally, we want to be able to look up each word by its name and see how many times it appears. This kind of task is a perfect fit for a Python dictionary."
   ]
  },
  {
   "cell_type": "markdown",
   "metadata": {},
   "source": [
    "**Example 5.** Run the code below. What do you notice?"
   ]
  },
  {
   "cell_type": "code",
   "execution_count": null,
   "metadata": {
    "tags": []
   },
   "outputs": [],
   "source": [
    "word_counts = {}\n",
    "\n",
    "for word in words:\n",
    "    clean_word = ''.join(char for char in word if char not in string.punctuation).lower()\n",
    "    \n",
    "    if clean_word and clean_word not in stop_words:\n",
    "        if clean_word in word_counts:\n",
    "            word_counts[clean_word] += 1\n",
    "        else:\n",
    "            word_counts[clean_word] = 1"
   ]
  },
  {
   "cell_type": "code",
   "execution_count": null,
   "metadata": {
    "tags": []
   },
   "outputs": [],
   "source": [
    "word_counts"
   ]
  },
  {
   "cell_type": "markdown",
   "metadata": {},
   "source": [
    "**Question 5.** Set a value for the variable `threshold`."
   ]
  },
  {
   "cell_type": "code",
   "execution_count": null,
   "metadata": {
    "tags": []
   },
   "outputs": [],
   "source": [
    "threshold = ..."
   ]
  },
  {
   "cell_type": "markdown",
   "metadata": {},
   "source": [
    "**Question 6.** What do you think the variable `threshold` controls in the code?\n",
    "\n",
    "```python\n",
    "def get_count(item):\n",
    "    return item[1]\n",
    "\n",
    "sorted_word_counts = sorted(word_counts.items(), key = get_count, reverse = True)\n",
    "\n",
    "for word, count in sorted_word_counts:\n",
    "    if count >= threshold:\n",
    "        print(f\"{word}: {count}\")\n",
    "```"
   ]
  },
  {
   "cell_type": "markdown",
   "metadata": {
    "tags": []
   },
   "source": [
    "_TYPE YOUR ANSWER HERE REPLACING THIS TEXT_"
   ]
  },
  {
   "cell_type": "markdown",
   "metadata": {},
   "source": [
    "**Example 6.** Run the code below. What do you notice?"
   ]
  },
  {
   "cell_type": "code",
   "execution_count": null,
   "metadata": {
    "tags": []
   },
   "outputs": [],
   "source": [
    "def get_count(item):\n",
    "    return item[1]\n",
    "\n",
    "sorted_word_counts = sorted(word_counts.items(), key = get_count, reverse = True)\n",
    "\n",
    "for word, count in sorted_word_counts:\n",
    "    if count >= threshold:\n",
    "        print(f\"{word}: {count}\")"
   ]
  },
  {
   "cell_type": "markdown",
   "metadata": {},
   "source": [
    "We’ve done some basic text processing to explore patterns in the lyrics, like cleaning up the words and counting how often they appear. This gives us an idea of how we can start to find insights in text, even with simple techniques, though more advanced approaches can take the analysis even further."
   ]
  },
  {
   "cell_type": "markdown",
   "metadata": {},
   "source": [
    "## Was the announcer correct?\n",
    "\n",
    "During the 2023-2024 season, the Golden State Warriors faced the Oklahoma City Thunder in a regular season game. With 8.4 seconds left, the Thunder, trailing 115 to 118, were inbounding the ball on their end of the court. The common strategy in such situations, when leading by 3 points, is to foul the player before they attempt a shot, ideally forcing only two free throws instead of a potential three-point attempt. This approach minimizes the risk of the opposing team tying the game.\n",
    "\n",
    "However, Draymond Green of the Warriors fouled Chet Holmgren, an 86.5% free throw shooter for the Thunder, \"in the act of shooting\" from beyond the three-point line. This sent Holmgren to the line with 7.7 seconds remaining, giving him the chance to tie the game.\n",
    "\n",
    "[At 1:45 in the video](https://youtu.be/fsgScuAH4NI?feature=shared), the announcer notes, **_\"In case you're wondering, .86 times .86 times .86 is 63 percent.\"_**"
   ]
  },
  {
   "cell_type": "markdown",
   "metadata": {},
   "source": [
    "**Question 7.** Why do you think the announcer pointed this out?"
   ]
  },
  {
   "cell_type": "markdown",
   "metadata": {},
   "source": [
    "_TYPE YOUR ANSWER HERE REPLACING THIS TEXT_"
   ]
  },
  {
   "cell_type": "markdown",
   "metadata": {},
   "source": [
    "## Simulating a Probability Distribution \n",
    "\n",
    "A probability distribution describes how probabilities are assigned to each possible outcome in a random process, such as rolling a die or flipping a coin. It essentially shows the likelihood of each outcome occurring in an experiment or process.\n",
    "\n",
    "Shooting a free throw is a random process, so we can simulate whether Chet would successfully make all three free throws.\n",
    "\n",
    "**Question 8.** Since Chet has an 86.5% free throw success rate, we need to decide whether he would make 86 or 87 out of 100 free throws. Choose either 86 or 87 and assign it to the variable `make`."
   ]
  },
  {
   "cell_type": "code",
   "execution_count": null,
   "metadata": {
    "tags": []
   },
   "outputs": [],
   "source": [
    "make = ..."
   ]
  },
  {
   "cell_type": "markdown",
   "metadata": {},
   "source": [
    "Run the code below to create a list with either 86 or 87 `1`s (representing successful free throws) and 14 or 13 `0`s (representing missed free throws)."
   ]
  },
  {
   "cell_type": "code",
   "execution_count": null,
   "metadata": {
    "tags": []
   },
   "outputs": [],
   "source": [
    "ft = [1] * 87 + [0] * (100 - make)\n",
    "print(ft)"
   ]
  },
  {
   "cell_type": "markdown",
   "metadata": {},
   "source": [
    "We can use the `ft` list to randomly draw three values, simulating Chet taking three free throws. For each trial, we tally the number of successful shots (makes). We then store the result from each trial in a list, repeating this process across multiple trials. Finally, we can visualize the distribution of successful shots and calculate the proportion of times Chet made all three free throws.\n",
    "\n",
    "To do this we can use the `random` module. The `random` module in Python provides tools for generating random numbers and performing random operations. It allows you to simulate randomness in your programs like selecting random items from a list, shuffling data, or generating random integers or floating-point numbers. It's useful for simulations, games, sampling, and basic probability experiments.\n",
    "\n",
    "The `choices()` function from the `random` module is used to randomly select multiple items from a list, with replacement.\n",
    "\n",
    "**Question 9.** Import the `random` module."
   ]
  },
  {
   "cell_type": "code",
   "execution_count": null,
   "metadata": {
    "tags": []
   },
   "outputs": [],
   "source": [
    "def sim_fts(p, trials = 10):\n",
    "    results = []\n",
    "\n",
    "    for _ in range(trials):\n",
    "        shots = random.choices(p, k = 3)\n",
    "        results.append(sum(shots))\n",
    "    \n",
    "    return results"
   ]
  },
  {
   "cell_type": "markdown",
   "metadata": {},
   "source": [
    "**Example 7.** Run the code below. What do you notice?"
   ]
  },
  {
   "cell_type": "code",
   "execution_count": null,
   "metadata": {
    "tags": []
   },
   "outputs": [],
   "source": [
    "sim_fts(p = ft)"
   ]
  },
  {
   "cell_type": "markdown",
   "metadata": {},
   "source": [
    "**Example 8.** Run the code below. What do you notice?"
   ]
  },
  {
   "cell_type": "code",
   "execution_count": null,
   "metadata": {
    "tags": []
   },
   "outputs": [],
   "source": [
    "def print_proportions(outcomes):\n",
    "    total = len(outcomes)\n",
    "    prop_0 = round(outcomes.count(0) / total, 2)\n",
    "    prop_1 = round(outcomes.count(1) / total, 2)\n",
    "    prop_2 = round(outcomes.count(2) / total, 2)\n",
    "    prop_3 = round(1 - (prop_0 + prop_1 + prop_2), 2)\n",
    "\n",
    "    print(f\"The proportion of trials with 0 made free throws is {prop_0}\")\n",
    "    print(f\"The proportion of trials with 1 made free throw  is {prop_1}\")\n",
    "    print(f\"The proportion of trials with 2 made free throws is {prop_2}\")\n",
    "    print(f\"The proportion of trials with 3 made free throws is {prop_3}\")"
   ]
  },
  {
   "cell_type": "markdown",
   "metadata": {},
   "source": [
    "**Example 9.** Run the code below. What do you notice?"
   ]
  },
  {
   "cell_type": "code",
   "execution_count": null,
   "metadata": {
    "tags": []
   },
   "outputs": [],
   "source": [
    "n = sim_fts(p = ft)\n",
    "print_proportions(n)"
   ]
  },
  {
   "cell_type": "markdown",
   "metadata": {},
   "source": [
    "**Question 10.** Update your simulation by increasing the number of trials to 10,000. Then, print the resulting proportions.\n",
    "How do these results compare to those from Example 9? If they are different, in what way? Why do you think that happened?"
   ]
  },
  {
   "cell_type": "code",
   "execution_count": null,
   "metadata": {
    "tags": []
   },
   "outputs": [],
   "source": [
    "..."
   ]
  },
  {
   "cell_type": "markdown",
   "metadata": {},
   "source": [
    "_TYPE YOUR ANSWER HERE REPLACING THIS TEXT_"
   ]
  },
  {
   "cell_type": "markdown",
   "metadata": {},
   "source": [
    "## Submission\n",
    "\n",
    "Make sure that all cells in your assignment have been executed to display all output, images, and graphs in the final document.\n",
    "\n",
    "**Note:** Save the assignment before proceeding to download the file.\n",
    "\n",
    "After downloading, locate the `.ipynb` file and upload **only** this file to Moodle. The assignment will be automatically submitted to Gradescope for grading."
   ]
  }
 ],
 "metadata": {
  "deepnote": {},
  "deepnote_execution_queue": [],
  "deepnote_notebook_id": "7cd9b4a80b764b8db99ffcff730a1b4d",
  "kernelspec": {
   "display_name": "Python 3 (ipykernel)",
   "language": "python",
   "name": "python3"
  },
  "language_info": {
   "codemirror_mode": {
    "name": "ipython",
    "version": 3
   },
   "file_extension": ".py",
   "mimetype": "text/x-python",
   "name": "python",
   "nbconvert_exporter": "python",
   "pygments_lexer": "ipython3",
   "version": "3.10.11"
  }
 },
 "nbformat": 4,
 "nbformat_minor": 4
}
