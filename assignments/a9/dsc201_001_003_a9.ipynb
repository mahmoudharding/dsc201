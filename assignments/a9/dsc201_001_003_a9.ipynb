{
 "cells": [
  {
   "cell_type": "markdown",
   "id": "01e385d4-c1ac-4187-87ff-cdc24fd2bbc2",
   "metadata": {},
   "source": [
    "# Run the cell below\n",
    "\n",
    "To run a code cell (i.e.; execute the python code inside a Jupyter notebook) you can click the play button on the ribbon underneath the name of the notebook that looks like ▶| or hold down `Shift` + `Return`.\n",
    "\n",
    "Before you begin run the code cell below."
   ]
  },
  {
   "cell_type": "code",
   "execution_count": null,
   "id": "0d63d8a2",
   "metadata": {
    "deletable": false,
    "editable": false
   },
   "outputs": [],
   "source": [
    "# Initialize Otter\n",
    "import otter\n",
    "grader = otter.Notebook(\"dsc201_001_003_a9.ipynb\")"
   ]
  },
  {
   "cell_type": "markdown",
   "id": "a7f2161a-33d4-45c0-a0cf-114205007ab4",
   "metadata": {},
   "source": [
    "**Name:** \n",
    "\n",
    "**Section:** \n",
    "\n",
    "**Date:**"
   ]
  },
  {
   "cell_type": "markdown",
   "id": "1abecfba-7441-46d9-8247-93576ad71a68",
   "metadata": {},
   "source": [
    "## This Week's Assignment\n",
    "\n",
    "In this week's assignment,\n",
    "\n",
    "- you will work in groups to summarize a data set with numeric output. \n",
    "\n",
    "- your analysis will be based on data from the US Department of Education's College Scorecard. The data comes from `https://collegescorecard.ed.gov/data/`.\n",
    " \n",
    "- most of the atuograder checks are not included in this notebook in light of group collaboration.\n",
    "\n",
    "### Notes\n",
    "\n",
    "- You are free to use multiple commands to complete each question.\n",
    "\n",
    "- Observe **Good Programming Practice** - meaning be sure to use descriptive variable names, insert proper spacing for readability, and include comments in your code chunks.\n",
    "\n",
    "- When typing written response be sure to use correct spelling, complete sentences and proper grammar.\n",
    "\n",
    "Let's get started!"
   ]
  },
  {
   "cell_type": "markdown",
   "id": "c79a1945-4a4f-4cef-92d5-93da7f34da26",
   "metadata": {},
   "source": [
    "## Exploratory Data Analysis\n",
    "\n",
    "We will be analyzing data from the `colleges-python.csv`, a modified version ot the `colleges.csv`. "
   ]
  },
  {
   "cell_type": "markdown",
   "id": "ea82823d-bccf-4027-a9d6-d800a82d1be9",
   "metadata": {
    "deletable": false,
    "editable": false
   },
   "source": [
    "<!-- BEGIN QUESTION -->\n",
    "\n",
    "**Question 1.** Import `pandas` and `NumPy` using the appropriate aliasing."
   ]
  },
  {
   "cell_type": "code",
   "execution_count": null,
   "id": "4459ed12-ca30-49ed-99d8-9cf602f6dcfa",
   "metadata": {
    "tags": []
   },
   "outputs": [],
   "source": [
    "# Import the pandas module as pd\n",
    "import ... as ...\n",
    "\n",
    "# Import the numpy module as np\n",
    "import ... as ..."
   ]
  },
  {
   "cell_type": "markdown",
   "id": "1ebe0635-27c8-468e-909d-25718e78796d",
   "metadata": {
    "deletable": false,
    "editable": false
   },
   "source": [
    "<!-- END QUESTION -->\n",
    "\n",
    "**Question 2.** Load the `colleges-python.csv` file into a `pandas` `DataFrame` named `colleges`."
   ]
  },
  {
   "cell_type": "code",
   "execution_count": null,
   "id": "40492095-0fcf-4ddc-84df-ffbd69b0559e",
   "metadata": {
    "tags": []
   },
   "outputs": [],
   "source": [
    "colleges = ..."
   ]
  },
  {
   "cell_type": "code",
   "execution_count": null,
   "id": "47d127cb",
   "metadata": {
    "deletable": false,
    "editable": false
   },
   "outputs": [],
   "source": [
    "grader.check(\"q2\")"
   ]
  },
  {
   "cell_type": "markdown",
   "id": "bfddf660-fdba-44f8-89e3-43ca705b1dfe",
   "metadata": {
    "deletable": false,
    "editable": false
   },
   "source": [
    "<!-- BEGIN QUESTION -->\n",
    "\n",
    "**Question 3.** Call (i.e., execute) the `.info()` method and 3 other `pandas` `DataFrame` methods on the `colleges` dataframe. Write an intepretion of the results from each method call in the markdown cell after each call."
   ]
  },
  {
   "cell_type": "code",
   "execution_count": null,
   "id": "d142ab9f-137a-4d49-8b28-7bf13f702b34",
   "metadata": {
    "tags": []
   },
   "outputs": [],
   "source": [
    "# Call the info method\n",
    "..."
   ]
  },
  {
   "cell_type": "markdown",
   "id": "0ae7a70d-7032-4270-b26f-a3ce12f8f8cf",
   "metadata": {},
   "source": [
    "_Type your answer here, replacing this text._"
   ]
  },
  {
   "cell_type": "code",
   "execution_count": null,
   "id": "2d37379d-0f2d-47fb-bd60-a577f0430893",
   "metadata": {
    "tags": []
   },
   "outputs": [],
   "source": [
    "# Call the ... method\n",
    "..."
   ]
  },
  {
   "cell_type": "markdown",
   "id": "e9f5cff8",
   "metadata": {},
   "source": [
    "_Type your answer here, replacing this text._"
   ]
  },
  {
   "cell_type": "code",
   "execution_count": null,
   "id": "7b4f6bde-775e-44a0-86c8-609158e15ce7",
   "metadata": {
    "tags": []
   },
   "outputs": [],
   "source": [
    "# Call the ... method\n",
    "..."
   ]
  },
  {
   "cell_type": "markdown",
   "id": "e68107e9-cd93-4250-9822-87e87876a7d6",
   "metadata": {},
   "source": [
    "_Type your answer here, replacing this text._"
   ]
  },
  {
   "cell_type": "code",
   "execution_count": null,
   "id": "dfb00b85-d347-46da-bce3-68615f193507",
   "metadata": {
    "tags": []
   },
   "outputs": [],
   "source": [
    "# Call the ... method\n",
    "..."
   ]
  },
  {
   "cell_type": "markdown",
   "id": "824296d1-a468-4222-b3ec-d3fc129b0e7c",
   "metadata": {},
   "source": [
    "_Type your answer here, replacing this text._"
   ]
  },
  {
   "cell_type": "markdown",
   "id": "c6b905aa-09bb-456c-9cc6-d5ff2e72aa70",
   "metadata": {
    "deletable": false,
    "editable": false
   },
   "source": [
    "<!-- END QUESTION -->\n",
    "\n",
    "In the next section of the this assignment we want to analyze only the instutions that offer at least a bachelor's degree. "
   ]
  },
  {
   "cell_type": "markdown",
   "id": "31b22743-2884-40c0-a910-9798bb68bae5",
   "metadata": {
    "deletable": false,
    "editable": false
   },
   "source": [
    "**Question 4.** Filter the colleges dataset to include only colleges that offer at least a bachelor's degree. Save this to an object named `four_year_colleges`."
   ]
  },
  {
   "cell_type": "code",
   "execution_count": null,
   "id": "b8373e7b-bcd5-433b-978f-812dd73e5a11",
   "metadata": {
    "tags": []
   },
   "outputs": [],
   "source": [
    "four_year_colleges = ..."
   ]
  },
  {
   "cell_type": "code",
   "execution_count": null,
   "id": "c8316cf2",
   "metadata": {
    "deletable": false,
    "editable": false
   },
   "outputs": [],
   "source": [
    "grader.check(\"q4\")"
   ]
  },
  {
   "cell_type": "markdown",
   "id": "c55efd83-0f73-437b-82f6-635f5bedc94a",
   "metadata": {},
   "source": [
    "## Data Wrangling\n",
    "\n",
    "In last week's class we started the last section of Assignment 08 (i.e., notebook `dsc201_001_003_a8.ipynb`) entitled **Think like a data scientist**. In that section we went through a step-by-step process to count the number of letters in the names of skyscrapers. In this section of your group assignment we will implement a similar strategy to accomplish a slightly different task.\n",
    "\n",
    "In this version of the dataset, the `median_debt` and `med_alum_earnings` variables represent monetary values, but appear in the dataset as strings."
   ]
  },
  {
   "cell_type": "markdown",
   "id": "6f34b3c3-bc39-4834-bb22-a3be3a2cddb9",
   "metadata": {
    "deletable": false,
    "editable": false
   },
   "source": [
    "**Question 5.** Choose either `median_debt` or `med_alum_earnings` as the variable you'll analyze in the section of the assignment. Save your choice as a string to the variable named `q5_answer`."
   ]
  },
  {
   "cell_type": "code",
   "execution_count": null,
   "id": "35ac15e3-5b2e-491f-8790-7a0e8faa65ed",
   "metadata": {
    "tags": []
   },
   "outputs": [],
   "source": [
    "q5_answer = ...\n",
    "q5_answer"
   ]
  },
  {
   "cell_type": "code",
   "execution_count": null,
   "id": "cbc99786",
   "metadata": {
    "deletable": false,
    "editable": false
   },
   "outputs": [],
   "source": [
    "grader.check(\"q5\")"
   ]
  },
  {
   "cell_type": "markdown",
   "id": "32deddc7-1faa-4759-8887-fd0dda421aa4",
   "metadata": {
    "deletable": false,
    "editable": false
   },
   "source": [
    "**Question 6.**  Create a new dataframe by selecting the column you choose in **Question 5**, along with the `name`, `state`, `default_rate`, `grad_rate`, `ownership`, `locale`, `hbcu`, `net_tuition`, and `pct_PELL` from the `four_year_colleges` dataframe. Name this dataframe `df`.\n",
    "\n",
    "**Note:** Make sure that the first column is the name of the college."
   ]
  },
  {
   "cell_type": "code",
   "execution_count": null,
   "id": "ead15f8b-e693-4843-a9ff-b6d22842cc75",
   "metadata": {
    "tags": []
   },
   "outputs": [],
   "source": [
    "df = ..."
   ]
  },
  {
   "cell_type": "code",
   "execution_count": null,
   "id": "80dc758b",
   "metadata": {
    "deletable": false,
    "editable": false
   },
   "outputs": [],
   "source": [
    "grader.check(\"q6\")"
   ]
  },
  {
   "cell_type": "markdown",
   "id": "5e886c74-a66b-4964-8c42-6fbab0be039c",
   "metadata": {
    "deletable": false,
    "editable": false
   },
   "source": [
    "**Question 7.** Convert the values in the column of you chose in **Question 5** from strings into numbers. Then add the column back to the `df` dataframe with a new name of your choice. Finally, rename the added column to the original name in the dataset (i.e., either `median_debt` or `med_alum_earnings` depending on your choice from **Question 5**).\n",
    "\n",
    "\n",
    "For example, if you chose `median_debt` the columns in your final dataframe should look like this:\n",
    "\n",
    "| | **name** | **state** | **default_rate** | **grad_rate** | **median_debt** | **ownership** | **locale** | **hbcu** |**net_tuition** | **pct_PELL** |\n",
    "|----------|----------|----------|----------|----------|----------|----------|----------|----------|----------|----------|\n",
    "|**0**|Alabama A & M University|Alabama|12.1|28.66|15250.0|Public|Small City|Yes|8.101|70.95|\n",
    "\n",
    "**Notes:**\n",
    "- Be sure to add comments in code cells and written commentary in markdown cells to describe the thought process behind your analysis.\n",
    "- You may add additional code cells to complete your analysis.\n",
    "\n",
    "**Hint:** Refer to the steps used in the **Think like a data scientist** section from the Assignment 08. Please add additional code cells if needed."
   ]
  },
  {
   "cell_type": "code",
   "execution_count": null,
   "id": "705fa6be-2eea-4383-a4a2-78b7bf90dc32",
   "metadata": {
    "tags": []
   },
   "outputs": [],
   "source": [
    "... "
   ]
  },
  {
   "cell_type": "markdown",
   "id": "a45685e5-13ac-4b1e-b6fa-41fac84afddc",
   "metadata": {},
   "source": [
    "_Type your answer here, replacing this text._"
   ]
  },
  {
   "cell_type": "code",
   "execution_count": null,
   "id": "f7b366ca-50cb-4733-b520-8ed6425184ee",
   "metadata": {
    "tags": []
   },
   "outputs": [],
   "source": [
    "... "
   ]
  },
  {
   "cell_type": "markdown",
   "id": "61fa5690",
   "metadata": {},
   "source": [
    "_Type your answer here, replacing this text._"
   ]
  },
  {
   "cell_type": "code",
   "execution_count": null,
   "id": "50f05477-f530-4f3d-8b03-c212b1b6cc35",
   "metadata": {
    "tags": []
   },
   "outputs": [],
   "source": [
    "... "
   ]
  },
  {
   "cell_type": "markdown",
   "id": "043080cf-2c37-4be9-9a31-7ffa80fec450",
   "metadata": {},
   "source": [
    "_Type your answer here, replacing this text._"
   ]
  },
  {
   "cell_type": "code",
   "execution_count": null,
   "id": "086bbc3e-fbe9-4ba8-8c20-f00a725ca394",
   "metadata": {
    "tags": []
   },
   "outputs": [],
   "source": [
    "... "
   ]
  },
  {
   "cell_type": "markdown",
   "id": "9fad50ee-7b23-41b2-ad81-43faf51089cf",
   "metadata": {},
   "source": [
    "_Type your answer here, replacing this text._"
   ]
  },
  {
   "cell_type": "markdown",
   "id": "73217620-43b9-499f-a84b-0ab45e5ea37e",
   "metadata": {},
   "source": [
    "## Comparisons Across Groups\n",
    "\n",
    "Now that you have a dataset that is prepared for analysis you and your group get to make some choices about how you proceed from here."
   ]
  },
  {
   "cell_type": "markdown",
   "id": "c9cccc74-c6bf-4964-99e0-ec55fdd38e5e",
   "metadata": {
    "deletable": false,
    "editable": false
   },
   "source": [
    "<!-- BEGIN QUESTION -->\n",
    "\n",
    "**Question 8.** You are required to: \n",
    "\n",
    "- subset the `df` dataframe based on comparing a numerical feature to a summary statistic like the mean or median.\n",
    "- compare the variable you chose in **Question 5** across at least 2 of the catgeorical variables in the dataset. For example, what is the maximum median debt between colleges in different ownership categories.\n",
    "- select a state other than North Carolina and compare summary statistics about one categorical variable and the variable you chose in **Question 5**.\n",
    "\n",
    "**Notes:** \n",
    "- Be sure to add comments in code cells and written commentary in markdown cells to describe the thought process behind your analysis.\n",
    "- You may add additional code cells to complete your analysis."
   ]
  },
  {
   "cell_type": "code",
   "execution_count": null,
   "id": "e6ebf890-dcc5-4283-a619-478a3c93928b",
   "metadata": {
    "tags": []
   },
   "outputs": [],
   "source": [
    "... "
   ]
  },
  {
   "cell_type": "markdown",
   "id": "77371910",
   "metadata": {},
   "source": [
    "_Type your answer here, replacing this text._"
   ]
  },
  {
   "cell_type": "code",
   "execution_count": null,
   "id": "00d6c1d0-dbe8-4464-8604-830bd14fcb14",
   "metadata": {
    "tags": []
   },
   "outputs": [],
   "source": [
    "... "
   ]
  },
  {
   "cell_type": "markdown",
   "id": "6bf47637-1e3b-4825-b1f5-088a7b3ff4f4",
   "metadata": {},
   "source": [
    "_Type your answer here, replacing this text._"
   ]
  },
  {
   "cell_type": "code",
   "execution_count": null,
   "id": "a3522552-af2e-40b3-bc62-e598f2ebbe1e",
   "metadata": {
    "tags": []
   },
   "outputs": [],
   "source": [
    "... "
   ]
  },
  {
   "cell_type": "markdown",
   "id": "ee3346ee-350e-4234-a280-e6ab80c394c5",
   "metadata": {},
   "source": [
    "_Type your answer here, replacing this text._"
   ]
  },
  {
   "cell_type": "code",
   "execution_count": null,
   "id": "ddb48619-b6ef-46c3-8839-986f844abb53",
   "metadata": {
    "tags": []
   },
   "outputs": [],
   "source": [
    "... "
   ]
  },
  {
   "cell_type": "markdown",
   "id": "862bb30d-6c30-4bda-9e30-ad9e68b1fe1f",
   "metadata": {},
   "source": [
    "_Type your answer here, replacing this text._"
   ]
  },
  {
   "cell_type": "code",
   "execution_count": null,
   "id": "caa5f095-d055-4eb2-8cb2-e127ed105ab5",
   "metadata": {
    "tags": []
   },
   "outputs": [],
   "source": [
    "... "
   ]
  },
  {
   "cell_type": "markdown",
   "id": "030ab2f8-47f4-4740-9a6c-7321afa00db4",
   "metadata": {},
   "source": [
    "_Type your answer here, replacing this text._"
   ]
  },
  {
   "cell_type": "markdown",
   "id": "22f3c7d4",
   "metadata": {
    "deletable": false,
    "editable": false
   },
   "source": [
    "<!-- END QUESTION -->\n",
    "\n"
   ]
  },
  {
   "cell_type": "markdown",
   "id": "fe93e2a8",
   "metadata": {
    "deletable": false,
    "editable": false
   },
   "source": [
    "## Submission\n",
    "\n",
    "Make sure you have run all cells in your notebook in order before running the cell below, so that all images/graphs appear in the output. The cell below will generate a zip file for you to submit. **Please save before exporting!**\n",
    "\n",
    "When done exporting, download the .zip file by `SHIFT`-clicking on the file name and selecting **Save Link As**. Or, find the .zip file in the left side of the screen and right-click and select **Download**. You'll submit this .zip file for the assignment in Moodle to Gradescope for grading."
   ]
  },
  {
   "cell_type": "code",
   "execution_count": null,
   "id": "d33ad7bd",
   "metadata": {
    "deletable": false,
    "editable": false
   },
   "outputs": [],
   "source": [
    "# Save your notebook first, then run this cell to export your submission.\n",
    "grader.export(pdf=False)"
   ]
  },
  {
   "cell_type": "markdown",
   "id": "59bfb508",
   "metadata": {},
   "source": [
    " "
   ]
  }
 ],
 "metadata": {
  "kernelspec": {
   "display_name": "DSC201",
   "language": "python",
   "name": "dsc201"
  },
  "language_info": {
   "codemirror_mode": {
    "name": "ipython",
    "version": 3
   },
   "file_extension": ".py",
   "mimetype": "text/x-python",
   "name": "python",
   "nbconvert_exporter": "python",
   "pygments_lexer": "ipython3",
   "version": "3.11.0"
  },
  "otter": {
   "OK_FORMAT": true,
   "tests": {
    "q2": {
     "name": "q2",
     "points": null,
     "suites": [
      {
       "cases": [
        {
         "code": ">>> colleges.shape[0] + colleges.shape[1] == 4461\nTrue",
         "hidden": false,
         "locked": false
        },
        {
         "code": ">>> type(colleges.med_alum_earnings[0]) == str\nTrue",
         "hidden": false,
         "locked": false
        },
        {
         "code": ">>> type(colleges.median_debt[0]) == str\nTrue",
         "hidden": false,
         "locked": false
        }
       ],
       "scored": true,
       "setup": "",
       "teardown": "",
       "type": "doctest"
      }
     ]
    },
    "q4": {
     "name": "q4",
     "points": null,
     "suites": [
      {
       "cases": [
        {
         "code": ">>> four_year_colleges.shape[0] + four_year_colleges.shape[1] == 1991\nTrue",
         "hidden": false,
         "locked": false
        },
        {
         "code": ">>> sum(colleges.highest_degree == 'Bachelors') == 501\nTrue",
         "hidden": false,
         "locked": false
        },
        {
         "code": ">>> sum(colleges.highest_degree == 'Graduate') == 1464\nTrue",
         "hidden": false,
         "locked": false
        }
       ],
       "scored": true,
       "setup": "",
       "teardown": "",
       "type": "doctest"
      }
     ]
    },
    "q5": {
     "name": "q5",
     "points": null,
     "suites": [
      {
       "cases": [
        {
         "code": ">>> q5_answer in ['median_debt', 'med_alum_earnings']\nTrue",
         "hidden": false,
         "locked": false
        }
       ],
       "scored": true,
       "setup": "",
       "teardown": "",
       "type": "doctest"
      }
     ]
    },
    "q6": {
     "name": "q6",
     "points": null,
     "suites": [
      {
       "cases": [
        {
         "code": ">>> df.shape[0] + df.shape[1] == 1975\nTrue",
         "hidden": false,
         "locked": false
        },
        {
         "code": ">>> 'median_debt' in df.columns or 'med_alum_earnings' in df.columns\nTrue",
         "hidden": false,
         "locked": false
        },
        {
         "code": ">>> 'name' in df.columns and 'state' in df.columns and 'default_rate' in df.columns and 'grad_rate' in df.columns and 'ownership' in df.columns and 'locale' in df.columns and 'hbcu' in df.columns \nTrue",
         "hidden": false,
         "locked": false
        }
       ],
       "scored": true,
       "setup": "",
       "teardown": "",
       "type": "doctest"
      }
     ]
    }
   }
  }
 },
 "nbformat": 4,
 "nbformat_minor": 5
}
