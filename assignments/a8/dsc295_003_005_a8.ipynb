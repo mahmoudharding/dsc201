{
 "cells": [
  {
   "cell_type": "code",
   "execution_count": null,
   "id": "bf9b1c94",
   "metadata": {
    "deletable": false,
    "editable": false
   },
   "outputs": [],
   "source": [
    "# Initialize Otter\n",
    "import otter\n",
    "grader = otter.Notebook(\"dsc295_003_005_a8.ipynb\")"
   ]
  },
  {
   "cell_type": "markdown",
   "id": "62918248",
   "metadata": {},
   "source": [
    "# Assignment 08\n",
    "\n",
    "## Due: See Date in Moodle\n",
    "\n",
    "In this assignment we will review our Python skills by working together to explore a data set through the use of numerical summaries and visualizations.\n",
    "\n",
    "I would like you to attempt each question of the assignment. To get **full credit** on this assignment, you must complete each question.\n",
    "\n",
    "## This Week's Assignment\n",
    "\n",
    "Today we'll create numerical summaries and visualizations in Python.\n",
    "\n",
    "## Loading Data\n",
    "\n",
    "Before we begin we need to load the necessary modules and data sets.\n",
    "\n",
    "Run the next two code cells below."
   ]
  },
  {
   "cell_type": "code",
   "execution_count": null,
   "id": "eb8ebc9f",
   "metadata": {},
   "outputs": [],
   "source": [
    "import pandas as pd\n",
    "import numpy as np\n",
    "import seaborn as sns"
   ]
  },
  {
   "cell_type": "code",
   "execution_count": null,
   "id": "9066cb5e",
   "metadata": {},
   "outputs": [],
   "source": [
    "titanic = sns.load_dataset('titanic')"
   ]
  },
  {
   "cell_type": "markdown",
   "id": "862ffb9c",
   "metadata": {},
   "source": [
    "## Numerical Summaries\n",
    "\n",
    "First, let's look at the `titanic` data frame."
   ]
  },
  {
   "cell_type": "code",
   "execution_count": null,
   "id": "8d35cee8",
   "metadata": {},
   "outputs": [],
   "source": [
    "titanic.head()"
   ]
  },
  {
   "cell_type": "markdown",
   "id": "fe2ab66a",
   "metadata": {},
   "source": [
    "We already know about `.describe()`. This method i used for numerical data. What about categorical data?"
   ]
  },
  {
   "cell_type": "code",
   "execution_count": null,
   "id": "10a16e08",
   "metadata": {},
   "outputs": [],
   "source": [
    "titanic.describe()"
   ]
  },
  {
   "cell_type": "markdown",
   "id": "37bb5512",
   "metadata": {},
   "source": [
    "What data type is in the embarked column?"
   ]
  },
  {
   "cell_type": "code",
   "execution_count": null,
   "id": "667a0548",
   "metadata": {},
   "outputs": [],
   "source": [
    "titanic.embarked"
   ]
  },
  {
   "cell_type": "code",
   "execution_count": null,
   "id": "e1659837",
   "metadata": {},
   "outputs": [],
   "source": [
    "type(titanic.embarked[0])"
   ]
  },
  {
   "cell_type": "markdown",
   "id": "fd273946",
   "metadata": {},
   "source": [
    "### Categoricals in `pandas` \n",
    "\n",
    "What is the category type in python? The [`pandas` categorical data type](https://pandas.pydata.org/docs/user_guide/categorical.html), is similar to with R’s `factor`.  Categoricals are a pandas data type corresponding to categorical variables in statistics. A categorical variable takes on a limited, and usually fixed, number of possible values (categories; levels in R). Examples are gender, social class, blood type, country affiliation, observation time or rating via Likert scales."
   ]
  },
  {
   "cell_type": "markdown",
   "id": "73358742",
   "metadata": {
    "id": "iiJ1uAaipEtT"
   },
   "source": [
    "<!-- BEGIN QUESTION -->\n",
    "\n",
    "**Question 1.** Let’s change the `embarked` column to type `category`."
   ]
  },
  {
   "cell_type": "code",
   "execution_count": null,
   "id": "5d14a18d",
   "metadata": {
    "id": "9Kuj4kd7pEtV",
    "outputId": "19e96f86-8718-4106-bf86-27ff8e6ca9f5",
    "tags": []
   },
   "outputs": [],
   "source": [
    "titanic.embarked = ...\n",
    "titanic.embarked[0:6] "
   ]
  },
  {
   "cell_type": "markdown",
   "id": "1153944e",
   "metadata": {
    "id": "iiJ1uAaipEtT"
   },
   "source": [
    "<!-- END QUESTION -->\n",
    "\n",
    "**Question 2.** Let's rename the categories to something more descriptive."
   ]
  },
  {
   "cell_type": "code",
   "execution_count": null,
   "id": "70607604",
   "metadata": {
    "tags": []
   },
   "outputs": [],
   "source": [
    "titanic.embarked = titanic.embarked.cat.rename_categories({\n",
    "    '...' : 'Cherbourg',\n",
    "    '...' : 'Queenstown', \n",
    "    '...' : 'Southampton'\n",
    "})\n",
    "titanic.embarked[0:6] "
   ]
  },
  {
   "cell_type": "markdown",
   "id": "8c3ca549",
   "metadata": {},
   "source": [
    "Let's look at the data type of the `survived` column."
   ]
  },
  {
   "cell_type": "code",
   "execution_count": null,
   "id": "c0a7fa66",
   "metadata": {},
   "outputs": [],
   "source": [
    "type(titanic.survived[0])"
   ]
  },
  {
   "cell_type": "markdown",
   "id": "1d18b9d7",
   "metadata": {},
   "source": [
    "Let's change the `survived` column to type category."
   ]
  },
  {
   "cell_type": "code",
   "execution_count": null,
   "id": "b935c2ed",
   "metadata": {},
   "outputs": [],
   "source": [
    "titanic.survived = titanic.survived.astype(\"str\").astype(\"category\")\n",
    "titanic.survived[0:2]"
   ]
  },
  {
   "cell_type": "markdown",
   "id": "464fed05",
   "metadata": {
    "id": "iiJ1uAaipEtT"
   },
   "source": [
    "**Question 3.** Let's rename the categories to something more descriptive."
   ]
  },
  {
   "cell_type": "code",
   "execution_count": null,
   "id": "fee89f32",
   "metadata": {
    "tags": []
   },
   "outputs": [],
   "source": [
    "titanic.survived = titanic.survived.cat.rename_categories({'0' : '...', '1' : '...'})\n",
    "titanic.survived[0:2] "
   ]
  },
  {
   "cell_type": "markdown",
   "id": "3e379079",
   "metadata": {
    "id": "iiJ1uAaipEtT"
   },
   "source": [
    "<!-- BEGIN QUESTION -->\n",
    "\n",
    "**Question 4.** Use the `.value_counts()` method to make contingency tables for the `embarked`, `sex`, and `survived` columns."
   ]
  },
  {
   "cell_type": "code",
   "execution_count": null,
   "id": "9e09fe15",
   "metadata": {
    "tags": []
   },
   "outputs": [],
   "source": [
    "print(\"Embarked\")\n",
    "print(titanic['embarked']...)\n",
    "print(\"\\n\")\n",
    "print(\"Sex\")\n",
    "print(titanic['sex']...)\n",
    "print(\"\\n\")\n",
    "print(\"Survived\")\n",
    "print(titanic['survived']...)"
   ]
  },
  {
   "cell_type": "markdown",
   "id": "61e3d2a3",
   "metadata": {},
   "source": [
    "<!-- END QUESTION -->\n",
    "\n",
    "## Contingency Tables\n",
    "\n",
    "### Two-Way"
   ]
  },
  {
   "cell_type": "markdown",
   "id": "cee770da",
   "metadata": {},
   "source": [
    "**Example 1.** The `pd.crosstab()` function will make a two-way contingency table that gets returned as a dataframe."
   ]
  },
  {
   "cell_type": "code",
   "execution_count": null,
   "id": "4768e29e",
   "metadata": {},
   "outputs": [],
   "source": [
    "pd.crosstab(titanic.embarked, titanic.survived)"
   ]
  },
  {
   "cell_type": "markdown",
   "id": "1230c341",
   "metadata": {},
   "source": [
    "**Example 2.**  We can add marginal totals."
   ]
  },
  {
   "cell_type": "code",
   "execution_count": null,
   "id": "ef5e3592",
   "metadata": {},
   "outputs": [],
   "source": [
    "pd.crosstab(titanic.embarked, titanic.survived, margins=True)"
   ]
  },
  {
   "cell_type": "markdown",
   "id": "f85a53e8",
   "metadata": {},
   "source": [
    "## Numerical Summaries Across Groups\n",
    "\n",
    "- Pandas `.groupby` is used for grouping the data according to categories and applying functions to the categories. It also helps to aggregate data efficiently.\n",
    "\n",
    "- Pandas `.groupby()` function is used to split the data into groups based on the column labels. "
   ]
  },
  {
   "cell_type": "markdown",
   "id": "02085cdf",
   "metadata": {},
   "source": [
    "**Example 3.** Use the `.groupby` function on the `embarked` column."
   ]
  },
  {
   "cell_type": "code",
   "execution_count": null,
   "id": "153c55dd",
   "metadata": {},
   "outputs": [],
   "source": [
    "titanic.groupby('embarked')"
   ]
  },
  {
   "cell_type": "markdown",
   "id": "ca11d747",
   "metadata": {},
   "source": [
    "**Example 4.** Use the `.groups` method and `.keys()` function on the `embarked` column to show all the group labels."
   ]
  },
  {
   "cell_type": "code",
   "execution_count": null,
   "id": "97174f7e",
   "metadata": {},
   "outputs": [],
   "source": [
    "titanic.groupby('embarked').groups.keys()"
   ]
  },
  {
   "cell_type": "markdown",
   "id": "17d9123b",
   "metadata": {
    "id": "iiJ1uAaipEtT"
   },
   "source": [
    "<!-- BEGIN QUESTION -->\n",
    "\n",
    "**Question 5.** Use the `.groupby` function and the `.get_group` method to get the `Queenstown` group."
   ]
  },
  {
   "cell_type": "code",
   "execution_count": null,
   "id": "bce1708b",
   "metadata": {
    "tags": []
   },
   "outputs": [],
   "source": [
    "titanic.groupby('embarked').get_group('...')"
   ]
  },
  {
   "cell_type": "markdown",
   "id": "699ee0b3",
   "metadata": {},
   "source": [
    "<!-- END QUESTION -->\n",
    "\n",
    "We can group on multiple columns. \n",
    "\n",
    "Run the cell below."
   ]
  },
  {
   "cell_type": "code",
   "execution_count": null,
   "id": "b0c06c47",
   "metadata": {},
   "outputs": [],
   "source": [
    "titanic.groupby([\"survived\", \"sex\"])"
   ]
  },
  {
   "cell_type": "code",
   "execution_count": null,
   "id": "be558ee9",
   "metadata": {},
   "outputs": [],
   "source": [
    "titanic.groupby([\"survived\", \"sex\"]).groups.keys()"
   ]
  },
  {
   "cell_type": "code",
   "execution_count": null,
   "id": "41a6f214",
   "metadata": {},
   "outputs": [],
   "source": [
    "titanic.groupby([\"survived\", \"sex\"]).get_group(('Died', 'male')).head(5)"
   ]
  },
  {
   "cell_type": "markdown",
   "id": "85a8f4ef",
   "metadata": {
    "id": "iiJ1uAaipEtT"
   },
   "source": [
    "<!-- BEGIN QUESTION -->\n",
    "\n",
    "**Question 6.** Find the average age of the passengers that survived and the passengers that died on the Titanic. \n",
    "\n",
    "**Note:** To earn all the points for this question you must use `.groupby`."
   ]
  },
  {
   "cell_type": "code",
   "execution_count": null,
   "id": "7592e868",
   "metadata": {
    "tags": []
   },
   "outputs": [],
   "source": [
    "titanic.groupby('survived')['...'].mean()"
   ]
  },
  {
   "cell_type": "markdown",
   "id": "ee1d7e0d",
   "metadata": {
    "id": "iiJ1uAaipEtT"
   },
   "source": [
    "<!-- END QUESTION -->\n",
    "\n",
    "<!-- BEGIN QUESTION -->\n",
    "\n",
    "**Question 7.** Find the average age of passengers from each port based on survival status. \n",
    "\n",
    "**Note:** To earn all the points for this question you must use `.groupby`."
   ]
  },
  {
   "cell_type": "code",
   "execution_count": null,
   "id": "d2e371a9",
   "metadata": {
    "tags": []
   },
   "outputs": [],
   "source": [
    "titanic.groupby(['survived', 'embarked'])['age'].mean()"
   ]
  },
  {
   "cell_type": "markdown",
   "id": "de7c75cb",
   "metadata": {},
   "source": [
    "<!-- END QUESTION -->\n",
    "\n",
    "## Plotting in Python\n",
    "\n",
    "We will use plotting features from `pandas` and from `matplotlib` to create our visualizations. Run the cell below to import the libraries we need.\n",
    "\n",
    "**Note:** To learn more about visualizations in `matplotlib` click [here](https://matplotlib.org/) and for documentation on creating visualizations using `pandas` click [here](https://pandas.pydata.org/pandas-docs/stable/user_guide/visualization.html)."
   ]
  },
  {
   "cell_type": "code",
   "execution_count": null,
   "id": "dd3ed37a",
   "metadata": {},
   "outputs": [],
   "source": [
    "import matplotlib.pyplot as plt\n",
    "%matplotlib inline\n",
    "plt.rcParams['figure.figsize'] = (12, 5)\n",
    "plt.rcParams['figure.dpi'] = 100"
   ]
  },
  {
   "cell_type": "markdown",
   "id": "36b8c9eb",
   "metadata": {},
   "source": [
    "## Categorical Variables\n",
    "\n",
    "### Bar Plot\n",
    "\n",
    "A bar plot displays the counts of the labels from a categorical column. This can be done in `pandas` using a `DataFrame` or a `Series`\n",
    "\n",
    "```\n",
    ".plot.bar()\n",
    "```\n",
    "\n",
    "or using `matplotlib`\n",
    "\n",
    "```\n",
    "plt.bar()\n",
    "```"
   ]
  },
  {
   "cell_type": "code",
   "execution_count": null,
   "id": "c8811d32",
   "metadata": {},
   "outputs": [],
   "source": [
    "tbl = titanic.embarked.value_counts()\n",
    "tbl"
   ]
  },
  {
   "cell_type": "markdown",
   "id": "fde4e5a2",
   "metadata": {
    "id": "iiJ1uAaipEtT"
   },
   "source": [
    "<!-- BEGIN QUESTION -->\n",
    "\n",
    "**Question 8.** Make a bar chart using `plt.bar()` for the counts of the `embarked` column.\n",
    "\n",
    "**Note:** \n",
    "\n",
    "- `x` represents the categories.\n",
    "\n",
    "- `height` represents the corresponding heights."
   ]
  },
  {
   "cell_type": "code",
   "execution_count": null,
   "id": "203faa43",
   "metadata": {
    "tags": []
   },
   "outputs": [],
   "source": [
    "plt.bar(x=..., height=...);"
   ]
  },
  {
   "cell_type": "markdown",
   "id": "2d1ae356",
   "metadata": {},
   "source": [
    "<!-- END QUESTION -->\n",
    "\n",
    "We can make the same bar chart using `pandas`."
   ]
  },
  {
   "cell_type": "code",
   "execution_count": null,
   "id": "d72416c2",
   "metadata": {},
   "outputs": [],
   "source": [
    "tbl.plot.bar(rot=0);"
   ]
  },
  {
   "cell_type": "markdown",
   "id": "5772979e",
   "metadata": {
    "id": "iiJ1uAaipEtT"
   },
   "source": [
    "**Example 5.** Add a title and axes labels to the plot from **Question 8**.\n",
    "\n",
    "<img src=\"images/g1.png\" width=\"600\" height=\"400\">"
   ]
  },
  {
   "cell_type": "code",
   "execution_count": null,
   "id": "5da32b1c",
   "metadata": {},
   "outputs": [],
   "source": [
    "plt.bar(x=tbl.index, height=tbl)\n",
    "plt.title(\"Passenger Counts for Each Port\")\n",
    "plt.xlabel(\"\\n Port Embarked\")\n",
    "plt.ylabel(\"Count\");"
   ]
  },
  {
   "cell_type": "markdown",
   "id": "0432af7d",
   "metadata": {
    "id": "iiJ1uAaipEtT"
   },
   "source": [
    "<!-- BEGIN QUESTION -->\n",
    "\n",
    "**Question 9.** Use the `survived` column from the `titanic` dataset a create a bar chart. Be sure to label the axes and title.\n",
    "\n",
    "**Note:** You can use either `matplotlib` or `pandas`."
   ]
  },
  {
   "cell_type": "code",
   "execution_count": null,
   "id": "861c4f27",
   "metadata": {
    "tags": []
   },
   "outputs": [],
   "source": [
    "plt.bar(x=..., height=...)\n",
    "plt.title(\"...\")\n",
    "plt.xlabel(\"\\n ...\")\n",
    "plt.ylabel(\"...\");"
   ]
  },
  {
   "cell_type": "markdown",
   "id": "7fa3ff08",
   "metadata": {},
   "source": [
    "<!-- END QUESTION -->\n",
    "\n",
    "## Numerical Variables\n",
    "\n",
    "### Histograms\n",
    "\n",
    "A histogram is an approximate representation of the distribution (the frequency and pattern) of numerical data. Let's look at the distribution of the ages of the passengers on the titanic.\n",
    "\n",
    "**Example 6.** Use `.hist()` to plot a histogram of the ages of the passengers on the titanic."
   ]
  },
  {
   "cell_type": "code",
   "execution_count": null,
   "id": "1452da4d",
   "metadata": {},
   "outputs": [],
   "source": [
    "titanic.age.hist();"
   ]
  },
  {
   "cell_type": "markdown",
   "id": "cf5a0cd3",
   "metadata": {},
   "source": [
    "**Example 7.** Customize the plot from **Example 6.** by removing the gridlines, adding axes labels, placing an edge color between the bars,  and adding a title.\n",
    "\n",
    "**Note:** In the plot below we use the Axes object to customize the plot. For more information on how this works [read this article](https://towardsdatascience.com/what-are-the-plt-and-ax-in-matplotlib-exactly-d2cf4bf164a9) and this [tutorial guide](https://realpython.com/python-matplotlib-guide/)."
   ]
  },
  {
   "cell_type": "code",
   "execution_count": null,
   "id": "20117fdb",
   "metadata": {},
   "outputs": [],
   "source": [
    "ax = titanic.age.hist(edgecolor = \"white\")\n",
    "ax.grid(False)\n",
    "ax.set_title(\"Distribution of Passenger Ages\")\n",
    "ax.set_xlabel(\"\\n Age\")\n",
    "ax.set_ylabel(\"Count\");"
   ]
  },
  {
   "cell_type": "markdown",
   "id": "0799c45b",
   "metadata": {},
   "source": [
    "**Example 8.** We can change the $y-$axis to a percentage (i.e. density)."
   ]
  },
  {
   "cell_type": "code",
   "execution_count": null,
   "id": "2457d85b",
   "metadata": {},
   "outputs": [],
   "source": [
    "ax = titanic.age.hist(edgecolor='white', density=True)\n",
    "ax.grid(False)\n",
    "ax.set_title(\"Distribution of Passenger Ages\")\n",
    "ax.set_xlabel(\"\\nAges\");"
   ]
  },
  {
   "cell_type": "markdown",
   "id": "ebb386db",
   "metadata": {},
   "source": [
    "**Example 9.** We can also customize the number of bins."
   ]
  },
  {
   "cell_type": "code",
   "execution_count": null,
   "id": "15854c85",
   "metadata": {},
   "outputs": [],
   "source": [
    "ax = titanic.age.hist(edgecolor='white', bins=7, density=True)\n",
    "ax.grid(False)\n",
    "ax.set_title(\"Distribution of Passenger Ages\")\n",
    "ax.set_xlabel(\"\\nAges\");"
   ]
  },
  {
   "cell_type": "markdown",
   "id": "f489ae6e",
   "metadata": {},
   "source": [
    "**Example 10.** We can also customize the bin locations."
   ]
  },
  {
   "cell_type": "code",
   "execution_count": null,
   "id": "2c7e89f8",
   "metadata": {},
   "outputs": [],
   "source": [
    "bins = [0, 10, 20, 30, 40, 50, 60, 70]\n",
    "ax = titanic.age.hist(edgecolor='white', bins = bins, density=True)\n",
    "ax.grid(False)\n",
    "ax.set_title(\"Distribution of Passenger Ages\")\n",
    "ax.set_xlabel(\"\\nAges\");"
   ]
  },
  {
   "cell_type": "markdown",
   "id": "79648cec",
   "metadata": {},
   "source": [
    "**Example 10.** We can also compare across distributions using `by = `."
   ]
  },
  {
   "cell_type": "code",
   "execution_count": null,
   "id": "3317f17d",
   "metadata": {},
   "outputs": [],
   "source": [
    "ax = titanic.age.hist(edgecolor=\"white\", bins=bins, by=titanic.survived, rot=0)\n",
    "ax[0].set_xlabel(\"\\n Age\")\n",
    "ax[1].set_xlabel(\"\\n Age\");"
   ]
  },
  {
   "cell_type": "markdown",
   "id": "8cbd61bd",
   "metadata": {},
   "source": [
    "**Example 11.** We can also compare across distributions using overliad histograms."
   ]
  },
  {
   "cell_type": "code",
   "execution_count": null,
   "id": "ac06ff75",
   "metadata": {},
   "outputs": [],
   "source": [
    "m = titanic[titanic.sex == 'male']\n",
    "f = titanic[titanic.sex == 'female']\n",
    "\n",
    "plt.hist(m.age, alpha=0.75, edgecolor='white', bins=bins, label='Male')\n",
    "plt.hist(f.age, alpha=0.75, edgecolor='white', bins=bins, label='Female')\n",
    "  \n",
    "plt.legend(loc='upper right')\n",
    "plt.title(\"Age Distribution of Male and Female Passengers\")\n",
    "plt.xlabel(\"\\n Age\")\n",
    "plt.ylabel(\"Count\");"
   ]
  },
  {
   "cell_type": "markdown",
   "id": "0be03dc7",
   "metadata": {},
   "source": [
    "### Scatter Plots\n",
    "\n",
    "A scatter plot is used to visualize the linear relationship between variables."
   ]
  },
  {
   "cell_type": "markdown",
   "id": "8d90e1d4",
   "metadata": {},
   "source": [
    "**Example 12.** Make a scatter plot visulaize the association between `age` and `fare`."
   ]
  },
  {
   "cell_type": "code",
   "execution_count": null,
   "id": "02491dc2",
   "metadata": {},
   "outputs": [],
   "source": [
    "titanic.plot.scatter(x=\"age\", y=\"fare\");"
   ]
  },
  {
   "cell_type": "markdown",
   "id": "da59f58a",
   "metadata": {},
   "source": [
    "If we want we can customize the marker type, color and size."
   ]
  },
  {
   "cell_type": "code",
   "execution_count": null,
   "id": "55f00959",
   "metadata": {},
   "outputs": [],
   "source": [
    "titanic.plot.scatter(x=\"age\", y=\"fare\", marker=\"^\", color=\"red\", edgecolor=\"white\", size=300);"
   ]
  },
  {
   "cell_type": "markdown",
   "id": "837dba2d",
   "metadata": {},
   "source": [
    "**Example 13.** We can modify the color based on a label from a categorical feature."
   ]
  },
  {
   "cell_type": "code",
   "execution_count": null,
   "id": "9e75909a",
   "metadata": {},
   "outputs": [],
   "source": [
    "ax = plt.scatter(x=titanic[titanic.survived==\"Died\"]['age'], \n",
    "                 y=titanic[titanic.survived==\"Died\"]['fare'], \n",
    "                 edgecolor=\"white\",\n",
    "                 color=\"red\", \n",
    "                 label=\"Died\")\n",
    "\n",
    "ax = plt.scatter(x=titanic[titanic.survived==\"Survived\"]['age'],\n",
    "                 y=titanic[titanic.survived==\"Survived\"]['fare'], \n",
    "                 edgecolor=\"white\",\n",
    "                 color=\"blue\", \n",
    "                 label=\"Survived\")\n",
    "\n",
    "plt.title(\"Scatter Plot of Age vs. Fare by Survival Status\")\n",
    "plt.xlabel(\"Age\")\n",
    "plt.ylabel(\"Fare\")\n",
    "plt.legend();"
   ]
  },
  {
   "cell_type": "markdown",
   "id": "41b58509",
   "metadata": {},
   "source": [
    "### Box Plots\n",
    "\n",
    "A box plot displays the five-number summary of a set of data.\n",
    "\n",
    "- Min, Q1, Median, Q3, and Max\n",
    "\n",
    "- Shows possible outliers\n",
    "\n",
    "\n",
    "<img src=\"https://lsc.studysixsigma.com/wp-content/uploads/sites/6/2015/12/1435.png\" width=\"800\" height=\"400\">\n",
    "\n",
    "**Source:** https://www.leansigmacorporation.com/box-plot-with-minitab/ \n",
    "\n",
    "**Author:** Michael Parker\n",
    "\n",
    "**Example 14.** A boxplot of the `age` variable."
   ]
  },
  {
   "cell_type": "code",
   "execution_count": null,
   "id": "47a7ccda",
   "metadata": {},
   "outputs": [],
   "source": [
    "titanic.age.plot.box();"
   ]
  },
  {
   "cell_type": "markdown",
   "id": "2776a2cc",
   "metadata": {},
   "source": [
    "A boxplot grouped by survival status."
   ]
  },
  {
   "cell_type": "code",
   "execution_count": null,
   "id": "ed7f35f4",
   "metadata": {},
   "outputs": [],
   "source": [
    "titanic.boxplot(column=\"age\", by=\"survived\")\n",
    "plt.grid(False)\n",
    "plt.suptitle(\"\")\n",
    "plt.title(\"Box Grouped by Survival Status\");"
   ]
  },
  {
   "cell_type": "markdown",
   "id": "b0c5816b",
   "metadata": {},
   "source": [
    "## Line Chart\n",
    "\n",
    "A line chart is similar to a scatter plot except that the measurement points are ordered and joined with straight line segments. A line chart is often used to visualize a trend in data over intervals of time (i.e. a time series), thus the line is often drawn chronologically.\n",
    "\n",
    "**Example 15.** A line chart that shows the number of flights per year."
   ]
  },
  {
   "cell_type": "code",
   "execution_count": null,
   "id": "b4acb272",
   "metadata": {},
   "outputs": [],
   "source": [
    "flights = sns.load_dataset('flights')\n",
    "flights.head()"
   ]
  },
  {
   "cell_type": "code",
   "execution_count": null,
   "id": "973eb48d",
   "metadata": {},
   "outputs": [],
   "source": [
    "flights.plot(x=\"year\", y=\"passengers\", legend=False);"
   ]
  },
  {
   "cell_type": "code",
   "execution_count": null,
   "id": "6c3f674d",
   "metadata": {},
   "outputs": [],
   "source": [
    "df = flights.groupby('year')['passengers'].sum().to_frame().reset_index()\n",
    "df"
   ]
  },
  {
   "cell_type": "code",
   "execution_count": null,
   "id": "72548a3d",
   "metadata": {},
   "outputs": [],
   "source": [
    "df.plot(x='year', y='passengers', legend=False);"
   ]
  },
  {
   "cell_type": "code",
   "execution_count": null,
   "id": "8f8d2ff3",
   "metadata": {},
   "outputs": [],
   "source": [
    "tbl = flights.groupby('year')['passengers'].sum()\n",
    "tbl"
   ]
  },
  {
   "cell_type": "code",
   "execution_count": null,
   "id": "22a4ef25",
   "metadata": {},
   "outputs": [],
   "source": [
    "plt.plot(tbl.index, tbl)\n",
    "plt.xticks(df.year);"
   ]
  },
  {
   "cell_type": "markdown",
   "id": "a3d504a7",
   "metadata": {},
   "source": [
    "Now its your turn to make plots using penguin data."
   ]
  },
  {
   "cell_type": "code",
   "execution_count": null,
   "id": "a464ed30",
   "metadata": {},
   "outputs": [],
   "source": [
    "penguins = sns.load_dataset('penguins')\n",
    "penguins.head()"
   ]
  },
  {
   "cell_type": "markdown",
   "id": "722f514a",
   "metadata": {
    "id": "iiJ1uAaipEtT"
   },
   "source": [
    "<!-- BEGIN QUESTION -->\n",
    "\n",
    "**Question 9.**  Choose a categorical column from the `penguins` dataframe. Then use the data to create a bar chart.\n",
    "\n",
    "**Note:** Be sure to provide a title and label your axes."
   ]
  },
  {
   "cell_type": "code",
   "execution_count": null,
   "id": "88a49580",
   "metadata": {
    "tags": []
   },
   "outputs": [],
   "source": [
    "..."
   ]
  },
  {
   "cell_type": "markdown",
   "id": "983363b6",
   "metadata": {
    "id": "iiJ1uAaipEtT"
   },
   "source": [
    "<!-- END QUESTION -->\n",
    "\n",
    "<!-- BEGIN QUESTION -->\n",
    "\n",
    "**Question 10.**  Choose a numerical column from the `penguins` dataframe. Then use the data to create a histogram.\n",
    "\n",
    "**Note:** Be sure to provide a title and label your axes."
   ]
  },
  {
   "cell_type": "code",
   "execution_count": null,
   "id": "fbe2c25a",
   "metadata": {
    "tags": []
   },
   "outputs": [],
   "source": [
    "..."
   ]
  },
  {
   "cell_type": "markdown",
   "id": "cb27ca53",
   "metadata": {
    "id": "iiJ1uAaipEtT"
   },
   "source": [
    "<!-- END QUESTION -->\n",
    "\n",
    "<!-- BEGIN QUESTION -->\n",
    "\n",
    "**Question 11.** Choose two numerical columns from the `penguins` dataframe. Then use the data to create a scatter plot."
   ]
  },
  {
   "cell_type": "code",
   "execution_count": null,
   "id": "79e6af3d",
   "metadata": {
    "tags": []
   },
   "outputs": [],
   "source": [
    "..."
   ]
  },
  {
   "cell_type": "markdown",
   "id": "d247924f",
   "metadata": {},
   "source": [
    "<!-- END QUESTION -->\n",
    "\n"
   ]
  },
  {
   "cell_type": "markdown",
   "id": "536827ec",
   "metadata": {
    "deletable": false,
    "editable": false
   },
   "source": [
    "## Submission\n",
    "\n",
    "Make sure you have run all cells in your notebook in order before running the cell below, so that all images/graphs appear in the output. The cell below will generate a zip file for you to submit. **Please save before exporting!**\n",
    "\n",
    "When done exporting, download the .zip file by `SHIFT`-clicking on the file name and selecting **Save Link As**. Or, find the .zip file in the left side of the screen and right-click and select **Download**. You'll submit this .zip file for the assignment in Moodle to Gradescope for grading."
   ]
  },
  {
   "cell_type": "code",
   "execution_count": null,
   "id": "e6c44903",
   "metadata": {
    "deletable": false,
    "editable": false
   },
   "outputs": [],
   "source": [
    "# Save your notebook first, then run this cell to export your submission.\n",
    "grader.export(pdf=False, run_tests=True)"
   ]
  },
  {
   "cell_type": "markdown",
   "id": "3fd9be4f",
   "metadata": {},
   "source": [
    " "
   ]
  }
 ],
 "metadata": {
  "kernelspec": {
   "display_name": "DSC295",
   "language": "python",
   "name": "dsc295"
  },
  "language_info": {
   "codemirror_mode": {
    "name": "ipython",
    "version": 3
   },
   "file_extension": ".py",
   "mimetype": "text/x-python",
   "name": "python",
   "nbconvert_exporter": "python",
   "pygments_lexer": "ipython3",
   "version": "3.11.0"
  },
  "otter": {
   "OK_FORMAT": true,
   "tests": {}
  }
 },
 "nbformat": 4,
 "nbformat_minor": 5
}
