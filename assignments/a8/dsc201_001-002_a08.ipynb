{
 "cells": [
  {
   "cell_type": "markdown",
   "id": "663bcdfe-a1ea-4365-ad6d-b2a2870de674",
   "metadata": {},
   "source": [
    "# Assignment 08\n",
    "\n",
    "## Due: See Date in Moodle\n",
    "\n",
    "In this assignment you will use intermediate and advanced features in R.\n",
    "\n",
    "To receive a **full credit** for this assignment, you must complete **all** questions.\n",
    "\n",
    "## This Week's Assignment\n",
    "\n",
    "In this week's assignment, you will perform data wrangling. This includes, but is not limited to the following:\n",
    "    \n",
    "- converting strings to numbers\n",
    "\n",
    "- dropping a column from a dataframe\n",
    "\n",
    "- adding a new column to a dataframe\n",
    "\n",
    "- designing user defined functions\n",
    "\n",
    "- plotting a histogram and a line chart\n",
    "\n",
    "### Notes\n",
    "\n",
    "- Adhere to good programming practices, utilizing descriptive variable names, appropriate spacing for readability, and adding comments to your code. \n",
    "\n",
    "- Ensure written responses maintain correct spelling, complete sentences, and proper grammar.\n",
    "\n",
    "**Name:**\n",
    "\n",
    "**Section:**\n",
    "\n",
    "**Date:**\n",
    "\n",
    "In this notebook we will be working with the skyscraper data that your class collected. The dataset can be accessed [**here**](https://docs.google.com/spreadsheets/d/1W0uRGIU43sMvQ1pANUtlSkFKeY_TMl9d3QZyegEhxOo/edit#gid=1105865786).\n",
    "\n",
    "\n",
    "Let's get started!"
   ]
  },
  {
   "cell_type": "markdown",
   "id": "659c6cb2-e43a-4643-8979-138c3c563eeb",
   "metadata": {},
   "source": [
    "**Question 1.** Import the `pandas` library using the appropritate alias. "
   ]
  },
  {
   "cell_type": "code",
   "execution_count": null,
   "id": "0c5f7852-cc8d-445d-adb2-88c78d49b242",
   "metadata": {
    "tags": []
   },
   "outputs": [],
   "source": [
    "..."
   ]
  },
  {
   "cell_type": "code",
   "execution_count": null,
   "id": "fa093766-3d5f-463c-a3a8-7f5772f20abe",
   "metadata": {
    "tags": []
   },
   "outputs": [],
   "source": [
    "# Load the dataset to a dataframe namde skyscrapers\n",
    "skyscrapers = pd.read_csv('data/skyscrapers.csv')\n",
    "\n",
    "# Show the first 5 rows of the dataset\n",
    "skyscrapers.head()"
   ]
  },
  {
   "cell_type": "markdown",
   "id": "09e88cd2-145a-416c-a3db-ccbb023fc2a2",
   "metadata": {},
   "source": [
    "We can select columns from a `pandas` dataframe by the name of the column.\n",
    "\n",
    "**Question 2.** Select the first and last columns (by name), and return a `DataFrame` object."
   ]
  },
  {
   "cell_type": "code",
   "execution_count": null,
   "id": "d7a7e445-48bb-4d76-a8f2-ee1594b339e2",
   "metadata": {
    "tags": []
   },
   "outputs": [],
   "source": [
    "..."
   ]
  },
  {
   "cell_type": "markdown",
   "id": "fb3eede5-4e32-4d00-bf51-8bb4895f3195",
   "metadata": {
    "tags": []
   },
   "source": [
    "We can select specific columns using their index position using `.iloc`.\n",
    "\n",
    "```\n",
    "skyscrapers.iloc[:, 1:9]\n",
    "```\n",
    "\n",
    "Let's break down the code `skyscrapers.iloc[:, 1:last_column_index]`:\n",
    "\n",
    "- `skyscrapers`: This is the `DataFrame`\n",
    "\n",
    "- `.iloc[]`: This is an indexer used to select data from the `DataFrame` by integer location.\n",
    "\n",
    "- `[:, [1, 9]]`: This part specifies the rows and columns to select. \n",
    "\n",
    "    - `:` indicates that we want to select all rows. \n",
    "    \n",
    "    - `[1, 9]` is a list containing the integer positions of the columns we want to select. In this case, it specifies columns at index positions 1 and 9.\n",
    "\n",
    "So, `skyscrapers.iloc[:, 1:9]` selects all rows and only columns at index positions 1 and 9 from the `DataFrame` `skyscrapers`.\n",
    "\n",
    "Instead of hard-coding all the column index values, let's do it programmatically. "
   ]
  },
  {
   "cell_type": "markdown",
   "id": "90fa5d23-c079-441e-9812-eaac14b208cd",
   "metadata": {},
   "source": [
    "**Question 3.** Fill in the missing portions of the code cell below, replacing the ellipses with the appropriate code segments to achieve the intended functionality."
   ]
  },
  {
   "cell_type": "code",
   "execution_count": null,
   "id": "4d48df9a-25e6-409a-a126-d773e2f9e00d",
   "metadata": {
    "tags": []
   },
   "outputs": [],
   "source": [
    "# Assign the total number of columns to num_columns\n",
    "# .shape returns a tuple (rows, columns)\n",
    "# where the second item - index position 1 is selected\n",
    "num_columns = ...\n",
    "\n",
    "# Subtract 1 from num_columns\n",
    "# The .iloc method does not include the endpoint\n",
    "last_column_index = ...\n",
    "\n",
    "\n",
    "# Use .iloc to select all columns \n",
    "# excluding the first and last\n",
    "skyscrapers.iloc[:, ...:...]"
   ]
  },
  {
   "cell_type": "markdown",
   "id": "35aaa0d9-5cd1-41d6-9fb3-e7cabcca5cb3",
   "metadata": {},
   "source": [
    "Another way this can be done is by using a negative 1 for the right endpoint. In the exmple below,\n",
    "\n",
    "```\n",
    "skyscrapers.iloc[:, 1:-1]\n",
    "```\n",
    "\n",
    "the negative index (-1) represents the position of the last column, and the last column itself is excluded from the selection."
   ]
  },
  {
   "cell_type": "code",
   "execution_count": null,
   "id": "75ba73db-43d6-41d0-b731-bed48f18b82c",
   "metadata": {
    "tags": []
   },
   "outputs": [],
   "source": [
    "skyscrapers.iloc[:, 1:-1]"
   ]
  },
  {
   "cell_type": "markdown",
   "id": "bd6aa8dd-4f29-4d19-b4ed-0de2f50c93d5",
   "metadata": {},
   "source": [
    "And yet another way we can do this is by using the `.drop()` method. First, we'll use the `.columns` method to list all the columns."
   ]
  },
  {
   "cell_type": "code",
   "execution_count": null,
   "id": "ad32e77f-2349-49e2-a473-53800716ede5",
   "metadata": {
    "tags": []
   },
   "outputs": [],
   "source": [
    "skyscrapers.columns"
   ]
  },
  {
   "cell_type": "markdown",
   "id": "b9d98d3d-f5dd-4308-99dc-a6dc3e843499",
   "metadata": {},
   "source": [
    "**Question 4.** Use the `.drop()` method to remove both the first and last columns from the `DataFrame` and assign the result back to `df`.\n",
    "\n",
    "**Note:** Be sure to use -1 for the last column."
   ]
  },
  {
   "cell_type": "code",
   "execution_count": null,
   "id": "cd7581d8-f87a-4979-9c10-6fd3295fd7c0",
   "metadata": {
    "tags": []
   },
   "outputs": [],
   "source": [
    "df = skyscrapers.drop(columns=[..., ...]])\n",
    "df.head()"
   ]
  },
  {
   "cell_type": "markdown",
   "id": "371037e4-0492-4ce4-a4e9-9fe85652a2e7",
   "metadata": {},
   "source": [
    "## Review \n",
    "\n",
    "Previously, we utilized R to perform some [**data moves**](https://escholarship.org/uc/item/0mg8m7g6). Specifically we\n",
    "\n",
    "- added a column using data from the `status.started` and `status.completed` columns\n",
    "\n",
    "- generated a distribution showcasing the count of skyscrapers in each country\n",
    "\n",
    "- created a new dataframe containing only the countries with over 10 skyscrapers\n",
    "\n",
    "- converted a string from the `height` column into a numeric data type \n",
    "\n",
    "\n",
    "Here's an equivalent Python code snippet accomplishing the same task."
   ]
  },
  {
   "cell_type": "code",
   "execution_count": null,
   "id": "d5dd1ef6-a48c-4b1d-9e5c-5a4e31c06bb2",
   "metadata": {
    "tags": []
   },
   "outputs": [],
   "source": [
    "# Returns the status.completed as a Series and\n",
    "# saves it to an object named completed\n",
    "completed = df['status.completed']\n",
    "\n",
    "# Use the .head method to show the first 5 observations\n",
    "completed.head()"
   ]
  },
  {
   "cell_type": "code",
   "execution_count": null,
   "id": "af044daa-c709-4420-ad3f-3fa1c68096e3",
   "metadata": {
    "tags": []
   },
   "outputs": [],
   "source": [
    "# Returns the status.started as a Series and \n",
    "# saves it to an object named started\n",
    "started = df['status.started']\n",
    "\n",
    "# Use the .head method to show the first 5 observations\n",
    "started.head()"
   ]
  },
  {
   "cell_type": "code",
   "execution_count": null,
   "id": "847eba56-5a52-4bbc-b6a9-abf468775f3c",
   "metadata": {
    "tags": []
   },
   "outputs": [],
   "source": [
    "# Calculates the duration by doing elementwise\n",
    "# arithmetic and saves the results to an \n",
    "# object named duration\n",
    "duration = completed - started \n",
    "\n",
    "# Use bracket notation [ ] (i.e., slicing)\n",
    "# to show the first 5 observations\n",
    "duration[:5]"
   ]
  },
  {
   "cell_type": "code",
   "execution_count": null,
   "id": "add0df50-aaea-4017-8ddd-47c4d5f53b61",
   "metadata": {
    "tags": []
   },
   "outputs": [],
   "source": [
    "df['duration'] = df['status.completed'] - df['status.started']\n",
    "\n",
    "df.head()"
   ]
  },
  {
   "cell_type": "markdown",
   "id": "1c83a2af-f6a0-46a1-8d2e-40e7c9267b53",
   "metadata": {},
   "source": [
    "The number of skyscrpaers in each country can be found by using the command\n",
    "\n",
    "```\n",
    "df['country'].value_counts()\n",
    "```\n",
    "\n",
    "where `df['country']` selects the columns and `.value_counts()` is a `Series` method that tallies the frequency of each country name.. "
   ]
  },
  {
   "cell_type": "markdown",
   "id": "a6739dee-5e98-41da-b6b2-95d13512dcbd",
   "metadata": {
    "tags": []
   },
   "source": [
    "**Question 5.** Use the `.value_counts()` method to show the frequency of each country name."
   ]
  },
  {
   "cell_type": "code",
   "execution_count": null,
   "id": "26f55827-5ef0-45e1-ab17-7a44969c280c",
   "metadata": {
    "tags": []
   },
   "outputs": [],
   "source": [
    "..."
   ]
  },
  {
   "cell_type": "markdown",
   "id": "d6475bb2-0d17-48d9-b521-6d5aafde4312",
   "metadata": {},
   "source": [
    "Then we used the **filter** [**data move**](https://escholarship.org/uc/item/0mg8m7g6) to create a new dataframe containing only the countries with over 10 skyscrapers. \n",
    "\n",
    "**Question 6.** Filter the `df` dataframe to include only rows where the country is China."
   ]
  },
  {
   "cell_type": "code",
   "execution_count": null,
   "id": "12ce6e72-87e9-423a-8f74-70fd0cd6c181",
   "metadata": {
    "tags": []
   },
   "outputs": [],
   "source": [
    "# Filter by country China and\n",
    "# United States of America\n",
    "..."
   ]
  },
  {
   "cell_type": "markdown",
   "id": "b452a7d9-dd75-46bd-a6ca-56002a89345f",
   "metadata": {},
   "source": [
    "Below are some more examples of how we do this in Python using `pandas`."
   ]
  },
  {
   "cell_type": "code",
   "execution_count": null,
   "id": "3e6f762d",
   "metadata": {
    "tags": []
   },
   "outputs": [],
   "source": [
    "# Filter by country China and\n",
    "# United States of America\n",
    "(...) | (...)"
   ]
  },
  {
   "cell_type": "code",
   "execution_count": null,
   "id": "aaeaaeae-6ad5-4166-8b21-8e5267b5a911",
   "metadata": {
    "tags": []
   },
   "outputs": [],
   "source": [
    "# Filter by country China, United States of America,\n",
    "# United Arab Emirates, and United Arab Emarites\n",
    "\n",
    "# The backslash is used for line continuation, allowing a \n",
    "# single statement to span multiple lines, which can enhance \n",
    "# code readability, especially for long lines of code. \n",
    "\n",
    "(df['country'] == 'China') | \\\n",
    "(df['country'] == 'United States of America') | \\\n",
    "(df['country'] == 'United Arab Emirates') | \\\n",
    "(df['country'] == 'United Arab Emarites')"
   ]
  },
  {
   "cell_type": "markdown",
   "id": "e429700c-c9e7-49df-8285-8ccafbb34743",
   "metadata": {},
   "source": [
    "We could also use the `.query` method"
   ]
  },
  {
   "cell_type": "code",
   "execution_count": null,
   "id": "7c17d934-9f90-4ab7-9bf8-a6900fe4b972",
   "metadata": {
    "tags": []
   },
   "outputs": [],
   "source": [
    "q = \"country == 'China' or \\\n",
    "     country == 'United States of America' or \\\n",
    "     country == 'United Arab Emirates' or \\\n",
    "     country == 'United Arab Emarites'\"\n",
    "df.query(q)"
   ]
  },
  {
   "cell_type": "markdown",
   "id": "4f3789a1-6c09-4027-8470-83ba815c4cdd",
   "metadata": {},
   "source": [
    "or we could use the `.isin` `pandas` dataframe method. For example,\n",
    "\n",
    "```\n",
    "df['country'].isin(countries)\n",
    "```\n",
    "\n",
    "where `df['country']` is the column from the dataframe, `.isin` is the method, and `countries` is the list of coutries we want to filter."
   ]
  },
  {
   "cell_type": "code",
   "execution_count": null,
   "id": "77419703-94cb-48f7-9e84-b23982169592",
   "metadata": {
    "tags": []
   },
   "outputs": [],
   "source": [
    "# A list of countries\n",
    "countries = ['China', \\\n",
    "             'United States of America', \\\n",
    "             'United Arab Emirates', \\\n",
    "             'United Arab Emarites']\n",
    "\n",
    "# A Boolean mask using the .isin method\n",
    "mask = ...\n",
    "\n",
    "# Print the df dataframe using the Boolean mask\n",
    "df[mask]"
   ]
  },
  {
   "cell_type": "markdown",
   "id": "a6a6c1d4-26f8-4601-815c-367d8bfe407a",
   "metadata": {},
   "source": [
    "Now we can assign the filtered dataframe to a new object named `dat`.\n",
    "\n",
    "**Note:** The `.copy()` `pandas` dataframe method is used to create a copy of `df` to ensure that the new `DataFrame` `dat` is a completely separate object from the original `df`. You can read more about this process [**here**](https://docs.google.com/document/d/1cWeXQw9a9uApNaPc4zoShqU-R_X8tPQ0MouSrRsncRY/edit?usp=sharing)."
   ]
  },
  {
   "cell_type": "code",
   "execution_count": null,
   "id": "b87a0865-2853-4dd1-a08a-23de0806200f",
   "metadata": {
    "tags": []
   },
   "outputs": [],
   "source": [
    "dat = df[mask].copy()\n",
    "dat.head()"
   ]
  },
  {
   "cell_type": "markdown",
   "id": "dfacf64e-c68d-4874-b23e-5b8a5bc4b765",
   "metadata": {},
   "source": [
    "## Con't Data Cleaning\n",
    "\n",
    "Data cleaning is the process of preparing data for analysis by identifying and correcting errors, inconsistencies, and inaccuracies in the data. This includes removing duplicates, correcting typos, handling missing values, and ensuring that the data is in a consistent format. A specific component of data cleaning is calld \"data parsing\" or \"string parsing\".\n",
    "\n",
    "\n",
    "## String Parsing\n",
    "\n",
    "String parsing is the process of analyzing a string of characters, extracting relevant information, and converting it into a format suitable for further processing. This often involves separating the string into components based on specific patterns or delimiters, removing unwanted characters, and transforming the data into a different type, such as converting a numeric string into an integer or decimal number.\n",
    "\n",
    "Suppose we want to construct a histogram and a boxplot for the distribution of heights. This issue we face is that the `height` column is formatted as a string and contains two distinct units of measurement—meters and feet.\n",
    "\n",
    "Let's tackle this issue one step at a time.\n",
    "\n",
    "We'll begin by addressing a single value to establish a correction method. Once successful, we'll extend this technique to the entire column. \n",
    "\n",
    "Display the first value in the `height` column using the `dat` dataframe."
   ]
  },
  {
   "cell_type": "code",
   "execution_count": null,
   "id": "5a95d94c-3475-44b4-a9e9-f541ca833e6c",
   "metadata": {
    "tags": []
   },
   "outputs": [],
   "source": [
    "s = ...\n",
    "s"
   ]
  },
  {
   "cell_type": "markdown",
   "id": "fc7a6e88-63fc-4ca4-a4b4-aed7cebbd745",
   "metadata": {},
   "source": [
    "Now, we'll use the `.split` string method to split the string into individual substrings wherever there are spaces, which results in a data structure known as a list. If you want to learn more about string methods in Python [**read the Geeks for Geeks webpage**](https://www.geeksforgeeks.org/python-string-methods/).\n",
    "\n",
    "The method `s.split(' ') ` will return the following output (which is a list)\n",
    "\n",
    "```\n",
    "['528', 'm', '/', '1,732', 'ft']\n",
    "```"
   ]
  },
  {
   "cell_type": "code",
   "execution_count": null,
   "id": "2f352fbf-8073-4054-825d-78fee8539c58",
   "metadata": {
    "tags": []
   },
   "outputs": [],
   "source": [
    "s.split(' ')"
   ]
  },
  {
   "cell_type": "markdown",
   "id": "11ddb7c9-6356-472c-829d-2ed79c501b49",
   "metadata": {},
   "source": [
    "**Question 7.** Access the next to last element in the list."
   ]
  },
  {
   "cell_type": "code",
   "execution_count": null,
   "id": "56ecb01d-8c46-4966-b77b-069b62f5acbb",
   "metadata": {
    "tags": []
   },
   "outputs": [],
   "source": [
    "..."
   ]
  },
  {
   "cell_type": "markdown",
   "id": "daa67f12-770f-4022-b729-7adabe5c2837",
   "metadata": {
    "tags": []
   },
   "source": [
    "**Question 8.** Use the `.replace` string method to replace the comma `(,)`."
   ]
  },
  {
   "cell_type": "code",
   "execution_count": null,
   "id": "4478fe5b-5959-43ee-a3f7-d7c9f296b085",
   "metadata": {
    "tags": []
   },
   "outputs": [],
   "source": [
    "..."
   ]
  },
  {
   "cell_type": "markdown",
   "id": "1515bca9-0f22-48dc-92d4-cc20e71d0bd4",
   "metadata": {
    "tags": []
   },
   "source": [
    "**Question 9.** Use the `float` function to coerce the string into a float."
   ]
  },
  {
   "cell_type": "code",
   "execution_count": null,
   "id": "30c41125-3e08-4760-b771-21bed1fff14f",
   "metadata": {
    "tags": []
   },
   "outputs": [],
   "source": [
    "float(...)"
   ]
  },
  {
   "cell_type": "markdown",
   "id": "e1b49376-067c-476d-88c3-910534ad458f",
   "metadata": {},
   "source": [
    "## User-defined Functions in Python\n",
    "\n",
    "A user-defined function in Python is a function that a programmer creates to perform a specific action or to process data in a way that is not provided by Python's built-in functions. User-defined functions allow for code reusability, better organization, and more readable and maintainable code. They enable you to encapsulate a task into a single unit of code that can be used repeatedly throughout your program.\n",
    "\n",
    "Here's a basic structure of a user-defined function in Python:\n",
    "\n",
    "```\n",
    "def function_name(parameters):\n",
    "    \"\"\"\n",
    "    Docstring explaining the function's purpose and usage.\n",
    "    \"\"\"\n",
    "    # Function body\n",
    "    # Perform actions and optionally return a value\n",
    "    return result\n",
    "```\n",
    "\n",
    "If you want to learn more about user-defined functions in Python [**read my conversation with ChatGPT**](https://docs.google.com/document/d/1hEBJqjZW7gFhC1N3ofNUZYj_6z6vh11jYDLYw3qhjZ4/edit?usp=sharing)."
   ]
  },
  {
   "cell_type": "code",
   "execution_count": null,
   "id": "567d24c6-8962-4051-836a-9a978d3181c3",
   "metadata": {
    "tags": []
   },
   "outputs": [],
   "source": [
    "def string_to_feet(s):\n",
    "    \"\"\"\n",
    "    Converts a height string to a float. The function expects the height to be \n",
    "    in a specific format, e.g., '528 m / 1,732 ft', where the actual height value \n",
    "    precedes the last space-separated segment.\n",
    "    \n",
    "    Parameters: \n",
    "    s (str): The string containing the height to be processed.\n",
    "        \n",
    "    Returns:\n",
    "    float: The height extracted from the string, converted to float.\n",
    "        \n",
    "    Example:\n",
    "    string_to_float('528 m / 1,732 ft') returns 1732.0\n",
    "    \"\"\"\n",
    "    feet = float(s.split(' ')[-2].replace(',', ''))\n",
    "    return feet"
   ]
  },
  {
   "cell_type": "markdown",
   "id": "cc8e2b22-5640-4ba6-9cb1-f9df995f2f58",
   "metadata": {},
   "source": [
    "The `.apply()` method in Pandas is a powerful tool that allows you to apply a function along an axis of a `DataFrame` or on a `Series`. It can be used for a wide range of operations, including data transformation, aggregation, and applying custom functions row-wise or column-wise in a `DataFrame`. "
   ]
  },
  {
   "cell_type": "code",
   "execution_count": null,
   "id": "b4f27d31-2cb0-4f68-a301-fab67a8f240e",
   "metadata": {
    "tags": []
   },
   "outputs": [],
   "source": [
    "# Use the .apply method to call the function\n",
    "# string_to_feet on the values in the height \n",
    "# column in the dat dataframe\n",
    "dat['height'].apply(string_to_feet)"
   ]
  },
  {
   "cell_type": "code",
   "execution_count": null,
   "id": "5428af74-23d8-4a83-aa07-57901fb0ceb4",
   "metadata": {
    "tags": []
   },
   "outputs": [],
   "source": [
    "# Assign the Series to the variable ft\n",
    "ft = dat['height'].apply(string_to_feet)"
   ]
  },
  {
   "cell_type": "code",
   "execution_count": null,
   "id": "bbe686f9-c2f4-46e3-a77f-ce69206182b3",
   "metadata": {
    "tags": []
   },
   "outputs": [],
   "source": [
    "# Add the `ft` `Series` as a column to the `dat` dataframe\n",
    "dat['ft'] = ...\n",
    "\n",
    "# Display the first 5 rows\n",
    "dat.head()"
   ]
  },
  {
   "cell_type": "markdown",
   "id": "c3222f39-6e0f-4d24-abf3-8e2908e7ca13",
   "metadata": {},
   "source": [
    "## Visualizations"
   ]
  },
  {
   "cell_type": "code",
   "execution_count": null,
   "id": "304a671c-629a-4493-bb49-a035b06164db",
   "metadata": {
    "tags": []
   },
   "outputs": [],
   "source": [
    "import matplotlib.pyplot as plt\n",
    "plt.rcParams['figure.figsize'] = [12, 6] \n",
    "plt.rcParams['figure.dpi'] = 100"
   ]
  },
  {
   "cell_type": "markdown",
   "id": "89fdd980-66b3-4f45-b4b0-de8f90ffbbef",
   "metadata": {},
   "source": [
    "**Question 10.** Construct a histogram to visually represent the distribution of values in the `ft` column. "
   ]
  },
  {
   "cell_type": "code",
   "execution_count": null,
   "id": "5a4c23f9-0e59-4952-8666-8700e9e5e3e7",
   "metadata": {
    "tags": []
   },
   "outputs": [],
   "source": [
    "...\n",
    "plt.grid(False);"
   ]
  },
  {
   "cell_type": "markdown",
   "id": "eeec34c4-557a-41c1-95d1-9f146b2ba6a0",
   "metadata": {},
   "source": [
    "**Question 11.** Construct a histogram to visually represent the distribution of values in the `duration` column. "
   ]
  },
  {
   "cell_type": "code",
   "execution_count": null,
   "id": "ebb4aab3-0772-4529-9925-dc9759af46ba",
   "metadata": {
    "tags": []
   },
   "outputs": [],
   "source": [
    "...\n",
    "plt.grid(False);"
   ]
  },
  {
   "cell_type": "markdown",
   "id": "1ded8fee-d166-4c5e-bc42-c4ea2e451bad",
   "metadata": {
    "tags": []
   },
   "source": [
    "###  Construction Duration\n",
    "\n",
    "Has the average time required to construct a skyscraper increased or decreased as time has progressed?"
   ]
  },
  {
   "cell_type": "code",
   "execution_count": null,
   "id": "41a30b22-b3dc-4320-9431-ed0cdb43d3f3",
   "metadata": {
    "tags": []
   },
   "outputs": [],
   "source": [
    "# The .groupby method is used to group skyscrapers\n",
    "# by year, the ['duration'] notation is used to access\n",
    "# the values in the duration column, and the .mean()\n",
    "# Series method is used to find the mean for each group\n",
    "# of years\n",
    "\n",
    "# The mean duration time for each each returned as \n",
    "# a Series\n",
    "md = ...\n",
    "\n",
    "md"
   ]
  },
  {
   "cell_type": "markdown",
   "id": "7e918f1a-243f-4fe5-8fc8-54da8d952f93",
   "metadata": {},
   "source": [
    "**Question 12.** Does anything stand out? What do you notice? What do you wonder?"
   ]
  },
  {
   "cell_type": "markdown",
   "id": "9f329317-4a5f-4898-a1ac-1397898cf5be",
   "metadata": {},
   "source": [
    "_Click here to type your answer replacing this text._ "
   ]
  },
  {
   "cell_type": "markdown",
   "id": "947ed1b8-beec-4584-94a9-30e055961971",
   "metadata": {},
   "source": [
    "**Question 13.** Construct a line chart to depict the average construction duration of skyscrapers on a yearly basis, using the entire span of years available in the dataset. "
   ]
  },
  {
   "cell_type": "code",
   "execution_count": null,
   "id": "2aedcefe-ca85-43af-ac0b-70ca3a424cd8",
   "metadata": {
    "tags": []
   },
   "outputs": [],
   "source": [
    "...\n",
    "plt.xticks(ticks=md.index, labels=md.index, rotation=270, fontsize=6);"
   ]
  },
  {
   "cell_type": "markdown",
   "id": "b9926d69-cb61-4be3-9fa1-42ac3e0605a9",
   "metadata": {},
   "source": [
    "**Question 14.** Construct a line chart to depict the average construction duration of skyscrapers on a yearly basis, excluding 1930 (the year that the Empire State Building was built). "
   ]
  },
  {
   "cell_type": "code",
   "execution_count": null,
   "id": "2fe9fbfb-b18a-4fc5-8ff4-dfcf2b8be4db",
   "metadata": {
    "tags": []
   },
   "outputs": [],
   "source": [
    "...\n",
    "year_ticks = ...\n",
    "year_tick_labels ...\n",
    "plt.xticks(ticks=..., labels=..., rotation=270, fontsize=6);"
   ]
  },
  {
   "cell_type": "markdown",
   "id": "ad225e78-de1d-478e-8694-b0a3a97c93dd",
   "metadata": {},
   "source": [
    "Now, we'll apply a similar analytical approach, this time concentrating on the heights of the skyscrapers, measured in feet. This will allow us to explore and understand variations in average skyscraper heights over time."
   ]
  },
  {
   "cell_type": "code",
   "execution_count": null,
   "id": "40802834-c2b5-4485-b2a8-2868d827e7ea",
   "metadata": {
    "tags": []
   },
   "outputs": [],
   "source": [
    "# The .groupby method is used to group skyscrapers\n",
    "# by year, the ['ft'] notation is used to access\n",
    "# the values in the ft column, and the .mean()\n",
    "# Series method is used to find the mean for each group\n",
    "# of years\n",
    "\n",
    "# The mean height for each each returned as \n",
    "# a Series\n",
    "mh = dat.groupby('status.started')['ft'].mean()\n",
    "\n",
    "mh"
   ]
  },
  {
   "cell_type": "markdown",
   "id": "d100295f-45f1-44e7-9bf0-f131853de74f",
   "metadata": {},
   "source": [
    "The line chart below depicts the average height (ft) of skyscrapers on a yearly basis, using the entire span of years available in the dataset. "
   ]
  },
  {
   "cell_type": "code",
   "execution_count": null,
   "id": "2b770800-4dfd-40be-a619-3519aaf1d4b4",
   "metadata": {
    "tags": []
   },
   "outputs": [],
   "source": [
    "mh.plot(kind='line')\n",
    "year_ticks = mh.index\n",
    "year_tick_labels = mh.index\n",
    "plt.xticks(ticks=year_ticks, labels=year_tick_labels, rotation=270, fontsize=6);"
   ]
  },
  {
   "cell_type": "markdown",
   "id": "292e7343-76ad-4e27-b2c5-5784e4e16d92",
   "metadata": {},
   "source": [
    "The line chart below depicts the average construction duration of skyscrapers on a yearly basis, excluding 1930 (the year that the Empire State Building was built). "
   ]
  },
  {
   "cell_type": "code",
   "execution_count": null,
   "id": "393aa37d-26ed-441a-99ff-205fb251c461",
   "metadata": {
    "tags": []
   },
   "outputs": [],
   "source": [
    "mh[5:].plot(kind='line')\n",
    "year_ticks = mh[5:].index\n",
    "year_tick_labels = mh[5:].index\n",
    "plt.xticks(ticks=year_ticks, labels=year_tick_labels, rotation=270, fontsize=6);"
   ]
  },
  {
   "cell_type": "markdown",
   "id": "6e2fb05e-c13f-47d8-b65f-04db2b7dc036",
   "metadata": {},
   "source": [
    "The line chart to depicts the average construction duration and average height (ft) of skyscrapers on a yearly basis, using the entire span of years available in the dataset. "
   ]
  },
  {
   "cell_type": "code",
   "execution_count": null,
   "id": "5398f522-1bfb-44a9-9198-7f70a4aa8069",
   "metadata": {
    "tags": []
   },
   "outputs": [],
   "source": [
    "# Combine both the md and mh Series into a DataFrame\n",
    "mdh = pd.DataFrame({'Duration': md, 'Height': mh})\n",
    "\n",
    "mdh.plot(kind='line');"
   ]
  },
  {
   "cell_type": "markdown",
   "id": "53b83e3d-e06a-4ff9-9ca5-312378edeaba",
   "metadata": {},
   "source": [
    "The line chart below depicts the average construction duration and average height (ft) of skyscrapers on a yearly basis, excluding 1930 (the year that the Empire State Building was built). "
   ]
  },
  {
   "cell_type": "code",
   "execution_count": null,
   "id": "48cb11b0-5fac-4ead-ae00-de27d01a2523",
   "metadata": {
    "tags": []
   },
   "outputs": [],
   "source": [
    "# Plot one on top of the other\n",
    "fig, ax = plt.subplots(2, 1,)  # 2 rows, 1 column\n",
    "\n",
    "# Plot for duration\n",
    "mdh['Duration'][5:].plot(kind='line', ax=ax[0], color='blue', title='Duration')\n",
    "md_year_ticks = md[5:].index\n",
    "md_year_tick_labels = md[5:].index\n",
    "ax[0].set_xticks(ticks=md_year_tick_labels)\n",
    "ax[0].set_xticklabels(md_year_ticks, rotation=45)\n",
    "ax[0].set_ylabel('Duration')\n",
    "\n",
    "# Plot for height\n",
    "mdh['Height'][5:].plot(kind='line',ax=ax[1], color='red', title='Height(ft)')\n",
    "mh_year_ticks = mh[5:].index\n",
    "mh_year_tick_labels = mh[5:].index\n",
    "ax[1].set_xticks(ticks=mh_year_ticks)\n",
    "ax[1].set_xticklabels(mh_year_tick_labels, rotation=45)\n",
    "ax[1].set_ylabel('Height')\n",
    "\n",
    "# Adjust vertical spacing between the subplots\n",
    "# hspace value is a fraction of the average \n",
    "# axis height\n",
    "plt.subplots_adjust(hspace=0.75);"
   ]
  },
  {
   "cell_type": "markdown",
   "id": "98bd8bc3-cedc-4ab4-9044-ac1e95e654db",
   "metadata": {},
   "source": [
    "**Question 15.** Does anything stand out? What do you notice? What do you wonder? Explain your repsonse in fewer than 300 words."
   ]
  },
  {
   "cell_type": "markdown",
   "id": "c6bb8d8e-c80e-4007-a87b-af57257d4498",
   "metadata": {},
   "source": [
    "_Click here to type your answer replacing this text._ "
   ]
  }
 ],
 "metadata": {
  "kernelspec": {
   "display_name": "Python 3 (ipykernel)",
   "language": "python",
   "name": "python3"
  },
  "language_info": {
   "codemirror_mode": {
    "name": "ipython",
    "version": 3
   },
   "file_extension": ".py",
   "mimetype": "text/x-python",
   "name": "python",
   "nbconvert_exporter": "python",
   "pygments_lexer": "ipython3",
   "version": "3.10.11"
  }
 },
 "nbformat": 4,
 "nbformat_minor": 5
}
