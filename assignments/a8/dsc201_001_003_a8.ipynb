{
 "cells": [
  {
   "cell_type": "markdown",
   "id": "01e385d4-c1ac-4187-87ff-cdc24fd2bbc2",
   "metadata": {},
   "source": [
    "# Run the cell below\n",
    "\n",
    "To run a code cell (i.e.; execute the python code inside a Jupyter notebook) you can click the play button on the ribbon underneath the name of the notebook that looks like ▶| or hold down `Shift` + `Return`.\n",
    "\n",
    "Before you begin run the code cell below."
   ]
  },
  {
   "cell_type": "code",
   "execution_count": null,
   "id": "9681546f",
   "metadata": {
    "deletable": false,
    "editable": false
   },
   "outputs": [],
   "source": [
    "# Initialize Otter\n",
    "import otter\n",
    "grader = otter.Notebook(\"dsc201_001_003_a8.ipynb\")"
   ]
  },
  {
   "cell_type": "markdown",
   "id": "a7f2161a-33d4-45c0-a0cf-114205007ab4",
   "metadata": {},
   "source": [
    "**Name:** \n",
    "\n",
    "**Section:** \n",
    "\n",
    "**Date:**"
   ]
  },
  {
   "cell_type": "markdown",
   "id": "1abecfba-7441-46d9-8247-93576ad71a68",
   "metadata": {},
   "source": [
    "## This Week's Assignment\n",
    "\n",
    "In this week's assignment, you'll learn how to:\n",
    "\n",
    "- slice data that is stored in a `pandas` `DataFrame`.\n",
    "\n",
    "- write a user-defined function.\n",
    "\n",
    "- manipulate string data.\n",
    "\n",
    "- apply a user-defined function to a dataframe column.\n",
    "\n",
    "Let's get started!"
   ]
  },
  {
   "cell_type": "markdown",
   "id": "c79a1945-4a4f-4cef-92d5-93da7f34da26",
   "metadata": {},
   "source": [
    "## Questions about Skyscrapers\n",
    "\n",
    "In a previous lesson you were asked to write down two questions you thought could be answered by exploring the `skyscrapers` dataset. \n",
    "\n",
    "[Here is a compilation of the questions](https://docs.google.com/document/d/1u_fY4LZr1tqrHQGlaC3g50xg6PVyk_Lbz54Ne_uAq8I/edit?usp=sharing) from both sections of the section (001 and 003) of Intro to R/Python for Data Science that I teach.\n",
    "\n",
    "Today in class we will answer a few of these questions and make explicit mention to the associated data move(s). As a reminder, here is a list of the core data moves we discussed in last week's class:\n",
    "\n",
    "1. filtering\n",
    "\n",
    "1. grouping\n",
    "\n",
    "1. summarizing\n",
    "\n",
    "1. calculating\n",
    "\n",
    "1. merging/joining\n",
    "\n",
    "1. make hierarchy\n",
    "\n",
    "and [here is the paper](https://escholarship.org/uc/item/0mg8m7g6) from which the data moves are referenced."
   ]
  },
  {
   "cell_type": "markdown",
   "id": "ea82823d-bccf-4027-a9d6-d800a82d1be9",
   "metadata": {
    "deletable": false,
    "editable": false
   },
   "source": [
    "**Question 1.** Let's import `pandas` as `pd`, then use `pd.read_csv` to read load the `skyscrapers.csv` file into a `pandas` `DataFrame` named `skyscrapers`.\n",
    "\n",
    "**Note:** The `skyscrapers.csv` file is located in the data folder."
   ]
  },
  {
   "cell_type": "code",
   "execution_count": null,
   "id": "4459ed12-ca30-49ed-99d8-9cf602f6dcfa",
   "metadata": {
    "tags": []
   },
   "outputs": [],
   "source": [
    "# Import the pandas module as pd\n",
    "import ... as ...\n",
    "\n",
    "# Read the .csv file\n",
    "skyscrapers = ..."
   ]
  },
  {
   "cell_type": "code",
   "execution_count": null,
   "id": "adaeca84",
   "metadata": {
    "deletable": false,
    "editable": false
   },
   "outputs": [],
   "source": [
    "grader.check(\"q1\")"
   ]
  },
  {
   "cell_type": "markdown",
   "id": "bfddf660-fdba-44f8-89e3-43ca705b1dfe",
   "metadata": {
    "deletable": false,
    "editable": false
   },
   "source": [
    "<!-- BEGIN QUESTION -->\n",
    "\n",
    "**Question 2.** Display the first 10 rows of the `skyscrapers` dataframe."
   ]
  },
  {
   "cell_type": "code",
   "execution_count": null,
   "id": "d142ab9f-137a-4d49-8b28-7bf13f702b34",
   "metadata": {
    "tags": []
   },
   "outputs": [],
   "source": [
    "# Display the first 10 rows in the dataframe\n",
    "..."
   ]
  },
  {
   "cell_type": "markdown",
   "id": "5e886c74-a66b-4964-8c42-6fbab0be039c",
   "metadata": {
    "deletable": false,
    "editable": false
   },
   "source": [
    "<!-- END QUESTION -->\n",
    "\n",
    "**Question 3.** What is the average height for skyscrapers made with **concrete**? Save this value to `avg_height_concrete`."
   ]
  },
  {
   "cell_type": "code",
   "execution_count": null,
   "id": "705fa6be-2eea-4383-a4a2-78b7bf90dc32",
   "metadata": {
    "tags": []
   },
   "outputs": [],
   "source": [
    "avg_height_concrete = ...\n",
    "avg_height_concrete"
   ]
  },
  {
   "cell_type": "code",
   "execution_count": null,
   "id": "51edc8cd",
   "metadata": {
    "deletable": false,
    "editable": false
   },
   "outputs": [],
   "source": [
    "grader.check(\"q3\")"
   ]
  },
  {
   "cell_type": "markdown",
   "id": "73217620-43b9-499f-a84b-0ab45e5ea37e",
   "metadata": {},
   "source": [
    "This is one way we can find the average height for buildings made from concrete. But what about the other materials? Let's check to see how many different types of materials are in the data set."
   ]
  },
  {
   "cell_type": "markdown",
   "id": "c47a3280-0d7d-4b18-af62-b58e79f74b44",
   "metadata": {
    "deletable": false,
    "editable": false
   },
   "source": [
    "<!-- BEGIN QUESTION -->\n",
    "\n",
    "**Question 4.** What are all the types of materials in the dataset and what is the distribution of the different materials in the dataset?"
   ]
  },
  {
   "cell_type": "code",
   "execution_count": null,
   "id": "325c789d-2e56-41e0-9e95-608f1b8888a8",
   "metadata": {
    "tags": []
   },
   "outputs": [],
   "source": [
    "..."
   ]
  },
  {
   "cell_type": "markdown",
   "id": "66173a56-db1a-45c4-a022-7f8c0fcfdc18",
   "metadata": {
    "deletable": false,
    "editable": false
   },
   "source": [
    "<!-- END QUESTION -->\n",
    "\n",
    "<!-- BEGIN QUESTION -->\n",
    "\n",
    "**Question 5.** There are three types of materials. We want the average height for each category. To accomplish this task which data move(s) do we need to use?"
   ]
  },
  {
   "cell_type": "markdown",
   "id": "8370710d",
   "metadata": {},
   "source": [
    "_Type your answer here, replacing this text._"
   ]
  },
  {
   "cell_type": "markdown",
   "id": "1cfc5b26-ff57-411c-937d-ee215cf7669b",
   "metadata": {
    "deletable": false,
    "editable": false
   },
   "source": [
    "<!-- END QUESTION -->\n",
    "\n",
    "### `.groupby`\n",
    "\n",
    "Groupby is a pretty simple concept. We can create a grouping of categories and apply a function to the categories. It’s a simple concept but it’s an extremely valuable technique that’s widely used in data science.\n",
    "\n",
    "Click [here](https://www.geeksforgeeks.org/pandas-groupby/) to read more about the concept and to see an example.\n",
    "\n",
    "Common aggregation functions that can be applied after groupby include:\n",
    "\n",
    "- `sum()`: Sum of values in each group.\n",
    "\n",
    "- `mean()`: Mean (average) of values in each group.\n",
    "\n",
    "- `count()`: Count of values in each group.\n",
    "\n",
    "- `max()`: Maximum value in each group.\n",
    "\n",
    "- `min()`: Minimum value in each group.\n",
    "\n",
    "- `agg()`: Apply custom aggregation functions to grouped data.\n",
    "\n",
    "You can also group by multiple columns and apply aggregation functions to create more complex summaries of your data.\n",
    "\n",
    "The `groupby` method is useful for tasks like data exploration, summarizing data, and creating pivot tables, making it an essential tool in data analysis with pandas.\n",
    "\n",
    "**Source:** [ChatGPT generated response](https://chat.openai.com/share/b34a68b0-9e33-49eb-9acc-f25196291b03)"
   ]
  },
  {
   "cell_type": "markdown",
   "id": "6dc1f586-9b2c-45fb-90a3-295910bb665d",
   "metadata": {
    "deletable": false,
    "editable": false
   },
   "source": [
    "<!-- BEGIN QUESTION -->\n",
    "\n",
    "**Question 6.** Use `.groupby()` to find the average height across all material types in the dataset."
   ]
  },
  {
   "cell_type": "code",
   "execution_count": null,
   "id": "cdb882a8-8bd0-4b5a-b2f5-25e48f440dcd",
   "metadata": {
    "tags": []
   },
   "outputs": [],
   "source": [
    "..."
   ]
  },
  {
   "cell_type": "markdown",
   "id": "9dd701d7-091f-46e9-a155-c5e2b172796e",
   "metadata": {
    "deletable": false,
    "editable": false
   },
   "source": [
    "<!-- END QUESTION -->\n",
    "\n",
    "So what is `.groupby` actually doing. To see how this method works let start by making a `GroupBy` object.\n",
    "\n",
    "Run the cell below."
   ]
  },
  {
   "cell_type": "code",
   "execution_count": null,
   "id": "99d21bdd-81c9-4039-adaf-536b391e1f96",
   "metadata": {},
   "outputs": [],
   "source": [
    "grps = skyscrapers.groupby('material')\n",
    "grps"
   ]
  },
  {
   "cell_type": "markdown",
   "id": "7e667b41-c056-40fa-b6ec-9e1bf3dceae5",
   "metadata": {},
   "source": [
    "The variable `grps` is a `GroupBy` object, which acts like a container that stores information about how the data is grouped. Let's explore some of the features/attributes of a `GroupBy` object."
   ]
  },
  {
   "cell_type": "markdown",
   "id": "7c3d7cd4-0623-438c-abff-36e288bb9936",
   "metadata": {},
   "source": [
    "**Example 1.** Show the size of each group"
   ]
  },
  {
   "cell_type": "code",
   "execution_count": null,
   "id": "03acb39a-52d5-4f58-8431-0f5b1d95d33c",
   "metadata": {},
   "outputs": [],
   "source": [
    "# Show the size of each group\n",
    "grps.size()"
   ]
  },
  {
   "cell_type": "markdown",
   "id": "d44db59f-6f5b-4a40-89b4-8d98e66df929",
   "metadata": {},
   "source": [
    "**Example 2.** Show the contents of the concrete group"
   ]
  },
  {
   "cell_type": "code",
   "execution_count": null,
   "id": "6e2cc241-8cab-471b-a795-77d67bbbb08a",
   "metadata": {},
   "outputs": [],
   "source": [
    "# Show the contents of the concrete group\n",
    "grps.get_group('concrete')"
   ]
  },
  {
   "cell_type": "markdown",
   "id": "9c85525e-ed00-4c4b-a3d9-d3c150366da8",
   "metadata": {},
   "source": [
    "**Example 3.** Show all the groups"
   ]
  },
  {
   "cell_type": "code",
   "execution_count": null,
   "id": "81d561b4-26b8-4a9d-904f-c2c5903c2934",
   "metadata": {},
   "outputs": [],
   "source": [
    "# Show all the groups\n",
    "grps.groups"
   ]
  },
  {
   "cell_type": "markdown",
   "id": "4a58688f-454e-4790-89f5-0218dcf8ee69",
   "metadata": {},
   "source": [
    "**Example 4.** Show the keys in the groups"
   ]
  },
  {
   "cell_type": "code",
   "execution_count": null,
   "id": "fb71c535-23c9-4407-a020-a8e0483e6d2b",
   "metadata": {},
   "outputs": [],
   "source": [
    "# Show the keys in the groups\n",
    "grps.groups.keys()"
   ]
  },
  {
   "cell_type": "markdown",
   "id": "64e941b2-e54c-443e-9d90-018888a7a579",
   "metadata": {},
   "source": [
    "**Example 5.** Show all the index values of the rows in the `concrete` group"
   ]
  },
  {
   "cell_type": "code",
   "execution_count": null,
   "id": "74d988cb-8de0-4367-86ee-06e6ed3b8f2e",
   "metadata": {},
   "outputs": [],
   "source": [
    "# Show all the index values of the rows in the 'concrete' group\n",
    "grps.groups['concrete']"
   ]
  },
  {
   "cell_type": "markdown",
   "id": "e730cd1e-a778-4121-983f-4a8284f2333b",
   "metadata": {},
   "source": [
    "We can also group on multiple categories. Fro example, let's group on `material` and `city`."
   ]
  },
  {
   "cell_type": "code",
   "execution_count": null,
   "id": "b2364432-af6e-49c2-879d-08e28018445b",
   "metadata": {},
   "outputs": [],
   "source": [
    "grps = skyscrapers.groupby(['material', 'city'])\n",
    "grps"
   ]
  },
  {
   "cell_type": "markdown",
   "id": "24f31854-567c-4895-9f44-4cf2890cc33c",
   "metadata": {},
   "source": [
    "**Example 6.** Show the size of each group"
   ]
  },
  {
   "cell_type": "code",
   "execution_count": null,
   "id": "4e078af2-922e-4db6-9b18-df5921d179a3",
   "metadata": {},
   "outputs": [],
   "source": [
    "# Show the size of each group\n",
    "grps.size()"
   ]
  },
  {
   "cell_type": "markdown",
   "id": "095756f7-347d-43dd-a291-4f915442c9f8",
   "metadata": {},
   "source": [
    "**Example 7.** Show all the groups"
   ]
  },
  {
   "cell_type": "code",
   "execution_count": null,
   "id": "9ab0cfd5-511d-4c05-8a29-8da7e9657d77",
   "metadata": {},
   "outputs": [],
   "source": [
    "# Show all the groups\n",
    "grps.groups"
   ]
  },
  {
   "cell_type": "markdown",
   "id": "d4e757a0-0a74-4bbc-b9d2-6bb39d360f9f",
   "metadata": {},
   "source": [
    "**Example 8.** Show the keys for all the groups"
   ]
  },
  {
   "cell_type": "code",
   "execution_count": null,
   "id": "1f771fa3-79d6-4618-ad54-b8607d67f720",
   "metadata": {},
   "outputs": [],
   "source": [
    "# Show the keys for all the groups\n",
    "grps.groups.keys()"
   ]
  },
  {
   "cell_type": "markdown",
   "id": "b1215bd8-9e48-40fa-bc2b-53017b17a30b",
   "metadata": {},
   "source": [
    "**Example 9.** Show the `concrete`, `New York City` group"
   ]
  },
  {
   "cell_type": "code",
   "execution_count": null,
   "id": "2eef5d6c-2d32-4a17-85d2-6eaa87144f6f",
   "metadata": {},
   "outputs": [],
   "source": [
    "# Show the 'concrete' 'New York City' group\n",
    "grps.get_group(('concrete', 'New York City') )"
   ]
  },
  {
   "cell_type": "markdown",
   "id": "c3ccc2a8-cb02-4d96-90e6-1caa58b9581f",
   "metadata": {
    "deletable": false,
    "editable": false
   },
   "source": [
    "<!-- BEGIN QUESTION -->\n",
    "\n",
    "**Question 7.** Create a dataframe that contains only the concrete skyscrapers in New York City that are taller than 200 meters.\n",
    "\n",
    "**Note:** To earn all the points you must use a Boolean mask."
   ]
  },
  {
   "cell_type": "code",
   "execution_count": null,
   "id": "500e43f0-cb63-4356-bd4a-85f9193261ad",
   "metadata": {
    "tags": []
   },
   "outputs": [],
   "source": [
    "..."
   ]
  },
  {
   "cell_type": "markdown",
   "id": "c616fe5b-4a44-41d9-b917-a9b6a17654a6",
   "metadata": {
    "deletable": false,
    "editable": false
   },
   "source": [
    "<!-- END QUESTION -->\n",
    "\n",
    "## What's in a name?\n",
    "\n",
    "Another fun question mentioned by several of your classmates was _\"What are the lengths of the skyscraper names?\"_. In addtion, a few students asked _\"Which skyscraper has the longest name?\"_. Names are important and can provide a lot of insight into relevant events happening in society (as we mentioned last week with our exploration of the `babynames` dataset).\n",
    "\n",
    "Suppose we want to know which skyscraper has the longest name. How can we accomplish this task programmatically? We aren't going to count the letters in each name by hand. So what can we do?"
   ]
  },
  {
   "cell_type": "markdown",
   "id": "72123f19-540d-4524-90e6-2a6247f35970",
   "metadata": {
    "deletable": false,
    "editable": false
   },
   "source": [
    "<!-- BEGIN QUESTION -->\n",
    "\n",
    "**Question 8.** Write down the steps that you think need to be taken to determine which skyscraper in the dataset has the longest name."
   ]
  },
  {
   "cell_type": "markdown",
   "id": "f1a0ade3",
   "metadata": {},
   "source": [
    "_Type your answer here, replacing this text._"
   ]
  },
  {
   "cell_type": "markdown",
   "id": "928bea33-6632-47b8-ac8e-f15b4906fb21",
   "metadata": {
    "deletable": false,
    "editable": false
   },
   "source": [
    "<!-- END QUESTION -->\n",
    "\n",
    "## Think like a data scientist\n",
    "\n",
    "Now that you've had a moment to think about how you would determine which skyscraper in the dataset has the longest name, let's do it together (like a data scientist). Now, to be transparent, this is probably not how a professional data scientist would complete this task; nonetheless, after we implement our solution we'll know the answer to our question (and knowing is half the battle)."
   ]
  },
  {
   "cell_type": "code",
   "execution_count": null,
   "id": "e00e694a-c6fa-4902-968f-01d7cc9bd7ea",
   "metadata": {},
   "outputs": [],
   "source": [
    "from IPython.display import IFrame\n",
    "\n",
    "# YouTube video ID\n",
    "video_id = 'pele5vptVgc'\n",
    "\n",
    "# Embed the YouTube video with custom parameters\n",
    "url = f'https://www.youtube.com/embed/{video_id}?rel=0'\n",
    "\n",
    "IFrame(url, width=560, height=315)"
   ]
  },
  {
   "cell_type": "markdown",
   "id": "4b36bda3-d0fc-4939-b844-4f972fc56260",
   "metadata": {},
   "source": [
    "First, let's see if we can count the letters in a single name. We'll use the second name (with index value 1) in the `skyscrapers` dataframe 'Willis Tower'."
   ]
  },
  {
   "cell_type": "code",
   "execution_count": null,
   "id": "20428220-5f1c-4d67-bce6-96617f36b719",
   "metadata": {},
   "outputs": [],
   "source": [
    "skyscrapers.name[1]"
   ]
  },
  {
   "cell_type": "markdown",
   "id": "56774724-4d8f-4943-a453-e0a7909e2d3d",
   "metadata": {},
   "source": [
    "Here are two things to consider when you are working with text data.\n",
    "\n",
    "- When processing text for tasks like searching, sorting, or text analysis, it's often helpful to have the text in a consistent case to avoid issues caused by case differences.\n",
    "\n",
    "- When comparing strings, you want to ensure that the comparison is case-insensitive. For example, if you're searching for a specific word in a block of text, you might want to convert both the search term and the text to lowercase (or uppercase) to ensure that you find matches regardless of the case used. This ensures consistency in your comparisons.\n",
    "\n",
    "Let's use lowercase."
   ]
  },
  {
   "cell_type": "code",
   "execution_count": null,
   "id": "fd5f8d2c-9a4b-40cf-8516-99a2be35f604",
   "metadata": {},
   "outputs": [],
   "source": [
    "skyscrapers.name[1].lower()"
   ]
  },
  {
   "cell_type": "markdown",
   "id": "78f134e9-af0b-4385-bbd7-caefa0633138",
   "metadata": {},
   "source": [
    "We don't want to count the spaces, so we need to remove them."
   ]
  },
  {
   "cell_type": "code",
   "execution_count": null,
   "id": "c4126ddc-86f9-4297-9653-92a9e1348c6e",
   "metadata": {},
   "outputs": [],
   "source": [
    "skyscrapers.name[1].lower().replace(' ', '')"
   ]
  },
  {
   "cell_type": "markdown",
   "id": "b71e8970-ede5-4ac9-93ef-ffe4a95eadb9",
   "metadata": {},
   "source": [
    "We could loop over the characters (i.e. use a `for` loop) to count the letters, but the `len` command will do that for us so a `for` loop isn't necessary."
   ]
  },
  {
   "cell_type": "code",
   "execution_count": null,
   "id": "16326ccc-fbb0-40df-a07e-f442b2bf41d9",
   "metadata": {},
   "outputs": [],
   "source": [
    "len(skyscrapers.name[1].lower().replace(' ', ''))"
   ]
  },
  {
   "cell_type": "markdown",
   "id": "596c2c40-130c-4911-b095-a5033a27ad23",
   "metadata": {},
   "source": [
    "Now if we can do it for one name we can use the power of computing and programming to do the same thing to all the names. But how? We could use a `for` loop, but since the names we need are in a `pandas` `DataFrame` it'll be more effecient and effective to use a dataframe method called `.apply`.\n",
    "\n",
    "### `.apply()`\n",
    "\n",
    "ChatGPT says that the `.apply()` method in pandas is used to apply a function along the axis of a `DataFrame` or `Series`. It allows you to perform custom operations on the elements of the `DataFrame` or `Series`. What?!?!\n",
    "\n",
    "**Source:** [ChatGPT generated response](https://chat.openai.com/share/95b23d87-bc6c-4442-bdf7-01dd87e471a4)\n",
    "\n",
    "Let's see if we can simply that language. \n",
    "\n",
    "In simple terms, the `.apply()` method in pandas is used to apply a function to each element or column of a `DataFrame`. It allows you to perform a custom operation on your data, element by element, or column by column. This explanation seems to be a bit better ... perhaps. \n",
    "\n",
    "**Source:** [ChatGPT generated response](https://chat.openai.com/share/de27e63c-8a24-447a-907d-16f6c764e732)\n",
    "\n",
    "What does ChatGPT mean by - \"apply a function\" and what does this part of the response mean?\n",
    "\n",
    "```\n",
    "# Define a custom function to double a number\n",
    "def double_number(x):\n",
    "    return x * 2\n",
    "```\n",
    "\n",
    "What does the comment `# Define a custom function to double a number` mean? I thought ChatGPT was supposed to just give me the answers - now I have more questions? Is this what is meant when ChatGPT says **\"Here are some general tips for using me effectively:\"**\n",
    "\n",
    "- Be clear and specific in your queries.\n",
    "\n",
    "- Provide context when necessary.\n",
    "\n",
    "- Review and verify the information I provide, especially if accuracy is critical.\n",
    "\n",
    "- Experiment and iterate to get the desired results.\n",
    "\n",
    "- Remember that while I can provide valuable information and generate text, I may not always have real-time data or up-to-date information, as my knowledge is based on data up to September 2021.\n",
    "\n",
    "Ultimately, the best way to use me depends on your unique needs and goals. Feel free to ask questions or request assistance in any area where you think a language model can be helpful."
   ]
  },
  {
   "cell_type": "markdown",
   "id": "9402bab3-bac1-4e49-803c-23817221bd30",
   "metadata": {},
   "source": [
    "## The Human in AI\n",
    "\n",
    "For a beginning programmer, ChatGPT may not be so helpful for solving complex problems. Not to say that the responses given from ChatGPT aren't correct, but if you don't know what a *custom* or *user-defined* function is then you'll need to continue your conversation (i.e. **iterate** until you get enough information to understand **how** the solution is being implemented so that you can make sure the solution is **accurate**).\n",
    "\n",
    "Fortunately you have a human (me), to help you understand how the ChatGPT solution works so you can apply (no pun intended) it in the future to solve similar problems.\n",
    "\n",
    "### User-defined Function\n",
    "\n",
    "A user-defined Python function is a custom function created by a programmer to perform a specific task or a set of tasks within a Python program. These functions are not built-in or part of base or standard Python, rather they are defined by the user to meet their specific needs (like figuring out the length of each skyscraper name). \n",
    "\n",
    "Below is an example \n",
    "\n",
    "```\n",
    "def double_value(x):\n",
    "    result = 2*x\n",
    "    return result\n",
    "```\n",
    "\n",
    "Here's a breakdown of the components:\n",
    "\n",
    "- `def`: This is the keyword that tells Python you are defining a function.\n",
    "\n",
    "- `double_name`: This is the name *you* choose for *your* function. It should follow the rules for naming variables in Python. This is the name you'll use to call the function in your code.\n",
    "\n",
    "- `x`: This is called a parameter (i.e. input). This is optional, and is enclosed in parentheses. It represents the input(s) or argument(s) that the function accepts. \n",
    "\n",
    "- `result = 2*x`: This is called the function body. This is where you write the code that defines what the function does. It's a block of indented statements, typically using 4 spaces.\n",
    "\n",
    "- `return result`: This is an optional part of the function definition. It specifies the value that the function should return when called. Not all functions need to return a value. In fact, and you can have functions that don't use the `return` statement.\n",
    "\n",
    "In the code cell below we can define a function called `name_length` that takes the name a skyscraper as a parameter named `bldg`.\n",
    "\n",
    "Run the code cell below to load the function into the notebook."
   ]
  },
  {
   "cell_type": "code",
   "execution_count": null,
   "id": "5a178c90-248a-43fe-a5cd-337224eabe6f",
   "metadata": {},
   "outputs": [],
   "source": [
    "# User-defined function \n",
    "## function name: name_length\n",
    "## parameter name: bldg (The name of the skyscraper)\n",
    "## parameter object type: The name of the skyscraper as a string\n",
    "\n",
    "def name_length(bldg):\n",
    "    \n",
    "    ## Find the length of the skyscraper name and save the value\n",
    "    ## to the variable length\n",
    "    \n",
    "    length = len(bldg.lower().replace(' ', ''))\n",
    "    \n",
    "    ## Return the variable length - the number of letters in\n",
    "    ## the skyscraper's name\n",
    "    \n",
    "    return length"
   ]
  },
  {
   "cell_type": "markdown",
   "id": "7d1b17a3-cf62-4a5e-94c9-b91369f73dce",
   "metadata": {},
   "source": [
    "Now let's test our function with a single value to make sure we get the results we expect. \n",
    "\n",
    "**Note:** This is a common practice in data science and computer science/programming."
   ]
  },
  {
   "cell_type": "code",
   "execution_count": null,
   "id": "3c3c8ac7-3dd1-4fd0-a5f0-a3738e781891",
   "metadata": {},
   "outputs": [],
   "source": [
    "name_length(skyscrapers.name[1])"
   ]
  },
  {
   "cell_type": "markdown",
   "id": "9073f43b-12db-4845-8c85-9ebab5c1346a",
   "metadata": {},
   "source": [
    "Looks like our function works!\n",
    "\n",
    "### Applying the Function to the Data\n",
    "\n",
    "Now that we are sure that our function works for one name, we can apply it to every name in our dataframe. \n",
    "\n",
    "We already know that the column of a dataframe is a `Series`. We can select the column that contains the data we want to work with, then apply our function, `name_length` to each name in the column (`Series`). Meaning, each name in the column (`Series`) will be used as the parameter (`bldg`) in the `name_lengh` function.\n",
    "\n",
    "For example, if we take the name 'Willis Tower' it will assigned to the parameter variable `bldg` like this `bldg = 'Willis Tower'`. Then in the body of the function everywhere we see the variable `bldg` the value of the variable will be `'Willis Tower'`. \n",
    "\n",
    "This is what's actually happening in the body of the function \n",
    "\n",
    "```\n",
    "length = 'Willis Tower'.lower().replace(' ', '')\n",
    "``` \n",
    "\n",
    "Now the value of `length` is 11, so when we execute the **return** statement, the number 11 will be returned.\n",
    "\n",
    "```\n",
    "return 11\n",
    "```\n",
    "\n",
    "This is **how** we use the `.apply` method and call the function to execute on the `skyscrapers.name` `Series`.\n",
    "\n",
    "```\n",
    "skyscrapers.name.apply(name_length)\n",
    "```\n",
    "\n",
    "Type this into the blank code cell below, run the cell and verify the output."
   ]
  },
  {
   "cell_type": "code",
   "execution_count": null,
   "id": "1ac8e044-5a6f-48af-a533-2896a1a31332",
   "metadata": {},
   "outputs": [],
   "source": []
  },
  {
   "cell_type": "markdown",
   "id": "6944822f-86f0-4bf5-af1d-90ae05b7b1e5",
   "metadata": {},
   "source": [
    "What do you noitce? What do you think is the next step? Right now we have the lengths of the names, but the correspondence between building and name length isn't clear.\n",
    "\n",
    "### Adding a `Series` to `DataFrame`\n",
    "\n",
    "The ouput from the command `skyscrapers.name.apply(name_length)` is a `Series`. To check that run the cell below."
   ]
  },
  {
   "cell_type": "code",
   "execution_count": null,
   "id": "74e7249d-dca7-4f8c-8689-9c86228caf05",
   "metadata": {},
   "outputs": [],
   "source": [
    "type(skyscrapers.name.apply(name_length))"
   ]
  },
  {
   "cell_type": "markdown",
   "id": "65c63f23-3165-4502-be59-cb2835e54b88",
   "metadata": {},
   "source": [
    "If we add this `Series` back to the `skyscrapers` dataframe then we can view the correspondence between the actual building name and the length of the name. \n",
    "\n",
    "Run the cell below to save the `Series` to a variable called `name_length`"
   ]
  },
  {
   "cell_type": "code",
   "execution_count": null,
   "id": "d6136181-4dd6-490c-933a-e2c874f6b0d0",
   "metadata": {},
   "outputs": [],
   "source": [
    "name_length = skyscrapers.name.apply(name_length)"
   ]
  },
  {
   "cell_type": "markdown",
   "id": "da6b20a6-207e-4f63-be1f-dc6e6b4e61ce",
   "metadata": {},
   "source": [
    "Now we can add the `name_length` `Series` to the `skyscrapers` dataframe."
   ]
  },
  {
   "cell_type": "code",
   "execution_count": null,
   "id": "79d69025-1505-4a34-80ea-96e96515e1ef",
   "metadata": {},
   "outputs": [],
   "source": [
    "skyscrapers['name_length'] = name_length\n",
    "skyscrapers"
   ]
  },
  {
   "cell_type": "markdown",
   "id": "9c3525ae-9c99-4224-82d0-0c002704a359",
   "metadata": {
    "tags": []
   },
   "source": [
    "### Are we there yet?\n",
    "\n",
    "Finally, we can select the columns we want from the `skyscrapers` dataframe that will help us answer our question. There are multiple ways you can do this. Below are a few examples:\n",
    "\n",
    "- Using **.iloc**\n",
    "\n",
    "```\n",
    "skyscrapers.iloc[:, [0, 5]]\n",
    "```\n",
    "\n",
    "- Usiing **.loc**\n",
    "\n",
    "```\n",
    "skyscrapers.loc[:, ['name', 'name_length']]\n",
    "```\n",
    "\n",
    "- Using square brackets `[ ]`\n",
    "\n",
    "```\n",
    "skyscrapers[['name', 'name_length']]\n",
    "```\n",
    "\n",
    "See if you can explain what each command is doing. Talk to a classmate or a friend (if you're not in class). Then use the blank cells below (with comments) to try each one."
   ]
  },
  {
   "cell_type": "markdown",
   "id": "9a634f19-6008-4c06-ab0c-61a04785871f",
   "metadata": {},
   "source": [
    "**Example 10.** Using `.iloc`"
   ]
  },
  {
   "cell_type": "code",
   "execution_count": null,
   "id": "1fd21799-4e79-4549-bcff-d79917e71f0d",
   "metadata": {},
   "outputs": [],
   "source": [
    "# Using .iloc\n"
   ]
  },
  {
   "cell_type": "markdown",
   "id": "5019a433-d89a-40a9-b04f-3455887a5fcc",
   "metadata": {},
   "source": [
    "**Example 11.** Using `.loc`"
   ]
  },
  {
   "cell_type": "code",
   "execution_count": null,
   "id": "454ac0ce-9a4b-457b-8d89-0d399f4dab36",
   "metadata": {},
   "outputs": [],
   "source": [
    "# Using .loc\n"
   ]
  },
  {
   "cell_type": "markdown",
   "id": "335eff01-ed7f-40c5-86b9-06df91d7fc73",
   "metadata": {},
   "source": [
    "**Example 12.** Using square brackets `[ ]`"
   ]
  },
  {
   "cell_type": "code",
   "execution_count": null,
   "id": "679c5eb8-9429-4a71-9610-08790131f66f",
   "metadata": {},
   "outputs": [],
   "source": [
    "# Using square brackets [ ]\n"
   ]
  },
  {
   "cell_type": "markdown",
   "id": "1bdc8d10-c4c9-44e8-ba53-03ecdbfbff44",
   "metadata": {},
   "source": [
    "Now, all that's left to do is to find the longest name. "
   ]
  },
  {
   "cell_type": "markdown",
   "id": "0bdd89c6-5501-40ef-9f38-0aebc3d9a103",
   "metadata": {
    "deletable": false,
    "editable": false
   },
   "source": [
    "<!-- BEGIN QUESTION -->\n",
    "\n",
    "**Question 9.** One way we can find the longest name is to order the `skyscrapers` dataframe by the `name_length` column. In the cell below, enter a command that will sort the values in the `name_length` column in descending order. The output should be a dataframe that contains two columns: **name** and **name_length**. Use the output from the commands in either **Example 1**, **Example 2** or **Example 3** guide.\n",
    "\n",
    "**Hint:** Use an appropriate method based on the object type that can sort a dataframe by the values in a column. You may need to use additional parameters of the method to obtain the result in a format that is useful."
   ]
  },
  {
   "cell_type": "code",
   "execution_count": null,
   "id": "21fc7791-ccec-415f-87b5-8a0e6302feb7",
   "metadata": {
    "tags": []
   },
   "outputs": [],
   "source": [
    "..."
   ]
  },
  {
   "cell_type": "markdown",
   "id": "5661aeaa",
   "metadata": {
    "deletable": false,
    "editable": false
   },
   "source": [
    "<!-- END QUESTION -->\n",
    "\n"
   ]
  },
  {
   "cell_type": "markdown",
   "id": "685f3219",
   "metadata": {
    "deletable": false,
    "editable": false
   },
   "source": [
    "## Submission\n",
    "\n",
    "Make sure you have run all cells in your notebook in order before running the cell below, so that all images/graphs appear in the output. The cell below will generate a zip file for you to submit. **Please save before exporting!**\n",
    "\n",
    "When done exporting, download the .zip file by `SHIFT`-clicking on the file name and selecting **Save Link As**. Or, find the .zip file in the left side of the screen and right-click and select **Download**. You'll submit this .zip file for the assignment in Moodle to Gradescope for grading."
   ]
  },
  {
   "cell_type": "code",
   "execution_count": null,
   "id": "953724d5",
   "metadata": {
    "deletable": false,
    "editable": false
   },
   "outputs": [],
   "source": [
    "# Save your notebook first, then run this cell to export your submission.\n",
    "grader.export(pdf=False)"
   ]
  },
  {
   "cell_type": "markdown",
   "id": "455fbe38",
   "metadata": {},
   "source": [
    " "
   ]
  }
 ],
 "metadata": {
  "kernelspec": {
   "display_name": "DSC201",
   "language": "python",
   "name": "dsc201"
  },
  "language_info": {
   "codemirror_mode": {
    "name": "ipython",
    "version": 3
   },
   "file_extension": ".py",
   "mimetype": "text/x-python",
   "name": "python",
   "nbconvert_exporter": "python",
   "pygments_lexer": "ipython3",
   "version": "3.11.0"
  },
  "otter": {
   "OK_FORMAT": true,
   "tests": {
    "q1": {
     "name": "q1",
     "points": null,
     "suites": [
      {
       "cases": [
        {
         "code": ">>> skyscrapers.shape[0] + skyscrapers.shape[1] == 1786\nTrue",
         "hidden": false,
         "locked": false
        },
        {
         "code": ">>> skyscrapers.shape[0] + skyscrapers.shape[1] == 1786\nTrue",
         "hidden": false,
         "locked": false
        }
       ],
       "scored": true,
       "setup": "",
       "teardown": "",
       "type": "doctest"
      }
     ]
    },
    "q3": {
     "name": "q3",
     "points": null,
     "suites": [
      {
       "cases": [
        {
         "code": ">>> 0 < avg_height_concrete < 128\nTrue",
         "hidden": false,
         "locked": false
        }
       ],
       "scored": true,
       "setup": "",
       "teardown": "",
       "type": "doctest"
      }
     ]
    }
   }
  }
 },
 "nbformat": 4,
 "nbformat_minor": 5
}
