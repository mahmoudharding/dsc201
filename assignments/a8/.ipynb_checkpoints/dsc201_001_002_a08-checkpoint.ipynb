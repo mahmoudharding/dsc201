{
 "cells": [
  {
   "cell_type": "markdown",
   "metadata": {},
   "source": [
    "## Assignment 08\n",
    "\n",
    "## Due: See Date in Moodle\n",
    "\n",
    "In this assignment you will use intermediate and advanced features in R.\n",
    "\n",
    "To receive a **full credit** for this assignment, you must complete all exercises.\n",
    "\n",
    "## This Week's Assignment\n",
    "\n",
    "In this week's assignment, you'll learn how to:\n",
    "\n",
    "- sample from an `R` dataframe.\n",
    "\n",
    "- write a user-defined R function.\n",
    "\n",
    "Let's get started!"
   ]
  },
  {
   "cell_type": "markdown",
   "metadata": {
    "cell_id": "e500750191f149fdab3fea1fe6b3e94e",
    "deepnote_cell_type": "markdown"
   },
   "source": [
    "**Name:** \n",
    "\n",
    "**Section:** \n",
    "\n",
    "**Date:**"
   ]
  },
  {
   "cell_type": "markdown",
   "metadata": {
    "cell_id": "e500750191f149fdab3fea1fe6b3e94e",
    "deepnote_cell_type": "markdown"
   },
   "source": [
    "## The Bootstrap\n",
    "\n",
    "Bootstrapping is one of the simplest, yet most powerful methods in all of statistics. It provides us an easy way to get a sense of what might happen if we could repeat an experiment several times. It turns estimates into distributions that can be used to calculate all kinds of stuff, including standard errors, confidence intervals and even $p-$values.\n",
    "\n",
    "Below is a video that explains the main ideas behind this computational technique."
   ]
  },
  {
   "cell_type": "code",
   "execution_count": null,
   "metadata": {
    "cell_id": "8abdd11b25b648feb5f9be2d8d5bcf5c",
    "deepnote_cell_type": "code",
    "deepnote_to_be_reexecuted": false,
    "execution_millis": 128,
    "execution_start": 1698258127639,
    "source_hash": null
   },
   "outputs": [],
   "source": [
    "library(IRdisplay)\n",
    "\n",
    "# YouTube video ID\n",
    "video_id <- 'Xz0x-8-cgaQ'\n",
    "\n",
    "# YouTube video url\n",
    "video_url <- paste0(\"https://www.youtube.com/embed/\", video_id, \"?rel=0\")\n",
    "\n",
    "# Create the HTML embed code\n",
    "embed_code <- paste0('<iframe width=\"560\" height=\"315\" src=\"', video_url, '\" frameborder=\"0\" allowfullscreen></iframe>')\n",
    "\n",
    "# Display the embedded video\n",
    "display_html(embed_code)"
   ]
  },
  {
   "cell_type": "markdown",
   "metadata": {
    "cell_id": "8b3fefbd7af047df8eff92e59f5292b9",
    "deepnote_cell_type": "markdown"
   },
   "source": [
    "Most of the time when you're conducting research, it's impractical to collect data from the entire population. This can be due to budget, time constraints, or other factors. Instead, a subset of the population is taken and insight is gathered from that subset to learn more about the population.\n",
    "\n",
    "Suppose we had data that was the entire population - say all the salaries of the city employees of Raleigh, NC. Let's load the data."
   ]
  },
  {
   "cell_type": "code",
   "execution_count": null,
   "metadata": {
    "cell_id": "4cd2ff2d734e40fa85d95edb450e8a28",
    "deepnote_cell_type": "code",
    "deepnote_to_be_reexecuted": false,
    "execution_millis": 381,
    "execution_start": 1698258180226,
    "source_hash": null
   },
   "outputs": [],
   "source": [
    "raleigh <- read.csv('data/...')"
   ]
  },
  {
   "cell_type": "markdown",
   "metadata": {
    "cell_id": "4069de9a8be846cfb524c1c0066e0914",
    "deepnote_cell_type": "markdown"
   },
   "source": [
    "## Raleigh City Employees\n",
    "\n",
    "According to indeed.com, the average City of Raleigh, NC salary ranges from approximately \\\\$ 39,645 per year for Administrative Technician to \\\\$118,226 per year for Director of Operations. Average City of Raleigh, NC hourly pay ranges from approximately \\\\$9.25 per hour for Director of Parks and Recreation to \\\\$31.62 per hour for System Programmer.\n",
    "\n",
    "Salary information comes from 6,163 data points collected directly from employees, users, and past and present job advertisements on Indeed in the past 36 months.\n",
    "\n",
    "Please note that all salary figures are approximations based upon third party submissions to Indeed. These figures are given to the Indeed users for the purpose of generalized comparison only. Minimum wage may differ by jurisdiction and you should consult the employer for actual salary figures.\n",
    "\n",
    "For information on the positions and related salaries see https://www.indeed.com/cmp/City-of-Raleigh-Nc/salaries.\n",
    "\n",
    "**Note:** Even though this information is public record the names have been removed for this exercise.\n",
    "\n",
    "Let's look at information about the dataset."
   ]
  },
  {
   "cell_type": "markdown",
   "metadata": {},
   "source": [
    "**Question 1.** Use the `str` command to access information about the `raleigh` dataframe."
   ]
  },
  {
   "cell_type": "code",
   "execution_count": null,
   "metadata": {
    "cell_id": "96ebe3bb92bc45f894a90fe6da9ecfd4",
    "deepnote_cell_type": "code",
    "deepnote_to_be_reexecuted": false,
    "execution_millis": 195,
    "execution_start": 1698257113663,
    "source_hash": null
   },
   "outputs": [],
   "source": [
    "..."
   ]
  },
  {
   "cell_type": "markdown",
   "metadata": {
    "cell_id": "676275de7119437582aac58d83202a3f",
    "deepnote_cell_type": "markdown"
   },
   "source": [
    "**Question 2.** Give a breif description of each variable and its data type."
   ]
  },
  {
   "cell_type": "markdown",
   "metadata": {
    "cell_id": "c942e077a1a34708912b7a44a1ad7b94",
    "deepnote_cell_type": "markdown"
   },
   "source": [
    "_TYPE YOUR ANSWER HERE REPLACING THIS TEXT_"
   ]
  },
  {
   "cell_type": "markdown",
   "metadata": {},
   "source": [
    "**Question 3.** To start our analysis and complete our assignment we need to load the appropriate packages from the `tidyverse`. Load the `dplyr` and `ggplot2` packages."
   ]
  },
  {
   "cell_type": "code",
   "execution_count": null,
   "metadata": {},
   "outputs": [],
   "source": [
    "..."
   ]
  },
  {
   "cell_type": "markdown",
   "metadata": {
    "cell_id": "23e0ebabe17446f9aef08a7248feda0f",
    "deepnote_cell_type": "markdown"
   },
   "source": [
    "Now let's get more details. \n",
    "\n",
    "**Example 1.** What are the different departments and how many employees does each department have?"
   ]
  },
  {
   "cell_type": "code",
   "execution_count": null,
   "metadata": {
    "cell_id": "5c75dd54514e434e819e9cf45054ea49",
    "deepnote_cell_type": "code",
    "deepnote_to_be_reexecuted": false,
    "execution_millis": 394,
    "execution_start": 1698258878992,
    "source_hash": null
   },
   "outputs": [],
   "source": [
    "dplyr::arrange(setNames(data.frame(table(raleigh$DEPARTMENT)), \n",
    "                        c('title', 'count')), \n",
    "               desc(count))"
   ]
  },
  {
   "cell_type": "markdown",
   "metadata": {},
   "source": [
    "**Question 4.** Which department has the most employees? Which department has the least number of employees? Is there a department that has more or less employees than you expected? Which one? Why?"
   ]
  },
  {
   "cell_type": "markdown",
   "metadata": {},
   "source": [
    "_TYPE YOUR ANSWER HERE REPLACING THIS TEXT_"
   ]
  },
  {
   "cell_type": "markdown",
   "metadata": {
    "cell_id": "7568556a993e4dbd9aba818054d619b4",
    "deepnote_cell_type": "markdown"
   },
   "source": [
    "Suppose we wanted to report the mean salary for a typical full-time employee of the City of Raleigh. Since we have all the salaries we can find the population mean. But before we can do that, we need to change the data type in 2 of the columns. The out from the `str(raleigh)` command was:\n",
    "\n",
    "```\n",
    "'data.frame':\t6163 obs. of  4 variables:\n",
    " $ SALARY     : chr  \"\" \"$32,166.61 \" \"\" \"$35,667.52 \" ...\n",
    " $ HOURLY.RATE: chr  \"$18.00 \" \"\" \"$12.00 \" \"\" ...\n",
    " $ TITLE      : chr  \"OFFICIALS\" \"POLICE OFFICER\" \"STAGE TECHNICIAN I(T)\" \"HOUSING INSPECTOR (I)\" ...\n",
    " $ DEPARTMENT : chr  \"PARK AND RECREATION\" \"POLICE\" \"CONVENTION CENTER\" \"INSPECTIONS\" ...\n",
    "```\n",
    "\n",
    "So we need to do some wrangling with the `SALARY` and `HOURLY.RATE` columns to convert the values from `chr` to `num`.\n",
    "\n",
    "## Data Wrangling\n",
    "\n",
    "There are two issues. The first is with the values in the `SALARY` column:\n",
    "\n",
    "- The values are stored as strings.\n",
    "- Some of the salary values are `NA` (missing).\n",
    "\n",
    "and the other is with the values in the `HOURLY.RATE` column:\n",
    "\n",
    "- Some of the employees are paid per hour, thus their yearly salary is missing.\n",
    "\n",
    "If we want the mean salary we will need to convert the string salary values into numbers, then compute the yearly earnings for an hourly employee.\n",
    "\n",
    "Let's get started!\n",
    "\n",
    "**Example 2.** Remove the dollar sign and comma from one of the `SALARY` values.\n",
    "\n",
    "Run the cell below to see the second observation in the `ral` dataframe for `SALARY`."
   ]
  },
  {
   "cell_type": "code",
   "execution_count": null,
   "metadata": {},
   "outputs": [],
   "source": [
    "raleigh$SALARY[2]"
   ]
  },
  {
   "cell_type": "markdown",
   "metadata": {},
   "source": [
    "**Example 3.** Use the `gsub` command to remove the `$` and the `,`."
   ]
  },
  {
   "cell_type": "code",
   "execution_count": null,
   "metadata": {},
   "outputs": [],
   "source": [
    "gsub(\"[\\\\$,]\", \"\", raleigh$SALARY[2])"
   ]
  },
  {
   "cell_type": "markdown",
   "metadata": {},
   "source": [
    "**Example 4.** Use the `as.numeric` command to convert the data type of the output from the `gsub` command from a string to a number."
   ]
  },
  {
   "cell_type": "code",
   "execution_count": null,
   "metadata": {},
   "outputs": [],
   "source": [
    "as.numeric(gsub(\"[\\\\$,]\", \"\", raleigh$SALARY[2]))"
   ]
  },
  {
   "cell_type": "markdown",
   "metadata": {},
   "source": [
    "Now that we know how to do one value, we can do this for all the values. To apply this to all the items in the column we can use a user-defined function.\n",
    "\n",
    "A user-defined function in R is a function that you create yourself to perform a specific task. It helps make your code more modular and reusable. The basic syntax for a user-defned function is:\n",
    "\n",
    "```r\n",
    "function_name <- function(arg1, arg2, ...) {\n",
    "  ...\n",
    "  return (result)\n",
    "}\n",
    "\n",
    "```\n",
    "\n",
    "For example"
   ]
  },
  {
   "cell_type": "code",
   "execution_count": null,
   "metadata": {
    "tags": []
   },
   "outputs": [],
   "source": [
    "add_numbers <- function(a, b) {\n",
    "  result <- a + b\n",
    "  return (result)\n",
    "}\n",
    "\n",
    "sum <- add_numbers(3, 5)\n",
    "\n",
    "print(sum)"
   ]
  },
  {
   "cell_type": "code",
   "execution_count": null,
   "metadata": {},
   "outputs": [],
   "source": [
    "## Create a user-defined function to remove the '$' and ','\n",
    "convert_to_number <- function(x){\n",
    "    as.numeric(gsub(\"[\\\\$,]\", \"\", x))\n",
    "}\n",
    "\n",
    "## Use the convert_to_number function on\n",
    "## every element in the SALARY column\n",
    "\n",
    "## Save the output to an object named\n",
    "## ys (yearly salary)\n",
    "ys <- convert_to_number(raleigh$SALARY)\n",
    "\n",
    "## Display the first 10 results\n",
    "head(ys, 10)"
   ]
  },
  {
   "cell_type": "markdown",
   "metadata": {},
   "source": [
    "Use the `convert_to_number` function to change each value in the `HOURLY.RATE` column from a string to a number. Save the output to an object named `hr` (hourly rate). Display the first 10 results.\n",
    "\n",
    "**Hint:** Look at the code under the comment\n",
    "\n",
    "```\n",
    "# Use the convert_to_number function on\n",
    "# every element in the SALARY column\n",
    "\n",
    "\n",
    "# Save the output to an object named\n",
    "# ys(yearly salary)\n",
    "```\n",
    "\n",
    "from **Example 4**."
   ]
  },
  {
   "cell_type": "code",
   "execution_count": null,
   "metadata": {},
   "outputs": [],
   "source": [
    "hr <- ...\n",
    "head(hr, 10)"
   ]
  },
  {
   "cell_type": "markdown",
   "metadata": {},
   "source": [
    "**Example 5.** Take the `ys` and `hr` vectors and combine them into a dataframe."
   ]
  },
  {
   "cell_type": "code",
   "execution_count": null,
   "metadata": {},
   "outputs": [],
   "source": [
    "dat <- data.frame(ys, hr)\n",
    "head(dat, 10)"
   ]
  },
  {
   "cell_type": "markdown",
   "metadata": {},
   "source": [
    "**Example 6.** For the last step we need to compute the yearly salary for an employee that is paid hourly. Here's where you get to make some choices. Assign a value to teach variable `weeks_per_year` and `hours_per_week`. \n",
    "\n",
    "You can remove the `...` and complete the statement."
   ]
  },
  {
   "cell_type": "code",
   "execution_count": null,
   "metadata": {},
   "outputs": [],
   "source": [
    "weeks_per_year <- ...\n",
    "hours_per_week <- ..."
   ]
  },
  {
   "cell_type": "markdown",
   "metadata": {
    "tags": []
   },
   "source": [
    "**Question 5.** Explain you choices for the values of `weeks_per_year` and `hours_per_week`."
   ]
  },
  {
   "cell_type": "markdown",
   "metadata": {
    "tags": []
   },
   "source": [
    "_TYPE YOUR ANSWER HERE REPLACING THIS TEXT_"
   ]
  },
  {
   "cell_type": "markdown",
   "metadata": {},
   "source": [
    "Based on your choices here's the yearly earnings for an employee that earns \\$18.00 per hour. \n",
    "\n",
    "**Note:** This is first observation in our `dat` dataframe."
   ]
  },
  {
   "cell_type": "code",
   "execution_count": null,
   "metadata": {},
   "outputs": [],
   "source": [
    "dat$hr[1] * weeks_per_year * hours_per_week"
   ]
  },
  {
   "cell_type": "markdown",
   "metadata": {},
   "source": [
    "## Vectroized Functions\n",
    "\n",
    "In `R`, a vectorized function is a function that can operate on entire vectors (or other data structures) at once, without the need to use`for` loops.\n",
    "\n",
    "Vectorized functions perform operations element-wise. For example, if you apply a vectorized function to a vector, the function is applied to each element of the vector individually."
   ]
  },
  {
   "cell_type": "markdown",
   "metadata": {},
   "source": [
    "## `ifelse`\n",
    "\n",
    "Some of the employees already have a yearly salary so we don't need to do any calculations. We only need to do this for employees that have a value in the `hr` column. So, if we were saying it out loud, it would go like this:\n",
    "\n",
    "1. we need to check the `hr` to see if there is a value;\n",
    "1. if there is a value, then we need to calculate the yearly earnings;\n",
    "1. to calculate the yearly earnings we can multiply the hourly rate by the number of weeks and the hours per week;\n",
    "1. finally we nee to do this for all the values in the `hr` column.\n",
    "\n",
    "Thankfully, the `ifelse` function makes it realatively easy to do all of this in one line of `R` code. [Click here](https://chat.openai.com/share/eb8a1a0f-fb53-4e56-a901-ad90bcaea3fc) to read about the `ifelse` function."
   ]
  },
  {
   "cell_type": "markdown",
   "metadata": {},
   "source": [
    "**Example 7.** Use the `ifelse` function and the `is.na` method to compute the yearly earnings from the hourly rate. \n",
    "\n",
    "**Note:** In `R` programming, `is.na()` is a function that is used to check for missing or `NA` (Not Available) values in a vector or dataframe. The function returns a logical vector of the same length as the input, where each element is `TRUE` if the corresponding element in the input is `NA`, and `FALSE` otherwise."
   ]
  },
  {
   "cell_type": "code",
   "execution_count": null,
   "metadata": {},
   "outputs": [],
   "source": [
    "salaries <- ifelse(is.na(dat$ys), \n",
    "                   dat$hr * weeks_per_year * hours_per_week, \n",
    "                   dat$ys)\n",
    "head(salaries, 10)"
   ]
  },
  {
   "cell_type": "markdown",
   "metadata": {
    "cell_id": "47d0459ee0c24a7b8c2568a7abcd1458",
    "deepnote_cell_type": "markdown"
   },
   "source": [
    "Now we can find the mean and medain salary for all City of Raleigh, NC employees."
   ]
  },
  {
   "cell_type": "code",
   "execution_count": null,
   "metadata": {},
   "outputs": [],
   "source": [
    "print(paste('The mean salary is', mean(salaries)))\n",
    "print(paste('The median salary is', median(salaries)))"
   ]
  },
  {
   "cell_type": "markdown",
   "metadata": {
    "cell_id": "47d0459ee0c24a7b8c2568a7abcd1458",
    "deepnote_cell_type": "markdown"
   },
   "source": [
    "**Question 6.** Interpret the meaning of the mean and median salary. Why do you think there is a difference of almost \\$4,00 dollars between them?"
   ]
  },
  {
   "cell_type": "markdown",
   "metadata": {
    "cell_id": "d16033a98a3840a28ae0d85fb3cb7e65",
    "deepnote_cell_type": "markdown"
   },
   "source": [
    "_TYPE YOUR ANSWER HERE REPLACING THIS TEXT_"
   ]
  },
  {
   "cell_type": "markdown",
   "metadata": {
    "cell_id": "6619cbd637744edb8c9d72f1cc6dd530",
    "deepnote_cell_type": "markdown"
   },
   "source": [
    "# A Sample\n",
    "\n",
    "A random sample is a subset of data or individuals taken from a larger population or dataset in such a way that each member of the population has an equal and independent chance of being included in the sample. The goal of taking a random sample is to ensure that the sample is representative of the entire population, allowing for valid statistical inferences and generalizations to be made about the population as a whole."
   ]
  },
  {
   "cell_type": "markdown",
   "metadata": {
    "cell_id": "5ad6728e4fa04cf0b92dad878d8b2cc7",
    "deepnote_cell_type": "markdown"
   },
   "source": [
    "**Example 8.** Sample one observation from the `salaries` vector.\n",
    "\n",
    "**Note:** The `sample()` command, by default, samples with replacement. This means that the same element can be chosen more than once in the random sample. If you want to sample without replacement (each element can only be chosen once), you need to explicitly set the `replace` argument to `FALSE`. "
   ]
  },
  {
   "cell_type": "code",
   "execution_count": null,
   "metadata": {
    "cell_id": "83e6095a30b5424fa797f54eb4cbef20",
    "deepnote_cell_type": "code",
    "deepnote_to_be_reexecuted": false,
    "execution_millis": 227,
    "execution_start": 1698259683108,
    "source_hash": null
   },
   "outputs": [],
   "source": [
    "## One sampled observation\n",
    "sample(salaries, size = 1, replace = FALSE)"
   ]
  },
  {
   "cell_type": "markdown",
   "metadata": {
    "cell_id": "c87ec86674324ded8c505796549db41e",
    "deepnote_cell_type": "markdown"
   },
   "source": [
    "If we re-run the code cell above, we would most likely get a different value. Try it and see."
   ]
  },
  {
   "cell_type": "code",
   "execution_count": null,
   "metadata": {
    "allow_embed": false,
    "cell_id": "18404927abf141acbf40eedf4455a458",
    "deepnote_cell_type": "code",
    "deepnote_to_be_reexecuted": false,
    "execution_millis": 75,
    "execution_start": 1698259690109,
    "source_hash": null
   },
   "outputs": [],
   "source": [
    "## One sampled observation\n",
    "sample(salaries, size = 1, replace = FALSE)"
   ]
  },
  {
   "cell_type": "markdown",
   "metadata": {
    "cell_id": "b2bd65e8a5084dc3b2ebbb762c137c29",
    "deepnote_cell_type": "markdown"
   },
   "source": [
    "What we want to do is draw a large enough sample from a population in order to draw conclusions about a population without having to examine every single member of that population. In our activity we have the population, but for the sake of this activity let's pretend that we don't."
   ]
  },
  {
   "cell_type": "markdown",
   "metadata": {},
   "source": [
    "To ensure that your work is reproducible we will set a seed. What does it mean to set a seed?\n",
    "\n",
    "In the context of the `R` programming language, setting a seed refers to initializing the random number generator with a specific value. This is important when you want to ensure reproducibility in your code, especially when generating random numbers.\n",
    "\n",
    "In `R`, the random number generator is used in functions that involve randomness, such as sampling or generating random numbers from distributions. When you set a seed, you are essentially starting the random number generator at a specific point, and if you use the same seed again, you should get the same sequence of random numbers.\n",
    "\n",
    "The `set.seed()` function is commonly used for this purpose.\n",
    "\n",
    "In the cell below set the seed for this notebook using 4 digits from either your birthdate, street address, phone number , etc."
   ]
  },
  {
   "cell_type": "code",
   "execution_count": null,
   "metadata": {},
   "outputs": [],
   "source": [
    "..."
   ]
  },
  {
   "cell_type": "markdown",
   "metadata": {
    "cell_id": "9501ac1747654e12826671d1864c900c",
    "deepnote_cell_type": "markdown"
   },
   "source": [
    "**Example 9.** Sample 500 observations from the `salaries` vector."
   ]
  },
  {
   "cell_type": "code",
   "execution_count": null,
   "metadata": {
    "cell_id": "d77f94d2f814441983d1117a6773f3f6",
    "deepnote_cell_type": "code",
    "deepnote_to_be_reexecuted": false,
    "execution_millis": 15,
    "execution_start": 1698259028588,
    "source_hash": null
   },
   "outputs": [],
   "source": [
    "s <- 500\n",
    "salaries_sample <- sample(salaries, size = s, replace = FALSE)"
   ]
  },
  {
   "cell_type": "markdown",
   "metadata": {
    "cell_id": "69920fe365fd4f4fa63251e8d0243672",
    "deepnote_cell_type": "markdown"
   },
   "source": [
    "What is the median annual salary in our sample? Is it the same value as the median salary in the full datasaet?"
   ]
  },
  {
   "cell_type": "code",
   "execution_count": null,
   "metadata": {
    "cell_id": "63e5f76f10da42fcad2adf81788aea97",
    "deepnote_cell_type": "code",
    "deepnote_to_be_reexecuted": false,
    "execution_millis": 71,
    "execution_start": 1698259044101,
    "source_hash": null
   },
   "outputs": [],
   "source": [
    "print(paste('The median salary in our sample of', s, 'is', median(salaries_sample)))\n",
    "print(paste('The median salary in our population of', length(salaries), 'is', median(salaries)))"
   ]
  },
  {
   "cell_type": "markdown",
   "metadata": {
    "cell_id": "fa9ff0f45dfa4e918b8dab1a172ddd20",
    "deepnote_cell_type": "markdown"
   },
   "source": [
    "**Question 7.** Could we make a statement about the population based off of our sample of 500 observations? Would this be a good idea? Explain."
   ]
  },
  {
   "cell_type": "markdown",
   "metadata": {
    "cell_id": "9bf515b9ddf942ec9324cf8f569af6b5",
    "deepnote_cell_type": "markdown"
   },
   "source": [
    "_TYPE YOUR ANSWER HERE REPLACING THIS TEXT_"
   ]
  },
  {
   "cell_type": "markdown",
   "metadata": {
    "cell_id": "832218ccdd4f4e739ee9f5a8e6226c6d",
    "deepnote_cell_type": "markdown"
   },
   "source": [
    "## A Bootstrap Sample Mean\n",
    "\n",
    "Suppose we take a random sample from our sample (with replacement). Would that give us a better idea of the mean salary for a typical full-time City of Raleigh employee?\n",
    "\n",
    "Let's try!"
   ]
  },
  {
   "cell_type": "markdown",
   "metadata": {
    "cell_id": "9eb17a7b6e9c4d35803bcf1b71da27ea",
    "deepnote_cell_type": "markdown"
   },
   "source": [
    "**Example 10.** Collect one bootstrap sample from the `salaries_sample` vector. Calculate the mean of that sample.\n",
    "\n",
    "**Note:** We do not specify a size because we want the sample size to equal the number of items in the sample - 500."
   ]
  },
  {
   "cell_type": "code",
   "execution_count": null,
   "metadata": {
    "cell_id": "d1d8bb9a7aa94932999243043a832634",
    "deepnote_cell_type": "code",
    "deepnote_to_be_reexecuted": false,
    "execution_millis": 22,
    "execution_start": 1698259712128,
    "source_hash": null
   },
   "outputs": [],
   "source": [
    "## Perform a bootstrap sample\n",
    "one_bootstrap_sample <- sample(salaries_sample, replace = TRUE)\n",
    "\n",
    "## Calculate the median of one bootstrap sample\n",
    "print(paste('The mean salary in our bootstrap of', length(salaries_sample), 'is', mean(one_bootstrap_sample)))\n",
    "\n",
    "## The median of the population\n",
    "print(paste('The mean salary in our population of', length(salaries), 'is', mean(salaries)))"
   ]
  },
  {
   "cell_type": "markdown",
   "metadata": {
    "cell_id": "8310be06171a47dd966c6b801848ddb6",
    "deepnote_cell_type": "markdown"
   },
   "source": [
    "If we did another bootstrap sample and calculated it's mean, do you think we would get the same value? Explain."
   ]
  },
  {
   "cell_type": "markdown",
   "metadata": {
    "cell_id": "2f3329e80dde403bbf4ad421c982e027",
    "deepnote_cell_type": "markdown"
   },
   "source": [
    "What if we did another 10000 bootstrap samples and calculated the mean each time, do you think we would get ever the same value? Explain."
   ]
  },
  {
   "cell_type": "markdown",
   "metadata": {
    "cell_id": "8e1487818bef427d8e9a3c359151c458",
    "deepnote_cell_type": "markdown"
   },
   "source": [
    "## Lots of Bootstrap Sample Means\n",
    "\n",
    "**Example 11.** Let's do 10000 bootstrap sample means."
   ]
  },
  {
   "cell_type": "code",
   "execution_count": null,
   "metadata": {
    "cell_id": "bdfe265ac2404d449768a890e8a79a0d",
    "deepnote_cell_type": "code",
    "deepnote_to_be_reexecuted": false,
    "execution_millis": 7546,
    "execution_start": 1698259985211,
    "source_hash": null
   },
   "outputs": [],
   "source": [
    "## Initialize an empty vector to store each bootstrap sample mean\n",
    "bootstrap_sample_means <- vector()\n",
    "\n",
    "## Set the number of repetitions\n",
    "repetitions <- ...\n",
    "\n",
    "## For loop to calculate a bootstrap sample mean\n",
    "for (i in 1:repetitions){\n",
    "    one_bootstrap_sample_mean <- sample(salaries_sample, replace = TRUE)\n",
    "    bootstrap_sample_means[i] <- mean(one_bootstrap_sample_mean)\n",
    "}"
   ]
  },
  {
   "cell_type": "markdown",
   "metadata": {
    "cell_id": "2f688f97cc4e4912914f2db7d9e9c72a",
    "deepnote_cell_type": "markdown"
   },
   "source": [
    "**Example 12.** To analyze the distribution (i.e.; frequency and pattern) of our bootstrap means let's visualize our data using a histogram."
   ]
  },
  {
   "cell_type": "code",
   "execution_count": null,
   "metadata": {
    "cell_id": "39174c2f80704615a83c18dc74e2517a",
    "deepnote_cell_type": "code",
    "deepnote_to_be_reexecuted": false,
    "execution_millis": 425,
    "execution_start": 1698260112250,
    "source_hash": null
   },
   "outputs": [],
   "source": [
    "g <- ggplot(data = data.frame(bootstrap_means = bootstrap_sample_means), \n",
    "       aes(x = bootstrap_means))\n",
    "\n",
    "g + geom_histogram(color = 'white', \n",
    "                   linewidth = 0.5, \n",
    "                   fill = 'lightblue', \n",
    "                   bins = 10) +\n",
    "theme_classic()"
   ]
  },
  {
   "cell_type": "markdown",
   "metadata": {
    "cell_id": "59d974204c8d400f827706f4bdc52d27",
    "deepnote_cell_type": "markdown"
   },
   "source": [
    "Based on the histogram above, do you think the true mean salary (or at least a value that's really close to it) occurs more frequently that other values? Explain."
   ]
  },
  {
   "cell_type": "markdown",
   "metadata": {
    "cell_id": "01ca83c7f7b849d386afb0c3afbb6751",
    "deepnote_cell_type": "markdown"
   },
   "source": [
    "**Example 13.** Show the location of the mean of all the bootstrap sample means and the true average salary."
   ]
  },
  {
   "cell_type": "code",
   "execution_count": null,
   "metadata": {
    "cell_id": "36ceee9db1f24de68b32504c5c15da47",
    "deepnote_cell_type": "code",
    "deepnote_to_be_reexecuted": false,
    "execution_millis": 309,
    "execution_start": 1698260363150,
    "source_hash": null
   },
   "outputs": [],
   "source": [
    "g <- ggplot(data = data.frame(bootstrap_means = bootstrap_sample_means), \n",
    "            aes(x = bootstrap_means))\n",
    "\n",
    "## Create a histogram of the bootstrap sample means\n",
    "g + geom_histogram(color = 'white', linewidth = 0.5, fill = 'lightblue', bins = 10) +\n",
    "  \n",
    "  # Plot a red marker for the true average salary\n",
    "  geom_point(data = data.frame(true_mean = mean(salaries)), \n",
    "             aes(x = true_mean, y = -10), \n",
    "             color = 'darkgreen', \n",
    "             fill = 'darkgreen', \n",
    "             size = 5, \n",
    "             shape = 24) +\n",
    "  \n",
    "  # Plot a yellow marker for the mean salary of the bootstrapped means\n",
    "  geom_point(data = data.frame(bootstrap_mean = mean(bootstrap_sample_means)), \n",
    "             aes(x = bootstrap_mean, y = -10), color = 'yellow',\n",
    "             fill ='yellow', \n",
    "             size = 5,\n",
    "             shape = 24)"
   ]
  },
  {
   "cell_type": "code",
   "execution_count": null,
   "metadata": {},
   "outputs": [],
   "source": [
    "## Calculate the median of one bootstrap sample distributio\n",
    "print(paste('The mean salary in our bootstrap distribution of', length(bootstrap_sample_means), 'bootstrapped sample means, each with size', length(salaries), 'is', mean(bootstrap_sample_means)))\n",
    "\n",
    "## The median of the population\n",
    "print(paste('The mean salary in our population of', length(salaries), 'is', mean(salaries)))"
   ]
  },
  {
   "cell_type": "markdown",
   "metadata": {
    "cell_id": "f8e79a03a49241f8ba2c701d0d03f826",
    "deepnote_cell_type": "markdown"
   },
   "source": [
    "**Question 8.** If we did this again do you think that the mean of the bootstrapped sample means would be closer to the true mean salary? Further away? Explain."
   ]
  },
  {
   "cell_type": "markdown",
   "metadata": {
    "cell_id": "8d662d66ac454521a8c99962c497862d",
    "deepnote_cell_type": "markdown"
   },
   "source": [
    "_TYPE YOUR ANSWER HERE REPLACING THIS TEXT_"
   ]
  },
  {
   "cell_type": "markdown",
   "metadata": {
    "cell_id": "01c0c750a3404459ac72fa4831b65979",
    "deepnote_cell_type": "markdown"
   },
   "source": [
    "**Example 14.** Show the location of the mean of all the bootstrap sample means, the true average salary, and a 95% confidence interval."
   ]
  },
  {
   "cell_type": "code",
   "execution_count": null,
   "metadata": {
    "cell_id": "dc00b8c9ee544155934c98d588dfa95d",
    "deepnote_cell_type": "code",
    "deepnote_to_be_reexecuted": false,
    "execution_millis": 441,
    "execution_start": 1698260899662,
    "source_hash": null
   },
   "outputs": [],
   "source": [
    "## Get lower and upper bound\n",
    "lower_bound <- quantile(bootstrap_sample_means, 0.025)[[1]]\n",
    "upper_bound <- quantile(bootstrap_sample_means, 0.975)[[1]]\n",
    "\n",
    "g <- ggplot(data = data.frame(bootstrap_means = bootstrap_sample_means), \n",
    "       aes(x = bootstrap_means))\n",
    "\n",
    "## Create a histogram of the bootstrap sample means\n",
    "g + geom_histogram(color = 'white', \n",
    "                   linewidth = 0.5, \n",
    "                   fill = 'lightblue', \n",
    "                   bins = 10) +\n",
    "\n",
    "   ## Plot a red marker for the true average salary\n",
    "   geom_point(data = data.frame(true_mean = mean(salaries)), \n",
    "              aes(x = true_mean, y = -1000), \n",
    "              color = 'darkgreen', \n",
    "              fill = 'darkgreen', \n",
    "              size = 5,\n",
    "              shape = 24) +\n",
    "\n",
    "   ## Plot a yellow marker for the mean salary of the bootstrapped means\n",
    "   geom_point(data = data.frame(bootstrap_mean = mean(bootstrap_sample_means)), \n",
    "              aes(x = bootstrap_mean, y = -1000), \n",
    "              color = 'yellow', \n",
    "              fill = 'yellow', \n",
    "              size = 5, \n",
    "              shape = 24) +\n",
    "\n",
    "   ## Plot a 95% confidence interval\n",
    "   geom_segment(data = data.frame(lower_bound = lower_bound, upper_bound = upper_bound),\n",
    "                aes(x = lower_bound, y = 100, xend = upper_bound, yend = 100), \n",
    "                    linewidth = 2, \n",
    "                    color = \"red\")\n",
    "\n",
    "## Print statements\n",
    "print(paste0(\"The 95% confidence interval is (\", as.character(round(lower_bound, 2)), \",\", as.character(round(upper_bound, 2)), \")\"))\n",
    "print(paste0(\"The true mean is \", median(salaries))) "
   ]
  },
  {
   "cell_type": "markdown",
   "metadata": {
    "cell_id": "e82ce54ef7914c6baec5bd64066725e2",
    "deepnote_cell_type": "markdown"
   },
   "source": [
    "**Question 9.** Show the location of the mean of all the bootstrap sample means, the true average salary, and a 90% confidence interval."
   ]
  },
  {
   "cell_type": "code",
   "execution_count": null,
   "metadata": {
    "cell_id": "585d66a49cc0494c926785838ab4c56f",
    "deepnote_cell_type": "code",
    "deepnote_to_be_reexecuted": false,
    "execution_millis": 354,
    "execution_start": 1698260969353,
    "source_hash": null
   },
   "outputs": [],
   "source": [
    "## Get lower and upper bound\n",
    "lower_bound <- quantile(bootstrap_sample_means, ...)[[1]]\n",
    "upper_bound <- quantile(bootstrap_sample_means, ...)[[1]]\n",
    "\n",
    "g <- ggplot(data = data.frame(bootstrap_means = bootstrap_sample_means), \n",
    "       aes(x = bootstrap_means))\n",
    "\n",
    "## Create a histogram of the bootstrap sample means\n",
    "g + geom_histogram(color = 'white', \n",
    "                   linewidth = 0.5, \n",
    "                   fill = 'lightblue', \n",
    "                   bins = 10) +\n",
    "\n",
    "   ## Plot a red marker for the true average salary\n",
    "   geom_point(data = data.frame(true_mean = mean(salaries)), \n",
    "              aes(x = true_mean, y = -1000), \n",
    "              color = 'darkgreen', \n",
    "              fill = 'darkgreen', \n",
    "              size = 5,\n",
    "              shape = 24) +\n",
    "\n",
    "   ## Plot a yellow marker for the mean salary of the bootstrapped means\n",
    "   geom_point(data = data.frame(bootstrap_mean = mean(bootstrap_sample_means)), \n",
    "              aes(x = bootstrap_mean, y = -1000), \n",
    "              color = 'yellow', \n",
    "              fill = 'yellow', \n",
    "              size = 5, \n",
    "              shape = 24) +\n",
    "\n",
    "   ## Plot a 95% confidence interval\n",
    "   geom_segment(data = data.frame(lower_bound = lower_bound, upper_bound = upper_bound),\n",
    "                aes(x = lower_bound, y = 100, xend = upper_bound, yend = 100), \n",
    "                    linewidth = 2, \n",
    "                    color = \"red\")\n",
    "\n",
    "## Print statements\n",
    "print(paste0(\"The 90% confidence interval is (\", as.character(round(lower_bound, 2)), \",\", as.character(round(upper_bound, 2)), \")\"))\n",
    "print(paste0(\"The true mean is \", median(salaries))) "
   ]
  },
  {
   "cell_type": "markdown",
   "metadata": {},
   "source": [
    "**Question 10.** In your simulation, did the true mean fall outside of the confidence interval of the bootstrapped means? Do you think we could perform a simulation where the mean of the bootstrapped means falls outside of the confidence interval? Explain."
   ]
  },
  {
   "cell_type": "markdown",
   "metadata": {
    "cell_id": "ebf56c102b714548bebb56de90e8c663",
    "deepnote_cell_type": "markdown"
   },
   "source": [
    "_TYPE YOUR ANSWER HERE REPLACING THIS TEXT_"
   ]
  }
 ],
 "metadata": {
  "deepnote": {},
  "deepnote_execution_queue": [],
  "deepnote_notebook_id": "7cd9b4a80b764b8db99ffcff730a1b4d",
  "kernelspec": {
   "display_name": "R",
   "language": "R",
   "name": "ir"
  },
  "language_info": {
   "codemirror_mode": "r",
   "file_extension": ".r",
   "mimetype": "text/x-r-source",
   "name": "R",
   "pygments_lexer": "r",
   "version": "4.2.3"
  }
 },
 "nbformat": 4,
 "nbformat_minor": 4
}
