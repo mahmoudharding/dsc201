{
 "cells": [
  {
   "cell_type": "markdown",
   "metadata": {
    "id": "481lJasgpEs6"
   },
   "source": [
    "# Run the cell below\n",
    "\n",
    "To run a code cell (i.e.; execute the python code inside a Jupyter notebook) you can click the play button on the ribbon underneath the name of the notebook that looks like ▶| or hold down `Shift` + `Return`.\n",
    "\n",
    "Before you begin run the code cell below."
   ]
  },
  {
   "cell_type": "code",
   "execution_count": null,
   "metadata": {
    "deletable": false,
    "editable": false
   },
   "outputs": [],
   "source": [
    "# Initialize Otter\n",
    "import otter\n",
    "grader = otter.Notebook(\"dsc295_003_005_a6.ipynb\")"
   ]
  },
  {
   "cell_type": "markdown",
   "metadata": {
    "id": "ZW34AO0QpEtA"
   },
   "source": [
    "# Assignment 06\n",
    "\n",
    "## Due: See Date in Moodle\n",
    "\n",
    "In this assignment we will get familiar with Jupyter notebooks and some basic Python, including the print functions and variable assignment.\n",
    "\n",
    "I would like you to attempt each question in the assignment. To get **full credit** on this assignment, you must complete **Level I**, **Level II**, and **Level III**. **Level IV** and **Level V** are **optional** as they give you a chance to work with advanced features in Python.\n",
    "\n",
    "## This Week's Assignment\n",
    "In this week's assignment, you'll learn how to:\n",
    "\n",
    "- call built-in Python functions.\n",
    "\n",
    "- import libraries.\n",
    "\n",
    "- work with `NumPy` arrays.\n",
    "\n",
    "- import data from `.csv` file and access information from a dataframe.\n",
    "\n",
    "**Name:** \n",
    "\n",
    "**Section:** \n",
    "\n",
    "**Date:**\n",
    "\n",
    "Let's get started!"
   ]
  },
  {
   "cell_type": "markdown",
   "metadata": {
    "id": "LrlVbWRlpEtE"
   },
   "source": [
    "## Level I\n",
    "\n",
    "### Python Expressions\n",
    "\n",
    "The two building blocks of Python code are *expressions* and *statements*. An **expression** is a piece of code that\n",
    "\n",
    "* is self-contained, meaning it would make sense to write it on a line by itself, and\n",
    "* usually evaluates to a value.\n",
    "\n",
    "\n",
    "Here are two expressions that both evaluate to 3\n",
    "\n",
    "* `3`\n",
    "* `5-2`\n",
    "    \n",
    "One important type of expression is the **call expression**. A call expression begins with the name of a function and is followed by the argument(s) of that function in parentheses. The function returns some value, based on its arguments. Some important mathematical functions are listed below.\n",
    "\n",
    "| Function | Description                                                   |\n",
    "|----------|---------------------------------------------------------------|\n",
    "| `abs`    | Returns the absolute value of its argument                    |\n",
    "| `max`    | Returns the maximum of all its arguments                      |\n",
    "| `min`    | Returns the minimum of all its arguments                      |\n",
    "| `pow`    | Raises its first argument to the power of its second argument |\n",
    "| `round`  | Rounds its argument to the nearest integer                    |\n",
    "\n",
    "Here are two call expressions that both evaluate to 3.\n",
    "\n",
    "* `abs(2-5)`\n",
    "\n",
    "* `max(round(2.8), min(pow(2, 10), -1*pow(2, 10)))`\n",
    "\n",
    "The expression `5-2` and the two call expressions given above are examples of **compound expressions**, meaning that they are actually combinations of several smaller expressions. `5-2` combines the expressions `5` and `2` by subtraction.  In this case, `5` and `2` are called **subexpressions** because they're expressions that are part of a larger expression.\n",
    "\n",
    "### Python Statements\n",
    "\n",
    "A **statement** is a whole line of code.  Some statements are just expressions.  The expressions listed above are examples.\n",
    "\n",
    "Other statements *make something happen* rather than *having a value*. For example, an **assignment statement** assigns a value to a name. In R we learned that assignment could be done using `<-` or `=`. In Python we will only be using `=`.\n",
    "\n",
    "As a reminder, think about it this way $-$ we're **evaluating the right-hand side** of the equals sign and **assigning it to the left-hand side**. Here are some assignment statements:\n",
    "    \n",
    "* `height = 65`\n",
    "\n",
    "* `absolute_height_difference = abs(height-72)`"
   ]
  },
  {
   "cell_type": "code",
   "execution_count": null,
   "metadata": {},
   "outputs": [],
   "source": [
    "height = 65\n",
    "height"
   ]
  },
  {
   "cell_type": "code",
   "execution_count": null,
   "metadata": {},
   "outputs": [],
   "source": [
    "absolute_height_difference = abs(height-72)\n",
    "absolute_height_difference"
   ]
  },
  {
   "cell_type": "markdown",
   "metadata": {},
   "source": [
    "An important idea in programming is that large, interesting things can be built by combining many simple, uninteresting things. The key to understanding a complicated piece of code is breaking it down into its simple components.\n",
    "\n",
    "For example, a lot is going on in the last statement above, but it's really just a combination of a few things.\n",
    "\n",
    "\n",
    "* `height` is a name expression assignned in the first line\n",
    "\n",
    "* `72` is a number expression whose value is `72`\n",
    "\n",
    "* `height-72` is an arithmetic expression whose value is `-7`\n",
    "\n",
    "* `abs()` is a name expression that is a function whose value is the absolute value of the arithmetic epxression `height-72`\n",
    "\n",
    "* `absolute_height_difference` is part of an assignment statement that assigns the value of `7` to the variable name\n",
    "\n",
    "Run the cell below."
   ]
  },
  {
   "cell_type": "code",
   "execution_count": null,
   "metadata": {
    "id": "WhOiFWOkpEtK",
    "outputId": "b8d7ac93-b05a-4c2b-945d-25f28fcc0749"
   },
   "outputs": [],
   "source": [
    "height = 65\n",
    "absolute_height_difference = abs(height-72)\n",
    "absolute_height_difference"
   ]
  },
  {
   "cell_type": "markdown",
   "metadata": {
    "id": "MA_lRWMapEtQ"
   },
   "source": [
    "Now let's look at some built-in Python functions.\n",
    "\n",
    "Exponents are fundamental and widely used (especially in Base 2 and Base 16) in physics and electronics formulas involved in computing. Power of 2 exponents are the basis of all computing which is done in binary, or Base 2 numbers like \n",
    "\n",
    "\n",
    "$$2^0=1, \\text{ } 2^1=2, \\text{ } 2^2=4, \\text{ } 2^3=8, \\text{ } 2^4=16, \\text{ } 2^5=32, \\text{ } 2^6=64, \\text{ } \\ldots$$"
   ]
  },
  {
   "cell_type": "markdown",
   "metadata": {
    "id": "iiJ1uAaipEtT"
   },
   "source": [
    "**Question 1.** Use the `pow` function to compute the number of bytes in 1 GB (Gigabyte) as 2 to the power of 30. Assign this value to `one_gb`. To earn all the points for this question you **must** use the `pow` function. \n",
    "\n",
    "**Note:** 1GB $=$ 1073741824 bytes. \n",
    "\n",
    "**Hint:** Documentation for the `pow` function can be found [here](https://www.w3schools.com/python/ref_func_pow.asp)."
   ]
  },
  {
   "cell_type": "code",
   "execution_count": null,
   "metadata": {
    "id": "9Kuj4kd7pEtV",
    "outputId": "19e96f86-8718-4106-bf86-27ff8e6ca9f5",
    "tags": []
   },
   "outputs": [],
   "source": [
    "one_gb = ...\n",
    "one_gb"
   ]
  },
  {
   "cell_type": "code",
   "execution_count": null,
   "metadata": {
    "deletable": false,
    "editable": false
   },
   "outputs": [],
   "source": [
    "grader.check(\"q1\")"
   ]
  },
  {
   "cell_type": "markdown",
   "metadata": {
    "id": "WAahem66pEtc"
   },
   "source": [
    "### Nested Expressions\n",
    "\n",
    "Function calls and arithmetic expressions can themselves contain expressions.  You saw an example in the previous cell `abs(height-72)` has a name expression and a number expression, in a subtraction expression, in a function call expression.\n",
    "\n",
    "Suppose we are interested in heights that are very unusual. We'll say that a height is unusual to the extent that it's far away from the average human height. [An estimate of the average adult human height](http://www.wecare4eyes.com/averageemployeeheights.htm) (averaging, we hope, over all humans on Earth today) is 1.688 meters. \n",
    "\n",
    "Most NBA basketball players are *far* away from the average human height. From 1988-1997, Muggsy Bogues played for the Charlotte Hornets. He is shortest player in NBA history at 1.6002 meters tall, therefore his height is $|1.6002-1.688|$, or $0.0878$ meters away from the average.\n",
    "\n",
    "Here's how we'd write that in one line of Python code:"
   ]
  },
  {
   "cell_type": "code",
   "execution_count": null,
   "metadata": {
    "id": "X3tByvRfpEtd",
    "outputId": "54a1aede-c1a3-4045-924d-e36a6942272c"
   },
   "outputs": [],
   "source": [
    "round(abs(1.6002-1.688), 4)"
   ]
  },
  {
   "cell_type": "markdown",
   "metadata": {
    "id": "da1zmxIipEtd"
   },
   "source": [
    "What's going on here?  `round` takes two arguments, and `abs` takes one argument. The stuff inside the parentheses after `abs` is all part of that **single argument**.  Specifically, the argument is the value of the expression `1.6002-1.688`.  The value of that expression is `-0.08779999999999988`.  That value is the argument to `abs`.  The absolute value of that is `0.08779999999999988`. So `0.08779999999999988` is the value of the full expression `abs(1.6002-1.688)`. \n",
    "\n",
    "The value `0.08779999999999988` is the first argument of the `round` function and `4` is the second argument. This value `0.08779999999999988`will be rounded to four decimal places to `0.0878`.\n",
    "\n",
    "Picture simplifying the expression in several steps:\n",
    "\n",
    "1. `round(abs(1.6002-1.688), 4)`\n",
    "\n",
    "2. `round(abs(-0.08779999999999988), 4)`\n",
    "\n",
    "3. `round(0.08779999999999988, 4)`\n",
    "\n",
    "4. `0.0878`\n",
    "\n",
    "In fact, that's basically what Python does to compute the value of the expression. Run the code cells belwo to see for yourself."
   ]
  },
  {
   "cell_type": "code",
   "execution_count": null,
   "metadata": {
    "id": "IbIzwSyOpEte",
    "outputId": "bed84668-fa0d-4f7e-cf3b-ed4ee179a81e"
   },
   "outputs": [],
   "source": [
    "# Subtract \n",
    "1.6002-1.688"
   ]
  },
  {
   "cell_type": "code",
   "execution_count": null,
   "metadata": {
    "id": "mN9x9ZCxpEtf",
    "outputId": "a14a05c4-c7b3-4d87-d7bd-fd2d3257fa59"
   },
   "outputs": [],
   "source": [
    "# The output from 1.6002-1.688\n",
    "# is used as input for the abs function\n",
    "abs(-0.08779999999999988)"
   ]
  },
  {
   "cell_type": "code",
   "execution_count": null,
   "metadata": {
    "id": "4gZr1DQdpEtf",
    "outputId": "ab29d676-ea60-466d-91a9-027b14a0602c"
   },
   "outputs": [],
   "source": [
    "# The output from \n",
    "# is used as input for the round function\n",
    "# and is rounded to 4 decimal places\n",
    "round(0.08779999999999988, 4)"
   ]
  },
  {
   "cell_type": "markdown",
   "metadata": {
    "id": "LgrRLuzDpEth"
   },
   "source": [
    "**Question 2.** Given the heights of three players from the [NC State Women's Basketball team](https://gopack.com/sports/womens-basketball/roster), write an expression that computes the smallest difference between any of the three heights, rounded to 3 decimal places. Your expression shouldn't have any numbers in it, only function calls and the names `rbaldwin`, `djohnson`, and `jboyd`. Give the value of your expression the name `min_height_difference` and round it to 3 decimal places."
   ]
  },
  {
   "cell_type": "code",
   "execution_count": null,
   "metadata": {
    "id": "Tt9S18KfpEti",
    "outputId": "b96a1d2e-5f37-4bbc-8141-3d5a83784d73",
    "tags": []
   },
   "outputs": [],
   "source": [
    "# The three players' heights, in meters:\n",
    "rbaldwin = 1.9558 # River Baldwin is 6'5\"\n",
    "djohnson = 1.6509 # Diamond Johnson is 5'5\"\n",
    "jboyd = 1.8796    # Jada Boyd is 6'2\"\n",
    "             \n",
    "# We'd like to look at all 3 pairs of heights, \n",
    "# compute the absolute difference between each pair, \n",
    "# and then find the smallest of those 3 absolute differences.  \n",
    "\n",
    "# This is left to you. \n",
    "# If you're stuck, try computing the value for each step of the process \n",
    "# (like the difference between River's heigh and Jada's height) \n",
    "# on a separate line and giving it a name (like river_jada_height_diff)\n",
    "min_height_difference = ...\n",
    "\n",
    "# Again, we've written this here so that\n",
    "# the distance you compute will get printed \n",
    "# when you run this cell.\n",
    "min_height_difference"
   ]
  },
  {
   "cell_type": "code",
   "execution_count": null,
   "metadata": {
    "deletable": false,
    "editable": false
   },
   "outputs": [],
   "source": [
    "grader.check(\"q2\")"
   ]
  },
  {
   "cell_type": "markdown",
   "metadata": {
    "id": "ZEQLjIDvpEtm"
   },
   "source": [
    "## Level II\n",
    "\n",
    "### Importing code\n",
    "\n",
    "Most programming involves work that is very similar to work that has been done before. Since writing code is time-consuming, it's good to rely on others' published code when you can. Rather than copy-pasting, Python allows us to **import modules**. A module is a file with Python code that has defined variables and functions. By importing a module, we are able to use its code in our own notebook."
   ]
  },
  {
   "cell_type": "code",
   "execution_count": null,
   "metadata": {
    "id": "sTmf-CiHpEtn",
    "outputId": "3b0a7b8f-4184-4429-cd09-97f0e2379b00"
   },
   "outputs": [],
   "source": [
    "# Import the math module\n",
    "import math\n",
    "\n",
    "radius = 5\n",
    "\n",
    "# Use the value of pi from the math module\n",
    "# math.pi is the value pi from the math module\n",
    "area_of_circle = radius**2*math.pi\n",
    "area_of_circle"
   ]
  },
  {
   "cell_type": "markdown",
   "metadata": {
    "id": "Z0D8Y7iwpEtn"
   },
   "source": [
    "In the code above, the line `import math` imports the math module. This statement creates a module and then assigns the name `math` to that module. We are now able to access any variables or functions defined within `math` by typing the name of the module followed by a dot, then followed by the name of the variable or function we want. \n",
    "\n",
    "For example, in the previous code cell we used `math.pi` to calculate the area of a circle."
   ]
  },
  {
   "cell_type": "markdown",
   "metadata": {
    "id": "OVF_g6BLpEto"
   },
   "source": [
    "**Question 3.** The module `math` also provides the name `e` for the base of the natural logarithm, which is roughly 2.71.  Compute \n",
    "\n",
    "$$\\large e^{\\pi}-\\pi$$ \n",
    "\n",
    "giving it the name `near_twenty`. Do not round this value.\n",
    "\n",
    "**Note:** If you're curious as to why this quantity is *almost* 20 you can read this [article on Mathematics Stackexchange](https://math.stackexchange.com/questions/724872/why-is-e-pi-pi-so-close-to-20)."
   ]
  },
  {
   "cell_type": "code",
   "execution_count": null,
   "metadata": {
    "id": "JA54I-eRpEtp",
    "outputId": "96941cbe-6510-43de-aaed-85e1a872d78c",
    "tags": []
   },
   "outputs": [],
   "source": [
    "near_twenty = ...\n",
    "near_twenty"
   ]
  },
  {
   "cell_type": "code",
   "execution_count": null,
   "metadata": {
    "deletable": false,
    "editable": false
   },
   "outputs": [],
   "source": [
    "grader.check(\"q3\")"
   ]
  },
  {
   "cell_type": "markdown",
   "metadata": {
    "id": "X7EO3gDapEt0"
   },
   "source": [
    "### `NumPy`\n",
    "\n",
    "Very often in data science, we want to work with collections of numbers. Sometimes it will be useful to create a set of numbers that are evenly spaced within some range. For example, in class we used the `arange` function from the `NumPy` module. If you don't remember the syntax click [here](https://www.geeksforgeeks.org/numpy-arrange-in-python/)."
   ]
  },
  {
   "cell_type": "markdown",
   "metadata": {
    "id": "dEaEkRUDpEt1"
   },
   "source": [
    "**Question 4.** Import `numpy` as `np` and then use `np.arange` to create an array named `multiples_of 99` that contains the multiples of 99 from 1 up to **and including** 9999. So its items will 99, 198, 297, $\\dots$, 9999."
   ]
  },
  {
   "cell_type": "code",
   "execution_count": null,
   "metadata": {
    "id": "cm67oTVwpEt1",
    "outputId": "3b06d4d5-00bf-4be0-e9e7-163887e4cc80",
    "tags": []
   },
   "outputs": [],
   "source": [
    "# Imoprt numpy\n",
    "import ... as np\n",
    "\n",
    "# Create the numpy array\n",
    "multiples_of_99 = ...\n",
    "multiples_of_99"
   ]
  },
  {
   "cell_type": "code",
   "execution_count": null,
   "metadata": {
    "deletable": false,
    "editable": false
   },
   "outputs": [],
   "source": [
    "grader.check(\"q4\")"
   ]
  },
  {
   "cell_type": "markdown",
   "metadata": {
    "id": "lw7OrQxzpEt5"
   },
   "source": [
    "### Working with Array Elements\n",
    "\n",
    "Let's work with a more interesting array of values.  The next cell creates an array called `population_amounts` that includes estimated world populations in every year from **1960** to roughly the present. The estimates come from the US Census Bureau website.\n",
    "\n",
    "Rather than type in the data manually, we've loaded a file on for you called `world_population.csv`. \n",
    "\n",
    "Run the cell below to load the data."
   ]
  },
  {
   "cell_type": "code",
   "execution_count": null,
   "metadata": {
    "id": "DECuGVOppEt5",
    "outputId": "d959fabf-d4a0-4c81-ce11-11cb332e6f19"
   },
   "outputs": [],
   "source": [
    "population_array = np.loadtxt('data/world_population.csv', delimiter=',', skiprows=1) \n",
    "population_array"
   ]
  },
  {
   "cell_type": "markdown",
   "metadata": {
    "id": "IqB9rMbDpEt6"
   },
   "source": [
    "Run the cell below to review how python assigns index values to array items."
   ]
  },
  {
   "cell_type": "code",
   "execution_count": null,
   "metadata": {
    "id": "pInzZK1KpEt6",
    "outputId": "22330b9b-1b5b-4071-ae54-e42fe1d2039c"
   },
   "outputs": [],
   "source": [
    "# The 1st item in the array is the population in 1960 (which is 1960 + 0).\n",
    "population_array[0]"
   ]
  },
  {
   "cell_type": "markdown",
   "metadata": {
    "id": "tH5hYUxtpEt7"
   },
   "source": [
    "The value of that expression is the number 3032156070 (around 3 billion), because that's the first item in the array `population_array`."
   ]
  },
  {
   "cell_type": "code",
   "execution_count": null,
   "metadata": {
    "id": "FhVtJW7XpEt7",
    "outputId": "188eab58-70bc-418d-d950-2028b6427682"
   },
   "outputs": [],
   "source": [
    "# The 13th item in the array is the population in 1972 (which is 1960 + 12).\n",
    "population_1972 = population_array[12]\n",
    "population_1972"
   ]
  },
  {
   "cell_type": "markdown",
   "metadata": {
    "id": "rDn3oolOpEt8"
   },
   "source": [
    "**Question 5.** Set `population_1999` to the world population in 1999, by accessing the appropriate item from `population_array`."
   ]
  },
  {
   "cell_type": "code",
   "execution_count": null,
   "metadata": {
    "id": "Y3p7ANRVpEt8",
    "outputId": "1489eb5b-78f1-4bfe-aba4-30f13c45d09b",
    "tags": []
   },
   "outputs": [],
   "source": [
    "population_1999 = ...\n",
    "population_1999"
   ]
  },
  {
   "cell_type": "code",
   "execution_count": null,
   "metadata": {
    "deletable": false,
    "editable": false
   },
   "outputs": [],
   "source": [
    "grader.check(\"q5\")"
   ]
  },
  {
   "cell_type": "markdown",
   "metadata": {
    "id": "HYEcpWXnpEt_"
   },
   "source": [
    "### Doing Something to Every Element of an Array\n",
    "\n",
    "Arrays are primarily useful for doing the same operation many times. Arithmetic works elementwise on arrays, meaning that if you perform an arithmetic operation (like subtraction, division, etc.) on an array, Python will do the operation to every item of the array individually and return an array of all of the results. For example, you can divide all the population numbers by 1 billion to get numbers in billions."
   ]
  },
  {
   "cell_type": "markdown",
   "metadata": {
    "id": "pkXaXODGpEuA"
   },
   "source": [
    "**Question 6.** Divide all the population numbers by 1 billion to get numbers in billions. Save the result to `population_in_billions`. "
   ]
  },
  {
   "cell_type": "code",
   "execution_count": null,
   "metadata": {
    "id": "7DUxp-I9pEuA",
    "outputId": "52a4bb2c-b8ff-4636-9724-2ae84a2437fd",
    "tags": []
   },
   "outputs": [],
   "source": [
    "population_in_billions = ...\n",
    "population_in_billions"
   ]
  },
  {
   "cell_type": "code",
   "execution_count": null,
   "metadata": {
    "deletable": false,
    "editable": false
   },
   "outputs": [],
   "source": [
    "grader.check(\"q6\")"
   ]
  },
  {
   "cell_type": "markdown",
   "metadata": {
    "id": "qe78AJefpEuE"
   },
   "source": [
    "In the previous question we changed the values of array elements to get the population in billions. This left us with quite a few numbers after the decimal place."
   ]
  },
  {
   "cell_type": "markdown",
   "metadata": {
    "id": "ohpqCYOCpEuE"
   },
   "source": [
    "**Question 7.** Round the values in the `population_in_billions` array to one decimal place. Save this result to `population_rounded`.\n",
    "\n",
    "**Hint:** To perform an operation to every item in an array you need to use array functions from the `NumPy` module. "
   ]
  },
  {
   "cell_type": "code",
   "execution_count": null,
   "metadata": {
    "id": "LT-KIzGxpEuF",
    "outputId": "34ad2825-f2ff-4a09-b15a-62e43f6648fc",
    "tags": []
   },
   "outputs": [],
   "source": [
    "population_rounded = ...\n",
    "population_rounded"
   ]
  },
  {
   "cell_type": "code",
   "execution_count": null,
   "metadata": {
    "deletable": false,
    "editable": false
   },
   "outputs": [],
   "source": [
    "grader.check(\"q7\")"
   ]
  },
  {
   "cell_type": "markdown",
   "metadata": {
    "id": "AOPukm2CpEuS"
   },
   "source": [
    "## Level III\n",
    "\n",
    "### `pandas`\n",
    "\n",
    "Pandas is an open source Python package that is most widely used for data science/data analysis and machine learning tasks. It is built on top of another library named `Numpy`, which provides support for arrays. Since we know how to perform operations on `NumPy` arrays we can operate on columns in a `pandas` dataframe. \n",
    "\n",
    "#### Indeed\n",
    "\n",
    "Indeed calculated the percentage change in seasonally-adjusted job postings starting from February 1, 2020, using a 7-day trailing average. February 1, 2020, is the pre-pandemic baseline. Indeed seasonally adjusts each series based on historical patterns in 2017, 2018, and 2019. Each series, including the national trend, occupational sectors, and sub-national geographies, is seasonally adjusted separately. Indeed switched to this new methodology in January 2021 and now reports all historical data using this new methodology. Historical numbers have been revised and may differ significantly from originally reported values. The new methodology applies a detrended seasonal adjustment factor to the percentage change in job postings. For more information, see [Indeed Hiring Lab Data Repository](https://github.com/hiring-lab/job_postings_tracker).\n",
    "\n",
    "The data file `indeed_data.csv` contains information for Raleigh-Cary (`ral_cary`), Charlotte-Concord-Gastonia (`char_con_gast`), and Greensboro-High Point (`gso_hp`).\n",
    "\n",
    "Let's import `pandas` as `pd`, then use `pd.read_csv` to read load the `indeed_data.csv` file into a `pandas` `DataFrame` named `indeed`.\n",
    "\n",
    "**Note:** The `indeed_data.csv` file is located in the data folder. This is why `'data/indeed_data.csv'` is inside the parentheses of the `pd.read_csv` function."
   ]
  },
  {
   "cell_type": "code",
   "execution_count": null,
   "metadata": {
    "id": "7Aic8-BbpEuT",
    "outputId": "054b517b-d8d3-44ca-9ad3-4fe1a07a386c"
   },
   "outputs": [],
   "source": [
    "# Import the pandas module as pd\n",
    "import pandas as pd\n",
    "\n",
    "# Read the .csv file\n",
    "indeed = pd.read_csv('data/indeed_data.csv')\n",
    "\n",
    "# Show the first 10 rows in the dataframe\n",
    "indeed.head(10)"
   ]
  },
  {
   "cell_type": "markdown",
   "metadata": {
    "id": "_JesxcRvpEuT"
   },
   "source": [
    "The `.head(10)` method is used to display the first 10 observations (rows) in the dataframe.\n",
    "\n",
    "To access the items in a column of dataframe we can use the column label (name) in two ways:\n",
    "\n",
    "- `<dataframe name>[<column name>]`\n",
    "    \n",
    "- `<dataframe name>.<column name>`\n",
    "\n",
    "For example, to access the values in the column labled `ral_cary` we could enter\n",
    "\n",
    "```\n",
    "indeed[ral_cary]\n",
    "```\n",
    "or \n",
    "\n",
    "```\n",
    "indeed.ral_cary\n",
    "```"
   ]
  },
  {
   "cell_type": "code",
   "execution_count": null,
   "metadata": {
    "id": "j1H13ij0pEuT",
    "outputId": "1d824598-9b47-404d-c4da-5bc32a85cef9"
   },
   "outputs": [],
   "source": [
    "indeed['ral_cary']"
   ]
  },
  {
   "cell_type": "code",
   "execution_count": null,
   "metadata": {
    "id": "TgmCUSaXpEuU",
    "outputId": "bfc59736-44e6-4859-eefa-d91dce7e6722"
   },
   "outputs": [],
   "source": [
    "indeed.ral_cary"
   ]
  },
  {
   "cell_type": "markdown",
   "metadata": {
    "id": "idpNp56wpEuU"
   },
   "source": [
    "We can use functions from the `NumPy` module to perform calculations on numercial columns in a dataframe. For example, some of the functions we can use are\n",
    "\n",
    "- `np.average`\n",
    "\n",
    "- `np.min`\n",
    "\n",
    "- `np.max`\n",
    "\n",
    "- `np.sort`"
   ]
  },
  {
   "cell_type": "markdown",
   "metadata": {
    "id": "Y_7amjJYpEuV"
   },
   "source": [
    "**Question 8.** Use `np.max` to find the largest postive percentage change in job postings from the Raleigh-Cary region. Save this to `max_pos_ral_cary`."
   ]
  },
  {
   "cell_type": "code",
   "execution_count": null,
   "metadata": {
    "id": "Zy0PmgTQpEuV",
    "outputId": "c9663f9d-fb2f-4a4e-a76c-bb08c4c46c1f",
    "tags": []
   },
   "outputs": [],
   "source": [
    "max_pos_ral_cary = ...\n",
    "max_pos_ral_cary"
   ]
  },
  {
   "cell_type": "code",
   "execution_count": null,
   "metadata": {
    "deletable": false,
    "editable": false
   },
   "outputs": [],
   "source": [
    "grader.check(\"q8\")"
   ]
  },
  {
   "cell_type": "markdown",
   "metadata": {
    "id": "L2I226fbpEuY"
   },
   "source": [
    "**Question 9.** Find the largest negative percentage change in job postings from the Raleigh-Cary region. Save this to `max_neg_ral_cary`."
   ]
  },
  {
   "cell_type": "code",
   "execution_count": null,
   "metadata": {
    "id": "Wm98jKwzpEuZ",
    "outputId": "815e3bf6-5255-4a43-eb38-f5b0abb73b49",
    "tags": []
   },
   "outputs": [],
   "source": [
    "max_neg_ral_cary = ...\n",
    "max_neg_ral_cary "
   ]
  },
  {
   "cell_type": "code",
   "execution_count": null,
   "metadata": {
    "deletable": false,
    "editable": false
   },
   "outputs": [],
   "source": [
    "grader.check(\"q9\")"
   ]
  },
  {
   "cell_type": "markdown",
   "metadata": {},
   "source": [
    "For **Question 10** and **Question 11** let's look at a dataset about something that we're very fimilar with, **coffee**. Run the cell below to load the `coffee.csv` dataset.\n",
    "\n",
    "**Note:** There are not autograded checks for **Question 10** and **Question 11**. If you are'nt sure of your answer contact a classmate (maybe someone from your group project) or post to the Moodle discussion forum."
   ]
  },
  {
   "cell_type": "code",
   "execution_count": null,
   "metadata": {},
   "outputs": [],
   "source": [
    "coffee = pd.read_csv('data/coffee.csv')\n",
    "coffee.head(5)"
   ]
  },
  {
   "cell_type": "markdown",
   "metadata": {},
   "source": [
    "Let's get some basic information about the dataframe."
   ]
  },
  {
   "cell_type": "markdown",
   "metadata": {
    "id": "ITgzi0AlpEub"
   },
   "source": [
    "<!-- BEGIN QUESTION -->\n",
    "\n",
    "**Question 10.** Choose a numeric column. Then find the median value in the column."
   ]
  },
  {
   "cell_type": "code",
   "execution_count": null,
   "metadata": {
    "id": "2exW3Dg-pEuc",
    "outputId": "0bae5700-cc21-4b94-ae96-092cb20892ba",
    "tags": []
   },
   "outputs": [],
   "source": [
    "..."
   ]
  },
  {
   "cell_type": "markdown",
   "metadata": {
    "id": "ITgzi0AlpEub"
   },
   "source": [
    "<!-- END QUESTION -->\n",
    "\n",
    "<!-- BEGIN QUESTION -->\n",
    "\n",
    "**Question 11.** Choose a year. Then subset the `coffee` dataframe to find all the observations that match your choice for year."
   ]
  },
  {
   "cell_type": "code",
   "execution_count": null,
   "metadata": {
    "id": "2exW3Dg-pEuc",
    "outputId": "0bae5700-cc21-4b94-ae96-092cb20892ba",
    "tags": []
   },
   "outputs": [],
   "source": [
    "..."
   ]
  },
  {
   "cell_type": "markdown",
   "metadata": {
    "id": "IpSPVD-jpEub"
   },
   "source": [
    "<!-- END QUESTION -->\n",
    "\n",
    "## Level IV\n",
    "\n",
    "While we were studying R, we learned how to use the `group_by()` function. Python has a similar function named `.groupby()`. To complete the last two questions you'll need to use the `groupby()` function. Even though we have not covered this during class, you have the internet. Look [here](https://pandas.pydata.org/docs/reference/api/pandas.DataFrame.groupby.html) to read the documentation provided by pydata. Also, a link to an example has provided in each question. "
   ]
  },
  {
   "cell_type": "markdown",
   "metadata": {
    "id": "ITgzi0AlpEub"
   },
   "source": [
    "**Question 12.** Use the `.groupby()` method on the categorical column `Location.Country` in the `coffee` dataframe. Then click [here](https://www.geeksforgeeks.org/python-pandas-dataframe-groupby/) to follow the steps for **Example #1** from the website to access the dataframe for China."
   ]
  },
  {
   "cell_type": "code",
   "execution_count": null,
   "metadata": {
    "tags": []
   },
   "outputs": [],
   "source": [
    "chi = ...\n",
    "..."
   ]
  },
  {
   "cell_type": "code",
   "execution_count": null,
   "metadata": {
    "deletable": false,
    "editable": false
   },
   "outputs": [],
   "source": [
    "grader.check(\"q12\")"
   ]
  },
  {
   "cell_type": "markdown",
   "metadata": {
    "id": "T7bO6IpzpEue",
    "tags": []
   },
   "source": [
    "## Level V\n"
   ]
  },
  {
   "cell_type": "markdown",
   "metadata": {
    "id": "U2LrySLypEue"
   },
   "source": [
    "**Question 13.** You can group on multiple columns. This time add the column `Data.Type.Processing.method` to your code from **Question 12**. To see an example on how to group using multiple columns click [here](https://www.geeksforgeeks.org/python-pandas-dataframe-groupby/) and follow **Example #2**."
   ]
  },
  {
   "cell_type": "code",
   "execution_count": null,
   "metadata": {
    "id": "kB2-WFlDpEuf",
    "outputId": "0655be52-cec6-4ecc-d820-20a75ae5808e",
    "tags": []
   },
   "outputs": [],
   "source": [
    "col = ...\n",
    "\n",
    "# The line of code below will get the group that has Location.Country = 'Colombia'\n",
    "# and Data.Type.Processing method = 'Natural / Dry'. \n",
    "# To get a group with more than one key you must pass the get_group method a tuple\n",
    "# that contains the keys for the group.\n",
    "col.get_group(('Colombia', 'Natural / Dry'))"
   ]
  },
  {
   "cell_type": "code",
   "execution_count": null,
   "metadata": {
    "deletable": false,
    "editable": false
   },
   "outputs": [],
   "source": [
    "grader.check(\"q13\")"
   ]
  },
  {
   "cell_type": "markdown",
   "metadata": {
    "deletable": false,
    "editable": false
   },
   "source": [
    "## Submission\n",
    "\n",
    "Make sure you have run all cells in your notebook in order before running the cell below, so that all images/graphs appear in the output. The cell below will generate a zip file for you to submit. **Please save before exporting!**\n",
    "\n",
    "When done exporting, download the .zip file by `SHIFT`-clicking on the file name and selecting **Save Link As**. Or, find the .zip file in the left side of the screen and right-click and select **Download**. You'll submit this .zip file for the assignment in Moodle to Gradescope for grading."
   ]
  },
  {
   "cell_type": "code",
   "execution_count": null,
   "metadata": {
    "deletable": false,
    "editable": false
   },
   "outputs": [],
   "source": [
    "# Save your notebook first, then run this cell to export your submission.\n",
    "grader.export(pdf=False)"
   ]
  },
  {
   "cell_type": "markdown",
   "metadata": {},
   "source": [
    " "
   ]
  }
 ],
 "metadata": {
  "colab": {
   "provenance": []
  },
  "kernelspec": {
   "display_name": "DSC295",
   "language": "python",
   "name": "dsc295"
  },
  "language_info": {
   "codemirror_mode": {
    "name": "ipython",
    "version": 3
   },
   "file_extension": ".py",
   "mimetype": "text/x-python",
   "name": "python",
   "nbconvert_exporter": "python",
   "pygments_lexer": "ipython3",
   "version": "3.11.0"
  },
  "otter": {
   "OK_FORMAT": true,
   "tests": {
    "q1": {
     "name": "q1",
     "points": null,
     "suites": [
      {
       "cases": [
        {
         "code": ">>> isinstance(one_gb, float) or isinstance(one_gb, int)\nTrue",
         "hidden": false,
         "locked": false
        },
        {
         "code": ">>> one_gb in [1073741824, 1073741824.0]\nTrue",
         "hidden": false,
         "locked": false
        }
       ],
       "scored": true,
       "setup": "",
       "teardown": "",
       "type": "doctest"
      }
     ]
    },
    "q12": {
     "name": "q12",
     "points": 0,
     "suites": [
      {
       "cases": [
        {
         "code": ">>> isinstance(chi, pd.core.groupby.generic.DataFrameGroupBy)\nTrue",
         "hidden": false,
         "locked": false
        },
        {
         "code": ">>> chi.get_group('China').shape\n(16, 23)",
         "hidden": false,
         "locked": false
        },
        {
         "code": ">>> np.unique(chi.get_group('China')['Location.Country'])[0]\n'China'",
         "hidden": false,
         "locked": false
        }
       ],
       "scored": true,
       "setup": "",
       "teardown": "",
       "type": "doctest"
      }
     ]
    },
    "q13": {
     "name": "q13",
     "points": 0,
     "suites": [
      {
       "cases": [
        {
         "code": ">>> isinstance(col, pd.core.groupby.generic.DataFrameGroupBy)\nTrue",
         "hidden": false,
         "locked": false
        },
        {
         "code": ">>> col.get_group(('Colombia', 'Natural / Dry')).shape\n(17, 23)",
         "hidden": false,
         "locked": false
        },
        {
         "code": ">>> np.unique(col.get_group(('Colombia', 'Natural / Dry'))['Location.Country'])[0]\n'Colombia'",
         "hidden": false,
         "locked": false
        }
       ],
       "scored": true,
       "setup": "",
       "teardown": "",
       "type": "doctest"
      }
     ]
    },
    "q2": {
     "name": "q2",
     "points": null,
     "suites": [
      {
       "cases": [
        {
         "code": ">>> isinstance(min_height_difference, float)\nTrue",
         "hidden": false,
         "locked": false
        },
        {
         "code": ">>> 0 < min_height_difference < 0.08\nTrue",
         "hidden": false,
         "locked": false
        },
        {
         "code": ">>> min_height_difference\n0.076",
         "hidden": false,
         "locked": false
        }
       ],
       "scored": true,
       "setup": "",
       "teardown": "",
       "type": "doctest"
      }
     ]
    },
    "q3": {
     "name": "q3",
     "points": null,
     "suites": [
      {
       "cases": [
        {
         "code": ">>> isinstance(near_twenty, float)\nTrue",
         "hidden": false,
         "locked": false
        },
        {
         "code": ">>> 0 < near_twenty < 20\nTrue",
         "hidden": false,
         "locked": false
        },
        {
         "code": ">>> near_twenty\n19.99909997918947",
         "hidden": false,
         "locked": false
        }
       ],
       "scored": true,
       "setup": "",
       "teardown": "",
       "type": "doctest"
      }
     ]
    },
    "q4": {
     "name": "q4",
     "points": null,
     "suites": [
      {
       "cases": [
        {
         "code": ">>> isinstance(multiples_of_99, np.ndarray)\nTrue",
         "hidden": false,
         "locked": false
        },
        {
         "code": ">>> len(multiples_of_99)\n101",
         "hidden": false,
         "locked": false
        },
        {
         "code": ">>> multiples_of_99[100]\n9999",
         "hidden": false,
         "locked": false
        },
        {
         "code": ">>> np.sum(multiples_of_99)\n509949",
         "hidden": false,
         "locked": false
        }
       ],
       "scored": true,
       "setup": "",
       "teardown": "",
       "type": "doctest"
      }
     ]
    },
    "q5": {
     "name": "q5",
     "points": null,
     "suites": [
      {
       "cases": [
        {
         "code": ">>> isinstance(population_1999, float)\nTrue",
         "hidden": false,
         "locked": false
        },
        {
         "code": ">>> population_1999\n6034491620.0",
         "hidden": false,
         "locked": false
        }
       ],
       "scored": true,
       "setup": "",
       "teardown": "",
       "type": "doctest"
      }
     ]
    },
    "q6": {
     "name": "q6",
     "points": null,
     "suites": [
      {
       "cases": [
        {
         "code": ">>> isinstance(population_in_billions, np.ndarray)\nTrue",
         "hidden": false,
         "locked": false
        },
        {
         "code": ">>> len(population_in_billions)\n61",
         "hidden": false,
         "locked": false
        },
        {
         "code": ">>> np.sum(population_in_billions)\n323.331061383",
         "hidden": false,
         "locked": false
        }
       ],
       "scored": true,
       "setup": "",
       "teardown": "",
       "type": "doctest"
      }
     ]
    },
    "q7": {
     "name": "q7",
     "points": null,
     "suites": [
      {
       "cases": [
        {
         "code": ">>> isinstance(population_rounded, np.ndarray)\nTrue",
         "hidden": false,
         "locked": false
        },
        {
         "code": ">>> len(population_rounded)\n61",
         "hidden": false,
         "locked": false
        },
        {
         "code": ">>> np.sum(population_rounded)\n323.6",
         "hidden": false,
         "locked": false
        }
       ],
       "scored": true,
       "setup": "",
       "teardown": "",
       "type": "doctest"
      }
     ]
    },
    "q8": {
     "name": "q8",
     "points": null,
     "suites": [
      {
       "cases": [
        {
         "code": ">>> max_pos_ral_cary\n59.2",
         "hidden": false,
         "locked": false
        }
       ],
       "scored": true,
       "setup": "",
       "teardown": "",
       "type": "doctest"
      }
     ]
    },
    "q9": {
     "name": "q9",
     "points": null,
     "suites": [
      {
       "cases": [
        {
         "code": ">>> max_neg_ral_cary\n-42.2",
         "hidden": false,
         "locked": false
        }
       ],
       "scored": true,
       "setup": "",
       "teardown": "",
       "type": "doctest"
      }
     ]
    }
   }
  }
 },
 "nbformat": 4,
 "nbformat_minor": 4
}
