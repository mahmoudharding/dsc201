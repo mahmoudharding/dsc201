{
 "cells": [
  {
   "cell_type": "markdown",
   "id": "1ce49a49-0205-4b06-b805-bf42fa196fe1",
   "metadata": {},
   "source": [
    "# Assignment 06\n",
    "\n",
    "## Due: See Date in Moodle\n",
    "\n",
    "## This Week's Assignment\n",
    "\n",
    "In this week's assignment, you'll learn how to:\n",
    "\n",
    "- create and manage Python data structures\n",
    "\n",
    "- access values in a Python data structure\n",
    "\n",
    "\n",
    "## Notes\n",
    "\n",
    "## Guidelines\n",
    "\n",
    "- Follow good programming practices by using descriptive variable names, maintaining appropriate spacing for readability, and adding comments to clarify your code.\n",
    "\n",
    "- Ensure written responses use correct spelling, complete sentences, and proper grammar.\n",
    "\n",
    "**Name:**\n",
    "\n",
    "**Section:**\n",
    "\n",
    "**Date:**\n",
    "\n",
    "Let's get started!"
   ]
  },
  {
   "cell_type": "markdown",
   "id": "33d764e7-af77-445f-a2be-dc511c7c6ac9",
   "metadata": {},
   "source": [
    "## Jupyter notebooks\n",
    "\n",
    "This webpage is called a Jupyter notebook. A notebook is a place to write programs and view their results. We can also to write and format text using markdown.\n",
    "\n",
    "As for working in notebooks, there are two types of cells (each rectangle containing text or code is called a **cell**): \n",
    "\n",
    " - **code** cells that hold executable code.\n",
    " \n",
    " - **markdown** cells that hold a special kind of text that follows the markdown syntax. To get familiar with the markdown syntax, take a look at this [Markdown Gudie](https://www.markdownguide.org/basic-syntax/). Markdown cells (like this one) can be edited by double-clicking on them. After you edit a markdown cell, click the \"Run cell\" button at the top that looks like ▶| or hold down `Shift` + `Return` to confirm any changes. \n",
    "\n",
    "   **Note:** Try not to delete the instructions of the assignment.\n",
    "\n",
    "## Code Cells\n",
    "\n",
    "Running a code cell executes all the code within it, and any output will appear directly below the cell.\n",
    "\n",
    "\n",
    "**Note:** After you make changes to the text cell don't forget to click the \"Run cell\" button at the top that looks like ▶| or hold down `Shift` + `Return` to view the changes.\n",
    "\n",
    "## Markdown Cells\n",
    "\n",
    "Markdown cells are sometime referred to as *text* cells. \n",
    "\n",
    "**Question 1.** Create a text cell below by clicking the + button in the toolbar to add a new cell. By default, the new cell will be a code cell, so you'll need to convert it to a Markdown cell. To do this, click on \"Cell\" in the top menu, then select \"Markdown\" from the dropdown menu.\n",
    "\n",
    "In the newly created Markdown cell, enter the following information: **Name**, **Section**, and **Date**, each followed by a colon. Format the name in *italics* and the rest in **bold**."
   ]
  },
  {
   "cell_type": "markdown",
   "id": "37584823-c6b1-4bc9-9195-0776ea67aa4d",
   "metadata": {},
   "source": [
    "## Errors\n",
    "\n",
    "Whenever you write code, you'll make mistakes.  When you run a code cell that has errors, Python will sometimes produce error messages to tell you what you did wrong. Errors are okay; even experienced programmers make many errors.  When you make an error, you just have to find the source of the problem, fix it, and move on.\n",
    "\n",
    "There is an error in the next cell.  Run it and see what happens."
   ]
  },
  {
   "cell_type": "code",
   "execution_count": null,
   "id": "1e9e4e93-fda3-4700-af4b-f28d4b5c5009",
   "metadata": {
    "tags": []
   },
   "outputs": [],
   "source": [
    "print(\"This line is missing something.\""
   ]
  },
  {
   "cell_type": "markdown",
   "id": "b3e216f2-5532-4d4e-9a9e-368448062839",
   "metadata": {},
   "source": [
    "The error message you're seeing:\n",
    "\n",
    "```python\n",
    "  File \"<ipython-input-1>\", line 1\n",
    "    print(\"This line is missing something.\"\n",
    "                                           ^\n",
    "SyntaxError: incomplete input\n",
    "```\n",
    "\n",
    "### Explanation\n",
    "\n",
    "1. This part indicates where the error occurred:\n",
    "\n",
    "   - `Cell In[1]` refers to the first cell of your notebook.\n",
    "   \n",
    "   - `line 1` refers to the first line within that cell.\n",
    "\n",
    "1. The caret (`^`) is pointing to the end of the line, indicating the exact spot where Python expects additional input, in this case, a closing parenthesis `)`.\n",
    "\n",
    "1. A `SyntaxError` means there is something wrong with the structure of your code, and Python cannot understand or execute it as written. \n",
    "\n",
    "1. The message \"incomplete input\" is telling you that Python reached the end of the code (or the end of the line) but didn't find what it expected to complete the `print()` function call. Here, the missing piece is the closing parenthesis `)`.\n",
    "\n",
    "To fix the error, you simply need to add the closing parenthesis to complete the function call:\n",
    "\n",
    "```python\n",
    "print(\"This line is missing something.\")\n",
    "```\n",
    "\n",
    "This completes the input and resolves the syntax issue."
   ]
  },
  {
   "cell_type": "markdown",
   "id": "ab3456bd-16e4-4828-8571-4e9cbb97a7aa",
   "metadata": {},
   "source": [
    "**Question 2.** Fix the code below so that you can run the cell and see the intended message instead of an error."
   ]
  },
  {
   "cell_type": "code",
   "execution_count": null,
   "id": "6aa68c5e-715c-4e93-9ba5-5ffd43f66951",
   "metadata": {},
   "outputs": [],
   "source": [
    "print(\"This line is missing something.\""
   ]
  },
  {
   "cell_type": "markdown",
   "id": "da90fafc-9137-4a99-8fbf-004500dcb820",
   "metadata": {
    "tags": []
   },
   "source": [
    "## Variables\n",
    "\n",
    "Variables are used to store information in Python programs. To store a value in a variable we use an assignment statement. An assignment statement has a name on the left side of an `=` sign and an expression to be evaluated on the right. They are particularly helpful when you need to calculate many different things in a row, and also when you need one value to help calculate another.\n",
    "\n",
    "- Variable names can contain uppercase and lowercase letters, the digits 0-9, and underscores.\n",
    "\n",
    "- Variable names can not start with a number.\n",
    "\n",
    "- Variables names are case sensitive\n",
    "\n",
    "- Variables that do not have values yet cause errors when called."
   ]
  },
  {
   "cell_type": "markdown",
   "id": "0a1f1f6c-c7da-4fc1-9bb4-ab3327dfea8b",
   "metadata": {
    "tags": []
   },
   "source": [
    "## Data Types\n",
    "\n",
    "- Integer (`int`) are numbers w/o decimals\n",
    "\n",
    "- Float (`float`) are numbers with decimals\n",
    "\n",
    "- String (`str`) are used to store text"
   ]
  },
  {
   "cell_type": "markdown",
   "id": "30c0c644-e94d-4525-8531-1cd0c09473ba",
   "metadata": {},
   "source": [
    "**Question 3.** Assign a value to each variable. Be sure to use the appropriate data type based on the comments and the name of the variable.\n",
    "\n",
    "**Note:** Replace the ellipses (`...`) with your code."
   ]
  },
  {
   "cell_type": "code",
   "execution_count": null,
   "id": "0da3820b-b709-4cf0-a0e4-7d8da251cb06",
   "metadata": {},
   "outputs": [],
   "source": [
    "## Assign an integer to the variable my_int\n",
    "my_int = ...\n",
    "\n",
    "## Assign a float to the variable my_float\n",
    "my_float = ...\n",
    "\n",
    "## Assign a string to the variable my_string\n",
    "my_string = ...\n",
    "\n",
    "## This will print the value of the variable my_int\n",
    "print(my_int)\n",
    "\n",
    "## This will print the value of the variable my_float\n",
    "print(my_float)\n",
    "\n",
    "## This will print the value of the variable my_string\n",
    "print(my_string)"
   ]
  },
  {
   "cell_type": "markdown",
   "id": "dcbd4beb-7e9b-4d6f-b48f-9b151a34bd55",
   "metadata": {
    "tags": []
   },
   "source": [
    "**Question 4.** We set a variable `pi` to the value 3.14 and another variable `r` to 5. On a following line, assign the variable `sa` to a Python expression that evaluates to the surface area of a sphere with radius 5. \n",
    "\n",
    "**Do not** use the numbers `3.14` or `5` in your expression for `sa`.\n",
    "\n",
    "**Hint**: The formula for the surface area of a sphere with radius $r$ is: \n",
    "\n",
    "$$\\text{Surface Area} = 4 \\pi r^2$$\n",
    "\n",
    "**Note:** Replace the ellipses (`...`) with your code."
   ]
  },
  {
   "cell_type": "code",
   "execution_count": null,
   "id": "c7b93662-e2df-4a9a-9a89-5a0b67064004",
   "metadata": {},
   "outputs": [],
   "source": [
    "## Assign the value of pi (e.g., 3.14159 or use math.pi)\n",
    "pi = ...\n",
    "\n",
    "## Assign the radius of the sphere (in this case, 5)\n",
    "r = 5\n",
    "\n",
    "## Calculate the surface area of the sphere using the formula 4 * pi * r^2\n",
    "sa = ...\n",
    "\n",
    "## Output the surface area of the sphere\n",
    "sa"
   ]
  },
  {
   "cell_type": "markdown",
   "id": "15ba6582-c827-47e6-93b1-74096b21e17e",
   "metadata": {},
   "source": [
    "**Question 5.** Use an arithmetic expression to calculate and assign the name `seconds_in_a_decade` to represent the total number of seconds between midnight January 1, 2020, and midnight January 1, 2030.\n",
    "\n",
    "**Note:** Replace the ellipses (`...`) with your code."
   ]
  },
  {
   "cell_type": "code",
   "execution_count": null,
   "id": "e503ffbc-8ede-4619-9704-e92bca0d29d8",
   "metadata": {},
   "outputs": [],
   "source": [
    "## Calculate the total number of seconds in the decade 2020-2030, \n",
    "seconds_in_a_decade = ...\n",
    "\n",
    "## The last line in this cell will print the value you've given to \n",
    "##seconds_in_a_decade when you run it. \n",
    "\n",
    "## Unlike RStudio, where each line of code can display its own output, \n",
    "## a Jupyter Notebook will only display the result of the last line \n",
    "## in a cell when executed, unless you explicitly use a print statement.\n",
    "## Therefore, the last line in this cell will automatically display \n",
    "## the value you've given to seconds_in_a_decade when you run it.\n",
    "seconds_in_a_decade"
   ]
  },
  {
   "cell_type": "markdown",
   "id": "fd9a3b0f-bd11-4042-9f00-fdc96ef275a0",
   "metadata": {},
   "source": [
    "## Data Structures\n",
    "\n",
    "- List\n",
    "\n",
    "- Tuple\n",
    "\n",
    "- Dictionary \n",
    "\n",
    "### List\n",
    "\n",
    "- A list is used to store multiple values in a single value or variable. \n",
    "\n",
    "- To create a list use square brackets.\n",
    "\n",
    "- Lists can contain elements of different types.\n",
    "\n",
    "- List items are indexed beginning with 0.\n",
    "\n",
    "Run the code cell below to create a list of random words."
   ]
  },
  {
   "cell_type": "code",
   "execution_count": null,
   "id": "96e06c1b-e9ce-4838-a661-bd82fc2d73c8",
   "metadata": {
    "tags": []
   },
   "outputs": [],
   "source": [
    "## Create a list named 'random_words' that contains a selection of \n",
    "## different words.\n",
    "random_words = [\"apple\", \"banana\", \"cherry\", \"doggie\", \"elephant\", \n",
    "                \"flower\", \"grape\", \"hamburger\", \"ice cream\"]"
   ]
  },
  {
   "cell_type": "markdown",
   "id": "64ae3f8a-c614-42ca-8607-e769fc94b616",
   "metadata": {},
   "source": [
    "The first item in the list has index position 0. Run the cell below to see."
   ]
  },
  {
   "cell_type": "code",
   "execution_count": null,
   "id": "db6432b7-8e6b-47cf-ba28-f78904907f8f",
   "metadata": {},
   "outputs": [],
   "source": [
    "## The first item in the random_words list with index value 0\n",
    "random_words[0]"
   ]
  },
  {
   "cell_type": "code",
   "execution_count": null,
   "id": "e43663cc-213f-48bb-a07b-1be75ff86fb5",
   "metadata": {},
   "outputs": [],
   "source": [
    "The second item in the list has index position 1. Run the cell below to see."
   ]
  },
  {
   "cell_type": "code",
   "execution_count": null,
   "id": "96d9e554-334c-471b-a467-693c79225fd4",
   "metadata": {},
   "outputs": [],
   "source": [
    "## The second item in the random_words list with index value 1\n",
    "random_words[1]"
   ]
  },
  {
   "cell_type": "markdown",
   "id": "33c34e05-2f91-4daf-a329-38c21fda48e6",
   "metadata": {},
   "source": [
    "## `for` Loop\n",
    "\n",
    "A `for` loop in Python is used to iterate over a sequence, such as a list, string, etc. It automatically loops through each item in the sequence without needing an explicit counter.\n",
    "\n",
    "**Example 1.** Use a `for` loop to iterate through and display each element in the `random_words` list."
   ]
  },
  {
   "cell_type": "code",
   "execution_count": null,
   "id": "42a5e465-6962-4c97-b935-168f9825870e",
   "metadata": {},
   "outputs": [],
   "source": [
    "for i in random_words:\n",
    "    print(i)"
   ]
  },
  {
   "cell_type": "markdown",
   "id": "77369dc3-5046-4f4d-b094-cc109abfb412",
   "metadata": {},
   "source": [
    "We can also iterate through a list by accessing its elements using their index positions. This allows us to work directly with the indices, which can be useful when both the element and its position are needed."
   ]
  },
  {
   "cell_type": "code",
   "execution_count": null,
   "id": "2693dad8-40c0-44e3-a831-2c72f95d7d6e",
   "metadata": {
    "tags": []
   },
   "outputs": [],
   "source": [
    "## Use the len() function to get the number of elements in the 'random_words' list.\n",
    "## This will return the total count of words in the list.\n",
    "len(random_words)"
   ]
  },
  {
   "cell_type": "code",
   "execution_count": null,
   "id": "92df7cd1-a25a-47aa-8c84-ea6c34e97bd4",
   "metadata": {
    "tags": []
   },
   "outputs": [],
   "source": [
    "## The range() function generates a sequence of numbers starting from 0 up to (but not including) 9.\n",
    "## In this case, it will generate the numbers 0, 1, 2, 3, 4, 5, 6, 7, and 8.\n",
    "range(9)"
   ]
  },
  {
   "cell_type": "code",
   "execution_count": null,
   "id": "276eacfc-1203-4786-b04c-b019574fba52",
   "metadata": {
    "tags": []
   },
   "outputs": [],
   "source": [
    "## The range() function generates a sequence of numbers from 0 up to (but not including) the \n",
    "## length of the random_words list.\n",
    "## This will create a sequence of indices corresponding to each position in the list random_words.\n",
    "range(len(random_words))"
   ]
  },
  {
   "cell_type": "markdown",
   "id": "5a2b6dbb-2727-40ab-aa20-a2f895f62644",
   "metadata": {},
   "source": [
    "**Example 2.** Use a `for` loop to iterate through the `random_words` list by **index values** and display each element. Print the index (starting from 0), the value, and the item's position (starting from 1) in the list. For example, \n",
    "\n",
    "```\n",
    "0 apple    1\n",
    "1 banana   2\n",
    "2 cherry   3\n",
    "3 doggie   4\n",
    "```"
   ]
  },
  {
   "cell_type": "code",
   "execution_count": null,
   "id": "c92532c0-3048-4402-bf51-520d723a53fe",
   "metadata": {
    "tags": []
   },
   "outputs": [],
   "source": [
    "## Iterate over the indices of the random_words list using the range() function and len().\n",
    "for i in range(len(random_words)):\n",
    "    \n",
    "    ## For each iteration, print the current index (i), the word at that index in random_words, \n",
    "    ## a tab character '\\t' for spacing, and the index plus 1 (to display the position in a 1-based format).\n",
    "    print(i, random_words[i], '\\t', i + 1)"
   ]
  },
  {
   "cell_type": "markdown",
   "id": "74c034c6-1d89-4268-b650-c9d81378fa64",
   "metadata": {},
   "source": [
    "Lists are a versatile data structure in Python, allowing us to store and manipulate collections of data efficiently. However, Python lists have limitations when it comes to performing arithmetic operations directly on their elements. Let’s explore these limitations."
   ]
  },
  {
   "cell_type": "code",
   "execution_count": null,
   "id": "065dfaa8-c08a-4263-9e01-dc58b00dfba5",
   "metadata": {
    "tags": []
   },
   "outputs": [],
   "source": [
    "## Create a list named 'one_to_ten' that contains the numbers from 1 to 10.\n",
    "one_to_ten = [1, 2, 3, 4, 5, 6, 7, 8, 9, 10]"
   ]
  },
  {
   "cell_type": "markdown",
   "id": "121229fd-8ae7-4504-b053-de774ab91cb3",
   "metadata": {
    "tags": []
   },
   "source": [
    "**Example 3.** What do you think the code below will do?"
   ]
  },
  {
   "cell_type": "code",
   "execution_count": null,
   "id": "41bf27c3-21a7-47b7-b524-e9f114680eea",
   "metadata": {
    "tags": []
   },
   "outputs": [],
   "source": [
    "one_to_ten * 2"
   ]
  },
  {
   "cell_type": "markdown",
   "id": "405e06a8-f11b-4073-a4fa-aa1221167836",
   "metadata": {
    "tags": []
   },
   "source": [
    "**Example 4.** What do you think the code below will do?"
   ]
  },
  {
   "cell_type": "code",
   "execution_count": null,
   "id": "ea9ce0c1-f24b-411f-93f6-50fdb4876025",
   "metadata": {
    "tags": []
   },
   "outputs": [],
   "source": [
    "one_to_ten + 2"
   ]
  },
  {
   "cell_type": "markdown",
   "id": "2b0035cc-22c1-458c-adde-512e8ea1f421",
   "metadata": {},
   "source": [
    "## NumPy\n",
    "\n",
    "### What is `NumPy`?\n",
    "\n",
    "- `NumPy` is a Python library used for working with arrays.\n",
    "\n",
    "- It also has functions for working in domain of linear algebra, fourier transform, and matrices.\n",
    "\n",
    "- `NumPy` was created in 2005 by Travis Oliphant. It is an open source project and you can use it freely.\n",
    "\n",
    "- `NumPy` stands for Numerical Python.\n",
    "\n",
    "### Why Use `NumPy`?\n",
    "\n",
    "- In Python we have lists that serve the purpose of arrays, but they are slow to process.\n",
    "\n",
    "- `NumPy` aims to provide an array object that is up to 50x faster than traditional Python lists.\n",
    "\n",
    "- The array object in `NumPy` is called `ndarray`, it provides a lot of supporting functions that make working with `ndarray` very easy.\n",
    "\n",
    "Arrays are very frequently used in data science, where speed and resources are very important.\n",
    "\n",
    "**Source:** [W3Schools](https://www.w3schools.com/python/numpy/numpy_intro.asp)\n",
    "\n",
    "We need to import `NumPy` because it doesn't come pre-installed with Python by default. While Python provides built-in data structures like lists, `NumPy` offers more specialized, efficient tools for numerical and scientific computing. To access these features, you must explicitly install and import the `NumPy` library.\n",
    "\n",
    "**Example 5.** In the code cell belwo import the `NumPy` library using the appropriate aliasing.\n",
    "\n",
    "```python\n",
    "import numpy as np\n",
    "```"
   ]
  },
  {
   "cell_type": "code",
   "execution_count": null,
   "id": "9b4dbd4b-4ff4-4fb6-9f79-39cd77fa40bf",
   "metadata": {
    "tags": []
   },
   "outputs": [],
   "source": [
    "## Import the NumPy library and give it the alias np for easier reference.\n",
    "## If you don't use the alias, you would need to type numpy each time you call a NumPy function.\n",
    "## For example, without the alias, you'd write numpy.array() instead of np.array().\n",
    "import numpy as np"
   ]
  },
  {
   "cell_type": "code",
   "execution_count": null,
   "id": "a18afb52-34fd-4994-b46d-556cc0acce22",
   "metadata": {
    "tags": []
   },
   "outputs": [],
   "source": [
    "one_to_ten"
   ]
  },
  {
   "cell_type": "markdown",
   "id": "19f1fd98-2b5e-4a4e-a8a9-39960444fc74",
   "metadata": {},
   "source": [
    "We can create a `Numpy` array using the `np.array` command and using a list as the function parameter. We can enter the list manually, or we can enter the name of a list that has already been defined."
   ]
  },
  {
   "cell_type": "code",
   "execution_count": null,
   "id": "a5453b72-6079-41a7-be75-04ff38a834c2",
   "metadata": {
    "tags": []
   },
   "outputs": [],
   "source": [
    "## Create a NumPy array using the np.array() function, which converts a list of numbers (1 to 10) \n",
    "## into a NumPy array.\n",
    "## This allows for numerical operations and array-specific methods that aren't available with lists.\n",
    "np.array([1, 2, 3, 4, 5, 6, 7, 8, 9, 10])"
   ]
  },
  {
   "cell_type": "code",
   "execution_count": null,
   "id": "729fa24b-852c-4c0f-8660-608132bcf4ba",
   "metadata": {
    "tags": []
   },
   "outputs": [],
   "source": [
    "## Convert the list one_to_ten list into a NumPy array using the np.array() function.\n",
    "## This allows for numerical operations and array-specific methods that aren't available with lists.\n",
    "np.array(one_to_ten)"
   ]
  },
  {
   "cell_type": "markdown",
   "id": "e253047b-154f-4617-84e2-810245d88387",
   "metadata": {},
   "source": [
    "Now we can perform artihmetic operations on each item in the array.\n",
    "\n",
    "Run the code cell below. What do you notice?"
   ]
  },
  {
   "cell_type": "code",
   "execution_count": null,
   "id": "2599f2f7-f3a5-4843-9661-a0c54afbfc80",
   "metadata": {
    "tags": []
   },
   "outputs": [],
   "source": [
    "np.array(one_to_ten) + 2"
   ]
  },
  {
   "cell_type": "markdown",
   "id": "5b475906-4c27-43bf-a0ac-59d424af6b61",
   "metadata": {},
   "source": [
    "Run the code cell below. What do you notice?"
   ]
  },
  {
   "cell_type": "code",
   "execution_count": null,
   "id": "55602145-f8db-491b-8274-6727c35bcaa5",
   "metadata": {
    "tags": []
   },
   "outputs": [],
   "source": [
    "np.array(one_to_ten) * 2"
   ]
  },
  {
   "cell_type": "code",
   "execution_count": null,
   "id": "4bd05360-f3ab-4dc8-9475-46695a876324",
   "metadata": {
    "tags": []
   },
   "outputs": [],
   "source": [
    "## Convert the 'one_to_ten' list into a NumPy array and store it in the variable arr.\n",
    "arr = np.array(one_to_ten)\n",
    "\n",
    "## Print the array and a message indicating that we are about to calculate the square of each element.\n",
    "## Use np.square() to compute the square of each element in the array and print the result.\n",
    "print(\"The square of each element in the array: \", arr)\n",
    "print(np.square(arr))\n",
    "\n",
    "## Print a newline for better formatting.\n",
    "print(\"\\n\")\n",
    "\n",
    "## Print the array and a message indicating that we are about to calculate the square root of each element.\n",
    "## Use np.sqrt() to compute the square root of each element in the array and print the result.\n",
    "print(\"The square root of each element in the array: \", arr)\n",
    "print(np.sqrt(arr))\n",
    "\n",
    "## Print a newline for better formatting.\n",
    "print(\"\\n\")\n",
    "\n",
    "## Print the array and a message indicating that we are about to calculate the natural logarithm of each element.\n",
    "## Use np.log() to compute the natural log of each element in the array and print the result.\n",
    "print(\"The natural log of each element in the array: \", arr)\n",
    "print(np.log(arr))"
   ]
  },
  {
   "cell_type": "markdown",
   "id": "a1aa9365-67a6-4c3b-9dd3-b7c8a64998f9",
   "metadata": {},
   "source": [
    "**Question 6.** The `world_population.csv` dataset contains the world population estimates from 1950-2023. Load the `world_population.csv` file (located in the data directory) into a 1-dimensional NumPy array using the `loadtxt()` function from the `NumPy` module.\n",
    "\n",
    "Remember, to use functions from the NumPy module, we must reference the alias that was set up during the import statement.\n",
    "\n",
    "**Note:** Replace the ellipses (`...`) with your code."
   ]
  },
  {
   "cell_type": "code",
   "execution_count": null,
   "id": "b2d4d136-cbf2-4d9c-8d7a-e11c62f11808",
   "metadata": {
    "tags": []
   },
   "outputs": [],
   "source": [
    "wp = ..."
   ]
  },
  {
   "cell_type": "markdown",
   "id": "8e30050c-6eab-4a42-9993-cd57a705a0cb",
   "metadata": {},
   "source": [
    "Let’s examine the first 10 observations. We can access elements in a `NumPy` array using bracket notation `[ ]`, just like how we access elements in an R vector.\n",
    "\n",
    "**Example 6.** Use a `for` loop to print the year and its corresponding population from the `wp` array."
   ]
  },
  {
   "cell_type": "code",
   "execution_count": null,
   "id": "695f01b1-6d94-4ba9-836e-581adae26c42",
   "metadata": {
    "tags": []
   },
   "outputs": [],
   "source": [
    "## Initialize the variable 'year' with the starting value of 1950.\n",
    "year = 1950 \n",
    "\n",
    "## Loop through the first 10 indices (i.e., the first 10 years) using the range() function.\n",
    "for i in range(10):\n",
    "    ## For each iteration, print the year (starting from 1950) and the corresponding population value from 'wp' array.\n",
    "    ## The \"\\t\" adds a tab space between the year and the population value for better formatting.\n",
    "    print(year + i, \"\\t\", wp[i])"
   ]
  },
  {
   "cell_type": "markdown",
   "id": "ec850e80-bda9-42bb-a355-bbedc153f4ab",
   "metadata": {},
   "source": [
    "**Question 7.** Repeat the code from the previous example, but modify it to display the last 10 years in the `wp` dataset.\n",
    "\n",
    "**Note:** Replace the ellipses (`...`) with your code."
   ]
  },
  {
   "cell_type": "code",
   "execution_count": null,
   "id": "0ac5edfe-1eed-49ad-a328-03df380172ab",
   "metadata": {
    "tags": []
   },
   "outputs": [],
   "source": [
    "..."
   ]
  },
  {
   "cell_type": "markdown",
   "id": "368f8701-c9f4-471c-b90a-fd0295d41584",
   "metadata": {},
   "source": [
    "**Question 8.** Using programming, calculate the population difference between the first and last year in the dataset.\n",
    "\n",
    "**Note:** Replace the ellipses (`...`) with your code."
   ]
  },
  {
   "cell_type": "code",
   "execution_count": null,
   "id": "7b6a9841-2a72-4a4f-a737-3b141d72659e",
   "metadata": {},
   "outputs": [],
   "source": [
    "..."
   ]
  },
  {
   "cell_type": "markdown",
   "id": "e2920a9e-2251-4728-9020-de9aa43d8945",
   "metadata": {},
   "source": [
    "**Example 7.** `NumPy` offers many built-in functions for processing data in both single and multi-dimensional arrays.\n",
    "\n",
    "If we wanted to calculate the difference in population between successive years, you might initially think to write a for loop like this:\n",
    "\n",
    "```python\n",
    "for i in range(len(wp) - 1):\n",
    "    print(wp[i+1] - wp[i])\n",
    "```\n",
    "Run the code cell below to see how it works."
   ]
  },
  {
   "cell_type": "code",
   "execution_count": null,
   "id": "29aaf12c-ee1f-4a01-91ac-323361ec4dde",
   "metadata": {
    "tags": []
   },
   "outputs": [],
   "source": [
    "## Loop through the years, stopping one year before the last\n",
    "for i in range(len(wp) - 1):\n",
    "    \n",
    "    ## Calculate the difference between consecutive population values\n",
    "    PopDiff = wp[i+1] - wp[i]\n",
    "    \n",
    "    ## Only print the first 10 differences\n",
    "    if i < 10:\n",
    "        print(PopDiff)"
   ]
  },
  {
   "cell_type": "markdown",
   "id": "740e4e67-ad12-4e8f-9fed-221e012ee0dc",
   "metadata": {},
   "source": [
    "However, `NumPy` offers a built-in function, `np.diff`, that computes the difference between consecutive array elements and returns the result in a new array. In contrast, the manual approach (shown above) would require you to first define an empty `NumPy` array and then fill it with each new difference as you compute them."
   ]
  },
  {
   "cell_type": "code",
   "execution_count": null,
   "id": "025cab8a-96ff-4736-80de-bd34f3555a80",
   "metadata": {
    "tags": []
   },
   "outputs": [],
   "source": [
    "np.diff(wp)"
   ]
  },
  {
   "cell_type": "markdown",
   "id": "a5b631dd-04eb-4a63-987d-3de0c4162ea6",
   "metadata": {},
   "source": [
    "In general, it's better to use a function or method instead of a for loop when available, as it is often more efficient and concise."
   ]
  },
  {
   "cell_type": "markdown",
   "id": "88c8ec38-90e6-4e52-a62f-e5cdb019c13a",
   "metadata": {},
   "source": [
    "### Tuple\n",
    "\n",
    "- A tuple is used to store multiple values in a single value or variable. \n",
    "\n",
    "- To create a tuple use parenthesis.\n",
    "\n",
    "- Tuples can contain elements of different types."
   ]
  },
  {
   "cell_type": "code",
   "execution_count": null,
   "id": "16d47ea6-f9c8-4958-8c78-9f4ed07deb8f",
   "metadata": {
    "tags": []
   },
   "outputs": [],
   "source": [
    "## Create a tuple named tuple_1 containing three strings: \"NC\", \"State\", and \"Wolfpack\".\n",
    "tuple_1 = (\"NC\", \"State\", \"Wolfpack\")\n",
    "\n",
    "## Create a tuple named tuple_2 containing the season \"Fall\" and the year 2024.\n",
    "tuple_2 = (\"Fall\", 2024)\n",
    "\n",
    "## print tuple_1 and tuple_2\n",
    "print(\"Tuple 1:\", tuple_1)\n",
    "print(\"Tuple 2:\", tuple_2)"
   ]
  },
  {
   "cell_type": "markdown",
   "id": "bff0e821-f7f7-4c53-a817-ac8553e7e08b",
   "metadata": {},
   "source": [
    "### Dictionary\n",
    "\n",
    "- A collection of key-value pairs.\n",
    "\n",
    "- A key is used to look up values.\n",
    "\n",
    "- A value can be numbers, strings, lists, or even other dictionaries."
   ]
  },
  {
   "cell_type": "code",
   "execution_count": null,
   "id": "df706bce-e04b-485f-a901-f6594f64e71a",
   "metadata": {
    "tags": []
   },
   "outputs": [],
   "source": [
    "d1 = {\n",
    "    \"age\" : 30,        ## String as a key with an integer as the value\n",
    "    \"id\"  : \"passport\" ## String as a key and as the value\n",
    "}\n",
    "\n",
    "d1"
   ]
  },
  {
   "cell_type": "markdown",
   "id": "2e2328cd-7612-44a3-b430-21fb9b8e9c93",
   "metadata": {},
   "source": [
    "### Methods\n",
    "\n",
    "We can use the `.keys()` method to access all the keys and the `.values()` method to access all the values. \n",
    "\n",
    "A method is a function associated with an object, like a dictionary, that allows us to perform specific actions on it. The difference between a function and a method is that a function is independent, while a method is called on an object and operates on that object's data."
   ]
  },
  {
   "cell_type": "code",
   "execution_count": null,
   "id": "b6834f95-f6d7-4e2e-89b6-bccc7e8f1479",
   "metadata": {
    "tags": []
   },
   "outputs": [],
   "source": [
    "d1.keys()"
   ]
  },
  {
   "cell_type": "code",
   "execution_count": null,
   "id": "d0266b29-8294-4d7a-a30d-e1efebfffca7",
   "metadata": {
    "tags": []
   },
   "outputs": [],
   "source": [
    "d1.values()"
   ]
  },
  {
   "cell_type": "code",
   "execution_count": null,
   "id": "64860d33-4ff2-4bb5-a4b3-c4e4e183f8c7",
   "metadata": {},
   "outputs": [],
   "source": [
    "We can access a specific value by referencing its corresponding key in the dictionary."
   ]
  },
  {
   "cell_type": "code",
   "execution_count": null,
   "id": "ac3e5a25-b13a-4bf6-8220-7c5cd3f28479",
   "metadata": {
    "tags": []
   },
   "outputs": [],
   "source": [
    "d1['age']"
   ]
  },
  {
   "cell_type": "code",
   "execution_count": null,
   "id": "a5961dea-17bb-44e7-886e-693a91a3e81b",
   "metadata": {
    "tags": []
   },
   "outputs": [],
   "source": [
    "d1['id']"
   ]
  },
  {
   "cell_type": "markdown",
   "id": "1797bbbc-4219-4960-a943-801a393be6bd",
   "metadata": {},
   "source": [
    "Dictionary keys don’t have to be strings; they can also be numbers. Additionally, the values can be strings, numbers, lists, tuples, or even other dictionaries."
   ]
  },
  {
   "cell_type": "code",
   "execution_count": null,
   "id": "6b846695-df64-4a0b-aee7-31c0c235ec19",
   "metadata": {
    "tags": []
   },
   "outputs": [],
   "source": [
    "## Sample dictionary with various key:value pairs\n",
    "d2 = {\n",
    "    \"name\"     : \"John Doe\",          ## String as a key and as the value\n",
    "    \"age\"      : 30,                  ## String as a key with an integer as the value\n",
    "    \"scores\"   : [85, 92, 78],        ## String as a key with a list as the value\n",
    "    \"subjects\" : (\"Math\", \"Science\"), ## Stirng as a key with a tuple as the value\n",
    "    100        : \"one hundred\",       ## Integer as a key with string as the value\n",
    "    4.5        : [1, 2, 3]            ## Float as a key with a list as the value\n",
    "}\n",
    "\n",
    "d2"
   ]
  },
  {
   "cell_type": "markdown",
   "id": "b64b4664-ac01-43fb-9317-82582ee166db",
   "metadata": {},
   "source": [
    "**Question 9.** Access a value from the `d2` dictioanry that is a list.\n",
    "\n",
    "**Note:** Replace the ellipses (`...`) with your code."
   ]
  },
  {
   "cell_type": "code",
   "execution_count": null,
   "id": "dbaa0822-d228-465b-90de-0237bbf81f8c",
   "metadata": {},
   "outputs": [],
   "source": [
    "..."
   ]
  },
  {
   "cell_type": "markdown",
   "id": "04cecd93-5419-4fdd-b5fc-67eaa1f1275a",
   "metadata": {},
   "source": [
    "We can add new key-value pairs to a dictionary, assign new values to existing keys, or modify the values directly if they are mutable (e.g., lists or dictionaries).\n",
    "\n",
    "**Example 8.** Add the key-value pair `\"class\": \"senior\"` to the `d2` dictionary."
   ]
  },
  {
   "cell_type": "code",
   "execution_count": null,
   "id": "f5f2d73c-e4ac-42ca-9631-73d23b787072",
   "metadata": {
    "tags": []
   },
   "outputs": [],
   "source": [
    "d2[\"class\"] = \"senoir\"\n",
    "\n",
    "d2"
   ]
  },
  {
   "cell_type": "markdown",
   "id": "b1c07f30-9dd4-4c5e-8358-08824966ff7f",
   "metadata": {},
   "source": [
    "**Example 9.** Update the `'scores'` list by adding the value 100 using the `.append()` list method.\n",
    "\n",
    "**Note:** In Python, the `.append()` method for lists works in place, meaning it modifies the original list directly without creating a new list or returning any value. "
   ]
  },
  {
   "cell_type": "code",
   "execution_count": null,
   "id": "5d1e9f55-c17a-4ca3-8ea3-6fdcc36ad6ae",
   "metadata": {
    "tags": []
   },
   "outputs": [],
   "source": [
    "## Use the append() method to add the value 100 to the 'scores' list in the d2 dictionary.\n",
    "## the `.append()` method for lists works in place, meaning it modifies the original list \n",
    "## directly without creating a new list or returning any value.\n",
    "d2['scores'].append(100)\n",
    "\n",
    "## Display the value for scores\n",
    "d2['scores']"
   ]
  },
  {
   "cell_type": "markdown",
   "id": "dec9e2d1-db77-4e32-ba2e-fab9d0c08a8b",
   "metadata": {},
   "source": [
    "**Question 10.** Click **[here](https://www.geeksforgeeks.org/list-methods-python/)** to visit the Geeks for Geeks website and select a list method. Once you've chosen a method, implement it on one of the key-value pairs in the d2 dictionary. Be sure to comment your code, explaining the method you selected and the steps you took to implement it.\n",
    "\n",
    "**Note:** Replace the ellipses (`...`) with your code."
   ]
  },
  {
   "cell_type": "code",
   "execution_count": null,
   "id": "c34b589c-dedb-4a3c-91df-8c2b4ca606af",
   "metadata": {},
   "outputs": [],
   "source": [
    "..."
   ]
  },
  {
   "cell_type": "markdown",
   "id": "acd64348-4dda-48b8-8bbc-e781e1277d24",
   "metadata": {},
   "source": [
    "## Submission\n",
    "\n",
    "Make sure that all cells in your assignment have been executed to display all output, images, and graphs in the final document.\n",
    "\n",
    "**Note:** Save the assignment before proceeding to download the file.\n",
    "\n",
    "After downloading, locate the `.ipynb` file and upload **only** this file to Moodle. The assignment will be automatically submitted to Gradescope for grading."
   ]
  }
 ],
 "metadata": {
  "kernelspec": {
   "display_name": "Python 3 (ipykernel)",
   "language": "python",
   "name": "python3"
  },
  "language_info": {
   "codemirror_mode": {
    "name": "ipython",
    "version": 3
   },
   "file_extension": ".py",
   "mimetype": "text/x-python",
   "name": "python",
   "nbconvert_exporter": "python",
   "pygments_lexer": "ipython3",
   "version": "3.10.11"
  }
 },
 "nbformat": 4,
 "nbformat_minor": 5
}
