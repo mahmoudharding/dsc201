{
 "cells": [
  {
   "cell_type": "markdown",
   "id": "44e81398-8ba7-453f-a0a8-d2b8a94eafff",
   "metadata": {},
   "source": [
    "# Assignment 06\n",
    "\n",
    "## Due: See Date in Moodle\n",
    "\n",
    "## This Week's Assignment\n",
    "\n",
    "In this week's assignment you'll learn how to:\n",
    "\n",
    "- apply the fundamentals of data visualization.\n",
    "\n",
    "- connect data moves to visualization.\n",
    "\n",
    "- use `pandas` and `matplotlib` visualizations methods.\n",
    "\n",
    "## Guidelines\n",
    "\n",
    "- Follow good programming practices by using descriptive variable names, maintaining appropriate spacing for readability, and adding comments to clarify your code.\n",
    "\n",
    "- Ensure written responses use correct spelling, complete sentences, and proper grammar.\n",
    "\n",
    "**Name:**\n",
    "\n",
    "**Section:**\n",
    "\n",
    "**Date:**\n",
    "\n",
    "Let's get started!"
   ]
  },
  {
   "cell_type": "markdown",
   "id": "005efd52-637a-43d8-b45f-9ccbdec0e148",
   "metadata": {},
   "source": [
    "## Purpose and Fundamentals of Data Visualization\n",
    "\n",
    "Data visualization is the practice of representing data graphically to reveal patterns, trends, and insights that might be difficult to interpret from raw numbers alone. Effective visualizations simplify complex information, making it easier to communicate findings, support decision-making, and identify relationships within data. The fundamentals of data visualization include selecting appropriate graphical representations, ensuring clarity and accuracy, and emphasizing key insights while avoiding misleading representations. \n",
    "\n",
    "Tufte, E. R. (2001). _The visual display of quantitative information (2nd ed.)_. Graphics Press.\n",
    "\n",
    "While data visualization involves many concepts, techniques, and considerations, our discussion will focus on fundamental visualization types commonly used in exploratory data analysis, including bar charts, histograms, box plots, line charts, and scatter plots. These visualizations can be created in Python and R without requiring advanced coding techniques, making them accessible to beginners.\n",
    "\n",
    "Import the `pandas` library with the appropriate alias and load the `titanic.csv` dataset from the `data` folder into a `pandas` `DataFrame` named `titanic`. Display the first five rows to verify that the data loaded correctly.\n",
    "\n",
    "**Note:** Use separate code cells, one for importing the library and another for loading the dataset."
   ]
  },
  {
   "cell_type": "code",
   "execution_count": null,
   "id": "59b535ff-e20a-4042-af67-e3c5be81b490",
   "metadata": {
    "tags": []
   },
   "outputs": [],
   "source": [
    "## Import the pandas library\n",
    "..."
   ]
  },
  {
   "cell_type": "code",
   "execution_count": null,
   "id": "ab9b02d5-35f6-402d-b9e3-696f65cb5b07",
   "metadata": {
    "tags": []
   },
   "outputs": [],
   "source": [
    "## Load the dataset\n",
    "titanic = pd.read_csv('...')\n",
    "titanic.head()"
   ]
  },
  {
   "cell_type": "markdown",
   "id": "73940664-b034-4cb0-ac7d-650f513f0428",
   "metadata": {},
   "source": [
    "Let's examine the metadata for the `titanic` `DataFrame`."
   ]
  },
  {
   "cell_type": "code",
   "execution_count": null,
   "id": "0610d360-88fc-44c5-8a5b-6a305af20278",
   "metadata": {
    "tags": []
   },
   "outputs": [],
   "source": [
    "titanic.info()"
   ]
  },
  {
   "cell_type": "markdown",
   "id": "c8a53770-aa41-4ccf-9f22-3642527cf41e",
   "metadata": {},
   "source": [
    "**Question 1.** Write three research questions that can be answered using the Titanic dataset. Use the guidelines below to help. \n",
    "\n",
    "- Choose two or more variables that show relationships, not causation. Avoid causal terms like **\"affect\"** or **\"impact\"**. For example, instead of asking _“What is the average salary?”_, frame it as _“What is the relationship between years of experience and salary?”_\n",
    "\n",
    "- Be specific and avoid vague or overly broad phrasing. For example, _“How does study time relate to final exam scores among high school students?”_ is more precise and meaningful than _“Is there a connection between studying and grades?”_.\n",
    "\n",
    "- Consider multiple dimensions by exploring variations within subgroups and different conditions. For example, *“What is the relationship between physical activity level and heart rate, and does it differ by age group?”*\n",
    "\n",
    "**Note:** Present your questions in a numbered list."
   ]
  },
  {
   "cell_type": "markdown",
   "id": "e9d3c3cc-3a86-490f-b389-c17df235e6c6",
   "metadata": {},
   "source": [
    "_TYPE YOUR ANSWER HERE REPLACING THIS TEXT_"
   ]
  },
  {
   "cell_type": "markdown",
   "id": "e9fde2a2-9ead-4a45-8d65-d66316714bfe",
   "metadata": {},
   "source": [
    "## Visualizations\n",
    "\n",
    "We will use plotting features from `pandas` and from `matplotlib` to create our visualizations. Run the cell below to import the libraries we need.\n",
    "\n",
    "**Note:** To learn more about visualizations in `matplotlib` click [here](https://matplotlib.org/) and for documentation on creating visualizations using `pandas` click [here](https://pandas.pydata.org/pandas-docs/stable/user_guide/visualization.html).\n",
    "\n",
    "Let's import the `matplotlib.pyplot` module from the `Matplotlib` library.\n",
    "\n",
    "**Note:** A **library** is a collection of modules that provide functionality for a specific purpose. In this case, `Matplotlib` is the library, and it contains multiple modules, including `pyplot`. A **module** is a single file containing Python code (e.g., functions) that can be imported and used in a program."
   ]
  },
  {
   "cell_type": "code",
   "execution_count": null,
   "id": "c2f029fc-1e70-413c-8286-94d0818f14b1",
   "metadata": {
    "tags": []
   },
   "outputs": [],
   "source": [
    "# Import the matplotlib.pyplot library\n",
    "import ... as ...\n",
    "\n",
    "# Set default parameters for all visualizations\n",
    "# This sets the default figure size for all Matplotlib plots in the session to use a \n",
    "# wider figure (12 inches) with a shorter height (5 inches).\n",
    "plt.rcParams['figure.figsize'] = (12, 5)\n",
    "\n",
    "# This sets the dots per inch (DPI) for the figure, which controls the resolution.\n",
    "# Higher DPI (e.g., 200) results in sharper images, but larger file sizes.\n",
    "# Setting dpi = 100 makes the figure clearer compared to the default which is typically 72 DPI.\n",
    "plt.rcParams['figure.dpi'] = 100"
   ]
  },
  {
   "cell_type": "markdown",
   "id": "daeff0e6-0c38-4e88-968e-67bb66d32837",
   "metadata": {},
   "source": [
    "### Categorical Data\n",
    "\n",
    "#### Bar Plot\n",
    "\n",
    "A bar plot displays the counts or aggregated values from a column that contains categorical data. It can be created using Pandas with pre-aggregated values\n",
    "\n",
    "```python\n",
    "df.plot.bar()\n",
    "```\n",
    "\n",
    "or using Matplotlib\n",
    "\n",
    "```python\n",
    "plt.bar()\n",
    "```\n",
    "\n",
    "**Example 1.** Create a table to summarize the counts of categories in the `embarked` column."
   ]
  },
  {
   "cell_type": "code",
   "execution_count": null,
   "id": "ef743c76-3745-439c-890d-489375166138",
   "metadata": {
    "tags": []
   },
   "outputs": [],
   "source": [
    "tbl = ...\n",
    "tbl"
   ]
  },
  {
   "cell_type": "code",
   "execution_count": null,
   "id": "ed334a6a-c9ba-4ec1-9099-09e061eeb254",
   "metadata": {
    "tags": []
   },
   "outputs": [],
   "source": [
    "type(tbl)"
   ]
  },
  {
   "cell_type": "code",
   "execution_count": null,
   "id": "ab18abc6-61e1-4f7c-a3c8-e9c73accf6d3",
   "metadata": {
    "tags": []
   },
   "outputs": [],
   "source": [
    "tbl.index"
   ]
  },
  {
   "cell_type": "markdown",
   "id": "997e6c59-d2bc-40db-bf9a-996874d30900",
   "metadata": {},
   "source": [
    "**Example 2.** Create bar chart using `df.plot.bar()` to visualize the counts of the `embarked` column."
   ]
  },
  {
   "cell_type": "code",
   "execution_count": null,
   "id": "ea4b2f51-470e-4ca9-a533-f4f217f33e56",
   "metadata": {
    "tags": []
   },
   "outputs": [],
   "source": [
    "# The semicolon is included at the end of a plotting command to prevent the display of additional text output\n",
    "tbl.plot.bar(rot = 0);"
   ]
  },
  {
   "cell_type": "markdown",
   "id": "78e5820b-e344-44f7-9da0-a1b38c389157",
   "metadata": {},
   "source": [
    "**Question 2.** Create a bar chart using `plt.bar()` to visualize the counts of the `embarked` column.  \n",
    "\n",
    "**Notes:**  \n",
    "\n",
    "- `x` represents the unique categories in the `embarked` column.  \n",
    "\n",
    "- `height` represents the count of occurrences for each category.  "
   ]
  },
  {
   "cell_type": "code",
   "execution_count": 1,
   "id": "0e359ecf-f65f-4550-a605-5a79933e3836",
   "metadata": {
    "tags": []
   },
   "outputs": [
    {
     "data": {
      "text/plain": [
       "Ellipsis"
      ]
     },
     "execution_count": 1,
     "metadata": {},
     "output_type": "execute_result"
    }
   ],
   "source": [
    "..."
   ]
  },
  {
   "cell_type": "markdown",
   "id": "6e2005c5-ca1e-44dd-84e7-914be8706ca9",
   "metadata": {
    "tags": []
   },
   "source": [
    "**Question 3.** Create a bar chart to visualize the number of passengers who survived and did not survive. Include a title and axis labels to describe the visualization.\n",
    "\n",
    "\n",
    "**Note:** You can use either `matplotlib` or `pandas`."
   ]
  },
  {
   "cell_type": "code",
   "execution_count": null,
   "id": "46c445f2-bea5-452d-9fb7-509043180880",
   "metadata": {
    "tags": []
   },
   "outputs": [],
   "source": [
    "...\n",
    "\n",
    "plt.xticks(ticks = [0, 1], labels = ['Did Not Survive', 'Survived'])\n",
    "plt.ylabel(\"Number of Passengers\")\n",
    "plt.title(\"Passenger Survival Count\");"
   ]
  },
  {
   "cell_type": "markdown",
   "id": "dfedbc63-9a84-49f7-a3b6-13810be6e252",
   "metadata": {},
   "source": [
    "The `plt.title()`, `plt.xlabel()`, and `plt.ylabel()` methods in Matplotlib's `pyplot` module are used to add labels and a title to a plot.  \n",
    "\n",
    "- `plt.title(\"Title Text\")` sets the title of the plot.  \n",
    "\n",
    "- `plt.xlabel(\"$x-$axis Label\")` adds a label to the $x-$axis.  \n",
    "\n",
    "- `plt.ylabel(\"$y-$axis Label\")` adds a label to the $y-$axis.  \n",
    "\n",
    "These methods modify the **current figure** to provide context for the data being visualized."
   ]
  },
  {
   "cell_type": "markdown",
   "id": "17f497d0-4367-41eb-b2dc-4dbef0b8ce7d",
   "metadata": {
    "tags": []
   },
   "source": [
    "### Numerical Data\n",
    "\n",
    "#### Histograms\n",
    "\n",
    "A histogram displays the distribution of numerical data by grouping values into bins and showing their frequency. It can be created using Pandas with numerical columns\n",
    "\n",
    "```python\n",
    "df.plot.hist()\n",
    "```\n",
    "\n",
    "or using Matplotlib using\n",
    "\n",
    "```python\n",
    "plt.hist()\n",
    "```\n",
    "\n",
    "**Example 3.**  Use the `.hist()` `Series` method to create a histogram showing the distribution of passenger ages on the Titanic."
   ]
  },
  {
   "cell_type": "code",
   "execution_count": null,
   "id": "020a3eb4-2e87-461a-8e76-a8bc4f03a3d3",
   "metadata": {
    "tags": []
   },
   "outputs": [],
   "source": [
    "titanic['age'].hist();"
   ]
  },
  {
   "cell_type": "markdown",
   "id": "bc15a871-4bf3-4440-992b-680b579331d7",
   "metadata": {},
   "source": [
    "**Example 4.** Add customizations to the plot from **Example 3** by removing the gridlines, including axis labels, applying an edge color to the bars, and adding a title."
   ]
  },
  {
   "cell_type": "code",
   "execution_count": null,
   "id": "de41c1c6-9d93-4be0-bebf-57d48a89f949",
   "metadata": {
    "tags": []
   },
   "outputs": [],
   "source": [
    "titanic['age'].hist(edgecolor = 'white')\n",
    "\n",
    "plt.xlabel('Age (Years)')\n",
    "plt.ylabel('Frequency')\n",
    "plt.title('Age Distribution of Titanic Passengers')\n",
    "plt.grid(False);"
   ]
  },
  {
   "cell_type": "markdown",
   "id": "a688bb6f-6235-4e13-aa80-44208f5ae030",
   "metadata": {},
   "source": [
    "**Example 5.** Add customizations to the plot from **Example 3** by specifing the number of bins to be 20."
   ]
  },
  {
   "cell_type": "code",
   "execution_count": null,
   "id": "008f2850-7c34-428c-9fa9-b4c5aa104509",
   "metadata": {
    "tags": []
   },
   "outputs": [],
   "source": [
    "titanic['age'].hist(bins = 20, edgecolor = 'white')\n",
    "\n",
    "plt.xlabel('Age (Years)')\n",
    "plt.ylabel('Frequency')\n",
    "plt.title('Age Distribution of Titanic Passengers')\n",
    "plt.grid(False);"
   ]
  },
  {
   "cell_type": "markdown",
   "id": "81684507-6d24-4ba8-b791-01cf750d321c",
   "metadata": {},
   "source": [
    "**Example 6.** Change the $y-$axis to a percentage (i.e. density)."
   ]
  },
  {
   "cell_type": "code",
   "execution_count": null,
   "id": "a55edec9-faca-4d14-bf6f-98ad602171ea",
   "metadata": {
    "tags": []
   },
   "outputs": [],
   "source": [
    "titanic['age'].hist(edgecolor = 'white', density = True)\n",
    "\n",
    "plt.xlabel('Age (Years)')\n",
    "plt.ylabel('Frequency')\n",
    "plt.title('Age Distribution of Titanic Passengers')\n",
    "plt.grid(False);"
   ]
  },
  {
   "cell_type": "markdown",
   "id": "c4820999-00f3-41c1-80ba-c7c6a8148ac2",
   "metadata": {},
   "source": [
    "##### Frequecy or Density?\n",
    "\n",
    "A histogram can display data in two different ways: frequency or density. The choice depends on the analysis you need. \n",
    "\n",
    "Use a frequency histogram when:\n",
    "\n",
    "- You want to see the raw number of observations in each bin.\n",
    "\n",
    "- The dataset size is fixed, and comparisons across datasets aren’t needed.\n",
    "\n",
    "Use a density histogram when:\n",
    "\n",
    "- You are comparing distributions across datasets of different sizes.\n",
    "\n",
    "- You need probabilities or normalized values (e.g., working with probability distributions).\n",
    "\n",
    "- You plan to overlay a probability density function (PDF) (e.g., normal distribution curve)."
   ]
  },
  {
   "cell_type": "markdown",
   "id": "c14883da-dc68-4ac0-bc59-e2e8774f076f",
   "metadata": {},
   "source": [
    "**Example 7.** Compare the distribution of `age` across different survival statuses using the `by =` parameter."
   ]
  },
  {
   "cell_type": "code",
   "execution_count": null,
   "id": "96f29f41-1648-48e8-854c-3326742c4e2c",
   "metadata": {
    "tags": []
   },
   "outputs": [],
   "source": [
    "titanic['survived'].value_counts()"
   ]
  },
  {
   "cell_type": "code",
   "execution_count": null,
   "id": "d08993d0-fc29-4787-9920-ba8614a6c99e",
   "metadata": {
    "tags": []
   },
   "outputs": [],
   "source": [
    "titanic['age'].hist(edgecolor = 'white', by = titanic['survived'], rot = 0);"
   ]
  },
  {
   "cell_type": "code",
   "execution_count": null,
   "id": "5e9d3aa2-e2aa-4ff7-9784-21e70407c1a3",
   "metadata": {
    "tags": []
   },
   "outputs": [],
   "source": [
    "titanic['age'].hist(edgecolor = 'white', density = True, by = titanic['survived'], rot = 0);"
   ]
  },
  {
   "cell_type": "markdown",
   "id": "4a565d04-87ab-4b99-aa77-fc26f6167c62",
   "metadata": {},
   "source": [
    "**Question 4.** Examine the histograms comparing age distributions of Titanic survivors and non-survivors. What trends do you notice, and what insights can be drawn from the distributions? In particular, explore how survival rates vary across age groups, the differences between frequency and density histograms, and additional factors (e.g., sex, class) that could be analyzed for deeper insights."
   ]
  },
  {
   "cell_type": "markdown",
   "id": "ddd94454-df81-4142-a120-7beff2969854",
   "metadata": {
    "tags": []
   },
   "source": [
    "_TYPE YOUR ANSWER HERE REPLACING THIS TEXT_"
   ]
  },
  {
   "cell_type": "markdown",
   "id": "49ca8881-e39c-4145-990d-c15c833f56c0",
   "metadata": {
    "tags": []
   },
   "source": [
    "#### Scatterplots\n",
    "\n",
    "A scatter plot visualizes the relationship between two numerical variables by plotting individual data points on a coordinate plane. It can be created using Pandas with numerical columns\n",
    "\n",
    "```python\n",
    "df.plot.scatter(x = , y = )\n",
    "```\n",
    "\n",
    "or using Matplotlib\n",
    "\n",
    "```python\n",
    "plt.scatter(x, y)\n",
    "```"
   ]
  },
  {
   "cell_type": "markdown",
   "id": "72e33978-5799-4141-94bd-e82958adc364",
   "metadata": {},
   "source": [
    "**Question 5.** Create a scatter plot to visualize the relationship between `age` and `fare`."
   ]
  },
  {
   "cell_type": "code",
   "execution_count": null,
   "id": "3329dfaf-0b9e-4115-b454-8e0dfe7f8337",
   "metadata": {
    "tags": []
   },
   "outputs": [],
   "source": [
    "..."
   ]
  },
  {
   "cell_type": "markdown",
   "id": "b590f2f2-7215-4131-af6a-138f8646172e",
   "metadata": {},
   "source": [
    "**Example 8.** Customize the marker type and color.\n",
    "\n",
    "**Note:** Marker is the shape used to represent each data point in the scatter plot. It can be customized using the `marker` parameter, with options such as circles (`'o'`), squares (`'s'`), triangles (`'^'`), and more."
   ]
  },
  {
   "cell_type": "code",
   "execution_count": null,
   "id": "812eb0c5-73f3-4fd7-b427-97c0fb7f412d",
   "metadata": {
    "tags": []
   },
   "outputs": [],
   "source": [
    "color = 'lightblue'\n",
    "shape = 's'\n",
    "\n",
    "titanic.plot.scatter(x = 'age', y = 'fare', c = color, marker = shape);"
   ]
  },
  {
   "cell_type": "markdown",
   "id": "5449150b-d010-46ad-adc5-3428a362d71a",
   "metadata": {},
   "source": [
    "**Question 6.** Color the markers in a scatter plot based on survival status to distinguish survivors from non-survivors in the Titanic dataset."
   ]
  },
  {
   "cell_type": "code",
   "execution_count": null,
   "id": "379b516a-562f-402a-8cc1-816893776b42",
   "metadata": {
    "tags": []
   },
   "outputs": [],
   "source": [
    "titanic['survived'].value_counts()"
   ]
  },
  {
   "cell_type": "code",
   "execution_count": null,
   "id": "9660578e-d5d4-40b8-8ba7-23a0c727dbfb",
   "metadata": {},
   "outputs": [],
   "source": [
    "titanic['survived'].value_counts()"
   ]
  },
  {
   "cell_type": "code",
   "execution_count": null,
   "id": "8c92dcca-e0a0-449a-aec9-4ad933e739de",
   "metadata": {
    "tags": []
   },
   "outputs": [],
   "source": [
    "# Map the 'sex' column to colors: assign 'blue' for males and 'orange' for females\n",
    "colors = ...\n",
    "\n",
    "# Create variables for x and y values\n",
    "x_values = titanic['age']\n",
    "y_values = titanic['fare']\n",
    "\n",
    "# Create scatter plot using matplotlib directly with two colors\n",
    "plt.scatter(x = x_values, y = y_values, c = colors, alpha = 0.75)\n",
    "\n",
    "# Add handles\n",
    "handle_m = plt.scatter([], [], color = 'blue', label = 'Male')\n",
    "handle_f = plt.scatter([], [], color = 'orange', label = 'Female')\n",
    "\n",
    "# Add legend\n",
    "plt.legend(handles = [handle_m, handle_f], title = 'Sex')\n",
    "\n",
    "# Add labels and title\n",
    "plt.xlabel('age')\n",
    "plt.ylabel('fare')\n",
    "plt.title('Scatter Plot Colored by Sex');"
   ]
  },
  {
   "cell_type": "markdown",
   "id": "d5007eae-ca2c-4432-8619-f46f9ab587ad",
   "metadata": {},
   "source": [
    "**Notes:**\n",
    "\n",
    "- The `.map(`) function in Pandas is used to transform or map values in a `Series` based on a given dictionary, function, or another `Series`.\n",
    "\n",
    "- The `alpha` parameter in Matplotlib controls the transparency (opacity) of plotted elements. It accepts a value between 0 and 1:\n",
    "\n",
    "    - `alpha=1`: Fully opaque (default)\n",
    "\n",
    "    - `alpha=0.5`: 50% transparent\n",
    "\n",
    "    - `alpha=0`: Fully transparent (invisible)\n",
    "    \n",
    "- Normally, `plt.legend()` automatically picks up legend entries from `plt.scatter()`, but only if they are plotted with data. Since we want a legend for color categories (e.g., 'Male' and 'Female'), we manually create a legend handle without affecting the actual scatter plot.\n",
    "\n",
    "- These lines create invisible scatter plot points that are used only for the legend. \n",
    "```python\n",
    "handle_m = plt.scatter([], [], color = 'blue', label = 'Male')\n",
    "handle_f = plt.scatter([], [], color = 'blue', label = 'Female')\n",
    "```\n",
    "\n",
    "- This line adds a legend to a Matplotlib plot by explicitly defining which legend handles should be displayed. \n",
    "```python\n",
    "plt.legend(handles = [handle_m, handle_f], title = 'Sex')\n",
    "\n",
    "```"
   ]
  },
  {
   "cell_type": "markdown",
   "id": "82ce4acd-ca7e-4b3d-b2ed-4b762c3b18bc",
   "metadata": {},
   "source": [
    "**Question 7.** Examine the scatter plot comparing age and fare, with colors distinguishing male and female passengers. What patterns or trends do you observe, and what insights can be drawn from the distribution of points? In particular, explore how fare varies across different age groups, whether there are noticeable differences between male and female passengers, and what additional factors (e.g., survival status, class) could provide deeper insights."
   ]
  },
  {
   "cell_type": "markdown",
   "id": "52d532f9-b03d-443f-8096-a3b7f56aaada",
   "metadata": {
    "tags": []
   },
   "source": [
    "_TYPE YOUR ANSWER HERE REPLACING THIS TEXT_"
   ]
  },
  {
   "cell_type": "markdown",
   "id": "cd908429-f03f-4132-b2b7-d9b9707d40ec",
   "metadata": {},
   "source": [
    "### Box Plots\n",
    "\n",
    "A box plot visualizes the distribution of numerical data by displaying the median, quartiles, and potential outliers. It helps identify skewness, spread, and variability in the data. A box plot can be created using Pandas with numerical columns\n",
    "\n",
    "```python\n",
    "df.plot.box()\n",
    "```\n",
    "\n",
    "or using Matplotlib\n",
    "\n",
    "```python\n",
    "plt.boxplot()\n",
    "```\n",
    "\n",
    "<img src=\"https://lsc.studysixsigma.com/wp-content/uploads/sites/6/2015/12/1435.png\" width=\"800\" height=\"400\">\n",
    "\n",
    "**Source:** https://www.leansigmacorporation.com/box-plot-with-minitab/ \n",
    "\n",
    "**Author:** Michael Parker"
   ]
  },
  {
   "cell_type": "markdown",
   "id": "7596b9e9-9e76-4075-917a-923368aa06da",
   "metadata": {},
   "source": [
    "**Question 8.** Create a box plot to compare the distribution of the numerical variable fare grouped by passenger ticket class status."
   ]
  },
  {
   "cell_type": "code",
   "execution_count": null,
   "id": "033711f7-ee96-429b-b94f-c8bf741ab7a5",
   "metadata": {
    "tags": []
   },
   "outputs": [],
   "source": [
    "...\n",
    "\n",
    "plt.xlabel('Passenger Class')\n",
    "plt.ylabel('Fare')\n",
    "plt.title('Fare Distribution by Passenger Class')\n",
    "\n",
    "# Remove the automatic Pandas suptitle\n",
    "plt.suptitle(\"\");"
   ]
  },
  {
   "cell_type": "markdown",
   "id": "8fb0ee94-035a-47b4-ac45-4af6612e2659",
   "metadata": {},
   "source": [
    "**Question 9.** Examine the box plot comparing fare distributions across passenger classes. What patterns or trends do you observe, and what insights can be drawn from the spread of fares within each class? In particular, explore how fare varies across different classes, whether there are significant differences in fare ranges, and what additional factors (e.g., survival status, age) could provide deeper insights."
   ]
  },
  {
   "cell_type": "markdown",
   "id": "3ff46736-1892-4831-9547-6f1e27cc2236",
   "metadata": {},
   "source": [
    "_TYPE YOUR ANSWER HERE REPLACING THIS TEXT_"
   ]
  },
  {
   "cell_type": "markdown",
   "id": "9fd5a384-eae8-4c26-b2bd-7e572d492993",
   "metadata": {},
   "source": [
    "### Line Charts\n",
    "\n",
    "A line chart visualizes trends over time or sequential data by connecting data points with a continuous line. It is useful for showing changes, patterns, or trends in numerical data. It can be created using Pandas with numerical columns\n",
    "\n",
    "```python\n",
    "df.plot.line()\n",
    "```\n",
    "\n",
    "or using Matplotlib\n",
    "\n",
    "```python \n",
    "plt.plot()\n",
    "```\n",
    "\n",
    "#### Time Series Data\n",
    "\n",
    "To visualize trends over time, we need time-series data, which is a collection of data points recorded at successive time intervals. This type of data allows us to observe patterns, trends, and fluctuations over time, making it useful for analyzing changes, forecasting future values, etc.\n",
    "\n",
    "We'll examine the [AIDS dataset from CORGIS](https://corgis-edu.github.io/corgis/csv/aids/). The correpsonding data sheet can be found [here](https://docs.google.com/document/d/1SbQhneStEjX_nulIoLNPuIy1v2qfeVilZqVtw_Ke5aI/edit?tab=t.0). \n",
    "\n",
    "The UNAIDS Organization is an entity of the United Nations that looks to reduce the transmission of AIDS and provide resources to those currently affected by the disease. The following data set contains information on the number of those affected by the disease, new cases of the disease being reported, and AIDS-related deaths for a large set of countries over the course of 1990 - 2015."
   ]
  },
  {
   "cell_type": "markdown",
   "id": "5210ad97-ef9f-4d70-938a-61fa591efe42",
   "metadata": {},
   "source": [
    "Load the `aids.csv` file from the data folder."
   ]
  },
  {
   "cell_type": "code",
   "execution_count": null,
   "id": "52e36105-5b0c-4445-a973-fab21e4464e7",
   "metadata": {
    "tags": []
   },
   "outputs": [],
   "source": [
    "aids = pd.read_csv('...')"
   ]
  },
  {
   "cell_type": "markdown",
   "id": "cf862b2c-ab0a-4d7d-839d-6c13222ae8b2",
   "metadata": {},
   "source": [
    "Let's check the metadata."
   ]
  },
  {
   "cell_type": "code",
   "execution_count": null,
   "id": "ac596374-c515-47fc-b74c-0eba14a65fda",
   "metadata": {
    "tags": []
   },
   "outputs": [],
   "source": [
    "aids.info()"
   ]
  },
  {
   "cell_type": "markdown",
   "id": "e2ff783e-bca2-4598-a893-e647b75384cc",
   "metadata": {},
   "source": [
    "**Example 9.** Rename the relevant columns to follow the `snake_case` convention, select the necessary columns from the `aids` dataframe, and store the result in a new dataframe named `df`.\n",
    "\n",
    "**Columns (Variables)**\n",
    "\n",
    "- `Year`\n",
    "\n",
    "- `Country`\n",
    "\n",
    "- `Data.AIDS-Related Deaths.Adults`\n",
    "\n",
    "- `Data.AIDS-Related Deaths.Female Adults`\n",
    "\n",
    "- `Data.AIDS-Related Deaths.Male Adults`"
   ]
  },
  {
   "cell_type": "code",
   "execution_count": null,
   "id": "e2c3d548-8180-4e09-9971-1305dbf457a5",
   "metadata": {
    "tags": []
   },
   "outputs": [],
   "source": [
    "df = aids.rename(\n",
    "    columns = {'Year' : 'year',\n",
    "               'Country' : 'country',\n",
    "               'Data.AIDS-Related Deaths.Adults' : 'aids_deaths_adult',\n",
    "               'Data.AIDS-Related Deaths.Female Adults' : 'aids_deaths_female_adults',\n",
    "               'Data.AIDS-Related Deaths.Male Adults' : 'aids_deaths_male_adults'\n",
    "              }\n",
    ")[['year', 'country', 'aids_deaths_adult', 'aids_deaths_female_adults', 'aids_deaths_male_adults']]"
   ]
  },
  {
   "cell_type": "markdown",
   "id": "bc04bfd0-2475-4697-9da7-59f13e4708b2",
   "metadata": {},
   "source": [
    "Verify that our output is useful."
   ]
  },
  {
   "cell_type": "code",
   "execution_count": null,
   "id": "2038a275-0ec6-4026-ba4f-e8e6cb4da308",
   "metadata": {
    "tags": []
   },
   "outputs": [],
   "source": [
    "df.info()"
   ]
  },
  {
   "cell_type": "markdown",
   "id": "f7338741-8fd8-4533-a07e-fa3f12063fe8",
   "metadata": {},
   "source": [
    "**Example 10.** Create a line chart showing the annual trend of AIDS-related deaths among adults."
   ]
  },
  {
   "cell_type": "code",
   "execution_count": null,
   "id": "5707f811-e196-45fe-8d52-7a3e98474cfd",
   "metadata": {
    "tags": []
   },
   "outputs": [],
   "source": [
    "df.plot(x = 'year', y = 'aids_deaths_adult');"
   ]
  },
  {
   "cell_type": "markdown",
   "id": "2ca2767c-dac0-45dc-bb00-70f7e09d0b72",
   "metadata": {},
   "source": [
    "**Example 11.** Correct the line chart from **Example 10**."
   ]
  },
  {
   "cell_type": "code",
   "execution_count": null,
   "id": "d1bdba2b-74d8-4375-95d1-80c402993726",
   "metadata": {
    "tags": []
   },
   "outputs": [],
   "source": [
    "grps = df.groupby('year')\n",
    "grps"
   ]
  },
  {
   "cell_type": "code",
   "execution_count": null,
   "id": "8f5d930a-56a8-4c8f-83c1-94f3916a7630",
   "metadata": {
    "tags": []
   },
   "outputs": [],
   "source": [
    "grps['aids_deaths_adult'].sum()"
   ]
  },
  {
   "cell_type": "code",
   "execution_count": null,
   "id": "98c618a3-0c29-4d46-bc14-f7ee1529805a",
   "metadata": {
    "tags": []
   },
   "outputs": [],
   "source": [
    "tbl = grps['aids_deaths_adult'].sum()\n",
    "tbl"
   ]
  },
  {
   "cell_type": "code",
   "execution_count": null,
   "id": "3520eb4d-2705-4dfe-935b-355c3583810b",
   "metadata": {
    "tags": []
   },
   "outputs": [],
   "source": [
    "tbl.plot.line(marker = 'o', ms = 3);"
   ]
  },
  {
   "cell_type": "markdown",
   "id": "9a2f0646-afd9-4c8b-84a1-5c61888b0cd1",
   "metadata": {},
   "source": [
    "**Question 10.** Modify the line plot from **Example 11** to begin 2 years before the peak and extend to the end of the data."
   ]
  },
  {
   "cell_type": "code",
   "execution_count": null,
   "id": "c36e2491-a74d-4f88-b088-1357b926de03",
   "metadata": {
    "tags": []
   },
   "outputs": [],
   "source": [
    "..."
   ]
  },
  {
   "cell_type": "markdown",
   "id": "578a492c-5007-4066-b4ef-8a7325b97c6b",
   "metadata": {},
   "source": [
    "## Encoding Multiple Features\n",
    "\n",
    "When we talk about encoding multiple features in data visualization, we mean representing more than one variable in a single chart by using different visual encodings such as color, shape, size, position, or multiple axes. We explored this concept in **Question 6**, where we plotted points with the following encodings:  \n",
    "\n",
    "- The $x-$coordinate represented `age`.\n",
    "\n",
    "- The $y-$coordinate represented `fare`.  \n",
    "\n",
    "- Color distinguished between male and female, representing the variable `sex`.  \n",
    "\n",
    "This visualization displayed how `age` and `fare` were distributed while incorporating `sex` as a distinguishing factor.\n",
    "\n",
    "**Example 12.** Create a line chart in the same figure that visualizes trends over time for `aids_deaths_female_adults` and `aids_deaths_male_adults`. Label the axes appropriately, add a title, and include a legend to distinguish between the two groups. Ensure the x-axis represents years correctly and that the trends are clearly displayed."
   ]
  },
  {
   "cell_type": "code",
   "execution_count": null,
   "id": "66468199-27b5-4ebe-b2a3-ee57c9b2885d",
   "metadata": {
    "tags": []
   },
   "outputs": [],
   "source": [
    "# Group the data by year and sum the total AIDS deaths for adult females and males\n",
    "grps = df.groupby('year')[['aids_deaths_female_adults', 'aids_deaths_male_adults']].sum()\n",
    "\n",
    "# Create a line chart to visualize the trends over time\n",
    "grps.plot(kind = 'line');\n",
    "\n",
    "plt.xlabel(\"Year\")\n",
    "plt.ylabel(\"Total Deaths\")\n",
    "plt.title(\"AIDS Deaths by Sex Over Time\")\n",
    "plt.legend(['Female Adults', 'Male Adults'], title = 'AIDS Deaths');"
   ]
  },
  {
   "cell_type": "markdown",
   "id": "eee61f29-5eef-4fd7-be0b-44707dd99220",
   "metadata": {},
   "source": [
    "**Example 13.** Create a stacked bar chart in the same figure that visualizes the distribution of survival status across embarkation towns. Label the axes appropriately, add a title, and include a legend to distinguish between survived and did not survive.\n",
    "\n",
    "1. Create a contingency table\n",
    "\n",
    "   - Use `pd.crosstab()` to count the number of survivors (1) and non-survivors (0) for each embarkation town (`embarked`). **Note:** `margins = True` sums the rows and columns."
   ]
  },
  {
   "cell_type": "code",
   "execution_count": null,
   "id": "fb4a0d02-317e-4d39-a686-c1a7317632e1",
   "metadata": {
    "tags": []
   },
   "outputs": [],
   "source": [
    "# Create a contingency table\n",
    "# Count of survivors and non-survivors by embarkation town\n",
    "tbl = pd.crosstab(titanic['embarked'], titanic['survived'], margins = True)\n",
    "tbl"
   ]
  },
  {
   "cell_type": "markdown",
   "id": "abd32da7-28e4-4d81-b488-012e9a44263b",
   "metadata": {},
   "source": [
    "Since Sothhampton had more passengers its better to look at the proportions."
   ]
  },
  {
   "cell_type": "code",
   "execution_count": null,
   "id": "7538d7c8-257e-4a67-ab87-e235dff0f01b",
   "metadata": {
    "tags": []
   },
   "outputs": [],
   "source": [
    "# Create a contingency table \n",
    "# Proportionn of survivors and non-survivors by embarkation town\n",
    "tbl = pd.crosstab(titanic['embarked'], titanic['survived'], normalize = 'index')\n",
    "tbl"
   ]
  },
  {
   "cell_type": "markdown",
   "id": "0174f974-4095-43be-b8d5-e6fb04cbea9c",
   "metadata": {},
   "source": [
    "2. Plot the stacked bar chart\n",
    "\n",
    "   - Use `tbl.plot(kind = 'bar', stacked = True)` to create a stacked representation."
   ]
  },
  {
   "cell_type": "code",
   "execution_count": null,
   "id": "f0d3709a-7655-4736-aecd-e3598098d02e",
   "metadata": {
    "tags": []
   },
   "outputs": [],
   "source": [
    "# Create stacked bar chart\n",
    "tbl.plot(kind = 'bar', stacked = True, rot = 0)\n",
    "\n",
    "# Add whitespace above bars for the legend\n",
    "plt.ylim(0, 1.5)\n",
    "\n",
    "# Add title, label axes, and label legend\n",
    "plt.xlabel('Embarked Town')\n",
    "plt.ylabel('Proportion of Passengers')\n",
    "plt.title('Survival Status by Embarkation Town')\n",
    "plt.legend(title = 'Survived', labels = ['Did Not Survive', 'Survived']);"
   ]
  },
  {
   "cell_type": "markdown",
   "id": "7bf78f5c-c023-4675-a471-cbbd871e3dba",
   "metadata": {},
   "source": [
    "**Example 14.** Create a side-by-side bar chart in the same figure that visualizes the distribution of survival status across embarkation towns. Label the axes appropriately, add a title, and include a legend to distinguish between survived and did not survive."
   ]
  },
  {
   "cell_type": "code",
   "execution_count": null,
   "id": "f1217141-006a-4560-93ea-49d1783af816",
   "metadata": {
    "tags": []
   },
   "outputs": [],
   "source": [
    "# Create side-by-side bar chart\n",
    "tbl.plot(kind = 'bar', stacked = False, rot = 0)\n",
    "\n",
    "# Add list for bin labels\n",
    "labels = ['Southampton, UK', 'Cherbourg, France', 'Queenstown, Ireland']\n",
    "\n",
    "# Customize x-axis labels\n",
    "plt.xticks(ticks = range(len(labels)), labels = labels, rotation = 0, ha = 'center')\n",
    "\n",
    "# Add title, label axes, and label legend\n",
    "plt.xlabel('')\n",
    "plt.ylabel('Proportion of Passengers')\n",
    "plt.title('Survival Status by Embarkation Town')\n",
    "plt.legend(title = 'Survived', labels = ['Did Not Survive', 'Survived']);"
   ]
  },
  {
   "cell_type": "markdown",
   "id": "2592e386-ea78-4c8b-ac8f-4bde9ade1e2f",
   "metadata": {},
   "source": [
    "**Note:**\n",
    "\n",
    "- This line modifies the x-axis tick labels in Matplotlib.\n",
    "\n",
    "```python\n",
    "plt.xticks(ticks = range(len(labels)), labels = labels, rotation = 0, ha = 'center')\n",
    "```\n",
    "\n",
    "| Parameter                    | Description |\n",
    "|------------------------------|-------------|\n",
    "| `plt.xticks(...)`            | Customizes the $x-$axis tick positions and labels. |\n",
    "| `ticks = range(len(labels))` | Specifies the tick positions (0, 1, 2,) based on the number of labels. |\n",
    "| `labels = labels`            | Assigns custom names. |\n",
    "| `rot = 0`                    | Ensures labels stay horizontal (0-degree rotation). |\n",
    "| `ha = 'center'`              | Aligns labels horizontally centered under each tick mark. |"
   ]
  },
  {
   "cell_type": "markdown",
   "id": "f7f2fb35-e43c-4d11-9320-804fe1cb76d9",
   "metadata": {},
   "source": [
    "## Submission\n",
    "\n",
    "Make sure that all cells in your assignment have been executed to display all output, images, and graphs in the final document.\n",
    "\n",
    "**Note:** Save the assignment before proceeding to download the file.\n",
    "\n",
    "After downloading, locate the `.ipynb` file and upload **only** this file to Moodle. The assignment will be automatically submitted to Gradescope for grading."
   ]
  }
 ],
 "metadata": {
  "kernelspec": {
   "display_name": "Python 3 (ipykernel)",
   "language": "python",
   "name": "python3"
  },
  "language_info": {
   "codemirror_mode": {
    "name": "ipython",
    "version": 3
   },
   "file_extension": ".py",
   "mimetype": "text/x-python",
   "name": "python",
   "nbconvert_exporter": "python",
   "pygments_lexer": "ipython3",
   "version": "3.10.11"
  }
 },
 "nbformat": 4,
 "nbformat_minor": 5
}
