{
 "cells": [
  {
   "cell_type": "markdown",
   "id": "01e385d4-c1ac-4187-87ff-cdc24fd2bbc2",
   "metadata": {
    "tags": []
   },
   "source": [
    "# Run the cell below\n",
    "\n",
    "To run a code cell (i.e.; execute the python code inside a Jupyter notebook) you can click the play button on the ribbon underneath the name of the notebook that looks like ▶| or hold down `Shift` + `Return`.\n",
    "\n",
    "Before you begin run the code cell below."
   ]
  },
  {
   "cell_type": "code",
   "execution_count": null,
   "id": "c40c00b5",
   "metadata": {
    "deletable": false,
    "editable": false
   },
   "outputs": [],
   "source": [
    "# Initialize Otter\n",
    "import otter\n",
    "grader = otter.Notebook(\"dsc201_001_003_a6.ipynb\")"
   ]
  },
  {
   "cell_type": "markdown",
   "id": "1abecfba-7441-46d9-8247-93576ad71a68",
   "metadata": {},
   "source": [
    "## This Week's Assignment\n",
    "\n",
    "In this week's assignment, you'll learn how to:\n",
    "\n",
    "- load data into and `pandas` `DataFrame`.\n",
    "\n",
    "- access and manipulate data that is stored in a `pandas` `DataFrame`.\n",
    "\n",
    "Let's get started!"
   ]
  },
  {
   "cell_type": "markdown",
   "id": "a7f2161a-33d4-45c0-a0cf-114205007ab4",
   "metadata": {},
   "source": [
    "**Name:** \n",
    "\n",
    "**Section:** \n",
    "\n",
    "**Date:**"
   ]
  },
  {
   "cell_type": "markdown",
   "id": "c79a1945-4a4f-4cef-92d5-93da7f34da26",
   "metadata": {},
   "source": [
    "## Python Basics\n",
    "\n",
    "### Built-in Functions\n",
    "\n",
    "- A function that is already available in a programming language/application that can be accessed by end users.\n",
    "\n",
    "- Returns some value based on its arguments.\n",
    "\n",
    "- `print`, `abs`, `max`, `min`, `pow`, `round`, etc."
   ]
  },
  {
   "cell_type": "code",
   "execution_count": null,
   "id": "be73ee8a-dc4e-405b-84f7-14513bd08124",
   "metadata": {},
   "outputs": [],
   "source": [
    "abs(-3)"
   ]
  },
  {
   "cell_type": "code",
   "execution_count": null,
   "id": "7a2923b3-9a76-44db-9bf8-48e767a50055",
   "metadata": {},
   "outputs": [],
   "source": [
    "abs(2-5)"
   ]
  },
  {
   "cell_type": "code",
   "execution_count": null,
   "id": "2f295f4a-a10b-4e87-9c1f-8ff497bcf488",
   "metadata": {},
   "outputs": [],
   "source": [
    "max(3, 10**2, 100.1)"
   ]
  },
  {
   "cell_type": "markdown",
   "id": "b50941d0-1202-49ac-b020-3486b29654dd",
   "metadata": {},
   "source": [
    "### Nesting Functions"
   ]
  },
  {
   "cell_type": "code",
   "execution_count": null,
   "id": "bb85ec52-5e8e-4a14-9376-5037fd116b67",
   "metadata": {},
   "outputs": [],
   "source": [
    "round(abs(1.6002-1.688), 4)"
   ]
  },
  {
   "cell_type": "code",
   "execution_count": null,
   "id": "e112f8c3-47ce-4fac-9072-73303965ee92",
   "metadata": {},
   "outputs": [],
   "source": [
    "1.6002-1.688"
   ]
  },
  {
   "cell_type": "code",
   "execution_count": null,
   "id": "00aa1a93-c023-4fd1-ad0e-6b0ecfb97d32",
   "metadata": {},
   "outputs": [],
   "source": [
    "abs(1.6002-1.688)"
   ]
  },
  {
   "cell_type": "code",
   "execution_count": null,
   "id": "a84fbdc2-388c-4e7e-a998-d1037cefb7e2",
   "metadata": {},
   "outputs": [],
   "source": [
    "round(abs(1.6002-1.688), 4)"
   ]
  },
  {
   "cell_type": "markdown",
   "id": "66bde0f8-6809-4173-a2df-31e4bf8360a9",
   "metadata": {},
   "source": [
    "## `pandas`\n",
    "\n",
    "Pandas is an open source Python package that is most widely used for data science/data analysis and machine learning tasks. It is built on top of another library named `Numpy`, which provides support for arrays. Since we know how to perform operations on `NumPy` arrays we can operate on columns in a `pandas` dataframe. \n",
    "\n",
    "Pandas is a fast, powerful, flexible and (sometimes) easy to use open source data analysis and manipulation tool. Click the `Cheat Sheet` below to access the Data Wrangling with `pandas` [Cheat Sheet](https://pandas.pydata.org/Pandas_Cheat_Sheet.pdf)."
   ]
  },
  {
   "cell_type": "markdown",
   "id": "ea82823d-bccf-4027-a9d6-d800a82d1be9",
   "metadata": {
    "deletable": false,
    "editable": false
   },
   "source": [
    "**Question 1.** Let's import `pandas` as `pd`, then use `pd.read_csv` to read load the `skyscrapers.csv` file into a `pandas` `DataFrame` named `skyscrapers`.\n",
    "\n",
    "**Note:** The `skyscrapers.csv` file is located in the data folder."
   ]
  },
  {
   "cell_type": "code",
   "execution_count": null,
   "id": "4459ed12-ca30-49ed-99d8-9cf602f6dcfa",
   "metadata": {
    "tags": []
   },
   "outputs": [],
   "source": [
    "# Import the pandas module as pd\n",
    "import ... as ...\n",
    "\n",
    "# Read the .csv file\n",
    "skyscrapers = ..."
   ]
  },
  {
   "cell_type": "code",
   "execution_count": null,
   "id": "84c38934",
   "metadata": {
    "deletable": false,
    "editable": false
   },
   "outputs": [],
   "source": [
    "grader.check(\"q1\")"
   ]
  },
  {
   "cell_type": "markdown",
   "id": "bfddf660-fdba-44f8-89e3-43ca705b1dfe",
   "metadata": {
    "deletable": false,
    "editable": false
   },
   "source": [
    "<!-- BEGIN QUESTION -->\n",
    "\n",
    "**Question 2.** Display the first 10 rows of the `skyscrapers` dataframe."
   ]
  },
  {
   "cell_type": "code",
   "execution_count": null,
   "id": "d142ab9f-137a-4d49-8b28-7bf13f702b34",
   "metadata": {
    "tags": []
   },
   "outputs": [],
   "source": [
    "# Display the first 10 rows in the dataframe\n",
    "..."
   ]
  },
  {
   "cell_type": "markdown",
   "id": "42f7f6f2-b48a-4e6d-ad89-23f02482a7aa",
   "metadata": {
    "deletable": false,
    "editable": false
   },
   "source": [
    "<!-- END QUESTION -->\n",
    "\n",
    "### Common `pandas` `DataFrame` Methods\n",
    "\n",
    "- `.head()`\n",
    "- `.shape`\n",
    "- `.info()`\n",
    "- `.describe()`\n",
    "- `.columns`\n",
    "- `.sample`"
   ]
  },
  {
   "cell_type": "markdown",
   "id": "a6e291c1-8e66-4ba6-b4fa-4dbaf5b1e7cf",
   "metadata": {},
   "source": [
    "Apply the method in each **Example** to the `skyscapers` dataframe."
   ]
  },
  {
   "cell_type": "markdown",
   "id": "41d648e6-193b-4829-b56a-c5d196af2523",
   "metadata": {},
   "source": [
    "**Example 1.** `.head()`"
   ]
  },
  {
   "cell_type": "code",
   "execution_count": null,
   "id": "0c1b83f4-1af4-4003-b4e6-bc26ac10db09",
   "metadata": {},
   "outputs": [],
   "source": [
    "# Returns the first 10 rows by default\n",
    "# Can specify the number of rows by\n",
    "# head(<number of rows to return>)\n"
   ]
  },
  {
   "cell_type": "markdown",
   "id": "1d3d1018-284f-4afa-beba-c68ac4174448",
   "metadata": {},
   "source": [
    "**Example 2.** `.shape`"
   ]
  },
  {
   "cell_type": "code",
   "execution_count": null,
   "id": "b73b4d7d-7a0c-441a-b57b-f01a6e42dfa8",
   "metadata": {},
   "outputs": [],
   "source": [
    "# Returns the number of rows and \n",
    "# columns as a tuple\n"
   ]
  },
  {
   "cell_type": "markdown",
   "id": "e2a8ce2e-890e-4e58-b9f9-3a4c770f858e",
   "metadata": {},
   "source": [
    "**Example 3.** `.info()`"
   ]
  },
  {
   "cell_type": "code",
   "execution_count": null,
   "id": "bcf22e85-b1a3-4cfc-9f9b-3c21dff6891b",
   "metadata": {},
   "outputs": [],
   "source": [
    "# Returns information about the dataframe\n"
   ]
  },
  {
   "cell_type": "markdown",
   "id": "6a12c289-e73b-4795-b0d1-115fa67935a3",
   "metadata": {},
   "source": [
    "**Example 4.** `.describe()`"
   ]
  },
  {
   "cell_type": "code",
   "execution_count": null,
   "id": "0d4db36f-8e43-4fd3-9759-a0bba2b4ee63",
   "metadata": {},
   "outputs": [],
   "source": [
    "# Returns basic statistical details\n",
    "# from numerical columns \n"
   ]
  },
  {
   "cell_type": "markdown",
   "id": "47cff086-4c4f-4bd4-bb71-d2479c924e13",
   "metadata": {},
   "source": [
    "**Example 5.** `.columns()`"
   ]
  },
  {
   "cell_type": "code",
   "execution_count": null,
   "id": "50443ad4-124c-4c67-93ac-6895b2068204",
   "metadata": {},
   "outputs": [],
   "source": [
    "# Returns the names of the columns\n"
   ]
  },
  {
   "cell_type": "markdown",
   "id": "6a150d20-2783-4df8-bb1d-0eec83131f5c",
   "metadata": {},
   "source": [
    "**Example 6.** `.sample()`"
   ]
  },
  {
   "cell_type": "code",
   "execution_count": null,
   "id": "326d5878-bf3a-4300-99d1-a454e0148fa2",
   "metadata": {},
   "outputs": [],
   "source": [
    "# Returns one random sample of rows\n",
    "# By defult the sample is without replacement\n",
    "# Can specify the number of rows by\n",
    "# sample(<number of rows to return>)\n"
   ]
  },
  {
   "cell_type": "markdown",
   "id": "6cbf0c51-ee24-4797-9e93-9daa3d7f072a",
   "metadata": {},
   "source": [
    "### Accessing columns from a `pandas` `DataFrame`"
   ]
  },
  {
   "cell_type": "markdown",
   "id": "5e886c74-a66b-4964-8c42-6fbab0be039c",
   "metadata": {
    "deletable": false,
    "editable": false
   },
   "source": [
    "**Question 3.** Access the a `name` column from the `skyscrapers` dataframe and return a `Series` type object."
   ]
  },
  {
   "cell_type": "code",
   "execution_count": null,
   "id": "e004971a-a1c6-4f57-8bf3-a9b9458e42c5",
   "metadata": {
    "tags": []
   },
   "outputs": [],
   "source": [
    "# Returns the values from a column\n",
    "# as a Series\n",
    "..."
   ]
  },
  {
   "cell_type": "markdown",
   "id": "9dd701d7-091f-46e9-a155-c5e2b172796e",
   "metadata": {},
   "source": [
    "## Series\n",
    "\n",
    "A pandas series is a one-dimensional labeled array capable of holding data of any type (integer, string, float, python objects, etc.). \n",
    "\n",
    "**Source:** [Geeks for Geeks](https://www.geeksforgeeks.org/python-pandas-series/)"
   ]
  },
  {
   "cell_type": "markdown",
   "id": "c3ccc2a8-cb02-4d96-90e6-1caa58b9581f",
   "metadata": {
    "deletable": false,
    "editable": false
   },
   "source": [
    "**Question 4.** Access a catergorical column from the `skyscrapers` dataframe and return a `Series` type object. Save this to an object named `cat_column`."
   ]
  },
  {
   "cell_type": "code",
   "execution_count": null,
   "id": "500e43f0-cb63-4356-bd4a-85f9193261ad",
   "metadata": {
    "tags": []
   },
   "outputs": [],
   "source": [
    "# Returns the values from a column\n",
    "# as a Series\n",
    "cat_column = ...\n",
    "cat_column"
   ]
  },
  {
   "cell_type": "code",
   "execution_count": null,
   "id": "b5398356",
   "metadata": {
    "deletable": false,
    "editable": false
   },
   "outputs": [],
   "source": [
    "grader.check(\"q4\")"
   ]
  },
  {
   "cell_type": "markdown",
   "id": "f866c905-887d-4b3b-b439-6b6ce251768d",
   "metadata": {
    "deletable": false,
    "editable": false
   },
   "source": [
    "**Question 5.** Access a numerical column from the `skyscrapers` dataframe and return a `Series` type object. Save this to an object named `num_column`."
   ]
  },
  {
   "cell_type": "code",
   "execution_count": null,
   "id": "442b5ea8-c0c2-41fa-824b-7c84ec42520f",
   "metadata": {
    "tags": []
   },
   "outputs": [],
   "source": [
    "# Returns the values from a column\n",
    "# as a Series\n",
    "num_column = ...\n",
    "num_column"
   ]
  },
  {
   "cell_type": "code",
   "execution_count": null,
   "id": "8a261dc5",
   "metadata": {
    "deletable": false,
    "editable": false
   },
   "outputs": [],
   "source": [
    "grader.check(\"q5\")"
   ]
  },
  {
   "cell_type": "markdown",
   "id": "e61c5157-e582-4ab1-ae8b-5311e16d1541",
   "metadata": {},
   "source": [
    "Since a `Series` is a 1-dimensional `ndarray` with axis labels (including time series), we can use them as parameters for `Numpy` functions.\n",
    "\n",
    "Let's import `Numpy` and see!"
   ]
  },
  {
   "cell_type": "code",
   "execution_count": null,
   "id": "ec4daac6-2f9b-49ad-b59f-bcc531828e62",
   "metadata": {},
   "outputs": [],
   "source": [
    "import numpy as np"
   ]
  },
  {
   "cell_type": "code",
   "execution_count": null,
   "id": "9336749f-5ffc-4441-8834-ed30731a2fe8",
   "metadata": {},
   "outputs": [],
   "source": [
    "# Returns the values from a column\n",
    "# as a Series\n",
    "skyscrapers[\"height\"]"
   ]
  },
  {
   "cell_type": "code",
   "execution_count": null,
   "id": "da4a7301-b0c8-45bd-bacc-35cf826378ef",
   "metadata": {},
   "outputs": [],
   "source": [
    "# Returns the values from a column\n",
    "# as a DataFrame\n",
    "skyscrapers.height"
   ]
  },
  {
   "cell_type": "markdown",
   "id": "1d59080f-5331-46b3-a33a-7f04e5571224",
   "metadata": {
    "deletable": false,
    "editable": false
   },
   "source": [
    "<!-- BEGIN QUESTION -->\n",
    "\n",
    "**Question 6.** What is the average height for all skyscrapers in the dataset."
   ]
  },
  {
   "cell_type": "code",
   "execution_count": null,
   "id": "0be67123-5b58-460e-9da9-6aa14b5b2d55",
   "metadata": {
    "tags": []
   },
   "outputs": [],
   "source": [
    "..."
   ]
  },
  {
   "cell_type": "markdown",
   "id": "a91c4322-1d4a-46de-ba10-a26b961ac405",
   "metadata": {
    "deletable": false,
    "editable": false,
    "tags": []
   },
   "source": [
    "<!-- END QUESTION -->\n",
    "\n",
    "### `Series` Attributes and Methods\n",
    "\n",
    "**Attribute**\n",
    " - An attribute of a Series is a property or characteristic that provides information about the `Series` itself.\n",
    "\n",
    "- Attributes are accessed without parentheses, simply by referencing the attribute name.\n",
    "\n",
    "- They provide metadata, statistics, or information about the Series but do not perform operations or transformations on the data within the `Series`.\n",
    "\n",
    "- Examples of Series attributes include `dtype` (data type of the `Series`), `name` (name of the Series), `index` (index labels), and `shape` (shape of the Series).\n",
    "\n",
    "- Accessing an attribute doesn't require invoking it as a function/method; you access it directly.\n",
    "\n",
    "**Method**\n",
    "- A method of a `Series` is a **function** that performs an operation or computation on the data within the `Series`.\n",
    "\n",
    "- Methods are accessed with parentheses and often accept arguments or parameters to control their behavior.\n",
    "\n",
    "- Methods manipulate or transform the data and return a result based on the operation performed.\n",
    "\n",
    "- Examples of `Series` methods include `.sum()` (calculates the sum of elements), `.mean()` (calculates the mean), `.unique()` (returns unique values), and `.apply()` (applies a custom function to each element).\n",
    "\n",
    "- Accessing a method requires invoking it as a function with parentheses.\n",
    "\n",
    "**Source:** [ChatGPT generated response](https://chat.openai.com/share/5a13dec1-af6c-40aa-93b2-504d2b37b4a0)"
   ]
  },
  {
   "cell_type": "code",
   "execution_count": null,
   "id": "11398092-fd0d-4175-a79e-bd29ef9eb9af",
   "metadata": {},
   "outputs": [],
   "source": [
    "skyscrapers.height.mean"
   ]
  },
  {
   "cell_type": "code",
   "execution_count": null,
   "id": "0a4bae6c-8440-481d-abb4-8fa2ddbe516d",
   "metadata": {},
   "outputs": [],
   "source": [
    "skyscrapers.height.mean()"
   ]
  },
  {
   "cell_type": "markdown",
   "id": "f728fbfb-6983-4213-a79f-5fc49a8f7b98",
   "metadata": {
    "deletable": false,
    "editable": false
   },
   "source": [
    "**Question 7.** What are the unique material types of skyscrapers in the dataset. Save this to an object named `material`."
   ]
  },
  {
   "cell_type": "code",
   "execution_count": null,
   "id": "d64ff9e1-6c9c-4c3e-a4f5-afc49d95ec1a",
   "metadata": {
    "tags": []
   },
   "outputs": [],
   "source": [
    "material = ...\n",
    "material"
   ]
  },
  {
   "cell_type": "code",
   "execution_count": null,
   "id": "9a3448a8",
   "metadata": {
    "deletable": false,
    "editable": false
   },
   "outputs": [],
   "source": [
    "grader.check(\"q7\")"
   ]
  },
  {
   "cell_type": "markdown",
   "id": "90f5f3fc-52e5-4521-b34c-66933c347494",
   "metadata": {},
   "source": [
    "We can also access columns from a pandas dataframe and return a pandas dataframe."
   ]
  },
  {
   "cell_type": "code",
   "execution_count": null,
   "id": "8e68363e-4279-4f06-9410-ef5803c4b3a3",
   "metadata": {},
   "outputs": [],
   "source": [
    "# Returns the values from a column\n",
    "# as a DataFrame\n",
    "skyscrapers[[\"material\"]]"
   ]
  },
  {
   "cell_type": "markdown",
   "id": "c054a468-dca9-4a3f-b097-73d3f62f688b",
   "metadata": {},
   "source": [
    "## Data Moves\n",
    "\n",
    "Data moves is a phrase coined by the authors of the academic paper entitled [\"Data Moves\"](https://escholarship.org/uc/item/0mg8m7g6) by \n",
    "Erickson, Tim;Wilkerson, Michelle;Finzer, William;Reichsman, Frieda (2019).\n",
    "\n",
    "> When novices have access to large, rich datasets, a variety of different questions and interests emerge for them to pursue. Thus no matter how dataare originally structured, novices often need to manipulate the data in order to work effectively (this has been called “data wrangling” in the Information Sciences; e.g., Kandel, et al. 2011). For example, a dataset may require filtering because it contains extraneous information unrelated to the students’ goals. It may need to be merged with other datasets. Or, students may wish to use the available data to create new groupings or construct newmeasures in order to conduct their analysis. Though such actions are common, they are not typically taught as an essential component of data analysis. We call these actions data moves. \n",
    "\n",
    "The core data moves as defined by the authors are:\n",
    "\n",
    "1. filtering\n",
    "\n",
    "1. grouping\n",
    "\n",
    "1. summarizing\n",
    "\n",
    "1. calculating\n",
    "\n",
    "1. merging/joining\n",
    "\n",
    "1. make hierarchy\n",
    "\n",
    "We will learn more about data moves in next week's class. If you are interested in reading the paper click [here](https://escholarship.org/uc/item/0mg8m7g6)."
   ]
  },
  {
   "cell_type": "markdown",
   "id": "87249a41-a431-477c-8f43-9c9b28b56922",
   "metadata": {
    "deletable": false,
    "editable": false
   },
   "source": [
    "<!-- BEGIN QUESTION -->\n",
    "\n",
    "**Question 8.** Write 2 questions that you think can be answered by exploring the `skyscrapers` dataframe. What would you need to do to the dataframe (i.e. _\"data move\"_) in order to answer your question.\n",
    "\n",
    "For example, if my question is \"How many skyscrapers were bulit in each year?\", then I would need to collect all the different years and count how many skyscrapers were built in each year. So, I would need to group by year and count each label for that year. To group by year I would need the year to be a categorical label.\n",
    "\n",
    "**Note:** To earn all the points for this question you do not need know *all* the details required to complete your data move. IF you get stuck ask ChatGPT to explain it to you in plain simple English. IF you use ChatGPT make a note of it in your response. "
   ]
  },
  {
   "cell_type": "markdown",
   "id": "a0e4242c",
   "metadata": {},
   "source": [
    "_Type your answer here, replacing this text._"
   ]
  },
  {
   "cell_type": "markdown",
   "id": "bf422006",
   "metadata": {
    "deletable": false,
    "editable": false
   },
   "source": [
    "<!-- END QUESTION -->\n",
    "\n"
   ]
  },
  {
   "cell_type": "markdown",
   "id": "77cb40b3",
   "metadata": {
    "deletable": false,
    "editable": false
   },
   "source": [
    "## Submission\n",
    "\n",
    "Make sure you have run all cells in your notebook in order before running the cell below, so that all images/graphs appear in the output. The cell below will generate a zip file for you to submit. **Please save before exporting!**\n",
    "\n",
    "When done exporting, download the .zip file by `SHIFT`-clicking on the file name and selecting **Save Link As**. Or, find the .zip file in the left side of the screen and right-click and select **Download**. You'll submit this .zip file for the assignment in Moodle to Gradescope for grading."
   ]
  },
  {
   "cell_type": "code",
   "execution_count": null,
   "id": "3402110c",
   "metadata": {
    "deletable": false,
    "editable": false
   },
   "outputs": [],
   "source": [
    "# Save your notebook first, then run this cell to export your submission.\n",
    "grader.export(pdf=False)"
   ]
  },
  {
   "cell_type": "markdown",
   "id": "ec18f5c8",
   "metadata": {},
   "source": [
    " "
   ]
  }
 ],
 "metadata": {
  "kernelspec": {
   "display_name": "DSC201",
   "language": "python",
   "name": "dsc201"
  },
  "language_info": {
   "codemirror_mode": {
    "name": "ipython",
    "version": 3
   },
   "file_extension": ".py",
   "mimetype": "text/x-python",
   "name": "python",
   "nbconvert_exporter": "python",
   "pygments_lexer": "ipython3",
   "version": "3.11.0"
  },
  "otter": {
   "OK_FORMAT": true,
   "tests": {
    "q1": {
     "name": "q1",
     "points": null,
     "suites": [
      {
       "cases": [
        {
         "code": ">>> skyscrapers.shape[0] + skyscrapers.shape[1] == 1786\nTrue",
         "hidden": false,
         "locked": false
        },
        {
         "code": ">>> skyscrapers.shape[0] + skyscrapers.shape[1] == 1786\nTrue",
         "hidden": false,
         "locked": false
        }
       ],
       "scored": true,
       "setup": "",
       "teardown": "",
       "type": "doctest"
      }
     ]
    },
    "q4": {
     "name": "q4",
     "points": null,
     "suites": [
      {
       "cases": [
        {
         "code": ">>> isinstance(cat_column[0], str)\nTrue",
         "hidden": false,
         "locked": false
        }
       ],
       "scored": true,
       "setup": "",
       "teardown": "",
       "type": "doctest"
      }
     ]
    },
    "q5": {
     "name": "q5",
     "points": null,
     "suites": [
      {
       "cases": [
        {
         "code": ">>> type(num_column[0]) != str\nTrue",
         "hidden": false,
         "locked": false
        }
       ],
       "scored": true,
       "setup": "",
       "teardown": "",
       "type": "doctest"
      }
     ]
    },
    "q7": {
     "name": "q7",
     "points": null,
     "suites": [
      {
       "cases": [
        {
         "code": ">>> len(material)\n3",
         "hidden": false,
         "locked": false
        },
        {
         "code": ">>> 'mixed/composite' in material and 'steel' in material and 'concrete' in material\nTrue",
         "hidden": false,
         "locked": false
        }
       ],
       "scored": true,
       "setup": "",
       "teardown": "",
       "type": "doctest"
      }
     ]
    }
   }
  }
 },
 "nbformat": 4,
 "nbformat_minor": 5
}
