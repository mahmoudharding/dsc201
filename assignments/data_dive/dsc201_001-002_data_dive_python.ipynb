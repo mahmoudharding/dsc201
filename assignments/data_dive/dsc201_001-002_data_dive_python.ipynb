{
 "cells": [
  {
   "cell_type": "markdown",
   "id": "af8ce81c-dd18-4590-9e00-98b66c066f5e",
   "metadata": {},
   "source": [
    "# Data Dive Using Python \n",
    "\n",
    "## Due: See Date in Moodle\n",
    "\n",
    "## Introductuon\n",
    "\n",
    "Before starting any analysis in Python, it’s important to first get to know your dataset. This means checking its overall structure and taking a closer look at the values in each variable. Functions like `.info()`, `.shape`, and `.columns` show how the data is organized, while `.describe()` and `.value_counts()` reveal distributions and category frequencies within variables."
   ]
  },
  {
   "cell_type": "markdown",
   "id": "6329f873-9807-4887-a23a-bddf1fd428ae",
   "metadata": {},
   "source": [
    "**Question 1.** Load the `pandas` module.\n",
    "\n",
    "**Note:** While visualizations are not required for this assignment, you are welcome to include them to support your responses. If you choose to incorporate visualizations, make sure to import the `pyplot` submodule from `matplotlib`."
   ]
  },
  {
   "cell_type": "code",
   "execution_count": null,
   "id": "e18752d0-b3b0-448a-b2fa-ea4a20146d1b",
   "metadata": {
    "tags": []
   },
   "outputs": [],
   "source": [
    "... # YOUR CODE GOES IN PLACE OF THE ELLIPSES"
   ]
  },
  {
   "cell_type": "markdown",
   "id": "e6216a3b-4da6-4f68-84da-b99ec8f0fc50",
   "metadata": {},
   "source": [
    "**Question 2.** Write a brief introduction to your dataset. In your\n",
    "response, describe the unit of observation (what each row in the dataset\n",
    "represents), explain why this dataset was chosen for the project, and\n",
    "include the source of the dataset along with a link to the data sheet.\n",
    "\n",
    "**Notes:**\n",
    "\n",
    "-   You may refer back to the paragraph written for Final Project\n",
    "    Milestone 1: Dataset Approval Request as a starting point.\n",
    "\n",
    "-   Write your paragraph in third person.\n",
    "\n",
    "-   You can create your data sheet in a Google Doc, set the sharing\n",
    "    permissions so that anyone at NC State University can view it, and\n",
    "    then add the link to your work using Markdown. For instructions and\n",
    "    an example of how to create a link in Markdown, see the Links\n",
    "    section of the [Basic Markdown Syntax\n",
    "    Guide](https://www.markdownguide.org/basic-syntax/#links)."
   ]
  },
  {
   "cell_type": "markdown",
   "id": "969bdb3e-04e2-49ce-8f91-8f0c60970c5d",
   "metadata": {},
   "source": [
    "**TYPE YOUR ANSWER HERE REPLACING THIS TEXT**"
   ]
  },
  {
   "cell_type": "markdown",
   "id": "07e41d68-d81d-49ad-b29e-b82ea1bcd181",
   "metadata": {},
   "source": [
    "## Load and Verify Data\n",
    "\n",
    "**Question 3.** Load your dataset into an `pandas` `DataFrame`. Once loaded, display the first 5 rows of the dataframe to preview its contents and ensure it was imported correctly.\n",
    "\n",
    "\n",
    "\n",
    "**Notes:**\n",
    "-   Make sure to upload your dataset to the data folder and read it in from there.\n",
    "- Give your `pandas` `DataFrame` a clear, descriptive name. Follow good programming practice by using all lowercase letters, and separate multiple words with underscores (e.g., `football`, `nfl_scores`)."
   ]
  },
  {
   "cell_type": "code",
   "execution_count": null,
   "id": "981e4f4b-22c5-443b-996e-7e0b70bfac0a",
   "metadata": {
    "tags": []
   },
   "outputs": [],
   "source": [
    "... # YOUR CODE GOES IN PLACE OF THE ELLIPSES"
   ]
  },
  {
   "cell_type": "markdown",
   "id": "030a9830-bb11-4faf-97d0-9f6e0be07851",
   "metadata": {},
   "source": [
    "**Question 4.** List the metadata information about your dataframe."
   ]
  },
  {
   "cell_type": "code",
   "execution_count": null,
   "id": "54cec42f-bb8c-4c51-908f-9bb47e2fba72",
   "metadata": {
    "tags": []
   },
   "outputs": [],
   "source": [
    "... # YOUR CODE GOES IN PLACE OF THE ELLIPSES"
   ]
  },
  {
   "cell_type": "markdown",
   "id": "8e23bcfd-4548-4c1b-b9c0-8d69945bd026",
   "metadata": {},
   "source": [
    "**Question 5.** Interpret the output from Question 4 in a brief\n",
    "paragraph. Highlight key features, such as the number of rows and\n",
    "columns, the data types of the variables, and any other important or\n",
    "interesting characteristics of the dataset.\n",
    "\n",
    "**Note:**\n",
    "\n",
    "-   Write your response in third person."
   ]
  },
  {
   "cell_type": "markdown",
   "id": "932047ed-56fd-4fd9-82c4-e1de9ef8df7b",
   "metadata": {},
   "source": [
    "**TYPE YOUR ANSWER HERE REPLACING THIS TEXT**"
   ]
  },
  {
   "cell_type": "markdown",
   "id": "d058c33a-ad8a-467d-b2f0-9bd8507e1e16",
   "metadata": {},
   "source": [
    "# Data Moves\n",
    "\n",
    "In this part of your assignment, you will select a subset of variables\n",
    "from your dataset for analysis. Next, you will apply specific data moves\n",
    "based on the question you are being asked. After running the analysis,\n",
    "verify that the output is correct and write a brief explanation of the\n",
    "results.\n",
    "\n",
    "For each data move, after the code chunk, write a brief paragraph\n",
    "explaining what the output reveals. Focus on the patterns, trends, or\n",
    "insights you observe and how they deepen your understanding of the data.\n",
    "Avoid directly describing the code or naming specific functions.\n",
    "Instead, keep the emphasis on what you learned from the analysis rather\n",
    "than the technical details.\n",
    "\n",
    "For example, you might write: *“The data was sorted by the \\_\\_\\_\\_\\_\\_\n",
    "column to explore potential relationships between the \\_\\_\\_\\_\\_\\_ and\n",
    "\\_\\_\\_\\_\\_\\_ variables. This revealed that …”* or *“This analysis did not\n",
    "uncover any significant relationships …”*\n",
    "\n",
    "## Selecting\n",
    "\n",
    "**Question 6.** List the two numerical and one categorical variables you used in the **Data Dive Using R** assignment. Then, select two new numerical variables and one new categorical variable for this assignment — all three should be different from the variables you used in the **Data Dive Using R assignment**.\n",
    "\n",
    "**Note:** For this data dive, treat date/year data as categorical.\n",
    "\n",
    "Then write a brief paragraph responding to the following:\n",
    "\n",
    "-   Which variables did you select? Provide the name, description, and\n",
    "    data type for each?\n",
    "-   Why did you select these variables?\n",
    "-   What patterns, trends, or relationships do you expect to discover\n",
    "    from analyzing these variables? Consider how they might interact and\n",
    "    what meaningful information they could reveal."
   ]
  },
  {
   "cell_type": "markdown",
   "id": "3bd3e28b-8fe5-42e4-addc-ea4ed783f143",
   "metadata": {},
   "source": [
    "**TYPE YOUR ANSWER HERE REPLACING THIS TEXT**"
   ]
  },
  {
   "cell_type": "markdown",
   "id": "8a7ef766-67fa-4482-9955-e39de27ad10e",
   "metadata": {},
   "source": [
    "**Question 7.** Use column selection to extract the variables you identified in **Question 6** and store the result in a new `DataFrame` named `df`.\n",
    "\n",
    "**Note:** You do not need to write a paragraph for this question."
   ]
  },
  {
   "cell_type": "markdown",
   "id": "ed8c7f90-217f-4567-9a9b-3d07727bd9e0",
   "metadata": {},
   "source": [
    "## Sorting\n",
    "\n",
    "**Question 8.** Sort the `df` dataframe in both ascending and\n",
    "descending order by the selected numerical variables. Show only the first\n",
    "10 rows for each sorted version. Then, write a brief paragraph\n",
    "interpreting the results from both outputs."
   ]
  },
  {
   "cell_type": "code",
   "execution_count": null,
   "id": "a50c00af-693a-4889-844b-de3cc759d348",
   "metadata": {},
   "outputs": [],
   "source": [
    "... # YOUR CODE GOES IN PLACE OF THE ELLIPSES"
   ]
  },
  {
   "cell_type": "code",
   "execution_count": null,
   "id": "3cc75c4a-ef1c-4317-b4bd-a7a558358e1d",
   "metadata": {},
   "outputs": [],
   "source": [
    "... # YOUR CODE GOES IN PLACE OF THE ELLIPSES"
   ]
  },
  {
   "cell_type": "code",
   "execution_count": null,
   "id": "3320f324-8e6b-4247-ab06-07516b927de0",
   "metadata": {},
   "outputs": [],
   "source": [
    "... # YOUR CODE GOES IN PLACE OF THE ELLIPSES"
   ]
  },
  {
   "cell_type": "code",
   "execution_count": null,
   "id": "ba0d9a12-d446-4a37-855a-8a0ce8e88502",
   "metadata": {},
   "outputs": [],
   "source": [
    "... # YOUR CODE GOES IN PLACE OF THE ELLIPSES"
   ]
  },
  {
   "cell_type": "markdown",
   "id": "fa906049-ec89-4bed-9522-279f1c132598",
   "metadata": {},
   "source": [
    "**TYPE YOUR ANSWER HERE REPLACING THIS TEXT**"
   ]
  },
  {
   "cell_type": "markdown",
   "id": "226a5988-91fa-426f-8443-12dd5a540c7e",
   "metadata": {},
   "source": [
    "## Summarizing\n",
    "\n",
    "**Question 9.** Use `.describe()` to explore the distribution of the numerical columns and `.value_counts()` to explore the distribution of the categorical column. Then write a brief paragraph interpreting the results, addressing the points below.\n",
    "\n",
    "**Numerical Data:**\n",
    "\n",
    "-   Check for outliers (minimum and maximum values).\n",
    "-   Comment on the range and spread of the data.\n",
    "-   Note whether the data is evenly distributed or skewed.\n",
    "-   Count any missing values.\n",
    "\n",
    "**Categorical Data:**\n",
    "\n",
    "-   Report the frequency of each category.\n",
    "-   Identify any dominant categories.\n",
    "-   Explain how category counts might affect your analysis.\n",
    "-   Count any missing values."
   ]
  },
  {
   "cell_type": "code",
   "execution_count": null,
   "id": "9200cf4a-0d92-47cc-aa8a-25e34e5ec391",
   "metadata": {},
   "outputs": [],
   "source": [
    "... # YOUR CODE GOES IN PLACE OF THE ELLIPSES"
   ]
  },
  {
   "cell_type": "code",
   "execution_count": null,
   "id": "39d680c5-a893-40a3-afe3-94b94bfc93df",
   "metadata": {},
   "outputs": [],
   "source": [
    "... # YOUR CODE GOES IN PLACE OF THE ELLIPSES"
   ]
  },
  {
   "cell_type": "markdown",
   "id": "c21528ab-45da-4ada-b2af-ae71f26f6647",
   "metadata": {},
   "source": [
    "**TYPE YOUR ANSWER HERE REPLACING THIS TEXT**"
   ]
  },
  {
   "cell_type": "markdown",
   "id": "2fb6eddd-111e-4284-b715-191ac13cc1b3",
   "metadata": {},
   "source": [
    "## Grouping\n",
    "\n",
    "**Question 10.** Group the data by your selected categorical variable using `.groupby()`, then compute the five-number summary (min, Q1, median, Q3, max) and the mean for your selected numerical variable using aggregation functions. Then write a brief paragraph interpreting the results.\n",
    "\n",
    "When interpreting your results and writing your summary for this\n",
    "section, consider the following:\n",
    "\n",
    "-   Compare the numerical and categorical distributions of the grouped\n",
    "    results to those in the original dataset, highlighting any notable\n",
    "    patterns or differences across groups.\n",
    "-   Evaluate whether the grouping and calculations reveal meaningful\n",
    "    trends or relationships that support further analysis.\n",
    "-   Clearly explain the rationale for the grouping choices, including\n",
    "    the variables used and any assumptions made during the process.\n",
    "    \n",
    "**Note:** Below is a sample code snippet you can follow to complete this task.\n",
    "\n",
    "```python\n",
    "# Group the dataset by the selected categorical variable\n",
    "grps = df.groupby('category_variable')['numeric_variable']\n",
    "\n",
    "# Generate five-number summary and mean\n",
    "grps.describe()  \n",
    "```"
   ]
  },
  {
   "cell_type": "code",
   "execution_count": null,
   "id": "2eeda78e-c786-4e5d-9692-9676d7e59f08",
   "metadata": {},
   "outputs": [],
   "source": [
    "... # YOUR CODE GOES IN PLACE OF THE ELLIPSES"
   ]
  },
  {
   "cell_type": "markdown",
   "id": "fcfdf930-5f67-4552-95dc-e4780c168c8a",
   "metadata": {},
   "source": [
    "**TYPE YOUR ANSWER HERE REPLACING THIS TEXT**"
   ]
  },
  {
   "cell_type": "markdown",
   "id": "fa37bf75-7b1b-4705-b7b4-d442626e6531",
   "metadata": {},
   "source": [
    "## Submission\n",
    "\n",
    "Make sure that all cells in your assignment have been executed to\n",
    "display all output, images, and graphs in the final document.\n",
    "\n",
    "**Note:** Save the assignment before proceeding to knit the file into a\n",
    "`.pdf` document.\n",
    "\n",
    "Once the knitting process is complete, locate the resulting `.pdf`\n",
    "document and upload **only** this file to Moodle. The assignment will be\n",
    "automatically submitted to Gradescope for grading.\n",
    "\n",
    "If you have any questions, please post them on the Moodle discussion\n",
    "board dedicated to this assignment."
   ]
  }
 ],
 "metadata": {
  "kernelspec": {
   "display_name": "Python 3 (ipykernel)",
   "language": "python",
   "name": "python3"
  },
  "language_info": {
   "codemirror_mode": {
    "name": "ipython",
    "version": 3
   },
   "file_extension": ".py",
   "mimetype": "text/x-python",
   "name": "python",
   "nbconvert_exporter": "python",
   "pygments_lexer": "ipython3",
   "version": "3.10.11"
  }
 },
 "nbformat": 4,
 "nbformat_minor": 5
}
