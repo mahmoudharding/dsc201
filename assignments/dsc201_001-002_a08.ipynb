{
 "cells": [
  {
   "cell_type": "markdown",
   "id": "fee5b319-3be6-48c8-93f7-c438ca4d44e3",
   "metadata": {},
   "source": [
    "# Assignment 08\n",
    "\n",
    "## Due: See Date in Moodle\n",
    "\n",
    "To receive a **full credit** for this assignment, you must complete all exercises.\n",
    "\n",
    "## This Week's Assignment\n",
    "\n",
    "In this week's assignment, you will \n",
    "\n",
    "- set up and run simulations.\n",
    "\n",
    "- write user-defined R functions\n",
    "\n",
    "### Notes\n",
    "\n",
    "## Guidelines\n",
    "\n",
    "- Follow good programming practices by using descriptive variable names, maintaining appropriate spacing for readability, and adding comments to clarify your code.\n",
    "\n",
    "- Ensure written responses use correct spelling, complete sentences, and proper grammar.\n",
    "\n",
    "**Name:**\n",
    "\n",
    "**Section:**\n",
    "\n",
    "**Date:**\n",
    "\n",
    "Let's get started!"
   ]
  },
  {
   "cell_type": "markdown",
   "id": "c278616d-77cf-4bea-ab67-7e2281b71857",
   "metadata": {},
   "source": [
    "## Simulation\n",
    "\n",
    "A simulation using programming is a way to create a virtual model of a real-world process, system, or experiment using code. The goal is to replicate how something would behave over time by mimicking its processes, often under varying conditions.\n",
    "\n",
    "The key elements of writing code to perform a simulation include:\n",
    "\n",
    "- replicating outcomes from a real-life scenario.\n",
    "\n",
    "- running multiple trials to observe a range of potential outcomes.\n",
    "\n",
    "- incorporating randomness to capture real-life unpredictability.\n",
    "\n",
    "- generating data for analysis to gain insights or make predictions.\n",
    "\n",
    "\n",
    "### Why use simulations?\n",
    "\n",
    "Simulations allow for experimentation without real-world consequences, making them especially valuable for testing scenarios that would be costly, dangerous, or impractical to conduct physically. They can forecast outcomes under various conditions; for example, businesses might simulate market conditions to predict profits, while epidemiologists use simulations to model disease spread under different interventions."
   ]
  },
  {
   "cell_type": "markdown",
   "id": "c4a9ae37-050d-49cb-9c70-7c1896fc5ee0",
   "metadata": {},
   "source": [
    "## Coin Flip\n",
    "\n",
    "Simulating a coin flip involves using code to mimic the randomness of flipping a coin, where each flip has an equal chance of landing on heads or tails. By running multiple simulated flips, we can observe the distribution of outcomes and calculate the proportion of heads or tails over time. This type of simple simulation is useful for exploring probability concepts, randomness, and how outcomes converge to expected values with repeated trials."
   ]
  },
  {
   "cell_type": "markdown",
   "id": "81f4cd7c-a7de-43cb-a57f-bb8dc3c88c84",
   "metadata": {},
   "source": [
    "**Question 1.** Create a vector named `coin` representing the outcomes `'Heads'` and `'Tails'`."
   ]
  },
  {
   "cell_type": "code",
   "execution_count": null,
   "id": "0bfcc924-90a3-474e-b093-6d229f479b6a",
   "metadata": {
    "tags": []
   },
   "outputs": [],
   "source": [
    "..."
   ]
  },
  {
   "cell_type": "markdown",
   "id": "a85c293a-63c9-4954-b320-1ede7d930970",
   "metadata": {},
   "source": [
    "**Question 2.** Write code to randomly select a single sample from the `coin` vector."
   ]
  },
  {
   "cell_type": "code",
   "execution_count": null,
   "id": "1cdb3609-abd3-4634-badf-3b82e553bd77",
   "metadata": {
    "tags": []
   },
   "outputs": [],
   "source": [
    "..."
   ]
  },
  {
   "cell_type": "markdown",
   "id": "5e0134bc-8669-4834-a558-da000f183d5d",
   "metadata": {
    "tags": []
   },
   "source": [
    "**Question 3.** Write a `for` loop to randomly select a single sample from the `coin` vector, repeating this process 10 times, and printing the result."
   ]
  },
  {
   "cell_type": "code",
   "execution_count": null,
   "id": "391ac30a-4a51-4526-b114-808d129b62a7",
   "metadata": {
    "tags": []
   },
   "outputs": [],
   "source": [
    "..."
   ]
  },
  {
   "cell_type": "markdown",
   "id": "7d96f266-369f-4539-9b35-ef16ebaf2178",
   "metadata": {},
   "source": [
    "### Setting a seed for reproducibility.\n",
    "\n",
    "Setting a seed in programming means initializing the random number generator to start from a specific point. This ensures that any random operations (like sampling or generating random numbers) produce the same results each time the code is run. It's done to make analyses reproducible, so others (or you) can rerun the code and get identical results, which is especially important in research, testing, and debugging."
   ]
  },
  {
   "cell_type": "code",
   "execution_count": null,
   "id": "c75b09d1",
   "metadata": {
    "tags": []
   },
   "outputs": [],
   "source": [
    "## Set seed value\n",
    "s <- ..."
   ]
  },
  {
   "cell_type": "markdown",
   "id": "982c04bf-95d7-46b0-a598-b311f0018b46",
   "metadata": {},
   "source": [
    "Notice that by using the seed we get the same results everytime."
   ]
  },
  {
   "cell_type": "code",
   "execution_count": null,
   "id": "87cd74a3",
   "metadata": {
    "tags": []
   },
   "outputs": [],
   "source": [
    "set.seed(s)\n",
    "\n",
    "for (i in 1:10){\n",
    "    print(sample(coin, 1))\n",
    "}"
   ]
  },
  {
   "cell_type": "markdown",
   "id": "a22079b4-f575-4a3e-9d18-207510855054",
   "metadata": {},
   "source": [
    "What is the expected outcome from flipping a fair coin?"
   ]
  },
  {
   "cell_type": "markdown",
   "id": "a1ed2cef-8f39-444b-aa96-ab6360f722b7",
   "metadata": {},
   "source": [
    "### User-defined Functions in R\n",
    "\n",
    "In R, user-defined functions allow you to create reusable blocks of code for specific tasks. You define a function using the `function` keyword, specifying any inputs (parameters) the function needs to operate. \n",
    "\n",
    "Once created, you can call the function multiple times with different inputs, which is especially helpful for repetitive tasks.\n",
    "\n",
    "For example,\n",
    "\n",
    "```\n",
    "## Define a function to simulate flipping a coin\n",
    "flip_coin <- function() {\n",
    "  \n",
    "  ## Create a vector with \"H\" and \"T\"\n",
    "  coin <- c(\"H\", \"T\")\n",
    "  \n",
    "  ## Randomly sample one outcome from the coin vector\n",
    "  result <- sample(coin, 1)\n",
    "  \n",
    "  ## Return the result\n",
    "  return(result)\n",
    "}\n",
    "```"
   ]
  },
  {
   "cell_type": "code",
   "execution_count": null,
   "id": "22828948-3166-4483-a941-b29942fcfd11",
   "metadata": {
    "tags": []
   },
   "outputs": [],
   "source": [
    "## Define a function to simulate flipping a coin\n",
    "flip_coin <- function() {\n",
    "  \n",
    "  ## Create a vector with \"H\" and \"T\"\n",
    "  coin <- c(\"H\", \"T\")\n",
    "  \n",
    "  ## Randomly sample one outcome from the coin vector\n",
    "  result <- sample(coin, 1)\n",
    "  \n",
    "  ## Return the result\n",
    "  return(result)\n",
    "}"
   ]
  },
  {
   "cell_type": "code",
   "execution_count": null,
   "id": "cbe0aa1c-2ae7-47a2-b1b3-cfeb2f32b976",
   "metadata": {
    "tags": []
   },
   "outputs": [],
   "source": [
    "set.seed(s)\n",
    "\n",
    "trials <- 10 \n",
    "\n",
    "## Test the function by flipping the coin 10 times\n",
    "for (i in 1:trials) {\n",
    "  cat(\"Trial\", i, \":\", flip_coin(), \"\\n\")\n",
    "}"
   ]
  },
  {
   "cell_type": "markdown",
   "id": "36e2f98e-c5f2-4703-99c3-0557d8633730",
   "metadata": {},
   "source": [
    "### Visualizing the Results\n",
    "\n",
    "Our experiment consisted of only 10 trials, so counting the number of \"Heads\" outcomes is straightforward. However, if we increased this to, say, 100,000 trials, manual counting would become impractical. While there are many ways to analyze results, visualizing them often provides an efficient and effective way to gain valuable insights. Currently, our results are simply printed to the screen and not stored, making it difficult to analyze them further. To address this, we need to update our function to return a data structure that allows us to easily adjust the number of trials and visualize the results effectively."
   ]
  },
  {
   "cell_type": "code",
   "execution_count": null,
   "id": "302c2e02-9515-4601-a101-bc8f03e7a382",
   "metadata": {
    "tags": []
   },
   "outputs": [],
   "source": [
    "## Define a function to simulate multiple coin flips\n",
    "flip_coin <- function(num_flips = 1) {\n",
    "  \n",
    "  ## Set seed\n",
    "  set.seed(s)\n",
    "\n",
    "  ## Create a vector with \"H\" and \"T\"\n",
    "  coin <- c(\"H\", \"T\")\n",
    "  \n",
    "  ## Initialize an empty vector to store the results\n",
    "  ## vector(\"character\", num_flips) creates an empty character vector with length n_flips\n",
    "  ## This stores each outcome (either \"H\" or \"T\") for each flip\n",
    "  results <- vector(\"character\", num_flips)\n",
    "  \n",
    "  ## Loop to perform the specified number of flips\n",
    "  for (i in 1:num_flips) {\n",
    "    \n",
    "    ## Randomly sample one outcome from the coin vector and \n",
    "    ## store it in the results vector\n",
    "    results[i] <- sample(coin, 1)\n",
    "  }\n",
    "  \n",
    "  ## Return the vector of results\n",
    "  return(results)\n",
    "}"
   ]
  },
  {
   "cell_type": "code",
   "execution_count": null,
   "id": "b908e527-e3b0-43e7-ac74-a707e1024381",
   "metadata": {
    "tags": []
   },
   "outputs": [],
   "source": [
    "..."
   ]
  },
  {
   "cell_type": "code",
   "execution_count": null,
   "id": "6a3cfc3f",
   "metadata": {
    "tags": []
   },
   "outputs": [],
   "source": [
    "..."
   ]
  },
  {
   "cell_type": "code",
   "execution_count": null,
   "id": "1696b703-c268-493c-8dab-270486fbe6e0",
   "metadata": {
    "tags": []
   },
   "outputs": [],
   "source": [
    "outcomes <- ...\n",
    "outcomes"
   ]
  },
  {
   "cell_type": "markdown",
   "id": "d6d18cd9-6aea-471a-aef0-c37432ef75b5",
   "metadata": {
    "tags": []
   },
   "source": [
    "Now that we have a way to store the outcomes we can visualize the results."
   ]
  },
  {
   "cell_type": "code",
   "execution_count": null,
   "id": "e7e96bb9-a4cc-4f4f-8152-b79f9fc81ba2",
   "metadata": {
    "tags": []
   },
   "outputs": [],
   "source": [
    "## Load the ggplot2 library\n",
    "..."
   ]
  },
  {
   "cell_type": "code",
   "execution_count": null,
   "id": "b624ebcf-17df-4bca-b873-cb7d6fadf378",
   "metadata": {
    "tags": []
   },
   "outputs": [],
   "source": [
    "g <- ggplot(data=as.data.frame(outcomes), aes(x=outcomes))\n",
    "g + geom_bar()"
   ]
  },
  {
   "cell_type": "code",
   "execution_count": null,
   "id": "6fedfd52-4cef-4517-9b2e-f4edcf5c5168",
   "metadata": {
    "tags": []
   },
   "outputs": [],
   "source": [
    "outcomes <- flip_coin(100)\n",
    "\n",
    "g <- ggplot(data=as.data.frame(outcomes), aes(x=outcomes))\n",
    "g + geom_bar()\n",
    "\n",
    "# Calculate the proportion of \"H\" (Heads) in the outcomes vector\n",
    "# sum(outcomes == \"H\") counts the number of \"H\" in the vector\n",
    "# length(outcomes) gives the total number of flips\n",
    "# Dividing gives the proportion of Heads, and round(..., 2) rounds it to 2 decimal places\n",
    "prop_heads <- round(sum(outcomes == \"H\") / length(outcomes), 2)\n",
    "\n",
    "# Calculate the proportion of \"T\" (Tails) by subtracting the proportion of Heads from 1\n",
    "# Since the outcomes are either \"H\" or \"T\", prop_tails is simply 1 - prop_heads\n",
    "prop_tails <- 1 - prop_heads\n",
    "\n",
    "## PRint the proportion results\n",
    "print(paste(\"The proportion of heads is\", prop_heads))\n",
    "print(paste(\"The proportion of tails is\", prop_tails))"
   ]
  },
  {
   "cell_type": "markdown",
   "id": "a2138d3e-b8d8-44b4-8c85-6e81ef1fb9b3",
   "metadata": {},
   "source": [
    "**Question 4.** How did the simulated proportion change as we increased the number of trials?"
   ]
  },
  {
   "cell_type": "markdown",
   "id": "d503225f-50f0-4a82-a98d-a2055c45a12a",
   "metadata": {
    "tags": []
   },
   "source": [
    "**_CLICK HERE TO ENTER YOUR ANSWER, REPLACING THIS TEXT._**"
   ]
  },
  {
   "cell_type": "markdown",
   "id": "7c8e424b-4c06-4136-8429-a4472ec51ab0",
   "metadata": {},
   "source": [
    "## Was the announcer correct?\n",
    "\n",
    "During the 2023-2024 season, the Golden State Warriors faced the Oklahoma City Thunder in a regular season game. With 8.4 seconds left, the Thunder, trailing 115 to 118, were inbounding the ball on their end of the court. The common strategy in such situations, when leading by 3 points, is to foul the player before they attempt a shot, ideally forcing only two free throws instead of a potential three-point attempt. This approach minimizes the risk of the opposing team tying the game.\n",
    "\n",
    "However, Draymond Green of the Warriors fouled Chet Holmgren, an 86.5% free throw shooter for the Thunder, \"in the act of shooting\" from beyond the three-point line. This sent Holmgren to the line with 7.7 seconds remaining, giving him the chance to tie the game.\n",
    "\n",
    "[At 1:45 in the video](https://youtu.be/fsgScuAH4NI?feature=shared), the announcer notes, **_\"In case you're wondering, .86 times .86 times .86 is 63 percent.\"_**"
   ]
  },
  {
   "cell_type": "markdown",
   "id": "08579529-d371-4c00-b8ca-6df9cdc8a81d",
   "metadata": {},
   "source": [
    "**Question 5.** Why do you think the announcer pointed this out?"
   ]
  },
  {
   "cell_type": "markdown",
   "id": "191171f2-b0e9-45df-bf29-4754b2b243d5",
   "metadata": {},
   "source": [
    "**_CLICK HERE TO ENTER YOUR ANSWER, REPLACING THIS TEXT._**"
   ]
  },
  {
   "cell_type": "markdown",
   "id": "b8f85b79-05f4-4508-8790-3ffc5febfb3f",
   "metadata": {},
   "source": [
    "### Simulating a Probability Distribution \n",
    "\n",
    "A probability distribution describes how probabilities are assigned to each possible outcome in a random process, such as rolling a die or flipping a coin. It essentially shows the likelihood of each outcome occurring in an experiment or process.\n",
    "\n",
    "Shooting a free throw is a random process, so we can simulate whether Chet would successfully make all three free throws.\n",
    "\n",
    "**Question 6.** Since Chet has an 86.5% free throw success rate, we need to decide whether he would make 86 or 87 out of 100 free throws. Choose either 86 or 87 and assign it to the variable `make`."
   ]
  },
  {
   "cell_type": "code",
   "execution_count": null,
   "id": "6dfafc79-6f06-44d7-88e1-9b5f877ae9dc",
   "metadata": {
    "tags": []
   },
   "outputs": [],
   "source": [
    "make <- ..."
   ]
  },
  {
   "cell_type": "markdown",
   "id": "869c7d84-d416-463a-9d45-5b326507c1da",
   "metadata": {},
   "source": [
    "Run the code below to create a vector with either 86 or 87 `1`s (representing successful free throws) and 14 or 13 `0`s (representing missed free throws)."
   ]
  },
  {
   "cell_type": "code",
   "execution_count": null,
   "id": "6f85471d-a71c-42df-92a5-cb42d54a3c79",
   "metadata": {
    "tags": []
   },
   "outputs": [],
   "source": [
    "## Calculate the number of missed free throws by \n",
    "## subtracting the made free throws from 100\n",
    "miss <- 100 - make\n",
    "\n",
    "## Create a vector named ft (free throws) with the \n",
    "## specified number of successes (1s) and misses (0s)\n",
    "\n",
    "## rep(1, make) generates a sequence of 'make' 1s, representing successful free throws\n",
    "## rep(0, miss) generates a sequence of 'miss' 0s, representing missed free throws\n",
    "ft <- c(rep(1, make), rep(0, miss))\n",
    "ft"
   ]
  },
  {
   "cell_type": "markdown",
   "id": "7e2951ab-cf72-4527-aa43-35c48f1f2d03",
   "metadata": {},
   "source": [
    "We can use the `ft` vector to randomly draw three values, simulating Chet taking three free throws. For each trial, we tally the number of successful shots (makes). We then store the result from each trial in a vector, repeating this process across multiple trials. Finally, we can visualize the distribution of successful shots and calculate the proportion of times Chet made all three free throws."
   ]
  },
  {
   "cell_type": "code",
   "execution_count": null,
   "id": "4b1c2e43-23a7-4f19-8c9f-8fcea358bf03",
   "metadata": {
    "tags": []
   },
   "outputs": [],
   "source": [
    "## Function to simulate Chet shooting three free throws across multiple trials\n",
    "sim_fts <- function(ft_vector=ft, trials=10) {\n",
    "    \n",
    "  ## Initialize a vector to store the number of makes for each trial\n",
    "  results <- integer(trials)\n",
    "  \n",
    "  ## Loop through each trial\n",
    "  for (i in 1:trials) {\n",
    "    \n",
    "    ## Draw three random values from the ft_vector to simulate three free throws\n",
    "    shots <- sample(ft_vector, 3, replace=TRUE)\n",
    "    \n",
    "    ## Count the number of makes (1s) and store it in the results vector\n",
    "    results[i] <- sum(shots)\n",
    "  }\n",
    "  \n",
    "  ## Return the results vector with the number of makes per trial\n",
    "  return(results)\n",
    "}"
   ]
  },
  {
   "cell_type": "markdown",
   "id": "86844ab4-281b-4051-b78e-7f160603a3d1",
   "metadata": {},
   "source": [
    "**Question 7.** Ask ChatGPT to explain the code \n",
    "\n",
    "```\n",
    "sample(ft_vector, 3, replace = TRUE)\n",
    "```\n",
    "\n",
    "specifically focusing on the `replace = TRUE` parameter. Then, create a Markdown cell below and enter your prompt and ChatGPT’s explanation."
   ]
  },
  {
   "cell_type": "markdown",
   "id": "7cb69d6b-75c5-492c-bee4-2c71764f363b",
   "metadata": {},
   "source": [
    "Run the cell below."
   ]
  },
  {
   "cell_type": "code",
   "execution_count": null,
   "id": "ebd7ef9f-2fe9-41c9-a019-3800097ed554",
   "metadata": {
    "tags": []
   },
   "outputs": [],
   "source": [
    "outcomes <- sim_fts()\n",
    "outcomes"
   ]
  },
  {
   "cell_type": "markdown",
   "id": "0456ab20-02ea-4a8e-94a8-63c607471ca7",
   "metadata": {},
   "source": [
    "**Question 8.** Interpret the output from the previous code cell within the context of the simulation."
   ]
  },
  {
   "cell_type": "markdown",
   "id": "90aa74e5-34c4-4ee3-92f9-4c516cd21e27",
   "metadata": {
    "tags": []
   },
   "source": [
    "**_CLICK HERE TO ENTER YOUR ANSWER, REPLACING THIS TEXT._**"
   ]
  },
  {
   "cell_type": "markdown",
   "id": "efe72aa3-8431-4b28-b123-a81a26207264",
   "metadata": {},
   "source": [
    "Run the cell below."
   ]
  },
  {
   "cell_type": "code",
   "execution_count": null,
   "id": "469e34ea-6de0-48e8-938f-90e368943e5b",
   "metadata": {
    "tags": []
   },
   "outputs": [],
   "source": [
    "outcomes <- sim_fts(trials=1000)\n",
    "\n",
    "g <- ggplot(data=as.data.frame(outcomes), aes(x=outcomes))\n",
    "g + geom_bar()\n",
    "\n",
    "prop_0 <- round(sum(outcomes == 0) / length(outcomes), 2)\n",
    "prop_1 <- round(sum(outcomes == 1) / length(outcomes), 2)\n",
    "prop_2 <- round(sum(outcomes == 2) / length(outcomes), 2)\n",
    "prop_3 <- 1 - (prop_0 + prop_1 + prop_2)\n",
    "\n",
    "print(paste(\"The proportion of trials with 0 made free throws is\", prop_0))\n",
    "print(paste(\"The proportion of trials with 1 made free throw  is\", prop_1))\n",
    "print(paste(\"The proportion of trials with 2 made free throws is\", prop_2))\n",
    "print(paste(\"The proportion of trials with 3 made free throws is\", prop_3))"
   ]
  },
  {
   "cell_type": "markdown",
   "id": "e8760a02-e878-405a-b47f-350a7eccc137",
   "metadata": {},
   "source": [
    "**Question 9.** Interpret the output from the previous code cell within the context of the simulation and the number of trials."
   ]
  },
  {
   "cell_type": "markdown",
   "id": "d0073358-1726-4c54-b218-654d00b0919a",
   "metadata": {},
   "source": [
    "**_CLICK HERE TO ENTER YOUR ANSWER, REPLACING THIS TEXT._**"
   ]
  },
  {
   "cell_type": "markdown",
   "id": "54c798d5-1f13-4240-8daa-4e03c51b109e",
   "metadata": {},
   "source": [
    "**Question 10.** Not all NBA coaches support the strategy of fouling at the end of a game to prevent a three-point attempt. Imagine you are part of the data analytics team, presenting this simulation to the coach. Based on the results from this simulation and the outcome of the Golden State Warriors vs. Oklahoma City Thunder game, would you recommend fouling in this situation? Enter your recommendation in the Markdown cell below.\n",
    "\n",
    "**Note:** Despite Stephen Curry’s extraordinary shooting, Golden State ultimately lost the game in overtime, 136 to 138."
   ]
  },
  {
   "cell_type": "markdown",
   "id": "44f0f835-0a8f-43e0-95b1-24f2ea815b36",
   "metadata": {},
   "source": [
    "**_CLICK HERE TO ENTER YOUR ANSWER, REPLACING THIS TEXT._**"
   ]
  },
  {
   "cell_type": "markdown",
   "id": "902c17c0-af4b-4440-856c-4bc3d73f9c6b",
   "metadata": {},
   "source": [
    "## Submission\n",
    "\n",
    "Make sure that all cells in your assignment have been executed to display all output, images, and graphs in the final document.\n",
    "\n",
    "**Note:** Save the assignment before proceeding to download the file.\n",
    "\n",
    "After downloading, locate the `.ipynb` file and upload **only** this file to Moodle. The assignment will be automatically submitted to Gradescope for grading."
   ]
  }
 ],
 "metadata": {
  "kernelspec": {
   "display_name": "R",
   "language": "R",
   "name": "ir"
  },
  "language_info": {
   "codemirror_mode": "r",
   "file_extension": ".r",
   "mimetype": "text/x-r-source",
   "name": "R",
   "pygments_lexer": "r",
   "version": "4.2.3"
  }
 },
 "nbformat": 4,
 "nbformat_minor": 5
}
