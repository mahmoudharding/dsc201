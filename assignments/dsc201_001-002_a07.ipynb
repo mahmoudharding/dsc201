{
 "cells": [
  {
   "cell_type": "markdown",
   "id": "fee5b319-3be6-48c8-93f7-c438ca4d44e3",
   "metadata": {},
   "source": [
    "# Assignment 08\n",
    "\n",
    "## Due: See Date in Moodle\n",
    "\n",
    "## This Week's Assignment\n",
    "\n",
    "In this week's assignment, you'll learn how to:\n",
    "    \n",
    "- apply a variety of [data moves](https://escholarship.org/uc/item/0mg8m7g6) using functionality from the pandas library.\n",
    "\n",
    "### Notes\n",
    "\n",
    "## Guidelines\n",
    "\n",
    "- Follow good programming practices by using descriptive variable names, maintaining appropriate spacing for readability, and adding comments to clarify your code.\n",
    "\n",
    "- Ensure written responses use correct spelling, complete sentences, and proper grammar.\n",
    "\n",
    "**Name:**\n",
    "\n",
    "**Section:**\n",
    "\n",
    "**Date:**\n",
    "\n",
    "Let's get started!"
   ]
  },
  {
   "cell_type": "markdown",
   "id": "c278616d-77cf-4bea-ab67-7e2281b71857",
   "metadata": {},
   "source": [
    "Before we get started let's summarize the core data moves that we've being using this semester.\n",
    "\n",
    "- _Filtering_ is used for scoping and exploration.\n",
    "\n",
    "- _Grouping_ is fundamental for comparing. \n",
    " \n",
    "- _Summarizing_ creates aggregate measures that describe a group. \n",
    "\n",
    "- _Calculating_ a new attribute involves describing a new idea in terms of other attributes. \n",
    "\n",
    "\n",
    "Other data moves may join this core set of four. For example:\n",
    "\n",
    "- _Merging or joining_ datasets through a relation is a way to add cases or computed attributes from outside the original dataset. \n",
    "\n",
    "- _Sorting_ a dataset can give important insights into patterns in the data, and is an essential element in helping some visualizations communicate more effectively.\n",
    "\n",
    "- _Sampling_ and related processes are important to simulation-based inference. _Sampling_ is related to filtering.\n",
    "\n",
    "Erickson, T., Wilkerson, M., Finzer, W., & Reichsman, F. (2019). Data Moves. Technology Innovations in Statistics Education, 12(1). [http://dx.doi.org/10.5070/T5121038001](http://dx.doi.org/10.5070/T5121038001) Retrieved from [https://escholarship.org/uc/item/0mg8m7g6](https://escholarship.org/uc/item/0mg8m7g6)"
   ]
  },
  {
   "cell_type": "markdown",
   "id": "c4a9ae37-050d-49cb-9c70-7c1896fc5ee0",
   "metadata": {},
   "source": [
    "## Data Moves\n",
    "\n",
    "Now, we will explore specific data moves in further detail, namely, **filtering**, **grouping**, and **summarizing**. While not an exhaustive list, these seem useful to examine as a core set of data moves as we have consistently observed some of these data moves in our own work throughout the semester."
   ]
  },
  {
   "cell_type": "markdown",
   "id": "23fb22b6-5cf3-4162-afad-aa1bf49e2b4a",
   "metadata": {},
   "source": [
    "## United States Broadband Usage Percentages Dataset\n",
    "\n",
    "We are publishing [datasets we developed as part of our efforts with Microsoft’s Airband Initiative to help close the rural broadband gap](https://github.com/microsoft/USBroadbandUsagePercentages?tab=readme-ov-file). The data can be used for the purpose of analyzing, understanding, improving, or addressing problems related to broadband access.\n",
    "\n",
    "The datasets consist of data derived from anonymized data Microsoft collects as part of our ongoing work to improve the performance and security of our software and services. The data does not include any PII information including IP Address. We also suppress any location with less than 20 devices. Other than the aggregated data shared in this data table, no other data is stored during this process. We estimate broadband usage by combining data from multiple Microsoft services. The data from these services are combined with the number of households per county and zip code. Every time a device receives an update or connects to a Microsoft service, we can estimate the throughput speed of a machine. We know the size of the package sent to the computer, and we know the total time of the download. We also determine zip code level location data via reverse IP. Therefore, we can count the number of devices that have connected to the internet at broadband speed per each zip code based on the FCC’s definition of broadband that is 25mbps per download. Using this method, we estimate that ~120.4 million people in the United States are not using the internet at broadband speeds.\n",
    "\n",
    "**by:** *John Kahan - Vice President, Chief Data Analytics Officer | Juan Lavista Ferres - Chief Scientist, Microsoft AI for Good Research Lab*\n",
    "\n",
    "**For more information about this repository visit:** \n",
    "\n",
    "- https://github.com/microsoft/USBroadbandUsagePercentages?tab=readme-ov-file\n",
    "\n",
    "**Additional Information:**\n",
    "\n",
    "- [Understanding the Relationship Between ZIPs and Cities/Counties](https://www.unitedstateszipcodes.org/zip-code-database/matching-to-cities-and-counties/#:~:text=The%20boundaries%20of%20a%20ZIP,are%20used%20in%20common%20conversation.)\n",
    "\n",
    "Before we begin, we need to import the `pandas` library, using the conventional alias."
   ]
  },
  {
   "cell_type": "code",
   "execution_count": 72,
   "id": "0bfcc924-90a3-474e-b093-6d229f479b6a",
   "metadata": {
    "tags": []
   },
   "outputs": [],
   "source": [
    "..."
   ]
  },
  {
   "cell_type": "markdown",
   "id": "45294a22-113b-4d18-885d-edded93a9656",
   "metadata": {},
   "source": [
    "### Initial Exploratory Data Analysis"
   ]
  },
  {
   "cell_type": "code",
   "execution_count": 79,
   "id": "e754b8de-d25b-4772-a4c0-36bd7c260992",
   "metadata": {
    "tags": []
   },
   "outputs": [
    {
     "data": {
      "text/html": [
       "<div>\n",
       "<style scoped>\n",
       "    .dataframe tbody tr th:only-of-type {\n",
       "        vertical-align: middle;\n",
       "    }\n",
       "\n",
       "    .dataframe tbody tr th {\n",
       "        vertical-align: top;\n",
       "    }\n",
       "\n",
       "    .dataframe thead th {\n",
       "        text-align: right;\n",
       "    }\n",
       "</style>\n",
       "<table border=\"1\" class=\"dataframe\">\n",
       "  <thead>\n",
       "    <tr style=\"text-align: right;\">\n",
       "      <th></th>\n",
       "      <th>ST</th>\n",
       "      <th>COUNTY NAME</th>\n",
       "      <th>COUNTY ID</th>\n",
       "      <th>POSTAL CODE</th>\n",
       "      <th>BROADBAND USAGE</th>\n",
       "      <th>ERROR RANGE (MAE)(+/-)</th>\n",
       "      <th>ERROR RANGE (95%)(+/-)</th>\n",
       "      <th>MSD</th>\n",
       "    </tr>\n",
       "  </thead>\n",
       "  <tbody>\n",
       "    <tr>\n",
       "      <th>0</th>\n",
       "      <td>SC</td>\n",
       "      <td>Abbeville</td>\n",
       "      <td>45001</td>\n",
       "      <td>29639</td>\n",
       "      <td>0.948</td>\n",
       "      <td>0.034</td>\n",
       "      <td>0.110</td>\n",
       "      <td>0.002</td>\n",
       "    </tr>\n",
       "    <tr>\n",
       "      <th>1</th>\n",
       "      <td>SC</td>\n",
       "      <td>Abbeville</td>\n",
       "      <td>45001</td>\n",
       "      <td>29620</td>\n",
       "      <td>0.398</td>\n",
       "      <td>0.002</td>\n",
       "      <td>0.007</td>\n",
       "      <td>0.000</td>\n",
       "    </tr>\n",
       "    <tr>\n",
       "      <th>2</th>\n",
       "      <td>SC</td>\n",
       "      <td>Abbeville</td>\n",
       "      <td>45001</td>\n",
       "      <td>29659</td>\n",
       "      <td>0.206</td>\n",
       "      <td>0.152</td>\n",
       "      <td>0.608</td>\n",
       "      <td>0.043</td>\n",
       "    </tr>\n",
       "    <tr>\n",
       "      <th>3</th>\n",
       "      <td>SC</td>\n",
       "      <td>Abbeville</td>\n",
       "      <td>45001</td>\n",
       "      <td>29638</td>\n",
       "      <td>0.369</td>\n",
       "      <td>0.010</td>\n",
       "      <td>0.031</td>\n",
       "      <td>-0.001</td>\n",
       "    </tr>\n",
       "    <tr>\n",
       "      <th>4</th>\n",
       "      <td>SC</td>\n",
       "      <td>Abbeville</td>\n",
       "      <td>45001</td>\n",
       "      <td>29628</td>\n",
       "      <td>0.221</td>\n",
       "      <td>0.014</td>\n",
       "      <td>0.043</td>\n",
       "      <td>0.000</td>\n",
       "    </tr>\n",
       "  </tbody>\n",
       "</table>\n",
       "</div>"
      ],
      "text/plain": [
       "   ST COUNTY NAME  COUNTY ID  POSTAL CODE  BROADBAND USAGE  \\\n",
       "0  SC   Abbeville      45001        29639            0.948   \n",
       "1  SC   Abbeville      45001        29620            0.398   \n",
       "2  SC   Abbeville      45001        29659            0.206   \n",
       "3  SC   Abbeville      45001        29638            0.369   \n",
       "4  SC   Abbeville      45001        29628            0.221   \n",
       "\n",
       "   ERROR RANGE (MAE)(+/-)  ERROR RANGE (95%)(+/-)    MSD  \n",
       "0                   0.034                   0.110  0.002  \n",
       "1                   0.002                   0.007  0.000  \n",
       "2                   0.152                   0.608  0.043  \n",
       "3                   0.010                   0.031 -0.001  \n",
       "4                   0.014                   0.043  0.000  "
      ]
     },
     "execution_count": 79,
     "metadata": {},
     "output_type": "execute_result"
    }
   ],
   "source": [
    "## The + is being used for concatenation, and the \\ is being used for line \n",
    "## continuation.\n",
    "\n",
    "## In Python code, a backslash at the end of a line is used to indicate that the \n",
    "## line of code continues on the next line. This can make your code more readable \n",
    "## by breaking long lines into smaller, more manageable pieces. \n",
    "\n",
    "url = 'https://raw.githubusercontent.com/microsoft/USBroadbandUsagePercentages' + \\\n",
    "      '/master/dataset/broadband_data_zipcode.csv'\n",
    "\n",
    "## Read the dataset from the specified URL into a pandas DataFrame\n",
    "broadband = pd.read_csv(url)\n",
    "\n",
    "## Display the first 5 rows of the dataset\n",
    "broadband.head()"
   ]
  },
  {
   "cell_type": "markdown",
   "id": "a85c293a-63c9-4954-b320-1ede7d930970",
   "metadata": {},
   "source": [
    "**Question 1.** To begin your initial analysis of the `broadband` `DataFrame`, use three different `pandas` `DataFrame` methods to explore the dataset. \n",
    "\n",
    "Add three code cells below to implement each method you choose, and include comments explaining what each method does."
   ]
  },
  {
   "cell_type": "markdown",
   "id": "8c63f070-fdcc-45fc-b103-d5b12b6ab7e2",
   "metadata": {},
   "source": [
    "### Filtering\n",
    "\n",
    "Filtering is used for scoping and exploration. It is conceptually a prerequisite for grouping and sampling.\n",
    "\n",
    "Run the cell below to see all the states that are represented in the dataset."
   ]
  },
  {
   "cell_type": "code",
   "execution_count": 75,
   "id": "b3b8072e-892b-4c93-a65c-0c72b9bc86ef",
   "metadata": {
    "tags": []
   },
   "outputs": [
    {
     "data": {
      "text/plain": [
       "array(['SC', 'LA', 'VA', 'ID', 'IA', 'KY', 'MO', 'OK', 'CO', 'IL', 'IN',\n",
       "       'MS', 'ND', 'NE', 'OH', 'PA', 'WA', 'WI', 'VT', 'MN', 'FL', 'NC',\n",
       "       'CA', 'NY', 'WY', 'MI', 'AK', 'MD', 'KS', 'TN', 'TX', 'ME', 'AZ',\n",
       "       'GA', 'AR', 'NJ', 'SD', 'AL', 'OR', 'WV', 'MA', 'UT', 'MT', 'NH',\n",
       "       'NM', 'RI', 'NV', 'DC', 'CT', 'HI', 'DE'], dtype=object)"
      ]
     },
     "execution_count": 75,
     "metadata": {},
     "output_type": "execute_result"
    }
   ],
   "source": [
    "broadband['ST'].unique()"
   ]
  },
  {
   "cell_type": "markdown",
   "id": "5e0134bc-8669-4834-a558-da000f183d5d",
   "metadata": {
    "tags": []
   },
   "source": [
    "**Question 2.** Start by selecting a state of your choice. Next, filter the `broadband` `DataFrame` to include only the records for that specific state."
   ]
  },
  {
   "cell_type": "markdown",
   "id": "a22079b4-f575-4a3e-9d18-207510855054",
   "metadata": {},
   "source": [
    "**a.** For this parrt, use a Boolean mask to filter the dataset for records that match your chosen state. "
   ]
  },
  {
   "cell_type": "code",
   "execution_count": 3,
   "id": "0fcff859-99b2-476c-a7d8-605195cd58e6",
   "metadata": {
    "tags": []
   },
   "outputs": [
    {
     "data": {
      "text/plain": [
       "Ellipsis"
      ]
     },
     "execution_count": 3,
     "metadata": {},
     "output_type": "execute_result"
    }
   ],
   "source": [
    "..."
   ]
  },
  {
   "cell_type": "code",
   "execution_count": 4,
   "id": "67313365-73f3-4118-b1b4-0331f2df5801",
   "metadata": {
    "tags": []
   },
   "outputs": [
    {
     "data": {
      "text/plain": [
       "Ellipsis"
      ]
     },
     "execution_count": 4,
     "metadata": {},
     "output_type": "execute_result"
    }
   ],
   "source": [
    "..."
   ]
  },
  {
   "cell_type": "markdown",
   "id": "fe70f4d3-5fef-458e-8f68-133c80a7b7e6",
   "metadata": {},
   "source": [
    "**b.** For this part, use the `.query()` `DataFrame` method to filter the dataset for records that match your chosen state. "
   ]
  },
  {
   "cell_type": "code",
   "execution_count": null,
   "id": "b7067277-7140-4257-b8fa-dfb4a5dffd6b",
   "metadata": {
    "tags": []
   },
   "outputs": [],
   "source": [
    "..."
   ]
  },
  {
   "cell_type": "markdown",
   "id": "44973f9c-bf7d-4e64-9203-469ba1fed072",
   "metadata": {},
   "source": [
    "**c.** Finally, save the filtered data into a new `DataFrame`, using the state's two-letter abbreviation as the name for the new `DataFrame`."
   ]
  },
  {
   "cell_type": "code",
   "execution_count": 78,
   "id": "cbf7d180-37f2-43e0-9c7a-78bfad255fe9",
   "metadata": {
    "tags": []
   },
   "outputs": [
    {
     "data": {
      "text/plain": [
       "Ellipsis"
      ]
     },
     "execution_count": 78,
     "metadata": {},
     "output_type": "execute_result"
    }
   ],
   "source": [
    "..."
   ]
  },
  {
   "cell_type": "markdown",
   "id": "a1ed2cef-8f39-444b-aa96-ab6360f722b7",
   "metadata": {},
   "source": [
    "### Unit of Observation\n",
    "\n",
    "Before starting our analysis, it's important to identify the unit of observation. The unit of observation defines the specific entity or element represented by each row in the dataset. Understanding this is key to grasping the data structure and making valid comparisons throughout the analysis.\n",
    "\n",
    "Run the code cell below to take another look at the first few observations."
   ]
  },
  {
   "cell_type": "code",
   "execution_count": 77,
   "id": "cbe0aa1c-2ae7-47a2-b1b3-cfeb2f32b976",
   "metadata": {
    "tags": []
   },
   "outputs": [
    {
     "data": {
      "text/html": [
       "<div>\n",
       "<style scoped>\n",
       "    .dataframe tbody tr th:only-of-type {\n",
       "        vertical-align: middle;\n",
       "    }\n",
       "\n",
       "    .dataframe tbody tr th {\n",
       "        vertical-align: top;\n",
       "    }\n",
       "\n",
       "    .dataframe thead th {\n",
       "        text-align: right;\n",
       "    }\n",
       "</style>\n",
       "<table border=\"1\" class=\"dataframe\">\n",
       "  <thead>\n",
       "    <tr style=\"text-align: right;\">\n",
       "      <th></th>\n",
       "      <th>ST</th>\n",
       "      <th>COUNTY NAME</th>\n",
       "      <th>COUNTY ID</th>\n",
       "      <th>POSTAL CODE</th>\n",
       "      <th>BROADBAND USAGE</th>\n",
       "      <th>ERROR RANGE (MAE)(+/-)</th>\n",
       "      <th>ERROR RANGE (95%)(+/-)</th>\n",
       "      <th>MSD</th>\n",
       "    </tr>\n",
       "  </thead>\n",
       "  <tbody>\n",
       "    <tr>\n",
       "      <th>0</th>\n",
       "      <td>SC</td>\n",
       "      <td>Abbeville</td>\n",
       "      <td>45001</td>\n",
       "      <td>29639</td>\n",
       "      <td>0.948</td>\n",
       "      <td>0.034</td>\n",
       "      <td>0.110</td>\n",
       "      <td>0.002</td>\n",
       "    </tr>\n",
       "    <tr>\n",
       "      <th>1</th>\n",
       "      <td>SC</td>\n",
       "      <td>Abbeville</td>\n",
       "      <td>45001</td>\n",
       "      <td>29620</td>\n",
       "      <td>0.398</td>\n",
       "      <td>0.002</td>\n",
       "      <td>0.007</td>\n",
       "      <td>0.000</td>\n",
       "    </tr>\n",
       "    <tr>\n",
       "      <th>2</th>\n",
       "      <td>SC</td>\n",
       "      <td>Abbeville</td>\n",
       "      <td>45001</td>\n",
       "      <td>29659</td>\n",
       "      <td>0.206</td>\n",
       "      <td>0.152</td>\n",
       "      <td>0.608</td>\n",
       "      <td>0.043</td>\n",
       "    </tr>\n",
       "    <tr>\n",
       "      <th>3</th>\n",
       "      <td>SC</td>\n",
       "      <td>Abbeville</td>\n",
       "      <td>45001</td>\n",
       "      <td>29638</td>\n",
       "      <td>0.369</td>\n",
       "      <td>0.010</td>\n",
       "      <td>0.031</td>\n",
       "      <td>-0.001</td>\n",
       "    </tr>\n",
       "    <tr>\n",
       "      <th>4</th>\n",
       "      <td>SC</td>\n",
       "      <td>Abbeville</td>\n",
       "      <td>45001</td>\n",
       "      <td>29628</td>\n",
       "      <td>0.221</td>\n",
       "      <td>0.014</td>\n",
       "      <td>0.043</td>\n",
       "      <td>0.000</td>\n",
       "    </tr>\n",
       "  </tbody>\n",
       "</table>\n",
       "</div>"
      ],
      "text/plain": [
       "   ST COUNTY NAME  COUNTY ID  POSTAL CODE  BROADBAND USAGE  \\\n",
       "0  SC   Abbeville      45001        29639            0.948   \n",
       "1  SC   Abbeville      45001        29620            0.398   \n",
       "2  SC   Abbeville      45001        29659            0.206   \n",
       "3  SC   Abbeville      45001        29638            0.369   \n",
       "4  SC   Abbeville      45001        29628            0.221   \n",
       "\n",
       "   ERROR RANGE (MAE)(+/-)  ERROR RANGE (95%)(+/-)    MSD  \n",
       "0                   0.034                   0.110  0.002  \n",
       "1                   0.002                   0.007  0.000  \n",
       "2                   0.152                   0.608  0.043  \n",
       "3                   0.010                   0.031 -0.001  \n",
       "4                   0.014                   0.043  0.000  "
      ]
     },
     "execution_count": 77,
     "metadata": {},
     "output_type": "execute_result"
    }
   ],
   "source": [
    "broadband.head()"
   ]
  },
  {
   "cell_type": "markdown",
   "id": "36e2f98e-c5f2-4703-99c3-0557d8633730",
   "metadata": {},
   "source": [
    "**Question 3:** What do you think is the unit of observation in this dataset? Provide a detailed explanation, considering what each row in the dataset represents and how the data is organized. "
   ]
  },
  {
   "cell_type": "markdown",
   "id": "6678b783-6579-411c-8eab-802696b7a971",
   "metadata": {},
   "source": [
    "_TYPE YOUR ANSWER HERE REPLACING THIS TEXT_"
   ]
  },
  {
   "cell_type": "markdown",
   "id": "48eea197-9627-4d58-82fd-62c78061c895",
   "metadata": {},
   "source": [
    "### Summarizing\n",
    "\n",
    "Summarizing creates aggregate measures that describe a group.\n",
    "\n",
    "Suppose you wanted to take a more granular look at a state. To start the analysis, you would need to choose a specific county within the state for a more focused examination.\n",
    "\n",
    "Let's go through this process step-by-step.\n",
    "\n",
    "First, To retrieve and display all the unique counties from the `COUNTY NAME` column in the `DataFrame` use the `.unique()` method. For example, if your dataframe was named `df` you would use the command\n",
    "\n",
    "```python\n",
    "df['COUNTY NAME'].unique()\n",
    "```\n",
    "\n",
    "The `.unique()` function is a `pandas` method that returns the unique values from the specified column. It helps in identifying all the different values present in the column, without having to look at any duplicates. \n",
    "\n",
    "The output is an array-like object that contains the unique counties found in the `COUNTY NAME` column."
   ]
  },
  {
   "cell_type": "markdown",
   "id": "aa09b95c-b7f7-4d2d-b2b2-610ce5f842c2",
   "metadata": {},
   "source": [
    "**Question 4.** Display all the county names in your state specific dataframe. "
   ]
  },
  {
   "cell_type": "code",
   "execution_count": 70,
   "id": "f6e4e748-dba3-4106-b3f7-8b0cc8b0ff83",
   "metadata": {
    "tags": []
   },
   "outputs": [
    {
     "data": {
      "text/plain": [
       "Ellipsis"
      ]
     },
     "execution_count": 70,
     "metadata": {},
     "output_type": "execute_result"
    }
   ],
   "source": [
    "..."
   ]
  },
  {
   "cell_type": "markdown",
   "id": "df5987ad-1ec4-48fc-82d3-603d3c375932",
   "metadata": {},
   "source": [
    "Then select a county and assign its name to a variable named `county`. \n",
    "\n",
    "**Note:** Make sure that the variable's data type matches the data type of the `COUNTY NAME` column in the dataset."
   ]
  },
  {
   "cell_type": "code",
   "execution_count": 58,
   "id": "e7e96bb9-a4cc-4f4f-8152-b79f9fc81ba2",
   "metadata": {
    "tags": []
   },
   "outputs": [],
   "source": [
    "county = ..."
   ]
  },
  {
   "cell_type": "markdown",
   "id": "3e14f2ee-48f6-4426-899a-95aeb76ffddb",
   "metadata": {},
   "source": [
    "**Question 5.** Filter your state-specific `DataFrame` to include only the observations that match the county you selected. Save the filtered data into a new `DataFrame`, using the full name of the county as the variable name. Then display the first 3 observations."
   ]
  },
  {
   "cell_type": "code",
   "execution_count": 64,
   "id": "3eb87129-9c66-440f-843a-69f8179d937f",
   "metadata": {
    "tags": []
   },
   "outputs": [
    {
     "data": {
      "text/html": [
       "<div>\n",
       "<style scoped>\n",
       "    .dataframe tbody tr th:only-of-type {\n",
       "        vertical-align: middle;\n",
       "    }\n",
       "\n",
       "    .dataframe tbody tr th {\n",
       "        vertical-align: top;\n",
       "    }\n",
       "\n",
       "    .dataframe thead th {\n",
       "        text-align: right;\n",
       "    }\n",
       "</style>\n",
       "<table border=\"1\" class=\"dataframe\">\n",
       "  <thead>\n",
       "    <tr style=\"text-align: right;\">\n",
       "      <th></th>\n",
       "      <th>ST</th>\n",
       "      <th>COUNTY NAME</th>\n",
       "      <th>COUNTY ID</th>\n",
       "      <th>POSTAL CODE</th>\n",
       "      <th>BROADBAND USAGE</th>\n",
       "      <th>ERROR RANGE (MAE)(+/-)</th>\n",
       "      <th>ERROR RANGE (95%)(+/-)</th>\n",
       "      <th>MSD</th>\n",
       "    </tr>\n",
       "  </thead>\n",
       "  <tbody>\n",
       "    <tr>\n",
       "      <th>10714</th>\n",
       "      <td>NC</td>\n",
       "      <td>Granville</td>\n",
       "      <td>37077</td>\n",
       "      <td>27509</td>\n",
       "      <td>0.145</td>\n",
       "      <td>0.01</td>\n",
       "      <td>0.031</td>\n",
       "      <td>-0.001</td>\n",
       "    </tr>\n",
       "    <tr>\n",
       "      <th>10715</th>\n",
       "      <td>NC</td>\n",
       "      <td>Granville</td>\n",
       "      <td>37077</td>\n",
       "      <td>27507</td>\n",
       "      <td>0.033</td>\n",
       "      <td>0.02</td>\n",
       "      <td>0.061</td>\n",
       "      <td>0.000</td>\n",
       "    </tr>\n",
       "    <tr>\n",
       "      <th>10716</th>\n",
       "      <td>NC</td>\n",
       "      <td>Granville</td>\n",
       "      <td>37077</td>\n",
       "      <td>27581</td>\n",
       "      <td>0.117</td>\n",
       "      <td>0.01</td>\n",
       "      <td>0.031</td>\n",
       "      <td>-0.001</td>\n",
       "    </tr>\n",
       "  </tbody>\n",
       "</table>\n",
       "</div>"
      ],
      "text/plain": [
       "       ST COUNTY NAME  COUNTY ID  POSTAL CODE  BROADBAND USAGE  \\\n",
       "10714  NC   Granville      37077        27509            0.145   \n",
       "10715  NC   Granville      37077        27507            0.033   \n",
       "10716  NC   Granville      37077        27581            0.117   \n",
       "\n",
       "       ERROR RANGE (MAE)(+/-)  ERROR RANGE (95%)(+/-)    MSD  \n",
       "10714                    0.01                   0.031 -0.001  \n",
       "10715                    0.02                   0.061  0.000  \n",
       "10716                    0.01                   0.031 -0.001  "
      ]
     },
     "execution_count": 64,
     "metadata": {},
     "output_type": "execute_result"
    }
   ],
   "source": [
    "..."
   ]
  },
  {
   "cell_type": "markdown",
   "id": "5a13841d-a9b5-442e-aeb4-f7971b78d393",
   "metadata": {
    "tags": []
   },
   "source": [
    "**Question 6.** Use the `.describe()` method to obtain the five-number summary of **BROADBAND USAGE** for the county you selected.\n",
    "\n",
    "The five-number summary consists of the following:\n",
    "\n",
    "1. **Minimum**: The smallest value in the dataset.\n",
    "\n",
    "1. **First Quartile (Q1)**: The median of the lower half of the dataset (25th percentile).\n",
    "\n",
    "1. **Median (Q2)**: The middle value of the dataset (50th percentile).\n",
    "\n",
    "1. **Third Quartile (Q3)**: The median of the upper half of the dataset (75th percentile).\n",
    "\n",
    "1. **Maximum**: The largest value in the dataset.\n",
    "\n",
    "The `.describe()` method in `pandas` extends beyond the five-number summary by providing additional summary statistics for numerical columns in a `DataFrame`, including the following metrics:\n",
    "\n",
    "\n",
    "1. **Count**: The number of non-null observations.\n",
    "\n",
    "1. **Mean**: The average of the values.\n",
    "\n",
    "1. **Standard Deviation**: A measure of how spread out the values are around the mean.\n",
    "\n",
    "\n",
    "These statistics give a quick overview of the distribution of each numerical column.\n",
    "\n",
    "**Hint:** To display only the five-number summary (i.e., minimum, 25th percentile, median, 75th percentile, and maximum), use the code snippet below as an example, assuming your dataframe is named `df`:\n",
    "\n",
    "```python\n",
    "df['BROADBAND USAGE'].describe()[['min', '25%', '50%', '75%', 'max']]\n",
    "```\n",
    "\n",
    "For a more detailed understanding of how this code works, refer to the explanation below:\n",
    "\n",
    "- The first set of brackets selects the specific column `BROADBAND USAGE` and runs the `.describe()` method on it.\n",
    "\n",
    "```python\n",
    "df['BROADBAND USAGE']\n",
    "```\n",
    "\n",
    "- The second set of brackets is used to select multiple summary statistics (`min`, `25%`, `50%`, `75%`, and `max`), which is passed as a list.\n",
    "\n",
    "    When you use double brackets, you're creating a list of items, which allows you to select multiple columns or multiple statistics. In this case, you're asking for multiple summary statistics (e.g., 'min', '25%', '50%', etc.).\n",
    "\n",
    "```python\n",
    "## Define the list of metrics for the five-number summary\n",
    "## minimum, 25th percentile, median (50th percentile), \n",
    "## 75th percentile, and maximum\n",
    "FiveNumberSummary = ['min', '25%', '50%', '75%', 'max']\n",
    "\n",
    "\n",
    "## Use the .describe() method to calculate summary statistics for \n",
    "## the 'BROADBAND USAGE' column, and select only the five-number \n",
    "## summary metrics defined above\n",
    "df['BROADBAND USAGE'].describe()[FiveNumSummary]\n",
    "```\n",
    "\n"
   ]
  },
  {
   "cell_type": "code",
   "execution_count": 68,
   "id": "6c981ccb",
   "metadata": {
    "tags": []
   },
   "outputs": [
    {
     "data": {
      "text/plain": [
       "min    0.00000\n",
       "25%    0.05400\n",
       "50%    0.13100\n",
       "75%    0.26275\n",
       "max    0.81300\n",
       "Name: BROADBAND USAGE, dtype: float64"
      ]
     },
     "execution_count": 68,
     "metadata": {},
     "output_type": "execute_result"
    }
   ],
   "source": []
  },
  {
   "cell_type": "markdown",
   "id": "60571c92-34cc-4cd9-97ed-8c2ff1096303",
   "metadata": {
    "tags": []
   },
   "source": [
    "This process took several steps to retrieve these values for a single county. But what if you wanted to do this for all the counties?\n",
    "\n",
    "Fortunately, there’s a more efficient way to generate the five-number summary for all counties in your state-specific DataFrame at once."
   ]
  },
  {
   "cell_type": "markdown",
   "id": "2c5e200a-a46c-49b9-9458-effeb730cb07",
   "metadata": {},
   "source": [
    "### Grouping\n",
    "\n",
    "Grouping is fundamental for comparing. \n",
    "\n",
    "**Note:** The `.groupby()` method in `pandas` is a tool for data aggregation, allowing you to split data into groups based on some criteria, apply a function to each group independently, and combine the results into a data structure. To learn more about the `.groupby()` method from ChatGPT click [**here**](https://docs.google.com/document/d/1j5vDYqkDiIug7YJyDUF47ghToEWDK-Nu_W38580Uyb4/edit?usp=sharing)."
   ]
  },
  {
   "cell_type": "markdown",
   "id": "7cb69d6b-75c5-492c-bee4-2c71764f363b",
   "metadata": {},
   "source": [
    "**Question 7.** Use the `.groupby` method to group the state you chose by county name. Save the output to an object named `grps`.\n",
    "\n",
    "**Note:** For details on how to complete this question refer to my conversation with ChatGPT by clicking [**here**](https://docs.google.com/document/d/1j5vDYqkDiIug7YJyDUF47ghToEWDK-Nu_W38580Uyb4/edit?tab=t.0#heading=h.tvnagbf06rvt) for help on unsing `.groupby`"
   ]
  },
  {
   "cell_type": "code",
   "execution_count": null,
   "id": "02a863f7-0454-42c2-917e-bc70a643ba9e",
   "metadata": {
    "tags": []
   },
   "outputs": [],
   "source": [
    "grps = ..."
   ]
  },
  {
   "cell_type": "markdown",
   "id": "6a241519-708e-4620-bd25-1050fb1d6734",
   "metadata": {},
   "source": [
    "**Question 8.** Print a list of the keys from your `grps` `GroupBy` object. Then, use one of these keys to select and retrieve the corresponding `DataFrame` from the `grps` object.\n",
    "\n",
    "**Note:** For details on how to complete this question refer to my conversation with ChatGPT by clicking [**here**](https://docs.google.com/document/d/1j5vDYqkDiIug7YJyDUF47ghToEWDK-Nu_W38580Uyb4/edit?tab=t.0#heading=h.4tfhw755neyp) for help on accessing the keys and [**here**](https://docs.google.com/document/d/1j5vDYqkDiIug7YJyDUF47ghToEWDK-Nu_W38580Uyb4/edit?tab=t.0#heading=h.kn29blr6zbk9) for help on retrieving the corresponding `DataFrame`."
   ]
  },
  {
   "cell_type": "code",
   "execution_count": null,
   "id": "26509f00-d781-4442-b5c1-a09017d8834e",
   "metadata": {
    "tags": []
   },
   "outputs": [],
   "source": [
    "..."
   ]
  },
  {
   "cell_type": "markdown",
   "id": "efe72aa3-8431-4b28-b123-a81a26207264",
   "metadata": {},
   "source": [
    "There are probably many counties in the state you've chosen. To analyze the differences between the largest and smallest counties, we'll define county size based on the number of zip codes for this analysis.\n",
    "\n",
    "Rather than filtering each county and saving them to separate dataframes to count the rows with the `.shape` method, we can explore a more efficient solution with ChatGPT’s help. \n",
    "\n",
    "Initiate a conversation in ChatGPT and enter the following prompt.\n",
    "\n",
    "    \"how can I choose the largest dataframe group in a groupby object\" \n",
    "    \n",
    "Then add this in the following prompt\n",
    "\n",
    "    \"give me the code with detailed comments explaining each step\"\n",
    "    \n",
    "to extend the conversation to get a better response."
   ]
  },
  {
   "cell_type": "markdown",
   "id": "27b83b39-c2fb-4137-ba02-71f7f9ba1ed7",
   "metadata": {},
   "source": [
    "**Question 9.** Insert a markdown cell below this question, then enter the code that was provided by ChatGPT as text in the cell."
   ]
  },
  {
   "cell_type": "markdown",
   "id": "8f8b4e53-b85a-4703-9a9a-be400e4a1fc3",
   "metadata": {},
   "source": [
    "**Question 10.** Choose the largest county from you your `grps` object. Save it to an object named `largest_county` and display the first 3 rows. Choose the smallest county from you your `grps` object. Save it to an object named `smallest_county` and display the first 3 rows."
   ]
  },
  {
   "cell_type": "code",
   "execution_count": null,
   "id": "469e34ea-6de0-48e8-938f-90e368943e5b",
   "metadata": {},
   "outputs": [],
   "source": [
    "..."
   ]
  },
  {
   "cell_type": "markdown",
   "id": "122f7b9c-3cdb-41c6-b339-977a08bc25c1",
   "metadata": {},
   "source": [
    "## Submission\n",
    "\n",
    "Make sure that all cells in your assignment have been executed to display all output, images, and graphs in the final document.\n",
    "\n",
    "**Note:** Save the assignment before proceeding to download the file.\n",
    "\n",
    "After downloading, locate the `.ipynb` file and upload **only** this file to Moodle. The assignment will be automatically submitted to Gradescope for grading."
   ]
  }
 ],
 "metadata": {
  "kernelspec": {
   "display_name": "Python 3 (ipykernel)",
   "language": "python",
   "name": "python3"
  },
  "language_info": {
   "codemirror_mode": {
    "name": "ipython",
    "version": 3
   },
   "file_extension": ".py",
   "mimetype": "text/x-python",
   "name": "python",
   "nbconvert_exporter": "python",
   "pygments_lexer": "ipython3",
   "version": "3.10.11"
  }
 },
 "nbformat": 4,
 "nbformat_minor": 5
}
